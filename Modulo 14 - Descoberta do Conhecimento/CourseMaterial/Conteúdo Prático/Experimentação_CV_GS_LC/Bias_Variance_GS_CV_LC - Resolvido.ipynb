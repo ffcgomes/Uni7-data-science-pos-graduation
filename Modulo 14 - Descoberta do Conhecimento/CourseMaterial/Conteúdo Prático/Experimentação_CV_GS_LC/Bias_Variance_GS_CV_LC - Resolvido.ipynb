{
 "cells": [
  {
   "cell_type": "markdown",
   "metadata": {},
   "source": [
    "#### Com base no exemplo do titanic iremos realizar alguns experimentos\n",
    "   - Importe as bibliotecas necessárias"
   ]
  },
  {
   "cell_type": "code",
   "execution_count": 1,
   "metadata": {},
   "outputs": [],
   "source": [
    "import pandas as pd\n",
    "import numpy as np\n",
    "import matplotlib.pyplot as plt\n",
    "import seaborn as sns\n",
    "import warnings\n",
    "warnings.filterwarnings('ignore')"
   ]
  },
  {
   "cell_type": "code",
   "execution_count": 2,
   "metadata": {},
   "outputs": [],
   "source": [
    "train = pd.read_csv(\"titanic_ready_to_ml.csv\")"
   ]
  },
  {
   "cell_type": "markdown",
   "metadata": {},
   "source": [
    "#### Considere os seguintes algoritmos\n",
    "   - Importe a classe [DecisionTreeClassifier](https://scikit-learn.org/stable/modules/generated/sklearn.tree.DecisionTreeClassifier.html), [RandomForestClassifier](https://scikit-learn.org/stable/modules/generated/sklearn.ensemble.RandomForestClassifier.html) e [KNN Classifier](https://scikit-learn.org/stable/modules/generated/sklearn.neighbors.KNeighborsClassifier.html) do Sklearn"
   ]
  },
  {
   "cell_type": "code",
   "execution_count": 3,
   "metadata": {},
   "outputs": [],
   "source": [
    "from sklearn.tree import DecisionTreeClassifier\n",
    "from sklearn.ensemble import RandomForestClassifier\n",
    "from sklearn.neighbors import KNeighborsClassifier"
   ]
  },
  {
   "cell_type": "markdown",
   "metadata": {},
   "source": [
    "#### Realize o processo de treinamento e predição para o problema selecionado considerando um dos modelos sugeridos acima"
   ]
  },
  {
   "cell_type": "markdown",
   "metadata": {},
   "source": [
    "- **Resposta:** Escolhendo a primeira solução candidata, um simples algoritmo de árvore de decisão"
   ]
  },
  {
   "cell_type": "code",
   "execution_count": 4,
   "metadata": {},
   "outputs": [],
   "source": [
    "from sklearn.model_selection import train_test_split\n",
    "from sklearn.metrics import classification_report, confusion_matrix, f1_score"
   ]
  },
  {
   "cell_type": "code",
   "execution_count": 5,
   "metadata": {},
   "outputs": [],
   "source": [
    "RANDOM_STATE=16"
   ]
  },
  {
   "cell_type": "code",
   "execution_count": 6,
   "metadata": {},
   "outputs": [],
   "source": [
    "X_train, X_test, y_train, y_test = train_test_split(train.drop(['Survived'], axis=1), \n",
    "                                                   train['Survived'], test_size=0.30, \n",
    "                                                    random_state=RANDOM_STATE)"
   ]
  },
  {
   "cell_type": "code",
   "execution_count": 7,
   "metadata": {},
   "outputs": [],
   "source": [
    "dtc = DecisionTreeClassifier(random_state=RANDOM_STATE)"
   ]
  },
  {
   "cell_type": "code",
   "execution_count": 8,
   "metadata": {},
   "outputs": [
    {
     "data": {
      "text/plain": [
       "DecisionTreeClassifier(ccp_alpha=0.0, class_weight=None, criterion='gini',\n",
       "                       max_depth=None, max_features=None, max_leaf_nodes=None,\n",
       "                       min_impurity_decrease=0.0, min_impurity_split=None,\n",
       "                       min_samples_leaf=1, min_samples_split=2,\n",
       "                       min_weight_fraction_leaf=0.0, presort='deprecated',\n",
       "                       random_state=16, splitter='best')"
      ]
     },
     "execution_count": 8,
     "metadata": {},
     "output_type": "execute_result"
    }
   ],
   "source": [
    "dtc.fit(X_train, y_train) #Treinando o modelo"
   ]
  },
  {
   "cell_type": "code",
   "execution_count": 9,
   "metadata": {},
   "outputs": [],
   "source": [
    "predictions = dtc.predict(X_test) #Realizando predições"
   ]
  },
  {
   "cell_type": "code",
   "execution_count": 10,
   "metadata": {},
   "outputs": [
    {
     "name": "stdout",
     "output_type": "stream",
     "text": [
      "              precision    recall  f1-score   support\n",
      "\n",
      "           0       0.79      0.86      0.82       153\n",
      "           1       0.78      0.70      0.74       114\n",
      "\n",
      "    accuracy                           0.79       267\n",
      "   macro avg       0.79      0.78      0.78       267\n",
      "weighted avg       0.79      0.79      0.79       267\n",
      "\n"
     ]
    }
   ],
   "source": [
    "print(classification_report(y_test,predictions))"
   ]
  },
  {
   "cell_type": "markdown",
   "metadata": {},
   "source": [
    "### PARTE I - Grid Search e Cross Validation"
   ]
  },
  {
   "cell_type": "markdown",
   "metadata": {},
   "source": [
    "Aplique apenas [CV](https://scikit-learn.org/stable/modules/generated/sklearn.model_selection.cross_val_score.html#sklearn.model_selection.cross_val_score) e verifique se a métrica de avaliação considerada ainda permanece a mesma."
   ]
  },
  {
   "cell_type": "code",
   "execution_count": 11,
   "metadata": {},
   "outputs": [
    {
     "name": "stdout",
     "output_type": "stream",
     "text": [
      "New F1-Score [0.81056    0.809108   0.79885278 0.7642757  0.71704382]\n",
      "New F1-Score 0.7799680597983611\n"
     ]
    }
   ],
   "source": [
    "from sklearn.model_selection import cross_val_score\n",
    "scores = cross_val_score(estimator=dtc, X=X_train, y=y_train, scoring='f1_weighted', cv=5)\n",
    "print('New F1-Score', scores)\n",
    "print('New F1-Score', scores.mean())"
   ]
  },
  {
   "cell_type": "markdown",
   "metadata": {},
   "source": [
    "- **Resposta:** A métrica F1 é diminuída em 1% após o processo de cross-validation"
   ]
  },
  {
   "cell_type": "markdown",
   "metadata": {},
   "source": [
    "Selecione dois hiperparâmetros, discuta a importância destes com seu colega"
   ]
  },
  {
   "cell_type": "markdown",
   "metadata": {},
   "source": [
    "- **Resposta:** Os paramêtros selecionados são: profundidade da árvore e número mínimo de amostras para realizar split de um nó ambos paramêtros contruibuem para o overfitting do modelo. Quanto mais profunda a árvore mais específico será o resultado para os dados treinados, esse mesmo comportamento acontece para valores muito baixo de **min_samples_split**"
   ]
  },
  {
   "cell_type": "markdown",
   "metadata": {},
   "source": [
    "Defina variações destes hiperparâmetros e aplique o processo de [Grid Search](https://scikit-learn.org/stable/modules/generated/sklearn.model_selection.GridSearchCV.html)"
   ]
  },
  {
   "cell_type": "code",
   "execution_count": 12,
   "metadata": {},
   "outputs": [],
   "source": [
    "from sklearn.model_selection import GridSearchCV"
   ]
  },
  {
   "cell_type": "code",
   "execution_count": 13,
   "metadata": {},
   "outputs": [
    {
     "data": {
      "text/plain": [
       "DecisionTreeClassifier(ccp_alpha=0.0, class_weight=None, criterion='gini',\n",
       "                       max_depth=10, max_features=None, max_leaf_nodes=None,\n",
       "                       min_impurity_decrease=0.0, min_impurity_split=None,\n",
       "                       min_samples_leaf=7, min_samples_split=3,\n",
       "                       min_weight_fraction_leaf=0.0, presort='deprecated',\n",
       "                       random_state=16, splitter='best')"
      ]
     },
     "execution_count": 13,
     "metadata": {},
     "output_type": "execute_result"
    }
   ],
   "source": [
    "parameters = {'min_samples_leaf':[3,5,7,10], \n",
    "              'min_samples_split':[3,5,7,10], \n",
    "              'max_depth':[6,10,15,20], \n",
    "              'random_state': [RANDOM_STATE]}\n",
    "gsc = GridSearchCV(dtc, parameters, cv=5, scoring='f1')\n",
    "gsc.fit(X_train, y_train)\n",
    "best_estimator = gsc.best_estimator_\n",
    "best_estimator"
   ]
  },
  {
   "cell_type": "code",
   "execution_count": 15,
   "metadata": {},
   "outputs": [],
   "source": [
    "parameters = {'min_samples_leaf':[3,5,7,10], \n",
    "              'min_samples_split':[3,5,7,10], \n",
    "              'max_depth':[6,10,15,20], \n",
    "              'random_state': [RANDOM_STATE]}\n",
    "gsc = GridSearchCV(dtc, parameters, cv=5, scoring='f1')\n",
    "model = gsc.fit(X_train, y_train)\n",
    "best_estimator = model.best_estimator_"
   ]
  },
  {
   "cell_type": "code",
   "execution_count": 19,
   "metadata": {},
   "outputs": [
    {
     "data": {
      "text/plain": [
       "sklearn.model_selection._search.GridSearchCV"
      ]
     },
     "execution_count": 19,
     "metadata": {},
     "output_type": "execute_result"
    }
   ],
   "source": [
    "type(model)"
   ]
  },
  {
   "cell_type": "code",
   "execution_count": 20,
   "metadata": {},
   "outputs": [
    {
     "data": {
      "text/plain": [
       "sklearn.tree._classes.DecisionTreeClassifier"
      ]
     },
     "execution_count": 20,
     "metadata": {},
     "output_type": "execute_result"
    }
   ],
   "source": [
    "type(best_estimator)"
   ]
  },
  {
   "cell_type": "code",
   "execution_count": 21,
   "metadata": {},
   "outputs": [
    {
     "data": {
      "text/plain": [
       "DecisionTreeClassifier(ccp_alpha=0.0, class_weight=None, criterion='gini',\n",
       "                       max_depth=10, max_features=None, max_leaf_nodes=None,\n",
       "                       min_impurity_decrease=0.0, min_impurity_split=None,\n",
       "                       min_samples_leaf=7, min_samples_split=3,\n",
       "                       min_weight_fraction_leaf=0.0, presort='deprecated',\n",
       "                       random_state=16, splitter='best')"
      ]
     },
     "execution_count": 21,
     "metadata": {},
     "output_type": "execute_result"
    }
   ],
   "source": [
    "best_estimator"
   ]
  },
  {
   "cell_type": "code",
   "execution_count": 22,
   "metadata": {},
   "outputs": [
    {
     "data": {
      "text/plain": [
       "{'mean_fit_time': array([0.00356836, 0.00365672, 0.00340424, 0.00311623, 0.00290189,\n",
       "        0.0025815 , 0.00242386, 0.00247917, 0.00249362, 0.00280366,\n",
       "        0.0024199 , 0.00241137, 0.00237875, 0.00233254, 0.00254631,\n",
       "        0.00295243, 0.00291739, 0.00269718, 0.002636  , 0.00256891,\n",
       "        0.00252633, 0.00273104, 0.00277796, 0.00252767, 0.00245223,\n",
       "        0.00244431, 0.00250874, 0.00255508, 0.00275235, 0.00256734,\n",
       "        0.00237546, 0.00244107, 0.0026525 , 0.00271354, 0.00279102,\n",
       "        0.00262499, 0.0025805 , 0.00253296, 0.00259786, 0.00259829,\n",
       "        0.00248303, 0.00278635, 0.00274377, 0.00254979, 0.00234957,\n",
       "        0.00237355, 0.00240984, 0.00245237, 0.00316143, 0.00303903,\n",
       "        0.00259786, 0.00261908, 0.0025219 , 0.0026248 , 0.002811  ,\n",
       "        0.00255432, 0.00250769, 0.00247936, 0.00256195, 0.00249681,\n",
       "        0.00248652, 0.00256286, 0.0024076 , 0.00274734]),\n",
       " 'std_fit_time': array([3.43344125e-04, 7.11765366e-04, 5.93739443e-04, 2.84993989e-04,\n",
       "        8.69146878e-05, 1.71144462e-04, 6.41551747e-05, 1.26184537e-04,\n",
       "        1.52349659e-04, 6.78208626e-05, 7.93711743e-05, 1.24721588e-04,\n",
       "        4.20802781e-05, 2.38693079e-05, 2.46754084e-04, 1.35227403e-04,\n",
       "        1.83768339e-04, 3.50770048e-05, 4.98000199e-05, 2.49059675e-05,\n",
       "        7.01677503e-05, 1.38866852e-04, 2.51027189e-04, 7.80612284e-05,\n",
       "        3.18081481e-05, 4.57391985e-05, 1.84287537e-05, 1.06041701e-04,\n",
       "        4.07068076e-04, 1.69812913e-04, 3.92910925e-05, 4.72017247e-05,\n",
       "        4.43239568e-05, 8.05591789e-05, 9.40122399e-05, 8.58255226e-05,\n",
       "        8.90757593e-05, 5.79873981e-05, 6.50381063e-05, 1.03434762e-04,\n",
       "        8.15719962e-05, 2.26126940e-04, 2.13578041e-04, 1.10627310e-04,\n",
       "        5.36153292e-05, 7.84601602e-05, 6.77267580e-05, 6.39849018e-05,\n",
       "        1.20092174e-04, 2.06012283e-04, 2.90594595e-05, 4.03769871e-05,\n",
       "        6.67249397e-05, 1.35061833e-04, 1.25231128e-04, 3.94305985e-05,\n",
       "        5.40917061e-05, 8.73861044e-05, 9.18243522e-05, 5.34884205e-05,\n",
       "        1.13346449e-04, 2.18266947e-04, 4.43177493e-05, 1.55636420e-04]),\n",
       " 'mean_score_time': array([0.00174789, 0.00165882, 0.00166931, 0.0013989 , 0.00149698,\n",
       "        0.00123825, 0.00114117, 0.00116696, 0.0011858 , 0.00137529,\n",
       "        0.00115862, 0.00115252, 0.0011529 , 0.00118709, 0.00129385,\n",
       "        0.00144916, 0.00127258, 0.00116863, 0.00116587, 0.00114393,\n",
       "        0.00116529, 0.00125747, 0.00121021, 0.00116653, 0.00113797,\n",
       "        0.00115495, 0.00116639, 0.00119343, 0.00130525, 0.00120163,\n",
       "        0.00116973, 0.00117211, 0.00114017, 0.00117168, 0.00121226,\n",
       "        0.00115161, 0.00114923, 0.0011384 , 0.00118351, 0.00117869,\n",
       "        0.00115852, 0.00142484, 0.00122871, 0.00115132, 0.00111871,\n",
       "        0.00115275, 0.00120678, 0.00114889, 0.00137215, 0.00129886,\n",
       "        0.00112295, 0.00114474, 0.00113478, 0.00126538, 0.00124092,\n",
       "        0.00117097, 0.00119305, 0.00118299, 0.00120263, 0.00116477,\n",
       "        0.00122247, 0.00118046, 0.00115204, 0.00133381]),\n",
       " 'std_score_time': array([9.42495392e-05, 1.37929514e-04, 2.51895907e-04, 5.59613862e-05,\n",
       "        1.26056879e-04, 6.59839258e-05, 2.18100750e-05, 3.16846003e-05,\n",
       "        5.80063338e-05, 4.59945466e-05, 1.77205160e-05, 2.75886458e-05,\n",
       "        6.29099849e-06, 8.99951028e-05, 1.65399229e-04, 8.04197424e-05,\n",
       "        5.69648996e-05, 2.29192563e-05, 2.36248632e-05, 2.43219673e-05,\n",
       "        6.42882955e-05, 7.52047031e-05, 7.54544142e-05, 4.60826541e-05,\n",
       "        1.01242310e-05, 4.55621336e-05, 4.66407682e-05, 4.39220088e-05,\n",
       "        7.50900592e-05, 8.16510364e-05, 5.07302748e-05, 4.82196257e-05,\n",
       "        1.71564658e-05, 2.23272857e-05, 4.70475678e-05, 3.07378420e-05,\n",
       "        1.14554111e-05, 9.38945520e-06, 4.96751275e-05, 4.79040776e-05,\n",
       "        2.09843026e-05, 2.55706984e-04, 9.77377300e-05, 1.68776106e-05,\n",
       "        8.67450541e-06, 3.94805618e-05, 7.05940624e-05, 2.03137107e-05,\n",
       "        5.88169309e-05, 9.70415048e-05, 2.48285221e-05, 1.94451363e-05,\n",
       "        3.58715311e-05, 1.03925628e-04, 5.41873349e-05, 2.81154446e-05,\n",
       "        5.76590577e-05, 4.76788041e-05, 4.87544484e-05, 5.29019828e-05,\n",
       "        8.26706376e-05, 9.04740425e-05, 1.65325707e-05, 6.96721913e-05]),\n",
       " 'param_max_depth': masked_array(data=[6, 6, 6, 6, 6, 6, 6, 6, 6, 6, 6, 6, 6, 6, 6, 6, 10, 10,\n",
       "                    10, 10, 10, 10, 10, 10, 10, 10, 10, 10, 10, 10, 10, 10,\n",
       "                    15, 15, 15, 15, 15, 15, 15, 15, 15, 15, 15, 15, 15, 15,\n",
       "                    15, 15, 20, 20, 20, 20, 20, 20, 20, 20, 20, 20, 20, 20,\n",
       "                    20, 20, 20, 20],\n",
       "              mask=[False, False, False, False, False, False, False, False,\n",
       "                    False, False, False, False, False, False, False, False,\n",
       "                    False, False, False, False, False, False, False, False,\n",
       "                    False, False, False, False, False, False, False, False,\n",
       "                    False, False, False, False, False, False, False, False,\n",
       "                    False, False, False, False, False, False, False, False,\n",
       "                    False, False, False, False, False, False, False, False,\n",
       "                    False, False, False, False, False, False, False, False],\n",
       "        fill_value='?',\n",
       "             dtype=object),\n",
       " 'param_min_samples_leaf': masked_array(data=[3, 3, 3, 3, 5, 5, 5, 5, 7, 7, 7, 7, 10, 10, 10, 10, 3,\n",
       "                    3, 3, 3, 5, 5, 5, 5, 7, 7, 7, 7, 10, 10, 10, 10, 3, 3,\n",
       "                    3, 3, 5, 5, 5, 5, 7, 7, 7, 7, 10, 10, 10, 10, 3, 3, 3,\n",
       "                    3, 5, 5, 5, 5, 7, 7, 7, 7, 10, 10, 10, 10],\n",
       "              mask=[False, False, False, False, False, False, False, False,\n",
       "                    False, False, False, False, False, False, False, False,\n",
       "                    False, False, False, False, False, False, False, False,\n",
       "                    False, False, False, False, False, False, False, False,\n",
       "                    False, False, False, False, False, False, False, False,\n",
       "                    False, False, False, False, False, False, False, False,\n",
       "                    False, False, False, False, False, False, False, False,\n",
       "                    False, False, False, False, False, False, False, False],\n",
       "        fill_value='?',\n",
       "             dtype=object),\n",
       " 'param_min_samples_split': masked_array(data=[3, 5, 7, 10, 3, 5, 7, 10, 3, 5, 7, 10, 3, 5, 7, 10, 3,\n",
       "                    5, 7, 10, 3, 5, 7, 10, 3, 5, 7, 10, 3, 5, 7, 10, 3, 5,\n",
       "                    7, 10, 3, 5, 7, 10, 3, 5, 7, 10, 3, 5, 7, 10, 3, 5, 7,\n",
       "                    10, 3, 5, 7, 10, 3, 5, 7, 10, 3, 5, 7, 10],\n",
       "              mask=[False, False, False, False, False, False, False, False,\n",
       "                    False, False, False, False, False, False, False, False,\n",
       "                    False, False, False, False, False, False, False, False,\n",
       "                    False, False, False, False, False, False, False, False,\n",
       "                    False, False, False, False, False, False, False, False,\n",
       "                    False, False, False, False, False, False, False, False,\n",
       "                    False, False, False, False, False, False, False, False,\n",
       "                    False, False, False, False, False, False, False, False],\n",
       "        fill_value='?',\n",
       "             dtype=object),\n",
       " 'param_random_state': masked_array(data=[16, 16, 16, 16, 16, 16, 16, 16, 16, 16, 16, 16, 16, 16,\n",
       "                    16, 16, 16, 16, 16, 16, 16, 16, 16, 16, 16, 16, 16, 16,\n",
       "                    16, 16, 16, 16, 16, 16, 16, 16, 16, 16, 16, 16, 16, 16,\n",
       "                    16, 16, 16, 16, 16, 16, 16, 16, 16, 16, 16, 16, 16, 16,\n",
       "                    16, 16, 16, 16, 16, 16, 16, 16],\n",
       "              mask=[False, False, False, False, False, False, False, False,\n",
       "                    False, False, False, False, False, False, False, False,\n",
       "                    False, False, False, False, False, False, False, False,\n",
       "                    False, False, False, False, False, False, False, False,\n",
       "                    False, False, False, False, False, False, False, False,\n",
       "                    False, False, False, False, False, False, False, False,\n",
       "                    False, False, False, False, False, False, False, False,\n",
       "                    False, False, False, False, False, False, False, False],\n",
       "        fill_value='?',\n",
       "             dtype=object),\n",
       " 'params': [{'max_depth': 6,\n",
       "   'min_samples_leaf': 3,\n",
       "   'min_samples_split': 3,\n",
       "   'random_state': 16},\n",
       "  {'max_depth': 6,\n",
       "   'min_samples_leaf': 3,\n",
       "   'min_samples_split': 5,\n",
       "   'random_state': 16},\n",
       "  {'max_depth': 6,\n",
       "   'min_samples_leaf': 3,\n",
       "   'min_samples_split': 7,\n",
       "   'random_state': 16},\n",
       "  {'max_depth': 6,\n",
       "   'min_samples_leaf': 3,\n",
       "   'min_samples_split': 10,\n",
       "   'random_state': 16},\n",
       "  {'max_depth': 6,\n",
       "   'min_samples_leaf': 5,\n",
       "   'min_samples_split': 3,\n",
       "   'random_state': 16},\n",
       "  {'max_depth': 6,\n",
       "   'min_samples_leaf': 5,\n",
       "   'min_samples_split': 5,\n",
       "   'random_state': 16},\n",
       "  {'max_depth': 6,\n",
       "   'min_samples_leaf': 5,\n",
       "   'min_samples_split': 7,\n",
       "   'random_state': 16},\n",
       "  {'max_depth': 6,\n",
       "   'min_samples_leaf': 5,\n",
       "   'min_samples_split': 10,\n",
       "   'random_state': 16},\n",
       "  {'max_depth': 6,\n",
       "   'min_samples_leaf': 7,\n",
       "   'min_samples_split': 3,\n",
       "   'random_state': 16},\n",
       "  {'max_depth': 6,\n",
       "   'min_samples_leaf': 7,\n",
       "   'min_samples_split': 5,\n",
       "   'random_state': 16},\n",
       "  {'max_depth': 6,\n",
       "   'min_samples_leaf': 7,\n",
       "   'min_samples_split': 7,\n",
       "   'random_state': 16},\n",
       "  {'max_depth': 6,\n",
       "   'min_samples_leaf': 7,\n",
       "   'min_samples_split': 10,\n",
       "   'random_state': 16},\n",
       "  {'max_depth': 6,\n",
       "   'min_samples_leaf': 10,\n",
       "   'min_samples_split': 3,\n",
       "   'random_state': 16},\n",
       "  {'max_depth': 6,\n",
       "   'min_samples_leaf': 10,\n",
       "   'min_samples_split': 5,\n",
       "   'random_state': 16},\n",
       "  {'max_depth': 6,\n",
       "   'min_samples_leaf': 10,\n",
       "   'min_samples_split': 7,\n",
       "   'random_state': 16},\n",
       "  {'max_depth': 6,\n",
       "   'min_samples_leaf': 10,\n",
       "   'min_samples_split': 10,\n",
       "   'random_state': 16},\n",
       "  {'max_depth': 10,\n",
       "   'min_samples_leaf': 3,\n",
       "   'min_samples_split': 3,\n",
       "   'random_state': 16},\n",
       "  {'max_depth': 10,\n",
       "   'min_samples_leaf': 3,\n",
       "   'min_samples_split': 5,\n",
       "   'random_state': 16},\n",
       "  {'max_depth': 10,\n",
       "   'min_samples_leaf': 3,\n",
       "   'min_samples_split': 7,\n",
       "   'random_state': 16},\n",
       "  {'max_depth': 10,\n",
       "   'min_samples_leaf': 3,\n",
       "   'min_samples_split': 10,\n",
       "   'random_state': 16},\n",
       "  {'max_depth': 10,\n",
       "   'min_samples_leaf': 5,\n",
       "   'min_samples_split': 3,\n",
       "   'random_state': 16},\n",
       "  {'max_depth': 10,\n",
       "   'min_samples_leaf': 5,\n",
       "   'min_samples_split': 5,\n",
       "   'random_state': 16},\n",
       "  {'max_depth': 10,\n",
       "   'min_samples_leaf': 5,\n",
       "   'min_samples_split': 7,\n",
       "   'random_state': 16},\n",
       "  {'max_depth': 10,\n",
       "   'min_samples_leaf': 5,\n",
       "   'min_samples_split': 10,\n",
       "   'random_state': 16},\n",
       "  {'max_depth': 10,\n",
       "   'min_samples_leaf': 7,\n",
       "   'min_samples_split': 3,\n",
       "   'random_state': 16},\n",
       "  {'max_depth': 10,\n",
       "   'min_samples_leaf': 7,\n",
       "   'min_samples_split': 5,\n",
       "   'random_state': 16},\n",
       "  {'max_depth': 10,\n",
       "   'min_samples_leaf': 7,\n",
       "   'min_samples_split': 7,\n",
       "   'random_state': 16},\n",
       "  {'max_depth': 10,\n",
       "   'min_samples_leaf': 7,\n",
       "   'min_samples_split': 10,\n",
       "   'random_state': 16},\n",
       "  {'max_depth': 10,\n",
       "   'min_samples_leaf': 10,\n",
       "   'min_samples_split': 3,\n",
       "   'random_state': 16},\n",
       "  {'max_depth': 10,\n",
       "   'min_samples_leaf': 10,\n",
       "   'min_samples_split': 5,\n",
       "   'random_state': 16},\n",
       "  {'max_depth': 10,\n",
       "   'min_samples_leaf': 10,\n",
       "   'min_samples_split': 7,\n",
       "   'random_state': 16},\n",
       "  {'max_depth': 10,\n",
       "   'min_samples_leaf': 10,\n",
       "   'min_samples_split': 10,\n",
       "   'random_state': 16},\n",
       "  {'max_depth': 15,\n",
       "   'min_samples_leaf': 3,\n",
       "   'min_samples_split': 3,\n",
       "   'random_state': 16},\n",
       "  {'max_depth': 15,\n",
       "   'min_samples_leaf': 3,\n",
       "   'min_samples_split': 5,\n",
       "   'random_state': 16},\n",
       "  {'max_depth': 15,\n",
       "   'min_samples_leaf': 3,\n",
       "   'min_samples_split': 7,\n",
       "   'random_state': 16},\n",
       "  {'max_depth': 15,\n",
       "   'min_samples_leaf': 3,\n",
       "   'min_samples_split': 10,\n",
       "   'random_state': 16},\n",
       "  {'max_depth': 15,\n",
       "   'min_samples_leaf': 5,\n",
       "   'min_samples_split': 3,\n",
       "   'random_state': 16},\n",
       "  {'max_depth': 15,\n",
       "   'min_samples_leaf': 5,\n",
       "   'min_samples_split': 5,\n",
       "   'random_state': 16},\n",
       "  {'max_depth': 15,\n",
       "   'min_samples_leaf': 5,\n",
       "   'min_samples_split': 7,\n",
       "   'random_state': 16},\n",
       "  {'max_depth': 15,\n",
       "   'min_samples_leaf': 5,\n",
       "   'min_samples_split': 10,\n",
       "   'random_state': 16},\n",
       "  {'max_depth': 15,\n",
       "   'min_samples_leaf': 7,\n",
       "   'min_samples_split': 3,\n",
       "   'random_state': 16},\n",
       "  {'max_depth': 15,\n",
       "   'min_samples_leaf': 7,\n",
       "   'min_samples_split': 5,\n",
       "   'random_state': 16},\n",
       "  {'max_depth': 15,\n",
       "   'min_samples_leaf': 7,\n",
       "   'min_samples_split': 7,\n",
       "   'random_state': 16},\n",
       "  {'max_depth': 15,\n",
       "   'min_samples_leaf': 7,\n",
       "   'min_samples_split': 10,\n",
       "   'random_state': 16},\n",
       "  {'max_depth': 15,\n",
       "   'min_samples_leaf': 10,\n",
       "   'min_samples_split': 3,\n",
       "   'random_state': 16},\n",
       "  {'max_depth': 15,\n",
       "   'min_samples_leaf': 10,\n",
       "   'min_samples_split': 5,\n",
       "   'random_state': 16},\n",
       "  {'max_depth': 15,\n",
       "   'min_samples_leaf': 10,\n",
       "   'min_samples_split': 7,\n",
       "   'random_state': 16},\n",
       "  {'max_depth': 15,\n",
       "   'min_samples_leaf': 10,\n",
       "   'min_samples_split': 10,\n",
       "   'random_state': 16},\n",
       "  {'max_depth': 20,\n",
       "   'min_samples_leaf': 3,\n",
       "   'min_samples_split': 3,\n",
       "   'random_state': 16},\n",
       "  {'max_depth': 20,\n",
       "   'min_samples_leaf': 3,\n",
       "   'min_samples_split': 5,\n",
       "   'random_state': 16},\n",
       "  {'max_depth': 20,\n",
       "   'min_samples_leaf': 3,\n",
       "   'min_samples_split': 7,\n",
       "   'random_state': 16},\n",
       "  {'max_depth': 20,\n",
       "   'min_samples_leaf': 3,\n",
       "   'min_samples_split': 10,\n",
       "   'random_state': 16},\n",
       "  {'max_depth': 20,\n",
       "   'min_samples_leaf': 5,\n",
       "   'min_samples_split': 3,\n",
       "   'random_state': 16},\n",
       "  {'max_depth': 20,\n",
       "   'min_samples_leaf': 5,\n",
       "   'min_samples_split': 5,\n",
       "   'random_state': 16},\n",
       "  {'max_depth': 20,\n",
       "   'min_samples_leaf': 5,\n",
       "   'min_samples_split': 7,\n",
       "   'random_state': 16},\n",
       "  {'max_depth': 20,\n",
       "   'min_samples_leaf': 5,\n",
       "   'min_samples_split': 10,\n",
       "   'random_state': 16},\n",
       "  {'max_depth': 20,\n",
       "   'min_samples_leaf': 7,\n",
       "   'min_samples_split': 3,\n",
       "   'random_state': 16},\n",
       "  {'max_depth': 20,\n",
       "   'min_samples_leaf': 7,\n",
       "   'min_samples_split': 5,\n",
       "   'random_state': 16},\n",
       "  {'max_depth': 20,\n",
       "   'min_samples_leaf': 7,\n",
       "   'min_samples_split': 7,\n",
       "   'random_state': 16},\n",
       "  {'max_depth': 20,\n",
       "   'min_samples_leaf': 7,\n",
       "   'min_samples_split': 10,\n",
       "   'random_state': 16},\n",
       "  {'max_depth': 20,\n",
       "   'min_samples_leaf': 10,\n",
       "   'min_samples_split': 3,\n",
       "   'random_state': 16},\n",
       "  {'max_depth': 20,\n",
       "   'min_samples_leaf': 10,\n",
       "   'min_samples_split': 5,\n",
       "   'random_state': 16},\n",
       "  {'max_depth': 20,\n",
       "   'min_samples_leaf': 10,\n",
       "   'min_samples_split': 7,\n",
       "   'random_state': 16},\n",
       "  {'max_depth': 20,\n",
       "   'min_samples_leaf': 10,\n",
       "   'min_samples_split': 10,\n",
       "   'random_state': 16}],\n",
       " 'split0_test_score': array([0.82      , 0.82      , 0.82      , 0.81553398, 0.82352941,\n",
       "        0.82352941, 0.82352941, 0.82352941, 0.81818182, 0.81818182,\n",
       "        0.81818182, 0.81818182, 0.77647059, 0.77647059, 0.77647059,\n",
       "        0.77647059, 0.77419355, 0.77419355, 0.8       , 0.81188119,\n",
       "        0.80412371, 0.80412371, 0.80412371, 0.80412371, 0.84782609,\n",
       "        0.84782609, 0.84782609, 0.84782609, 0.81818182, 0.81818182,\n",
       "        0.81818182, 0.81818182, 0.77419355, 0.77419355, 0.8       ,\n",
       "        0.81188119, 0.80412371, 0.80412371, 0.80412371, 0.80412371,\n",
       "        0.84782609, 0.84782609, 0.84782609, 0.84782609, 0.81818182,\n",
       "        0.81818182, 0.81818182, 0.81818182, 0.77419355, 0.77419355,\n",
       "        0.8       , 0.81188119, 0.80412371, 0.80412371, 0.80412371,\n",
       "        0.80412371, 0.84782609, 0.84782609, 0.84782609, 0.84782609,\n",
       "        0.81818182, 0.81818182, 0.81818182, 0.81818182]),\n",
       " 'split1_test_score': array([0.775     , 0.775     , 0.775     , 0.76923077, 0.72      ,\n",
       "        0.72      , 0.72      , 0.72      , 0.78481013, 0.78481013,\n",
       "        0.78481013, 0.78481013, 0.775     , 0.775     , 0.775     ,\n",
       "        0.775     , 0.7816092 , 0.7816092 , 0.79069767, 0.80487805,\n",
       "        0.67532468, 0.67532468, 0.67532468, 0.67532468, 0.79069767,\n",
       "        0.79069767, 0.79069767, 0.79069767, 0.775     , 0.775     ,\n",
       "        0.775     , 0.775     , 0.7816092 , 0.7816092 , 0.79069767,\n",
       "        0.80487805, 0.67532468, 0.67532468, 0.67532468, 0.67532468,\n",
       "        0.79069767, 0.79069767, 0.79069767, 0.79069767, 0.775     ,\n",
       "        0.775     , 0.775     , 0.775     , 0.7816092 , 0.7816092 ,\n",
       "        0.79069767, 0.80487805, 0.67532468, 0.67532468, 0.67532468,\n",
       "        0.67532468, 0.79069767, 0.79069767, 0.79069767, 0.79069767,\n",
       "        0.775     , 0.775     , 0.775     , 0.775     ]),\n",
       " 'split2_test_score': array([0.74418605, 0.74418605, 0.74418605, 0.74418605, 0.7816092 ,\n",
       "        0.7816092 , 0.7816092 , 0.7816092 , 0.76315789, 0.76315789,\n",
       "        0.76315789, 0.76315789, 0.71604938, 0.71604938, 0.71604938,\n",
       "        0.71604938, 0.77272727, 0.77272727, 0.75555556, 0.75294118,\n",
       "        0.77647059, 0.77647059, 0.77647059, 0.77647059, 0.76923077,\n",
       "        0.76923077, 0.76923077, 0.76923077, 0.71604938, 0.71604938,\n",
       "        0.71604938, 0.71604938, 0.74725275, 0.74725275, 0.77272727,\n",
       "        0.75294118, 0.77647059, 0.77647059, 0.77647059, 0.77647059,\n",
       "        0.76923077, 0.76923077, 0.76923077, 0.76923077, 0.71604938,\n",
       "        0.71604938, 0.71604938, 0.71604938, 0.74725275, 0.74725275,\n",
       "        0.77272727, 0.75294118, 0.77647059, 0.77647059, 0.77647059,\n",
       "        0.77647059, 0.76923077, 0.76923077, 0.76923077, 0.76923077,\n",
       "        0.71604938, 0.71604938, 0.71604938, 0.71604938]),\n",
       " 'split3_test_score': array([0.64285714, 0.64285714, 0.68888889, 0.6741573 , 0.70588235,\n",
       "        0.70588235, 0.70588235, 0.70588235, 0.70731707, 0.70731707,\n",
       "        0.70731707, 0.70731707, 0.6835443 , 0.6835443 , 0.6835443 ,\n",
       "        0.6835443 , 0.61176471, 0.61176471, 0.65882353, 0.6741573 ,\n",
       "        0.69767442, 0.69767442, 0.69767442, 0.69767442, 0.70731707,\n",
       "        0.70731707, 0.70731707, 0.70731707, 0.6835443 , 0.6835443 ,\n",
       "        0.6835443 , 0.6835443 , 0.61904762, 0.61904762, 0.66666667,\n",
       "        0.66666667, 0.69767442, 0.69767442, 0.69767442, 0.69767442,\n",
       "        0.70731707, 0.70731707, 0.70731707, 0.70731707, 0.6835443 ,\n",
       "        0.6835443 , 0.6835443 , 0.6835443 , 0.61904762, 0.61904762,\n",
       "        0.66666667, 0.66666667, 0.69767442, 0.69767442, 0.69767442,\n",
       "        0.69767442, 0.70731707, 0.70731707, 0.70731707, 0.70731707,\n",
       "        0.6835443 , 0.6835443 , 0.6835443 , 0.6835443 ]),\n",
       " 'split4_test_score': array([0.63414634, 0.63414634, 0.63414634, 0.56756757, 0.57534247,\n",
       "        0.57534247, 0.57534247, 0.57534247, 0.56756757, 0.56756757,\n",
       "        0.56756757, 0.56756757, 0.56756757, 0.56756757, 0.56756757,\n",
       "        0.56756757, 0.64444444, 0.64444444, 0.64444444, 0.59259259,\n",
       "        0.575     , 0.575     , 0.575     , 0.575     , 0.58666667,\n",
       "        0.58666667, 0.58666667, 0.58666667, 0.56756757, 0.56756757,\n",
       "        0.56756757, 0.56756757, 0.64444444, 0.64444444, 0.63736264,\n",
       "        0.6       , 0.575     , 0.575     , 0.575     , 0.575     ,\n",
       "        0.58666667, 0.58666667, 0.58666667, 0.58666667, 0.56756757,\n",
       "        0.56756757, 0.56756757, 0.56756757, 0.64444444, 0.64444444,\n",
       "        0.63736264, 0.6       , 0.575     , 0.575     , 0.575     ,\n",
       "        0.575     , 0.58666667, 0.58666667, 0.58666667, 0.58666667,\n",
       "        0.56756757, 0.56756757, 0.56756757, 0.56756757]),\n",
       " 'mean_test_score': array([0.72323791, 0.72323791, 0.73244426, 0.71413513, 0.72127269,\n",
       "        0.72127269, 0.72127269, 0.72127269, 0.7282069 , 0.7282069 ,\n",
       "        0.7282069 , 0.7282069 , 0.70372637, 0.70372637, 0.70372637,\n",
       "        0.70372637, 0.71694783, 0.71694783, 0.72990424, 0.72729006,\n",
       "        0.70571868, 0.70571868, 0.70571868, 0.70571868, 0.74034765,\n",
       "        0.74034765, 0.74034765, 0.74034765, 0.71206861, 0.71206861,\n",
       "        0.71206861, 0.71206861, 0.71330951, 0.71330951, 0.73349085,\n",
       "        0.72727342, 0.70571868, 0.70571868, 0.70571868, 0.70571868,\n",
       "        0.74034765, 0.74034765, 0.74034765, 0.74034765, 0.71206861,\n",
       "        0.71206861, 0.71206861, 0.71206861, 0.71330951, 0.71330951,\n",
       "        0.73349085, 0.72727342, 0.70571868, 0.70571868, 0.70571868,\n",
       "        0.70571868, 0.74034765, 0.74034765, 0.74034765, 0.74034765,\n",
       "        0.71206861, 0.71206861, 0.71206861, 0.71206861]),\n",
       " 'std_test_score': array([0.07332041, 0.07332041, 0.06507599, 0.08637198, 0.08441687,\n",
       "        0.08441687, 0.08441687, 0.08441687, 0.08804813, 0.08804813,\n",
       "        0.08804813, 0.08804813, 0.07677245, 0.07677245, 0.07677245,\n",
       "        0.07677245, 0.0733345 , 0.0733345 , 0.06576183, 0.08342665,\n",
       "        0.08095093, 0.08095093, 0.08095093, 0.08095093, 0.0890279 ,\n",
       "        0.0890279 , 0.0890279 , 0.0890279 , 0.08594231, 0.08594231,\n",
       "        0.08594231, 0.08594231, 0.06804639, 0.06804639, 0.06773727,\n",
       "        0.0821115 , 0.08095093, 0.08095093, 0.08095093, 0.08095093,\n",
       "        0.0890279 , 0.0890279 , 0.0890279 , 0.0890279 , 0.08594231,\n",
       "        0.08594231, 0.08594231, 0.08594231, 0.06804639, 0.06804639,\n",
       "        0.06773727, 0.0821115 , 0.08095093, 0.08095093, 0.08095093,\n",
       "        0.08095093, 0.0890279 , 0.0890279 , 0.0890279 , 0.0890279 ,\n",
       "        0.08594231, 0.08594231, 0.08594231, 0.08594231]),\n",
       " 'rank_test_score': array([24, 24, 15, 32, 26, 26, 26, 26, 17, 17, 17, 17, 61, 61, 61, 61, 30,\n",
       "        30, 16, 21, 49, 49, 49, 49,  1,  1,  1,  1, 37, 37, 37, 37, 33, 33,\n",
       "        13, 22, 49, 49, 49, 49,  1,  1,  1,  1, 37, 37, 37, 37, 33, 33, 13,\n",
       "        22, 49, 49, 49, 49,  1,  1,  1,  1, 37, 37, 37, 37], dtype=int32)}"
      ]
     },
     "execution_count": 22,
     "metadata": {},
     "output_type": "execute_result"
    }
   ],
   "source": [
    "model.cv_results_"
   ]
  },
  {
   "cell_type": "code",
   "execution_count": 18,
   "metadata": {},
   "outputs": [
    {
     "name": "stdout",
     "output_type": "stream",
     "text": [
      "split0_test_score [0.82       0.82       0.82       0.81553398 0.82352941 0.82352941\n",
      " 0.82352941 0.82352941 0.81818182 0.81818182 0.81818182 0.81818182\n",
      " 0.77647059 0.77647059 0.77647059 0.77647059 0.77419355 0.77419355\n",
      " 0.8        0.81188119 0.80412371 0.80412371 0.80412371 0.80412371\n",
      " 0.84782609 0.84782609 0.84782609 0.84782609 0.81818182 0.81818182\n",
      " 0.81818182 0.81818182 0.77419355 0.77419355 0.8        0.81188119\n",
      " 0.80412371 0.80412371 0.80412371 0.80412371 0.84782609 0.84782609\n",
      " 0.84782609 0.84782609 0.81818182 0.81818182 0.81818182 0.81818182\n",
      " 0.77419355 0.77419355 0.8        0.81188119 0.80412371 0.80412371\n",
      " 0.80412371 0.80412371 0.84782609 0.84782609 0.84782609 0.84782609\n",
      " 0.81818182 0.81818182 0.81818182 0.81818182]\n",
      "split1_test_score [0.775      0.775      0.775      0.76923077 0.72       0.72\n",
      " 0.72       0.72       0.78481013 0.78481013 0.78481013 0.78481013\n",
      " 0.775      0.775      0.775      0.775      0.7816092  0.7816092\n",
      " 0.79069767 0.80487805 0.67532468 0.67532468 0.67532468 0.67532468\n",
      " 0.79069767 0.79069767 0.79069767 0.79069767 0.775      0.775\n",
      " 0.775      0.775      0.7816092  0.7816092  0.79069767 0.80487805\n",
      " 0.67532468 0.67532468 0.67532468 0.67532468 0.79069767 0.79069767\n",
      " 0.79069767 0.79069767 0.775      0.775      0.775      0.775\n",
      " 0.7816092  0.7816092  0.79069767 0.80487805 0.67532468 0.67532468\n",
      " 0.67532468 0.67532468 0.79069767 0.79069767 0.79069767 0.79069767\n",
      " 0.775      0.775      0.775      0.775     ]\n"
     ]
    },
    {
     "data": {
      "text/plain": [
       "[None, None]"
      ]
     },
     "execution_count": 18,
     "metadata": {},
     "output_type": "execute_result"
    }
   ],
   "source": [
    "keys = ['split0_test_score', 'split1_test_score']\n",
    "[print(key, model.cv_results_.get(key)) for key in keys]"
   ]
  },
  {
   "cell_type": "code",
   "execution_count": 19,
   "metadata": {},
   "outputs": [
    {
     "data": {
      "text/plain": [
       "[{'max_depth': 6,\n",
       "  'min_samples_leaf': 3,\n",
       "  'min_samples_split': 3,\n",
       "  'random_state': 16},\n",
       " {'max_depth': 6,\n",
       "  'min_samples_leaf': 3,\n",
       "  'min_samples_split': 5,\n",
       "  'random_state': 16},\n",
       " {'max_depth': 6,\n",
       "  'min_samples_leaf': 3,\n",
       "  'min_samples_split': 7,\n",
       "  'random_state': 16},\n",
       " {'max_depth': 6,\n",
       "  'min_samples_leaf': 3,\n",
       "  'min_samples_split': 10,\n",
       "  'random_state': 16},\n",
       " {'max_depth': 6,\n",
       "  'min_samples_leaf': 5,\n",
       "  'min_samples_split': 3,\n",
       "  'random_state': 16},\n",
       " {'max_depth': 6,\n",
       "  'min_samples_leaf': 5,\n",
       "  'min_samples_split': 5,\n",
       "  'random_state': 16},\n",
       " {'max_depth': 6,\n",
       "  'min_samples_leaf': 5,\n",
       "  'min_samples_split': 7,\n",
       "  'random_state': 16},\n",
       " {'max_depth': 6,\n",
       "  'min_samples_leaf': 5,\n",
       "  'min_samples_split': 10,\n",
       "  'random_state': 16},\n",
       " {'max_depth': 6,\n",
       "  'min_samples_leaf': 7,\n",
       "  'min_samples_split': 3,\n",
       "  'random_state': 16},\n",
       " {'max_depth': 6,\n",
       "  'min_samples_leaf': 7,\n",
       "  'min_samples_split': 5,\n",
       "  'random_state': 16},\n",
       " {'max_depth': 6,\n",
       "  'min_samples_leaf': 7,\n",
       "  'min_samples_split': 7,\n",
       "  'random_state': 16},\n",
       " {'max_depth': 6,\n",
       "  'min_samples_leaf': 7,\n",
       "  'min_samples_split': 10,\n",
       "  'random_state': 16},\n",
       " {'max_depth': 6,\n",
       "  'min_samples_leaf': 10,\n",
       "  'min_samples_split': 3,\n",
       "  'random_state': 16},\n",
       " {'max_depth': 6,\n",
       "  'min_samples_leaf': 10,\n",
       "  'min_samples_split': 5,\n",
       "  'random_state': 16},\n",
       " {'max_depth': 6,\n",
       "  'min_samples_leaf': 10,\n",
       "  'min_samples_split': 7,\n",
       "  'random_state': 16},\n",
       " {'max_depth': 6,\n",
       "  'min_samples_leaf': 10,\n",
       "  'min_samples_split': 10,\n",
       "  'random_state': 16},\n",
       " {'max_depth': 10,\n",
       "  'min_samples_leaf': 3,\n",
       "  'min_samples_split': 3,\n",
       "  'random_state': 16},\n",
       " {'max_depth': 10,\n",
       "  'min_samples_leaf': 3,\n",
       "  'min_samples_split': 5,\n",
       "  'random_state': 16},\n",
       " {'max_depth': 10,\n",
       "  'min_samples_leaf': 3,\n",
       "  'min_samples_split': 7,\n",
       "  'random_state': 16},\n",
       " {'max_depth': 10,\n",
       "  'min_samples_leaf': 3,\n",
       "  'min_samples_split': 10,\n",
       "  'random_state': 16},\n",
       " {'max_depth': 10,\n",
       "  'min_samples_leaf': 5,\n",
       "  'min_samples_split': 3,\n",
       "  'random_state': 16},\n",
       " {'max_depth': 10,\n",
       "  'min_samples_leaf': 5,\n",
       "  'min_samples_split': 5,\n",
       "  'random_state': 16},\n",
       " {'max_depth': 10,\n",
       "  'min_samples_leaf': 5,\n",
       "  'min_samples_split': 7,\n",
       "  'random_state': 16},\n",
       " {'max_depth': 10,\n",
       "  'min_samples_leaf': 5,\n",
       "  'min_samples_split': 10,\n",
       "  'random_state': 16},\n",
       " {'max_depth': 10,\n",
       "  'min_samples_leaf': 7,\n",
       "  'min_samples_split': 3,\n",
       "  'random_state': 16},\n",
       " {'max_depth': 10,\n",
       "  'min_samples_leaf': 7,\n",
       "  'min_samples_split': 5,\n",
       "  'random_state': 16},\n",
       " {'max_depth': 10,\n",
       "  'min_samples_leaf': 7,\n",
       "  'min_samples_split': 7,\n",
       "  'random_state': 16},\n",
       " {'max_depth': 10,\n",
       "  'min_samples_leaf': 7,\n",
       "  'min_samples_split': 10,\n",
       "  'random_state': 16},\n",
       " {'max_depth': 10,\n",
       "  'min_samples_leaf': 10,\n",
       "  'min_samples_split': 3,\n",
       "  'random_state': 16},\n",
       " {'max_depth': 10,\n",
       "  'min_samples_leaf': 10,\n",
       "  'min_samples_split': 5,\n",
       "  'random_state': 16},\n",
       " {'max_depth': 10,\n",
       "  'min_samples_leaf': 10,\n",
       "  'min_samples_split': 7,\n",
       "  'random_state': 16},\n",
       " {'max_depth': 10,\n",
       "  'min_samples_leaf': 10,\n",
       "  'min_samples_split': 10,\n",
       "  'random_state': 16},\n",
       " {'max_depth': 15,\n",
       "  'min_samples_leaf': 3,\n",
       "  'min_samples_split': 3,\n",
       "  'random_state': 16},\n",
       " {'max_depth': 15,\n",
       "  'min_samples_leaf': 3,\n",
       "  'min_samples_split': 5,\n",
       "  'random_state': 16},\n",
       " {'max_depth': 15,\n",
       "  'min_samples_leaf': 3,\n",
       "  'min_samples_split': 7,\n",
       "  'random_state': 16},\n",
       " {'max_depth': 15,\n",
       "  'min_samples_leaf': 3,\n",
       "  'min_samples_split': 10,\n",
       "  'random_state': 16},\n",
       " {'max_depth': 15,\n",
       "  'min_samples_leaf': 5,\n",
       "  'min_samples_split': 3,\n",
       "  'random_state': 16},\n",
       " {'max_depth': 15,\n",
       "  'min_samples_leaf': 5,\n",
       "  'min_samples_split': 5,\n",
       "  'random_state': 16},\n",
       " {'max_depth': 15,\n",
       "  'min_samples_leaf': 5,\n",
       "  'min_samples_split': 7,\n",
       "  'random_state': 16},\n",
       " {'max_depth': 15,\n",
       "  'min_samples_leaf': 5,\n",
       "  'min_samples_split': 10,\n",
       "  'random_state': 16},\n",
       " {'max_depth': 15,\n",
       "  'min_samples_leaf': 7,\n",
       "  'min_samples_split': 3,\n",
       "  'random_state': 16},\n",
       " {'max_depth': 15,\n",
       "  'min_samples_leaf': 7,\n",
       "  'min_samples_split': 5,\n",
       "  'random_state': 16},\n",
       " {'max_depth': 15,\n",
       "  'min_samples_leaf': 7,\n",
       "  'min_samples_split': 7,\n",
       "  'random_state': 16},\n",
       " {'max_depth': 15,\n",
       "  'min_samples_leaf': 7,\n",
       "  'min_samples_split': 10,\n",
       "  'random_state': 16},\n",
       " {'max_depth': 15,\n",
       "  'min_samples_leaf': 10,\n",
       "  'min_samples_split': 3,\n",
       "  'random_state': 16},\n",
       " {'max_depth': 15,\n",
       "  'min_samples_leaf': 10,\n",
       "  'min_samples_split': 5,\n",
       "  'random_state': 16},\n",
       " {'max_depth': 15,\n",
       "  'min_samples_leaf': 10,\n",
       "  'min_samples_split': 7,\n",
       "  'random_state': 16},\n",
       " {'max_depth': 15,\n",
       "  'min_samples_leaf': 10,\n",
       "  'min_samples_split': 10,\n",
       "  'random_state': 16},\n",
       " {'max_depth': 20,\n",
       "  'min_samples_leaf': 3,\n",
       "  'min_samples_split': 3,\n",
       "  'random_state': 16},\n",
       " {'max_depth': 20,\n",
       "  'min_samples_leaf': 3,\n",
       "  'min_samples_split': 5,\n",
       "  'random_state': 16},\n",
       " {'max_depth': 20,\n",
       "  'min_samples_leaf': 3,\n",
       "  'min_samples_split': 7,\n",
       "  'random_state': 16},\n",
       " {'max_depth': 20,\n",
       "  'min_samples_leaf': 3,\n",
       "  'min_samples_split': 10,\n",
       "  'random_state': 16},\n",
       " {'max_depth': 20,\n",
       "  'min_samples_leaf': 5,\n",
       "  'min_samples_split': 3,\n",
       "  'random_state': 16},\n",
       " {'max_depth': 20,\n",
       "  'min_samples_leaf': 5,\n",
       "  'min_samples_split': 5,\n",
       "  'random_state': 16},\n",
       " {'max_depth': 20,\n",
       "  'min_samples_leaf': 5,\n",
       "  'min_samples_split': 7,\n",
       "  'random_state': 16},\n",
       " {'max_depth': 20,\n",
       "  'min_samples_leaf': 5,\n",
       "  'min_samples_split': 10,\n",
       "  'random_state': 16},\n",
       " {'max_depth': 20,\n",
       "  'min_samples_leaf': 7,\n",
       "  'min_samples_split': 3,\n",
       "  'random_state': 16},\n",
       " {'max_depth': 20,\n",
       "  'min_samples_leaf': 7,\n",
       "  'min_samples_split': 5,\n",
       "  'random_state': 16},\n",
       " {'max_depth': 20,\n",
       "  'min_samples_leaf': 7,\n",
       "  'min_samples_split': 7,\n",
       "  'random_state': 16},\n",
       " {'max_depth': 20,\n",
       "  'min_samples_leaf': 7,\n",
       "  'min_samples_split': 10,\n",
       "  'random_state': 16},\n",
       " {'max_depth': 20,\n",
       "  'min_samples_leaf': 10,\n",
       "  'min_samples_split': 3,\n",
       "  'random_state': 16},\n",
       " {'max_depth': 20,\n",
       "  'min_samples_leaf': 10,\n",
       "  'min_samples_split': 5,\n",
       "  'random_state': 16},\n",
       " {'max_depth': 20,\n",
       "  'min_samples_leaf': 10,\n",
       "  'min_samples_split': 7,\n",
       "  'random_state': 16},\n",
       " {'max_depth': 20,\n",
       "  'min_samples_leaf': 10,\n",
       "  'min_samples_split': 10,\n",
       "  'random_state': 16}]"
      ]
     },
     "execution_count": 19,
     "metadata": {},
     "output_type": "execute_result"
    }
   ],
   "source": [
    "model.cv_results_['params']"
   ]
  },
  {
   "cell_type": "code",
   "execution_count": 23,
   "metadata": {},
   "outputs": [
    {
     "name": "stdout",
     "output_type": "stream",
     "text": [
      "              precision    recall  f1-score   support\n",
      "\n",
      "           0       0.83      0.89      0.86       153\n",
      "           1       0.84      0.76      0.80       114\n",
      "\n",
      "    accuracy                           0.84       267\n",
      "   macro avg       0.84      0.83      0.83       267\n",
      "weighted avg       0.84      0.84      0.83       267\n",
      "\n"
     ]
    }
   ],
   "source": [
    "predictions = best_estimator.predict(X_test)\n",
    "print(classification_report(y_test,predictions))"
   ]
  },
  {
   "cell_type": "markdown",
   "metadata": {},
   "source": [
    "#### Aplique Grid Search e cross validation. Por padrão o Grid Search já aplica CV. O objetivo deste exercício é você se familiarizar com as possibilidades existentes de experimentação. Leia o [ShuffleSplit](https://scikit-learn.org/stable/modules/generated/sklearn.model_selection.ShuffleSplit.html#sklearn.model_selection.ShuffleSplit) e [StratifiedShuffleSplit](https://scikit-learn.org/stable/modules/generated/sklearn.model_selection.StratifiedShuffleSplit.html).\n",
    "* *Desafio:* Aplique o shuffle considerando o balanceamento das classes"
   ]
  },
  {
   "cell_type": "code",
   "execution_count": 24,
   "metadata": {},
   "outputs": [
    {
     "name": "stdout",
     "output_type": "stream",
     "text": [
      "              precision    recall  f1-score   support\n",
      "\n",
      "           0       0.80      0.92      0.85       153\n",
      "           1       0.86      0.69      0.77       114\n",
      "\n",
      "    accuracy                           0.82       267\n",
      "   macro avg       0.83      0.80      0.81       267\n",
      "weighted avg       0.83      0.82      0.82       267\n",
      "\n"
     ]
    }
   ],
   "source": [
    "from sklearn.model_selection import StratifiedShuffleSplit\n",
    "parameters = {'min_samples_leaf':[3,5,7,10], \n",
    "              'min_samples_split':[3,5,7,10], \n",
    "              'max_depth':[6,10,15,20], \n",
    "              'random_state': [RANDOM_STATE]}\n",
    "cv = StratifiedShuffleSplit(n_splits=5, random_state=16)\n",
    "clf = GridSearchCV(dtc, parameters, cv=cv, scoring='f1')\n",
    "model = clf.fit(X_train, y_train)\n",
    "best_estimator = model.best_estimator_\n",
    "predictions = best_estimator.predict(X_test)\n",
    "print(classification_report(y_test,predictions))"
   ]
  },
  {
   "cell_type": "markdown",
   "metadata": {},
   "source": [
    "### PARTE II - Equilíbrio entre viés e variância"
   ]
  },
  {
   "cell_type": "markdown",
   "metadata": {},
   "source": [
    "### Curvas de aprendizagem"
   ]
  },
  {
   "cell_type": "code",
   "execution_count": 26,
   "metadata": {},
   "outputs": [],
   "source": [
    "from sklearn.model_selection import learning_curve\n",
    "from sklearn.model_selection import validation_curve\n",
    "from sklearn.model_selection import ShuffleSplit"
   ]
  },
  {
   "cell_type": "markdown",
   "metadata": {},
   "source": [
    "Construa uma [curva de aprendizagem](https://scikit-learn.org/stable/auto_examples/model_selection/plot_learning_curve.html) considerando o número de amostras existentes na construção do seu modelo. Se preferir use a função abaixo."
   ]
  },
  {
   "cell_type": "code",
   "execution_count": 27,
   "metadata": {},
   "outputs": [],
   "source": [
    "def plot_learning_curve(estimator, title, X, y,):\n",
    "    \n",
    "    cv = ShuffleSplit(n_splits=10, test_size=0.2, random_state=0)\n",
    "    ylim=(0.7, 1.01)\n",
    "    n_jobs=1\n",
    "    train_sizes=np.linspace(.1, 1.0, 5)\n",
    "\n",
    "    plt.figure()\n",
    "    plt.title(title)\n",
    "    plt.ylim(*ylim)\n",
    "    plt.xlabel(\"Training examples\")\n",
    "    plt.ylabel(\"Score\")\n",
    "    train_sizes, train_scores, test_scores = learning_curve(\n",
    "        estimator, X, y, cv=cv, n_jobs=n_jobs, train_sizes=train_sizes)\n",
    "    train_scores_mean = np.mean(train_scores, axis=1)\n",
    "    train_scores_std = np.std(train_scores, axis=1)\n",
    "    test_scores_mean = np.mean(test_scores, axis=1)\n",
    "    test_scores_std = np.std(test_scores, axis=1)\n",
    "    plt.grid()\n",
    "\n",
    "    plt.fill_between(train_sizes, train_scores_mean - train_scores_std,\n",
    "                     train_scores_mean + train_scores_std, alpha=0.1,\n",
    "                     color=\"r\")\n",
    "    plt.fill_between(train_sizes, test_scores_mean - test_scores_std,\n",
    "                     test_scores_mean + test_scores_std, alpha=0.1, color=\"g\")\n",
    "    plt.plot(train_sizes, train_scores_mean, 'o-', color=\"r\",\n",
    "             label=\"Training score\")\n",
    "    plt.plot(train_sizes, test_scores_mean, 'o-', color=\"g\",\n",
    "             label=\"Cross-validation score\")\n",
    "\n",
    "    plt.legend(loc=\"best\")\n",
    "    return plt"
   ]
  },
  {
   "cell_type": "markdown",
   "metadata": {},
   "source": [
    "Qual o número ideal de amostras para construção do modelo?"
   ]
  },
  {
   "cell_type": "markdown",
   "metadata": {},
   "source": [
    "- **Resposta:** Observando os gráficos abaixo percebemos que o número de amostras depende de vários fatores, inclusive do processo de engenharia de features aplicada. No primeiro gráfico considerando todas as features percebemos que quanto mais amostras melhor. No segundo gráfico percebemos que o número ideal é 400, pois a partir desse número o modelo se estabiliza."
   ]
  },
  {
   "cell_type": "code",
   "execution_count": 28,
   "metadata": {},
   "outputs": [],
   "source": [
    "X=train.drop(['Survived'], axis=1)\n",
    "New_X = train[['Prenome_ Mr', 'Age', 'Z_Fare', 'Class_3']]\n",
    "y=train['Survived']"
   ]
  },
  {
   "cell_type": "code",
   "execution_count": 29,
   "metadata": {},
   "outputs": [
    {
     "data": {
      "image/png": "[encoded data removed]",
      "text/plain": [
       "<Figure size 432x288 with 1 Axes>"
      ]
     },
     "metadata": {
      "needs_background": "light"
     },
     "output_type": "display_data"
    }
   ],
   "source": [
    "title = \"Learning Curves (Decision Tree)\"\n",
    "a = plot_learning_curve(dtc, title, X, y)"
   ]
  },
  {
   "cell_type": "markdown",
   "metadata": {},
   "source": [
    "#### Análise o impacto do underfitting e underfitting considerando variações nos hiperparâmetros que você selecionou no processo do Grid Search. Utilize [curvas de validação](https://scikit-learn.org/stable/modules/generated/sklearn.model_selection.validation_curve.html). Se preferir use a função abaixo."
   ]
  },
  {
   "cell_type": "code",
   "execution_count": 32,
   "metadata": {},
   "outputs": [],
   "source": [
    "def model_complexity(estimator, title, param_name, values_param, scoring, X, y):\n",
    "    \"\"\" Calculates the performance of the model as model complexity increases.\n",
    "        The learning and testing errors rates are then plotted. \"\"\"\n",
    "    \n",
    "    # Create 10 cross-validation sets for training and testing\n",
    "    cv = ShuffleSplit(n_splits=10, test_size=0.2, random_state=0)\n",
    "\n",
    "    # Vary the max_depth parameter from 1 to 10\n",
    "\n",
    "    # Calculate the training and testing scores\n",
    "    train_scores, test_scores = validation_curve(estimator, X, y, \\\n",
    "        param_name = param_name, param_range = values_param, cv = cv, scoring = scoring)\n",
    "\n",
    "    # Find the mean and standard deviation for smoothing\n",
    "    train_mean = np.mean(train_scores, axis=1)\n",
    "    train_std = np.std(train_scores, axis=1)\n",
    "    test_mean = np.mean(test_scores, axis=1)\n",
    "    test_std = np.std(test_scores, axis=1)\n",
    "\n",
    "    # Plot the validation curve\n",
    "    plt.figure(figsize=(7, 5))\n",
    "    ylim=(0.7, 1.01)\n",
    "    plt.ylim(*ylim)\n",
    "    plt.title(title)\n",
    "    plt.grid()\n",
    "    plt.plot(values_param, train_mean, 'o-', color = 'r', label = 'Training Score')\n",
    "    plt.plot(values_param, test_mean, 'o-', color = 'g', label = 'Validation Score')\n",
    "    plt.fill_between(values_param, train_mean - train_std, \\\n",
    "        train_mean + train_std, alpha = 0.15, color = 'r')\n",
    "    plt.fill_between(values_param, test_mean - test_std, \\\n",
    "        test_mean + test_std, alpha = 0.15, color = 'g')\n",
    "    \n",
    "    # Visual aesthetics\n",
    "    plt.legend(loc = 'lower right')\n",
    "    plt.xlabel('Maximum Depth')\n",
    "    plt.ylabel('Score')\n",
    "    plt.ylim([-0.05,1.05])\n",
    "    plt.show()"
   ]
  },
  {
   "cell_type": "code",
   "execution_count": 33,
   "metadata": {},
   "outputs": [
    {
     "data": {
      "image/png": "[encoded data removed]",
      "text/plain": [
       "<Figure size 504x360 with 1 Axes>"
      ]
     },
     "metadata": {
      "needs_background": "light"
     },
     "output_type": "display_data"
    }
   ],
   "source": [
    "param_name='max_depth'\n",
    "values_param = np.arange(1,11)\n",
    "scoring='f1'\n",
    "title='Decision Tree Complexity Performance'\n",
    "model_complexity(dtc, title, param_name, values_param, scoring, X, y)"
   ]
  },
  {
   "cell_type": "code",
   "execution_count": 34,
   "metadata": {},
   "outputs": [
    {
     "data": {
      "image/png": "[encoded data removed]",
      "text/plain": [
       "<Figure size 504x360 with 1 Axes>"
      ]
     },
     "metadata": {
      "needs_background": "light"
     },
     "output_type": "display_data"
    }
   ],
   "source": [
    "param_name='max_depth'\n",
    "values_param = np.arange(1,11)\n",
    "scoring='accuracy'\n",
    "title='Decision Tree Complexity Performance'\n",
    "model_complexity(dtc, title, param_name, values_param, scoring, X, y)"
   ]
  },
  {
   "cell_type": "markdown",
   "metadata": {},
   "source": [
    "#### Qual o valor ideal para cada hiperparametro, ou seja, quais valores criam um modelo que melhor generaliza um amostras futuras desconhecidas considerando a analise visual?"
   ]
  },
  {
   "cell_type": "markdown",
   "metadata": {},
   "source": [
    "- **Resposta:** Considerando o gráfico anterior a melhor altura da árvore é quando a árvore atinge profundidade 4, pois a partir\n",
    "desse valor percebemos uma invariação na métrica de teste, mas ainda há crescimento na métrica do dataset de test."
   ]
  },
  {
   "cell_type": "markdown",
   "metadata": {},
   "source": [
    "#### Quando o modelo é treinado com um valor muito baixo para o parametro definido, ele sofre com *underfitting* ou *overfitting*?\n",
    "**Dica:** Como você sabe que um modelo está experimentando viés alto ou variância alta? Viés alto é um sinal de *underfitting* e alta variância é um sinal de *overfitting*. Identifique a qual parte do equilíbrio."
   ]
  },
  {
   "cell_type": "markdown",
   "metadata": {},
   "source": [
    "- **Resposta:** Com um valor muito baixo o modelo sofre de underfitting e muito alto é penalizado com o problema do overfitting, como podemos ver no gráfico"
   ]
  },
  {
   "cell_type": "markdown",
   "metadata": {},
   "source": [
    "#### E o que acontece quando o modelo é treinado com o valor máximo? Justificar suas conclusões analisando o gráfico."
   ]
  },
  {
   "cell_type": "markdown",
   "metadata": {},
   "source": [
    "- **Resposta:** Acontece o problema do overfitting. Justificado anteriormente ;)"
   ]
  },
  {
   "cell_type": "markdown",
   "metadata": {},
   "source": [
    "### PARTE III - + Experimentos ..."
   ]
  },
  {
   "cell_type": "markdown",
   "metadata": {},
   "source": [
    "**Será que é necessário utilizar todas as features dos dados para atingir o valor de uma determinada KPI(Key Performance Indicator)?**"
   ]
  },
  {
   "cell_type": "markdown",
   "metadata": {},
   "source": [
    "Desenvolva uma código de experimentação para analisar o impacto de cada atributo na construção de um modelo (visto até agora) considerando uma métrica definida por você e descubra qual o melhor subset de features. ***Aplique o método wrapper.*** Olha [a dica do Batman](https://machinelearningmastery.com/feature-selection-in-python-with-scikit-learn/)"
   ]
  },
  {
   "cell_type": "markdown",
   "metadata": {},
   "source": [
    "- **Resposta:** No exercício de classificação percebemos que as features que trazem o maior ganho de informação é este subconjunto ('Prenome_ Mr', 'Age', 'Z_Fare', 'Class_3'), porém ao aplicarmos o método Wrapper teremos uma visão de que mais experimentações podem ser realizadas nesse aspecto. O mesmo experimento pode ser realizado para outros modelos, estimadores."
   ]
  },
  {
   "cell_type": "markdown",
   "metadata": {},
   "source": [
    "### Identificando as melhores features para utilizar em outro modelo sem aplicar o cross-validation"
   ]
  },
  {
   "cell_type": "code",
   "execution_count": 35,
   "metadata": {},
   "outputs": [],
   "source": [
    "from sklearn.feature_selection import RFE\n",
    "# create the RFE model and select 3 attributes\n",
    "feat_selector = RFE(estimator=dtc, n_features_to_select=5, step=1)\n",
    "feat_selector = feat_selector.fit(X_train, y_train)"
   ]
  },
  {
   "cell_type": "code",
   "execution_count": 37,
   "metadata": {
    "scrolled": true
   },
   "outputs": [
    {
     "name": "stdout",
     "output_type": "stream",
     "text": [
      "['Age' 'SibSp' 'Class_3' 'Z_Fare' 'Prenome_ Mr']\n"
     ]
    }
   ],
   "source": [
    "# check selected features\n",
    "features_bool = np.array(feat_selector.support_)\n",
    "features = np.array(X_train.columns)\n",
    "result = features[features_bool]\n",
    "print(result)"
   ]
  },
  {
   "cell_type": "code",
   "execution_count": 38,
   "metadata": {},
   "outputs": [
    {
     "name": "stdout",
     "output_type": "stream",
     "text": [
      "[ 1  1  9 18  3 24 20 22 17  1  1 36 38 42  5 40 46 47 35  6 45 56  1 57\n",
      " 60  2 64 65  7  4 48 49 52 14 66 68  8 72 71 63 31 27 23 15 30 25 26 37\n",
      " 13 53 43 51 32 33 34 28 39 55 58 50 59 62 67 61 54 44 41 12 16 10 19 29\n",
      " 21 11 69 70]\n"
     ]
    }
   ],
   "source": [
    "# check ranking of features\n",
    "features_rank = feat_selector.ranking_\n",
    "print(features_rank)"
   ]
  },
  {
   "cell_type": "code",
   "execution_count": 39,
   "metadata": {},
   "outputs": [
    {
     "data": {
      "text/plain": [
       "{'Age': 1,\n",
       " 'SibSp': 1,\n",
       " 'Class_3': 1,\n",
       " 'Z_Fare': 1,\n",
       " 'Prenome_ Mr': 1,\n",
       " 'Prenome_ Rev': 2,\n",
       " 'Embarked_C': 3,\n",
       " 'Ticket_1_5': 4,\n",
       " 'Prenome_ Dr': 5,\n",
       " 'Prenome_ Miss': 6,\n",
       " 'Ticket_1_4': 7,\n",
       " 'Ticket_3_6': 8,\n",
       " 'Parch': 9,\n",
       " 'Ticket_S_17': 10,\n",
       " 'Ticket_W_10': 11,\n",
       " 'Ticket_S_15': 12,\n",
       " 'Ticket_A_8': 13,\n",
       " 'Ticket_2_6': 14,\n",
       " 'Ticket_6_5': 15,\n",
       " 'Ticket_S_16': 16,\n",
       " 'Class_2': 17,\n",
       " 'Gender_male': 18,\n",
       " 'Ticket_S_18': 19,\n",
       " 'Embarked_S': 20,\n",
       " 'Ticket_S_9': 21,\n",
       " 'Class_1': 22,\n",
       " 'Ticket_6_4': 23,\n",
       " 'Embarked_Q': 24,\n",
       " 'Ticket_8_4': 25,\n",
       " 'Ticket_9_4': 26,\n",
       " 'Ticket_6_3': 27,\n",
       " 'Ticket_C_9': 28,\n",
       " 'Ticket_S_7': 29,\n",
       " 'Ticket_7_4': 30,\n",
       " 'Ticket_5_5': 31,\n",
       " 'Ticket_C_6': 32,\n",
       " 'Ticket_C_7': 33,\n",
       " 'Ticket_C_8': 34,\n",
       " 'Prenome_ Master': 35,\n",
       " 'Prenome_ Capt': 36,\n",
       " 'Ticket_A_10': 37,\n",
       " 'Prenome_ Col': 38,\n",
       " 'Ticket_F_10': 39,\n",
       " 'Prenome_ Jonkheer': 40,\n",
       " 'Ticket_S_13': 41,\n",
       " 'Prenome_ Don': 42,\n",
       " 'Ticket_C_10': 43,\n",
       " 'Ticket_S_12': 44,\n",
       " 'Prenome_ Mlle': 45,\n",
       " 'Prenome_ Lady': 46,\n",
       " 'Prenome_ Major': 47,\n",
       " 'Ticket_1_6': 48,\n",
       " 'Ticket_2_4': 49,\n",
       " 'Ticket_L_4': 50,\n",
       " 'Ticket_C_16': 51,\n",
       " 'Ticket_2_5': 52,\n",
       " 'Ticket_A_9': 53,\n",
       " 'Ticket_S_11': 54,\n",
       " 'Ticket_F_12': 55,\n",
       " 'Prenome_ Mme': 56,\n",
       " 'Prenome_ Mrs': 57,\n",
       " 'Ticket_F_9': 58,\n",
       " 'Ticket_P_7': 59,\n",
       " 'Prenome_ Ms': 60,\n",
       " 'Ticket_S_10': 61,\n",
       " 'Ticket_P_8': 62,\n",
       " 'Ticket_5_4': 63,\n",
       " 'Prenome_ Sir': 64,\n",
       " 'Prenome_ the Countess': 65,\n",
       " 'Ticket_3_4': 66,\n",
       " 'Ticket_P_9': 67,\n",
       " 'Ticket_3_5': 68,\n",
       " 'Ticket_W_11': 69,\n",
       " 'Ticket_W_9': 70,\n",
       " 'Ticket_4_4': 71,\n",
       " 'Ticket_3_7': 72}"
      ]
     },
     "execution_count": 39,
     "metadata": {},
     "output_type": "execute_result"
    }
   ],
   "source": [
    "# check ranking of features\n",
    "features_ranking = dict(zip(X_train.columns, feat_selector.ranking_))\n",
    "{k: v for k, v in sorted(features_ranking.items(), key=lambda item: item[1])}"
   ]
  },
  {
   "cell_type": "markdown",
   "metadata": {},
   "source": [
    "#### Identificando o melhor subconjunto utilizando cross-validation"
   ]
  },
  {
   "cell_type": "code",
   "execution_count": 41,
   "metadata": {},
   "outputs": [
    {
     "name": "stdout",
     "output_type": "stream",
     "text": [
      "Número de features ideal: 62\n",
      "As features mais importantes são: \n",
      "['Age' 'SibSp' 'Parch' 'Gender_male' 'Embarked_C' 'Embarked_Q'\n",
      " 'Embarked_S' 'Class_1' 'Class_2' 'Class_3' 'Z_Fare' 'Prenome_ Capt'\n",
      " 'Prenome_ Col' 'Prenome_ Don' 'Prenome_ Dr' 'Prenome_ Jonkheer'\n",
      " 'Prenome_ Lady' 'Prenome_ Major' 'Prenome_ Master' 'Prenome_ Miss'\n",
      " 'Prenome_ Mlle' 'Prenome_ Mme' 'Prenome_ Mr' 'Prenome_ Mrs'\n",
      " 'Prenome_ Rev' 'Ticket_1_4' 'Ticket_1_5' 'Ticket_1_6' 'Ticket_2_4'\n",
      " 'Ticket_2_5' 'Ticket_2_6' 'Ticket_3_6' 'Ticket_5_5' 'Ticket_6_3'\n",
      " 'Ticket_6_4' 'Ticket_6_5' 'Ticket_7_4' 'Ticket_8_4' 'Ticket_9_4'\n",
      " 'Ticket_A_10' 'Ticket_A_8' 'Ticket_A_9' 'Ticket_C_10' 'Ticket_C_16'\n",
      " 'Ticket_C_6' 'Ticket_C_7' 'Ticket_C_8' 'Ticket_C_9' 'Ticket_F_10'\n",
      " 'Ticket_F_12' 'Ticket_F_9' 'Ticket_L_4' 'Ticket_S_11' 'Ticket_S_12'\n",
      " 'Ticket_S_13' 'Ticket_S_15' 'Ticket_S_16' 'Ticket_S_17' 'Ticket_S_18'\n",
      " 'Ticket_S_7' 'Ticket_S_9' 'Ticket_W_10']\n"
     ]
    }
   ],
   "source": [
    "import matplotlib.pyplot as plt\n",
    "from sklearn.model_selection import StratifiedKFold\n",
    "from sklearn.feature_selection import RFECV\n",
    "\n",
    "# The \"f1\" scoring is proportional to the number of correct\n",
    "# classifications\n",
    "rfecv = RFECV(estimator=dtc, step=1, cv=StratifiedKFold(5), \n",
    "              scoring='f1_weighted')\n",
    "rfecv = rfecv.fit(X_train, y_train)\n",
    "\n",
    "print(\"Número de features ideal:\", rfecv.n_features_)\n",
    "print(\"As features mais importantes são: \")\n",
    "print(X_train.columns.values[rfecv.support_])"
   ]
  },
  {
   "cell_type": "code",
   "execution_count": 42,
   "metadata": {},
   "outputs": [
    {
     "data": {
      "image/png": "[encoded data removed]",
      "text/plain": [
       "<Figure size 432x288 with 1 Axes>"
      ]
     },
     "metadata": {
      "needs_background": "light"
     },
     "output_type": "display_data"
    }
   ],
   "source": [
    "# Plot number of features VS. cross-validation scores\n",
    "plt.figure()\n",
    "plt.xlabel(\"Número de Features Selecionada\")\n",
    "plt.ylabel(\"Score do Cross validation\")\n",
    "plt.plot(range(1, len(rfecv.grid_scores_) + 1), rfecv.grid_scores_)\n",
    "plt.show()"
   ]
  },
  {
   "cell_type": "markdown",
   "metadata": {},
   "source": [
    "#### Plot a evolução da métrica a medida que os novos dados são adicionados, utilizando o wrapper method, foward"
   ]
  },
  {
   "cell_type": "code",
   "execution_count": 44,
   "metadata": {},
   "outputs": [],
   "source": [
    "features = X_train.columns\n",
    "features_select = []\n",
    "report = pd.DataFrame()\n",
    "for f in features:\n",
    "    features_select.append(f)\n",
    "    dtc.fit(X_train[features_select], y_train) #Treinando o modelo \n",
    "    predictions = dtc.predict(X_test[features_select]) #Realizando predições\n",
    "    number_of_features = len(features_select)\n",
    "    score = f1_score(y_test, predictions)\n",
    "    row = {'#features': number_of_features, 'score': score}\n",
    "    report = report.append(row, ignore_index=True)"
   ]
  },
  {
   "cell_type": "code",
   "execution_count": 45,
   "metadata": {},
   "outputs": [
    {
     "data": {
      "text/plain": [
       "<matplotlib.axes._subplots.AxesSubplot at 0x7fd29ca50d10>"
      ]
     },
     "execution_count": 45,
     "metadata": {},
     "output_type": "execute_result"
    },
    {
     "data": {
      "image/png": "[encoded data removed]",
      "text/plain": [
       "<Figure size 432x288 with 1 Axes>"
      ]
     },
     "metadata": {
      "needs_background": "light"
     },
     "output_type": "display_data"
    }
   ],
   "source": [
    "sns.lineplot(data=report, x=\"#features\", y=\"score\")"
   ]
  },
  {
   "cell_type": "markdown",
   "metadata": {},
   "source": [
    "**Selecione no mínimo mais duas soluções candidatas, crie novos experimentos e  crie uma tabela com os resultados. Você pode variar o número de amostras, o subset de features, ...**"
   ]
  },
  {
   "cell_type": "markdown",
   "metadata": {},
   "source": [
    "Experimentos solução I"
   ]
  },
  {
   "cell_type": "code",
   "execution_count": 46,
   "metadata": {},
   "outputs": [
    {
     "data": {
      "text/plain": [
       "0.7636363636363637"
      ]
     },
     "execution_count": 46,
     "metadata": {},
     "output_type": "execute_result"
    }
   ],
   "source": [
    "rf = RandomForestClassifier(random_state=RANDOM_STATE)\n",
    "rf.fit(X_train, y_train)\n",
    "predictions = rf.predict(X_test)\n",
    "f1_score(y_test, predictions)"
   ]
  },
  {
   "cell_type": "markdown",
   "metadata": {},
   "source": [
    "Experimentos solução II"
   ]
  },
  {
   "cell_type": "code",
   "execution_count": 47,
   "metadata": {},
   "outputs": [
    {
     "data": {
      "text/plain": [
       "0.7414634146341463"
      ]
     },
     "execution_count": 47,
     "metadata": {},
     "output_type": "execute_result"
    }
   ],
   "source": [
    "knn = KNeighborsClassifier()\n",
    "knn.fit(X_train, y_train)\n",
    "predictions = knn.predict(X_test)\n",
    "f1_score(y_test, predictions)"
   ]
  },
  {
   "cell_type": "markdown",
   "metadata": {},
   "source": [
    "Tabela com os resultados"
   ]
  },
  {
   "cell_type": "markdown",
   "metadata": {},
   "source": [
    "**Resposta:** Considerando estes simples experimentos com todas as amostras temos os seguintes resultados. Observe que as análises de overfitting e undeffiting não fizeram parte desta análise, embora tenham sido feitas anteriormente para o modelo de árvore de decisão.\n",
    " - KNN: ~74%\n",
    " - Random Forest: ~76.3%\n",
    " - Árvore de decisão: ~83%"
   ]
  },
  {
   "cell_type": "code",
   "execution_count": null,
   "metadata": {},
   "outputs": [],
   "source": []
  }
 ],
 "metadata": {
  "kernelspec": {
   "display_name": "Python 3",
   "language": "python",
   "name": "python3"
  },
  "language_info": {
   "codemirror_mode": {
    "name": "ipython",
    "version": 3
   },
   "file_extension": ".py",
   "mimetype": "text/x-python",
   "name": "python",
   "nbconvert_exporter": "python",
   "pygments_lexer": "ipython3",
   "version": "3.7.6"
  }
 },
 "nbformat": 4,
 "nbformat_minor": 2
}
