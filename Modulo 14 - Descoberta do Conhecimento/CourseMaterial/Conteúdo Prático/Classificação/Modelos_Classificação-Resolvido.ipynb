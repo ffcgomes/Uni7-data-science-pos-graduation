{
 "cells": [
  {
   "cell_type": "markdown",
   "metadata": {},
   "source": [
    "#### Neste exercício iremos criar um classificador sobre para classificar os indíviduos que sobreviveram ou não no titanic, logo nossa variável é a *Survived*\n",
    "\n",
    "### Dicionário de Dados\n",
    "\n",
    "**Survived**: Sobrevivente (Não=0, Sim=1)\n",
    "\n",
    "**Pclass**: Classe de ingresso (1=1st, 2=2nd, 3=3rd)\n",
    "\n",
    "**Sex**: Sexo\n",
    "\n",
    "**Age**: Idade em anos\n",
    "\n",
    "**Sibsp**: Quantidade de irmãos e cônjuges a bordo do Titanic\n",
    "\n",
    "**Parch**: Quantidade de pais e filhos  a bordo do Titanic\n",
    "\n",
    "**Ticket**: Número do ticket\n",
    "\n",
    "**Fare**: Tarifa do passageiro\n",
    "\n",
    "**Cabin**: Número da cabine\t\n",
    "\n",
    "**Embarked**: Portão de Embarque (C=Cherbourg, Q=Queenstown, S=Southampton)"
   ]
  },
  {
   "cell_type": "markdown",
   "metadata": {},
   "source": [
    "## Import as bibliotecas"
   ]
  },
  {
   "cell_type": "markdown",
   "metadata": {},
   "source": [
    "* Importe as bibliotecas necessárias (sklearn, pandas, ...)"
   ]
  },
  {
   "cell_type": "code",
   "execution_count": 1,
   "metadata": {},
   "outputs": [],
   "source": [
    "import pandas as pd\n",
    "import seaborn as sns "
   ]
  },
  {
   "cell_type": "markdown",
   "metadata": {},
   "source": [
    "## Acessando os dados"
   ]
  },
  {
   "cell_type": "markdown",
   "metadata": {},
   "source": [
    "* Recupere o **titanic_ready_to_ml.csv**"
   ]
  },
  {
   "cell_type": "code",
   "execution_count": 2,
   "metadata": {},
   "outputs": [],
   "source": [
    "train = pd.read_csv(\"titanic_ready_to_ml.csv\")"
   ]
  },
  {
   "cell_type": "markdown",
   "metadata": {},
   "source": [
    "## Construindo do modelo"
   ]
  },
  {
   "cell_type": "markdown",
   "metadata": {},
   "source": [
    "#### Importe a classe [DecisionTreeClassifier](https://scikit-learn.org/stable/modules/generated/sklearn.tree.DecisionTreeClassifier.html) e [RandomForestClassifier](https://scikit-learn.org/stable/modules/generated/sklearn.ensemble.RandomForestClassifier.html) do Sklearn"
   ]
  },
  {
   "cell_type": "code",
   "execution_count": 3,
   "metadata": {},
   "outputs": [],
   "source": [
    "from sklearn.tree import DecisionTreeClassifier\n",
    "from sklearn.ensemble import RandomForestClassifier\n",
    "from sklearn.metrics import classification_report, confusion_matrix"
   ]
  },
  {
   "cell_type": "markdown",
   "metadata": {},
   "source": [
    "### Separe os dados em teste e treino"
   ]
  },
  {
   "cell_type": "markdown",
   "metadata": {},
   "source": [
    "* Importe [train_test_split](https://scikit-learn.org/stable/modules/generated/sklearn.model_selection.train_test_split.html), para facilitar a sepração do treino e do teste, utilize o test_size de 30% e random state igual a 16\n",
    "* Crie as variáveis X_train, X_test, y_train, y_test a partir do retorno da função da função train_test_split"
   ]
  },
  {
   "cell_type": "code",
   "execution_count": 4,
   "metadata": {},
   "outputs": [],
   "source": [
    "from sklearn.model_selection import train_test_split\n",
    "good_data = train.drop(['Survived'], axis=1)\n",
    "X_train, X_test, y_train, y_test = train_test_split(train.drop(['Survived'], axis=1), \n",
    "                                                   train['Survived'], test_size=0.30, \n",
    "                                                    random_state=101)"
   ]
  },
  {
   "cell_type": "markdown",
   "metadata": {},
   "source": [
    "### Instacie um objeto da classe DecisionTreeClassifier()"
   ]
  },
  {
   "cell_type": "code",
   "execution_count": 5,
   "metadata": {},
   "outputs": [],
   "source": [
    "dtc = RandomForestClassifier(random_state=1)"
   ]
  },
  {
   "cell_type": "markdown",
   "metadata": {},
   "source": [
    "### Treine o modelo chamando a função fit do modelo passando os parametros de treinamento"
   ]
  },
  {
   "cell_type": "code",
   "execution_count": 6,
   "metadata": {},
   "outputs": [],
   "source": [
    "model = dtc.fit(X_train, y_train)"
   ]
  },
  {
   "cell_type": "markdown",
   "metadata": {},
   "source": [
    "### Faça as predições, sobre os dados de teste criados anteriormente, invocando a função predict do modelo criado\n",
    "   * Chame a função *predict_proba* em outra célula. Qual a diferença desse método para o método predict?\n",
    "   - **Resp.:** O método predict_proba retorna as probabilidades da classificação entre as classes"
   ]
  },
  {
   "cell_type": "code",
   "execution_count": 7,
   "metadata": {},
   "outputs": [],
   "source": [
    "predictions = model.predict(X_test)"
   ]
  },
  {
   "cell_type": "code",
   "execution_count": 8,
   "metadata": {},
   "outputs": [
    {
     "data": {
      "text/plain": [
       "array([0, 0, 1, 1, 0, 0, 1, 0, 0, 1, 1, 1, 0, 0, 0, 0, 1, 1, 1, 0, 0, 0,\n",
       "       0, 0, 0, 0, 1, 0, 1, 0, 0, 0, 0, 0, 0, 0, 1, 0, 0, 0, 1, 0, 0, 1,\n",
       "       1, 0, 1, 1, 1, 0, 1, 1, 0, 0, 0, 0, 0, 1, 0, 1, 1, 1, 1, 0, 1, 0,\n",
       "       0, 1, 0, 0, 0, 0, 1, 1, 0, 1, 0, 0, 0, 0, 0, 1, 1, 0, 0, 1, 0, 1,\n",
       "       0, 1, 0, 1, 1, 0, 1, 1, 1, 1, 0, 1, 1, 1, 0, 1, 1, 0, 1, 0, 1, 1,\n",
       "       0, 0, 1, 1, 0, 1, 0, 0, 1, 1, 1, 0, 0, 0, 0, 1, 1, 1, 1, 1, 0, 1,\n",
       "       1, 0, 1, 0, 0, 0, 1, 0, 0, 0, 0, 0, 0, 0, 0, 0, 0, 1, 0, 1, 0, 1,\n",
       "       0, 0, 0, 0, 1, 0, 0, 0, 0, 0, 0, 1, 0, 0, 0, 0, 1, 0, 1, 0, 0, 0,\n",
       "       0, 0, 1, 0, 1, 0, 1, 1, 0, 0, 1, 0, 0, 0, 0, 0, 1, 0, 0, 0, 0, 0,\n",
       "       0, 0, 0, 0, 1, 0, 1, 0, 0, 0, 0, 0, 0, 0, 0, 0, 1, 1, 1, 0, 0, 0,\n",
       "       0, 0, 1, 0, 1, 0, 0, 0, 0, 0, 1, 0, 0, 0, 1, 1, 1, 0, 1, 0, 0, 0,\n",
       "       0, 0, 1, 0, 1, 0, 0, 1, 0, 1, 0, 0, 0, 0, 0, 1, 0, 1, 1, 0, 0, 0,\n",
       "       0, 1, 0])"
      ]
     },
     "execution_count": 8,
     "metadata": {},
     "output_type": "execute_result"
    }
   ],
   "source": [
    "predictions"
   ]
  },
  {
   "cell_type": "code",
   "execution_count": 9,
   "metadata": {},
   "outputs": [
    {
     "data": {
      "text/plain": [
       "array([[0.98      , 0.02      ],\n",
       "       [1.        , 0.        ],\n",
       "       [0.10666667, 0.89333333],\n",
       "       [0.05      , 0.95      ],\n",
       "       [0.99      , 0.01      ],\n",
       "       [0.89      , 0.11      ],\n",
       "       [0.11      , 0.89      ],\n",
       "       [0.97      , 0.03      ],\n",
       "       [0.99      , 0.01      ],\n",
       "       [0.14333333, 0.85666667],\n",
       "       [0.07333333, 0.92666667],\n",
       "       [0.        , 1.        ],\n",
       "       [1.        , 0.        ],\n",
       "       [0.75      , 0.25      ],\n",
       "       [0.99      , 0.01      ],\n",
       "       [0.99      , 0.01      ],\n",
       "       [0.02      , 0.98      ],\n",
       "       [0.12      , 0.88      ],\n",
       "       [0.42      , 0.58      ],\n",
       "       [0.84      , 0.16      ],\n",
       "       [1.        , 0.        ],\n",
       "       [0.82      , 0.18      ],\n",
       "       [0.98416667, 0.01583333],\n",
       "       [1.        , 0.        ],\n",
       "       [0.95      , 0.05      ],\n",
       "       [0.81      , 0.19      ],\n",
       "       [0.4       , 0.6       ],\n",
       "       [0.62      , 0.38      ],\n",
       "       [0.46      , 0.54      ],\n",
       "       [0.97      , 0.03      ],\n",
       "       [0.89166667, 0.10833333],\n",
       "       [0.66      , 0.34      ],\n",
       "       [0.99      , 0.01      ],\n",
       "       [0.9475    , 0.0525    ],\n",
       "       [1.        , 0.        ],\n",
       "       [0.9       , 0.1       ],\n",
       "       [0.16      , 0.84      ],\n",
       "       [1.        , 0.        ],\n",
       "       [0.85      , 0.15      ],\n",
       "       [0.98333333, 0.01666667],\n",
       "       [0.37      , 0.63      ],\n",
       "       [0.96      , 0.04      ],\n",
       "       [0.69      , 0.31      ],\n",
       "       [0.05      , 0.95      ],\n",
       "       [0.16      , 0.84      ],\n",
       "       [0.98333333, 0.01666667],\n",
       "       [0.15      , 0.85      ],\n",
       "       [0.09      , 0.91      ],\n",
       "       [0.06      , 0.94      ],\n",
       "       [0.99      , 0.01      ],\n",
       "       [0.37166667, 0.62833333],\n",
       "       [0.1       , 0.9       ],\n",
       "       [0.85      , 0.15      ],\n",
       "       [0.98      , 0.02      ],\n",
       "       [0.99      , 0.01      ],\n",
       "       [0.99      , 0.01      ],\n",
       "       [0.86      , 0.14      ],\n",
       "       [0.19      , 0.81      ],\n",
       "       [0.9       , 0.1       ],\n",
       "       [0.01      , 0.99      ],\n",
       "       [0.32333333, 0.67666667],\n",
       "       [0.11      , 0.89      ],\n",
       "       [0.01      , 0.99      ],\n",
       "       [0.98      , 0.02      ],\n",
       "       [0.36      , 0.64      ],\n",
       "       [0.91      , 0.09      ],\n",
       "       [1.        , 0.        ],\n",
       "       [0.15      , 0.85      ],\n",
       "       [0.79      , 0.21      ],\n",
       "       [0.97      , 0.03      ],\n",
       "       [0.85      , 0.15      ],\n",
       "       [1.        , 0.        ],\n",
       "       [0.29      , 0.71      ],\n",
       "       [0.        , 1.        ],\n",
       "       [1.        , 0.        ],\n",
       "       [0.35913889, 0.64086111],\n",
       "       [0.93      , 0.07      ],\n",
       "       [1.        , 0.        ],\n",
       "       [0.93333333, 0.06666667],\n",
       "       [0.5       , 0.5       ],\n",
       "       [0.76      , 0.24      ],\n",
       "       [0.1       , 0.9       ],\n",
       "       [0.26      , 0.74      ],\n",
       "       [0.99      , 0.01      ],\n",
       "       [0.92      , 0.08      ],\n",
       "       [0.2       , 0.8       ],\n",
       "       [0.97      , 0.03      ],\n",
       "       [0.25      , 0.75      ],\n",
       "       [0.82      , 0.18      ],\n",
       "       [0.03      , 0.97      ],\n",
       "       [0.73      , 0.27      ],\n",
       "       [0.32      , 0.68      ],\n",
       "       [0.12      , 0.88      ],\n",
       "       [0.98      , 0.02      ],\n",
       "       [0.11      , 0.89      ],\n",
       "       [0.01      , 0.99      ],\n",
       "       [0.3       , 0.7       ],\n",
       "       [0.25      , 0.75      ],\n",
       "       [0.88      , 0.12      ],\n",
       "       [0.23      , 0.77      ],\n",
       "       [0.11      , 0.89      ],\n",
       "       [0.125     , 0.875     ],\n",
       "       [0.86      , 0.14      ],\n",
       "       [0.1       , 0.9       ],\n",
       "       [0.12      , 0.88      ],\n",
       "       [1.        , 0.        ],\n",
       "       [0.06      , 0.94      ],\n",
       "       [0.91      , 0.09      ],\n",
       "       [0.35      , 0.65      ],\n",
       "       [0.28      , 0.72      ],\n",
       "       [0.9275    , 0.0725    ],\n",
       "       [0.57      , 0.43      ],\n",
       "       [0.08      , 0.92      ],\n",
       "       [0.085     , 0.915     ],\n",
       "       [1.        , 0.        ],\n",
       "       [0.04      , 0.96      ],\n",
       "       [0.8       , 0.2       ],\n",
       "       [0.98      , 0.02      ],\n",
       "       [0.015     , 0.985     ],\n",
       "       [0.14      , 0.86      ],\n",
       "       [0.4       , 0.6       ],\n",
       "       [1.        , 0.        ],\n",
       "       [0.85      , 0.15      ],\n",
       "       [0.93      , 0.07      ],\n",
       "       [0.5       , 0.5       ],\n",
       "       [0.22      , 0.78      ],\n",
       "       [0.17      , 0.83      ],\n",
       "       [0.3       , 0.7       ],\n",
       "       [0.11      , 0.89      ],\n",
       "       [0.49      , 0.51      ],\n",
       "       [0.91      , 0.09      ],\n",
       "       [0.22      , 0.78      ],\n",
       "       [0.        , 1.        ],\n",
       "       [0.51      , 0.49      ],\n",
       "       [0.39      , 0.61      ],\n",
       "       [0.9775    , 0.0225    ],\n",
       "       [0.9       , 0.1       ],\n",
       "       [0.98      , 0.02      ],\n",
       "       [0.23      , 0.77      ],\n",
       "       [0.94      , 0.06      ],\n",
       "       [0.99      , 0.01      ],\n",
       "       [0.94      , 0.06      ],\n",
       "       [0.57      , 0.43      ],\n",
       "       [0.96      , 0.04      ],\n",
       "       [0.97416667, 0.02583333],\n",
       "       [0.73      , 0.27      ],\n",
       "       [0.97      , 0.03      ],\n",
       "       [0.96      , 0.04      ],\n",
       "       [0.59      , 0.41      ],\n",
       "       [0.15083333, 0.84916667],\n",
       "       [1.        , 0.        ],\n",
       "       [0.05      , 0.95      ],\n",
       "       [0.7       , 0.3       ],\n",
       "       [0.08      , 0.92      ],\n",
       "       [0.52      , 0.48      ],\n",
       "       [0.5       , 0.5       ],\n",
       "       [0.8       , 0.2       ],\n",
       "       [0.8775    , 0.1225    ],\n",
       "       [0.04      , 0.96      ],\n",
       "       [0.56      , 0.44      ],\n",
       "       [0.94      , 0.06      ],\n",
       "       [1.        , 0.        ],\n",
       "       [0.51      , 0.49      ],\n",
       "       [0.69      , 0.31      ],\n",
       "       [0.83      , 0.17      ],\n",
       "       [0.17      , 0.83      ],\n",
       "       [0.81      , 0.19      ],\n",
       "       [0.99      , 0.01      ],\n",
       "       [0.77      , 0.23      ],\n",
       "       [0.54      , 0.46      ],\n",
       "       [0.12772222, 0.87227778],\n",
       "       [0.66      , 0.34      ],\n",
       "       [0.11      , 0.89      ],\n",
       "       [0.63      , 0.37      ],\n",
       "       [0.92      , 0.08      ],\n",
       "       [0.61      , 0.39      ],\n",
       "       [0.54566667, 0.45433333],\n",
       "       [0.88      , 0.12      ],\n",
       "       [0.02      , 0.98      ],\n",
       "       [0.91      , 0.09      ],\n",
       "       [0.37497222, 0.62502778],\n",
       "       [0.84535714, 0.15464286],\n",
       "       [0.40333333, 0.59666667],\n",
       "       [0.06388889, 0.93611111],\n",
       "       [0.94      , 0.06      ],\n",
       "       [0.744     , 0.256     ],\n",
       "       [0.13      , 0.87      ],\n",
       "       [0.67      , 0.33      ],\n",
       "       [0.74      , 0.26      ],\n",
       "       [0.97066667, 0.02933333],\n",
       "       [0.99      , 0.01      ],\n",
       "       [0.75      , 0.25      ],\n",
       "       [0.23      , 0.77      ],\n",
       "       [0.99      , 0.01      ],\n",
       "       [0.97      , 0.03      ],\n",
       "       [0.85      , 0.15      ],\n",
       "       [0.58      , 0.42      ],\n",
       "       [0.99      , 0.01      ],\n",
       "       [0.96      , 0.04      ],\n",
       "       [0.51      , 0.49      ],\n",
       "       [0.67      , 0.33      ],\n",
       "       [0.55      , 0.45      ],\n",
       "       [0.02      , 0.98      ],\n",
       "       [0.99      , 0.01      ],\n",
       "       [0.19      , 0.81      ],\n",
       "       [0.9       , 0.1       ],\n",
       "       [0.93      , 0.07      ],\n",
       "       [0.5       , 0.5       ],\n",
       "       [0.94      , 0.06      ],\n",
       "       [0.99      , 0.01      ],\n",
       "       [0.98      , 0.02      ],\n",
       "       [1.        , 0.        ],\n",
       "       [0.74      , 0.26      ],\n",
       "       [0.525     , 0.475     ],\n",
       "       [0.49      , 0.51      ],\n",
       "       [0.03333333, 0.96666667],\n",
       "       [0.19      , 0.81      ],\n",
       "       [0.99      , 0.01      ],\n",
       "       [0.61      , 0.39      ],\n",
       "       [0.88      , 0.12      ],\n",
       "       [0.51      , 0.49      ],\n",
       "       [0.88      , 0.12      ],\n",
       "       [0.44      , 0.56      ],\n",
       "       [0.99      , 0.01      ],\n",
       "       [0.16      , 0.84      ],\n",
       "       [0.94      , 0.06      ],\n",
       "       [0.97      , 0.03      ],\n",
       "       [0.65      , 0.35      ],\n",
       "       [0.92      , 0.08      ],\n",
       "       [1.        , 0.        ],\n",
       "       [0.24      , 0.76      ],\n",
       "       [0.99      , 0.01      ],\n",
       "       [0.97      , 0.03      ],\n",
       "       [1.        , 0.        ],\n",
       "       [0.3       , 0.7       ],\n",
       "       [0.02      , 0.98      ],\n",
       "       [0.37997222, 0.62002778],\n",
       "       [0.885     , 0.115     ],\n",
       "       [0.08      , 0.92      ],\n",
       "       [0.99      , 0.01      ],\n",
       "       [1.        , 0.        ],\n",
       "       [0.89733333, 0.10266667],\n",
       "       [0.97      , 0.03      ],\n",
       "       [0.93      , 0.07      ],\n",
       "       [0.155     , 0.845     ],\n",
       "       [1.        , 0.        ],\n",
       "       [0.12      , 0.88      ],\n",
       "       [0.61      , 0.39      ],\n",
       "       [0.8       , 0.2       ],\n",
       "       [0.12      , 0.88      ],\n",
       "       [1.        , 0.        ],\n",
       "       [0.32      , 0.68      ],\n",
       "       [0.64416667, 0.35583333],\n",
       "       [0.96      , 0.04      ],\n",
       "       [0.66833333, 0.33166667],\n",
       "       [0.97      , 0.03      ],\n",
       "       [0.85      , 0.15      ],\n",
       "       [0.38      , 0.62      ],\n",
       "       [0.94      , 0.06      ],\n",
       "       [0.1725    , 0.8275    ],\n",
       "       [0.2       , 0.8       ],\n",
       "       [0.93      , 0.07      ],\n",
       "       [0.88      , 0.12      ],\n",
       "       [1.        , 0.        ],\n",
       "       [1.        , 0.        ],\n",
       "       [0.        , 1.        ],\n",
       "       [0.99      , 0.01      ]])"
      ]
     },
     "execution_count": 9,
     "metadata": {},
     "output_type": "execute_result"
    }
   ],
   "source": [
    "predictions_proba = model.predict_proba(X_test)\n",
    "predictions_proba"
   ]
  },
  {
   "cell_type": "markdown",
   "metadata": {},
   "source": [
    "## Avaliando o modelo"
   ]
  },
  {
   "cell_type": "markdown",
   "metadata": {},
   "source": [
    "### Importe e utilize a função [confusion_matrix](https://scikit-learn.org/stable/modules/generated/sklearn.metrics.confusion_matrix.html) para construir a matriz de confusão, sobre os valores preditos e valores reais.\n",
    "* *Dica:* Você pode querer visualizar a matriz, veja este [exemplo](https://scikit-learn.org/stable/auto_examples/model_selection/plot_confusion_matrix.html#sphx-glr-auto-examples-model-selection-plot-confusion-matrix-py)\n",
    "* **Para reflexão:** O que pode haver de comum entre os falsos positivos e os falsos negativos?"
   ]
  },
  {
   "cell_type": "code",
   "execution_count": 10,
   "metadata": {},
   "outputs": [
    {
     "data": {
      "text/plain": [
       "array([[ 80,  24],\n",
       "       [ 17, 146]])"
      ]
     },
     "execution_count": 10,
     "metadata": {},
     "output_type": "execute_result"
    }
   ],
   "source": [
    "cnf_matrix = confusion_matrix(y_test, predictions, labels=[1,0])\n",
    "cnf_matrix"
   ]
  },
  {
   "cell_type": "code",
   "execution_count": 11,
   "metadata": {},
   "outputs": [],
   "source": [
    "import itertools\n",
    "import numpy as np\n",
    "import matplotlib.pyplot as plt\n",
    "\n",
    "def plot_confusion_matrix(cm, classes,\n",
    "                          normalize=False,\n",
    "                          title='Matriz de confusão',\n",
    "                          cmap=plt.cm.Blues):\n",
    "    \"\"\"\n",
    "    This function prints and plots the confusion matrix.\n",
    "    Normalization can be applied by setting `normalize=True`.\n",
    "    \"\"\"\n",
    "    if normalize:\n",
    "        cm = cm.astype('float') / cm.sum(axis=1)[:, np.newaxis]\n",
    "        print(\"Normalized confusion matrix\")\n",
    "    else:\n",
    "        print('Confusion matrix, without normalization')\n",
    "\n",
    "    print(cm)\n",
    "\n",
    "    plt.imshow(cm, interpolation='nearest', cmap=cmap)\n",
    "    plt.title(title)\n",
    "    plt.colorbar()\n",
    "    tick_marks = np.arange(len(classes))\n",
    "    plt.xticks(tick_marks, classes, rotation=45)\n",
    "    plt.yticks(tick_marks, classes)\n",
    "\n",
    "    fmt = '.2f' if normalize else 'd'\n",
    "    thresh = cm.max() / 2.\n",
    "    for i, j in itertools.product(range(cm.shape[0]), range(cm.shape[1])):\n",
    "        plt.text(j, i, format(cm[i, j], fmt),\n",
    "                 horizontalalignment=\"center\",\n",
    "                 color=\"white\" if cm[i, j] > thresh else \"black\")\n",
    "\n",
    "    plt.ylabel('True label')\n",
    "    plt.xlabel('Predicted label')\n",
    "    plt.tight_layout()"
   ]
  },
  {
   "cell_type": "code",
   "execution_count": 12,
   "metadata": {},
   "outputs": [
    {
     "name": "stdout",
     "output_type": "stream",
     "text": [
      "Confusion matrix, without normalization\n",
      "[[ 80  24]\n",
      " [ 17 146]]\n"
     ]
    },
    {
     "data": {
      "image/png": "[encoded data removed]",
      "text/plain": [
       "<Figure size 432x288 with 2 Axes>"
      ]
     },
     "metadata": {
      "needs_background": "light"
     },
     "output_type": "display_data"
    }
   ],
   "source": [
    "cnf_matrix = confusion_matrix(y_test, predictions, labels=[1,0])\n",
    "plot_confusion_matrix(cnf_matrix, classes=['Sobrevivente','Nao sobrevivente'],\n",
    "                      title='Matriz de confusão')"
   ]
  },
  {
   "cell_type": "markdown",
   "metadata": {},
   "source": [
    "### Importe e utilize a função [classification_report](https://scikit-learn.org/stable/modules/generated/sklearn.metrics.classification_report.html) para visualizar algumas métricas sobre o seu resultado"
   ]
  },
  {
   "cell_type": "code",
   "execution_count": 13,
   "metadata": {},
   "outputs": [
    {
     "name": "stdout",
     "output_type": "stream",
     "text": [
      "              precision    recall  f1-score   support\n",
      "\n",
      "           0       0.86      0.90      0.88       163\n",
      "           1       0.82      0.77      0.80       104\n",
      "\n",
      "    accuracy                           0.85       267\n",
      "   macro avg       0.84      0.83      0.84       267\n",
      "weighted avg       0.85      0.85      0.85       267\n",
      "\n"
     ]
    }
   ],
   "source": [
    "print(classification_report(y_test,predictions))"
   ]
  },
  {
   "cell_type": "markdown",
   "metadata": {},
   "source": [
    "## Interpretando os resultados do modelo"
   ]
  },
  {
   "cell_type": "markdown",
   "metadata": {},
   "source": [
    "### Quais as features mais importantes? Visualize o impacto das features na classificação\n",
    "* *Dica:* Utilize a função feature_importances_ do modelo construído"
   ]
  },
  {
   "cell_type": "code",
   "execution_count": 14,
   "metadata": {},
   "outputs": [
    {
     "data": {
      "text/html": [
       "<div>\n",
       "<style scoped>\n",
       "    .dataframe tbody tr th:only-of-type {\n",
       "        vertical-align: middle;\n",
       "    }\n",
       "\n",
       "    .dataframe tbody tr th {\n",
       "        vertical-align: top;\n",
       "    }\n",
       "\n",
       "    .dataframe thead th {\n",
       "        text-align: right;\n",
       "    }\n",
       "</style>\n",
       "<table border=\"1\" class=\"dataframe\">\n",
       "  <thead>\n",
       "    <tr style=\"text-align: right;\">\n",
       "      <th></th>\n",
       "      <th>value</th>\n",
       "    </tr>\n",
       "  </thead>\n",
       "  <tbody>\n",
       "    <tr>\n",
       "      <th>Age</th>\n",
       "      <td>0.192643</td>\n",
       "    </tr>\n",
       "    <tr>\n",
       "      <th>Z_Fare</th>\n",
       "      <td>0.171884</td>\n",
       "    </tr>\n",
       "    <tr>\n",
       "      <th>Prenome_ Mr</th>\n",
       "      <td>0.120213</td>\n",
       "    </tr>\n",
       "    <tr>\n",
       "      <th>Gender_male</th>\n",
       "      <td>0.094066</td>\n",
       "    </tr>\n",
       "    <tr>\n",
       "      <th>Class_3</th>\n",
       "      <td>0.045625</td>\n",
       "    </tr>\n",
       "  </tbody>\n",
       "</table>\n",
       "</div>"
      ],
      "text/plain": [
       "                value\n",
       "Age          0.192643\n",
       "Z_Fare       0.171884\n",
       "Prenome_ Mr  0.120213\n",
       "Gender_male  0.094066\n",
       "Class_3      0.045625"
      ]
     },
     "execution_count": 14,
     "metadata": {},
     "output_type": "execute_result"
    }
   ],
   "source": [
    "features = good_data.columns\n",
    "df_import_features = dict(zip(features, dtc.feature_importances_))\n",
    "df_import_features = pd.DataFrame.from_dict(df_import_features, orient='index', columns = ['value'])\n",
    "df_import_features = df_import_features.sort_values(['value'], ascending=False)\n",
    "df_import_features.head()"
   ]
  },
  {
   "cell_type": "markdown",
   "metadata": {},
   "source": [
    "### Plote em um scatterplot com duas das principais variáveis no eixo x e y e verifique a distinção das classes. <!--Veja este [exemplo](https://medium.com/machine-learning-beyond-deep-learning/%C3%A1rvores-de-decis%C3%A3o-3f52f6420b69)-->"
   ]
  },
  {
   "cell_type": "code",
   "execution_count": 15,
   "metadata": {},
   "outputs": [
    {
     "data": {
      "text/plain": [
       "<matplotlib.axes._subplots.AxesSubplot at 0x7fd341f7dc50>"
      ]
     },
     "execution_count": 15,
     "metadata": {},
     "output_type": "execute_result"
    },
    {
     "data": {
      "image/png": "[encoded data removed]",
      "text/plain": [
       "<Figure size 432x288 with 1 Axes>"
      ]
     },
     "metadata": {
      "needs_background": "light"
     },
     "output_type": "display_data"
    }
   ],
   "source": [
    "sns.scatterplot(data=train, x='Age', y='Z_Fare', hue='Survived')"
   ]
  },
  {
   "cell_type": "code",
   "execution_count": 16,
   "metadata": {},
   "outputs": [
    {
     "data": {
      "text/plain": [
       "<matplotlib.axes._subplots.AxesSubplot at 0x7fd342010750>"
      ]
     },
     "execution_count": 16,
     "metadata": {},
     "output_type": "execute_result"
    },
    {
     "data": {
      "image/png": "[encoded data removed]",
      "text/plain": [
       "<Figure size 432x288 with 1 Axes>"
      ]
     },
     "metadata": {
      "needs_background": "light"
     },
     "output_type": "display_data"
    }
   ],
   "source": [
    "sns.scatterplot(data=train, x='Age', y='Gender_male', hue='Survived')"
   ]
  },
  {
   "cell_type": "markdown",
   "metadata": {},
   "source": [
    "# Tuning Model"
   ]
  },
  {
   "cell_type": "markdown",
   "metadata": {},
   "source": [
    "### Treine o modelo apenas com as 4 features mais importantes e veja a matriz de confusão\n",
    "   - Plus: Tente variar algum hiperparamêtro para tentar melhor as KPIs"
   ]
  },
  {
   "cell_type": "code",
   "execution_count": 17,
   "metadata": {},
   "outputs": [
    {
     "data": {
      "text/html": [
       "<div>\n",
       "<style scoped>\n",
       "    .dataframe tbody tr th:only-of-type {\n",
       "        vertical-align: middle;\n",
       "    }\n",
       "\n",
       "    .dataframe tbody tr th {\n",
       "        vertical-align: top;\n",
       "    }\n",
       "\n",
       "    .dataframe thead th {\n",
       "        text-align: right;\n",
       "    }\n",
       "</style>\n",
       "<table border=\"1\" class=\"dataframe\">\n",
       "  <thead>\n",
       "    <tr style=\"text-align: right;\">\n",
       "      <th></th>\n",
       "      <th>value</th>\n",
       "    </tr>\n",
       "  </thead>\n",
       "  <tbody>\n",
       "    <tr>\n",
       "      <th>Age</th>\n",
       "      <td>0.192643</td>\n",
       "    </tr>\n",
       "    <tr>\n",
       "      <th>Z_Fare</th>\n",
       "      <td>0.171884</td>\n",
       "    </tr>\n",
       "    <tr>\n",
       "      <th>Prenome_ Mr</th>\n",
       "      <td>0.120213</td>\n",
       "    </tr>\n",
       "    <tr>\n",
       "      <th>Gender_male</th>\n",
       "      <td>0.094066</td>\n",
       "    </tr>\n",
       "  </tbody>\n",
       "</table>\n",
       "</div>"
      ],
      "text/plain": [
       "                value\n",
       "Age          0.192643\n",
       "Z_Fare       0.171884\n",
       "Prenome_ Mr  0.120213\n",
       "Gender_male  0.094066"
      ]
     },
     "execution_count": 17,
     "metadata": {},
     "output_type": "execute_result"
    }
   ],
   "source": [
    "df_import_features.head(4)"
   ]
  },
  {
   "cell_type": "markdown",
   "metadata": {},
   "source": [
    "### Você pode alterar a forma como os dados foram tratados e verificar novas formas de pré-processamento e analisar o impacto no modelo"
   ]
  },
  {
   "cell_type": "code",
   "execution_count": 25,
   "metadata": {},
   "outputs": [
    {
     "name": "stdout",
     "output_type": "stream",
     "text": [
      "              precision    recall  f1-score   support\n",
      "\n",
      "           0       0.81      0.89      0.85       163\n",
      "           1       0.80      0.67      0.73       104\n",
      "\n",
      "    accuracy                           0.81       267\n",
      "   macro avg       0.80      0.78      0.79       267\n",
      "weighted avg       0.80      0.81      0.80       267\n",
      "\n"
     ]
    }
   ],
   "source": [
    "best_columns = ['Age', 'Z_Fare', 'Prenome_ Mr']\n",
    "#dtc = DecisionTreeClassifier(max_depth=10, min_samples_leaf=10)\n",
    "model = dtc.fit(X_train[best_columns], y_train)\n",
    "predictions = model.predict(X_test[best_columns])\n",
    "print(classification_report(y_test,predictions))"
   ]
  },
  {
   "cell_type": "code",
   "execution_count": 26,
   "metadata": {},
   "outputs": [
    {
     "name": "stdout",
     "output_type": "stream",
     "text": [
      "Confusion matrix, without normalization\n",
      "[[ 70  34]\n",
      " [ 18 145]]\n"
     ]
    },
    {
     "data": {
      "image/png": "[encoded data removed]",
      "text/plain": [
       "<Figure size 432x288 with 2 Axes>"
      ]
     },
     "metadata": {
      "needs_background": "light"
     },
     "output_type": "display_data"
    }
   ],
   "source": [
    "cnf_matrix = confusion_matrix(y_test, predictions, labels=[1,0])\n",
    "plot_confusion_matrix(cnf_matrix, classes=['Sobrevivente','Nao sobrevivente'],\n",
    "                      title='Matriz de confusão')"
   ]
  },
  {
   "cell_type": "markdown",
   "metadata": {},
   "source": [
    "### Calcule a área da curva [ROC](https://scikit-learn.org/stable/modules/generated/sklearn.metrics.roc_auc_score.html) para os dois modelos\n",
    "   - Dica: Você querer [visualizar a área da curva ROC]\n",
    "   - Dica: Para o cálculo da área da curva roc é necessário passar como parâmetro as probabilidades, ou seja, utilize o método predict_proba() das predições"
   ]
  },
  {
   "cell_type": "code",
   "execution_count": 27,
   "metadata": {},
   "outputs": [
    {
     "name": "stdout",
     "output_type": "stream",
     "text": [
      "0.8104058518168947\n"
     ]
    }
   ],
   "source": [
    "from sklearn.metrics import roc_auc_score\n",
    "y_scores = model.predict_proba(X_test[best_columns])\n",
    "probs = y_scores[:, 1]#Recuperar apenas a primeira linha com as probabilidades de sobreviver classificação = 1\n",
    "auc = roc_auc_score(y_test, probs)\n",
    "print(auc)"
   ]
  },
  {
   "cell_type": "markdown",
   "metadata": {},
   "source": [
    "### Resolva as questoes anteriores, a partir da instanciação do objeto, para o algoritmo [RandomForestClassifier](https://scikit-learn.org/stable/modules/generated/sklearn.ensemble.RandomForestClassifier.html)"
   ]
  },
  {
   "cell_type": "code",
   "execution_count": null,
   "metadata": {},
   "outputs": [],
   "source": []
  },
  {
   "cell_type": "markdown",
   "metadata": {},
   "source": [
    "### ***Challenge:*** Tente encontrar o melhor threshold que melhora a performance do modelos"
   ]
  },
  {
   "cell_type": "code",
   "execution_count": null,
   "metadata": {},
   "outputs": [],
   "source": []
  },
  {
   "cell_type": "markdown",
   "metadata": {},
   "source": [
    "### *Challenge:* [Visualize a árvore de decisão](https://scikit-learn.org/stable/modules/generated/sklearn.tree.plot_tree.html)"
   ]
  },
  {
   "cell_type": "code",
   "execution_count": null,
   "metadata": {},
   "outputs": [],
   "source": []
  }
 ],
 "metadata": {
  "anaconda-cloud": {},
  "kernelspec": {
   "display_name": "Python 3",
   "language": "python",
   "name": "python3"
  },
  "language_info": {
   "codemirror_mode": {
    "name": "ipython",
    "version": 3
   },
   "file_extension": ".py",
   "mimetype": "text/x-python",
   "name": "python",
   "nbconvert_exporter": "python",
   "pygments_lexer": "ipython3",
   "version": "3.7.6"
  }
 },
 "nbformat": 4,
 "nbformat_minor": 1
}
