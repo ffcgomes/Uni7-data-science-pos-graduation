{
 "cells": [
  {
   "cell_type": "markdown",
   "metadata": {
    "_cell_guid": "1cc307c0-3b21-4a77-9e11-2f70b74f4e39",
    "_uuid": "63e56611d248f72eb4c928ef1faea2eeab7f46b1",
    "colab_type": "text",
    "id": "HDm4_x_SS7vM"
   },
   "source": [
    "# Exercícios Programação Data Science - Utilizando Pandas\n",
    "---\n"
   ]
  },
  {
   "cell_type": "code",
   "execution_count": 1,
   "metadata": {
    "_cell_guid": "f7c99334-f7cd-44b3-b67e-32eee2614ac0",
    "_uuid": "38231546d84e8b22dfc2f50d2aa0518632f3ccc1"
   },
   "outputs": [],
   "source": [
    "import os\n",
    "import numpy as np\n",
    "import pandas as pd\n",
    "import re\n",
    "import matplotlib.pyplot as plt\n",
    "import seaborn as sns\n",
    "sns.set()\n",
    "%matplotlib inline\n",
    "\n"
   ]
  },
  {
   "cell_type": "markdown",
   "metadata": {
    "_cell_guid": "2d51ff53-5878-4219-95f8-3ad6dfb3204c",
    "_uuid": "89645b028f8f9dce3da4cf762a6aca1fc76a9d11",
    "colab_type": "text",
    "id": "1aDBgkUvgeTL"
   },
   "source": [
    "## EX01\n",
    "\n",
    "* Carregue para um DataFrame a lista de municípios de fronteira do Brasil utilizando o arquivo \"arquivos/arq_municipios_fronteiricos.csv\"."
   ]
  },
  {
   "cell_type": "code",
   "execution_count": 2,
   "metadata": {
    "_cell_guid": "799da926-ebee-4380-97ac-b2adf0174bf4",
    "_uuid": "85541dbdb4a55fced05df65129b8c11c842d9732"
   },
   "outputs": [
    {
     "data": {
      "text/html": [
       "<div>\n",
       "<style scoped>\n",
       "    .dataframe tbody tr th:only-of-type {\n",
       "        vertical-align: middle;\n",
       "    }\n",
       "\n",
       "    .dataframe tbody tr th {\n",
       "        vertical-align: top;\n",
       "    }\n",
       "\n",
       "    .dataframe thead th {\n",
       "        text-align: right;\n",
       "    }\n",
       "</style>\n",
       "<table border=\"1\" class=\"dataframe\">\n",
       "  <thead>\n",
       "    <tr style=\"text-align: right;\">\n",
       "      <th></th>\n",
       "      <th>Município</th>\n",
       "      <th>Estado</th>\n",
       "      <th>Área territorial</th>\n",
       "      <th>População (IBGE/2007)</th>\n",
       "      <th>Densidade demográfica (hab/km2)</th>\n",
       "      <th>PIB (IBGE/2005</th>\n",
       "      <th>PIB per capita (R$)</th>\n",
       "      <th>IDH/2000</th>\n",
       "    </tr>\n",
       "  </thead>\n",
       "  <tbody>\n",
       "    <tr>\n",
       "      <th>0</th>\n",
       "      <td>1 – Aceguá</td>\n",
       "      <td>Rio Grande do Sul</td>\n",
       "      <td>1.550</td>\n",
       "      <td>4.138</td>\n",
       "      <td>2,66</td>\n",
       "      <td>71.638.000</td>\n",
       "      <td>17.266</td>\n",
       "      <td>ni</td>\n",
       "    </tr>\n",
       "    <tr>\n",
       "      <th>1</th>\n",
       "      <td>2 – Acrelândia</td>\n",
       "      <td>Acre</td>\n",
       "      <td>1.575</td>\n",
       "      <td>11.520</td>\n",
       "      <td>7,31</td>\n",
       "      <td>114.350.000</td>\n",
       "      <td>9.986</td>\n",
       "      <td>0,680</td>\n",
       "    </tr>\n",
       "    <tr>\n",
       "      <th>2</th>\n",
       "      <td>3 – Alecrim</td>\n",
       "      <td>Rio Grande do Sul</td>\n",
       "      <td>315.000</td>\n",
       "      <td>7.357</td>\n",
       "      <td>23,35</td>\n",
       "      <td>44.373.000</td>\n",
       "      <td>5.944</td>\n",
       "      <td>0,743</td>\n",
       "    </tr>\n",
       "    <tr>\n",
       "      <th>3</th>\n",
       "      <td>4 – Almeirim</td>\n",
       "      <td>Pará</td>\n",
       "      <td>72.960</td>\n",
       "      <td>30.903</td>\n",
       "      <td>0,42</td>\n",
       "      <td>462.258.000</td>\n",
       "      <td>13.485</td>\n",
       "      <td>0,745</td>\n",
       "    </tr>\n",
       "    <tr>\n",
       "      <th>4</th>\n",
       "      <td>5 – Alta Floresta d'Oeste</td>\n",
       "      <td>Rondônia</td>\n",
       "      <td>7.067</td>\n",
       "      <td>23.857</td>\n",
       "      <td>3,37</td>\n",
       "      <td>186.812.000</td>\n",
       "      <td>6.525</td>\n",
       "      <td>0,715</td>\n",
       "    </tr>\n",
       "  </tbody>\n",
       "</table>\n",
       "</div>"
      ],
      "text/plain": [
       "                   Município             Estado  Área territorial  \\\n",
       "0                 1 – Aceguá  Rio Grande do Sul             1.550   \n",
       "1             2 – Acrelândia               Acre             1.575   \n",
       "2                3 – Alecrim  Rio Grande do Sul           315.000   \n",
       "3               4 – Almeirim               Pará            72.960   \n",
       "4  5 – Alta Floresta d'Oeste           Rondônia             7.067   \n",
       "\n",
       "   População (IBGE/2007) Densidade demográfica (hab/km2) PIB (IBGE/2005  \\\n",
       "0                  4.138                            2,66     71.638.000   \n",
       "1                 11.520                            7,31    114.350.000   \n",
       "2                  7.357                           23,35     44.373.000   \n",
       "3                 30.903                            0,42    462.258.000   \n",
       "4                 23.857                            3,37    186.812.000   \n",
       "\n",
       "  PIB per capita (R$) IDH/2000  \n",
       "0              17.266       ni  \n",
       "1               9.986    0,680  \n",
       "2               5.944    0,743  \n",
       "3              13.485    0,745  \n",
       "4               6.525    0,715  "
      ]
     },
     "execution_count": 2,
     "metadata": {},
     "output_type": "execute_result"
    }
   ],
   "source": [
    "# Variavel contendo o nome do arquivo\n",
    "arquivo = pd.read_csv(\"./arq_municipios_fronteiricos.csv\")\n",
    "\n",
    "# Complete o código abaixo para realizar a leitura do arquivo\n",
    "# o arquivo utiliza tabulação como separador\n",
    "# dentro de strings a tabulação é representada como \\t\n",
    "\n",
    "\n",
    "\n",
    "# Visualize as 5 primeiras linhas do DataFrame\n",
    "arquivo.head()\n"
   ]
  },
  {
   "cell_type": "markdown",
   "metadata": {
    "_cell_guid": "1e543d62-44ef-4892-bd70-483a0410ef0a",
    "_uuid": "744de4cebf9449bf883b23b266f3622f322563f0"
   },
   "source": [
    "* Realize um tratamento na coluna Município para remover os números e hífens.\n",
    "    * primeiro crie uma função recebe uma string com o nome do município, realiza a remoção dos números e hifens e retorna a nova string tratada\n",
    "    * faça os testes com a sua função até que o resultado esteja satisfatório\n",
    "    * passe a sua função como parâmetro para o método apply do DataFrame"
   ]
  },
  {
   "cell_type": "code",
   "execution_count": 26,
   "metadata": {
    "_cell_guid": "4a02f93c-b631-4bb7-a09e-77097d0446e0",
    "_uuid": "3e41cad4af777ad8f1f780a71b7cc11659f0517d"
   },
   "outputs": [],
   "source": [
    "# função que irá realizar o tratamento para um município\n",
    "def tratar_nome_municipio(nome_municipio):\n",
    "    #realize a limpeza\n",
    "    nome_municipio_tratado = re.sub(r'([\\d]* [–-] )(.*)', r'\\2', nome_municipio)    \n",
    "    return nome_municipio_tratado\n",
    "\n",
    "# faça um teste de sua função para verificar se a transformação está correta\n",
    "tratar_nome_municipio('1 – Aceguá')\n",
    "arquivo['Município']=arquivo['Município'].apply(tratar_nome_municipio)"
   ]
  },
  {
   "cell_type": "code",
   "execution_count": 27,
   "metadata": {
    "_cell_guid": "0d781861-d7e8-4ccf-a451-e7e7bc6a204a",
    "_uuid": "47ff7af351c00c9ac7e6014c528eeb26e5637cec"
   },
   "outputs": [
    {
     "data": {
      "text/html": [
       "<div>\n",
       "<style scoped>\n",
       "    .dataframe tbody tr th:only-of-type {\n",
       "        vertical-align: middle;\n",
       "    }\n",
       "\n",
       "    .dataframe tbody tr th {\n",
       "        vertical-align: top;\n",
       "    }\n",
       "\n",
       "    .dataframe thead th {\n",
       "        text-align: right;\n",
       "    }\n",
       "</style>\n",
       "<table border=\"1\" class=\"dataframe\">\n",
       "  <thead>\n",
       "    <tr style=\"text-align: right;\">\n",
       "      <th></th>\n",
       "      <th>Município</th>\n",
       "      <th>Estado</th>\n",
       "      <th>Área territorial</th>\n",
       "      <th>População (IBGE/2007)</th>\n",
       "      <th>Densidade demográfica (hab/km2)</th>\n",
       "      <th>PIB (IBGE/2005</th>\n",
       "      <th>PIB per capita (R$)</th>\n",
       "      <th>IDH/2000</th>\n",
       "    </tr>\n",
       "  </thead>\n",
       "  <tbody>\n",
       "    <tr>\n",
       "      <th>0</th>\n",
       "      <td>Aceguá</td>\n",
       "      <td>Rio Grande do Sul</td>\n",
       "      <td>1.550</td>\n",
       "      <td>4.138</td>\n",
       "      <td>2,66</td>\n",
       "      <td>71.638.000</td>\n",
       "      <td>17.266</td>\n",
       "      <td>ni</td>\n",
       "    </tr>\n",
       "    <tr>\n",
       "      <th>1</th>\n",
       "      <td>Acrelândia</td>\n",
       "      <td>Acre</td>\n",
       "      <td>1.575</td>\n",
       "      <td>11.520</td>\n",
       "      <td>7,31</td>\n",
       "      <td>114.350.000</td>\n",
       "      <td>9.986</td>\n",
       "      <td>0,680</td>\n",
       "    </tr>\n",
       "    <tr>\n",
       "      <th>2</th>\n",
       "      <td>Alecrim</td>\n",
       "      <td>Rio Grande do Sul</td>\n",
       "      <td>315.000</td>\n",
       "      <td>7.357</td>\n",
       "      <td>23,35</td>\n",
       "      <td>44.373.000</td>\n",
       "      <td>5.944</td>\n",
       "      <td>0,743</td>\n",
       "    </tr>\n",
       "    <tr>\n",
       "      <th>3</th>\n",
       "      <td>Almeirim</td>\n",
       "      <td>Pará</td>\n",
       "      <td>72.960</td>\n",
       "      <td>30.903</td>\n",
       "      <td>0,42</td>\n",
       "      <td>462.258.000</td>\n",
       "      <td>13.485</td>\n",
       "      <td>0,745</td>\n",
       "    </tr>\n",
       "    <tr>\n",
       "      <th>4</th>\n",
       "      <td>Alta Floresta d'Oeste</td>\n",
       "      <td>Rondônia</td>\n",
       "      <td>7.067</td>\n",
       "      <td>23.857</td>\n",
       "      <td>3,37</td>\n",
       "      <td>186.812.000</td>\n",
       "      <td>6.525</td>\n",
       "      <td>0,715</td>\n",
       "    </tr>\n",
       "    <tr>\n",
       "      <th>...</th>\n",
       "      <td>...</td>\n",
       "      <td>...</td>\n",
       "      <td>...</td>\n",
       "      <td>...</td>\n",
       "      <td>...</td>\n",
       "      <td>...</td>\n",
       "      <td>...</td>\n",
       "      <td>...</td>\n",
       "    </tr>\n",
       "    <tr>\n",
       "      <th>117</th>\n",
       "      <td>Tunápolis</td>\n",
       "      <td>Santa Cataria</td>\n",
       "      <td>133.000</td>\n",
       "      <td>4.650</td>\n",
       "      <td>34,96</td>\n",
       "      <td>40.845.000</td>\n",
       "      <td>9.420</td>\n",
       "      <td>0,821</td>\n",
       "    </tr>\n",
       "    <tr>\n",
       "      <th>118</th>\n",
       "      <td>Uiramutã</td>\n",
       "      <td>Roraima</td>\n",
       "      <td>8.066</td>\n",
       "      <td>7.403</td>\n",
       "      <td>0,91</td>\n",
       "      <td>27.251.000</td>\n",
       "      <td>4.238</td>\n",
       "      <td>0,542</td>\n",
       "    </tr>\n",
       "    <tr>\n",
       "      <th>119</th>\n",
       "      <td>Uruguaiana</td>\n",
       "      <td>Rio Grande do Sul</td>\n",
       "      <td>5.716</td>\n",
       "      <td>123.743</td>\n",
       "      <td>21,64</td>\n",
       "      <td>1.187.038.000</td>\n",
       "      <td>8.798</td>\n",
       "      <td>0,788</td>\n",
       "    </tr>\n",
       "    <tr>\n",
       "      <th>120</th>\n",
       "      <td>Vila Bela da Santíssima Trindade</td>\n",
       "      <td>Mato Grosso</td>\n",
       "      <td>13.631</td>\n",
       "      <td>13.886</td>\n",
       "      <td>1,01</td>\n",
       "      <td>116.908.000</td>\n",
       "      <td>8.047</td>\n",
       "      <td>0,715</td>\n",
       "    </tr>\n",
       "    <tr>\n",
       "      <th>121</th>\n",
       "      <td>Xapuri</td>\n",
       "      <td>Acre</td>\n",
       "      <td>5.251</td>\n",
       "      <td>14.314</td>\n",
       "      <td>2,72</td>\n",
       "      <td>82.377.000</td>\n",
       "      <td>6.016</td>\n",
       "      <td>0,669</td>\n",
       "    </tr>\n",
       "  </tbody>\n",
       "</table>\n",
       "<p>122 rows × 8 columns</p>\n",
       "</div>"
      ],
      "text/plain": [
       "                            Município             Estado  Área territorial  \\\n",
       "0                              Aceguá  Rio Grande do Sul             1.550   \n",
       "1                          Acrelândia               Acre             1.575   \n",
       "2                             Alecrim  Rio Grande do Sul           315.000   \n",
       "3                            Almeirim               Pará            72.960   \n",
       "4               Alta Floresta d'Oeste           Rondônia             7.067   \n",
       "..                                ...                ...               ...   \n",
       "117                         Tunápolis      Santa Cataria           133.000   \n",
       "118                          Uiramutã            Roraima             8.066   \n",
       "119                        Uruguaiana  Rio Grande do Sul             5.716   \n",
       "120  Vila Bela da Santíssima Trindade        Mato Grosso            13.631   \n",
       "121                            Xapuri               Acre             5.251   \n",
       "\n",
       "     População (IBGE/2007) Densidade demográfica (hab/km2) PIB (IBGE/2005  \\\n",
       "0                    4.138                            2,66     71.638.000   \n",
       "1                   11.520                            7,31    114.350.000   \n",
       "2                    7.357                           23,35     44.373.000   \n",
       "3                   30.903                            0,42    462.258.000   \n",
       "4                   23.857                            3,37    186.812.000   \n",
       "..                     ...                             ...            ...   \n",
       "117                  4.650                           34,96     40.845.000   \n",
       "118                  7.403                            0,91     27.251.000   \n",
       "119                123.743                           21,64  1.187.038.000   \n",
       "120                 13.886                            1,01    116.908.000   \n",
       "121                 14.314                            2,72     82.377.000   \n",
       "\n",
       "    PIB per capita (R$) IDH/2000  \n",
       "0                17.266       ni  \n",
       "1                 9.986    0,680  \n",
       "2                 5.944    0,743  \n",
       "3                13.485    0,745  \n",
       "4                 6.525    0,715  \n",
       "..                  ...      ...  \n",
       "117               9.420    0,821  \n",
       "118               4.238    0,542  \n",
       "119               8.798    0,788  \n",
       "120               8.047    0,715  \n",
       "121               6.016    0,669  \n",
       "\n",
       "[122 rows x 8 columns]"
      ]
     },
     "execution_count": 27,
     "metadata": {},
     "output_type": "execute_result"
    }
   ],
   "source": [
    "# aplique a função utilizando o método apply\n",
    "arquivo"
   ]
  },
  {
   "cell_type": "code",
   "execution_count": null,
   "metadata": {
    "_cell_guid": "79dba42c-e744-45ba-9112-228aa25fff90",
    "_uuid": "78577d4f5103312b16569a6f800fc37a37f4d1d0",
    "collapsed": true
   },
   "outputs": [],
   "source": [
    "# exiba todos os dados e verifique se o resultado está correto\n"
   ]
  },
  {
   "cell_type": "markdown",
   "metadata": {
    "_cell_guid": "bd5ea865-0511-43e5-bff2-581a99a4d316",
    "_uuid": "56a460c7c3c496c677ff505a576b465e2d20a65d"
   },
   "source": [
    "Algumas linhas ainda possuem hífen e números?"
   ]
  },
  {
   "cell_type": "code",
   "execution_count": null,
   "metadata": {
    "_cell_guid": "58c54230-7bee-4dc6-931c-0e140b0f4a25",
    "_uuid": "198d9ade7917ed29fc2db6ac2cf2880cc07ca0ba",
    "collapsed": true
   },
   "outputs": [],
   "source": [
    "# problemas com caracteres são comuns\n",
    "print(hex(ord('-'))) # código UTF8 do caracter (hexadecimal)\n",
    "print(hex(ord('–'))) # código UTF8 do caracter (hexadecimal)\n",
    "'-' == '–'"
   ]
  },
  {
   "cell_type": "markdown",
   "metadata": {
    "_cell_guid": "fe3928d4-a8c8-41c9-be48-ea4042ee093d",
    "_uuid": "df20b4d97eb0f1c9507e40ae70712b7ed5d77b0f"
   },
   "source": [
    "* HYPHEN-MINUS: __&#x2D;__\n",
    "    * https://www.fileformat.info/info/unicode/char/2d/index.htm\n",
    "* EN DASH: __&#x2013;__\n",
    "    * https://www.fileformat.info/info/unicode/char/2013/index.htm"
   ]
  },
  {
   "cell_type": "code",
   "execution_count": null,
   "metadata": {
    "_cell_guid": "c76f3bfc-164d-4f73-b23a-9b5375b673ee",
    "_uuid": "5bec3c2d1b5e12dd082e4ab5b9ae42036181515a",
    "collapsed": true
   },
   "outputs": [],
   "source": [
    "# com todos os municípios devidamente tratados\n",
    "# sobrescreva a coluna Município com os novos valores\n",
    "\n",
    "# exiba as informações\n"
   ]
  },
  {
   "cell_type": "markdown",
   "metadata": {
    "_cell_guid": "d4771e57-0194-4d10-a9f3-45dae3713707",
    "_uuid": "9479278402daffba56507bf107311a09ac42a6e1"
   },
   "source": [
    "## EX02\n",
    "\n",
    "Ainda utilizando o DataFrame carregado no exercício anterior, verifique os tipos de dados das colunas do dataframe. Todos os dados numéricos deverão ser transformados para tipos numéricos.\n",
    "\n",
    "* utilize o método info() do DataFrame para saber detalhes dos tipos de dados das colunas\n",
    "* verifique se os números possuem os símbolos de decimal e separadores de milhar compatíveis com a linguagem. Se necessário, fazer as substituições pertinentes."
   ]
  },
  {
   "cell_type": "code",
   "execution_count": 9,
   "metadata": {
    "_cell_guid": "6c2403b5-6b38-48eb-a8d3-e127968db9fb",
    "_uuid": "729bdd9f49676ec2d24e228f75745ae0c5d98978"
   },
   "outputs": [
    {
     "name": "stdout",
     "output_type": "stream",
     "text": [
      "<class 'pandas.core.frame.DataFrame'>\n",
      "RangeIndex: 122 entries, 0 to 121\n",
      "Data columns (total 8 columns):\n",
      " #   Column                           Non-Null Count  Dtype  \n",
      "---  ------                           --------------  -----  \n",
      " 0   Município                        122 non-null    object \n",
      " 1   Estado                           122 non-null    object \n",
      " 2   Área territorial                 122 non-null    float64\n",
      " 3   População (IBGE/2007)            122 non-null    float64\n",
      " 4   Densidade demográfica (hab/km2)  122 non-null    object \n",
      " 5   PIB (IBGE/2005                   122 non-null    object \n",
      " 6   PIB per capita (R$)              122 non-null    object \n",
      " 7   IDH/2000                         122 non-null    object \n",
      "dtypes: float64(2), object(6)\n",
      "memory usage: 7.8+ KB\n"
     ]
    }
   ],
   "source": [
    "# verifique os tipos das colunas do DataFrame. Utilize o método info(): df_muni_front\n",
    "arquivo.info()\n"
   ]
  },
  {
   "cell_type": "code",
   "execution_count": 10,
   "metadata": {
    "_cell_guid": "1e00d75e-052b-400f-9d09-40947a35a378",
    "_uuid": "0cf7c5097d2016c7a06b1965878db559e063d278"
   },
   "outputs": [
    {
     "ename": "SyntaxError",
     "evalue": "unexpected EOF while parsing (<ipython-input-10-21a1411fab39>, line 13)",
     "output_type": "error",
     "traceback": [
      "\u001b[1;36m  File \u001b[1;32m\"<ipython-input-10-21a1411fab39>\"\u001b[1;36m, line \u001b[1;32m13\u001b[0m\n\u001b[1;33m    #arquivo['PIB per capita (R$)']=arquivo['Município'].apply(tratar_nome_municipio)\u001b[0m\n\u001b[1;37m                                                                                     ^\u001b[0m\n\u001b[1;31mSyntaxError\u001b[0m\u001b[1;31m:\u001b[0m unexpected EOF while parsing\n"
     ]
    }
   ],
   "source": [
    "# faça a conversão do campo 'Área territorial'\n",
    "def converter_para_float(texto):\n",
    "    # faça as operações necessárias e \n",
    "    # devolva um objeto do tipo float\n",
    "    # ou np.NaN (tipo Not a Number do numpy)\n",
    "    t = texto.replace(' ','').replace('.','').replace(',','.');\n",
    "    return float(t)\n",
    "\n",
    "# aplique a função de conversão utilizando o método apply na coluna 'Área territorial'\n",
    "\n",
    "# exiba alguns valores da com valores convertidos\n",
    "\n",
    "#arquivo['PIB per capita (R$)']=arquivo['Município'].apply(tratar_nome_municipio)"
   ]
  },
  {
   "cell_type": "code",
   "execution_count": null,
   "metadata": {
    "_cell_guid": "9c812e81-106d-448b-bb79-be8ba722066b",
    "_uuid": "f9ff794098b8d50c3eea39eb22e6a45c6b125fc6",
    "collapsed": true
   },
   "outputs": [],
   "source": [
    "# substitua a coluna pelos valores convertidos\n",
    "\n",
    "\n",
    "# faça o mesmo para a coluna PIB\n"
   ]
  },
  {
   "cell_type": "code",
   "execution_count": null,
   "metadata": {
    "_cell_guid": "994af11a-8e0b-4c64-97ca-7d94e7015c9e",
    "_uuid": "7ba77abc56ca9b80da57a2e921e2d999e29ef058",
    "collapsed": true
   },
   "outputs": [],
   "source": [
    "# imprima novamente as informações das colunas e verifique os tipos\n",
    "\n"
   ]
  },
  {
   "cell_type": "code",
   "execution_count": null,
   "metadata": {
    "_cell_guid": "010de7c2-bc87-464a-9d54-61b039e8fa23",
    "_uuid": "2711b7f94452d33e854b834c7a637babb5c77131",
    "collapsed": true
   },
   "outputs": [],
   "source": [
    "# imprima novamente as primeiras linhas do DataFrame\n"
   ]
  },
  {
   "cell_type": "markdown",
   "metadata": {
    "_cell_guid": "0b51b658-ce93-499d-b10f-5f1a25d26011",
    "_uuid": "615a6f315a68fbca217556d6e75dddd22a5ffd4e"
   },
   "source": [
    "## EX03\n",
    "\n"
   ]
  },
  {
   "cell_type": "markdown",
   "metadata": {
    "_cell_guid": "374c37b5-4aa2-4bfa-8be6-669eab27d1a3",
    "_uuid": "b9ac21083f6a4ea233083db91a3842367b80f14b"
   },
   "source": [
    "Crie uma coluna com a sigla dos estados.\n",
    "\n",
    "* crie um set à partir da coluna Estados. Atribua a uma variável chamada __nomes_estados__."
   ]
  },
  {
   "cell_type": "code",
   "execution_count": 32,
   "metadata": {
    "_cell_guid": "46a2d3c6-62e4-4683-8072-06fc077dfc10",
    "_uuid": "d7c65fa4c8e4a6510d4279cb5a2b4f28926fc1e1"
   },
   "outputs": [
    {
     "data": {
      "text/plain": [
       "['Ceara', 'Piaui', 'Bahia']"
      ]
     },
     "execution_count": 32,
     "metadata": {},
     "output_type": "execute_result"
    }
   ],
   "source": [
    "# crie o set e verifique o seu conteúdo\n",
    "df=['Ceara','Piaui','Bahia']\n",
    "df\n",
    "\n",
    "# exiba o set gerado\n"
   ]
  },
  {
   "cell_type": "markdown",
   "metadata": {
    "_cell_guid": "31d26e63-3b8b-4d9b-a872-a3601460c563",
    "_uuid": "44e194136d9c6c8db59c88d7e45af5ce180f6d4e",
    "collapsed": true
   },
   "source": [
    "Você identificou um problema no nome dos estados?\n",
    "Vamos corrigir no final.\n",
    "\n",
    "* crie um dicionário onde o nome completo do estado é a chave e a sigla é o valor: __dic_nomes_siglas__"
   ]
  },
  {
   "cell_type": "code",
   "execution_count": 34,
   "metadata": {
    "_cell_guid": "56d8cadb-4ddb-45be-a6f9-3b0bdc371109",
    "_uuid": "1f371e8ecfa75658283be041b7bc6bd3d6fdc979"
   },
   "outputs": [
    {
     "data": {
      "text/plain": [
       "{'Ceara': 'Ce', 'Piaui': 'Pi', 'Bahia': 'Ba'}"
      ]
     },
     "execution_count": 34,
     "metadata": {},
     "output_type": "execute_result"
    }
   ],
   "source": [
    "# crie o dicionário\n",
    "dic_nomes_siglas = {'Ceara':'Ce', 'Piaui':'Pi','Bahia':'Ba'}\n",
    "dic_nomes_siglas"
   ]
  },
  {
   "cell_type": "markdown",
   "metadata": {
    "_cell_guid": "b1aa234c-0638-4691-8257-03714dbf0dc9",
    "_uuid": "08005d6e6fd93135b1c6b0c0845b12c27fabb0a2",
    "collapsed": true
   },
   "source": [
    "* utilize a função map do DataFrame para criar uma nova coluna de siglas à partir dos nomes dos estados. Passe o dicionário criado para a função map. Atribua a Série criada à variável __coluna_siglas_uf__."
   ]
  },
  {
   "cell_type": "code",
   "execution_count": 38,
   "metadata": {
    "_cell_guid": "e5072af4-feb7-49c8-9fe4-5ce9a0828d08",
    "_uuid": "8ab2f735220d0ddf9c9160d4b40bc232a3496987"
   },
   "outputs": [
    {
     "name": "stdout",
     "output_type": "stream",
     "text": [
      "Ce\n"
     ]
    }
   ],
   "source": [
    "# faça o mapeamento dos valores e atribua a : coluna_siglas_uf\n",
    "\n",
    "coluna_siglas_uf = print(dic_nomes_siglas['Ceara'])\n",
    "# verifique os 10 primeiros itens criados\n"
   ]
  },
  {
   "cell_type": "code",
   "execution_count": 41,
   "metadata": {
    "_cell_guid": "c6ceb8d9-6ddc-48fa-94a9-12ce7d002e77",
    "_uuid": "7a7bcb0b314237a97edd5a5d754cfb26ed51b129"
   },
   "outputs": [
    {
     "data": {
      "text/plain": [
       "{'Ceara': 'Ce', 'Piaui': 'Pi', 'Bahia': 'Ba', 'Rio': 'Rj'}"
      ]
     },
     "execution_count": 41,
     "metadata": {},
     "output_type": "execute_result"
    }
   ],
   "source": [
    "# crie a coluna sigla\n",
    "dic_nomes_siglas['Rio']='Rj'\n",
    "# verifique as informações do dataframe\n",
    "dic_nomes_siglas"
   ]
  },
  {
   "cell_type": "code",
   "execution_count": null,
   "metadata": {
    "_cell_guid": "4d0418af-8a8d-401c-bf20-34e41cacfb51",
    "_uuid": "044423509d996588bc1b3834f750535f17f232eb",
    "collapsed": true
   },
   "outputs": [],
   "source": [
    "# verifique quantos registros possuem o nome do estado de Santa Catarina escrito errado \"Santa Cataria\"\n"
   ]
  },
  {
   "cell_type": "code",
   "execution_count": null,
   "metadata": {
    "_cell_guid": "a1ccabd9-c5ff-4eb9-bf7c-bda1aa0529ea",
    "_uuid": "7696445696d7e9eb78eb1c6bdd8a1a13f02349f2",
    "collapsed": true
   },
   "outputs": [],
   "source": [
    "# faça a correção dos registros que possuem o nome do estado de Santa Catarina escrito errado\n"
   ]
  },
  {
   "cell_type": "code",
   "execution_count": null,
   "metadata": {
    "_cell_guid": "e8fa02e3-b8cd-4359-bbe7-3e6f8b4fb357",
    "_uuid": "5a65cf270a1ddc18bbaf6621165451a053ee40b5",
    "collapsed": true
   },
   "outputs": [],
   "source": [
    "# verifique, novamente, quantos registros possuem o nome do estado de Santa Catarina escrito errado\n"
   ]
  },
  {
   "cell_type": "markdown",
   "metadata": {
    "_cell_guid": "d7e95bee-f6b4-4fdf-b081-d2f88deee639",
    "_uuid": "6993c3a51684954096c1c576e691ab765ca92789"
   },
   "source": [
    "## EX04\n",
    "\n",
    "Identifique quais municípios possuem 2 ou mais desvios na coluna PIB."
   ]
  },
  {
   "cell_type": "code",
   "execution_count": 14,
   "metadata": {
    "_cell_guid": "f3156174-f3e0-437b-a067-c1a84232e3e8",
    "_uuid": "d7b583789ae6ce38f10b63a94ef06491cab6c654"
   },
   "outputs": [
    {
     "ename": "ValueError",
     "evalue": "could not convert string to float: '017266\\n19986\\n25944\\n313485\\n46525\\n\\n1179420\\n1184238\\n1198798\\n1208047\\n1216016\\nName:PIBpercapita(R$).Length:122.dtype:object'",
     "output_type": "error",
     "traceback": [
      "\u001b[1;31m---------------------------------------------------------------------------\u001b[0m",
      "\u001b[1;31mValueError\u001b[0m                                Traceback (most recent call last)",
      "\u001b[1;32m<ipython-input-14-1b89c39f635d>\u001b[0m in \u001b[0;36m<module>\u001b[1;34m\u001b[0m\n\u001b[0;32m      8\u001b[0m \u001b[1;33m\u001b[0m\u001b[0m\n\u001b[0;32m      9\u001b[0m \u001b[0mstring\u001b[0m \u001b[1;33m=\u001b[0m \u001b[0mstr\u001b[0m\u001b[1;33m(\u001b[0m\u001b[0marquivo\u001b[0m\u001b[1;33m[\u001b[0m\u001b[1;34m'PIB per capita (R$)'\u001b[0m\u001b[1;33m]\u001b[0m\u001b[1;33m)\u001b[0m\u001b[1;33m\u001b[0m\u001b[1;33m\u001b[0m\u001b[0m\n\u001b[1;32m---> 10\u001b[1;33m \u001b[0mconverter_para_float\u001b[0m\u001b[1;33m(\u001b[0m\u001b[0mstring\u001b[0m\u001b[1;33m)\u001b[0m\u001b[1;33m\u001b[0m\u001b[1;33m\u001b[0m\u001b[0m\n\u001b[0m\u001b[0;32m     11\u001b[0m \u001b[1;31m#arquivo['PIB (IBGE/2005'] = (arquivo['PIB (IBGE/2005'] - arquivo['PIB (IBGE/2005'].mean()) / (arquivo['PIB (IBGE/2005'].std())\u001b[0m\u001b[1;33m\u001b[0m\u001b[1;33m\u001b[0m\u001b[1;33m\u001b[0m\u001b[0m\n\u001b[0;32m     12\u001b[0m \u001b[1;31m# exiba um histograma para as informações de PIB normalizado\u001b[0m\u001b[1;33m\u001b[0m\u001b[1;33m\u001b[0m\u001b[1;33m\u001b[0m\u001b[0m\n",
      "\u001b[1;32m<ipython-input-14-1b89c39f635d>\u001b[0m in \u001b[0;36mconverter_para_float\u001b[1;34m(texto)\u001b[0m\n\u001b[0;32m      5\u001b[0m     \u001b[1;31m# ou np.NaN (tipo Not a Number do numpy)\u001b[0m\u001b[1;33m\u001b[0m\u001b[1;33m\u001b[0m\u001b[1;33m\u001b[0m\u001b[0m\n\u001b[0;32m      6\u001b[0m     \u001b[0mt\u001b[0m \u001b[1;33m=\u001b[0m \u001b[0mtexto\u001b[0m\u001b[1;33m.\u001b[0m\u001b[0mreplace\u001b[0m\u001b[1;33m(\u001b[0m\u001b[1;34m' '\u001b[0m\u001b[1;33m,\u001b[0m\u001b[1;34m''\u001b[0m\u001b[1;33m)\u001b[0m\u001b[1;33m.\u001b[0m\u001b[0mreplace\u001b[0m\u001b[1;33m(\u001b[0m\u001b[1;34m'.'\u001b[0m\u001b[1;33m,\u001b[0m\u001b[1;34m''\u001b[0m\u001b[1;33m)\u001b[0m\u001b[1;33m.\u001b[0m\u001b[0mreplace\u001b[0m\u001b[1;33m(\u001b[0m\u001b[1;34m','\u001b[0m\u001b[1;33m,\u001b[0m\u001b[1;34m'.'\u001b[0m\u001b[1;33m)\u001b[0m\u001b[1;33m;\u001b[0m\u001b[1;33m\u001b[0m\u001b[1;33m\u001b[0m\u001b[0m\n\u001b[1;32m----> 7\u001b[1;33m     \u001b[1;32mreturn\u001b[0m \u001b[0mfloat\u001b[0m\u001b[1;33m(\u001b[0m\u001b[0mt\u001b[0m\u001b[1;33m)\u001b[0m\u001b[1;33m\u001b[0m\u001b[1;33m\u001b[0m\u001b[0m\n\u001b[0m\u001b[0;32m      8\u001b[0m \u001b[1;33m\u001b[0m\u001b[0m\n\u001b[0;32m      9\u001b[0m \u001b[0mstring\u001b[0m \u001b[1;33m=\u001b[0m \u001b[0mstr\u001b[0m\u001b[1;33m(\u001b[0m\u001b[0marquivo\u001b[0m\u001b[1;33m[\u001b[0m\u001b[1;34m'PIB per capita (R$)'\u001b[0m\u001b[1;33m]\u001b[0m\u001b[1;33m)\u001b[0m\u001b[1;33m\u001b[0m\u001b[1;33m\u001b[0m\u001b[0m\n",
      "\u001b[1;31mValueError\u001b[0m: could not convert string to float: '017266\\n19986\\n25944\\n313485\\n46525\\n\\n1179420\\n1184238\\n1198798\\n1208047\\n1216016\\nName:PIBpercapita(R$).Length:122.dtype:object'"
     ]
    }
   ],
   "source": [
    "# normalize a coluna PIB em quantidade de desvios padrão\n",
    "def converter_para_float(texto):\n",
    "    # faça as operações necessárias e \n",
    "    # devolva um objeto do tipo float\n",
    "    # ou np.NaN (tipo Not a Number do numpy)\n",
    "    t = texto.replace(' ','').replace('.','').replace(',','.');\n",
    "    return float(t)\n",
    "\n",
    "string = str(arquivo['PIB per capita (R$)'])\n",
    "converter_para_float(string)\n",
    "#arquivo['PIB (IBGE/2005'] = (arquivo['PIB (IBGE/2005'] - arquivo['PIB (IBGE/2005'].mean()) / (arquivo['PIB (IBGE/2005'].std())  \n",
    "# exiba um histograma para as informações de PIB normalizado\n",
    "arquivo.head()\n",
    "pib_desvios = df_muni_front['PIB (IBGE/2005'].apply(lambda x: (x - df_muni_front['PIB (IBGE/2005'].mean())/df_muni_front['PIB (IBGE/2005'].std())\n"
   ]
  },
  {
   "cell_type": "code",
   "execution_count": null,
   "metadata": {
    "_cell_guid": "79a7e0cb-04c6-4b5b-aedd-19c850fc242b",
    "_uuid": "2d706dc1346c0cb8671844ce9881b7fa032cfd07",
    "collapsed": true,
    "scrolled": true
   },
   "outputs": [],
   "source": [
    "# quais cidades possuem mais de 2 desvios \n"
   ]
  },
  {
   "cell_type": "markdown",
   "metadata": {
    "_cell_guid": "bd332a8f-cf37-4b1f-b5c2-774a712ab72e",
    "_uuid": "597da108f425bece84a79ebe54bc89b9ab082f51"
   },
   "source": [
    "## EX05\n",
    "\n",
    "Perguntas rápidas."
   ]
  },
  {
   "cell_type": "code",
   "execution_count": null,
   "metadata": {
    "_cell_guid": "131f6daa-ef23-49bd-900e-06e41c4e8abb",
    "_uuid": "04e27776a37ab7dc430a914e1072b2b718b1082c",
    "collapsed": true
   },
   "outputs": [],
   "source": [
    "# quantos registros possuem NaN na coluna IDH/2000?\n"
   ]
  },
  {
   "cell_type": "code",
   "execution_count": null,
   "metadata": {
    "_cell_guid": "c5725eab-eafa-475d-8ad3-d5406946593a",
    "_uuid": "9b199fdf9def43a7393e130e88b7f9eb7ac64fe8",
    "collapsed": true
   },
   "outputs": [],
   "source": [
    "# quantas cidades por estado?\n"
   ]
  },
  {
   "cell_type": "code",
   "execution_count": null,
   "metadata": {
    "_cell_guid": "cbca5114-87a7-4fd5-ae14-2f25bbc8fbf2",
    "_uuid": "6fc6b93e528d3ac71e6229c61de29d72d21eaeba",
    "collapsed": true
   },
   "outputs": [],
   "source": [
    "# faça a ordenação do DataFrame pelo nome do município\n",
    "\n",
    "\n",
    "# a ordenação está correta?\n",
    "#Não. A cidade de Óbidos, acentuada, ficou incorretame"
   ]
  },
  {
   "cell_type": "markdown",
   "metadata": {
    "_cell_guid": "e8774dac-5cb3-429f-9907-cb832867c55a",
    "_uuid": "42a183745072f47eb2e9290a478706bf403d9057"
   },
   "source": []
  }
 ],
 "metadata": {
  "accelerator": "GPU",
  "colab": {
   "collapsed_sections": [],
   "default_view": {},
   "name": "aula_03_01_python_basico.ipynb",
   "private_outputs": true,
   "provenance": [],
   "version": "0.3.2",
   "views": {}
  },
  "kernelspec": {
   "display_name": "Python 3",
   "language": "python",
   "name": "python3"
  },
  "language_info": {
   "codemirror_mode": {
    "name": "ipython",
    "version": 3
   },
   "file_extension": ".py",
   "mimetype": "text/x-python",
   "name": "python",
   "nbconvert_exporter": "python",
   "pygments_lexer": "ipython3",
   "version": "3.7.6"
  }
 },
 "nbformat": 4,
 "nbformat_minor": 1
}
