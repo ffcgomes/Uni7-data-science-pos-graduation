{
 "cells": [
  {
   "cell_type": "markdown",
   "metadata": {
    "_cell_guid": "1cc307c0-3b21-4a77-9e11-2f70b74f4e39",
    "_uuid": "63e56611d248f72eb4c928ef1faea2eeab7f46b1",
    "colab_type": "text",
    "id": "HDm4_x_SS7vM"
   },
   "source": [
    "# Exercícios Programação Data Science - Utilizando Pandas\n",
    "---\n"
   ]
  },
  {
   "cell_type": "code",
   "execution_count": 1,
   "metadata": {
    "_cell_guid": "f7c99334-f7cd-44b3-b67e-32eee2614ac0",
    "_uuid": "38231546d84e8b22dfc2f50d2aa0518632f3ccc1"
   },
   "outputs": [],
   "source": [
    "import os\n",
    "import numpy as np\n",
    "import pandas as pd\n",
    "import re\n",
    "import matplotlib.pyplot as plt\n",
    "import seaborn as sns\n",
    "sns.set()\n",
    "%matplotlib inline\n",
    "\n"
   ]
  },
  {
   "cell_type": "markdown",
   "metadata": {
    "_cell_guid": "2d51ff53-5878-4219-95f8-3ad6dfb3204c",
    "_uuid": "89645b028f8f9dce3da4cf762a6aca1fc76a9d11",
    "colab_type": "text",
    "id": "1aDBgkUvgeTL"
   },
   "source": [
    "## EX01\n",
    "\n",
    "* Carregue para um DataFrame a lista de municípios de fronteira do Brasil utilizando o arquivo \"arquivos/arq_municipios_fronteiricos.csv\"."
   ]
  },
  {
   "cell_type": "code",
   "execution_count": 3,
   "metadata": {
    "_cell_guid": "799da926-ebee-4380-97ac-b2adf0174bf4",
    "_uuid": "85541dbdb4a55fced05df65129b8c11c842d9732"
   },
   "outputs": [
    {
     "ename": "AttributeError",
     "evalue": "'str' object has no attribute 'head'",
     "output_type": "error",
     "traceback": [
      "\u001b[1;31m---------------------------------------------------------------------------\u001b[0m",
      "\u001b[1;31mAttributeError\u001b[0m                            Traceback (most recent call last)",
      "\u001b[1;32m<ipython-input-3-4ba7b178b103>\u001b[0m in \u001b[0;36m<module>\u001b[1;34m\u001b[0m\n\u001b[0;32m      9\u001b[0m \u001b[1;33m\u001b[0m\u001b[0m\n\u001b[0;32m     10\u001b[0m \u001b[1;31m# Visualize as 5 primeiras linhas do DataFrame\u001b[0m\u001b[1;33m\u001b[0m\u001b[1;33m\u001b[0m\u001b[1;33m\u001b[0m\u001b[0m\n\u001b[1;32m---> 11\u001b[1;33m \u001b[0marquivo\u001b[0m\u001b[1;33m.\u001b[0m\u001b[0mhead\u001b[0m\u001b[1;33m(\u001b[0m\u001b[1;33m)\u001b[0m\u001b[1;33m\u001b[0m\u001b[1;33m\u001b[0m\u001b[0m\n\u001b[0m",
      "\u001b[1;31mAttributeError\u001b[0m: 'str' object has no attribute 'head'"
     ]
    }
   ],
   "source": [
    "# Variavel contendo o nome do arquivo\n",
    "arquivo = \"./arq_municipios_fronteiricos.csv\"\n",
    "\n",
    "# Complete o código abaixo para realizar a leitura do arquivo\n",
    "# o arquivo utiliza tabulação como separador\n",
    "# dentro de strings a tabulação é representada como \\t\n",
    "\n",
    "\n",
    "\n",
    "# Visualize as 5 primeiras linhas do DataFrame\n",
    "arquivo.head()\n"
   ]
  },
  {
   "cell_type": "markdown",
   "metadata": {
    "_cell_guid": "1e543d62-44ef-4892-bd70-483a0410ef0a",
    "_uuid": "744de4cebf9449bf883b23b266f3622f322563f0"
   },
   "source": [
    "* Realize um tratamento na coluna Município para remover os números e hífens.\n",
    "    * primeiro crie uma função recebe uma string com o nome do município, realiza a remoção dos números e hifens e retorna a nova string tratada\n",
    "    * faça os testes com a sua função até que o resultado esteja satisfatório\n",
    "    * passe a sua função como parâmetro para o método apply do DataFrame"
   ]
  },
  {
   "cell_type": "code",
   "execution_count": null,
   "metadata": {
    "_cell_guid": "4a02f93c-b631-4bb7-a09e-77097d0446e0",
    "_uuid": "3e41cad4af777ad8f1f780a71b7cc11659f0517d",
    "collapsed": true
   },
   "outputs": [],
   "source": [
    "# função que irá realizar o tratamento para um município\n",
    "def tratar_nome_municipio(nome_municipio):\n",
    "    #realize a limpeza\n",
    "    nome_municipio_tratado = re.sub(r'([\\d]* [–-] )(.*)', r'\\2', nome_municipio)    \n",
    "    return nome_municipio_tratado\n",
    "\n",
    "# faça um teste de sua função para verificar se a transformação está correta\n"
   ]
  },
  {
   "cell_type": "code",
   "execution_count": null,
   "metadata": {
    "_cell_guid": "0d781861-d7e8-4ccf-a451-e7e7bc6a204a",
    "_uuid": "47ff7af351c00c9ac7e6014c528eeb26e5637cec",
    "collapsed": true
   },
   "outputs": [],
   "source": [
    "# aplique a função utilizando o método apply\n"
   ]
  },
  {
   "cell_type": "code",
   "execution_count": null,
   "metadata": {
    "_cell_guid": "79dba42c-e744-45ba-9112-228aa25fff90",
    "_uuid": "78577d4f5103312b16569a6f800fc37a37f4d1d0",
    "collapsed": true
   },
   "outputs": [],
   "source": [
    "# exiba todos os dados e verifique se o resultado está correto\n"
   ]
  },
  {
   "cell_type": "markdown",
   "metadata": {
    "_cell_guid": "bd5ea865-0511-43e5-bff2-581a99a4d316",
    "_uuid": "56a460c7c3c496c677ff505a576b465e2d20a65d"
   },
   "source": [
    "Algumas linhas ainda possuem hífen e números?"
   ]
  },
  {
   "cell_type": "code",
   "execution_count": null,
   "metadata": {
    "_cell_guid": "58c54230-7bee-4dc6-931c-0e140b0f4a25",
    "_uuid": "198d9ade7917ed29fc2db6ac2cf2880cc07ca0ba",
    "collapsed": true
   },
   "outputs": [],
   "source": [
    "# problemas com caracteres são comuns\n",
    "print(hex(ord('-'))) # código UTF8 do caracter (hexadecimal)\n",
    "print(hex(ord('–'))) # código UTF8 do caracter (hexadecimal)\n",
    "'-' == '–'"
   ]
  },
  {
   "cell_type": "markdown",
   "metadata": {
    "_cell_guid": "fe3928d4-a8c8-41c9-be48-ea4042ee093d",
    "_uuid": "df20b4d97eb0f1c9507e40ae70712b7ed5d77b0f"
   },
   "source": [
    "* HYPHEN-MINUS: __&#x2D;__\n",
    "    * https://www.fileformat.info/info/unicode/char/2d/index.htm\n",
    "* EN DASH: __&#x2013;__\n",
    "    * https://www.fileformat.info/info/unicode/char/2013/index.htm"
   ]
  },
  {
   "cell_type": "code",
   "execution_count": null,
   "metadata": {
    "_cell_guid": "c76f3bfc-164d-4f73-b23a-9b5375b673ee",
    "_uuid": "5bec3c2d1b5e12dd082e4ab5b9ae42036181515a",
    "collapsed": true
   },
   "outputs": [],
   "source": [
    "# com todos os municípios devidamente tratados\n",
    "# sobrescreva a coluna Município com os novos valores\n",
    "\n",
    "# exiba as informações\n"
   ]
  },
  {
   "cell_type": "markdown",
   "metadata": {
    "_cell_guid": "d4771e57-0194-4d10-a9f3-45dae3713707",
    "_uuid": "9479278402daffba56507bf107311a09ac42a6e1"
   },
   "source": [
    "## EX02\n",
    "\n",
    "Ainda utilizando o DataFrame carregado no exercício anterior, verifique os tipos de dados das colunas do dataframe. Todos os dados numéricos deverão ser transformados para tipos numéricos.\n",
    "\n",
    "* utilize o método info() do DataFrame para saber detalhes dos tipos de dados das colunas\n",
    "* verifique se os números possuem os símbolos de decimal e separadores de milhar compatíveis com a linguagem. Se necessário, fazer as substituições pertinentes."
   ]
  },
  {
   "cell_type": "code",
   "execution_count": null,
   "metadata": {
    "_cell_guid": "6c2403b5-6b38-48eb-a8d3-e127968db9fb",
    "_uuid": "729bdd9f49676ec2d24e228f75745ae0c5d98978",
    "collapsed": true
   },
   "outputs": [],
   "source": [
    "# verifique os tipos das colunas do DataFrame. Utilize o método info(): df_muni_front\n"
   ]
  },
  {
   "cell_type": "code",
   "execution_count": null,
   "metadata": {
    "_cell_guid": "1e00d75e-052b-400f-9d09-40947a35a378",
    "_uuid": "0cf7c5097d2016c7a06b1965878db559e063d278",
    "collapsed": true
   },
   "outputs": [],
   "source": [
    "# faça a conversão do campo 'Área territorial'\n",
    "def converter_para_float(texto):\n",
    "    # faça as operações necessárias e \n",
    "    # devolva um objeto do tipo float\n",
    "    # ou np.NaN (tipo Not a Number do numpy)\n",
    "    t = texto.replace(' ','').replace('.','').replace(',','.');\n",
    "    return float(t)\n",
    "\n",
    "# aplique a função de conversão utilizando o método apply na coluna 'Área territorial'\n",
    "\n",
    "# exiba alguns valores da com valores convertidos\n"
   ]
  },
  {
   "cell_type": "code",
   "execution_count": null,
   "metadata": {
    "_cell_guid": "9c812e81-106d-448b-bb79-be8ba722066b",
    "_uuid": "f9ff794098b8d50c3eea39eb22e6a45c6b125fc6",
    "collapsed": true
   },
   "outputs": [],
   "source": [
    "# substitua a coluna pelos valores convertidos\n",
    "\n",
    "\n",
    "# faça o mesmo para a coluna PIB\n"
   ]
  },
  {
   "cell_type": "code",
   "execution_count": null,
   "metadata": {
    "_cell_guid": "994af11a-8e0b-4c64-97ca-7d94e7015c9e",
    "_uuid": "7ba77abc56ca9b80da57a2e921e2d999e29ef058",
    "collapsed": true
   },
   "outputs": [],
   "source": [
    "# imprima novamente as informações das colunas e verifique os tipos\n",
    "\n"
   ]
  },
  {
   "cell_type": "code",
   "execution_count": null,
   "metadata": {
    "_cell_guid": "010de7c2-bc87-464a-9d54-61b039e8fa23",
    "_uuid": "2711b7f94452d33e854b834c7a637babb5c77131",
    "collapsed": true
   },
   "outputs": [],
   "source": [
    "# imprima novamente as primeiras linhas do DataFrame\n"
   ]
  },
  {
   "cell_type": "markdown",
   "metadata": {
    "_cell_guid": "0b51b658-ce93-499d-b10f-5f1a25d26011",
    "_uuid": "615a6f315a68fbca217556d6e75dddd22a5ffd4e"
   },
   "source": [
    "## EX03\n",
    "\n"
   ]
  },
  {
   "cell_type": "markdown",
   "metadata": {
    "_cell_guid": "374c37b5-4aa2-4bfa-8be6-669eab27d1a3",
    "_uuid": "b9ac21083f6a4ea233083db91a3842367b80f14b"
   },
   "source": [
    "Crie uma coluna com a sigla dos estados.\n",
    "\n",
    "* crie um set à partir da coluna Estados. Atribua a uma variável chamada __nomes_estados__."
   ]
  },
  {
   "cell_type": "code",
   "execution_count": null,
   "metadata": {
    "_cell_guid": "46a2d3c6-62e4-4683-8072-06fc077dfc10",
    "_uuid": "d7c65fa4c8e4a6510d4279cb5a2b4f28926fc1e1",
    "collapsed": true
   },
   "outputs": [],
   "source": [
    "# crie o set e verifique o seu conteúdo\n",
    "\n",
    "\n",
    "\n",
    "# exiba o set gerado\n"
   ]
  },
  {
   "cell_type": "markdown",
   "metadata": {
    "_cell_guid": "31d26e63-3b8b-4d9b-a872-a3601460c563",
    "_uuid": "44e194136d9c6c8db59c88d7e45af5ce180f6d4e",
    "collapsed": true
   },
   "source": [
    "Você identificou um problema no nome dos estados?\n",
    "Vamos corrigir no final.\n",
    "\n",
    "* crie um dicionário onde o nome completo do estado é a chave e a sigla é o valor: __dic_nomes_siglas__"
   ]
  },
  {
   "cell_type": "code",
   "execution_count": null,
   "metadata": {
    "_cell_guid": "56d8cadb-4ddb-45be-a6f9-3b0bdc371109",
    "_uuid": "1f371e8ecfa75658283be041b7bc6bd3d6fdc979",
    "collapsed": true
   },
   "outputs": [],
   "source": [
    "# crie o dicionário\n",
    "\n"
   ]
  },
  {
   "cell_type": "markdown",
   "metadata": {
    "_cell_guid": "b1aa234c-0638-4691-8257-03714dbf0dc9",
    "_uuid": "08005d6e6fd93135b1c6b0c0845b12c27fabb0a2",
    "collapsed": true
   },
   "source": [
    "* utilize a função map do DataFrame para criar uma nova coluna de siglas à partir dos nomes dos estados. Passe o dicionário criado para a função map. Atribua a Série criada à variável __coluna_siglas_uf__."
   ]
  },
  {
   "cell_type": "code",
   "execution_count": null,
   "metadata": {
    "_cell_guid": "e5072af4-feb7-49c8-9fe4-5ce9a0828d08",
    "_uuid": "8ab2f735220d0ddf9c9160d4b40bc232a3496987",
    "collapsed": true
   },
   "outputs": [],
   "source": [
    "# faça o mapeamento dos valores e atribua a : coluna_siglas_uf\n",
    "\n",
    "\n",
    "# verifique os 10 primeiros itens criados\n"
   ]
  },
  {
   "cell_type": "code",
   "execution_count": null,
   "metadata": {
    "_cell_guid": "c6ceb8d9-6ddc-48fa-94a9-12ce7d002e77",
    "_uuid": "7a7bcb0b314237a97edd5a5d754cfb26ed51b129",
    "collapsed": true
   },
   "outputs": [],
   "source": [
    "# crie a coluna sigla\n",
    "\n",
    "# verifique as informações do dataframe\n"
   ]
  },
  {
   "cell_type": "code",
   "execution_count": null,
   "metadata": {
    "_cell_guid": "4d0418af-8a8d-401c-bf20-34e41cacfb51",
    "_uuid": "044423509d996588bc1b3834f750535f17f232eb",
    "collapsed": true
   },
   "outputs": [],
   "source": [
    "# verifique quantos registros possuem o nome do estado de Santa Catarina escrito errado \"Santa Cataria\"\n"
   ]
  },
  {
   "cell_type": "code",
   "execution_count": null,
   "metadata": {
    "_cell_guid": "a1ccabd9-c5ff-4eb9-bf7c-bda1aa0529ea",
    "_uuid": "7696445696d7e9eb78eb1c6bdd8a1a13f02349f2",
    "collapsed": true
   },
   "outputs": [],
   "source": [
    "# faça a correção dos registros que possuem o nome do estado de Santa Catarina escrito errado\n"
   ]
  },
  {
   "cell_type": "code",
   "execution_count": null,
   "metadata": {
    "_cell_guid": "e8fa02e3-b8cd-4359-bbe7-3e6f8b4fb357",
    "_uuid": "5a65cf270a1ddc18bbaf6621165451a053ee40b5",
    "collapsed": true
   },
   "outputs": [],
   "source": [
    "# verifique, novamente, quantos registros possuem o nome do estado de Santa Catarina escrito errado\n"
   ]
  },
  {
   "cell_type": "markdown",
   "metadata": {
    "_cell_guid": "d7e95bee-f6b4-4fdf-b081-d2f88deee639",
    "_uuid": "6993c3a51684954096c1c576e691ab765ca92789"
   },
   "source": [
    "## EX04\n",
    "\n",
    "Identifique quais municípios possuem 2 ou mais desvios na coluna PIB."
   ]
  },
  {
   "cell_type": "code",
   "execution_count": null,
   "metadata": {
    "_cell_guid": "f3156174-f3e0-437b-a067-c1a84232e3e8",
    "_uuid": "d7b583789ae6ce38f10b63a94ef06491cab6c654",
    "collapsed": true
   },
   "outputs": [],
   "source": [
    "# normalize a coluna PIB em quantidade de desvios padrão\n",
    "\n",
    "# exiba um histograma para as informações de PIB normalizado\n"
   ]
  },
  {
   "cell_type": "code",
   "execution_count": null,
   "metadata": {
    "_cell_guid": "79a7e0cb-04c6-4b5b-aedd-19c850fc242b",
    "_uuid": "2d706dc1346c0cb8671844ce9881b7fa032cfd07",
    "collapsed": true,
    "scrolled": true
   },
   "outputs": [],
   "source": [
    "# quais cidades possuem mais de 2 desvios \n"
   ]
  },
  {
   "cell_type": "markdown",
   "metadata": {
    "_cell_guid": "bd332a8f-cf37-4b1f-b5c2-774a712ab72e",
    "_uuid": "597da108f425bece84a79ebe54bc89b9ab082f51"
   },
   "source": [
    "## EX05\n",
    "\n",
    "Perguntas rápidas."
   ]
  },
  {
   "cell_type": "code",
   "execution_count": null,
   "metadata": {
    "_cell_guid": "131f6daa-ef23-49bd-900e-06e41c4e8abb",
    "_uuid": "04e27776a37ab7dc430a914e1072b2b718b1082c",
    "collapsed": true
   },
   "outputs": [],
   "source": [
    "# quantos registros possuem NaN na coluna IDH/2000?\n"
   ]
  },
  {
   "cell_type": "code",
   "execution_count": null,
   "metadata": {
    "_cell_guid": "c5725eab-eafa-475d-8ad3-d5406946593a",
    "_uuid": "9b199fdf9def43a7393e130e88b7f9eb7ac64fe8",
    "collapsed": true
   },
   "outputs": [],
   "source": [
    "# quantas cidades por estado?\n"
   ]
  },
  {
   "cell_type": "code",
   "execution_count": null,
   "metadata": {
    "_cell_guid": "cbca5114-87a7-4fd5-ae14-2f25bbc8fbf2",
    "_uuid": "6fc6b93e528d3ac71e6229c61de29d72d21eaeba",
    "collapsed": true
   },
   "outputs": [],
   "source": [
    "# faça a ordenação do DataFrame pelo nome do município\n",
    "\n",
    "\n",
    "# a ordenação está correta?\n",
    "#Não. A cidade de Óbidos, acentuada, ficou incorretame"
   ]
  },
  {
   "cell_type": "markdown",
   "metadata": {
    "_cell_guid": "e8774dac-5cb3-429f-9907-cb832867c55a",
    "_uuid": "42a183745072f47eb2e9290a478706bf403d9057"
   },
   "source": []
  }
 ],
 "metadata": {
  "accelerator": "GPU",
  "colab": {
   "collapsed_sections": [],
   "default_view": {},
   "name": "aula_03_01_python_basico.ipynb",
   "private_outputs": true,
   "provenance": [],
   "version": "0.3.2",
   "views": {}
  },
  "kernelspec": {
   "display_name": "Python 3",
   "language": "python",
   "name": "python3"
  },
  "language_info": {
   "codemirror_mode": {
    "name": "ipython",
    "version": 3
   },
   "file_extension": ".py",
   "mimetype": "text/x-python",
   "name": "python",
   "nbconvert_exporter": "python",
   "pygments_lexer": "ipython3",
   "version": "3.7.6"
  }
 },
 "nbformat": 4,
 "nbformat_minor": 1
}
