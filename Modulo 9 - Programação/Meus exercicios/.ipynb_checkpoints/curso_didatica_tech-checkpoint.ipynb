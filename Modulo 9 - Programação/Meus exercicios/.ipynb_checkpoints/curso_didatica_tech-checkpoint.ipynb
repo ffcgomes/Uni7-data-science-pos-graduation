{
 "cells": [
  {
   "cell_type": "code",
   "execution_count": 69,
   "metadata": {},
   "outputs": [],
   "source": [
    "cheques = [1000,2000,3000]"
   ]
  },
  {
   "cell_type": "code",
   "execution_count": 70,
   "metadata": {},
   "outputs": [
    {
     "data": {
      "text/plain": [
       "['970.87', '1941.75', '2912.62']"
      ]
     },
     "execution_count": 70,
     "metadata": {},
     "output_type": "execute_result"
    }
   ],
   "source": [
    "#Usando Map\n",
    "pagar = map(lambda ch: \"%.2f\" % (ch/1.03), cheques)\n",
    "list(pagar)"
   ]
  },
  {
   "cell_type": "code",
   "execution_count": 71,
   "metadata": {},
   "outputs": [
    {
     "name": "stdout",
     "output_type": "stream",
     "text": [
      "flavio Isto  uma String\n"
     ]
    }
   ],
   "source": [
    "s1=\"flavio\"\n",
    "print(\"%s Isto  uma String\" % s1)"
   ]
  },
  {
   "cell_type": "code",
   "execution_count": 84,
   "metadata": {},
   "outputs": [
    {
     "data": {
      "text/plain": [
       "[(1, '970.87'), (2, '1885.19'), (3, '2745.42')]"
      ]
     },
     "execution_count": 84,
     "metadata": {},
     "output_type": "execute_result"
    }
   ],
   "source": [
    "#Usando List Comprehension\n",
    "pagar = [\"%.2f\" % (ch/1.03) for ch in cheques]\n",
    "\n",
    "#Enumarate\n",
    "[(n+1,\"%.2f\" % (cheques[n]/1.03**(n+1))) for n, x in enumerate(cheques) ]\n"
   ]
  },
  {
   "cell_type": "code",
   "execution_count": 31,
   "metadata": {},
   "outputs": [],
   "source": [
    "# Pandas\n",
    "import pandas as pd\n",
    "alunos = {'Nome':['Ricardo','Pedro','Flavio','Carlos'],\n",
    "         'Nota': [4,7,5.5,9],\n",
    "         'Aprovado':['Nao','Sim','Nao','Sim']}"
   ]
  },
  {
   "cell_type": "code",
   "execution_count": 33,
   "metadata": {},
   "outputs": [
    {
     "data": {
      "text/plain": [
       "{'Nome': ['Ricardo', 'Pedro', 'Flavio', 'Carlos'],\n",
       " 'Nota': [4, 7, 5.5, 9],\n",
       " 'Aprovado': ['Nao', 'Sim', 'Nao', 'Sim']}"
      ]
     },
     "execution_count": 33,
     "metadata": {},
     "output_type": "execute_result"
    }
   ],
   "source": [
    "alunos"
   ]
  },
  {
   "cell_type": "code",
   "execution_count": 38,
   "metadata": {},
   "outputs": [],
   "source": [
    "df = pd.DataFrame(alunos)"
   ]
  },
  {
   "cell_type": "code",
   "execution_count": 52,
   "metadata": {},
   "outputs": [
    {
     "data": {
      "text/plain": [
       "1"
      ]
     },
     "execution_count": 52,
     "metadata": {},
     "output_type": "execute_result"
    }
   ],
   "source": [
    "df.index[1]"
   ]
  },
  {
   "cell_type": "code",
   "execution_count": null,
   "metadata": {},
   "outputs": [],
   "source": []
  }
 ],
 "metadata": {
  "kernelspec": {
   "display_name": "Python 3",
   "language": "python",
   "name": "python3"
  },
  "language_info": {
   "codemirror_mode": {
    "name": "ipython",
    "version": 3
   },
   "file_extension": ".py",
   "mimetype": "text/x-python",
   "name": "python",
   "nbconvert_exporter": "python",
   "pygments_lexer": "ipython3",
   "version": "3.7.6"
  }
 },
 "nbformat": 4,
 "nbformat_minor": 4
}
