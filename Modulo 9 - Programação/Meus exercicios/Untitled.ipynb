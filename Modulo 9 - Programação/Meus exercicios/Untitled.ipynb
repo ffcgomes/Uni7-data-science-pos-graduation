{
 "cells": [
  {
   "cell_type": "code",
   "execution_count": 2,
   "metadata": {},
   "outputs": [
    {
     "data": {
      "text/plain": [
       "[(1, '970.87'), (2, '1885.19'), (3, '2745.42')]"
      ]
     },
     "execution_count": 2,
     "metadata": {},
     "output_type": "execute_result"
    }
   ],
   "source": [
    "cheques = [1000,2000,3000]\n",
    "#Usando List Comprehension\n",
    "pagar = [\"%.2f\" % (ch/1.03) for ch in cheques]\n",
    "\n",
    "#Enumarate\n",
    "[(n+1,\"%.2f\" % (cheques[n]/1.03**(n+1))) for n, x in enumerate(cheques) ]"
   ]
  },
  {
   "cell_type": "code",
   "execution_count": 6,
   "metadata": {},
   "outputs": [
    {
     "data": {
      "text/plain": [
       "0    1000\n",
       "1    2000\n",
       "2    3000\n",
       "dtype: int64"
      ]
     },
     "execution_count": 6,
     "metadata": {},
     "output_type": "execute_result"
    }
   ],
   "source": [
    "import pandas as pd\n",
    "ch = pd.Series(cheques)\n",
    "ch"
   ]
  },
  {
   "cell_type": "code",
   "execution_count": 8,
   "metadata": {},
   "outputs": [
    {
     "data": {
      "text/plain": [
       "6000"
      ]
     },
     "execution_count": 8,
     "metadata": {},
     "output_type": "execute_result"
    }
   ],
   "source": [
    "# reduce\n",
    "from functools import reduce\n",
    "soma = reduce((lambda x,y: x+y), [1000,1000,1000])\n",
    "soma"
   ]
  },
  {
   "cell_type": "code",
   "execution_count": null,
   "metadata": {},
   "outputs": [],
   "source": [
    "valor=float(input('Valor:'))\n",
    "i=int(input('Taxa:'))\n",
    "totCh=int(input('Quant:'))\n",
    "pagar=0.0\n",
    "for n in range(totCh):\n",
    "    juros=valor/(1+i/100)**(n+1)\n",
    "    pagar = pagar + juros\n",
    "    print(\"Ch. N. %d Valor: %s Juros: %.2f Pagar:%.2f \" % (n,valor,juros,pagar))"
   ]
  },
  {
   "cell_type": "code",
   "execution_count": null,
   "metadata": {},
   "outputs": [],
   "source": []
  }
 ],
 "metadata": {
  "kernelspec": {
   "display_name": "Python 3",
   "language": "python",
   "name": "python3"
  },
  "language_info": {
   "codemirror_mode": {
    "name": "ipython",
    "version": 3
   },
   "file_extension": ".py",
   "mimetype": "text/x-python",
   "name": "python",
   "nbconvert_exporter": "python",
   "pygments_lexer": "ipython3",
   "version": "3.7.6"
  }
 },
 "nbformat": 4,
 "nbformat_minor": 4
}
