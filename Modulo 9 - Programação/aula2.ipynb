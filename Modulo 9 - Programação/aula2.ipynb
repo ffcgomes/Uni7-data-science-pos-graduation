{
 "cells": [
  {
   "cell_type": "code",
   "execution_count": 9,
   "metadata": {},
   "outputs": [],
   "source": [
    "def calculo_IR(num):\n",
    "    faixa2 = (5000-1201)*0.1\n",
    "    faixa3 = (10000-5001)*0.15\n",
    "   \n",
    "    if num<=1200:\n",
    "        valor_imposto=0\n",
    "    elif (num >=1201 and num<=5000):\n",
    "       \n",
    "        valor_imposto=.1*(num - 1201)\n",
    "       \n",
    "    elif (num >=5001 % num <=10000):\n",
    "        valor_imposto+=.15*(num-5001) + faixa2\n",
    "    else:\n",
    "       \n",
    "        valor_imposto=.2*(num-10001) + faixa2 + faixa3\n",
    "       \n",
    "    return valor_imposto"
   ]
  },
  {
   "cell_type": "markdown",
   "metadata": {},
   "source": [
    "## List Comprehension\n"
   ]
  },
  {
   "cell_type": "code",
   "execution_count": 12,
   "metadata": {},
   "outputs": [],
   "source": [
    "x=[1,2,3,4,5,6]"
   ]
  },
  {
   "cell_type": "code",
   "execution_count": 15,
   "metadata": {},
   "outputs": [
    {
     "data": {
      "text/plain": [
       "3"
      ]
     },
     "execution_count": 15,
     "metadata": {},
     "output_type": "execute_result"
    }
   ],
   "source": [
    "soma = lambda a,b: a+b\n",
    "soma(1,2)"
   ]
  },
  {
   "cell_type": "code",
   "execution_count": null,
   "metadata": {},
   "outputs": [],
   "source": []
  }
 ],
 "metadata": {
  "kernelspec": {
   "display_name": "Python 3",
   "language": "python",
   "name": "python3"
  },
  "language_info": {
   "codemirror_mode": {
    "name": "ipython",
    "version": 3
   },
   "file_extension": ".py",
   "mimetype": "text/x-python",
   "name": "python",
   "nbconvert_exporter": "python",
   "pygments_lexer": "ipython3",
   "version": "3.7.6"
  }
 },
 "nbformat": 4,
 "nbformat_minor": 4
}
