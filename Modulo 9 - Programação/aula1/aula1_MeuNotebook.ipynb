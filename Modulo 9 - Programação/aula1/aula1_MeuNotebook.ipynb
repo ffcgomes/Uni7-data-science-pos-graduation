{
 "cells": [
  {
   "cell_type": "markdown",
   "metadata": {},
   "source": [
    "## Aula 1 - Programação para Data Science"
   ]
  },
  {
   "cell_type": "markdown",
   "metadata": {},
   "source": [
    "## Strings \n"
   ]
  },
  {
   "cell_type": "code",
   "execution_count": 7,
   "metadata": {},
   "outputs": [
    {
     "name": "stdout",
     "output_type": "stream",
     "text": [
      "C:\\diretorio\n",
      "ovo\n",
      "ada.exe\n",
      "C:\\diretorio\\novo\\nada.exe\n"
     ]
    }
   ],
   "source": [
    "\"\"\"Comentario em mais\n",
    "de uma linha\n",
    "\"\"\"\n",
    "print(\"C:\\diretorio\\novo\\nada.exe\")\n",
    "print(\"C:\\diretorio\\\\novo\\\\nada.exe\")"
   ]
  },
  {
   "cell_type": "markdown",
   "metadata": {},
   "source": [
    "- São Imutáveis\n"
   ]
  },
  {
   "cell_type": "code",
   "execution_count": 8,
   "metadata": {},
   "outputs": [
    {
     "data": {
      "text/plain": [
       "'jello'"
      ]
     },
     "execution_count": 8,
     "metadata": {},
     "output_type": "execute_result"
    }
   ],
   "source": [
    "s=\"hello\"\n",
    "# para alterar\n",
    "\"j\"+s[1:]"
   ]
  },
  {
   "cell_type": "code",
   "execution_count": 11,
   "metadata": {},
   "outputs": [
    {
     "name": "stdout",
     "output_type": "stream",
     "text": [
      "valor de pi é: 3.1\n"
     ]
    }
   ],
   "source": [
    "pi=3.14\n",
    "text = \"valor de pi é: \"+ str(pi)\n",
    "print(text)"
   ]
  },
  {
   "cell_type": "code",
   "execution_count": 13,
   "metadata": {},
   "outputs": [
    {
     "name": "stdout",
     "output_type": "stream",
     "text": [
      "O valor de pi é:  3.14\n"
     ]
    }
   ],
   "source": [
    "print(\"O valor de pi é: \", 3.14)"
   ]
  },
  {
   "cell_type": "code",
   "execution_count": 14,
   "metadata": {},
   "outputs": [
    {
     "name": "stdout",
     "output_type": "stream",
     "text": [
      "float-11.500000 inteiro-80 string-hello\n"
     ]
    }
   ],
   "source": [
    "a=11.5\n",
    "i=80\n",
    "s='hello'\n",
    "text=\"float-%f inteiro-%d string-%s\"% (a,i,s)\n",
    "print(text)"
   ]
  },
  {
   "cell_type": "code",
   "execution_count": 15,
   "metadata": {},
   "outputs": [
    {
     "data": {
      "text/plain": [
       "'hello'"
      ]
     },
     "execution_count": 15,
     "metadata": {},
     "output_type": "execute_result"
    }
   ],
   "source": [
    "s"
   ]
  },
  {
   "cell_type": "code",
   "execution_count": 25,
   "metadata": {},
   "outputs": [
    {
     "name": "stdout",
     "output_type": "stream",
     "text": [
      "h\n",
      "ello\n",
      "ll\n",
      "hello\n",
      "ello\n",
      "ell\n",
      "o\n"
     ]
    }
   ],
   "source": [
    "print(s[0])\n",
    "print(s[1:])\n",
    "print(s[2:4])\n",
    "print(s[0:5])\n",
    "print(s[1:100])\n",
    "print(s[1:-1])\n",
    "print(s[-1])\n",
    "\n",
    "# [-1] é o ultimo elemento"
   ]
  },
  {
   "cell_type": "code",
   "execution_count": 31,
   "metadata": {},
   "outputs": [
    {
     "data": {
      "text/plain": [
       "'python, is, powerfull!!!python. is. powerfull!!!s'"
      ]
     },
     "execution_count": 31,
     "metadata": {},
     "output_type": "execute_result"
    }
   ],
   "source": [
    "\", \".join(\"PYTHON IS POWERFULL\".lower().split())+\"!!!\"+'python. is. powerfull!!!s'"
   ]
  },
  {
   "cell_type": "code",
   "execution_count": 32,
   "metadata": {},
   "outputs": [],
   "source": [
    "s=\"Mont python and the flying circus\""
   ]
  },
  {
   "cell_type": "code",
   "execution_count": 34,
   "metadata": {},
   "outputs": [
    {
     "data": {
      "text/plain": [
       "['Mont', 'python', 'and', 'the', 'flying', 'circus']"
      ]
     },
     "execution_count": 34,
     "metadata": {},
     "output_type": "execute_result"
    }
   ],
   "source": [
    "s.split()"
   ]
  },
  {
   "cell_type": "code",
   "execution_count": 36,
   "metadata": {},
   "outputs": [
    {
     "data": {
      "text/plain": [
       "2"
      ]
     },
     "execution_count": 36,
     "metadata": {},
     "output_type": "execute_result"
    }
   ],
   "source": [
    "s.count(\"th\")"
   ]
  },
  {
   "cell_type": "code",
   "execution_count": 42,
   "metadata": {},
   "outputs": [],
   "source": [
    "text=\"\"\"[{\"_id\":\"Brasil\",\"casosAcumuladoNovos\":15654,\"count\":1,\"obitosAcumuladoNovos\":679,\"populacaoTCU2019\":\"210147125\"},{\"casosAcumuladoNovos\":610,\"count\":3,\"obitosAcumuladoNovos\":8,\"populacaoTCU2019\":16297074,\"_id\":\"Centro-Oeste\",\"listaMunicipios\":[{\"casosAcumuladoNovos\":6,\"count\":1,\"obitosAcumuladoNovos\":0,\"populacaoTCU2019\":3015268,\"_id\":\"DF\"},{\"casosAcumuladoNovos\":311,\"count\":1,\"obitosAcumuladoNovos\":0,\"populacaoTCU2019\":7018354,\"_id\":\"GO\"},{\"casosAcumuladoNovos\":222,\"count\":1,\"obitosAcumuladoNovos\":7,\"populacaoTCU2019\":3484466,\"_id\":\"MT\"},{\"casosAcumuladoNovos\":71,\"count\":1,\"obitosAcumuladoNovos\":1,\"populacaoTCU2019\":2778986,\"_id\":\"MS\"}]},{\"casosAcumuladoNovos\":249,\"count\":3,\"obitosAcumuladoNovos\":11,\"populacaoTCU2019\":29975984,\"_id\":\"Sul\",\"listaMunicipios\":[{\"casosAcumuladoNovos\":134,\"count\":1,\"obitosAcumuladoNovos\":6,\"populacaoTCU2019\":11433957,\"_id\":\"PR\"},{\"casosAcumuladoNovos\":0,\"count\":1,\"obitosAcumuladoNovos\":0,\"populacaoTCU2019\":7164788,\"_id\":\"SC\"},{\"casosAcumuladoNovos\":115,\"count\":1,\"obitosAcumuladoNovos\":5,\"populacaoTCU2019\":11377239,\"_id\":\"RS\"}]},{\"casosAcumuladoNovos\":3615,\"count\":3,\"obitosAcumuladoNovos\":147,\"populacaoTCU2019\":18430980,\"_id\":\"Norte\",\"listaMunicipios\":[{\"casosAcumuladoNovos\":249,\"count\":1,\"obitosAcumuladoNovos\":6,\"populacaoTCU2019\":845731,\"_id\":\"AP\"},{\"casosAcumuladoNovos\":516,\"count\":1,\"obitosAcumuladoNovos\":10,\"populacaoTCU2019\":1777225,\"_id\":\"RO\"},{\"casosAcumuladoNovos\":145,\"count\":1,\"obitosAcumuladoNovos\":4,\"populacaoTCU2019\":881935,\"_id\":\"AC\"},{\"casosAcumuladoNovos\":1761,\"count\":1,\"obitosAcumuladoNovos\":94,\"populacaoTCU2019\":8602865,\"_id\":\"PA\"},{\"casosAcumuladoNovos\":239,\"count\":1,\"obitosAcumuladoNovos\":3,\"populacaoTCU2019\":605761,\"_id\":\"RR\"},{\"casosAcumuladoNovos\":163,\"count\":1,\"obitosAcumuladoNovos\":9,\"populacaoTCU2019\":1572866,\"_id\":\"TO\"},{\"casosAcumuladoNovos\":542,\"count\":1,\"obitosAcumuladoNovos\":21,\"populacaoTCU2019\":4144597,\"_id\":\"AM\"}]},{\"casosAcumuladoNovos\":6697,\"count\":3,\"obitosAcumuladoNovos\":353,\"populacaoTCU2019\":57071654,\"_id\":\"Nordeste\",\"listaMunicipios\":[{\"casosAcumuladoNovos\":0,\"count\":1,\"obitosAcumuladoNovos\":0,\"populacaoTCU2019\":3337357,\"_id\":\"AL\"},{\"casosAcumuladoNovos\":463,\"count\":1,\"obitosAcumuladoNovos\":45,\"populacaoTCU2019\":9557071,\"_id\":\"PE\"},{\"casosAcumuladoNovos\":465,\"count\":1,\"obitosAcumuladoNovos\":31,\"populacaoTCU2019\":14873064,\"_id\":\"BA\"},{\"casosAcumuladoNovos\":641,\"count\":1,\"obitosAcumuladoNovos\":23,\"populacaoTCU2019\":4018127,\"_id\":\"PB\"},{\"casosAcumuladoNovos\":437,\"count\":1,\"obitosAcumuladoNovos\":17,\"populacaoTCU2019\":2298696,\"_id\":\"SE\"},{\"casosAcumuladoNovos\":143,\"count\":1,\"obitosAcumuladoNovos\":15,\"populacaoTCU2019\":3273227,\"_id\":\"PI\"},{\"casosAcumuladoNovos\":1778,\"count\":1,\"obitosAcumuladoNovos\":77,\"populacaoTCU2019\":7075181,\"_id\":\"MA\"},{\"casosAcumuladoNovos\":1436,\"count\":1,\"obitosAcumuladoNovos\":7,\"populacaoTCU2019\":3506853,\"_id\":\"RN\"},{\"casosAcumuladoNovos\":1334,\"count\":1,\"obitosAcumuladoNovos\":138,\"populacaoTCU2019\":9132078,\"_id\":\"CE\"}]},{\"casosAcumuladoNovos\":4483,\"count\":3,\"obitosAcumuladoNovos\":160,\"populacaoTCU2019\":88371433,\"_id\":\"Sudeste\",\"listaMunicipios\":[{\"casosAcumuladoNovos\":1520,\"count\":1,\"obitosAcumuladoNovos\":43,\"populacaoTCU2019\":45919049,\"_id\":\"SP\"},{\"casosAcumuladoNovos\":1040,\"count\":1,\"obitosAcumuladoNovos\":39,\"populacaoTCU2019\":4018650,\"_id\":\"ES\"},{\"casosAcumuladoNovos\":1743,\"count\":1,\"obitosAcumuladoNovos\":74,\"populacaoTCU2019\":17264943,\"_id\":\"RJ\"},{\"casosAcumuladoNovos\":180,\"count\":1,\"obitosAcumuladoNovos\":4,\"populacaoTCU2019\":21168791,\"_id\":\"MG\"}]}]\"\"\""
   ]
  },
  {
   "cell_type": "code",
   "execution_count": 43,
   "metadata": {},
   "outputs": [
    {
     "name": "stdout",
     "output_type": "stream",
     "text": [
      "[{\"_id\":\"Brasil\",\"casosAcumuladoNovos\":15654,\"count\":1,\"obitosAcumuladoNovos\":679,\"populacaoTCU2019\":\"210147125\"},{\"casosAcumuladoNovos\":610,\"count\":3,\"obitosAcumuladoNovos\":8,\"populacaoTCU2019\":16297074,\"_id\":\"Centro-Oeste\",\"listaMunicipios\":[{\"casosAcumuladoNovos\":6,\"count\":1,\"obitosAcumuladoNovos\":0,\"populacaoTCU2019\":3015268,\"_id\":\"DF\"},{\"casosAcumuladoNovos\":311,\"count\":1,\"obitosAcumuladoNovos\":0,\"populacaoTCU2019\":7018354,\"_id\":\"GO\"},{\"casosAcumuladoNovos\":222,\"count\":1,\"obitosAcumuladoNovos\":7,\"populacaoTCU2019\":3484466,\"_id\":\"MT\"},{\"casosAcumuladoNovos\":71,\"count\":1,\"obitosAcumuladoNovos\":1,\"populacaoTCU2019\":2778986,\"_id\":\"MS\"}]},{\"casosAcumuladoNovos\":249,\"count\":3,\"obitosAcumuladoNovos\":11,\"populacaoTCU2019\":29975984,\"_id\":\"Sul\",\"listaMunicipios\":[{\"casosAcumuladoNovos\":134,\"count\":1,\"obitosAcumuladoNovos\":6,\"populacaoTCU2019\":11433957,\"_id\":\"PR\"},{\"casosAcumuladoNovos\":0,\"count\":1,\"obitosAcumuladoNovos\":0,\"populacaoTCU2019\":7164788,\"_id\":\"SC\"},{\"casosAcumuladoNovos\":115,\"count\":1,\"obitosAcumuladoNovos\":5,\"populacaoTCU2019\":11377239,\"_id\":\"RS\"}]},{\"casosAcumuladoNovos\":3615,\"count\":3,\"obitosAcumuladoNovos\":147,\"populacaoTCU2019\":18430980,\"_id\":\"Norte\",\"listaMunicipios\":[{\"casosAcumuladoNovos\":249,\"count\":1,\"obitosAcumuladoNovos\":6,\"populacaoTCU2019\":845731,\"_id\":\"AP\"},{\"casosAcumuladoNovos\":516,\"count\":1,\"obitosAcumuladoNovos\":10,\"populacaoTCU2019\":1777225,\"_id\":\"RO\"},{\"casosAcumuladoNovos\":145,\"count\":1,\"obitosAcumuladoNovos\":4,\"populacaoTCU2019\":881935,\"_id\":\"AC\"},{\"casosAcumuladoNovos\":1761,\"count\":1,\"obitosAcumuladoNovos\":94,\"populacaoTCU2019\":8602865,\"_id\":\"PA\"},{\"casosAcumuladoNovos\":239,\"count\":1,\"obitosAcumuladoNovos\":3,\"populacaoTCU2019\":605761,\"_id\":\"RR\"},{\"casosAcumuladoNovos\":163,\"count\":1,\"obitosAcumuladoNovos\":9,\"populacaoTCU2019\":1572866,\"_id\":\"TO\"},{\"casosAcumuladoNovos\":542,\"count\":1,\"obitosAcumuladoNovos\":21,\"populacaoTCU2019\":4144597,\"_id\":\"AM\"}]},{\"casosAcumuladoNovos\":6697,\"count\":3,\"obitosAcumuladoNovos\":353,\"populacaoTCU2019\":57071654,\"_id\":\"Nordeste\",\"listaMunicipios\":[{\"casosAcumuladoNovos\":0,\"count\":1,\"obitosAcumuladoNovos\":0,\"populacaoTCU2019\":3337357,\"_id\":\"AL\"},{\"casosAcumuladoNovos\":463,\"count\":1,\"obitosAcumuladoNovos\":45,\"populacaoTCU2019\":9557071,\"_id\":\"PE\"},{\"casosAcumuladoNovos\":465,\"count\":1,\"obitosAcumuladoNovos\":31,\"populacaoTCU2019\":14873064,\"_id\":\"BA\"},{\"casosAcumuladoNovos\":641,\"count\":1,\"obitosAcumuladoNovos\":23,\"populacaoTCU2019\":4018127,\"_id\":\"PB\"},{\"casosAcumuladoNovos\":437,\"count\":1,\"obitosAcumuladoNovos\":17,\"populacaoTCU2019\":2298696,\"_id\":\"SE\"},{\"casosAcumuladoNovos\":143,\"count\":1,\"obitosAcumuladoNovos\":15,\"populacaoTCU2019\":3273227,\"_id\":\"PI\"},{\"casosAcumuladoNovos\":1778,\"count\":1,\"obitosAcumuladoNovos\":77,\"populacaoTCU2019\":7075181,\"_id\":\"MA\"},{\"casosAcumuladoNovos\":1436,\"count\":1,\"obitosAcumuladoNovos\":7,\"populacaoTCU2019\":3506853,\"_id\":\"RN\"},{\"casosAcumuladoNovos\":1334,\"count\":1,\"obitosAcumuladoNovos\":138,\"populacaoTCU2019\":9132078,\"_id\":\"CE\"}]},{\"casosAcumuladoNovos\":4483,\"count\":3,\"obitosAcumuladoNovos\":160,\"populacaoTCU2019\":88371433,\"_id\":\"Sudeste\",\"listaMunicipios\":[{\"casosAcumuladoNovos\":1520,\"count\":1,\"obitosAcumuladoNovos\":43,\"populacaoTCU2019\":45919049,\"_id\":\"SP\"},{\"casosAcumuladoNovos\":1040,\"count\":1,\"obitosAcumuladoNovos\":39,\"populacaoTCU2019\":4018650,\"_id\":\"ES\"},{\"casosAcumuladoNovos\":1743,\"count\":1,\"obitosAcumuladoNovos\":74,\"populacaoTCU2019\":17264943,\"_id\":\"RJ\"},{\"casosAcumuladoNovos\":180,\"count\":1,\"obitosAcumuladoNovos\":4,\"populacaoTCU2019\":21168791,\"_id\":\"MG\"}]}]\n"
     ]
    }
   ],
   "source": [
    "print(text)"
   ]
  },
  {
   "cell_type": "code",
   "execution_count": 48,
   "metadata": {},
   "outputs": [
    {
     "data": {
      "text/plain": [
       "165"
      ]
     },
     "execution_count": 48,
     "metadata": {},
     "output_type": "execute_result"
    }
   ],
   "source": [
    "len(text.split(\",\"))"
   ]
  },
  {
   "cell_type": "code",
   "execution_count": 49,
   "metadata": {},
   "outputs": [
    {
     "data": {
      "text/plain": [
       "66"
      ]
     },
     "execution_count": 49,
     "metadata": {},
     "output_type": "execute_result"
    }
   ],
   "source": [
    "text.count(\"Novos\")"
   ]
  },
  {
   "cell_type": "markdown",
   "metadata": {},
   "source": [
    "### Tuplas"
   ]
  },
  {
   "cell_type": "code",
   "execution_count": 54,
   "metadata": {},
   "outputs": [
    {
     "name": "stdout",
     "output_type": "stream",
     "text": [
      "(2, 7)\n",
      "(123, 32343, 'hello')\n",
      "((2, 7), 'Ciencia de Dados', 1, 2)\n",
      "4\n"
     ]
    }
   ],
   "source": [
    "teste = (2,7)\n",
    "teste1 = 123, 32343, \"hello\"\n",
    "teste2 = teste,\"Ciencia de Dados\", 1, 2\n",
    "print(teste)\n",
    "print(teste1)\n",
    "print(teste2)\n",
    "print(len(teste2))"
   ]
  },
  {
   "cell_type": "markdown",
   "metadata": {},
   "source": [
    "### Listas"
   ]
  },
  {
   "cell_type": "code",
   "execution_count": 56,
   "metadata": {},
   "outputs": [
    {
     "data": {
      "text/plain": [
       "['uni7', 'dados', 100, 1234]"
      ]
     },
     "execution_count": 56,
     "metadata": {},
     "output_type": "execute_result"
    }
   ],
   "source": [
    "arr = ['uni7', 'dados', 100, 1234]\n",
    "arr"
   ]
  },
  {
   "cell_type": "markdown",
   "metadata": {},
   "source": [
    "### Função range"
   ]
  },
  {
   "cell_type": "markdown",
   "metadata": {},
   "source": [
    "### Dado Boleano"
   ]
  },
  {
   "cell_type": "code",
   "execution_count": 57,
   "metadata": {},
   "outputs": [
    {
     "data": {
      "text/plain": [
       "True"
      ]
     },
     "execution_count": 57,
     "metadata": {},
     "output_type": "execute_result"
    }
   ],
   "source": [
    "x=11\n",
    "x>0\n",
    "x is not None"
   ]
  },
  {
   "cell_type": "code",
   "execution_count": 59,
   "metadata": {},
   "outputs": [],
   "source": [
    "lista=[10,20,30,'oi','tchau']"
   ]
  },
  {
   "cell_type": "code",
   "execution_count": 64,
   "metadata": {},
   "outputs": [
    {
     "name": "stdout",
     "output_type": "stream",
     "text": [
      "10\n",
      "20\n",
      "30\n",
      "oi\n",
      "tchau\n"
     ]
    }
   ],
   "source": [
    "for i in range(len(lista)):\n",
    "    print(lista[i])\n",
    "               "
   ]
  },
  {
   "cell_type": "code",
   "execution_count": 66,
   "metadata": {},
   "outputs": [
    {
     "name": "stdout",
     "output_type": "stream",
     "text": [
      "(0, 10)\n",
      "(1, 20)\n",
      "(2, 30)\n",
      "(3, 'oi')\n",
      "(4, 'tchau')\n"
     ]
    }
   ],
   "source": [
    "#Enumerate \n",
    "for item in enumerate(lista):\n",
    "    print(item)"
   ]
  },
  {
   "cell_type": "code",
   "execution_count": 68,
   "metadata": {},
   "outputs": [],
   "source": [
    "nomes=[\"Pato\", \"Ganso\",\"Hulk\"]\n",
    "gols=2,0,8"
   ]
  },
  {
   "cell_type": "code",
   "execution_count": 71,
   "metadata": {},
   "outputs": [
    {
     "name": "stdout",
     "output_type": "stream",
     "text": [
      "Pato fez 2 gols\n",
      "Ganso fez 0 gols\n",
      "Hulk fez 8 gols\n"
     ]
    }
   ],
   "source": [
    "#Zip Empacota (oposto do enumerate)\n",
    "for n,g in zip(nomes,gols):\n",
    "    print(\"%s fez %d gols\" % (n,g))"
   ]
  },
  {
   "cell_type": "markdown",
   "metadata": {},
   "source": [
    "## Funçoes"
   ]
  },
  {
   "cell_type": "code",
   "execution_count": 72,
   "metadata": {},
   "outputs": [],
   "source": [
    "url = \"https://teams.microsoft.com/_#/pre-join-calling/19:98524e6c340743ea96e241c71f3f43dd@thread.tacv2\"\n",
    "\n",
    "def parse_url(url):\n",
    "    url.split()"
   ]
  },
  {
   "cell_type": "code",
   "execution_count": 83,
   "metadata": {},
   "outputs": [
    {
     "data": {
      "text/plain": [
       "'teams.microsoft.com'"
      ]
     },
     "execution_count": 83,
     "metadata": {},
     "output_type": "execute_result"
    }
   ],
   "source": [
    "url = \"https://teams.microsoft.com/_#/pre-join-calling/19:98524e6c340743ea96e241c71f3f43dd@thread.tacv2\"\n",
    "p=url.split(\"/\")\n",
    "p\n",
    "p[2]"
   ]
  },
  {
   "cell_type": "code",
   "execution_count": null,
   "metadata": {},
   "outputs": [],
   "source": []
  }
 ],
 "metadata": {
  "kernelspec": {
   "display_name": "Python 3",
   "language": "python",
   "name": "python3"
  },
  "language_info": {
   "codemirror_mode": {
    "name": "ipython",
    "version": 3
   },
   "file_extension": ".py",
   "mimetype": "text/x-python",
   "name": "python",
   "nbconvert_exporter": "python",
   "pygments_lexer": "ipython3",
   "version": "3.7.6"
  }
 },
 "nbformat": 4,
 "nbformat_minor": 4
}
