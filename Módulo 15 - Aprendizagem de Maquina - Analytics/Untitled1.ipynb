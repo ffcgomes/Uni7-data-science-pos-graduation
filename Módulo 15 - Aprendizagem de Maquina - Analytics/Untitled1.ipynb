{
 "cells": [
  {
   "cell_type": "code",
   "execution_count": 1,
   "metadata": {},
   "outputs": [],
   "source": [
    "from sklearn.datasets import fetch_20newsgroups"
   ]
  },
  {
   "cell_type": "code",
   "execution_count": 4,
   "metadata": {},
   "outputs": [],
   "source": [
    "categorias = ['alt.atheism','soc.religion.christian','comp.graphics','sci.med']"
   ]
  },
  {
   "cell_type": "code",
   "execution_count": 5,
   "metadata": {},
   "outputs": [],
   "source": [
    "data_train = fetch_20newsgroups(subset='train',categories=categorias, shuffle=True)"
   ]
  },
  {
   "cell_type": "code",
   "execution_count": 8,
   "metadata": {},
   "outputs": [
    {
     "data": {
      "text/plain": [
       "['alt.atheism', 'comp.graphics', 'sci.med', 'soc.religion.christian']"
      ]
     },
     "execution_count": 8,
     "metadata": {},
     "output_type": "execute_result"
    }
   ],
   "source": [
    "data_train.target_names"
   ]
  },
  {
   "cell_type": "code",
   "execution_count": 9,
   "metadata": {},
   "outputs": [
    {
     "data": {
      "text/plain": [
       "2257"
      ]
     },
     "execution_count": 9,
     "metadata": {},
     "output_type": "execute_result"
    }
   ],
   "source": [
    "len(data_train.data)"
   ]
  },
  {
   "cell_type": "code",
   "execution_count": 10,
   "metadata": {},
   "outputs": [
    {
     "data": {
      "text/plain": [
       "2257"
      ]
     },
     "execution_count": 10,
     "metadata": {},
     "output_type": "execute_result"
    }
   ],
   "source": [
    "len(data_train.filenames)"
   ]
  },
  {
   "cell_type": "code",
   "execution_count": 14,
   "metadata": {},
   "outputs": [
    {
     "name": "stdout",
     "output_type": "stream",
     "text": [
      "From: anasaz!karl@anasazi.com (Karl Dussik)\n",
      "Subject: Re: Is \"Christian\" a dirty word?\n",
      "Organization: Anasazi Inc Phx Az USA\n",
      "Lines: 73\n",
      "\n",
      "In article <Mar.25.03.53.08.1993.24855@athos.rutgers.edu> @usceast.cs.scarolina.edu:moss@cs.scarolina.edu (James Moss) writes:\n",
      ">I was brought up christian, but I am not christian any longer.\n",
      ">I also have a bad taste in my mouth over christianity.  I (in\n",
      ">my own faith) accept and live my life by many if not most of the\n",
      ">teachings of christ, but I cannot let myself be called a christian,\n",
      ">beacuse to me too many things are done on the name of christianity,\n",
      ">that I can not be associated with.  \n",
      "\n",
      "A question for you - can you give me the name of an organization or a\n",
      "philosophy or a political movement, etc., which has never had anything\n",
      "evil done in its name?  You're missing a central teaching of Christianity -\n",
      "man is inherently sinful.  We are saved through faith by grace.  Knowing\n",
      "that, believing that, does not make us without sin.  Furthermore, not all\n",
      "who consider themselves \"christians\" are (even those who manage to head\n",
      "their own \"churches\").  \"Not everyone who says to me, 'Lord, Lord,' will\n",
      "enter the kingdom of heaven, but only he who does the will of my Father who\n",
      "is in heaven.\" - Matt. 7:21.\n",
      "\n",
      ">I also have a problem with the inconsistancies in the Bible, and\n",
      ">how it seems to me that too many people have edited the original\n",
      ">documents to fit their own world views, thereby leaving the Bible\n",
      ">an unbelievable source.\n",
      "\n",
      "Again, what historical documents do you trust?  Do you think Hannibal\n",
      "crossed the Alps?  How do you know?  How do you know for sure?  What\n",
      "historical documents have stood the scrutiny and the attempts to dis-\n",
      "credit it as well as the Bible has?\n",
      "\n",
      ">I don't have dislike of christians (except for a few who won't\n",
      ">quit witnessing to me, no matter how many times I tell them to stop), \n",
      ">but the christian faith/organized religion will never (as far as i can \n",
      ">see at the moment) get my support.\n",
      "\n",
      "Well, it's really a shame you feel this way.  No one can browbeat you\n",
      "into believing, and those who try will probably only succeed in driving\n",
      "you further away.  You need to ask yourself some difficult questions:\n",
      "1) is there an afterlife, and if so, does man require salvation to attain\n",
      "it.  If the answer is yes, the next question is 2) how does man attain this\n",
      "salvation - can he do it on his own as the eastern religions and certain\n",
      "modern offshoots like the \"new age movement\" teach or does he require God's\n",
      "help?  3) If the latter, in what form does - indeed, in what form can such\n",
      "help come?  Needless to say, this discussion could take a lifetime, and for\n",
      "some people it did comprise their life's writings, so I am hardly in a\n",
      "position to offer the answers here - merely pointers to what to ask.  Few,\n",
      "of us manage to have an unshaken faith our entire lives (certainly not me).\n",
      "The spritual life is a difficult journey (if you've never read \"A Pilgrim's\n",
      "Progress,\" I highly recommend this greatest allegory of the english language).\n",
      "\n",
      ">Peace and Love\n",
      ">In God(ess)'s name\n",
      ">James Moss\n",
      "\n",
      "Now I see by your close that one possible source of trouble for you may be a\n",
      "conflict between your politcal beliefs and your religious upbringing.  You\n",
      "wrote that \"I (in my own faith) accept and live my life by many if not most\n",
      "of the teachings of christ\".  Well, Christ referred to God as \"My Father\",\n",
      "not \"My Mother\", and while the \"maleness\" of God is not the same as the\n",
      "maleness of those of us humans who possess a Y chromosome, it does not\n",
      "honor God to refer to Him as female purely to be trendy, non-discriminatory,\n",
      "or politically correct.  This in no way disparages women (nor is it my intent\n",
      "to do so by my use of the male pronoun to refer to both men and women - \n",
      "english just does not have a decent neuter set of pronouns).  After all, God\n",
      "chose a woman as his only human partner in bringing Christ into the human\n",
      "population.\n",
      "\n",
      "Well, I'm not about to launch into a detailed discussion of\n",
      "the role of women in Christianity at 1am with only 6 hours of sleep in the\n",
      "last 63, and for that reason I also apologize for any shortcomings in this\n",
      "article.  I just happened across yours and felt moved to reply.  I hope I\n",
      "may have given you, and anyone else who finds himself in a similar frame of\n",
      "mind, something to contemplate.\n",
      "\n",
      "Karl Dussik\n",
      "\n"
     ]
    }
   ],
   "source": [
    "print(data_train.data[10])"
   ]
  },
  {
   "cell_type": "code",
   "execution_count": 15,
   "metadata": {},
   "outputs": [
    {
     "name": "stdout",
     "output_type": "stream",
     "text": [
      "C:\\Users\\USUARIO\\scikit_learn_data\\20news_home\\20news-bydate-train\\comp.graphics\\38440\n"
     ]
    }
   ],
   "source": [
    "print(data_train.filenames[0])"
   ]
  },
  {
   "cell_type": "code",
   "execution_count": 17,
   "metadata": {},
   "outputs": [
    {
     "name": "stdout",
     "output_type": "stream",
     "text": [
      "comp.graphics\n",
      "comp.graphics\n",
      "soc.religion.christian\n",
      "soc.religion.christian\n",
      "soc.religion.christian\n",
      "soc.religion.christian\n",
      "soc.religion.christian\n",
      "sci.med\n",
      "sci.med\n",
      "sci.med\n",
      "soc.religion.christian\n",
      "comp.graphics\n",
      "alt.atheism\n",
      "alt.atheism\n",
      "comp.graphics\n",
      "comp.graphics\n",
      "sci.med\n",
      "alt.atheism\n",
      "soc.religion.christian\n",
      "alt.atheism\n"
     ]
    }
   ],
   "source": [
    "for t in data_train.target[:20]:\n",
    "    print(data_train.target_names[t])"
   ]
  },
  {
   "cell_type": "code",
   "execution_count": 19,
   "metadata": {},
   "outputs": [],
   "source": [
    "import pandas as pd"
   ]
  },
  {
   "cell_type": "code",
   "execution_count": null,
   "metadata": {},
   "outputs": [],
   "source": [
    "data = pd.DataFrame(data=data_train.data.reshape(-1,1),columns=data_train.target)"
   ]
  }
 ],
 "metadata": {
  "kernelspec": {
   "display_name": "Python 3",
   "language": "python",
   "name": "python3"
  },
  "language_info": {
   "codemirror_mode": {
    "name": "ipython",
    "version": 3
   },
   "file_extension": ".py",
   "mimetype": "text/x-python",
   "name": "python",
   "nbconvert_exporter": "python",
   "pygments_lexer": "ipython3",
   "version": "3.8.5"
  }
 },
 "nbformat": 4,
 "nbformat_minor": 4
}
