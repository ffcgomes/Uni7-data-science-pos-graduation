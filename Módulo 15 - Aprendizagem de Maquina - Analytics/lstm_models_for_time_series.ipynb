{
  "nbformat": 4,
  "nbformat_minor": 0,
  "metadata": {
    "colab": {
      "name": "lstm-models-for-time-series.ipynb",
      "provenance": []
    },
    "kernelspec": {
      "name": "python3",
      "display_name": "Python 3"
    }
  },
  "cells": [
    {
      "cell_type": "markdown",
      "metadata": {
        "id": "RDSBFv71iLy1"
      },
      "source": [
        "#How to Develop LSTM Models for Time Series Forecasting\r\n"
      ]
    },
    {
      "cell_type": "markdown",
      "metadata": {
        "id": "XlOc20oGurxf"
      },
      "source": [
        "###Modelos Univariados LSTM"
      ]
    },
    {
      "cell_type": "code",
      "metadata": {
        "colab": {
          "base_uri": "https://localhost:8080/"
        },
        "id": "ZSAOreIzkv7Y",
        "outputId": "e2dcfa7d-441e-4533-c0de-ccc263d1f0cc"
      },
      "source": [
        "# univariate lstm example\r\n",
        "from numpy import array\r\n",
        "from keras.models import Sequential\r\n",
        "from keras.layers import LSTM\r\n",
        "from keras.layers import Dense\r\n",
        " \r\n",
        "# split a univariate sequence into samples\r\n",
        "def split_sequence(sequence, n_steps):\r\n",
        "\tX, y = list(), list()\r\n",
        "\tfor i in range(len(sequence)):\r\n",
        "\t\t# find the end of this pattern\r\n",
        "\t\tend_ix = i + n_steps\r\n",
        "\t\t# check if we are beyond the sequence\r\n",
        "\t\tif end_ix > len(sequence)-1:\r\n",
        "\t\t\tbreak\r\n",
        "\t\t# gather input and output parts of the pattern\r\n",
        "\t\tseq_x, seq_y = sequence[i:end_ix], sequence[end_ix]\r\n",
        "\t\tX.append(seq_x)\r\n",
        "\t\ty.append(seq_y)\r\n",
        "\treturn array(X), array(y)\r\n",
        " \r\n",
        "# define input sequence\r\n",
        "raw_seq = [10, 20, 30, 40, 50, 60, 70, 80, 90]\r\n",
        "# choose a number of time steps\r\n",
        "n_steps = 3\r\n",
        "# split into samples\r\n",
        "X, y = split_sequence(raw_seq, n_steps)\r\n",
        "# reshape from [samples, timesteps] into [samples, timesteps, features]\r\n",
        "n_features = 1\r\n",
        "X = X.reshape((X.shape[0], X.shape[1], n_features))\r\n",
        "# define model\r\n",
        "model = Sequential()\r\n",
        "model.add(LSTM(50, activation='relu', input_shape=(n_steps, n_features)))\r\n",
        "model.add(Dense(1))\r\n",
        "model.compile(optimizer='adam', loss='mse')\r\n",
        "# fit model\r\n",
        "model.fit(X, y, epochs=200, verbose=0)\r\n",
        "# demonstrate prediction\r\n",
        "x_input = array([70, 80, 90])\r\n",
        "x_input = x_input.reshape((1, n_steps, n_features))\r\n",
        "yhat = model.predict(x_input, verbose=0)\r\n",
        "print(yhat)"
      ],
      "execution_count": 6,
      "outputs": [
        {
          "output_type": "execute_result",
          "data": {
            "text/plain": [
              "array([[[70],\n",
              "        [80],\n",
              "        [90]]])"
            ]
          },
          "metadata": {
            "tags": []
          },
          "execution_count": 6
        }
      ]
    },
    {
      "cell_type": "markdown",
      "metadata": {
        "id": "OrUNALTQu19l"
      },
      "source": [
        "###Modelos Multivariados LSTM\r\n",
        "####Série de entrada múltipla"
      ]
    },
    {
      "cell_type": "code",
      "metadata": {
        "colab": {
          "base_uri": "https://localhost:8080/"
        },
        "id": "uBtYlSWUu7ma",
        "outputId": "4d3e9511-9fa8-4160-ef82-019e702ecf7d"
      },
      "source": [
        "# multivariate lstm example\r\n",
        "from numpy import array\r\n",
        "from numpy import hstack\r\n",
        "from keras.models import Sequential\r\n",
        "from keras.layers import LSTM\r\n",
        "from keras.layers import Dense\r\n",
        " \r\n",
        "# split a multivariate sequence into samples\r\n",
        "def split_sequences(sequences, n_steps):\r\n",
        "\tX, y = list(), list()\r\n",
        "\tfor i in range(len(sequences)):\r\n",
        "\t\t# find the end of this pattern\r\n",
        "\t\tend_ix = i + n_steps\r\n",
        "\t\t# check if we are beyond the dataset\r\n",
        "\t\tif end_ix > len(sequences):\r\n",
        "\t\t\tbreak\r\n",
        "\t\t# gather input and output parts of the pattern\r\n",
        "\t\tseq_x, seq_y = sequences[i:end_ix, :-1], sequences[end_ix-1, -1]\r\n",
        "\t\tX.append(seq_x)\r\n",
        "\t\ty.append(seq_y)\r\n",
        "\treturn array(X), array(y)\r\n",
        " \r\n",
        "# define input sequence\r\n",
        "in_seq1 = array([10, 20, 30, 40, 50, 60, 70, 80, 90])\r\n",
        "in_seq2 = array([15, 25, 35, 45, 55, 65, 75, 85, 95])\r\n",
        "out_seq = array([in_seq1[i]+in_seq2[i] for i in range(len(in_seq1))])\r\n",
        "# convert to [rows, columns] structure\r\n",
        "in_seq1 = in_seq1.reshape((len(in_seq1), 1))\r\n",
        "in_seq2 = in_seq2.reshape((len(in_seq2), 1))\r\n",
        "out_seq = out_seq.reshape((len(out_seq), 1))\r\n",
        "# horizontally stack columns\r\n",
        "dataset = hstack((in_seq1, in_seq2, out_seq))\r\n",
        "# choose a number of time steps\r\n",
        "n_steps = 3\r\n",
        "# convert into input/output\r\n",
        "X, y = split_sequences(dataset, n_steps)\r\n",
        "# the dataset knows the number of features, e.g. 2\r\n",
        "n_features = X.shape[2]\r\n",
        "# define model\r\n",
        "model = Sequential()\r\n",
        "model.add(LSTM(50, activation='relu', input_shape=(n_steps, n_features)))\r\n",
        "model.add(Dense(1))\r\n",
        "model.compile(optimizer='adam', loss='mse')\r\n",
        "# fit model\r\n",
        "model.fit(X, y, epochs=200, verbose=0)\r\n",
        "# demonstrate prediction\r\n",
        "x_input = array([[80, 85], [90, 95], [100, 105]])\r\n",
        "x_input = x_input.reshape((1, n_steps, n_features))\r\n",
        "yhat = model.predict(x_input, verbose=0)\r\n",
        "print(yhat)"
      ],
      "execution_count": 2,
      "outputs": [
        {
          "output_type": "stream",
          "text": [
            "[[207.18848]]\n"
          ],
          "name": "stdout"
        }
      ]
    }
  ]
}