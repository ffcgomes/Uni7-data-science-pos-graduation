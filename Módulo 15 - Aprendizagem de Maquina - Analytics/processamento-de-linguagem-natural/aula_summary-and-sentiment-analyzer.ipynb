{
 "cells": [
  {
   "cell_type": "markdown",
   "metadata": {},
   "source": [
    "##### Topicos"
   ]
  },
  {
   "cell_type": "code",
   "execution_count": 1,
   "metadata": {},
   "outputs": [],
   "source": [
    "from IPython.display import HTML, display\n",
    "\n",
    "def set_css():\n",
    "  display(HTML('''\n",
    "  <style>\n",
    "    pre {\n",
    "        white-space: pre-wrap;\n",
    "    }\n",
    "  </style>\n",
    "  '''))\n",
    "get_ipython().events.register('pre_run_cell', set_css)"
   ]
  },
  {
   "cell_type": "code",
   "execution_count": 2,
   "metadata": {
    "collapsed": true,
    "jupyter": {
     "outputs_hidden": true
    }
   },
   "outputs": [
    {
     "data": {
      "text/html": [
       "\n",
       "  <style>\n",
       "    pre {\n",
       "        white-space: pre-wrap;\n",
       "    }\n",
       "  </style>\n",
       "  "
      ],
      "text/plain": [
       "<IPython.core.display.HTML object>"
      ]
     },
     "metadata": {},
     "output_type": "display_data"
    },
    {
     "name": "stdout",
     "output_type": "stream",
     "text": [
      "Requirement already satisfied: gensim in c:\\users\\lucas\\anaconda3\\lib\\site-packages (3.8.3)\n",
      "Requirement already satisfied: Cython==0.29.14 in c:\\users\\lucas\\anaconda3\\lib\\site-packages (from gensim) (0.29.14)\n",
      "Requirement already satisfied: six>=1.5.0 in c:\\users\\lucas\\anaconda3\\lib\\site-packages (from gensim) (1.15.0)\n",
      "Requirement already satisfied: smart-open>=1.8.1 in c:\\users\\lucas\\anaconda3\\lib\\site-packages (from gensim) (3.0.0)\n",
      "Requirement already satisfied: scipy>=0.18.1 in c:\\users\\lucas\\anaconda3\\lib\\site-packages (from gensim) (1.5.2)\n",
      "Requirement already satisfied: numpy>=1.11.3 in c:\\users\\lucas\\anaconda3\\lib\\site-packages (from gensim) (1.19.5)\n",
      "Requirement already satisfied: requests in c:\\users\\lucas\\anaconda3\\lib\\site-packages (from smart-open>=1.8.1->gensim) (2.24.0)\n",
      "Requirement already satisfied: certifi>=2017.4.17 in c:\\users\\lucas\\anaconda3\\lib\\site-packages (from requests->smart-open>=1.8.1->gensim) (2020.6.20)\n",
      "Requirement already satisfied: chardet<4,>=3.0.2 in c:\\users\\lucas\\anaconda3\\lib\\site-packages (from requests->smart-open>=1.8.1->gensim) (3.0.4)\n",
      "Requirement already satisfied: urllib3!=1.25.0,!=1.25.1,<1.26,>=1.21.1 in c:\\users\\lucas\\anaconda3\\lib\\site-packages (from requests->smart-open>=1.8.1->gensim) (1.25.11)\n",
      "Requirement already satisfied: idna<3,>=2.5 in c:\\users\\lucas\\anaconda3\\lib\\site-packages (from requests->smart-open>=1.8.1->gensim) (2.10)\n"
     ]
    }
   ],
   "source": [
    "!pip install gensim"
   ]
  },
  {
   "cell_type": "code",
   "execution_count": 3,
   "metadata": {
    "collapsed": true,
    "jupyter": {
     "outputs_hidden": true
    }
   },
   "outputs": [
    {
     "data": {
      "text/html": [
       "\n",
       "  <style>\n",
       "    pre {\n",
       "        white-space: pre-wrap;\n",
       "    }\n",
       "  </style>\n",
       "  "
      ],
      "text/plain": [
       "<IPython.core.display.HTML object>"
      ]
     },
     "metadata": {},
     "output_type": "display_data"
    },
    {
     "name": "stderr",
     "output_type": "stream",
     "text": [
      "[nltk_data] Downloading package stopwords to\n",
      "[nltk_data]     C:\\Users\\Lucas\\AppData\\Roaming\\nltk_data...\n",
      "[nltk_data]   Package stopwords is already up-to-date!\n",
      "[nltk_data] Downloading package punkt to\n",
      "[nltk_data]     C:\\Users\\Lucas\\AppData\\Roaming\\nltk_data...\n",
      "[nltk_data]   Package punkt is already up-to-date!\n",
      "[nltk_data] Downloading package averaged_perceptron_tagger to\n",
      "[nltk_data]     C:\\Users\\Lucas\\AppData\\Roaming\\nltk_data...\n",
      "[nltk_data]   Package averaged_perceptron_tagger is already up-to-\n",
      "[nltk_data]       date!\n",
      "[nltk_data] Downloading package wordnet to\n",
      "[nltk_data]     C:\\Users\\Lucas\\AppData\\Roaming\\nltk_data...\n",
      "[nltk_data]   Package wordnet is already up-to-date!\n"
     ]
    },
    {
     "data": {
      "text/plain": [
       "True"
      ]
     },
     "execution_count": 3,
     "metadata": {},
     "output_type": "execute_result"
    }
   ],
   "source": [
    "from gensim import corpora, models, similarities\n",
    "from nltk.tokenize import sent_tokenize, word_tokenize\n",
    "from nltk.stem import WordNetLemmatizer\n",
    "from nltk.tag import pos_tag\n",
    "import nltk\n",
    "from nltk.corpus import stopwords\n",
    "\n",
    "from operator import itemgetter\n",
    "import re\n",
    "import pprint\n",
    "\n",
    "nltk.download('stopwords')\n",
    "nltk.download('punkt')\n",
    "nltk.download('averaged_perceptron_tagger')\n",
    "nltk.download('wordnet')"
   ]
  },
  {
   "cell_type": "code",
   "execution_count": 4,
   "metadata": {
    "collapsed": true,
    "jupyter": {
     "outputs_hidden": true
    }
   },
   "outputs": [
    {
     "data": {
      "text/html": [
       "\n",
       "  <style>\n",
       "    pre {\n",
       "        white-space: pre-wrap;\n",
       "    }\n",
       "  </style>\n",
       "  "
      ],
      "text/plain": [
       "<IPython.core.display.HTML object>"
      ]
     },
     "metadata": {},
     "output_type": "display_data"
    },
    {
     "name": "stdout",
     "output_type": "stream",
     "text": [
      "Requirement already satisfied: wikipedia in c:\\users\\lucas\\anaconda3\\lib\\site-packages (1.4.0)\n",
      "Requirement already satisfied: requests<3.0.0,>=2.0.0 in c:\\users\\lucas\\anaconda3\\lib\\site-packages (from wikipedia) (2.24.0)\n",
      "Requirement already satisfied: beautifulsoup4 in c:\\users\\lucas\\anaconda3\\lib\\site-packages (from wikipedia) (4.9.3)\n",
      "Requirement already satisfied: idna<3,>=2.5 in c:\\users\\lucas\\anaconda3\\lib\\site-packages (from requests<3.0.0,>=2.0.0->wikipedia) (2.10)\n",
      "Requirement already satisfied: chardet<4,>=3.0.2 in c:\\users\\lucas\\anaconda3\\lib\\site-packages (from requests<3.0.0,>=2.0.0->wikipedia) (3.0.4)\n",
      "Requirement already satisfied: certifi>=2017.4.17 in c:\\users\\lucas\\anaconda3\\lib\\site-packages (from requests<3.0.0,>=2.0.0->wikipedia) (2020.6.20)\n",
      "Requirement already satisfied: urllib3!=1.25.0,!=1.25.1,<1.26,>=1.21.1 in c:\\users\\lucas\\anaconda3\\lib\\site-packages (from requests<3.0.0,>=2.0.0->wikipedia) (1.25.11)\n",
      "Requirement already satisfied: soupsieve>1.2; python_version >= \"3.0\" in c:\\users\\lucas\\anaconda3\\lib\\site-packages (from beautifulsoup4->wikipedia) (2.0.1)\n"
     ]
    }
   ],
   "source": [
    "!pip install wikipedia"
   ]
  },
  {
   "cell_type": "code",
   "execution_count": 5,
   "metadata": {
    "collapsed": true,
    "jupyter": {
     "outputs_hidden": true
    }
   },
   "outputs": [
    {
     "data": {
      "text/html": [
       "\n",
       "  <style>\n",
       "    pre {\n",
       "        white-space: pre-wrap;\n",
       "    }\n",
       "  </style>\n",
       "  "
      ],
      "text/plain": [
       "<IPython.core.display.HTML object>"
      ]
     },
     "metadata": {},
     "output_type": "display_data"
    },
    {
     "name": "stdout",
     "output_type": "stream",
     "text": [
      "Coronaviruses are a group of related RNA viruses that cause diseases in mammals and birds. In humans and birds, they cause respiratory tract infections that can range from mild to lethal. Mild illnesses in humans include some cases of the common cold (which is also caused by other viruses, predominantly rhinoviruses), while more lethal varieties can cause SARS, MERS, and COVID-19. In cows and pigs they cause diarrhea, while in mice they cause hepatitis and encephalomyelitis.\n",
      "Coronaviruses constitute the subfamily Orthocoronavirinae, in the family Coronaviridae, order Nidovirales, and realm Riboviria. They are enveloped viruses with a positive-sense single-stranded RNA genome and a nucleocapsid of helical symmetry. The genome size of coronaviruses ranges from approximately 26 to 32 kilobases, one of the largest among RNA viruses. They have characteristic club-shaped spikes that project from their surface, which in electron micrographs create an image reminiscent of the solar corona, from which their name derives.\n",
      "\n",
      "\n",
      "== Etymology ==\n",
      "The name \"coronavirus\" is derived from Latin corona, meaning \"crown\" or \"wreath\", itself a borrowing from Greek κορώνη korṓnē, \"garland, wreath\". The name was coined by June Almeida and David Tyrrell who first observed and studied human coronaviruses. The word was first used in print in 1968 by an informal group of virologists in the journal Nature to designate the new family of viruses. The name refers to the characteristic appearance of virions (the infective form of the virus) by electron microscopy, which have a fringe of large, bulbous surface projections creating an image reminiscent of the solar corona or halo. This morphology is created by the viral spike peplomers, which are proteins on the surface of the virus.The scientific name Coronavirus was accepted as a genus name by the International Committee for the Nomenclature of Viruses (later renamed International Committee on Taxonomy of Viruses) in 1971. As the number of new species increased, the genus was split into four genera, namely Alphacoronavirus, Betacoronavirus, Deltacoronavirus, and Gammacoronavirus in 2009. The common name coronavirus is used to refer to any member of the subfamily Orthocoronavirinae. As of 2020, 45 species are officially recognised.\n",
      "\n",
      "\n",
      "== History ==\n",
      "\n",
      "The earliest reports of a coronavirus infection in animals occurred in the late 1920s, when an acute respiratory infection of domesticated chickens emerged in North America. Arthur Schalk and M.C. Hawn in 1931 made the first detailed report which described a new respiratory infection of chickens in North Dakota. The infection of new-born chicks was characterized by gasping and listlessness with high mortality rates of 40–90%. Leland David Bushnell and Carl Alfred Brandly isolated the virus that caused the infection in 1933. The virus was then known as infectious bronchitis virus (IBV). Charles D. Hudson and Fred Robert Beaudette cultivated the virus for the first time in 1937. The specimen came to be known as the Beaudette strain. In the late 1940s, two more animal coronaviruses, JHM that causes brain disease (murine encephalitis) and mouse hepatitis virus (MHV) that causes hepatitis in mice were discovered. It was not realized at the time that these three different viruses were related.Human coronaviruses were discovered in the 1960s using two different methods in the United Kingdom and the United States. E.C. Kendall, Malcolm Bynoe, and David Tyrrell working at the Common Cold Unit of the British Medical Research Council collected a unique common cold virus designated B814 in 1961. The virus could not be cultivated using standard techniques which had successfully cultivated rhinoviruses, adenoviruses and other known common cold viruses. In 1965, Tyrrell and Bynoe successfully cultivated the novel virus by serially passing it through organ culture of human embryonic trachea. The new cultivating method was introduced to the lab by Bertil Hoorn. The isolated virus when intranasally inoculated into volunteers caused a cold and was inactivated by ether which indicated it had a lipid envelope. Dorothy Hamre and John Procknow at the University of Chicago isolated a novel cold from medical students in 1962. They isolated and grew the virus in kidney tissue culture, designating it 229E. The novel virus caused a cold in volunteers and, like B814, was inactivated by ether.\n",
      "\n",
      "Scottish virologist June Almeida at St. Thomas Hospital in London, collaborating with Tyrrell, compared the structures of IBV, B814 and 229E in 1967. Using electron microscopy the three viruses were shown to be morphologically related by their general shape and distinctive club-like spikes. A research group at the National Institute of Health the same year was able to isolate another member of this new group of viruses using organ culture and named one of the samples OC43 (OC for organ culture). Like B814, 229E, and IBV, the novel cold virus OC43 had distinctive club-like spikes when observed with the electron microscope.The IBV-like novel cold viruses were soon shown to be also morphologically related to the mouse hepatitis virus. This new group of viruses were named coronaviruses after their distinctive morphological appearance. Human coronavirus 229E and human coronavirus OC43 continued to be studied in subsequent decades. The coronavirus strain B814 was lost. It is not known which present human coronavirus it was. Other human coronaviruses have since been identified, including SARS-CoV in 2003, HCoV NL63 in 2003, HCoV HKU1 in 2004, MERS-CoV in 2013, and SARS-CoV-2 in 2019. There have also been a large number of animal coronaviruses identified since the 1960s.\n",
      "\n",
      "\n",
      "== Microbiology ==\n",
      "\n",
      "\n",
      "=== Structure ===\n",
      "\n",
      "Coronaviruses are large, roughly spherical particles with unique surface projections. Their size is highly variable with average diameters of 80 to 120 nm. Extreme sizes are known from 50 to 200 nm in diameter. The total molecular weight is on average 40,000 kDa. They are enclosed in an envelope embedded with a number of protein molecules. The lipid bilayer envelope, membrane proteins, and nucleocapsid protect the virus when it is outside the host cell.The viral envelope is made up of a lipid bilayer in which the membrane (M), envelope (E) and spike (S) structural proteins are anchored. The ratio of E:S:M in the lipid bilayer is approximately 1:20:300.  The E and M protein are the structural proteins that combined with the lipid bilayer to shape the viral envelope and maintain its size. S proteins are needed for interaction with the host cells. But human coronavirus NL63 is peculiar in that its M protein has the binding site for the host cell, and not its S protein. The diameter of the envelope is 85 nm. The envelope of the virus in electron micrographs appears as a distinct pair of electron-dense shells (shells that are relatively opaque to the electron beam used to scan the virus particle).The M protein is the main structural protein of the envelope that provides the overall shape and is a type III membrane protein. It consists of 218 to 263 amino acid residues and forms a layer 7.8 nm thick. It has three domains, a short N-terminal ectodomain, a triple-spanning transmembrane domain, and a C-terminal endodomain. The C-terminal domain forms a matrix-like lattice that adds to the extra-thickness of the envelope. Different species can have either N- or O-linked glycans in their protein amino-terminal domain. The M protein is crucial during the assembly, budding, envelope formation, and pathogenesis stages of the virus lifecycle.The E proteins are minor structural proteins and highly variable in different species. There are only about 20 copies of the E protein molecule in a coronavirus particle. They are 8.4 to 12 kDa in size and are composed of 76 to 109 amino acids. They are integral proteins (i.e. embedded in the lipid layer) and have two domains namely a transmembrane domain and an extramembrane C-terminal domain. They are almost fully α-helical, with a single α-helical transmembrane domain, and form pentameric (five-molecular) ion channels in the lipid bilayer. They are responsible for virion assembly, intracellular trafficking and morphogenesis (budding).\n",
      "\n",
      "The spikes are the most distinguishing feature of coronaviruses and are responsible for the corona- or halo-like surface. On average a coronavirus particle has 74 surface spikes. Each spike is about 20 nm long and is composed of a trimer of the S protein. The S protein is in turn composed of an S1 and S2 subunit. The homotrimeric S protein is a class I fusion protein which mediates the receptor binding and membrane fusion between the virus and host cell. The S1 subunit forms the head of the spike and has the receptor-binding domain (RBD). The S2 subunit forms the stem which anchors the spike in the viral envelope and on protease activation enables fusion. The two subunits remain noncovalently linked as they are exposed on the viral surface until they attach to the host cell membrane. In a functionally active state, three S1 are attached to two S2 subunits. The subunit complex is split into individual subunits when the virus binds and fuses with the host cell under the action of proteases such as cathepsin family and transmembrane protease serine 2 (TMPRSS2) of the host cell.\n",
      "\n",
      "S1 proteins are the most critical components in terms of infection. They are also the most variable components as they are responsible for host cell specificity. They possess two major domains named N-terminal domain (S1-NTD) and C-terminal domain (S1-CTD), both of which serve as the receptor-binding domains. The NTDs recognize and bind sugars on the surface of the host cell. An exception is the MHV NTD that binds to a protein receptor carcinoembryonic antigen-related cell adhesion molecule 1 (CEACAM1). S1-CTDs are responsible for recognizing different protein receptors such as angiotensin-converting enzyme 2 (ACE2), aminopeptidase N (APN), and dipeptidyl peptidase 4 (DPP4).A subset of coronaviruses (specifically the members of betacoronavirus subgroup A) also has a shorter spike-like surface protein called hemagglutinin esterase (HE). The HE proteins occur as homodimers composed of about 400 amino acid residues and are 40 to 50 kDa in size. They appear as tiny surface projections of 5 to 7 nm long embedded in between the spikes. They help in the attachment to and detachment from the host cell.Inside the envelope, there is the nucleocapsid, which is formed from multiple copies of the nucleocapsid (N) protein, which are bound to the positive-sense single-stranded RNA genome in a continuous beads-on-a-string type conformation. N protein is a phosphoprotein of 43 to 50 kDa in size, and is divided into three conserved domains. The majority of the protein is made up of domains 1 and 2, which are typically rich in arginines and lysines. Domain 3 has a short carboxy terminal end and has a net negative charge due to excess of acidic over basic amino acid residues.\n",
      "\n",
      "\n",
      "=== Genome ===\n",
      "\n",
      "Coronaviruses contain a positive-sense, single-stranded RNA genome. The genome size for coronaviruses ranges from 26.4 to 31.7 kilobases. The genome size is one of the largest among RNA viruses. The genome has a 5′ methylated cap and a 3′ polyadenylated tail.The genome organization for a coronavirus is 5′-leader-UTR-replicase (ORF1ab)-spike (S)-envelope (E)-membrane (M)-nucleocapsid (N)-3′UTR-poly (A) tail. The open reading frames 1a and 1b, which occupy the first two-thirds of the genome, encode the replicase polyprotein (pp1ab). The replicase polyprotein self cleaves to form 16 nonstructural proteins (nsp1–nsp16).The later reading frames encode the four major structural proteins: spike, envelope, membrane, and nucleocapsid. Interspersed between these reading frames are the reading frames for the accessory proteins. The number of accessory proteins and their function is unique depending on the specific coronavirus.\n",
      "\n",
      "\n",
      "=== Replication cycle ===\n",
      "\n",
      "\n",
      "==== Cell entry ====\n",
      "\n",
      "Infection begins when the viral spike protein attaches to its complementary host cell receptor. After attachment, a protease of the host cell cleaves and activates the receptor-attached spike protein. Depending on the host cell protease available, cleavage and activation allows the virus to enter the host cell by endocytosis or direct fusion of the viral envelope with the host membrane.\n",
      "\n",
      "\n",
      "==== Genome translation ====\n",
      "On entry into the host cell, the virus particle is uncoated, and its genome enters the cell cytoplasm. The coronavirus RNA genome has a 5′ methylated cap and a 3′ polyadenylated tail, which allows it to act like a messenger RNA and be directly translated by the host cell's ribosomes. The host ribosomes translate the initial overlapping open reading frames ORF1a and ORF1b of the virus genome into two large overlapping polyproteins, pp1a and pp1ab.The larger polyprotein pp1ab is a result of a -1 ribosomal frameshift caused by a slippery sequence (UUUAAAC) and a downstream RNA pseudoknot at the end of open reading frame ORF1a. The ribosomal frameshift allows for the continuous translation of ORF1a followed by ORF1b.The polyproteins have their own proteases,  PLpro (nsp3) and 3CLpro (nsp5), which cleave the polyproteins at different specific sites. The cleavage of polyprotein pp1ab yields 16 nonstructural proteins (nsp1 to nsp16). Product proteins include various replication  proteins such as RNA-dependent RNA polymerase (nsp12), RNA helicase (nsp13), and exoribonuclease (nsp14).\n",
      "\n",
      "\n",
      "==== Replicase-transcriptase ====\n",
      "\n",
      "A number of the nonstructural proteins coalesce to form a multi-protein replicase-transcriptase complex. The main replicase-transcriptase protein is the RNA-dependent RNA polymerase (RdRp). It is directly involved in the replication and transcription of RNA from an RNA strand. The other nonstructural proteins in the complex assist in the replication and transcription process. The exoribonuclease nonstructural protein, for instance, provides extra fidelity to replication by providing a proofreading function which the RNA-dependent RNA polymerase lacks.Replication – One of the main functions of the complex is to replicate the viral genome. RdRp directly mediates the synthesis of negative-sense genomic RNA from the positive-sense genomic RNA. This is followed by the replication of positive-sense genomic RNA from the negative-sense genomic RNA.\n",
      "\n",
      "Transcription – The other important function of the complex is to transcribe the viral genome. RdRp directly mediates the synthesis of negative-sense subgenomic RNA molecules from the positive-sense genomic RNA. This process is followed by the transcription of these negative-sense subgenomic RNA molecules to their corresponding positive-sense mRNAs. The subgenomic mRNAs form a \"nested set\" which have a common 5'-head and partially duplicate 3'-end.Recombination – The replicase-transcriptase complex is also capable of genetic recombination when at least two viral genomes are present in the same infected cell.  RNA recombination appears to be a major driving force in determining genetic variability within a coronavirus species, the capability of a coronavirus species to jump from one host to another and, infrequently, in determining the emergence of novel coronaviruses.  The exact mechanism of recombination in coronaviruses is unclear, but likely involves template switching during genome replication.\n",
      "\n",
      "\n",
      "==== Assembly and release ====\n",
      "The replicated positive-sense genomic RNA becomes the genome of the progeny viruses. The mRNAs are gene transcripts of the last third of the virus genome after the initial overlapping reading frame. These mRNAs are translated by the host's ribosomes into the structural proteins and a number of accessory proteins. RNA translation occurs inside the endoplasmic reticulum. The viral structural proteins S, E, and M move along the secretory pathway into the Golgi intermediate compartment. There, the M proteins direct most protein-protein interactions required for assembly of viruses following its binding to the nucleocapsid. Progeny viruses are then released from the host cell by exocytosis through secretory vesicles. Once released the viruses can infect other host cells.\n",
      "\n",
      "\n",
      "=== Transmission ===\n",
      "Infected carriers are able to shed viruses into the environment. The interaction of the coronavirus spike protein with its complementary cell receptor is central in determining the tissue tropism, infectivity, and species range of the released virus. Coronaviruses mainly target epithelial cells. They are transmitted from one host to another host, depending on the coronavirus species, by either an aerosol, fomite, or fecal-oral route.Human coronaviruses infect the epithelial cells of the respiratory tract, while animal coronaviruses generally infect the epithelial cells of the digestive tract. SARS coronavirus, for example, infects the human epithelial cells of the lungs via an aerosol route by binding to the angiotensin-converting enzyme 2 (ACE2) receptor. Transmissible gastroenteritis coronavirus (TGEV) infects the pig epithelial cells of the digestive tract via a fecal-oral route by binding to the alanine aminopeptidase (APN) receptor.\n",
      "\n",
      "\n",
      "== Classification ==\n",
      "\n",
      "Coronaviruses form the subfamily Orthocoronavirinae, which is one of two sub-families in the family Coronaviridae, order Nidovirales, and realm Riboviria. They are divided into the four genera: Alphacoronavirus, Betacoronavirus, Gammacoronavirus and Deltacoronavirus. Alphacoronaviruses and betacoronaviruses infect mammals, while gammacoronaviruses and deltacoronaviruses primarily infect birds.\n",
      "\n",
      "Genus: Alphacoronavirus; type species: Alphacoronavirus 1\n",
      "Species: Alphacoronavirus 1 (TGEV, Feline coronavirus, Canine coronavirus), Human coronavirus 229E, Human coronavirus NL63, Miniopterus bat coronavirus 1, Miniopterus bat coronavirus HKU8, Porcine epidemic diarrhea virus, Rhinolophus bat coronavirus HKU2, Scotophilus bat coronavirus 512\n",
      "Genus Betacoronavirus; type species: Murine coronavirus (MHV)\n",
      "Species: Betacoronavirus 1 (Bovine Coronavirus, Human coronavirus OC43), Hedgehog coronavirus 1, Human coronavirus HKU1, Middle East respiratory syndrome-related coronavirus, Murine coronavirus, Pipistrellus bat coronavirus HKU5, Rousettus bat coronavirus HKU9, Severe acute respiratory syndrome-related coronavirus (SARS-CoV, SARS-CoV-2), Tylonycteris bat coronavirus HKU4\n",
      "Genus Gammacoronavirus; type species: Avian coronavirus (IBV)\n",
      "Species: Avian coronavirus, Beluga whale coronavirus SW1\n",
      "Genus Deltacoronavirus; type species: Bulbul coronavirus HKU11\n",
      "Species: Bulbul coronavirus HKU11, Porcine coronavirus HKU15\n",
      "\n",
      "\n",
      "== Origin ==\n",
      "\n",
      "The most recent common ancestor (MRCA) of all coronaviruses is estimated to have existed as recently as 8000 BCE, although some models place the common ancestor as far back as 55 million years or more, implying long term coevolution with bat and avian species. The most recent common ancestor of the alphacoronavirus line has been placed at about 2400 BCE, of the betacoronavirus line at 3300 BCE, of the gammacoronavirus line at 2800 BCE, and of the deltacoronavirus line at about 3000 BCE. Bats and birds, as warm-blooded flying vertebrates, are an ideal natural reservoir for the coronavirus gene pool (with bats the reservoir for alphacoronaviruses and betacoronavirus – and birds the reservoir for gammacoronaviruses and deltacoronaviruses). The large number and global range of bat and avian species that host viruses has enabled extensive evolution and dissemination of coronaviruses.Many human coronaviruses have their origin in bats. The human coronavirus NL63 shared a common ancestor with a bat coronavirus (ARCoV.2) between 1190 and 1449 CE. The human coronavirus 229E shared a common ancestor with a bat coronavirus (GhanaGrp1 Bt CoV) between 1686 and 1800 CE. More recently, alpaca coronavirus and human coronavirus 229E diverged sometime before 1960. MERS-CoV emerged in humans from bats through the intermediate host of camels. MERS-CoV, although related to several bat coronavirus species, appears to have diverged from these several centuries ago. The most closely related bat coronavirus and SARS-CoV diverged in 1986. The ancestors of SARS-CoV first infected leaf-nose bats of the genus Hipposideridae; subsequently, they spread to horseshoe bats in the species Rhinolophidae, then to Asian palm civets, and finally to humans.Unlike other betacoronaviruses, bovine coronavirus of the species Betacoronavirus 1 and subgenus Embecovirus is thought to have originated in rodents and not in bats. In the 1790s, equine coronavirus diverged from the bovine coronavirus after a cross-species jump. Later in the 1890s, human coronavirus OC43 diverged from bovine coronavirus after another cross-species spillover event. It is speculated that the flu pandemic of 1890 may have been caused by this spillover event, and not by the influenza virus, because of the related timing, neurological symptoms, and unknown causative agent of the pandemic. Besides causing respiratory infections, human coronavirus OC43 is also suspected of playing a role in neurological diseases. In the 1950s, the human coronavirus OC43 began to diverge into its present genotypes. Phylogentically, mouse hepatitis virus (Murine coronavirus), which infects the mouse's liver and central nervous system, is related to human coronavirus OC43 and bovine coronavirus. Human coronavirus HKU1, like the aforementioned viruses, also has its origins in rodents.\n",
      "\n",
      "\n",
      "== Infection in humans ==\n",
      "\n",
      "Coronaviruses vary significantly in risk factor. Some can kill more than 30% of those infected, such as MERS-CoV, and some are relatively harmless, such as the common cold. Coronaviruses can cause colds with major symptoms, such as fever, and a sore throat from swollen adenoids. Coronaviruses can cause pneumonia (either direct viral pneumonia or secondary bacterial pneumonia) and bronchitis (either direct viral bronchitis or secondary bacterial bronchitis). The human coronavirus discovered in 2003, SARS-CoV, which causes severe acute respiratory syndrome (SARS), has a unique pathogenesis because it causes both upper and lower respiratory tract infections.Six species of human coronaviruses are known, with one species subdivided into two different strains, making seven strains of human coronaviruses altogether.\n",
      "\n",
      "Four human coronaviruses produce symptoms that are generally mild, even though it is contended they might have been more aggressive in the past:\n",
      "Human coronavirus OC43 (HCoV-OC43), β-CoV\n",
      "Human coronavirus HKU1 (HCoV-HKU1), β-CoV\n",
      "Human coronavirus 229E (HCoV-229E), α-CoV\n",
      "Human coronavirus NL63 (HCoV-NL63), α-CoVThree human coronaviruses produce symptoms that are potentially severe:\n",
      "\n",
      "Middle East respiratory syndrome-related coronavirus (MERS-CoV), β-CoV\n",
      "Severe acute respiratory syndrome coronavirus (SARS-CoV), β-CoV\n",
      "Severe acute respiratory syndrome coronavirus 2 (SARS-CoV-2), β-CoV\n",
      "\n",
      "\n",
      "=== Common cold ===\n",
      "\n",
      "The human coronaviruses HCoV-OC43, HCoV-HKU1, HCoV-229E, and HCoV-NL63 continually circulate in the human population and produce the generally mild symptoms of the common cold in adults and children worldwide. These coronaviruses cause about 15% of common colds, while 40 to 50% of colds are caused by rhinoviruses.  The four mild coronaviruses have a seasonal incidence occurring in the winter months in temperate climates.  There is no preponderance in any season in tropical climates.\n",
      "\n",
      "\n",
      "=== Severe acute respiratory syndrome (SARS) ===\n",
      "\n",
      "In 2003, following the outbreak of severe acute respiratory syndrome (SARS) which had begun the prior year in Asia, and secondary cases elsewhere in the world, the World Health Organization (WHO) issued a press release stating that a novel coronavirus identified by a number of laboratories was the causative agent for SARS. The virus was officially named the SARS coronavirus (SARS-CoV). More than 8,000 people from 29 different countries and territories were infected, and at least 774 died.\n",
      "\n",
      "\n",
      "=== Middle East respiratory syndrome (MERS) ===\n",
      "\n",
      "In September 2012, a new type of coronavirus was identified, initially called Novel Coronavirus 2012, and now officially named Middle East respiratory syndrome coronavirus (MERS-CoV). The World Health Organization issued a global alert soon after. The WHO update on 28 September 2012 said the virus did not seem to pass easily from person to person. However, on 12 May 2013, a case of human-to-human transmission in France was confirmed by the French Ministry of Social Affairs and Health. In addition, cases of human-to-human transmission were reported by the Ministry of Health in Tunisia. Two confirmed cases involved people who seemed to have caught the disease from their late father, who became ill after a visit to Qatar and Saudi Arabia. Despite this, it appears the virus had trouble spreading from human to human, as most individuals who are infected do not transmit the virus. By 30 October 2013, there were 124 cases and 52 deaths in Saudi Arabia.After the Dutch Erasmus Medical Centre sequenced the virus, the virus was given a new name, Human Coronavirus—Erasmus Medical Centre (HCoV-EMC). The final name for the virus is Middle East respiratory syndrome coronavirus (MERS-CoV). The only U.S. cases (both survived) were recorded in May 2014.In May 2015, an outbreak of MERS-CoV occurred in the Republic of Korea, when a man who had traveled to the Middle East, visited four hospitals in the Seoul area to treat his illness. This caused one of the largest outbreaks of MERS-CoV outside the Middle East. As of December 2019, 2,468 cases of MERS-CoV infection had been confirmed by laboratory tests, 851 of which were fatal, a mortality rate of approximately 34.5%.\n",
      "\n",
      "\n",
      "=== Coronavirus disease 2019 (COVID-19) ===\n",
      "\n",
      "In December 2019, a pneumonia outbreak was reported in Wuhan, China. On 31 December 2019, the outbreak was traced to a novel strain of coronavirus, which was given the interim name 2019-nCoV by the World Health Organization (WHO), later renamed SARS-CoV-2 by the International Committee on Taxonomy of Viruses.\n",
      "As of 20 February 2021, there have been at least 2,453,381 confirmed deaths and more than 110,770,701 confirmed cases in the COVID-19 pandemic. The Wuhan strain has been identified as a new strain of Betacoronavirus from group 2B with approximately 70% genetic similarity to the SARS-CoV. The virus has a 96% similarity to a bat coronavirus, so it is widely suspected to originate from bats as well. The pandemic has resulted in travel restrictions and nationwide lockdowns in many countries.\n",
      "\n",
      "\n",
      "== Infection in animals ==\n",
      "Coronaviruses have been recognized as causing pathological conditions in veterinary medicine since the 1930s.  They infect a range of animals including swine, cattle, horses, camels, cats, dogs, rodents, birds and bats.  The majority of animal related coronaviruses infect the intestinal tract and are transmitted by a fecal-oral route. Significant research efforts have been focused on elucidating the viral pathogenesis of these animal coronaviruses, especially by virologists interested in veterinary and zoonotic diseases.\n",
      "\n",
      "\n",
      "=== Farm animals ===\n",
      "Coronaviruses infect domesticated birds. Infectious bronchitis virus (IBV), a type of coronavirus, causes avian infectious bronchitis. The virus is of concern to the poultry industry because of the high mortality from infection, its rapid spread, and its effect on production. The virus affects both meat production and egg production and causes substantial economic loss. In chickens, infectious bronchitis virus targets not only the respiratory tract but also the urogenital tract. The virus can spread to different organs throughout the chicken. The virus is transmitted by aerosol and food contaminated by feces. Different vaccines against IBV exist and have helped to limit the spread of the virus and its variants. Infectious bronchitis virus is one of a number of strains of the species Avian coronavirus. Another strain of avian coronavirus is turkey coronavirus (TCV) which causes enteritis in turkeys.Coronaviruses also affect other branches of animal husbandry such as pig farming and the cattle raising. Swine acute diarrhea syndrome coronavirus (SADS-CoV), which is related to bat coronavirus HKU2, causes diarrhea in pigs. Porcine epidemic diarrhea virus (PEDV) is a coronavirus that has recently emerged and similarly causes diarrhea in pigs. Transmissible gastroenteritis virus (TGEV), which is a member of the species Alphacoronavirus 1, is another coronavirus that causes diarrhea in young pigs. In the cattle industry bovine coronavirus (BCV), which is a member of the species Betacoronavirus 1 and related to HCoV-OC43, is responsible for severe profuse enteritis in young calves.\n",
      "\n",
      "\n",
      "=== Domestic pets ===\n",
      "Coronaviruses infect domestic pets such as cats, dogs, and ferrets. There are two forms of feline coronavirus which are both members of the species Alphacoronavirus 1. Feline enteric coronavirus is a pathogen of minor clinical significance, but spontaneous mutation of this virus can result in feline infectious peritonitis (FIP), a disease with high mortality. There are two different coronaviruses that infect dogs. Canine coronavirus (CCoV), which is a member of the species Alphacoronavirus 1, causes mild gastrointestinal disease. Canine respiratory coronavirus (CRCoV), which is a member of the species Betacoronavirus 1 and related to HCoV-OC43, cause respiratory disease. Similarly, there are two types of coronavirus that infect ferrets. Ferret enteric coronavirus causes a gastrointestinal syndrome known as epizootic catarrhal enteritis (ECE), and a more lethal systemic version of the virus (like FIP in cats) known as ferret systemic coronavirus (FSC).\n",
      "\n",
      "\n",
      "=== Laboratory animals ===\n",
      "Coronaviruses infect laboratory animals. Mouse hepatitis virus (MHV), which is a member of the species Murine coronavirus, causes an epidemic murine illness with high mortality, especially among colonies of laboratory mice.  Prior to the discovery of SARS-CoV, MHV was the best-studied coronavirus both in vivo and in vitro as well as at the molecular level.  Some strains of MHV cause a progressive demyelinating encephalitis in mice which has been used as a murine model for multiple sclerosis. Sialodacryoadenitis virus (SDAV), which is a strain of the species Murine coronavirus, is highly infectious coronavirus of laboratory rats, which can be transmitted between individuals by direct contact and indirectly by aerosol.  Rabbit enteric coronavirus causes acute gastrointestinal disease and diarrhea in young European rabbits.  Mortality rates are high.\n",
      "\n",
      "\n",
      "== Prevention and treatment ==\n",
      "A number of vaccines using different methods have been developed against human coronavirus SARS-CoV-2. Antiviral targets against human coronaviruses have also been identified such as viral proteases, polymerases, and entry proteins. Drugs are in development which target these proteins and the different steps of viral replication.Vaccines are available for animal coronaviruses IBV, TGEV, and Canine CoV, although their effectiveness is limited. In the case of outbreaks of highly contagious animal coronaviruses, such as PEDV, measures such as destruction of entire herds of pigs may be used to prevent transmission to other herds.\n",
      "\n",
      "\n",
      "== See also ==\n",
      "Coronavirus diseases\n",
      "Zoonosis\n",
      "\n",
      "\n",
      "== References ==\n",
      "\n",
      "\n",
      "== Further reading ==\n"
     ]
    }
   ],
   "source": [
    "import wikipedia\n",
    "\n",
    "wikipage = wikipedia.page('coronavirus').content\n",
    "print(wikipage)"
   ]
  },
  {
   "cell_type": "code",
   "execution_count": 13,
   "metadata": {
    "collapsed": true,
    "jupyter": {
     "outputs_hidden": true
    }
   },
   "outputs": [
    {
     "data": {
      "text/html": [
       "\n",
       "  <style>\n",
       "    pre {\n",
       "        white-space: pre-wrap;\n",
       "    }\n",
       "  </style>\n",
       "  "
      ],
      "text/plain": [
       "<IPython.core.display.HTML object>"
      ]
     },
     "metadata": {},
     "output_type": "display_data"
    },
    {
     "name": "stdout",
     "output_type": "stream",
     "text": [
      "['Coronaviruses are a group of related RNA viruses that cause diseases in mammals and birds.', 'In humans and birds, they cause respiratory tract infections that can range from mild to lethal.', 'Mild illnesses in humans include some cases of the common cold (which is also caused by other viruses, predominantly rhinoviruses), while more lethal varieties can cause SARS, MERS, and COVID-19.', 'In cows and pigs they cause diarrhea, while in mice they cause hepatitis and encephalomyelitis.', 'Coronaviruses constitute the subfamily Orthocoronavirinae, in the family Coronaviridae, order Nidovirales, and realm Riboviria.', 'They are enveloped viruses with a positive-sense single-stranded RNA genome and a nucleocapsid of helical symmetry.', 'The genome size of coronaviruses ranges from approximately 26 to 32 kilobases, one of the largest among RNA viruses.', 'They have characteristic club-shaped spikes that project from their surface, which in electron micrographs create an image reminiscent of the solar corona, from which their name derives.', '== Etymology ==\\nThe name \"coronavirus\" is derived from Latin corona, meaning \"crown\" or \"wreath\", itself a borrowing from Greek κορώνη korṓnē, \"garland, wreath\".', 'The name was coined by June Almeida and David Tyrrell who first observed and studied human coronaviruses.', 'The word was first used in print in 1968 by an informal group of virologists in the journal Nature to designate the new family of viruses.', 'The name refers to the characteristic appearance of virions (the infective form of the virus) by electron microscopy, which have a fringe of large, bulbous surface projections creating an image reminiscent of the solar corona or halo.', 'This morphology is created by the viral spike peplomers, which are proteins on the surface of the virus.The scientific name Coronavirus was accepted as a genus name by the International Committee for the Nomenclature of Viruses (later renamed International Committee on Taxonomy of Viruses) in 1971.', 'As the number of new species increased, the genus was split into four genera, namely Alphacoronavirus, Betacoronavirus, Deltacoronavirus, and Gammacoronavirus in 2009.', 'The common name coronavirus is used to refer to any member of the subfamily Orthocoronavirinae.', 'As of 2020, 45 species are officially recognised.', '== History ==\\n\\nThe earliest reports of a coronavirus infection in animals occurred in the late 1920s, when an acute respiratory infection of domesticated chickens emerged in North America.', 'Arthur Schalk and M.C.', 'Hawn in 1931 made the first detailed report which described a new respiratory infection of chickens in North Dakota.', 'The infection of new-born chicks was characterized by gasping and listlessness with high mortality rates of 40–90%.', 'Leland David Bushnell and Carl Alfred Brandly isolated the virus that caused the infection in 1933.', 'The virus was then known as infectious bronchitis virus (IBV).', 'Charles D. Hudson and Fred Robert Beaudette cultivated the virus for the first time in 1937.', 'The specimen came to be known as the Beaudette strain.', 'In the late 1940s, two more animal coronaviruses, JHM that causes brain disease (murine encephalitis) and mouse hepatitis virus (MHV) that causes hepatitis in mice were discovered.', 'It was not realized at the time that these three different viruses were related.Human coronaviruses were discovered in the 1960s using two different methods in the United Kingdom and the United States.', 'E.C.', 'Kendall, Malcolm Bynoe, and David Tyrrell working at the Common Cold Unit of the British Medical Research Council collected a unique common cold virus designated B814 in 1961.', 'The virus could not be cultivated using standard techniques which had successfully cultivated rhinoviruses, adenoviruses and other known common cold viruses.', 'In 1965, Tyrrell and Bynoe successfully cultivated the novel virus by serially passing it through organ culture of human embryonic trachea.', 'The new cultivating method was introduced to the lab by Bertil Hoorn.', 'The isolated virus when intranasally inoculated into volunteers caused a cold and was inactivated by ether which indicated it had a lipid envelope.', 'Dorothy Hamre and John Procknow at the University of Chicago isolated a novel cold from medical students in 1962.', 'They isolated and grew the virus in kidney tissue culture, designating it 229E.', 'The novel virus caused a cold in volunteers and, like B814, was inactivated by ether.', 'Scottish virologist June Almeida at St. Thomas Hospital in London, collaborating with Tyrrell, compared the structures of IBV, B814 and 229E in 1967.', 'Using electron microscopy the three viruses were shown to be morphologically related by their general shape and distinctive club-like spikes.', 'A research group at the National Institute of Health the same year was able to isolate another member of this new group of viruses using organ culture and named one of the samples OC43 (OC for organ culture).', 'Like B814, 229E, and IBV, the novel cold virus OC43 had distinctive club-like spikes when observed with the electron microscope.The IBV-like novel cold viruses were soon shown to be also morphologically related to the mouse hepatitis virus.', 'This new group of viruses were named coronaviruses after their distinctive morphological appearance.', 'Human coronavirus 229E and human coronavirus OC43 continued to be studied in subsequent decades.', 'The coronavirus strain B814 was lost.', 'It is not known which present human coronavirus it was.', 'Other human coronaviruses have since been identified, including SARS-CoV in 2003, HCoV NL63 in 2003, HCoV HKU1 in 2004, MERS-CoV in 2013, and SARS-CoV-2 in 2019.', 'There have also been a large number of animal coronaviruses identified since the 1960s.', '== Microbiology ==\\n\\n\\n=== Structure ===\\n\\nCoronaviruses are large, roughly spherical particles with unique surface projections.', 'Their size is highly variable with average diameters of 80 to 120 nm.', 'Extreme sizes are known from 50 to 200 nm in diameter.', 'The total molecular weight is on average 40,000 kDa.', 'They are enclosed in an envelope embedded with a number of protein molecules.', 'The lipid bilayer envelope, membrane proteins, and nucleocapsid protect the virus when it is outside the host cell.The viral envelope is made up of a lipid bilayer in which the membrane (M), envelope (E) and spike (S) structural proteins are anchored.', 'The ratio of E:S:M in the lipid bilayer is approximately 1:20:300.', 'The E and M protein are the structural proteins that combined with the lipid bilayer to shape the viral envelope and maintain its size.', 'S proteins are needed for interaction with the host cells.', 'But human coronavirus NL63 is peculiar in that its M protein has the binding site for the host cell, and not its S protein.', 'The diameter of the envelope is 85 nm.', 'The envelope of the virus in electron micrographs appears as a distinct pair of electron-dense shells (shells that are relatively opaque to the electron beam used to scan the virus particle).The M protein is the main structural protein of the envelope that provides the overall shape and is a type III membrane protein.', 'It consists of 218 to 263 amino acid residues and forms a layer 7.8 nm thick.', 'It has three domains, a short N-terminal ectodomain, a triple-spanning transmembrane domain, and a C-terminal endodomain.', 'The C-terminal domain forms a matrix-like lattice that adds to the extra-thickness of the envelope.', 'Different species can have either N- or O-linked glycans in their protein amino-terminal domain.', 'The M protein is crucial during the assembly, budding, envelope formation, and pathogenesis stages of the virus lifecycle.The E proteins are minor structural proteins and highly variable in different species.', 'There are only about 20 copies of the E protein molecule in a coronavirus particle.', 'They are 8.4 to 12 kDa in size and are composed of 76 to 109 amino acids.', 'They are integral proteins (i.e.', 'embedded in the lipid layer) and have two domains namely a transmembrane domain and an extramembrane C-terminal domain.', 'They are almost fully α-helical, with a single α-helical transmembrane domain, and form pentameric (five-molecular) ion channels in the lipid bilayer.', 'They are responsible for virion assembly, intracellular trafficking and morphogenesis (budding).', 'The spikes are the most distinguishing feature of coronaviruses and are responsible for the corona- or halo-like surface.', 'On average a coronavirus particle has 74 surface spikes.', 'Each spike is about 20 nm long and is composed of a trimer of the S protein.', 'The S protein is in turn composed of an S1 and S2 subunit.', 'The homotrimeric S protein is a class I fusion protein which mediates the receptor binding and membrane fusion between the virus and host cell.', 'The S1 subunit forms the head of the spike and has the receptor-binding domain (RBD).', 'The S2 subunit forms the stem which anchors the spike in the viral envelope and on protease activation enables fusion.', 'The two subunits remain noncovalently linked as they are exposed on the viral surface until they attach to the host cell membrane.', 'In a functionally active state, three S1 are attached to two S2 subunits.', 'The subunit complex is split into individual subunits when the virus binds and fuses with the host cell under the action of proteases such as cathepsin family and transmembrane protease serine 2 (TMPRSS2) of the host cell.', 'S1 proteins are the most critical components in terms of infection.', 'They are also the most variable components as they are responsible for host cell specificity.', 'They possess two major domains named N-terminal domain (S1-NTD) and C-terminal domain (S1-CTD), both of which serve as the receptor-binding domains.', 'The NTDs recognize and bind sugars on the surface of the host cell.', 'An exception is the MHV NTD that binds to a protein receptor carcinoembryonic antigen-related cell adhesion molecule 1 (CEACAM1).', 'S1-CTDs are responsible for recognizing different protein receptors such as angiotensin-converting enzyme 2 (ACE2), aminopeptidase N (APN), and dipeptidyl peptidase 4 (DPP4).A subset of coronaviruses (specifically the members of betacoronavirus subgroup A) also has a shorter spike-like surface protein called hemagglutinin esterase (HE).', 'The HE proteins occur as homodimers composed of about 400 amino acid residues and are 40 to 50 kDa in size.', 'They appear as tiny surface projections of 5 to 7 nm long embedded in between the spikes.', 'They help in the attachment to and detachment from the host cell.Inside the envelope, there is the nucleocapsid, which is formed from multiple copies of the nucleocapsid (N) protein, which are bound to the positive-sense single-stranded RNA genome in a continuous beads-on-a-string type conformation.', 'N protein is a phosphoprotein of 43 to 50 kDa in size, and is divided into three conserved domains.', 'The majority of the protein is made up of domains 1 and 2, which are typically rich in arginines and lysines.', 'Domain 3 has a short carboxy terminal end and has a net negative charge due to excess of acidic over basic amino acid residues.', '=== Genome ===\\n\\nCoronaviruses contain a positive-sense, single-stranded RNA genome.', 'The genome size for coronaviruses ranges from 26.4 to 31.7 kilobases.', 'The genome size is one of the largest among RNA viruses.', 'The genome has a 5′ methylated cap and a 3′ polyadenylated tail.The genome organization for a coronavirus is 5′-leader-UTR-replicase (ORF1ab)-spike (S)-envelope (E)-membrane (M)-nucleocapsid (N)-3′UTR-poly (A) tail.', 'The open reading frames 1a and 1b, which occupy the first two-thirds of the genome, encode the replicase polyprotein (pp1ab).', 'The replicase polyprotein self cleaves to form 16 nonstructural proteins (nsp1–nsp16).The later reading frames encode the four major structural proteins: spike, envelope, membrane, and nucleocapsid.', 'Interspersed between these reading frames are the reading frames for the accessory proteins.', 'The number of accessory proteins and their function is unique depending on the specific coronavirus.', '=== Replication cycle ===\\n\\n\\n==== Cell entry ====\\n\\nInfection begins when the viral spike protein attaches to its complementary host cell receptor.', 'After attachment, a protease of the host cell cleaves and activates the receptor-attached spike protein.', 'Depending on the host cell protease available, cleavage and activation allows the virus to enter the host cell by endocytosis or direct fusion of the viral envelope with the host membrane.', '==== Genome translation ====\\nOn entry into the host cell, the virus particle is uncoated, and its genome enters the cell cytoplasm.', \"The coronavirus RNA genome has a 5′ methylated cap and a 3′ polyadenylated tail, which allows it to act like a messenger RNA and be directly translated by the host cell's ribosomes.\", 'The host ribosomes translate the initial overlapping open reading frames ORF1a and ORF1b of the virus genome into two large overlapping polyproteins, pp1a and pp1ab.The larger polyprotein pp1ab is a result of a -1 ribosomal frameshift caused by a slippery sequence (UUUAAAC) and a downstream RNA pseudoknot at the end of open reading frame ORF1a.', 'The ribosomal frameshift allows for the continuous translation of ORF1a followed by ORF1b.The polyproteins have their own proteases,  PLpro (nsp3) and 3CLpro (nsp5), which cleave the polyproteins at different specific sites.', 'The cleavage of polyprotein pp1ab yields 16 nonstructural proteins (nsp1 to nsp16).', 'Product proteins include various replication  proteins such as RNA-dependent RNA polymerase (nsp12), RNA helicase (nsp13), and exoribonuclease (nsp14).', '==== Replicase-transcriptase ====\\n\\nA number of the nonstructural proteins coalesce to form a multi-protein replicase-transcriptase complex.', 'The main replicase-transcriptase protein is the RNA-dependent RNA polymerase (RdRp).', 'It is directly involved in the replication and transcription of RNA from an RNA strand.', 'The other nonstructural proteins in the complex assist in the replication and transcription process.', 'The exoribonuclease nonstructural protein, for instance, provides extra fidelity to replication by providing a proofreading function which the RNA-dependent RNA polymerase lacks.Replication – One of the main functions of the complex is to replicate the viral genome.', 'RdRp directly mediates the synthesis of negative-sense genomic RNA from the positive-sense genomic RNA.', 'This is followed by the replication of positive-sense genomic RNA from the negative-sense genomic RNA.', 'Transcription – The other important function of the complex is to transcribe the viral genome.', 'RdRp directly mediates the synthesis of negative-sense subgenomic RNA molecules from the positive-sense genomic RNA.', 'This process is followed by the transcription of these negative-sense subgenomic RNA molecules to their corresponding positive-sense mRNAs.', 'The subgenomic mRNAs form a \"nested set\" which have a common 5\\'-head and partially duplicate 3\\'-end.Recombination – The replicase-transcriptase complex is also capable of genetic recombination when at least two viral genomes are present in the same infected cell.', 'RNA recombination appears to be a major driving force in determining genetic variability within a coronavirus species, the capability of a coronavirus species to jump from one host to another and, infrequently, in determining the emergence of novel coronaviruses.', 'The exact mechanism of recombination in coronaviruses is unclear, but likely involves template switching during genome replication.', '==== Assembly and release ====\\nThe replicated positive-sense genomic RNA becomes the genome of the progeny viruses.', 'The mRNAs are gene transcripts of the last third of the virus genome after the initial overlapping reading frame.', \"These mRNAs are translated by the host's ribosomes into the structural proteins and a number of accessory proteins.\", 'RNA translation occurs inside the endoplasmic reticulum.', 'The viral structural proteins S, E, and M move along the secretory pathway into the Golgi intermediate compartment.', 'There, the M proteins direct most protein-protein interactions required for assembly of viruses following its binding to the nucleocapsid.', 'Progeny viruses are then released from the host cell by exocytosis through secretory vesicles.', 'Once released the viruses can infect other host cells.', '=== Transmission ===\\nInfected carriers are able to shed viruses into the environment.', 'The interaction of the coronavirus spike protein with its complementary cell receptor is central in determining the tissue tropism, infectivity, and species range of the released virus.', 'Coronaviruses mainly target epithelial cells.', 'They are transmitted from one host to another host, depending on the coronavirus species, by either an aerosol, fomite, or fecal-oral route.Human coronaviruses infect the epithelial cells of the respiratory tract, while animal coronaviruses generally infect the epithelial cells of the digestive tract.', 'SARS coronavirus, for example, infects the human epithelial cells of the lungs via an aerosol route by binding to the angiotensin-converting enzyme 2 (ACE2) receptor.', 'Transmissible gastroenteritis coronavirus (TGEV) infects the pig epithelial cells of the digestive tract via a fecal-oral route by binding to the alanine aminopeptidase (APN) receptor.', '== Classification ==\\n\\nCoronaviruses form the subfamily Orthocoronavirinae, which is one of two sub-families in the family Coronaviridae, order Nidovirales, and realm Riboviria.', 'They are divided into the four genera: Alphacoronavirus, Betacoronavirus, Gammacoronavirus and Deltacoronavirus.', 'Alphacoronaviruses and betacoronaviruses infect mammals, while gammacoronaviruses and deltacoronaviruses primarily infect birds.', 'Genus: Alphacoronavirus; type species: Alphacoronavirus 1\\nSpecies: Alphacoronavirus 1 (TGEV, Feline coronavirus, Canine coronavirus), Human coronavirus 229E, Human coronavirus NL63, Miniopterus bat coronavirus 1, Miniopterus bat coronavirus HKU8, Porcine epidemic diarrhea virus, Rhinolophus bat coronavirus HKU2, Scotophilus bat coronavirus 512\\nGenus Betacoronavirus; type species: Murine coronavirus (MHV)\\nSpecies: Betacoronavirus 1 (Bovine Coronavirus, Human coronavirus OC43), Hedgehog coronavirus 1, Human coronavirus HKU1, Middle East respiratory syndrome-related coronavirus, Murine coronavirus, Pipistrellus bat coronavirus HKU5, Rousettus bat coronavirus HKU9, Severe acute respiratory syndrome-related coronavirus (SARS-CoV, SARS-CoV-2), Tylonycteris bat coronavirus HKU4\\nGenus Gammacoronavirus; type species: Avian coronavirus (IBV)\\nSpecies: Avian coronavirus, Beluga whale coronavirus SW1\\nGenus Deltacoronavirus; type species: Bulbul coronavirus HKU11\\nSpecies: Bulbul coronavirus HKU11, Porcine coronavirus HKU15\\n\\n\\n== Origin ==\\n\\nThe most recent common ancestor (MRCA) of all coronaviruses is estimated to have existed as recently as 8000 BCE, although some models place the common ancestor as far back as 55 million years or more, implying long term coevolution with bat and avian species.', 'The most recent common ancestor of the alphacoronavirus line has been placed at about 2400 BCE, of the betacoronavirus line at 3300 BCE, of the gammacoronavirus line at 2800 BCE, and of the deltacoronavirus line at about 3000 BCE.', 'Bats and birds, as warm-blooded flying vertebrates, are an ideal natural reservoir for the coronavirus gene pool (with bats the reservoir for alphacoronaviruses and betacoronavirus – and birds the reservoir for gammacoronaviruses and deltacoronaviruses).', 'The large number and global range of bat and avian species that host viruses has enabled extensive evolution and dissemination of coronaviruses.Many human coronaviruses have their origin in bats.', 'The human coronavirus NL63 shared a common ancestor with a bat coronavirus (ARCoV.2) between 1190 and 1449 CE.', 'The human coronavirus 229E shared a common ancestor with a bat coronavirus (GhanaGrp1 Bt CoV) between 1686 and 1800 CE.', 'More recently, alpaca coronavirus and human coronavirus 229E diverged sometime before 1960.', 'MERS-CoV emerged in humans from bats through the intermediate host of camels.', 'MERS-CoV, although related to several bat coronavirus species, appears to have diverged from these several centuries ago.', 'The most closely related bat coronavirus and SARS-CoV diverged in 1986.', 'The ancestors of SARS-CoV first infected leaf-nose bats of the genus Hipposideridae; subsequently, they spread to horseshoe bats in the species Rhinolophidae, then to Asian palm civets, and finally to humans.Unlike other betacoronaviruses, bovine coronavirus of the species Betacoronavirus 1 and subgenus Embecovirus is thought to have originated in rodents and not in bats.', 'In the 1790s, equine coronavirus diverged from the bovine coronavirus after a cross-species jump.', 'Later in the 1890s, human coronavirus OC43 diverged from bovine coronavirus after another cross-species spillover event.', 'It is speculated that the flu pandemic of 1890 may have been caused by this spillover event, and not by the influenza virus, because of the related timing, neurological symptoms, and unknown causative agent of the pandemic.', 'Besides causing respiratory infections, human coronavirus OC43 is also suspected of playing a role in neurological diseases.', 'In the 1950s, the human coronavirus OC43 began to diverge into its present genotypes.', \"Phylogentically, mouse hepatitis virus (Murine coronavirus), which infects the mouse's liver and central nervous system, is related to human coronavirus OC43 and bovine coronavirus.\", 'Human coronavirus HKU1, like the aforementioned viruses, also has its origins in rodents.', '== Infection in humans ==\\n\\nCoronaviruses vary significantly in risk factor.', 'Some can kill more than 30% of those infected, such as MERS-CoV, and some are relatively harmless, such as the common cold.', 'Coronaviruses can cause colds with major symptoms, such as fever, and a sore throat from swollen adenoids.', 'Coronaviruses can cause pneumonia (either direct viral pneumonia or secondary bacterial pneumonia) and bronchitis (either direct viral bronchitis or secondary bacterial bronchitis).', 'The human coronavirus discovered in 2003, SARS-CoV, which causes severe acute respiratory syndrome (SARS), has a unique pathogenesis because it causes both upper and lower respiratory tract infections.Six species of human coronaviruses are known, with one species subdivided into two different strains, making seven strains of human coronaviruses altogether.', 'Four human coronaviruses produce symptoms that are generally mild, even though it is contended they might have been more aggressive in the past:\\nHuman coronavirus OC43 (HCoV-OC43), β-CoV\\nHuman coronavirus HKU1 (HCoV-HKU1), β-CoV\\nHuman coronavirus 229E (HCoV-229E), α-CoV\\nHuman coronavirus NL63 (HCoV-NL63), α-CoVThree human coronaviruses produce symptoms that are potentially severe:\\n\\nMiddle East respiratory syndrome-related coronavirus (MERS-CoV), β-CoV\\nSevere acute respiratory syndrome coronavirus (SARS-CoV), β-CoV\\nSevere acute respiratory syndrome coronavirus 2 (SARS-CoV-2), β-CoV\\n\\n\\n=== Common cold ===\\n\\nThe human coronaviruses HCoV-OC43, HCoV-HKU1, HCoV-229E, and HCoV-NL63 continually circulate in the human population and produce the generally mild symptoms of the common cold in adults and children worldwide.', 'These coronaviruses cause about 15% of common colds, while 40 to 50% of colds are caused by rhinoviruses.', 'The four mild coronaviruses have a seasonal incidence occurring in the winter months in temperate climates.', 'There is no preponderance in any season in tropical climates.', '=== Severe acute respiratory syndrome (SARS) ===\\n\\nIn 2003, following the outbreak of severe acute respiratory syndrome (SARS) which had begun the prior year in Asia, and secondary cases elsewhere in the world, the World Health Organization (WHO) issued a press release stating that a novel coronavirus identified by a number of laboratories was the causative agent for SARS.', 'The virus was officially named the SARS coronavirus (SARS-CoV).', 'More than 8,000 people from 29 different countries and territories were infected, and at least 774 died.', '=== Middle East respiratory syndrome (MERS) ===\\n\\nIn September 2012, a new type of coronavirus was identified, initially called Novel Coronavirus 2012, and now officially named Middle East respiratory syndrome coronavirus (MERS-CoV).', 'The World Health Organization issued a global alert soon after.', 'The WHO update on 28 September 2012 said the virus did not seem to pass easily from person to person.', 'However, on 12 May 2013, a case of human-to-human transmission in France was confirmed by the French Ministry of Social Affairs and Health.', 'In addition, cases of human-to-human transmission were reported by the Ministry of Health in Tunisia.', 'Two confirmed cases involved people who seemed to have caught the disease from their late father, who became ill after a visit to Qatar and Saudi Arabia.', 'Despite this, it appears the virus had trouble spreading from human to human, as most individuals who are infected do not transmit the virus.', 'By 30 October 2013, there were 124 cases and 52 deaths in Saudi Arabia.After the Dutch Erasmus Medical Centre sequenced the virus, the virus was given a new name, Human Coronavirus—Erasmus Medical Centre (HCoV-EMC).', 'The final name for the virus is Middle East respiratory syndrome coronavirus (MERS-CoV).', 'The only U.S. cases (both survived) were recorded in May 2014.In May 2015, an outbreak of MERS-CoV occurred in the Republic of Korea, when a man who had traveled to the Middle East, visited four hospitals in the Seoul area to treat his illness.', 'This caused one of the largest outbreaks of MERS-CoV outside the Middle East.', 'As of December 2019, 2,468 cases of MERS-CoV infection had been confirmed by laboratory tests, 851 of which were fatal, a mortality rate of approximately 34.5%.', '=== Coronavirus disease 2019 (COVID-19) ===\\n\\nIn December 2019, a pneumonia outbreak was reported in Wuhan, China.', 'On 31 December 2019, the outbreak was traced to a novel strain of coronavirus, which was given the interim name 2019-nCoV by the World Health Organization (WHO), later renamed SARS-CoV-2 by the International Committee on Taxonomy of Viruses.', 'As of 20 February 2021, there have been at least 2,453,381 confirmed deaths and more than 110,770,701 confirmed cases in the COVID-19 pandemic.', 'The Wuhan strain has been identified as a new strain of Betacoronavirus from group 2B with approximately 70% genetic similarity to the SARS-CoV.', 'The virus has a 96% similarity to a bat coronavirus, so it is widely suspected to originate from bats as well.', 'The pandemic has resulted in travel restrictions and nationwide lockdowns in many countries.', '== Infection in animals ==\\nCoronaviruses have been recognized as causing pathological conditions in veterinary medicine since the 1930s.', 'They infect a range of animals including swine, cattle, horses, camels, cats, dogs, rodents, birds and bats.', 'The majority of animal related coronaviruses infect the intestinal tract and are transmitted by a fecal-oral route.', 'Significant research efforts have been focused on elucidating the viral pathogenesis of these animal coronaviruses, especially by virologists interested in veterinary and zoonotic diseases.', '=== Farm animals ===\\nCoronaviruses infect domesticated birds.', 'Infectious bronchitis virus (IBV), a type of coronavirus, causes avian infectious bronchitis.', 'The virus is of concern to the poultry industry because of the high mortality from infection, its rapid spread, and its effect on production.', 'The virus affects both meat production and egg production and causes substantial economic loss.', 'In chickens, infectious bronchitis virus targets not only the respiratory tract but also the urogenital tract.', 'The virus can spread to different organs throughout the chicken.', 'The virus is transmitted by aerosol and food contaminated by feces.', 'Different vaccines against IBV exist and have helped to limit the spread of the virus and its variants.', 'Infectious bronchitis virus is one of a number of strains of the species Avian coronavirus.', 'Another strain of avian coronavirus is turkey coronavirus (TCV) which causes enteritis in turkeys.Coronaviruses also affect other branches of animal husbandry such as pig farming and the cattle raising.', 'Swine acute diarrhea syndrome coronavirus (SADS-CoV), which is related to bat coronavirus HKU2, causes diarrhea in pigs.', 'Porcine epidemic diarrhea virus (PEDV) is a coronavirus that has recently emerged and similarly causes diarrhea in pigs.', 'Transmissible gastroenteritis virus (TGEV), which is a member of the species Alphacoronavirus 1, is another coronavirus that causes diarrhea in young pigs.', 'In the cattle industry bovine coronavirus (BCV), which is a member of the species Betacoronavirus 1 and related to HCoV-OC43, is responsible for severe profuse enteritis in young calves.', '=== Domestic pets ===\\nCoronaviruses infect domestic pets such as cats, dogs, and ferrets.', 'There are two forms of feline coronavirus which are both members of the species Alphacoronavirus 1.', 'Feline enteric coronavirus is a pathogen of minor clinical significance, but spontaneous mutation of this virus can result in feline infectious peritonitis (FIP), a disease with high mortality.', 'There are two different coronaviruses that infect dogs.', 'Canine coronavirus (CCoV), which is a member of the species Alphacoronavirus 1, causes mild gastrointestinal disease.', 'Canine respiratory coronavirus (CRCoV), which is a member of the species Betacoronavirus 1 and related to HCoV-OC43, cause respiratory disease.', 'Similarly, there are two types of coronavirus that infect ferrets.', 'Ferret enteric coronavirus causes a gastrointestinal syndrome known as epizootic catarrhal enteritis (ECE), and a more lethal systemic version of the virus (like FIP in cats) known as ferret systemic coronavirus (FSC).', '=== Laboratory animals ===\\nCoronaviruses infect laboratory animals.', 'Mouse hepatitis virus (MHV), which is a member of the species Murine coronavirus, causes an epidemic murine illness with high mortality, especially among colonies of laboratory mice.', 'Prior to the discovery of SARS-CoV, MHV was the best-studied coronavirus both in vivo and in vitro as well as at the molecular level.', 'Some strains of MHV cause a progressive demyelinating encephalitis in mice which has been used as a murine model for multiple sclerosis.', 'Sialodacryoadenitis virus (SDAV), which is a strain of the species Murine coronavirus, is highly infectious coronavirus of laboratory rats, which can be transmitted between individuals by direct contact and indirectly by aerosol.', 'Rabbit enteric coronavirus causes acute gastrointestinal disease and diarrhea in young European rabbits.', 'Mortality rates are high.', '== Prevention and treatment ==\\nA number of vaccines using different methods have been developed against human coronavirus SARS-CoV-2.', 'Antiviral targets against human coronaviruses have also been identified such as viral proteases, polymerases, and entry proteins.', 'Drugs are in development which target these proteins and the different steps of viral replication.Vaccines are available for animal coronaviruses IBV, TGEV, and Canine CoV, although their effectiveness is limited.', 'In the case of outbreaks of highly contagious animal coronaviruses, such as PEDV, measures such as destruction of entire herds of pigs may be used to prevent transmission to other herds.', '== See also ==\\nCoronavirus diseases\\nZoonosis\\n\\n\\n== References ==\\n\\n\\n== Further reading ==']\n"
     ]
    }
   ],
   "source": [
    "wiki_sent = sent_tokenize(wikipage)\n",
    "print(wiki_sent)"
   ]
  },
  {
   "cell_type": "code",
   "execution_count": 15,
   "metadata": {
    "collapsed": true,
    "jupyter": {
     "outputs_hidden": true
    }
   },
   "outputs": [
    {
     "data": {
      "text/html": [
       "\n",
       "  <style>\n",
       "    pre {\n",
       "        white-space: pre-wrap;\n",
       "    }\n",
       "  </style>\n",
       "  "
      ],
      "text/plain": [
       "<IPython.core.display.HTML object>"
      ]
     },
     "metadata": {},
     "output_type": "display_data"
    },
    {
     "name": "stdout",
     "output_type": "stream",
     "text": [
      "['Coronaviruses', 'are', 'a', 'group', 'of', 'related', 'RNA', 'viruses', 'that', 'cause', 'diseases', 'in', 'mammals', 'and', 'birds', '.', 'In', 'humans', 'and', 'birds', ',', 'they', 'cause', 'respiratory', 'tract', 'infections', 'that', 'can', 'range', 'from', 'mild', 'to', 'lethal', '.', 'Mild', 'illnesses', 'in', 'humans', 'include', 'some', 'cases', 'of', 'the', 'common', 'cold', '(', 'which', 'is', 'also', 'caused', 'by', 'other', 'viruses', ',', 'predominantly', 'rhinoviruses', ')', ',', 'while', 'more', 'lethal', 'varieties', 'can', 'cause', 'SARS', ',', 'MERS', ',', 'and', 'COVID-19', '.', 'In', 'cows', 'and', 'pigs', 'they', 'cause', 'diarrhea', ',', 'while', 'in', 'mice', 'they', 'cause', 'hepatitis', 'and', 'encephalomyelitis', '.', 'Coronaviruses', 'constitute', 'the', 'subfamily', 'Orthocoronavirinae', ',', 'in', 'the', 'family', 'Coronaviridae', ',', 'order', 'Nidovirales', ',', 'and', 'realm', 'Riboviria', '.', 'They', 'are', 'enveloped', 'viruses', 'with', 'a', 'positive-sense', 'single-stranded', 'RNA', 'genome', 'and', 'a', 'nucleocapsid', 'of', 'helical', 'symmetry', '.', 'The', 'genome', 'size', 'of', 'coronaviruses', 'ranges', 'from', 'approximately', '26', 'to', '32', 'kilobases', ',', 'one', 'of', 'the', 'largest', 'among', 'RNA', 'viruses', '.', 'They', 'have', 'characteristic', 'club-shaped', 'spikes', 'that', 'project', 'from', 'their', 'surface', ',', 'which', 'in', 'electron', 'micrographs', 'create', 'an', 'image', 'reminiscent', 'of', 'the', 'solar', 'corona', ',', 'from', 'which', 'their', 'name', 'derives', '.', '==', 'Etymology', '==', 'The', 'name', '``', 'coronavirus', \"''\", 'is', 'derived', 'from', 'Latin', 'corona', ',', 'meaning', '``', 'crown', \"''\", 'or', '``', 'wreath', \"''\", ',', 'itself', 'a', 'borrowing', 'from', 'Greek', 'κορώνη', 'korṓnē', ',', '``', 'garland', ',', 'wreath', \"''\", '.', 'The', 'name', 'was', 'coined', 'by', 'June', 'Almeida', 'and', 'David', 'Tyrrell', 'who', 'first', 'observed', 'and', 'studied', 'human', 'coronaviruses', '.', 'The', 'word', 'was', 'first', 'used', 'in', 'print', 'in', '1968', 'by', 'an', 'informal', 'group', 'of', 'virologists', 'in', 'the', 'journal', 'Nature', 'to', 'designate', 'the', 'new', 'family', 'of', 'viruses', '.', 'The', 'name', 'refers', 'to', 'the', 'characteristic', 'appearance', 'of', 'virions', '(', 'the', 'infective', 'form', 'of', 'the', 'virus', ')', 'by', 'electron', 'microscopy', ',', 'which', 'have', 'a', 'fringe', 'of', 'large', ',', 'bulbous', 'surface', 'projections', 'creating', 'an', 'image', 'reminiscent', 'of', 'the', 'solar', 'corona', 'or', 'halo', '.', 'This', 'morphology', 'is', 'created', 'by', 'the', 'viral', 'spike', 'peplomers', ',', 'which', 'are', 'proteins', 'on', 'the', 'surface', 'of', 'the', 'virus.The', 'scientific', 'name', 'Coronavirus', 'was', 'accepted', 'as', 'a', 'genus', 'name', 'by', 'the', 'International', 'Committee', 'for', 'the', 'Nomenclature', 'of', 'Viruses', '(', 'later', 'renamed', 'International', 'Committee', 'on', 'Taxonomy', 'of', 'Viruses', ')', 'in', '1971', '.', 'As', 'the', 'number', 'of', 'new', 'species', 'increased', ',', 'the', 'genus', 'was', 'split', 'into', 'four', 'genera', ',', 'namely', 'Alphacoronavirus', ',', 'Betacoronavirus', ',', 'Deltacoronavirus', ',', 'and', 'Gammacoronavirus', 'in', '2009', '.', 'The', 'common', 'name', 'coronavirus', 'is', 'used', 'to', 'refer', 'to', 'any', 'member', 'of', 'the', 'subfamily', 'Orthocoronavirinae', '.', 'As', 'of', '2020', ',', '45', 'species', 'are', 'officially', 'recognised', '.', '==', 'History', '==', 'The', 'earliest', 'reports', 'of', 'a', 'coronavirus', 'infection', 'in', 'animals', 'occurred', 'in', 'the', 'late', '1920s', ',', 'when', 'an', 'acute', 'respiratory', 'infection', 'of', 'domesticated', 'chickens', 'emerged', 'in', 'North', 'America', '.', 'Arthur', 'Schalk', 'and', 'M.C', '.', 'Hawn', 'in', '1931', 'made', 'the', 'first', 'detailed', 'report', 'which', 'described', 'a', 'new', 'respiratory', 'infection', 'of', 'chickens', 'in', 'North', 'Dakota', '.', 'The', 'infection', 'of', 'new-born', 'chicks', 'was', 'characterized', 'by', 'gasping', 'and', 'listlessness', 'with', 'high', 'mortality', 'rates', 'of', '40–90', '%', '.', 'Leland', 'David', 'Bushnell', 'and', 'Carl', 'Alfred', 'Brandly', 'isolated', 'the', 'virus', 'that', 'caused', 'the', 'infection', 'in', '1933', '.', 'The', 'virus', 'was', 'then', 'known', 'as', 'infectious', 'bronchitis', 'virus', '(', 'IBV', ')', '.', 'Charles', 'D.', 'Hudson', 'and', 'Fred', 'Robert', 'Beaudette', 'cultivated', 'the', 'virus', 'for', 'the', 'first', 'time', 'in', '1937', '.', 'The', 'specimen', 'came', 'to', 'be', 'known', 'as', 'the', 'Beaudette', 'strain', '.', 'In', 'the', 'late', '1940s', ',', 'two', 'more', 'animal', 'coronaviruses', ',', 'JHM', 'that', 'causes', 'brain', 'disease', '(', 'murine', 'encephalitis', ')', 'and', 'mouse', 'hepatitis', 'virus', '(', 'MHV', ')', 'that', 'causes', 'hepatitis', 'in', 'mice', 'were', 'discovered', '.', 'It', 'was', 'not', 'realized', 'at', 'the', 'time', 'that', 'these', 'three', 'different', 'viruses', 'were', 'related.Human', 'coronaviruses', 'were', 'discovered', 'in', 'the', '1960s', 'using', 'two', 'different', 'methods', 'in', 'the', 'United', 'Kingdom', 'and', 'the', 'United', 'States', '.', 'E.C', '.', 'Kendall', ',', 'Malcolm', 'Bynoe', ',', 'and', 'David', 'Tyrrell', 'working', 'at', 'the', 'Common', 'Cold', 'Unit', 'of', 'the', 'British', 'Medical', 'Research', 'Council', 'collected', 'a', 'unique', 'common', 'cold', 'virus', 'designated', 'B814', 'in', '1961', '.', 'The', 'virus', 'could', 'not', 'be', 'cultivated', 'using', 'standard', 'techniques', 'which', 'had', 'successfully', 'cultivated', 'rhinoviruses', ',', 'adenoviruses', 'and', 'other', 'known', 'common', 'cold', 'viruses', '.', 'In', '1965', ',', 'Tyrrell', 'and', 'Bynoe', 'successfully', 'cultivated', 'the', 'novel', 'virus', 'by', 'serially', 'passing', 'it', 'through', 'organ', 'culture', 'of', 'human', 'embryonic', 'trachea', '.', 'The', 'new', 'cultivating', 'method', 'was', 'introduced', 'to', 'the', 'lab', 'by', 'Bertil', 'Hoorn', '.', 'The', 'isolated', 'virus', 'when', 'intranasally', 'inoculated', 'into', 'volunteers', 'caused', 'a', 'cold', 'and', 'was', 'inactivated', 'by', 'ether', 'which', 'indicated', 'it', 'had', 'a', 'lipid', 'envelope', '.', 'Dorothy', 'Hamre', 'and', 'John', 'Procknow', 'at', 'the', 'University', 'of', 'Chicago', 'isolated', 'a', 'novel', 'cold', 'from', 'medical', 'students', 'in', '1962', '.', 'They', 'isolated', 'and', 'grew', 'the', 'virus', 'in', 'kidney', 'tissue', 'culture', ',', 'designating', 'it', '229E', '.', 'The', 'novel', 'virus', 'caused', 'a', 'cold', 'in', 'volunteers', 'and', ',', 'like', 'B814', ',', 'was', 'inactivated', 'by', 'ether', '.', 'Scottish', 'virologist', 'June', 'Almeida', 'at', 'St.', 'Thomas', 'Hospital', 'in', 'London', ',', 'collaborating', 'with', 'Tyrrell', ',', 'compared', 'the', 'structures', 'of', 'IBV', ',', 'B814', 'and', '229E', 'in', '1967', '.', 'Using', 'electron', 'microscopy', 'the', 'three', 'viruses', 'were', 'shown', 'to', 'be', 'morphologically', 'related', 'by', 'their', 'general', 'shape', 'and', 'distinctive', 'club-like', 'spikes', '.', 'A', 'research', 'group', 'at', 'the', 'National', 'Institute', 'of', 'Health', 'the', 'same', 'year', 'was', 'able', 'to', 'isolate', 'another', 'member', 'of', 'this', 'new', 'group', 'of', 'viruses', 'using', 'organ', 'culture', 'and', 'named', 'one', 'of', 'the', 'samples', 'OC43', '(', 'OC', 'for', 'organ', 'culture', ')', '.', 'Like', 'B814', ',', '229E', ',', 'and', 'IBV', ',', 'the', 'novel', 'cold', 'virus', 'OC43', 'had', 'distinctive', 'club-like', 'spikes', 'when', 'observed', 'with', 'the', 'electron', 'microscope.The', 'IBV-like', 'novel', 'cold', 'viruses', 'were', 'soon', 'shown', 'to', 'be', 'also', 'morphologically', 'related', 'to', 'the', 'mouse', 'hepatitis', 'virus', '.', 'This', 'new', 'group', 'of', 'viruses', 'were', 'named', 'coronaviruses', 'after', 'their', 'distinctive', 'morphological', 'appearance', '.', 'Human', 'coronavirus', '229E', 'and', 'human', 'coronavirus', 'OC43', 'continued', 'to', 'be', 'studied', 'in', 'subsequent', 'decades', '.', 'The', 'coronavirus', 'strain', 'B814', 'was', 'lost', '.', 'It', 'is', 'not', 'known', 'which', 'present', 'human', 'coronavirus', 'it', 'was', '.', 'Other', 'human', 'coronaviruses', 'have', 'since', 'been', 'identified', ',', 'including', 'SARS-CoV', 'in', '2003', ',', 'HCoV', 'NL63', 'in', '2003', ',', 'HCoV', 'HKU1', 'in', '2004', ',', 'MERS-CoV', 'in', '2013', ',', 'and', 'SARS-CoV-2', 'in', '2019', '.', 'There', 'have', 'also', 'been', 'a', 'large', 'number', 'of', 'animal', 'coronaviruses', 'identified', 'since', 'the', '1960s', '.', '==', 'Microbiology', '==', '===', 'Structure', '===', 'Coronaviruses', 'are', 'large', ',', 'roughly', 'spherical', 'particles', 'with', 'unique', 'surface', 'projections', '.', 'Their', 'size', 'is', 'highly', 'variable', 'with', 'average', 'diameters', 'of', '80', 'to', '120', 'nm', '.', 'Extreme', 'sizes', 'are', 'known', 'from', '50', 'to', '200', 'nm', 'in', 'diameter', '.', 'The', 'total', 'molecular', 'weight', 'is', 'on', 'average', '40,000', 'kDa', '.', 'They', 'are', 'enclosed', 'in', 'an', 'envelope', 'embedded', 'with', 'a', 'number', 'of', 'protein', 'molecules', '.', 'The', 'lipid', 'bilayer', 'envelope', ',', 'membrane', 'proteins', ',', 'and', 'nucleocapsid', 'protect', 'the', 'virus', 'when', 'it', 'is', 'outside', 'the', 'host', 'cell.The', 'viral', 'envelope', 'is', 'made', 'up', 'of', 'a', 'lipid', 'bilayer', 'in', 'which', 'the', 'membrane', '(', 'M', ')', ',', 'envelope', '(', 'E', ')', 'and', 'spike', '(', 'S', ')', 'structural', 'proteins', 'are', 'anchored', '.', 'The', 'ratio', 'of', 'E', ':', 'S', ':', 'M', 'in', 'the', 'lipid', 'bilayer', 'is', 'approximately', '1:20:300', '.', 'The', 'E', 'and', 'M', 'protein', 'are', 'the', 'structural', 'proteins', 'that', 'combined', 'with', 'the', 'lipid', 'bilayer', 'to', 'shape', 'the', 'viral', 'envelope', 'and', 'maintain', 'its', 'size', '.', 'S', 'proteins', 'are', 'needed', 'for', 'interaction', 'with', 'the', 'host', 'cells', '.', 'But', 'human', 'coronavirus', 'NL63', 'is', 'peculiar', 'in', 'that', 'its', 'M', 'protein', 'has', 'the', 'binding', 'site', 'for', 'the', 'host', 'cell', ',', 'and', 'not', 'its', 'S', 'protein', '.', 'The', 'diameter', 'of', 'the', 'envelope', 'is', '85', 'nm', '.', 'The', 'envelope', 'of', 'the', 'virus', 'in', 'electron', 'micrographs', 'appears', 'as', 'a', 'distinct', 'pair', 'of', 'electron-dense', 'shells', '(', 'shells', 'that', 'are', 'relatively', 'opaque', 'to', 'the', 'electron', 'beam', 'used', 'to', 'scan', 'the', 'virus', 'particle', ')', '.The', 'M', 'protein', 'is', 'the', 'main', 'structural', 'protein', 'of', 'the', 'envelope', 'that', 'provides', 'the', 'overall', 'shape', 'and', 'is', 'a', 'type', 'III', 'membrane', 'protein', '.', 'It', 'consists', 'of', '218', 'to', '263', 'amino', 'acid', 'residues', 'and', 'forms', 'a', 'layer', '7.8', 'nm', 'thick', '.', 'It', 'has', 'three', 'domains', ',', 'a', 'short', 'N-terminal', 'ectodomain', ',', 'a', 'triple-spanning', 'transmembrane', 'domain', ',', 'and', 'a', 'C-terminal', 'endodomain', '.', 'The', 'C-terminal', 'domain', 'forms', 'a', 'matrix-like', 'lattice', 'that', 'adds', 'to', 'the', 'extra-thickness', 'of', 'the', 'envelope', '.', 'Different', 'species', 'can', 'have', 'either', 'N-', 'or', 'O-linked', 'glycans', 'in', 'their', 'protein', 'amino-terminal', 'domain', '.', 'The', 'M', 'protein', 'is', 'crucial', 'during', 'the', 'assembly', ',', 'budding', ',', 'envelope', 'formation', ',', 'and', 'pathogenesis', 'stages', 'of', 'the', 'virus', 'lifecycle.The', 'E', 'proteins', 'are', 'minor', 'structural', 'proteins', 'and', 'highly', 'variable', 'in', 'different', 'species', '.', 'There', 'are', 'only', 'about', '20', 'copies', 'of', 'the', 'E', 'protein', 'molecule', 'in', 'a', 'coronavirus', 'particle', '.', 'They', 'are', '8.4', 'to', '12', 'kDa', 'in', 'size', 'and', 'are', 'composed', 'of', '76', 'to', '109', 'amino', 'acids', '.', 'They', 'are', 'integral', 'proteins', '(', 'i.e', '.', 'embedded', 'in', 'the', 'lipid', 'layer', ')', 'and', 'have', 'two', 'domains', 'namely', 'a', 'transmembrane', 'domain', 'and', 'an', 'extramembrane', 'C-terminal', 'domain', '.', 'They', 'are', 'almost', 'fully', 'α-helical', ',', 'with', 'a', 'single', 'α-helical', 'transmembrane', 'domain', ',', 'and', 'form', 'pentameric', '(', 'five-molecular', ')', 'ion', 'channels', 'in', 'the', 'lipid', 'bilayer', '.', 'They', 'are', 'responsible', 'for', 'virion', 'assembly', ',', 'intracellular', 'trafficking', 'and', 'morphogenesis', '(', 'budding', ')', '.', 'The', 'spikes', 'are', 'the', 'most', 'distinguishing', 'feature', 'of', 'coronaviruses', 'and', 'are', 'responsible', 'for', 'the', 'corona-', 'or', 'halo-like', 'surface', '.', 'On', 'average', 'a', 'coronavirus', 'particle', 'has', '74', 'surface', 'spikes', '.', 'Each', 'spike', 'is', 'about', '20', 'nm', 'long', 'and', 'is', 'composed', 'of', 'a', 'trimer', 'of', 'the', 'S', 'protein', '.', 'The', 'S', 'protein', 'is', 'in', 'turn', 'composed', 'of', 'an', 'S1', 'and', 'S2', 'subunit', '.', 'The', 'homotrimeric', 'S', 'protein', 'is', 'a', 'class', 'I', 'fusion', 'protein', 'which', 'mediates', 'the', 'receptor', 'binding', 'and', 'membrane', 'fusion', 'between', 'the', 'virus', 'and', 'host', 'cell', '.', 'The', 'S1', 'subunit', 'forms', 'the', 'head', 'of', 'the', 'spike', 'and', 'has', 'the', 'receptor-binding', 'domain', '(', 'RBD', ')', '.', 'The', 'S2', 'subunit', 'forms', 'the', 'stem', 'which', 'anchors', 'the', 'spike', 'in', 'the', 'viral', 'envelope', 'and', 'on', 'protease', 'activation', 'enables', 'fusion', '.', 'The', 'two', 'subunits', 'remain', 'noncovalently', 'linked', 'as', 'they', 'are', 'exposed', 'on', 'the', 'viral', 'surface', 'until', 'they', 'attach', 'to', 'the', 'host', 'cell', 'membrane', '.', 'In', 'a', 'functionally', 'active', 'state', ',', 'three', 'S1', 'are', 'attached', 'to', 'two', 'S2', 'subunits', '.', 'The', 'subunit', 'complex', 'is', 'split', 'into', 'individual', 'subunits', 'when', 'the', 'virus', 'binds', 'and', 'fuses', 'with', 'the', 'host', 'cell', 'under', 'the', 'action', 'of', 'proteases', 'such', 'as', 'cathepsin', 'family', 'and', 'transmembrane', 'protease', 'serine', '2', '(', 'TMPRSS2', ')', 'of', 'the', 'host', 'cell', '.', 'S1', 'proteins', 'are', 'the', 'most', 'critical', 'components', 'in', 'terms', 'of', 'infection', '.', 'They', 'are', 'also', 'the', 'most', 'variable', 'components', 'as', 'they', 'are', 'responsible', 'for', 'host', 'cell', 'specificity', '.', 'They', 'possess', 'two', 'major', 'domains', 'named', 'N-terminal', 'domain', '(', 'S1-NTD', ')', 'and', 'C-terminal', 'domain', '(', 'S1-CTD', ')', ',', 'both', 'of', 'which', 'serve', 'as', 'the', 'receptor-binding', 'domains', '.', 'The', 'NTDs', 'recognize', 'and', 'bind', 'sugars', 'on', 'the', 'surface', 'of', 'the', 'host', 'cell', '.', 'An', 'exception', 'is', 'the', 'MHV', 'NTD', 'that', 'binds', 'to', 'a', 'protein', 'receptor', 'carcinoembryonic', 'antigen-related', 'cell', 'adhesion', 'molecule', '1', '(', 'CEACAM1', ')', '.', 'S1-CTDs', 'are', 'responsible', 'for', 'recognizing', 'different', 'protein', 'receptors', 'such', 'as', 'angiotensin-converting', 'enzyme', '2', '(', 'ACE2', ')', ',', 'aminopeptidase', 'N', '(', 'APN', ')', ',', 'and', 'dipeptidyl', 'peptidase', '4', '(', 'DPP4', ')', '.A', 'subset', 'of', 'coronaviruses', '(', 'specifically', 'the', 'members', 'of', 'betacoronavirus', 'subgroup', 'A', ')', 'also', 'has', 'a', 'shorter', 'spike-like', 'surface', 'protein', 'called', 'hemagglutinin', 'esterase', '(', 'HE', ')', '.', 'The', 'HE', 'proteins', 'occur', 'as', 'homodimers', 'composed', 'of', 'about', '400', 'amino', 'acid', 'residues', 'and', 'are', '40', 'to', '50', 'kDa', 'in', 'size', '.', 'They', 'appear', 'as', 'tiny', 'surface', 'projections', 'of', '5', 'to', '7', 'nm', 'long', 'embedded', 'in', 'between', 'the', 'spikes', '.', 'They', 'help', 'in', 'the', 'attachment', 'to', 'and', 'detachment', 'from', 'the', 'host', 'cell.Inside', 'the', 'envelope', ',', 'there', 'is', 'the', 'nucleocapsid', ',', 'which', 'is', 'formed', 'from', 'multiple', 'copies', 'of', 'the', 'nucleocapsid', '(', 'N', ')', 'protein', ',', 'which', 'are', 'bound', 'to', 'the', 'positive-sense', 'single-stranded', 'RNA', 'genome', 'in', 'a', 'continuous', 'beads-on-a-string', 'type', 'conformation', '.', 'N', 'protein', 'is', 'a', 'phosphoprotein', 'of', '43', 'to', '50', 'kDa', 'in', 'size', ',', 'and', 'is', 'divided', 'into', 'three', 'conserved', 'domains', '.', 'The', 'majority', 'of', 'the', 'protein', 'is', 'made', 'up', 'of', 'domains', '1', 'and', '2', ',', 'which', 'are', 'typically', 'rich', 'in', 'arginines', 'and', 'lysines', '.', 'Domain', '3', 'has', 'a', 'short', 'carboxy', 'terminal', 'end', 'and', 'has', 'a', 'net', 'negative', 'charge', 'due', 'to', 'excess', 'of', 'acidic', 'over', 'basic', 'amino', 'acid', 'residues', '.', '===', 'Genome', '===', 'Coronaviruses', 'contain', 'a', 'positive-sense', ',', 'single-stranded', 'RNA', 'genome', '.', 'The', 'genome', 'size', 'for', 'coronaviruses', 'ranges', 'from', '26.4', 'to', '31.7', 'kilobases', '.', 'The', 'genome', 'size', 'is', 'one', 'of', 'the', 'largest', 'among', 'RNA', 'viruses', '.', 'The', 'genome', 'has', 'a', '5′', 'methylated', 'cap', 'and', 'a', '3′', 'polyadenylated', 'tail.The', 'genome', 'organization', 'for', 'a', 'coronavirus', 'is', '5′-leader-UTR-replicase', '(', 'ORF1ab', ')', '-spike', '(', 'S', ')', '-envelope', '(', 'E', ')', '-membrane', '(', 'M', ')', '-nucleocapsid', '(', 'N', ')', '-3′UTR-poly', '(', 'A', ')', 'tail', '.', 'The', 'open', 'reading', 'frames', '1a', 'and', '1b', ',', 'which', 'occupy', 'the', 'first', 'two-thirds', 'of', 'the', 'genome', ',', 'encode', 'the', 'replicase', 'polyprotein', '(', 'pp1ab', ')', '.', 'The', 'replicase', 'polyprotein', 'self', 'cleaves', 'to', 'form', '16', 'nonstructural', 'proteins', '(', 'nsp1–nsp16', ')', '.The', 'later', 'reading', 'frames', 'encode', 'the', 'four', 'major', 'structural', 'proteins', ':', 'spike', ',', 'envelope', ',', 'membrane', ',', 'and', 'nucleocapsid', '.', 'Interspersed', 'between', 'these', 'reading', 'frames', 'are', 'the', 'reading', 'frames', 'for', 'the', 'accessory', 'proteins', '.', 'The', 'number', 'of', 'accessory', 'proteins', 'and', 'their', 'function', 'is', 'unique', 'depending', 'on', 'the', 'specific', 'coronavirus', '.', '===', 'Replication', 'cycle', '===', '====', 'Cell', 'entry', '====', 'Infection', 'begins', 'when', 'the', 'viral', 'spike', 'protein', 'attaches', 'to', 'its', 'complementary', 'host', 'cell', 'receptor', '.', 'After', 'attachment', ',', 'a', 'protease', 'of', 'the', 'host', 'cell', 'cleaves', 'and', 'activates', 'the', 'receptor-attached', 'spike', 'protein', '.', 'Depending', 'on', 'the', 'host', 'cell', 'protease', 'available', ',', 'cleavage', 'and', 'activation', 'allows', 'the', 'virus', 'to', 'enter', 'the', 'host', 'cell', 'by', 'endocytosis', 'or', 'direct', 'fusion', 'of', 'the', 'viral', 'envelope', 'with', 'the', 'host', 'membrane', '.', '====', 'Genome', 'translation', '====', 'On', 'entry', 'into', 'the', 'host', 'cell', ',', 'the', 'virus', 'particle', 'is', 'uncoated', ',', 'and', 'its', 'genome', 'enters', 'the', 'cell', 'cytoplasm', '.', 'The', 'coronavirus', 'RNA', 'genome', 'has', 'a', '5′', 'methylated', 'cap', 'and', 'a', '3′', 'polyadenylated', 'tail', ',', 'which', 'allows', 'it', 'to', 'act', 'like', 'a', 'messenger', 'RNA', 'and', 'be', 'directly', 'translated', 'by', 'the', 'host', 'cell', \"'s\", 'ribosomes', '.', 'The', 'host', 'ribosomes', 'translate', 'the', 'initial', 'overlapping', 'open', 'reading', 'frames', 'ORF1a', 'and', 'ORF1b', 'of', 'the', 'virus', 'genome', 'into', 'two', 'large', 'overlapping', 'polyproteins', ',', 'pp1a', 'and', 'pp1ab.The', 'larger', 'polyprotein', 'pp1ab', 'is', 'a', 'result', 'of', 'a', '-1', 'ribosomal', 'frameshift', 'caused', 'by', 'a', 'slippery', 'sequence', '(', 'UUUAAAC', ')', 'and', 'a', 'downstream', 'RNA', 'pseudoknot', 'at', 'the', 'end', 'of', 'open', 'reading', 'frame', 'ORF1a', '.', 'The', 'ribosomal', 'frameshift', 'allows', 'for', 'the', 'continuous', 'translation', 'of', 'ORF1a', 'followed', 'by', 'ORF1b.The', 'polyproteins', 'have', 'their', 'own', 'proteases', ',', 'PLpro', '(', 'nsp3', ')', 'and', '3CLpro', '(', 'nsp5', ')', ',', 'which', 'cleave', 'the', 'polyproteins', 'at', 'different', 'specific', 'sites', '.', 'The', 'cleavage', 'of', 'polyprotein', 'pp1ab', 'yields', '16', 'nonstructural', 'proteins', '(', 'nsp1', 'to', 'nsp16', ')', '.', 'Product', 'proteins', 'include', 'various', 'replication', 'proteins', 'such', 'as', 'RNA-dependent', 'RNA', 'polymerase', '(', 'nsp12', ')', ',', 'RNA', 'helicase', '(', 'nsp13', ')', ',', 'and', 'exoribonuclease', '(', 'nsp14', ')', '.', '====', 'Replicase-transcriptase', '====', 'A', 'number', 'of', 'the', 'nonstructural', 'proteins', 'coalesce', 'to', 'form', 'a', 'multi-protein', 'replicase-transcriptase', 'complex', '.', 'The', 'main', 'replicase-transcriptase', 'protein', 'is', 'the', 'RNA-dependent', 'RNA', 'polymerase', '(', 'RdRp', ')', '.', 'It', 'is', 'directly', 'involved', 'in', 'the', 'replication', 'and', 'transcription', 'of', 'RNA', 'from', 'an', 'RNA', 'strand', '.', 'The', 'other', 'nonstructural', 'proteins', 'in', 'the', 'complex', 'assist', 'in', 'the', 'replication', 'and', 'transcription', 'process', '.', 'The', 'exoribonuclease', 'nonstructural', 'protein', ',', 'for', 'instance', ',', 'provides', 'extra', 'fidelity', 'to', 'replication', 'by', 'providing', 'a', 'proofreading', 'function', 'which', 'the', 'RNA-dependent', 'RNA', 'polymerase', 'lacks.Replication', '–', 'One', 'of', 'the', 'main', 'functions', 'of', 'the', 'complex', 'is', 'to', 'replicate', 'the', 'viral', 'genome', '.', 'RdRp', 'directly', 'mediates', 'the', 'synthesis', 'of', 'negative-sense', 'genomic', 'RNA', 'from', 'the', 'positive-sense', 'genomic', 'RNA', '.', 'This', 'is', 'followed', 'by', 'the', 'replication', 'of', 'positive-sense', 'genomic', 'RNA', 'from', 'the', 'negative-sense', 'genomic', 'RNA', '.', 'Transcription', '–', 'The', 'other', 'important', 'function', 'of', 'the', 'complex', 'is', 'to', 'transcribe', 'the', 'viral', 'genome', '.', 'RdRp', 'directly', 'mediates', 'the', 'synthesis', 'of', 'negative-sense', 'subgenomic', 'RNA', 'molecules', 'from', 'the', 'positive-sense', 'genomic', 'RNA', '.', 'This', 'process', 'is', 'followed', 'by', 'the', 'transcription', 'of', 'these', 'negative-sense', 'subgenomic', 'RNA', 'molecules', 'to', 'their', 'corresponding', 'positive-sense', 'mRNAs', '.', 'The', 'subgenomic', 'mRNAs', 'form', 'a', '``', 'nested', 'set', \"''\", 'which', 'have', 'a', 'common', \"5'-head\", 'and', 'partially', 'duplicate', \"3'-end.Recombination\", '–', 'The', 'replicase-transcriptase', 'complex', 'is', 'also', 'capable', 'of', 'genetic', 'recombination', 'when', 'at', 'least', 'two', 'viral', 'genomes', 'are', 'present', 'in', 'the', 'same', 'infected', 'cell', '.', 'RNA', 'recombination', 'appears', 'to', 'be', 'a', 'major', 'driving', 'force', 'in', 'determining', 'genetic', 'variability', 'within', 'a', 'coronavirus', 'species', ',', 'the', 'capability', 'of', 'a', 'coronavirus', 'species', 'to', 'jump', 'from', 'one', 'host', 'to', 'another', 'and', ',', 'infrequently', ',', 'in', 'determining', 'the', 'emergence', 'of', 'novel', 'coronaviruses', '.', 'The', 'exact', 'mechanism', 'of', 'recombination', 'in', 'coronaviruses', 'is', 'unclear', ',', 'but', 'likely', 'involves', 'template', 'switching', 'during', 'genome', 'replication', '.', '====', 'Assembly', 'and', 'release', '====', 'The', 'replicated', 'positive-sense', 'genomic', 'RNA', 'becomes', 'the', 'genome', 'of', 'the', 'progeny', 'viruses', '.', 'The', 'mRNAs', 'are', 'gene', 'transcripts', 'of', 'the', 'last', 'third', 'of', 'the', 'virus', 'genome', 'after', 'the', 'initial', 'overlapping', 'reading', 'frame', '.', 'These', 'mRNAs', 'are', 'translated', 'by', 'the', 'host', \"'s\", 'ribosomes', 'into', 'the', 'structural', 'proteins', 'and', 'a', 'number', 'of', 'accessory', 'proteins', '.', 'RNA', 'translation', 'occurs', 'inside', 'the', 'endoplasmic', 'reticulum', '.', 'The', 'viral', 'structural', 'proteins', 'S', ',', 'E', ',', 'and', 'M', 'move', 'along', 'the', 'secretory', 'pathway', 'into', 'the', 'Golgi', 'intermediate', 'compartment', '.', 'There', ',', 'the', 'M', 'proteins', 'direct', 'most', 'protein-protein', 'interactions', 'required', 'for', 'assembly', 'of', 'viruses', 'following', 'its', 'binding', 'to', 'the', 'nucleocapsid', '.', 'Progeny', 'viruses', 'are', 'then', 'released', 'from', 'the', 'host', 'cell', 'by', 'exocytosis', 'through', 'secretory', 'vesicles', '.', 'Once', 'released', 'the', 'viruses', 'can', 'infect', 'other', 'host', 'cells', '.', '===', 'Transmission', '===', 'Infected', 'carriers', 'are', 'able', 'to', 'shed', 'viruses', 'into', 'the', 'environment', '.', 'The', 'interaction', 'of', 'the', 'coronavirus', 'spike', 'protein', 'with', 'its', 'complementary', 'cell', 'receptor', 'is', 'central', 'in', 'determining', 'the', 'tissue', 'tropism', ',', 'infectivity', ',', 'and', 'species', 'range', 'of', 'the', 'released', 'virus', '.', 'Coronaviruses', 'mainly', 'target', 'epithelial', 'cells', '.', 'They', 'are', 'transmitted', 'from', 'one', 'host', 'to', 'another', 'host', ',', 'depending', 'on', 'the', 'coronavirus', 'species', ',', 'by', 'either', 'an', 'aerosol', ',', 'fomite', ',', 'or', 'fecal-oral', 'route.Human', 'coronaviruses', 'infect', 'the', 'epithelial', 'cells', 'of', 'the', 'respiratory', 'tract', ',', 'while', 'animal', 'coronaviruses', 'generally', 'infect', 'the', 'epithelial', 'cells', 'of', 'the', 'digestive', 'tract', '.', 'SARS', 'coronavirus', ',', 'for', 'example', ',', 'infects', 'the', 'human', 'epithelial', 'cells', 'of', 'the', 'lungs', 'via', 'an', 'aerosol', 'route', 'by', 'binding', 'to', 'the', 'angiotensin-converting', 'enzyme', '2', '(', 'ACE2', ')', 'receptor', '.', 'Transmissible', 'gastroenteritis', 'coronavirus', '(', 'TGEV', ')', 'infects', 'the', 'pig', 'epithelial', 'cells', 'of', 'the', 'digestive', 'tract', 'via', 'a', 'fecal-oral', 'route', 'by', 'binding', 'to', 'the', 'alanine', 'aminopeptidase', '(', 'APN', ')', 'receptor', '.', '==', 'Classification', '==', 'Coronaviruses', 'form', 'the', 'subfamily', 'Orthocoronavirinae', ',', 'which', 'is', 'one', 'of', 'two', 'sub-families', 'in', 'the', 'family', 'Coronaviridae', ',', 'order', 'Nidovirales', ',', 'and', 'realm', 'Riboviria', '.', 'They', 'are', 'divided', 'into', 'the', 'four', 'genera', ':', 'Alphacoronavirus', ',', 'Betacoronavirus', ',', 'Gammacoronavirus', 'and', 'Deltacoronavirus', '.', 'Alphacoronaviruses', 'and', 'betacoronaviruses', 'infect', 'mammals', ',', 'while', 'gammacoronaviruses', 'and', 'deltacoronaviruses', 'primarily', 'infect', 'birds', '.', 'Genus', ':', 'Alphacoronavirus', ';', 'type', 'species', ':', 'Alphacoronavirus', '1', 'Species', ':', 'Alphacoronavirus', '1', '(', 'TGEV', ',', 'Feline', 'coronavirus', ',', 'Canine', 'coronavirus', ')', ',', 'Human', 'coronavirus', '229E', ',', 'Human', 'coronavirus', 'NL63', ',', 'Miniopterus', 'bat', 'coronavirus', '1', ',', 'Miniopterus', 'bat', 'coronavirus', 'HKU8', ',', 'Porcine', 'epidemic', 'diarrhea', 'virus', ',', 'Rhinolophus', 'bat', 'coronavirus', 'HKU2', ',', 'Scotophilus', 'bat', 'coronavirus', '512', 'Genus', 'Betacoronavirus', ';', 'type', 'species', ':', 'Murine', 'coronavirus', '(', 'MHV', ')', 'Species', ':', 'Betacoronavirus', '1', '(', 'Bovine', 'Coronavirus', ',', 'Human', 'coronavirus', 'OC43', ')', ',', 'Hedgehog', 'coronavirus', '1', ',', 'Human', 'coronavirus', 'HKU1', ',', 'Middle', 'East', 'respiratory', 'syndrome-related', 'coronavirus', ',', 'Murine', 'coronavirus', ',', 'Pipistrellus', 'bat', 'coronavirus', 'HKU5', ',', 'Rousettus', 'bat', 'coronavirus', 'HKU9', ',', 'Severe', 'acute', 'respiratory', 'syndrome-related', 'coronavirus', '(', 'SARS-CoV', ',', 'SARS-CoV-2', ')', ',', 'Tylonycteris', 'bat', 'coronavirus', 'HKU4', 'Genus', 'Gammacoronavirus', ';', 'type', 'species', ':', 'Avian', 'coronavirus', '(', 'IBV', ')', 'Species', ':', 'Avian', 'coronavirus', ',', 'Beluga', 'whale', 'coronavirus', 'SW1', 'Genus', 'Deltacoronavirus', ';', 'type', 'species', ':', 'Bulbul', 'coronavirus', 'HKU11', 'Species', ':', 'Bulbul', 'coronavirus', 'HKU11', ',', 'Porcine', 'coronavirus', 'HKU15', '==', 'Origin', '==', 'The', 'most', 'recent', 'common', 'ancestor', '(', 'MRCA', ')', 'of', 'all', 'coronaviruses', 'is', 'estimated', 'to', 'have', 'existed', 'as', 'recently', 'as', '8000', 'BCE', ',', 'although', 'some', 'models', 'place', 'the', 'common', 'ancestor', 'as', 'far', 'back', 'as', '55', 'million', 'years', 'or', 'more', ',', 'implying', 'long', 'term', 'coevolution', 'with', 'bat', 'and', 'avian', 'species', '.', 'The', 'most', 'recent', 'common', 'ancestor', 'of', 'the', 'alphacoronavirus', 'line', 'has', 'been', 'placed', 'at', 'about', '2400', 'BCE', ',', 'of', 'the', 'betacoronavirus', 'line', 'at', '3300', 'BCE', ',', 'of', 'the', 'gammacoronavirus', 'line', 'at', '2800', 'BCE', ',', 'and', 'of', 'the', 'deltacoronavirus', 'line', 'at', 'about', '3000', 'BCE', '.', 'Bats', 'and', 'birds', ',', 'as', 'warm-blooded', 'flying', 'vertebrates', ',', 'are', 'an', 'ideal', 'natural', 'reservoir', 'for', 'the', 'coronavirus', 'gene', 'pool', '(', 'with', 'bats', 'the', 'reservoir', 'for', 'alphacoronaviruses', 'and', 'betacoronavirus', '–', 'and', 'birds', 'the', 'reservoir', 'for', 'gammacoronaviruses', 'and', 'deltacoronaviruses', ')', '.', 'The', 'large', 'number', 'and', 'global', 'range', 'of', 'bat', 'and', 'avian', 'species', 'that', 'host', 'viruses', 'has', 'enabled', 'extensive', 'evolution', 'and', 'dissemination', 'of', 'coronaviruses.Many', 'human', 'coronaviruses', 'have', 'their', 'origin', 'in', 'bats', '.', 'The', 'human', 'coronavirus', 'NL63', 'shared', 'a', 'common', 'ancestor', 'with', 'a', 'bat', 'coronavirus', '(', 'ARCoV.2', ')', 'between', '1190', 'and', '1449', 'CE', '.', 'The', 'human', 'coronavirus', '229E', 'shared', 'a', 'common', 'ancestor', 'with', 'a', 'bat', 'coronavirus', '(', 'GhanaGrp1', 'Bt', 'CoV', ')', 'between', '1686', 'and', '1800', 'CE', '.', 'More', 'recently', ',', 'alpaca', 'coronavirus', 'and', 'human', 'coronavirus', '229E', 'diverged', 'sometime', 'before', '1960', '.', 'MERS-CoV', 'emerged', 'in', 'humans', 'from', 'bats', 'through', 'the', 'intermediate', 'host', 'of', 'camels', '.', 'MERS-CoV', ',', 'although', 'related', 'to', 'several', 'bat', 'coronavirus', 'species', ',', 'appears', 'to', 'have', 'diverged', 'from', 'these', 'several', 'centuries', 'ago', '.', 'The', 'most', 'closely', 'related', 'bat', 'coronavirus', 'and', 'SARS-CoV', 'diverged', 'in', '1986', '.', 'The', 'ancestors', 'of', 'SARS-CoV', 'first', 'infected', 'leaf-nose', 'bats', 'of', 'the', 'genus', 'Hipposideridae', ';', 'subsequently', ',', 'they', 'spread', 'to', 'horseshoe', 'bats', 'in', 'the', 'species', 'Rhinolophidae', ',', 'then', 'to', 'Asian', 'palm', 'civets', ',', 'and', 'finally', 'to', 'humans.Unlike', 'other', 'betacoronaviruses', ',', 'bovine', 'coronavirus', 'of', 'the', 'species', 'Betacoronavirus', '1', 'and', 'subgenus', 'Embecovirus', 'is', 'thought', 'to', 'have', 'originated', 'in', 'rodents', 'and', 'not', 'in', 'bats', '.', 'In', 'the', '1790s', ',', 'equine', 'coronavirus', 'diverged', 'from', 'the', 'bovine', 'coronavirus', 'after', 'a', 'cross-species', 'jump', '.', 'Later', 'in', 'the', '1890s', ',', 'human', 'coronavirus', 'OC43', 'diverged', 'from', 'bovine', 'coronavirus', 'after', 'another', 'cross-species', 'spillover', 'event', '.', 'It', 'is', 'speculated', 'that', 'the', 'flu', 'pandemic', 'of', '1890', 'may', 'have', 'been', 'caused', 'by', 'this', 'spillover', 'event', ',', 'and', 'not', 'by', 'the', 'influenza', 'virus', ',', 'because', 'of', 'the', 'related', 'timing', ',', 'neurological', 'symptoms', ',', 'and', 'unknown', 'causative', 'agent', 'of', 'the', 'pandemic', '.', 'Besides', 'causing', 'respiratory', 'infections', ',', 'human', 'coronavirus', 'OC43', 'is', 'also', 'suspected', 'of', 'playing', 'a', 'role', 'in', 'neurological', 'diseases', '.', 'In', 'the', '1950s', ',', 'the', 'human', 'coronavirus', 'OC43', 'began', 'to', 'diverge', 'into', 'its', 'present', 'genotypes', '.', 'Phylogentically', ',', 'mouse', 'hepatitis', 'virus', '(', 'Murine', 'coronavirus', ')', ',', 'which', 'infects', 'the', 'mouse', \"'s\", 'liver', 'and', 'central', 'nervous', 'system', ',', 'is', 'related', 'to', 'human', 'coronavirus', 'OC43', 'and', 'bovine', 'coronavirus', '.', 'Human', 'coronavirus', 'HKU1', ',', 'like', 'the', 'aforementioned', 'viruses', ',', 'also', 'has', 'its', 'origins', 'in', 'rodents', '.', '==', 'Infection', 'in', 'humans', '==', 'Coronaviruses', 'vary', 'significantly', 'in', 'risk', 'factor', '.', 'Some', 'can', 'kill', 'more', 'than', '30', '%', 'of', 'those', 'infected', ',', 'such', 'as', 'MERS-CoV', ',', 'and', 'some', 'are', 'relatively', 'harmless', ',', 'such', 'as', 'the', 'common', 'cold', '.', 'Coronaviruses', 'can', 'cause', 'colds', 'with', 'major', 'symptoms', ',', 'such', 'as', 'fever', ',', 'and', 'a', 'sore', 'throat', 'from', 'swollen', 'adenoids', '.', 'Coronaviruses', 'can', 'cause', 'pneumonia', '(', 'either', 'direct', 'viral', 'pneumonia', 'or', 'secondary', 'bacterial', 'pneumonia', ')', 'and', 'bronchitis', '(', 'either', 'direct', 'viral', 'bronchitis', 'or', 'secondary', 'bacterial', 'bronchitis', ')', '.', 'The', 'human', 'coronavirus', 'discovered', 'in', '2003', ',', 'SARS-CoV', ',', 'which', 'causes', 'severe', 'acute', 'respiratory', 'syndrome', '(', 'SARS', ')', ',', 'has', 'a', 'unique', 'pathogenesis', 'because', 'it', 'causes', 'both', 'upper', 'and', 'lower', 'respiratory', 'tract', 'infections.Six', 'species', 'of', 'human', 'coronaviruses', 'are', 'known', ',', 'with', 'one', 'species', 'subdivided', 'into', 'two', 'different', 'strains', ',', 'making', 'seven', 'strains', 'of', 'human', 'coronaviruses', 'altogether', '.', 'Four', 'human', 'coronaviruses', 'produce', 'symptoms', 'that', 'are', 'generally', 'mild', ',', 'even', 'though', 'it', 'is', 'contended', 'they', 'might', 'have', 'been', 'more', 'aggressive', 'in', 'the', 'past', ':', 'Human', 'coronavirus', 'OC43', '(', 'HCoV-OC43', ')', ',', 'β-CoV', 'Human', 'coronavirus', 'HKU1', '(', 'HCoV-HKU1', ')', ',', 'β-CoV', 'Human', 'coronavirus', '229E', '(', 'HCoV-229E', ')', ',', 'α-CoV', 'Human', 'coronavirus', 'NL63', '(', 'HCoV-NL63', ')', ',', 'α-CoVThree', 'human', 'coronaviruses', 'produce', 'symptoms', 'that', 'are', 'potentially', 'severe', ':', 'Middle', 'East', 'respiratory', 'syndrome-related', 'coronavirus', '(', 'MERS-CoV', ')', ',', 'β-CoV', 'Severe', 'acute', 'respiratory', 'syndrome', 'coronavirus', '(', 'SARS-CoV', ')', ',', 'β-CoV', 'Severe', 'acute', 'respiratory', 'syndrome', 'coronavirus', '2', '(', 'SARS-CoV-2', ')', ',', 'β-CoV', '===', 'Common', 'cold', '===', 'The', 'human', 'coronaviruses', 'HCoV-OC43', ',', 'HCoV-HKU1', ',', 'HCoV-229E', ',', 'and', 'HCoV-NL63', 'continually', 'circulate', 'in', 'the', 'human', 'population', 'and', 'produce', 'the', 'generally', 'mild', 'symptoms', 'of', 'the', 'common', 'cold', 'in', 'adults', 'and', 'children', 'worldwide', '.', 'These', 'coronaviruses', 'cause', 'about', '15', '%', 'of', 'common', 'colds', ',', 'while', '40', 'to', '50', '%', 'of', 'colds', 'are', 'caused', 'by', 'rhinoviruses', '.', 'The', 'four', 'mild', 'coronaviruses', 'have', 'a', 'seasonal', 'incidence', 'occurring', 'in', 'the', 'winter', 'months', 'in', 'temperate', 'climates', '.', 'There', 'is', 'no', 'preponderance', 'in', 'any', 'season', 'in', 'tropical', 'climates', '.', '===', 'Severe', 'acute', 'respiratory', 'syndrome', '(', 'SARS', ')', '===', 'In', '2003', ',', 'following', 'the', 'outbreak', 'of', 'severe', 'acute', 'respiratory', 'syndrome', '(', 'SARS', ')', 'which', 'had', 'begun', 'the', 'prior', 'year', 'in', 'Asia', ',', 'and', 'secondary', 'cases', 'elsewhere', 'in', 'the', 'world', ',', 'the', 'World', 'Health', 'Organization', '(', 'WHO', ')', 'issued', 'a', 'press', 'release', 'stating', 'that', 'a', 'novel', 'coronavirus', 'identified', 'by', 'a', 'number', 'of', 'laboratories', 'was', 'the', 'causative', 'agent', 'for', 'SARS', '.', 'The', 'virus', 'was', 'officially', 'named', 'the', 'SARS', 'coronavirus', '(', 'SARS-CoV', ')', '.', 'More', 'than', '8,000', 'people', 'from', '29', 'different', 'countries', 'and', 'territories', 'were', 'infected', ',', 'and', 'at', 'least', '774', 'died', '.', '===', 'Middle', 'East', 'respiratory', 'syndrome', '(', 'MERS', ')', '===', 'In', 'September', '2012', ',', 'a', 'new', 'type', 'of', 'coronavirus', 'was', 'identified', ',', 'initially', 'called', 'Novel', 'Coronavirus', '2012', ',', 'and', 'now', 'officially', 'named', 'Middle', 'East', 'respiratory', 'syndrome', 'coronavirus', '(', 'MERS-CoV', ')', '.', 'The', 'World', 'Health', 'Organization', 'issued', 'a', 'global', 'alert', 'soon', 'after', '.', 'The', 'WHO', 'update', 'on', '28', 'September', '2012', 'said', 'the', 'virus', 'did', 'not', 'seem', 'to', 'pass', 'easily', 'from', 'person', 'to', 'person', '.', 'However', ',', 'on', '12', 'May', '2013', ',', 'a', 'case', 'of', 'human-to-human', 'transmission', 'in', 'France', 'was', 'confirmed', 'by', 'the', 'French', 'Ministry', 'of', 'Social', 'Affairs', 'and', 'Health', '.', 'In', 'addition', ',', 'cases', 'of', 'human-to-human', 'transmission', 'were', 'reported', 'by', 'the', 'Ministry', 'of', 'Health', 'in', 'Tunisia', '.', 'Two', 'confirmed', 'cases', 'involved', 'people', 'who', 'seemed', 'to', 'have', 'caught', 'the', 'disease', 'from', 'their', 'late', 'father', ',', 'who', 'became', 'ill', 'after', 'a', 'visit', 'to', 'Qatar', 'and', 'Saudi', 'Arabia', '.', 'Despite', 'this', ',', 'it', 'appears', 'the', 'virus', 'had', 'trouble', 'spreading', 'from', 'human', 'to', 'human', ',', 'as', 'most', 'individuals', 'who', 'are', 'infected', 'do', 'not', 'transmit', 'the', 'virus', '.', 'By', '30', 'October', '2013', ',', 'there', 'were', '124', 'cases', 'and', '52', 'deaths', 'in', 'Saudi', 'Arabia.After', 'the', 'Dutch', 'Erasmus', 'Medical', 'Centre', 'sequenced', 'the', 'virus', ',', 'the', 'virus', 'was', 'given', 'a', 'new', 'name', ',', 'Human', 'Coronavirus—Erasmus', 'Medical', 'Centre', '(', 'HCoV-EMC', ')', '.', 'The', 'final', 'name', 'for', 'the', 'virus', 'is', 'Middle', 'East', 'respiratory', 'syndrome', 'coronavirus', '(', 'MERS-CoV', ')', '.', 'The', 'only', 'U.S.', 'cases', '(', 'both', 'survived', ')', 'were', 'recorded', 'in', 'May', '2014.In', 'May', '2015', ',', 'an', 'outbreak', 'of', 'MERS-CoV', 'occurred', 'in', 'the', 'Republic', 'of', 'Korea', ',', 'when', 'a', 'man', 'who', 'had', 'traveled', 'to', 'the', 'Middle', 'East', ',', 'visited', 'four', 'hospitals', 'in', 'the', 'Seoul', 'area', 'to', 'treat', 'his', 'illness', '.', 'This', 'caused', 'one', 'of', 'the', 'largest', 'outbreaks', 'of', 'MERS-CoV', 'outside', 'the', 'Middle', 'East', '.', 'As', 'of', 'December', '2019', ',', '2,468', 'cases', 'of', 'MERS-CoV', 'infection', 'had', 'been', 'confirmed', 'by', 'laboratory', 'tests', ',', '851', 'of', 'which', 'were', 'fatal', ',', 'a', 'mortality', 'rate', 'of', 'approximately', '34.5', '%', '.', '===', 'Coronavirus', 'disease', '2019', '(', 'COVID-19', ')', '===', 'In', 'December', '2019', ',', 'a', 'pneumonia', 'outbreak', 'was', 'reported', 'in', 'Wuhan', ',', 'China', '.', 'On', '31', 'December', '2019', ',', 'the', 'outbreak', 'was', 'traced', 'to', 'a', 'novel', 'strain', 'of', 'coronavirus', ',', 'which', 'was', 'given', 'the', 'interim', 'name', '2019-nCoV', 'by', 'the', 'World', 'Health', 'Organization', '(', 'WHO', ')', ',', 'later', 'renamed', 'SARS-CoV-2', 'by', 'the', 'International', 'Committee', 'on', 'Taxonomy', 'of', 'Viruses', '.', 'As', 'of', '20', 'February', '2021', ',', 'there', 'have', 'been', 'at', 'least', '2,453,381', 'confirmed', 'deaths', 'and', 'more', 'than', '110,770,701', 'confirmed', 'cases', 'in', 'the', 'COVID-19', 'pandemic', '.', 'The', 'Wuhan', 'strain', 'has', 'been', 'identified', 'as', 'a', 'new', 'strain', 'of', 'Betacoronavirus', 'from', 'group', '2B', 'with', 'approximately', '70', '%', 'genetic', 'similarity', 'to', 'the', 'SARS-CoV', '.', 'The', 'virus', 'has', 'a', '96', '%', 'similarity', 'to', 'a', 'bat', 'coronavirus', ',', 'so', 'it', 'is', 'widely', 'suspected', 'to', 'originate', 'from', 'bats', 'as', 'well', '.', 'The', 'pandemic', 'has', 'resulted', 'in', 'travel', 'restrictions', 'and', 'nationwide', 'lockdowns', 'in', 'many', 'countries', '.', '==', 'Infection', 'in', 'animals', '==', 'Coronaviruses', 'have', 'been', 'recognized', 'as', 'causing', 'pathological', 'conditions', 'in', 'veterinary', 'medicine', 'since', 'the', '1930s', '.', 'They', 'infect', 'a', 'range', 'of', 'animals', 'including', 'swine', ',', 'cattle', ',', 'horses', ',', 'camels', ',', 'cats', ',', 'dogs', ',', 'rodents', ',', 'birds', 'and', 'bats', '.', 'The', 'majority', 'of', 'animal', 'related', 'coronaviruses', 'infect', 'the', 'intestinal', 'tract', 'and', 'are', 'transmitted', 'by', 'a', 'fecal-oral', 'route', '.', 'Significant', 'research', 'efforts', 'have', 'been', 'focused', 'on', 'elucidating', 'the', 'viral', 'pathogenesis', 'of', 'these', 'animal', 'coronaviruses', ',', 'especially', 'by', 'virologists', 'interested', 'in', 'veterinary', 'and', 'zoonotic', 'diseases', '.', '===', 'Farm', 'animals', '===', 'Coronaviruses', 'infect', 'domesticated', 'birds', '.', 'Infectious', 'bronchitis', 'virus', '(', 'IBV', ')', ',', 'a', 'type', 'of', 'coronavirus', ',', 'causes', 'avian', 'infectious', 'bronchitis', '.', 'The', 'virus', 'is', 'of', 'concern', 'to', 'the', 'poultry', 'industry', 'because', 'of', 'the', 'high', 'mortality', 'from', 'infection', ',', 'its', 'rapid', 'spread', ',', 'and', 'its', 'effect', 'on', 'production', '.', 'The', 'virus', 'affects', 'both', 'meat', 'production', 'and', 'egg', 'production', 'and', 'causes', 'substantial', 'economic', 'loss', '.', 'In', 'chickens', ',', 'infectious', 'bronchitis', 'virus', 'targets', 'not', 'only', 'the', 'respiratory', 'tract', 'but', 'also', 'the', 'urogenital', 'tract', '.', 'The', 'virus', 'can', 'spread', 'to', 'different', 'organs', 'throughout', 'the', 'chicken', '.', 'The', 'virus', 'is', 'transmitted', 'by', 'aerosol', 'and', 'food', 'contaminated', 'by', 'feces', '.', 'Different', 'vaccines', 'against', 'IBV', 'exist', 'and', 'have', 'helped', 'to', 'limit', 'the', 'spread', 'of', 'the', 'virus', 'and', 'its', 'variants', '.', 'Infectious', 'bronchitis', 'virus', 'is', 'one', 'of', 'a', 'number', 'of', 'strains', 'of', 'the', 'species', 'Avian', 'coronavirus', '.', 'Another', 'strain', 'of', 'avian', 'coronavirus', 'is', 'turkey', 'coronavirus', '(', 'TCV', ')', 'which', 'causes', 'enteritis', 'in', 'turkeys.Coronaviruses', 'also', 'affect', 'other', 'branches', 'of', 'animal', 'husbandry', 'such', 'as', 'pig', 'farming', 'and', 'the', 'cattle', 'raising', '.', 'Swine', 'acute', 'diarrhea', 'syndrome', 'coronavirus', '(', 'SADS-CoV', ')', ',', 'which', 'is', 'related', 'to', 'bat', 'coronavirus', 'HKU2', ',', 'causes', 'diarrhea', 'in', 'pigs', '.', 'Porcine', 'epidemic', 'diarrhea', 'virus', '(', 'PEDV', ')', 'is', 'a', 'coronavirus', 'that', 'has', 'recently', 'emerged', 'and', 'similarly', 'causes', 'diarrhea', 'in', 'pigs', '.', 'Transmissible', 'gastroenteritis', 'virus', '(', 'TGEV', ')', ',', 'which', 'is', 'a', 'member', 'of', 'the', 'species', 'Alphacoronavirus', '1', ',', 'is', 'another', 'coronavirus', 'that', 'causes', 'diarrhea', 'in', 'young', 'pigs', '.', 'In', 'the', 'cattle', 'industry', 'bovine', 'coronavirus', '(', 'BCV', ')', ',', 'which', 'is', 'a', 'member', 'of', 'the', 'species', 'Betacoronavirus', '1', 'and', 'related', 'to', 'HCoV-OC43', ',', 'is', 'responsible', 'for', 'severe', 'profuse', 'enteritis', 'in', 'young', 'calves', '.', '===', 'Domestic', 'pets', '===', 'Coronaviruses', 'infect', 'domestic', 'pets', 'such', 'as', 'cats', ',', 'dogs', ',', 'and', 'ferrets', '.', 'There', 'are', 'two', 'forms', 'of', 'feline', 'coronavirus', 'which', 'are', 'both', 'members', 'of', 'the', 'species', 'Alphacoronavirus', '1', '.', 'Feline', 'enteric', 'coronavirus', 'is', 'a', 'pathogen', 'of', 'minor', 'clinical', 'significance', ',', 'but', 'spontaneous', 'mutation', 'of', 'this', 'virus', 'can', 'result', 'in', 'feline', 'infectious', 'peritonitis', '(', 'FIP', ')', ',', 'a', 'disease', 'with', 'high', 'mortality', '.', 'There', 'are', 'two', 'different', 'coronaviruses', 'that', 'infect', 'dogs', '.', 'Canine', 'coronavirus', '(', 'CCoV', ')', ',', 'which', 'is', 'a', 'member', 'of', 'the', 'species', 'Alphacoronavirus', '1', ',', 'causes', 'mild', 'gastrointestinal', 'disease', '.', 'Canine', 'respiratory', 'coronavirus', '(', 'CRCoV', ')', ',', 'which', 'is', 'a', 'member', 'of', 'the', 'species', 'Betacoronavirus', '1', 'and', 'related', 'to', 'HCoV-OC43', ',', 'cause', 'respiratory', 'disease', '.', 'Similarly', ',', 'there', 'are', 'two', 'types', 'of', 'coronavirus', 'that', 'infect', 'ferrets', '.', 'Ferret', 'enteric', 'coronavirus', 'causes', 'a', 'gastrointestinal', 'syndrome', 'known', 'as', 'epizootic', 'catarrhal', 'enteritis', '(', 'ECE', ')', ',', 'and', 'a', 'more', 'lethal', 'systemic', 'version', 'of', 'the', 'virus', '(', 'like', 'FIP', 'in', 'cats', ')', 'known', 'as', 'ferret', 'systemic', 'coronavirus', '(', 'FSC', ')', '.', '===', 'Laboratory', 'animals', '===', 'Coronaviruses', 'infect', 'laboratory', 'animals', '.', 'Mouse', 'hepatitis', 'virus', '(', 'MHV', ')', ',', 'which', 'is', 'a', 'member', 'of', 'the', 'species', 'Murine', 'coronavirus', ',', 'causes', 'an', 'epidemic', 'murine', 'illness', 'with', 'high', 'mortality', ',', 'especially', 'among', 'colonies', 'of', 'laboratory', 'mice', '.', 'Prior', 'to', 'the', 'discovery', 'of', 'SARS-CoV', ',', 'MHV', 'was', 'the', 'best-studied', 'coronavirus', 'both', 'in', 'vivo', 'and', 'in', 'vitro', 'as', 'well', 'as', 'at', 'the', 'molecular', 'level', '.', 'Some', 'strains', 'of', 'MHV', 'cause', 'a', 'progressive', 'demyelinating', 'encephalitis', 'in', 'mice', 'which', 'has', 'been', 'used', 'as', 'a', 'murine', 'model', 'for', 'multiple', 'sclerosis', '.', 'Sialodacryoadenitis', 'virus', '(', 'SDAV', ')', ',', 'which', 'is', 'a', 'strain', 'of', 'the', 'species', 'Murine', 'coronavirus', ',', 'is', 'highly', 'infectious', 'coronavirus', 'of', 'laboratory', 'rats', ',', 'which', 'can', 'be', 'transmitted', 'between', 'individuals', 'by', 'direct', 'contact', 'and', 'indirectly', 'by', 'aerosol', '.', 'Rabbit', 'enteric', 'coronavirus', 'causes', 'acute', 'gastrointestinal', 'disease', 'and', 'diarrhea', 'in', 'young', 'European', 'rabbits', '.', 'Mortality', 'rates', 'are', 'high', '.', '==', 'Prevention', 'and', 'treatment', '==', 'A', 'number', 'of', 'vaccines', 'using', 'different', 'methods', 'have', 'been', 'developed', 'against', 'human', 'coronavirus', 'SARS-CoV-2', '.', 'Antiviral', 'targets', 'against', 'human', 'coronaviruses', 'have', 'also', 'been', 'identified', 'such', 'as', 'viral', 'proteases', ',', 'polymerases', ',', 'and', 'entry', 'proteins', '.', 'Drugs', 'are', 'in', 'development', 'which', 'target', 'these', 'proteins', 'and', 'the', 'different', 'steps', 'of', 'viral', 'replication.Vaccines', 'are', 'available', 'for', 'animal', 'coronaviruses', 'IBV', ',', 'TGEV', ',', 'and', 'Canine', 'CoV', ',', 'although', 'their', 'effectiveness', 'is', 'limited', '.', 'In', 'the', 'case', 'of', 'outbreaks', 'of', 'highly', 'contagious', 'animal', 'coronaviruses', ',', 'such', 'as', 'PEDV', ',', 'measures', 'such', 'as', 'destruction', 'of', 'entire', 'herds', 'of', 'pigs', 'may', 'be', 'used', 'to', 'prevent', 'transmission', 'to', 'other', 'herds', '.', '==', 'See', 'also', '==', 'Coronavirus', 'diseases', 'Zoonosis', '==', 'References', '==', '==', 'Further', 'reading', '==']\n"
     ]
    }
   ],
   "source": [
    "wiki_words = []\n",
    "for sent in wiki_sent:\n",
    "    wiki_words.extend(word_tokenize(sent))\n",
    "print(wiki_words)"
   ]
  },
  {
   "cell_type": "code",
   "execution_count": 16,
   "metadata": {
    "collapsed": true,
    "jupyter": {
     "outputs_hidden": true
    }
   },
   "outputs": [
    {
     "data": {
      "text/html": [
       "\n",
       "  <style>\n",
       "    pre {\n",
       "        white-space: pre-wrap;\n",
       "    }\n",
       "  </style>\n",
       "  "
      ],
      "text/plain": [
       "<IPython.core.display.HTML object>"
      ]
     },
     "metadata": {},
     "output_type": "display_data"
    },
    {
     "name": "stdout",
     "output_type": "stream",
     "text": [
      "[('Coronaviruses', 'NNS'), ('are', 'VBP'), ('a', 'DT'), ('group', 'NN'), ('of', 'IN'), ('related', 'JJ'), ('RNA', 'NNP'), ('viruses', 'VBZ'), ('that', 'IN'), ('cause', 'NN'), ('diseases', 'NNS'), ('in', 'IN'), ('mammals', 'NNS'), ('and', 'CC'), ('birds', 'NNS'), ('.', '.'), ('In', 'IN'), ('humans', 'NNS'), ('and', 'CC'), ('birds', 'NNS'), (',', ','), ('they', 'PRP'), ('cause', 'VBP'), ('respiratory', 'JJ'), ('tract', 'NN'), ('infections', 'NNS'), ('that', 'WDT'), ('can', 'MD'), ('range', 'VB'), ('from', 'IN'), ('mild', 'NN'), ('to', 'TO'), ('lethal', 'VB'), ('.', '.'), ('Mild', 'NNP'), ('illnesses', 'VBZ'), ('in', 'IN'), ('humans', 'NNS'), ('include', 'VBP'), ('some', 'DT'), ('cases', 'NNS'), ('of', 'IN'), ('the', 'DT'), ('common', 'JJ'), ('cold', 'NN'), ('(', '('), ('which', 'WDT'), ('is', 'VBZ'), ('also', 'RB'), ('caused', 'VBN'), ('by', 'IN'), ('other', 'JJ'), ('viruses', 'NNS'), (',', ','), ('predominantly', 'RB'), ('rhinoviruses', 'VBZ'), (')', ')'), (',', ','), ('while', 'IN'), ('more', 'RBR'), ('lethal', 'JJ'), ('varieties', 'NNS'), ('can', 'MD'), ('cause', 'VB'), ('SARS', 'NNP'), (',', ','), ('MERS', 'NNP'), (',', ','), ('and', 'CC'), ('COVID-19', 'NNP'), ('.', '.'), ('In', 'IN'), ('cows', 'NNS'), ('and', 'CC'), ('pigs', 'NNS'), ('they', 'PRP'), ('cause', 'VBP'), ('diarrhea', 'NNS'), (',', ','), ('while', 'IN'), ('in', 'IN'), ('mice', 'NN'), ('they', 'PRP'), ('cause', 'VBP'), ('hepatitis', 'NN'), ('and', 'CC'), ('encephalomyelitis', 'NN'), ('.', '.'), ('Coronaviruses', 'NNS'), ('constitute', 'VBP'), ('the', 'DT'), ('subfamily', 'JJ'), ('Orthocoronavirinae', 'NNP'), (',', ','), ('in', 'IN'), ('the', 'DT'), ('family', 'NN'), ('Coronaviridae', 'NNP'), (',', ','), ('order', 'NN'), ('Nidovirales', 'NNP'), (',', ','), ('and', 'CC'), ('realm', 'JJ'), ('Riboviria', 'NNP'), ('.', '.'), ('They', 'PRP'), ('are', 'VBP'), ('enveloped', 'JJ'), ('viruses', 'NNS'), ('with', 'IN'), ('a', 'DT'), ('positive-sense', 'JJ'), ('single-stranded', 'JJ'), ('RNA', 'NNP'), ('genome', 'NN'), ('and', 'CC'), ('a', 'DT'), ('nucleocapsid', 'NN'), ('of', 'IN'), ('helical', 'JJ'), ('symmetry', 'NN'), ('.', '.'), ('The', 'DT'), ('genome', 'JJ'), ('size', 'NN'), ('of', 'IN'), ('coronaviruses', 'NNS'), ('ranges', 'NNS'), ('from', 'IN'), ('approximately', 'RB'), ('26', 'CD'), ('to', 'TO'), ('32', 'CD'), ('kilobases', 'NNS'), (',', ','), ('one', 'CD'), ('of', 'IN'), ('the', 'DT'), ('largest', 'JJS'), ('among', 'IN'), ('RNA', 'JJ'), ('viruses', 'NNS'), ('.', '.'), ('They', 'PRP'), ('have', 'VBP'), ('characteristic', 'JJ'), ('club-shaped', 'JJ'), ('spikes', 'NNS'), ('that', 'WDT'), ('project', 'VBP'), ('from', 'IN'), ('their', 'PRP$'), ('surface', 'NN'), (',', ','), ('which', 'WDT'), ('in', 'IN'), ('electron', 'NN'), ('micrographs', 'NN'), ('create', 'VBP'), ('an', 'DT'), ('image', 'NN'), ('reminiscent', 'NN'), ('of', 'IN'), ('the', 'DT'), ('solar', 'JJ'), ('corona', 'NN'), (',', ','), ('from', 'IN'), ('which', 'WDT'), ('their', 'PRP$'), ('name', 'NN'), ('derives', 'VBZ'), ('.', '.'), ('==', 'JJ'), ('Etymology', 'NNP'), ('==', 'VBZ'), ('The', 'DT'), ('name', 'NN'), ('``', '``'), ('coronavirus', 'NN'), (\"''\", \"''\"), ('is', 'VBZ'), ('derived', 'VBN'), ('from', 'IN'), ('Latin', 'NNP'), ('corona', 'NN'), (',', ','), ('meaning', 'VBG'), ('``', '``'), ('crown', 'JJ'), (\"''\", \"''\"), ('or', 'CC'), ('``', '``'), ('wreath', 'NN'), (\"''\", \"''\"), (',', ','), ('itself', 'PRP'), ('a', 'DT'), ('borrowing', 'NN'), ('from', 'IN'), ('Greek', 'JJ'), ('κορώνη', 'NN'), ('korṓnē', 'NN'), (',', ','), ('``', '``'), ('garland', 'NN'), (',', ','), ('wreath', 'NN'), (\"''\", \"''\"), ('.', '.'), ('The', 'DT'), ('name', 'NN'), ('was', 'VBD'), ('coined', 'VBN'), ('by', 'IN'), ('June', 'NNP'), ('Almeida', 'NNP'), ('and', 'CC'), ('David', 'NNP'), ('Tyrrell', 'NNP'), ('who', 'WP'), ('first', 'RB'), ('observed', 'VBD'), ('and', 'CC'), ('studied', 'VBD'), ('human', 'JJ'), ('coronaviruses', 'NNS'), ('.', '.'), ('The', 'DT'), ('word', 'NN'), ('was', 'VBD'), ('first', 'RB'), ('used', 'VBN'), ('in', 'IN'), ('print', 'NN'), ('in', 'IN'), ('1968', 'CD'), ('by', 'IN'), ('an', 'DT'), ('informal', 'JJ'), ('group', 'NN'), ('of', 'IN'), ('virologists', 'NNS'), ('in', 'IN'), ('the', 'DT'), ('journal', 'JJ'), ('Nature', 'NN'), ('to', 'TO'), ('designate', 'VB'), ('the', 'DT'), ('new', 'JJ'), ('family', 'NN'), ('of', 'IN'), ('viruses', 'NNS'), ('.', '.'), ('The', 'DT'), ('name', 'NN'), ('refers', 'NNS'), ('to', 'TO'), ('the', 'DT'), ('characteristic', 'JJ'), ('appearance', 'NN'), ('of', 'IN'), ('virions', 'NNS'), ('(', '('), ('the', 'DT'), ('infective', 'JJ'), ('form', 'NN'), ('of', 'IN'), ('the', 'DT'), ('virus', 'NN'), (')', ')'), ('by', 'IN'), ('electron', 'NN'), ('microscopy', 'NN'), (',', ','), ('which', 'WDT'), ('have', 'VBP'), ('a', 'DT'), ('fringe', 'NN'), ('of', 'IN'), ('large', 'JJ'), (',', ','), ('bulbous', 'JJ'), ('surface', 'NN'), ('projections', 'NNS'), ('creating', 'VBG'), ('an', 'DT'), ('image', 'NN'), ('reminiscent', 'NN'), ('of', 'IN'), ('the', 'DT'), ('solar', 'JJ'), ('corona', 'NN'), ('or', 'CC'), ('halo', 'NN'), ('.', '.'), ('This', 'DT'), ('morphology', 'NN'), ('is', 'VBZ'), ('created', 'VBN'), ('by', 'IN'), ('the', 'DT'), ('viral', 'JJ'), ('spike', 'NN'), ('peplomers', 'NNS'), (',', ','), ('which', 'WDT'), ('are', 'VBP'), ('proteins', 'NNS'), ('on', 'IN'), ('the', 'DT'), ('surface', 'NN'), ('of', 'IN'), ('the', 'DT'), ('virus.The', 'NN'), ('scientific', 'JJ'), ('name', 'NN'), ('Coronavirus', 'NNP'), ('was', 'VBD'), ('accepted', 'VBN'), ('as', 'IN'), ('a', 'DT'), ('genus', 'NN'), ('name', 'NN'), ('by', 'IN'), ('the', 'DT'), ('International', 'NNP'), ('Committee', 'NNP'), ('for', 'IN'), ('the', 'DT'), ('Nomenclature', 'NNP'), ('of', 'IN'), ('Viruses', 'NNP'), ('(', '('), ('later', 'RB'), ('renamed', 'VBN'), ('International', 'NNP'), ('Committee', 'NNP'), ('on', 'IN'), ('Taxonomy', 'NNP'), ('of', 'IN'), ('Viruses', 'NNP'), (')', ')'), ('in', 'IN'), ('1971', 'CD'), ('.', '.'), ('As', 'IN'), ('the', 'DT'), ('number', 'NN'), ('of', 'IN'), ('new', 'JJ'), ('species', 'NNS'), ('increased', 'VBN'), (',', ','), ('the', 'DT'), ('genus', 'NN'), ('was', 'VBD'), ('split', 'VBN'), ('into', 'IN'), ('four', 'CD'), ('genera', 'NN'), (',', ','), ('namely', 'RB'), ('Alphacoronavirus', 'NNP'), (',', ','), ('Betacoronavirus', 'NNP'), (',', ','), ('Deltacoronavirus', 'NNP'), (',', ','), ('and', 'CC'), ('Gammacoronavirus', 'NNP'), ('in', 'IN'), ('2009', 'CD'), ('.', '.'), ('The', 'DT'), ('common', 'JJ'), ('name', 'NN'), ('coronavirus', 'NN'), ('is', 'VBZ'), ('used', 'VBN'), ('to', 'TO'), ('refer', 'VB'), ('to', 'TO'), ('any', 'DT'), ('member', 'NN'), ('of', 'IN'), ('the', 'DT'), ('subfamily', 'JJ'), ('Orthocoronavirinae', 'NNP'), ('.', '.'), ('As', 'IN'), ('of', 'IN'), ('2020', 'CD'), (',', ','), ('45', 'CD'), ('species', 'NNS'), ('are', 'VBP'), ('officially', 'RB'), ('recognised', 'VBN'), ('.', '.'), ('==', 'JJ'), ('History', 'NNP'), ('==', 'NNP'), ('The', 'DT'), ('earliest', 'JJS'), ('reports', 'NNS'), ('of', 'IN'), ('a', 'DT'), ('coronavirus', 'NN'), ('infection', 'NN'), ('in', 'IN'), ('animals', 'NNS'), ('occurred', 'VBD'), ('in', 'IN'), ('the', 'DT'), ('late', 'JJ'), ('1920s', 'NNS'), (',', ','), ('when', 'WRB'), ('an', 'DT'), ('acute', 'JJ'), ('respiratory', 'NN'), ('infection', 'NN'), ('of', 'IN'), ('domesticated', 'JJ'), ('chickens', 'NNS'), ('emerged', 'VBN'), ('in', 'IN'), ('North', 'NNP'), ('America', 'NNP'), ('.', '.'), ('Arthur', 'NNP'), ('Schalk', 'NNP'), ('and', 'CC'), ('M.C', 'NNP'), ('.', '.'), ('Hawn', 'NNP'), ('in', 'IN'), ('1931', 'CD'), ('made', 'VBD'), ('the', 'DT'), ('first', 'JJ'), ('detailed', 'JJ'), ('report', 'NN'), ('which', 'WDT'), ('described', 'VBD'), ('a', 'DT'), ('new', 'JJ'), ('respiratory', 'JJ'), ('infection', 'NN'), ('of', 'IN'), ('chickens', 'NNS'), ('in', 'IN'), ('North', 'NNP'), ('Dakota', 'NNP'), ('.', '.'), ('The', 'DT'), ('infection', 'NN'), ('of', 'IN'), ('new-born', 'JJ'), ('chicks', 'NNS'), ('was', 'VBD'), ('characterized', 'VBN'), ('by', 'IN'), ('gasping', 'VBG'), ('and', 'CC'), ('listlessness', 'NN'), ('with', 'IN'), ('high', 'JJ'), ('mortality', 'NN'), ('rates', 'NNS'), ('of', 'IN'), ('40–90', 'CD'), ('%', 'NN'), ('.', '.'), ('Leland', 'NNP'), ('David', 'NNP'), ('Bushnell', 'NNP'), ('and', 'CC'), ('Carl', 'NNP'), ('Alfred', 'NNP'), ('Brandly', 'NNP'), ('isolated', 'VBD'), ('the', 'DT'), ('virus', 'NN'), ('that', 'WDT'), ('caused', 'VBD'), ('the', 'DT'), ('infection', 'NN'), ('in', 'IN'), ('1933', 'CD'), ('.', '.'), ('The', 'DT'), ('virus', 'NN'), ('was', 'VBD'), ('then', 'RB'), ('known', 'VBN'), ('as', 'IN'), ('infectious', 'JJ'), ('bronchitis', 'NN'), ('virus', 'NN'), ('(', '('), ('IBV', 'NNP'), (')', ')'), ('.', '.'), ('Charles', 'NNP'), ('D.', 'NNP'), ('Hudson', 'NNP'), ('and', 'CC'), ('Fred', 'NNP'), ('Robert', 'NNP'), ('Beaudette', 'NNP'), ('cultivated', 'VBD'), ('the', 'DT'), ('virus', 'NN'), ('for', 'IN'), ('the', 'DT'), ('first', 'JJ'), ('time', 'NN'), ('in', 'IN'), ('1937', 'CD'), ('.', '.'), ('The', 'DT'), ('specimen', 'NNS'), ('came', 'VBD'), ('to', 'TO'), ('be', 'VB'), ('known', 'VBN'), ('as', 'IN'), ('the', 'DT'), ('Beaudette', 'NNP'), ('strain', 'NN'), ('.', '.'), ('In', 'IN'), ('the', 'DT'), ('late', 'JJ'), ('1940s', 'NNS'), (',', ','), ('two', 'CD'), ('more', 'JJR'), ('animal', 'JJ'), ('coronaviruses', 'NNS'), (',', ','), ('JHM', 'NNP'), ('that', 'IN'), ('causes', 'VBZ'), ('brain', 'NN'), ('disease', 'NN'), ('(', '('), ('murine', 'JJ'), ('encephalitis', 'NN'), (')', ')'), ('and', 'CC'), ('mouse', '$'), ('hepatitis', 'NN'), ('virus', 'NN'), ('(', '('), ('MHV', 'NNP'), (')', ')'), ('that', 'WDT'), ('causes', 'VBZ'), ('hepatitis', 'NN'), ('in', 'IN'), ('mice', 'NN'), ('were', 'VBD'), ('discovered', 'VBN'), ('.', '.'), ('It', 'PRP'), ('was', 'VBD'), ('not', 'RB'), ('realized', 'VBN'), ('at', 'IN'), ('the', 'DT'), ('time', 'NN'), ('that', 'IN'), ('these', 'DT'), ('three', 'CD'), ('different', 'JJ'), ('viruses', 'NNS'), ('were', 'VBD'), ('related.Human', 'JJ'), ('coronaviruses', 'NNS'), ('were', 'VBD'), ('discovered', 'VBN'), ('in', 'IN'), ('the', 'DT'), ('1960s', 'CD'), ('using', 'VBG'), ('two', 'CD'), ('different', 'JJ'), ('methods', 'NNS'), ('in', 'IN'), ('the', 'DT'), ('United', 'NNP'), ('Kingdom', 'NNP'), ('and', 'CC'), ('the', 'DT'), ('United', 'NNP'), ('States', 'NNPS'), ('.', '.'), ('E.C', 'NNP'), ('.', '.'), ('Kendall', 'NNP'), (',', ','), ('Malcolm', 'NNP'), ('Bynoe', 'NNP'), (',', ','), ('and', 'CC'), ('David', 'NNP'), ('Tyrrell', 'NNP'), ('working', 'VBG'), ('at', 'IN'), ('the', 'DT'), ('Common', 'NNP'), ('Cold', 'NNP'), ('Unit', 'NNP'), ('of', 'IN'), ('the', 'DT'), ('British', 'JJ'), ('Medical', 'NNP'), ('Research', 'NNP'), ('Council', 'NNP'), ('collected', 'VBD'), ('a', 'DT'), ('unique', 'JJ'), ('common', 'JJ'), ('cold', 'NN'), ('virus', 'NN'), ('designated', 'VBN'), ('B814', 'NNP'), ('in', 'IN'), ('1961', 'CD'), ('.', '.'), ('The', 'DT'), ('virus', 'NN'), ('could', 'MD'), ('not', 'RB'), ('be', 'VB'), ('cultivated', 'VBN'), ('using', 'VBG'), ('standard', 'NN'), ('techniques', 'NNS'), ('which', 'WDT'), ('had', 'VBD'), ('successfully', 'RB'), ('cultivated', 'VBN'), ('rhinoviruses', 'NNS'), (',', ','), ('adenoviruses', 'NNS'), ('and', 'CC'), ('other', 'JJ'), ('known', 'JJ'), ('common', 'JJ'), ('cold', 'NN'), ('viruses', 'NNS'), ('.', '.'), ('In', 'IN'), ('1965', 'CD'), (',', ','), ('Tyrrell', 'NNP'), ('and', 'CC'), ('Bynoe', 'NNP'), ('successfully', 'RB'), ('cultivated', 'VBD'), ('the', 'DT'), ('novel', 'JJ'), ('virus', 'NN'), ('by', 'IN'), ('serially', 'RB'), ('passing', 'VBG'), ('it', 'PRP'), ('through', 'IN'), ('organ', 'JJ'), ('culture', 'NN'), ('of', 'IN'), ('human', 'JJ'), ('embryonic', 'JJ'), ('trachea', 'NN'), ('.', '.'), ('The', 'DT'), ('new', 'JJ'), ('cultivating', 'VBG'), ('method', 'NN'), ('was', 'VBD'), ('introduced', 'VBN'), ('to', 'TO'), ('the', 'DT'), ('lab', 'NN'), ('by', 'IN'), ('Bertil', 'NNP'), ('Hoorn', 'NNP'), ('.', '.'), ('The', 'DT'), ('isolated', 'JJ'), ('virus', 'NN'), ('when', 'WRB'), ('intranasally', 'RB'), ('inoculated', 'VBN'), ('into', 'IN'), ('volunteers', 'NNS'), ('caused', 'VBD'), ('a', 'DT'), ('cold', 'JJ'), ('and', 'CC'), ('was', 'VBD'), ('inactivated', 'VBN'), ('by', 'IN'), ('ether', 'NN'), ('which', 'WDT'), ('indicated', 'VBD'), ('it', 'PRP'), ('had', 'VBD'), ('a', 'DT'), ('lipid', 'JJ'), ('envelope', 'NN'), ('.', '.'), ('Dorothy', 'NNP'), ('Hamre', 'NNP'), ('and', 'CC'), ('John', 'NNP'), ('Procknow', 'NNP'), ('at', 'IN'), ('the', 'DT'), ('University', 'NNP'), ('of', 'IN'), ('Chicago', 'NNP'), ('isolated', 'VBD'), ('a', 'DT'), ('novel', 'JJ'), ('cold', 'NN'), ('from', 'IN'), ('medical', 'JJ'), ('students', 'NNS'), ('in', 'IN'), ('1962', 'CD'), ('.', '.'), ('They', 'PRP'), ('isolated', 'VBD'), ('and', 'CC'), ('grew', 'VBD'), ('the', 'DT'), ('virus', 'NN'), ('in', 'IN'), ('kidney', 'NN'), ('tissue', 'NN'), ('culture', 'NN'), (',', ','), ('designating', 'VBG'), ('it', 'PRP'), ('229E', 'CD'), ('.', '.'), ('The', 'DT'), ('novel', 'JJ'), ('virus', 'NN'), ('caused', 'VBD'), ('a', 'DT'), ('cold', 'NN'), ('in', 'IN'), ('volunteers', 'NNS'), ('and', 'CC'), (',', ','), ('like', 'IN'), ('B814', 'NNP'), (',', ','), ('was', 'VBD'), ('inactivated', 'VBN'), ('by', 'IN'), ('ether', 'NN'), ('.', '.'), ('Scottish', 'JJ'), ('virologist', 'NN'), ('June', 'NNP'), ('Almeida', 'NNP'), ('at', 'IN'), ('St.', 'NNP'), ('Thomas', 'NNP'), ('Hospital', 'NNP'), ('in', 'IN'), ('London', 'NNP'), (',', ','), ('collaborating', 'VBG'), ('with', 'IN'), ('Tyrrell', 'NNP'), (',', ','), ('compared', 'VBN'), ('the', 'DT'), ('structures', 'NNS'), ('of', 'IN'), ('IBV', 'NNP'), (',', ','), ('B814', 'NNP'), ('and', 'CC'), ('229E', 'CD'), ('in', 'IN'), ('1967', 'CD'), ('.', '.'), ('Using', 'VBG'), ('electron', 'NN'), ('microscopy', 'VBD'), ('the', 'DT'), ('three', 'CD'), ('viruses', 'NNS'), ('were', 'VBD'), ('shown', 'VBN'), ('to', 'TO'), ('be', 'VB'), ('morphologically', 'RB'), ('related', 'VBN'), ('by', 'IN'), ('their', 'PRP$'), ('general', 'JJ'), ('shape', 'NN'), ('and', 'CC'), ('distinctive', 'JJ'), ('club-like', 'JJ'), ('spikes', 'NNS'), ('.', '.'), ('A', 'NNP'), ('research', 'NN'), ('group', 'NN'), ('at', 'IN'), ('the', 'DT'), ('National', 'NNP'), ('Institute', 'NNP'), ('of', 'IN'), ('Health', 'NNP'), ('the', 'DT'), ('same', 'JJ'), ('year', 'NN'), ('was', 'VBD'), ('able', 'JJ'), ('to', 'TO'), ('isolate', 'VB'), ('another', 'DT'), ('member', 'NN'), ('of', 'IN'), ('this', 'DT'), ('new', 'JJ'), ('group', 'NN'), ('of', 'IN'), ('viruses', 'NNS'), ('using', 'VBG'), ('organ', 'JJ'), ('culture', 'NN'), ('and', 'CC'), ('named', 'VBD'), ('one', 'CD'), ('of', 'IN'), ('the', 'DT'), ('samples', 'NNS'), ('OC43', 'NNP'), ('(', '('), ('OC', 'NNP'), ('for', 'IN'), ('organ', 'JJ'), ('culture', 'NN'), (')', ')'), ('.', '.'), ('Like', 'IN'), ('B814', 'NNP'), (',', ','), ('229E', 'CD'), (',', ','), ('and', 'CC'), ('IBV', 'NNP'), (',', ','), ('the', 'DT'), ('novel', 'NN'), ('cold', 'JJ'), ('virus', 'NN'), ('OC43', 'NNP'), ('had', 'VBD'), ('distinctive', 'JJ'), ('club-like', 'JJ'), ('spikes', 'NNS'), ('when', 'WRB'), ('observed', 'VBN'), ('with', 'IN'), ('the', 'DT'), ('electron', 'NN'), ('microscope.The', 'VBD'), ('IBV-like', 'NNP'), ('novel', 'NN'), ('cold', 'NN'), ('viruses', 'NNS'), ('were', 'VBD'), ('soon', 'RB'), ('shown', 'VBN'), ('to', 'TO'), ('be', 'VB'), ('also', 'RB'), ('morphologically', 'RB'), ('related', 'VBN'), ('to', 'TO'), ('the', 'DT'), ('mouse', 'NN'), ('hepatitis', 'NN'), ('virus', 'NN'), ('.', '.'), ('This', 'DT'), ('new', 'JJ'), ('group', 'NN'), ('of', 'IN'), ('viruses', 'NNS'), ('were', 'VBD'), ('named', 'VBN'), ('coronaviruses', 'NNS'), ('after', 'IN'), ('their', 'PRP$'), ('distinctive', 'JJ'), ('morphological', 'JJ'), ('appearance', 'NN'), ('.', '.'), ('Human', 'NNP'), ('coronavirus', 'VBD'), ('229E', 'CD'), ('and', 'CC'), ('human', 'JJ'), ('coronavirus', 'NN'), ('OC43', 'NNP'), ('continued', 'VBD'), ('to', 'TO'), ('be', 'VB'), ('studied', 'VBN'), ('in', 'IN'), ('subsequent', 'JJ'), ('decades', 'NNS'), ('.', '.'), ('The', 'DT'), ('coronavirus', 'NN'), ('strain', 'NN'), ('B814', 'NNP'), ('was', 'VBD'), ('lost', 'VBN'), ('.', '.'), ('It', 'PRP'), ('is', 'VBZ'), ('not', 'RB'), ('known', 'VBN'), ('which', 'WDT'), ('present', 'JJ'), ('human', 'JJ'), ('coronavirus', 'NN'), ('it', 'PRP'), ('was', 'VBD'), ('.', '.'), ('Other', 'JJ'), ('human', 'JJ'), ('coronaviruses', 'NNS'), ('have', 'VBP'), ('since', 'IN'), ('been', 'VBN'), ('identified', 'VBN'), (',', ','), ('including', 'VBG'), ('SARS-CoV', 'NNP'), ('in', 'IN'), ('2003', 'CD'), (',', ','), ('HCoV', 'NNP'), ('NL63', 'NNP'), ('in', 'IN'), ('2003', 'CD'), (',', ','), ('HCoV', 'NNP'), ('HKU1', 'NNP'), ('in', 'IN'), ('2004', 'CD'), (',', ','), ('MERS-CoV', 'NNP'), ('in', 'IN'), ('2013', 'CD'), (',', ','), ('and', 'CC'), ('SARS-CoV-2', 'NNP'), ('in', 'IN'), ('2019', 'CD'), ('.', '.'), ('There', 'EX'), ('have', 'VBP'), ('also', 'RB'), ('been', 'VBN'), ('a', 'DT'), ('large', 'JJ'), ('number', 'NN'), ('of', 'IN'), ('animal', 'JJ'), ('coronaviruses', 'NNS'), ('identified', 'VBN'), ('since', 'IN'), ('the', 'DT'), ('1960s', 'NNS'), ('.', '.'), ('==', 'JJ'), ('Microbiology', 'NNP'), ('==', 'NNP'), ('===', 'NNP'), ('Structure', 'NNP'), ('===', 'NNP'), ('Coronaviruses', 'NNP'), ('are', 'VBP'), ('large', 'JJ'), (',', ','), ('roughly', 'RB'), ('spherical', 'JJ'), ('particles', 'NNS'), ('with', 'IN'), ('unique', 'JJ'), ('surface', 'NN'), ('projections', 'NNS'), ('.', '.'), ('Their', 'PRP$'), ('size', 'NN'), ('is', 'VBZ'), ('highly', 'RB'), ('variable', 'JJ'), ('with', 'IN'), ('average', 'JJ'), ('diameters', 'NNS'), ('of', 'IN'), ('80', 'CD'), ('to', 'TO'), ('120', 'CD'), ('nm', 'NNS'), ('.', '.'), ('Extreme', 'JJ'), ('sizes', 'NNS'), ('are', 'VBP'), ('known', 'VBN'), ('from', 'IN'), ('50', 'CD'), ('to', 'TO'), ('200', 'CD'), ('nm', 'NNS'), ('in', 'IN'), ('diameter', 'NN'), ('.', '.'), ('The', 'DT'), ('total', 'JJ'), ('molecular', 'JJ'), ('weight', 'NN'), ('is', 'VBZ'), ('on', 'IN'), ('average', 'JJ'), ('40,000', 'CD'), ('kDa', 'NN'), ('.', '.'), ('They', 'PRP'), ('are', 'VBP'), ('enclosed', 'VBN'), ('in', 'IN'), ('an', 'DT'), ('envelope', 'NN'), ('embedded', 'VBD'), ('with', 'IN'), ('a', 'DT'), ('number', 'NN'), ('of', 'IN'), ('protein', 'JJ'), ('molecules', 'NNS'), ('.', '.'), ('The', 'DT'), ('lipid', 'JJ'), ('bilayer', 'NN'), ('envelope', 'NN'), (',', ','), ('membrane', 'NN'), ('proteins', 'NNS'), (',', ','), ('and', 'CC'), ('nucleocapsid', 'RB'), ('protect', 'VB'), ('the', 'DT'), ('virus', 'NN'), ('when', 'WRB'), ('it', 'PRP'), ('is', 'VBZ'), ('outside', 'IN'), ('the', 'DT'), ('host', 'NN'), ('cell.The', 'JJ'), ('viral', 'JJ'), ('envelope', 'NN'), ('is', 'VBZ'), ('made', 'VBN'), ('up', 'IN'), ('of', 'IN'), ('a', 'DT'), ('lipid', 'JJ'), ('bilayer', 'NN'), ('in', 'IN'), ('which', 'WDT'), ('the', 'DT'), ('membrane', 'NN'), ('(', '('), ('M', 'NNP'), (')', ')'), (',', ','), ('envelope', 'FW'), ('(', '('), ('E', 'NNP'), (')', ')'), ('and', 'CC'), ('spike', 'NN'), ('(', '('), ('S', 'NNP'), (')', ')'), ('structural', 'JJ'), ('proteins', 'NNS'), ('are', 'VBP'), ('anchored', 'VBN'), ('.', '.'), ('The', 'DT'), ('ratio', 'NN'), ('of', 'IN'), ('E', 'NN'), (':', ':'), ('S', 'NN'), (':', ':'), ('M', 'NN'), ('in', 'IN'), ('the', 'DT'), ('lipid', 'JJ'), ('bilayer', 'NN'), ('is', 'VBZ'), ('approximately', 'RB'), ('1:20:300', 'CD'), ('.', '.'), ('The', 'DT'), ('E', 'NNP'), ('and', 'CC'), ('M', 'NNP'), ('protein', 'NN'), ('are', 'VBP'), ('the', 'DT'), ('structural', 'JJ'), ('proteins', 'NNS'), ('that', 'WDT'), ('combined', 'VBD'), ('with', 'IN'), ('the', 'DT'), ('lipid', 'JJ'), ('bilayer', 'NN'), ('to', 'TO'), ('shape', 'VB'), ('the', 'DT'), ('viral', 'JJ'), ('envelope', 'NN'), ('and', 'CC'), ('maintain', 'VB'), ('its', 'PRP$'), ('size', 'NN'), ('.', '.'), ('S', 'NNP'), ('proteins', 'NNS'), ('are', 'VBP'), ('needed', 'VBN'), ('for', 'IN'), ('interaction', 'NN'), ('with', 'IN'), ('the', 'DT'), ('host', 'NN'), ('cells', 'NNS'), ('.', '.'), ('But', 'CC'), ('human', 'JJ'), ('coronavirus', 'NN'), ('NL63', 'NNP'), ('is', 'VBZ'), ('peculiar', 'VBN'), ('in', 'IN'), ('that', 'DT'), ('its', 'PRP$'), ('M', 'NNP'), ('protein', 'NN'), ('has', 'VBZ'), ('the', 'DT'), ('binding', 'NN'), ('site', 'NN'), ('for', 'IN'), ('the', 'DT'), ('host', 'NN'), ('cell', 'NN'), (',', ','), ('and', 'CC'), ('not', 'RB'), ('its', 'PRP$'), ('S', 'NNP'), ('protein', 'NN'), ('.', '.'), ('The', 'DT'), ('diameter', 'NN'), ('of', 'IN'), ('the', 'DT'), ('envelope', 'NN'), ('is', 'VBZ'), ('85', 'CD'), ('nm', 'NN'), ('.', '.'), ('The', 'DT'), ('envelope', 'NN'), ('of', 'IN'), ('the', 'DT'), ('virus', 'NN'), ('in', 'IN'), ('electron', 'NN'), ('micrographs', 'NN'), ('appears', 'VBZ'), ('as', 'IN'), ('a', 'DT'), ('distinct', 'JJ'), ('pair', 'NN'), ('of', 'IN'), ('electron-dense', 'JJ'), ('shells', 'NNS'), ('(', '('), ('shells', 'NNS'), ('that', 'WDT'), ('are', 'VBP'), ('relatively', 'RB'), ('opaque', 'JJ'), ('to', 'TO'), ('the', 'DT'), ('electron', 'NN'), ('beam', 'NN'), ('used', 'VBN'), ('to', 'TO'), ('scan', 'VB'), ('the', 'DT'), ('virus', 'NN'), ('particle', 'NN'), (')', ')'), ('.The', 'VBZ'), ('M', 'NNP'), ('protein', 'NN'), ('is', 'VBZ'), ('the', 'DT'), ('main', 'JJ'), ('structural', 'JJ'), ('protein', 'NN'), ('of', 'IN'), ('the', 'DT'), ('envelope', 'NN'), ('that', 'WDT'), ('provides', 'VBZ'), ('the', 'DT'), ('overall', 'JJ'), ('shape', 'NN'), ('and', 'CC'), ('is', 'VBZ'), ('a', 'DT'), ('type', 'NN'), ('III', 'NNP'), ('membrane', 'NN'), ('protein', 'NN'), ('.', '.'), ('It', 'PRP'), ('consists', 'VBZ'), ('of', 'IN'), ('218', 'CD'), ('to', 'TO'), ('263', 'CD'), ('amino', 'NN'), ('acid', 'NN'), ('residues', 'NNS'), ('and', 'CC'), ('forms', 'VBZ'), ('a', 'DT'), ('layer', 'NN'), ('7.8', 'CD'), ('nm', 'JJ'), ('thick', 'NN'), ('.', '.'), ('It', 'PRP'), ('has', 'VBZ'), ('three', 'CD'), ('domains', 'NNS'), (',', ','), ('a', 'DT'), ('short', 'JJ'), ('N-terminal', 'JJ'), ('ectodomain', 'NN'), (',', ','), ('a', 'DT'), ('triple-spanning', 'JJ'), ('transmembrane', 'NN'), ('domain', 'NN'), (',', ','), ('and', 'CC'), ('a', 'DT'), ('C-terminal', 'JJ'), ('endodomain', 'NN'), ('.', '.'), ('The', 'DT'), ('C-terminal', 'JJ'), ('domain', 'NN'), ('forms', 'NNS'), ('a', 'DT'), ('matrix-like', 'JJ'), ('lattice', 'NN'), ('that', 'WDT'), ('adds', 'VBZ'), ('to', 'TO'), ('the', 'DT'), ('extra-thickness', 'NN'), ('of', 'IN'), ('the', 'DT'), ('envelope', 'NN'), ('.', '.'), ('Different', 'JJ'), ('species', 'NNS'), ('can', 'MD'), ('have', 'VB'), ('either', 'DT'), ('N-', 'JJ'), ('or', 'CC'), ('O-linked', 'JJ'), ('glycans', 'NNS'), ('in', 'IN'), ('their', 'PRP$'), ('protein', 'JJ'), ('amino-terminal', 'JJ'), ('domain', 'NN'), ('.', '.'), ('The', 'DT'), ('M', 'NNP'), ('protein', 'NN'), ('is', 'VBZ'), ('crucial', 'JJ'), ('during', 'IN'), ('the', 'DT'), ('assembly', 'NN'), (',', ','), ('budding', 'NN'), (',', ','), ('envelope', 'NN'), ('formation', 'NN'), (',', ','), ('and', 'CC'), ('pathogenesis', 'NN'), ('stages', 'NNS'), ('of', 'IN'), ('the', 'DT'), ('virus', 'NN'), ('lifecycle.The', 'NN'), ('E', 'NNP'), ('proteins', 'NNS'), ('are', 'VBP'), ('minor', 'JJ'), ('structural', 'JJ'), ('proteins', 'NNS'), ('and', 'CC'), ('highly', 'RB'), ('variable', 'JJ'), ('in', 'IN'), ('different', 'JJ'), ('species', 'NNS'), ('.', '.'), ('There', 'EX'), ('are', 'VBP'), ('only', 'RB'), ('about', 'IN'), ('20', 'CD'), ('copies', 'NNS'), ('of', 'IN'), ('the', 'DT'), ('E', 'NNP'), ('protein', 'NN'), ('molecule', 'NN'), ('in', 'IN'), ('a', 'DT'), ('coronavirus', 'NN'), ('particle', 'NN'), ('.', '.'), ('They', 'PRP'), ('are', 'VBP'), ('8.4', 'CD'), ('to', 'TO'), ('12', 'CD'), ('kDa', 'NNS'), ('in', 'IN'), ('size', 'NN'), ('and', 'CC'), ('are', 'VBP'), ('composed', 'VBN'), ('of', 'IN'), ('76', 'CD'), ('to', 'TO'), ('109', 'CD'), ('amino', 'NN'), ('acids', 'NNS'), ('.', '.'), ('They', 'PRP'), ('are', 'VBP'), ('integral', 'JJ'), ('proteins', 'NNS'), ('(', '('), ('i.e', 'NN'), ('.', '.'), ('embedded', 'VBN'), ('in', 'IN'), ('the', 'DT'), ('lipid', 'JJ'), ('layer', 'NN'), (')', ')'), ('and', 'CC'), ('have', 'VBP'), ('two', 'CD'), ('domains', 'NNS'), ('namely', 'RB'), ('a', 'DT'), ('transmembrane', 'NN'), ('domain', 'NN'), ('and', 'CC'), ('an', 'DT'), ('extramembrane', 'JJ'), ('C-terminal', 'JJ'), ('domain', 'NN'), ('.', '.'), ('They', 'PRP'), ('are', 'VBP'), ('almost', 'RB'), ('fully', 'RB'), ('α-helical', 'JJ'), (',', ','), ('with', 'IN'), ('a', 'DT'), ('single', 'JJ'), ('α-helical', 'JJ'), ('transmembrane', 'NN'), ('domain', 'NN'), (',', ','), ('and', 'CC'), ('form', 'NN'), ('pentameric', 'NN'), ('(', '('), ('five-molecular', 'JJ'), (')', ')'), ('ion', 'NN'), ('channels', 'NNS'), ('in', 'IN'), ('the', 'DT'), ('lipid', 'JJ'), ('bilayer', 'NN'), ('.', '.'), ('They', 'PRP'), ('are', 'VBP'), ('responsible', 'JJ'), ('for', 'IN'), ('virion', 'NN'), ('assembly', 'NN'), (',', ','), ('intracellular', 'JJ'), ('trafficking', 'NN'), ('and', 'CC'), ('morphogenesis', 'NN'), ('(', '('), ('budding', 'VBG'), (')', ')'), ('.', '.'), ('The', 'DT'), ('spikes', 'NNS'), ('are', 'VBP'), ('the', 'DT'), ('most', 'RBS'), ('distinguishing', 'JJ'), ('feature', 'NN'), ('of', 'IN'), ('coronaviruses', 'NNS'), ('and', 'CC'), ('are', 'VBP'), ('responsible', 'JJ'), ('for', 'IN'), ('the', 'DT'), ('corona-', 'JJ'), ('or', 'CC'), ('halo-like', 'JJ'), ('surface', 'NN'), ('.', '.'), ('On', 'IN'), ('average', 'NN'), ('a', 'DT'), ('coronavirus', 'NN'), ('particle', 'NN'), ('has', 'VBZ'), ('74', 'CD'), ('surface', 'NN'), ('spikes', 'NNS'), ('.', '.'), ('Each', 'DT'), ('spike', 'NN'), ('is', 'VBZ'), ('about', 'IN'), ('20', 'CD'), ('nm', 'NNS'), ('long', 'JJ'), ('and', 'CC'), ('is', 'VBZ'), ('composed', 'VBN'), ('of', 'IN'), ('a', 'DT'), ('trimer', 'NN'), ('of', 'IN'), ('the', 'DT'), ('S', 'NNP'), ('protein', 'NN'), ('.', '.'), ('The', 'DT'), ('S', 'NNP'), ('protein', 'NN'), ('is', 'VBZ'), ('in', 'IN'), ('turn', 'NN'), ('composed', 'VBN'), ('of', 'IN'), ('an', 'DT'), ('S1', 'NNP'), ('and', 'CC'), ('S2', 'NNP'), ('subunit', 'NN'), ('.', '.'), ('The', 'DT'), ('homotrimeric', 'JJ'), ('S', 'NNP'), ('protein', 'NN'), ('is', 'VBZ'), ('a', 'DT'), ('class', 'NN'), ('I', 'PRP'), ('fusion', 'VBP'), ('protein', 'RB'), ('which', 'WDT'), ('mediates', 'VBZ'), ('the', 'DT'), ('receptor', 'NN'), ('binding', 'NN'), ('and', 'CC'), ('membrane', 'NN'), ('fusion', 'NN'), ('between', 'IN'), ('the', 'DT'), ('virus', 'NN'), ('and', 'CC'), ('host', 'NN'), ('cell', 'NN'), ('.', '.'), ('The', 'DT'), ('S1', 'NNP'), ('subunit', 'NN'), ('forms', 'VBZ'), ('the', 'DT'), ('head', 'NN'), ('of', 'IN'), ('the', 'DT'), ('spike', 'NN'), ('and', 'CC'), ('has', 'VBZ'), ('the', 'DT'), ('receptor-binding', 'JJ'), ('domain', 'NN'), ('(', '('), ('RBD', 'NNP'), (')', ')'), ('.', '.'), ('The', 'DT'), ('S2', 'NNP'), ('subunit', 'NN'), ('forms', 'VBZ'), ('the', 'DT'), ('stem', 'NN'), ('which', 'WDT'), ('anchors', 'VBZ'), ('the', 'DT'), ('spike', 'NN'), ('in', 'IN'), ('the', 'DT'), ('viral', 'JJ'), ('envelope', 'NN'), ('and', 'CC'), ('on', 'IN'), ('protease', 'NN'), ('activation', 'NN'), ('enables', 'VBZ'), ('fusion', 'NN'), ('.', '.'), ('The', 'DT'), ('two', 'CD'), ('subunits', 'NNS'), ('remain', 'VBP'), ('noncovalently', 'RB'), ('linked', 'VBN'), ('as', 'IN'), ('they', 'PRP'), ('are', 'VBP'), ('exposed', 'VBN'), ('on', 'IN'), ('the', 'DT'), ('viral', 'JJ'), ('surface', 'NN'), ('until', 'IN'), ('they', 'PRP'), ('attach', 'VBP'), ('to', 'TO'), ('the', 'DT'), ('host', 'NN'), ('cell', 'NN'), ('membrane', 'NN'), ('.', '.'), ('In', 'IN'), ('a', 'DT'), ('functionally', 'RB'), ('active', 'JJ'), ('state', 'NN'), (',', ','), ('three', 'CD'), ('S1', 'NNP'), ('are', 'VBP'), ('attached', 'VBN'), ('to', 'TO'), ('two', 'CD'), ('S2', 'NNP'), ('subunits', 'NNS'), ('.', '.'), ('The', 'DT'), ('subunit', 'NN'), ('complex', 'NN'), ('is', 'VBZ'), ('split', 'VBN'), ('into', 'IN'), ('individual', 'JJ'), ('subunits', 'NNS'), ('when', 'WRB'), ('the', 'DT'), ('virus', 'NN'), ('binds', 'NNS'), ('and', 'CC'), ('fuses', 'NNS'), ('with', 'IN'), ('the', 'DT'), ('host', 'NN'), ('cell', 'NN'), ('under', 'IN'), ('the', 'DT'), ('action', 'NN'), ('of', 'IN'), ('proteases', 'NNS'), ('such', 'JJ'), ('as', 'IN'), ('cathepsin', 'NNS'), ('family', 'NN'), ('and', 'CC'), ('transmembrane', 'NN'), ('protease', 'NN'), ('serine', 'NN'), ('2', 'CD'), ('(', '('), ('TMPRSS2', 'NNP'), (')', ')'), ('of', 'IN'), ('the', 'DT'), ('host', 'NN'), ('cell', 'NN'), ('.', '.'), ('S1', 'NNP'), ('proteins', 'NNS'), ('are', 'VBP'), ('the', 'DT'), ('most', 'RBS'), ('critical', 'JJ'), ('components', 'NNS'), ('in', 'IN'), ('terms', 'NNS'), ('of', 'IN'), ('infection', 'NN'), ('.', '.'), ('They', 'PRP'), ('are', 'VBP'), ('also', 'RB'), ('the', 'DT'), ('most', 'RBS'), ('variable', 'JJ'), ('components', 'NNS'), ('as', 'IN'), ('they', 'PRP'), ('are', 'VBP'), ('responsible', 'JJ'), ('for', 'IN'), ('host', 'NN'), ('cell', 'NN'), ('specificity', 'NN'), ('.', '.'), ('They', 'PRP'), ('possess', 'VBP'), ('two', 'CD'), ('major', 'JJ'), ('domains', 'NNS'), ('named', 'VBN'), ('N-terminal', 'JJ'), ('domain', 'NN'), ('(', '('), ('S1-NTD', 'NNP'), (')', ')'), ('and', 'CC'), ('C-terminal', 'JJ'), ('domain', 'NN'), ('(', '('), ('S1-CTD', 'NNP'), (')', ')'), (',', ','), ('both', 'DT'), ('of', 'IN'), ('which', 'WDT'), ('serve', 'VBP'), ('as', 'IN'), ('the', 'DT'), ('receptor-binding', 'NN'), ('domains', 'NNS'), ('.', '.'), ('The', 'DT'), ('NTDs', 'NNP'), ('recognize', 'NN'), ('and', 'CC'), ('bind', 'NN'), ('sugars', 'NNS'), ('on', 'IN'), ('the', 'DT'), ('surface', 'NN'), ('of', 'IN'), ('the', 'DT'), ('host', 'NN'), ('cell', 'NN'), ('.', '.'), ('An', 'DT'), ('exception', 'NN'), ('is', 'VBZ'), ('the', 'DT'), ('MHV', 'NNP'), ('NTD', 'NNP'), ('that', 'WDT'), ('binds', 'VBZ'), ('to', 'TO'), ('a', 'DT'), ('protein', 'NN'), ('receptor', 'NN'), ('carcinoembryonic', 'JJ'), ('antigen-related', 'JJ'), ('cell', 'NN'), ('adhesion', 'NN'), ('molecule', 'NN'), ('1', 'CD'), ('(', '('), ('CEACAM1', 'NNP'), (')', ')'), ('.', '.'), ('S1-CTDs', 'JJ'), ('are', 'VBP'), ('responsible', 'JJ'), ('for', 'IN'), ('recognizing', 'VBG'), ('different', 'JJ'), ('protein', 'JJ'), ('receptors', 'NNS'), ('such', 'JJ'), ('as', 'IN'), ('angiotensin-converting', 'JJ'), ('enzyme', 'NN'), ('2', 'CD'), ('(', '('), ('ACE2', 'NNP'), (')', ')'), (',', ','), ('aminopeptidase', 'JJ'), ('N', 'NNP'), ('(', '('), ('APN', 'NNP'), (')', ')'), (',', ','), ('and', 'CC'), ('dipeptidyl', 'JJ'), ('peptidase', 'NN'), ('4', 'CD'), ('(', '('), ('DPP4', 'NNP'), (')', ')'), ('.A', 'VBP'), ('subset', 'NN'), ('of', 'IN'), ('coronaviruses', 'NNS'), ('(', '('), ('specifically', 'RB'), ('the', 'DT'), ('members', 'NNS'), ('of', 'IN'), ('betacoronavirus', 'NN'), ('subgroup', 'FW'), ('A', 'NNP'), (')', ')'), ('also', 'RB'), ('has', 'VBZ'), ('a', 'DT'), ('shorter', 'JJR'), ('spike-like', 'JJ'), ('surface', 'NN'), ('protein', 'NN'), ('called', 'VBD'), ('hemagglutinin', 'JJ'), ('esterase', 'NN'), ('(', '('), ('HE', 'NNP'), (')', ')'), ('.', '.'), ('The', 'DT'), ('HE', 'NNP'), ('proteins', 'VBZ'), ('occur', 'RP'), ('as', 'IN'), ('homodimers', 'NNS'), ('composed', 'VBN'), ('of', 'IN'), ('about', 'IN'), ('400', 'CD'), ('amino', 'NN'), ('acid', 'NN'), ('residues', 'NNS'), ('and', 'CC'), ('are', 'VBP'), ('40', 'CD'), ('to', 'TO'), ('50', 'CD'), ('kDa', 'NNS'), ('in', 'IN'), ('size', 'NN'), ('.', '.'), ('They', 'PRP'), ('appear', 'VBP'), ('as', 'IN'), ('tiny', 'JJ'), ('surface', 'NN'), ('projections', 'NNS'), ('of', 'IN'), ('5', 'CD'), ('to', 'TO'), ('7', 'CD'), ('nm', 'NNS'), ('long', 'RB'), ('embedded', 'VBD'), ('in', 'IN'), ('between', 'IN'), ('the', 'DT'), ('spikes', 'NNS'), ('.', '.'), ('They', 'PRP'), ('help', 'VBP'), ('in', 'IN'), ('the', 'DT'), ('attachment', 'NN'), ('to', 'TO'), ('and', 'CC'), ('detachment', 'NN'), ('from', 'IN'), ('the', 'DT'), ('host', 'NN'), ('cell.Inside', 'VB'), ('the', 'DT'), ('envelope', 'NN'), (',', ','), ('there', 'EX'), ('is', 'VBZ'), ('the', 'DT'), ('nucleocapsid', 'NN'), (',', ','), ('which', 'WDT'), ('is', 'VBZ'), ('formed', 'VBN'), ('from', 'IN'), ('multiple', 'JJ'), ('copies', 'NNS'), ('of', 'IN'), ('the', 'DT'), ('nucleocapsid', 'NN'), ('(', '('), ('N', 'NNP'), (')', ')'), ('protein', 'NN'), (',', ','), ('which', 'WDT'), ('are', 'VBP'), ('bound', 'VBN'), ('to', 'TO'), ('the', 'DT'), ('positive-sense', 'JJ'), ('single-stranded', 'JJ'), ('RNA', 'NNP'), ('genome', 'NN'), ('in', 'IN'), ('a', 'DT'), ('continuous', 'JJ'), ('beads-on-a-string', 'JJ'), ('type', 'NN'), ('conformation', 'NN'), ('.', '.'), ('N', 'NNP'), ('protein', 'NN'), ('is', 'VBZ'), ('a', 'DT'), ('phosphoprotein', 'NN'), ('of', 'IN'), ('43', 'CD'), ('to', 'TO'), ('50', 'CD'), ('kDa', 'NNS'), ('in', 'IN'), ('size', 'NN'), (',', ','), ('and', 'CC'), ('is', 'VBZ'), ('divided', 'VBN'), ('into', 'IN'), ('three', 'CD'), ('conserved', 'VBD'), ('domains', 'NNS'), ('.', '.'), ('The', 'DT'), ('majority', 'NN'), ('of', 'IN'), ('the', 'DT'), ('protein', 'NN'), ('is', 'VBZ'), ('made', 'VBN'), ('up', 'IN'), ('of', 'IN'), ('domains', 'NNS'), ('1', 'CD'), ('and', 'CC'), ('2', 'CD'), (',', ','), ('which', 'WDT'), ('are', 'VBP'), ('typically', 'RB'), ('rich', 'JJ'), ('in', 'IN'), ('arginines', 'NNS'), ('and', 'CC'), ('lysines', 'NNS'), ('.', '.'), ('Domain', 'NNP'), ('3', 'CD'), ('has', 'VBZ'), ('a', 'DT'), ('short', 'JJ'), ('carboxy', 'NN'), ('terminal', 'JJ'), ('end', 'NN'), ('and', 'CC'), ('has', 'VBZ'), ('a', 'DT'), ('net', 'JJ'), ('negative', 'JJ'), ('charge', 'NN'), ('due', 'JJ'), ('to', 'TO'), ('excess', 'JJ'), ('of', 'IN'), ('acidic', 'NN'), ('over', 'IN'), ('basic', 'JJ'), ('amino', 'NN'), ('acid', 'NN'), ('residues', 'NNS'), ('.', '.'), ('===', 'CC'), ('Genome', 'NNP'), ('===', 'NNP'), ('Coronaviruses', 'NNP'), ('contain', 'VBP'), ('a', 'DT'), ('positive-sense', 'JJ'), (',', ','), ('single-stranded', 'JJ'), ('RNA', 'NNP'), ('genome', 'NN'), ('.', '.'), ('The', 'DT'), ('genome', 'JJ'), ('size', 'NN'), ('for', 'IN'), ('coronaviruses', 'NNS'), ('ranges', 'NNS'), ('from', 'IN'), ('26.4', 'CD'), ('to', 'TO'), ('31.7', 'CD'), ('kilobases', 'NNS'), ('.', '.'), ('The', 'DT'), ('genome', 'JJ'), ('size', 'NN'), ('is', 'VBZ'), ('one', 'CD'), ('of', 'IN'), ('the', 'DT'), ('largest', 'JJS'), ('among', 'IN'), ('RNA', 'JJ'), ('viruses', 'NNS'), ('.', '.'), ('The', 'DT'), ('genome', 'NN'), ('has', 'VBZ'), ('a', 'DT'), ('5′', 'CD'), ('methylated', 'VBN'), ('cap', 'NN'), ('and', 'CC'), ('a', 'DT'), ('3′', 'CD'), ('polyadenylated', 'VBN'), ('tail.The', 'JJ'), ('genome', 'JJ'), ('organization', 'NN'), ('for', 'IN'), ('a', 'DT'), ('coronavirus', 'NN'), ('is', 'VBZ'), ('5′-leader-UTR-replicase', 'JJ'), ('(', '('), ('ORF1ab', 'NNP'), (')', ')'), ('-spike', 'NN'), ('(', '('), ('S', 'NNP'), (')', ')'), ('-envelope', 'NN'), ('(', '('), ('E', 'NNP'), (')', ')'), ('-membrane', 'NN'), ('(', '('), ('M', 'NNP'), (')', ')'), ('-nucleocapsid', 'NN'), ('(', '('), ('N', 'NNP'), (')', ')'), ('-3′UTR-poly', 'NNP'), ('(', '('), ('A', 'NNP'), (')', ')'), ('tail', 'NN'), ('.', '.'), ('The', 'DT'), ('open', 'JJ'), ('reading', 'NN'), ('frames', 'NNS'), ('1a', 'CD'), ('and', 'CC'), ('1b', 'CD'), (',', ','), ('which', 'WDT'), ('occupy', 'VBP'), ('the', 'DT'), ('first', 'JJ'), ('two-thirds', 'NNS'), ('of', 'IN'), ('the', 'DT'), ('genome', 'NN'), (',', ','), ('encode', 'VBP'), ('the', 'DT'), ('replicase', 'NN'), ('polyprotein', 'NN'), ('(', '('), ('pp1ab', 'NN'), (')', ')'), ('.', '.'), ('The', 'DT'), ('replicase', 'NN'), ('polyprotein', 'NN'), ('self', 'PRP'), ('cleaves', 'VBZ'), ('to', 'TO'), ('form', 'VB'), ('16', 'CD'), ('nonstructural', 'JJ'), ('proteins', 'NNS'), ('(', '('), ('nsp1–nsp16', 'NN'), (')', ')'), ('.The', 'NN'), ('later', 'RB'), ('reading', 'VBG'), ('frames', 'NNS'), ('encode', 'VBP'), ('the', 'DT'), ('four', 'CD'), ('major', 'JJ'), ('structural', 'JJ'), ('proteins', 'NNS'), (':', ':'), ('spike', 'NN'), (',', ','), ('envelope', 'NN'), (',', ','), ('membrane', 'NN'), (',', ','), ('and', 'CC'), ('nucleocapsid', 'RB'), ('.', '.'), ('Interspersed', 'VBN'), ('between', 'IN'), ('these', 'DT'), ('reading', 'VBG'), ('frames', 'NNS'), ('are', 'VBP'), ('the', 'DT'), ('reading', 'NN'), ('frames', 'NNS'), ('for', 'IN'), ('the', 'DT'), ('accessory', 'JJ'), ('proteins', 'NNS'), ('.', '.'), ('The', 'DT'), ('number', 'NN'), ('of', 'IN'), ('accessory', 'JJ'), ('proteins', 'NNS'), ('and', 'CC'), ('their', 'PRP$'), ('function', 'NN'), ('is', 'VBZ'), ('unique', 'JJ'), ('depending', 'VBG'), ('on', 'IN'), ('the', 'DT'), ('specific', 'JJ'), ('coronavirus', 'NN'), ('.', '.'), ('===', 'JJ'), ('Replication', 'NNP'), ('cycle', 'NN'), ('===', 'NNP'), ('====', 'NNP'), ('Cell', 'NNP'), ('entry', 'NN'), ('====', 'NNP'), ('Infection', 'NNP'), ('begins', 'VBZ'), ('when', 'WRB'), ('the', 'DT'), ('viral', 'JJ'), ('spike', 'NN'), ('protein', 'NN'), ('attaches', 'VBZ'), ('to', 'TO'), ('its', 'PRP$'), ('complementary', 'JJ'), ('host', 'NN'), ('cell', 'NN'), ('receptor', 'NN'), ('.', '.'), ('After', 'IN'), ('attachment', 'NN'), (',', ','), ('a', 'DT'), ('protease', 'NN'), ('of', 'IN'), ('the', 'DT'), ('host', 'NN'), ('cell', 'NN'), ('cleaves', 'NNS'), ('and', 'CC'), ('activates', 'VBZ'), ('the', 'DT'), ('receptor-attached', 'JJ'), ('spike', 'NN'), ('protein', 'NN'), ('.', '.'), ('Depending', 'VBG'), ('on', 'IN'), ('the', 'DT'), ('host', 'NN'), ('cell', 'NN'), ('protease', 'NN'), ('available', 'JJ'), (',', ','), ('cleavage', 'NN'), ('and', 'CC'), ('activation', 'NN'), ('allows', 'VBZ'), ('the', 'DT'), ('virus', 'NN'), ('to', 'TO'), ('enter', 'VB'), ('the', 'DT'), ('host', 'NN'), ('cell', 'NN'), ('by', 'IN'), ('endocytosis', 'NN'), ('or', 'CC'), ('direct', 'JJ'), ('fusion', 'NN'), ('of', 'IN'), ('the', 'DT'), ('viral', 'JJ'), ('envelope', 'NN'), ('with', 'IN'), ('the', 'DT'), ('host', 'NN'), ('membrane', 'NN'), ('.', '.'), ('====', 'CC'), ('Genome', 'NNP'), ('translation', 'NN'), ('====', 'NN'), ('On', 'IN'), ('entry', 'NN'), ('into', 'IN'), ('the', 'DT'), ('host', 'NN'), ('cell', 'NN'), (',', ','), ('the', 'DT'), ('virus', 'NN'), ('particle', 'NN'), ('is', 'VBZ'), ('uncoated', 'JJ'), (',', ','), ('and', 'CC'), ('its', 'PRP$'), ('genome', 'NN'), ('enters', 'VBZ'), ('the', 'DT'), ('cell', 'NN'), ('cytoplasm', 'NN'), ('.', '.'), ('The', 'DT'), ('coronavirus', 'NN'), ('RNA', 'NNP'), ('genome', 'NN'), ('has', 'VBZ'), ('a', 'DT'), ('5′', 'CD'), ('methylated', 'VBN'), ('cap', 'NN'), ('and', 'CC'), ('a', 'DT'), ('3′', 'CD'), ('polyadenylated', 'JJ'), ('tail', 'NN'), (',', ','), ('which', 'WDT'), ('allows', 'VBZ'), ('it', 'PRP'), ('to', 'TO'), ('act', 'VB'), ('like', 'IN'), ('a', 'DT'), ('messenger', 'NN'), ('RNA', 'NNP'), ('and', 'CC'), ('be', 'VB'), ('directly', 'RB'), ('translated', 'VBN'), ('by', 'IN'), ('the', 'DT'), ('host', 'NN'), ('cell', 'NN'), (\"'s\", 'POS'), ('ribosomes', 'NNS'), ('.', '.'), ('The', 'DT'), ('host', 'NN'), ('ribosomes', 'NNS'), ('translate', 'VBP'), ('the', 'DT'), ('initial', 'JJ'), ('overlapping', 'VBG'), ('open', 'JJ'), ('reading', 'NN'), ('frames', 'NNS'), ('ORF1a', 'NNP'), ('and', 'CC'), ('ORF1b', 'NNP'), ('of', 'IN'), ('the', 'DT'), ('virus', 'NN'), ('genome', 'NN'), ('into', 'IN'), ('two', 'CD'), ('large', 'JJ'), ('overlapping', 'VBG'), ('polyproteins', 'NNS'), (',', ','), ('pp1a', 'NN'), ('and', 'CC'), ('pp1ab.The', 'NN'), ('larger', 'JJR'), ('polyprotein', 'NN'), ('pp1ab', 'NN'), ('is', 'VBZ'), ('a', 'DT'), ('result', 'NN'), ('of', 'IN'), ('a', 'DT'), ('-1', 'NNP'), ('ribosomal', 'JJ'), ('frameshift', 'NN'), ('caused', 'VBN'), ('by', 'IN'), ('a', 'DT'), ('slippery', 'NN'), ('sequence', 'NN'), ('(', '('), ('UUUAAAC', 'NNP'), (')', ')'), ('and', 'CC'), ('a', 'DT'), ('downstream', 'NN'), ('RNA', 'NNP'), ('pseudoknot', 'NN'), ('at', 'IN'), ('the', 'DT'), ('end', 'NN'), ('of', 'IN'), ('open', 'JJ'), ('reading', 'NN'), ('frame', 'NN'), ('ORF1a', 'NNP'), ('.', '.'), ('The', 'DT'), ('ribosomal', 'JJ'), ('frameshift', 'NN'), ('allows', 'VBZ'), ('for', 'IN'), ('the', 'DT'), ('continuous', 'JJ'), ('translation', 'NN'), ('of', 'IN'), ('ORF1a', 'NNP'), ('followed', 'VBN'), ('by', 'IN'), ('ORF1b.The', 'NNP'), ('polyproteins', 'NNS'), ('have', 'VBP'), ('their', 'PRP$'), ('own', 'JJ'), ('proteases', 'NNS'), (',', ','), ('PLpro', 'NNP'), ('(', '('), ('nsp3', 'NN'), (')', ')'), ('and', 'CC'), ('3CLpro', 'CD'), ('(', '('), ('nsp5', 'NN'), (')', ')'), (',', ','), ('which', 'WDT'), ('cleave', 'VBP'), ('the', 'DT'), ('polyproteins', 'NNS'), ('at', 'IN'), ('different', 'JJ'), ('specific', 'JJ'), ('sites', 'NNS'), ('.', '.'), ('The', 'DT'), ('cleavage', 'NN'), ('of', 'IN'), ('polyprotein', 'JJ'), ('pp1ab', 'JJ'), ('yields', 'NNS'), ('16', 'CD'), ('nonstructural', 'JJ'), ('proteins', 'NNS'), ('(', '('), ('nsp1', 'JJ'), ('to', 'TO'), ('nsp16', 'DT'), (')', ')'), ('.', '.'), ('Product', 'NN'), ('proteins', 'VBZ'), ('include', 'VBP'), ('various', 'JJ'), ('replication', 'NN'), ('proteins', 'NNS'), ('such', 'JJ'), ('as', 'IN'), ('RNA-dependent', 'JJ'), ('RNA', 'NNP'), ('polymerase', 'NN'), ('(', '('), ('nsp12', 'JJ'), (')', ')'), (',', ','), ('RNA', 'NNP'), ('helicase', 'NN'), ('(', '('), ('nsp13', 'JJ'), (')', ')'), (',', ','), ('and', 'CC'), ('exoribonuclease', 'NN'), ('(', '('), ('nsp14', 'JJ'), (')', ')'), ('.', '.'), ('====', 'JJ'), ('Replicase-transcriptase', 'NNP'), ('====', 'NN'), ('A', 'NNP'), ('number', 'NN'), ('of', 'IN'), ('the', 'DT'), ('nonstructural', 'JJ'), ('proteins', 'NNS'), ('coalesce', 'VBP'), ('to', 'TO'), ('form', 'VB'), ('a', 'DT'), ('multi-protein', 'JJ'), ('replicase-transcriptase', 'NN'), ('complex', 'NN'), ('.', '.'), ('The', 'DT'), ('main', 'JJ'), ('replicase-transcriptase', 'NN'), ('protein', 'NN'), ('is', 'VBZ'), ('the', 'DT'), ('RNA-dependent', 'JJ'), ('RNA', 'NNP'), ('polymerase', 'NN'), ('(', '('), ('RdRp', 'NNP'), (')', ')'), ('.', '.'), ('It', 'PRP'), ('is', 'VBZ'), ('directly', 'RB'), ('involved', 'VBN'), ('in', 'IN'), ('the', 'DT'), ('replication', 'NN'), ('and', 'CC'), ('transcription', 'NN'), ('of', 'IN'), ('RNA', 'NNP'), ('from', 'IN'), ('an', 'DT'), ('RNA', 'NNP'), ('strand', 'NN'), ('.', '.'), ('The', 'DT'), ('other', 'JJ'), ('nonstructural', 'JJ'), ('proteins', 'NNS'), ('in', 'IN'), ('the', 'DT'), ('complex', 'JJ'), ('assist', 'NN'), ('in', 'IN'), ('the', 'DT'), ('replication', 'NN'), ('and', 'CC'), ('transcription', 'NN'), ('process', 'NN'), ('.', '.'), ('The', 'DT'), ('exoribonuclease', 'JJ'), ('nonstructural', 'JJ'), ('protein', 'NN'), (',', ','), ('for', 'IN'), ('instance', 'NN'), (',', ','), ('provides', 'VBZ'), ('extra', 'JJ'), ('fidelity', 'NN'), ('to', 'TO'), ('replication', 'NN'), ('by', 'IN'), ('providing', 'VBG'), ('a', 'DT'), ('proofreading', 'NN'), ('function', 'NN'), ('which', 'WDT'), ('the', 'DT'), ('RNA-dependent', 'NNP'), ('RNA', 'NNP'), ('polymerase', 'NN'), ('lacks.Replication', 'NN'), ('–', 'NNP'), ('One', 'CD'), ('of', 'IN'), ('the', 'DT'), ('main', 'JJ'), ('functions', 'NNS'), ('of', 'IN'), ('the', 'DT'), ('complex', 'NN'), ('is', 'VBZ'), ('to', 'TO'), ('replicate', 'VB'), ('the', 'DT'), ('viral', 'JJ'), ('genome', 'NN'), ('.', '.'), ('RdRp', 'NNP'), ('directly', 'RB'), ('mediates', 'VBZ'), ('the', 'DT'), ('synthesis', 'NN'), ('of', 'IN'), ('negative-sense', 'JJ'), ('genomic', 'JJ'), ('RNA', 'NN'), ('from', 'IN'), ('the', 'DT'), ('positive-sense', 'JJ'), ('genomic', 'JJ'), ('RNA', 'NNP'), ('.', '.'), ('This', 'DT'), ('is', 'VBZ'), ('followed', 'VBN'), ('by', 'IN'), ('the', 'DT'), ('replication', 'NN'), ('of', 'IN'), ('positive-sense', 'JJ'), ('genomic', 'JJ'), ('RNA', 'NN'), ('from', 'IN'), ('the', 'DT'), ('negative-sense', 'JJ'), ('genomic', 'JJ'), ('RNA', 'NNP'), ('.', '.'), ('Transcription', 'NNP'), ('–', 'IN'), ('The', 'DT'), ('other', 'JJ'), ('important', 'JJ'), ('function', 'NN'), ('of', 'IN'), ('the', 'DT'), ('complex', 'NN'), ('is', 'VBZ'), ('to', 'TO'), ('transcribe', 'VB'), ('the', 'DT'), ('viral', 'JJ'), ('genome', 'NN'), ('.', '.'), ('RdRp', 'NNP'), ('directly', 'RB'), ('mediates', 'VBZ'), ('the', 'DT'), ('synthesis', 'NN'), ('of', 'IN'), ('negative-sense', 'JJ'), ('subgenomic', 'JJ'), ('RNA', 'NNP'), ('molecules', 'NNS'), ('from', 'IN'), ('the', 'DT'), ('positive-sense', 'JJ'), ('genomic', 'JJ'), ('RNA', 'NNP'), ('.', '.'), ('This', 'DT'), ('process', 'NN'), ('is', 'VBZ'), ('followed', 'VBN'), ('by', 'IN'), ('the', 'DT'), ('transcription', 'NN'), ('of', 'IN'), ('these', 'DT'), ('negative-sense', 'JJ'), ('subgenomic', 'NN'), ('RNA', 'NNP'), ('molecules', 'NNS'), ('to', 'TO'), ('their', 'PRP$'), ('corresponding', 'JJ'), ('positive-sense', 'JJ'), ('mRNAs', 'NN'), ('.', '.'), ('The', 'DT'), ('subgenomic', 'JJ'), ('mRNAs', 'NN'), ('form', 'NN'), ('a', 'DT'), ('``', '``'), ('nested', 'JJ'), ('set', 'NN'), (\"''\", \"''\"), ('which', 'WDT'), ('have', 'VBP'), ('a', 'DT'), ('common', 'JJ'), (\"5'-head\", 'JJ'), ('and', 'CC'), ('partially', 'RB'), ('duplicate', 'VB'), (\"3'-end.Recombination\", 'JJ'), ('–', 'IN'), ('The', 'DT'), ('replicase-transcriptase', 'NN'), ('complex', 'NN'), ('is', 'VBZ'), ('also', 'RB'), ('capable', 'JJ'), ('of', 'IN'), ('genetic', 'JJ'), ('recombination', 'NN'), ('when', 'WRB'), ('at', 'IN'), ('least', 'JJS'), ('two', 'CD'), ('viral', 'JJ'), ('genomes', 'NNS'), ('are', 'VBP'), ('present', 'JJ'), ('in', 'IN'), ('the', 'DT'), ('same', 'JJ'), ('infected', 'VBN'), ('cell', 'NN'), ('.', '.'), ('RNA', 'NNP'), ('recombination', 'NN'), ('appears', 'VBZ'), ('to', 'TO'), ('be', 'VB'), ('a', 'DT'), ('major', 'JJ'), ('driving', 'VBG'), ('force', 'NN'), ('in', 'IN'), ('determining', 'VBG'), ('genetic', 'JJ'), ('variability', 'NN'), ('within', 'IN'), ('a', 'DT'), ('coronavirus', 'NN'), ('species', 'NNS'), (',', ','), ('the', 'DT'), ('capability', 'NN'), ('of', 'IN'), ('a', 'DT'), ('coronavirus', 'NN'), ('species', 'NNS'), ('to', 'TO'), ('jump', 'VB'), ('from', 'IN'), ('one', 'CD'), ('host', 'NN'), ('to', 'TO'), ('another', 'DT'), ('and', 'CC'), (',', ','), ('infrequently', 'RB'), (',', ','), ('in', 'IN'), ('determining', 'VBG'), ('the', 'DT'), ('emergence', 'NN'), ('of', 'IN'), ('novel', 'JJ'), ('coronaviruses', 'NNS'), ('.', '.'), ('The', 'DT'), ('exact', 'JJ'), ('mechanism', 'NN'), ('of', 'IN'), ('recombination', 'NN'), ('in', 'IN'), ('coronaviruses', 'NNS'), ('is', 'VBZ'), ('unclear', 'JJ'), (',', ','), ('but', 'CC'), ('likely', 'JJ'), ('involves', 'NNS'), ('template', 'VBP'), ('switching', 'VBG'), ('during', 'IN'), ('genome', 'JJ'), ('replication', 'NN'), ('.', '.'), ('====', 'NN'), ('Assembly', 'NN'), ('and', 'CC'), ('release', 'NN'), ('====', 'VBP'), ('The', 'DT'), ('replicated', 'JJ'), ('positive-sense', 'JJ'), ('genomic', 'JJ'), ('RNA', 'NNP'), ('becomes', 'VBZ'), ('the', 'DT'), ('genome', 'NN'), ('of', 'IN'), ('the', 'DT'), ('progeny', 'NN'), ('viruses', 'NNS'), ('.', '.'), ('The', 'DT'), ('mRNAs', 'NN'), ('are', 'VBP'), ('gene', 'NN'), ('transcripts', 'NNS'), ('of', 'IN'), ('the', 'DT'), ('last', 'JJ'), ('third', 'NN'), ('of', 'IN'), ('the', 'DT'), ('virus', 'NN'), ('genome', 'NN'), ('after', 'IN'), ('the', 'DT'), ('initial', 'JJ'), ('overlapping', 'VBG'), ('reading', 'NN'), ('frame', 'NN'), ('.', '.'), ('These', 'DT'), ('mRNAs', 'NNS'), ('are', 'VBP'), ('translated', 'VBN'), ('by', 'IN'), ('the', 'DT'), ('host', 'NN'), (\"'s\", 'POS'), ('ribosomes', 'NNS'), ('into', 'IN'), ('the', 'DT'), ('structural', 'JJ'), ('proteins', 'NNS'), ('and', 'CC'), ('a', 'DT'), ('number', 'NN'), ('of', 'IN'), ('accessory', 'JJ'), ('proteins', 'NNS'), ('.', '.'), ('RNA', 'NNP'), ('translation', 'NN'), ('occurs', 'VBZ'), ('inside', 'IN'), ('the', 'DT'), ('endoplasmic', 'JJ'), ('reticulum', 'NN'), ('.', '.'), ('The', 'DT'), ('viral', 'JJ'), ('structural', 'JJ'), ('proteins', 'NNS'), ('S', 'NNP'), (',', ','), ('E', 'NNP'), (',', ','), ('and', 'CC'), ('M', 'NNP'), ('move', 'NN'), ('along', 'IN'), ('the', 'DT'), ('secretory', 'JJ'), ('pathway', 'NN'), ('into', 'IN'), ('the', 'DT'), ('Golgi', 'NNP'), ('intermediate', 'JJ'), ('compartment', 'NN'), ('.', '.'), ('There', 'EX'), (',', ','), ('the', 'DT'), ('M', 'NNP'), ('proteins', 'NNS'), ('direct', 'JJ'), ('most', 'RBS'), ('protein-protein', 'JJ'), ('interactions', 'NNS'), ('required', 'VBN'), ('for', 'IN'), ('assembly', 'NN'), ('of', 'IN'), ('viruses', 'NNS'), ('following', 'VBG'), ('its', 'PRP$'), ('binding', 'VBG'), ('to', 'TO'), ('the', 'DT'), ('nucleocapsid', 'NN'), ('.', '.'), ('Progeny', 'NNP'), ('viruses', 'NNS'), ('are', 'VBP'), ('then', 'RB'), ('released', 'VBN'), ('from', 'IN'), ('the', 'DT'), ('host', 'NN'), ('cell', 'NN'), ('by', 'IN'), ('exocytosis', 'NN'), ('through', 'IN'), ('secretory', 'NN'), ('vesicles', 'NNS'), ('.', '.'), ('Once', 'RB'), ('released', 'VBN'), ('the', 'DT'), ('viruses', 'NNS'), ('can', 'MD'), ('infect', 'VB'), ('other', 'JJ'), ('host', 'NN'), ('cells', 'NNS'), ('.', '.'), ('===', 'JJ'), ('Transmission', 'NNP'), ('===', 'NNP'), ('Infected', 'NNP'), ('carriers', 'NNS'), ('are', 'VBP'), ('able', 'JJ'), ('to', 'TO'), ('shed', 'VB'), ('viruses', 'NNS'), ('into', 'IN'), ('the', 'DT'), ('environment', 'NN'), ('.', '.'), ('The', 'DT'), ('interaction', 'NN'), ('of', 'IN'), ('the', 'DT'), ('coronavirus', 'NN'), ('spike', 'NN'), ('protein', 'NN'), ('with', 'IN'), ('its', 'PRP$'), ('complementary', 'JJ'), ('cell', 'NN'), ('receptor', 'NN'), ('is', 'VBZ'), ('central', 'JJ'), ('in', 'IN'), ('determining', 'VBG'), ('the', 'DT'), ('tissue', 'NN'), ('tropism', 'NN'), (',', ','), ('infectivity', 'NN'), (',', ','), ('and', 'CC'), ('species', 'NNS'), ('range', 'NN'), ('of', 'IN'), ('the', 'DT'), ('released', 'VBN'), ('virus', 'NN'), ('.', '.'), ('Coronaviruses', 'VBZ'), ('mainly', 'RB'), ('target', 'VB'), ('epithelial', 'JJ'), ('cells', 'NNS'), ('.', '.'), ('They', 'PRP'), ('are', 'VBP'), ('transmitted', 'VBN'), ('from', 'IN'), ('one', 'CD'), ('host', 'NN'), ('to', 'TO'), ('another', 'DT'), ('host', 'NN'), (',', ','), ('depending', 'VBG'), ('on', 'IN'), ('the', 'DT'), ('coronavirus', 'NN'), ('species', 'NNS'), (',', ','), ('by', 'IN'), ('either', 'DT'), ('an', 'DT'), ('aerosol', 'NN'), (',', ','), ('fomite', 'NN'), (',', ','), ('or', 'CC'), ('fecal-oral', 'JJ'), ('route.Human', 'NN'), ('coronaviruses', 'NNS'), ('infect', 'VBP'), ('the', 'DT'), ('epithelial', 'JJ'), ('cells', 'NNS'), ('of', 'IN'), ('the', 'DT'), ('respiratory', 'NN'), ('tract', 'NN'), (',', ','), ('while', 'IN'), ('animal', 'JJ'), ('coronaviruses', 'NNS'), ('generally', 'RB'), ('infect', 'VBP'), ('the', 'DT'), ('epithelial', 'JJ'), ('cells', 'NNS'), ('of', 'IN'), ('the', 'DT'), ('digestive', 'JJ'), ('tract', 'NN'), ('.', '.'), ('SARS', 'NNP'), ('coronavirus', 'NN'), (',', ','), ('for', 'IN'), ('example', 'NN'), (',', ','), ('infects', 'VBZ'), ('the', 'DT'), ('human', 'JJ'), ('epithelial', 'JJ'), ('cells', 'NNS'), ('of', 'IN'), ('the', 'DT'), ('lungs', 'NNS'), ('via', 'IN'), ('an', 'DT'), ('aerosol', 'JJ'), ('route', 'NN'), ('by', 'IN'), ('binding', 'VBG'), ('to', 'TO'), ('the', 'DT'), ('angiotensin-converting', 'JJ'), ('enzyme', 'NN'), ('2', 'CD'), ('(', '('), ('ACE2', 'NNP'), (')', ')'), ('receptor', 'NN'), ('.', '.'), ('Transmissible', 'JJ'), ('gastroenteritis', 'NN'), ('coronavirus', 'NN'), ('(', '('), ('TGEV', 'NNP'), (')', ')'), ('infects', 'VBZ'), ('the', 'DT'), ('pig', 'NN'), ('epithelial', 'JJ'), ('cells', 'NNS'), ('of', 'IN'), ('the', 'DT'), ('digestive', 'JJ'), ('tract', 'NN'), ('via', 'IN'), ('a', 'DT'), ('fecal-oral', 'JJ'), ('route', 'NN'), ('by', 'IN'), ('binding', 'VBG'), ('to', 'TO'), ('the', 'DT'), ('alanine', 'JJ'), ('aminopeptidase', 'NN'), ('(', '('), ('APN', 'NNP'), (')', ')'), ('receptor', 'NN'), ('.', '.'), ('==', 'JJ'), ('Classification', 'NNP'), ('==', 'NNP'), ('Coronaviruses', 'NNP'), ('form', 'VBP'), ('the', 'DT'), ('subfamily', 'JJ'), ('Orthocoronavirinae', 'NNP'), (',', ','), ('which', 'WDT'), ('is', 'VBZ'), ('one', 'CD'), ('of', 'IN'), ('two', 'CD'), ('sub-families', 'NNS'), ('in', 'IN'), ('the', 'DT'), ('family', 'NN'), ('Coronaviridae', 'NNP'), (',', ','), ('order', 'NN'), ('Nidovirales', 'NNP'), (',', ','), ('and', 'CC'), ('realm', 'JJ'), ('Riboviria', 'NNP'), ('.', '.'), ('They', 'PRP'), ('are', 'VBP'), ('divided', 'VBN'), ('into', 'IN'), ('the', 'DT'), ('four', 'CD'), ('genera', 'NN'), (':', ':'), ('Alphacoronavirus', 'NNP'), (',', ','), ('Betacoronavirus', 'NNP'), (',', ','), ('Gammacoronavirus', 'NNP'), ('and', 'CC'), ('Deltacoronavirus', 'NNP'), ('.', '.'), ('Alphacoronaviruses', 'NNS'), ('and', 'CC'), ('betacoronaviruses', 'NNS'), ('infect', 'VBP'), ('mammals', 'NNS'), (',', ','), ('while', 'IN'), ('gammacoronaviruses', 'NNS'), ('and', 'CC'), ('deltacoronaviruses', 'NNS'), ('primarily', 'RB'), ('infect', 'VBP'), ('birds', 'NNS'), ('.', '.'), ('Genus', 'NN'), (':', ':'), ('Alphacoronavirus', 'NNP'), (';', ':'), ('type', 'JJ'), ('species', 'NNS'), (':', ':'), ('Alphacoronavirus', '$'), ('1', 'CD'), ('Species', 'NNS'), (':', ':'), ('Alphacoronavirus', '$'), ('1', 'CD'), ('(', '('), ('TGEV', 'NNP'), (',', ','), ('Feline', 'NNP'), ('coronavirus', 'NN'), (',', ','), ('Canine', 'NNP'), ('coronavirus', 'NN'), (')', ')'), (',', ','), ('Human', 'NNP'), ('coronavirus', 'VBZ'), ('229E', 'CD'), (',', ','), ('Human', 'NNP'), ('coronavirus', 'NN'), ('NL63', 'NNP'), (',', ','), ('Miniopterus', 'NNP'), ('bat', 'NN'), ('coronavirus', 'NN'), ('1', 'CD'), (',', ','), ('Miniopterus', 'NNP'), ('bat', 'NN'), ('coronavirus', 'NN'), ('HKU8', 'NNP'), (',', ','), ('Porcine', 'NNP'), ('epidemic', 'VBP'), ('diarrhea', 'NN'), ('virus', 'NN'), (',', ','), ('Rhinolophus', 'NNP'), ('bat', 'NN'), ('coronavirus', 'NN'), ('HKU2', 'NNP'), (',', ','), ('Scotophilus', 'NNP'), ('bat', 'NN'), ('coronavirus', 'NN'), ('512', 'CD'), ('Genus', 'NNP'), ('Betacoronavirus', 'NNP'), (';', ':'), ('type', 'JJ'), ('species', 'NNS'), (':', ':'), ('Murine', 'NNP'), ('coronavirus', 'NN'), ('(', '('), ('MHV', 'NNP'), (')', ')'), ('Species', 'NNPS'), (':', ':'), ('Betacoronavirus', 'VB'), ('1', 'CD'), ('(', '('), ('Bovine', 'NNP'), ('Coronavirus', 'NNP'), (',', ','), ('Human', 'NNP'), ('coronavirus', 'VBZ'), ('OC43', 'NNP'), (')', ')'), (',', ','), ('Hedgehog', 'NNP'), ('coronavirus', 'NN'), ('1', 'CD'), (',', ','), ('Human', 'NNP'), ('coronavirus', 'NN'), ('HKU1', 'NNP'), (',', ','), ('Middle', 'NNP'), ('East', 'NNP'), ('respiratory', 'JJ'), ('syndrome-related', 'JJ'), ('coronavirus', 'NN'), (',', ','), ('Murine', 'NNP'), ('coronavirus', 'NN'), (',', ','), ('Pipistrellus', 'NNP'), ('bat', 'NN'), ('coronavirus', 'NN'), ('HKU5', 'NNP'), (',', ','), ('Rousettus', 'NNP'), ('bat', 'NN'), ('coronavirus', 'NN'), ('HKU9', 'NNP'), (',', ','), ('Severe', 'NNP'), ('acute', 'VBZ'), ('respiratory', 'JJ'), ('syndrome-related', 'JJ'), ('coronavirus', 'NN'), ('(', '('), ('SARS-CoV', 'NNP'), (',', ','), ('SARS-CoV-2', 'NNP'), (')', ')'), (',', ','), ('Tylonycteris', 'NNP'), ('bat', 'NN'), ('coronavirus', 'NN'), ('HKU4', 'NNP'), ('Genus', 'NNP'), ('Gammacoronavirus', 'NNP'), (';', ':'), ('type', 'JJ'), ('species', 'NNS'), (':', ':'), ('Avian', 'JJ'), ('coronavirus', 'NN'), ('(', '('), ('IBV', 'NNP'), (')', ')'), ('Species', 'NNPS'), (':', ':'), ('Avian', 'JJ'), ('coronavirus', 'NN'), (',', ','), ('Beluga', 'NNP'), ('whale', 'NN'), ('coronavirus', 'NN'), ('SW1', 'NNP'), ('Genus', 'NNP'), ('Deltacoronavirus', 'NNP'), (';', ':'), ('type', 'JJ'), ('species', 'NNS'), (':', ':'), ('Bulbul', 'NNP'), ('coronavirus', 'NN'), ('HKU11', 'NNP'), ('Species', 'NNS'), (':', ':'), ('Bulbul', 'NNP'), ('coronavirus', 'NN'), ('HKU11', 'NNP'), (',', ','), ('Porcine', 'NNP'), ('coronavirus', 'NN'), ('HKU15', 'NNP'), ('==', 'NNP'), ('Origin', 'NNP'), ('==', 'VBZ'), ('The', 'DT'), ('most', 'RBS'), ('recent', 'JJ'), ('common', 'JJ'), ('ancestor', 'NN'), ('(', '('), ('MRCA', 'NNP'), (')', ')'), ('of', 'IN'), ('all', 'DT'), ('coronaviruses', 'NNS'), ('is', 'VBZ'), ('estimated', 'VBN'), ('to', 'TO'), ('have', 'VB'), ('existed', 'VBN'), ('as', 'RB'), ('recently', 'RB'), ('as', 'IN'), ('8000', 'CD'), ('BCE', 'NNP'), (',', ','), ('although', 'IN'), ('some', 'DT'), ('models', 'NNS'), ('place', 'VBP'), ('the', 'DT'), ('common', 'JJ'), ('ancestor', 'NN'), ('as', 'IN'), ('far', 'RB'), ('back', 'RB'), ('as', 'IN'), ('55', 'CD'), ('million', 'CD'), ('years', 'NNS'), ('or', 'CC'), ('more', 'JJR'), (',', ','), ('implying', 'VBG'), ('long', 'JJ'), ('term', 'NN'), ('coevolution', 'NN'), ('with', 'IN'), ('bat', 'NN'), ('and', 'CC'), ('avian', 'JJ'), ('species', 'NNS'), ('.', '.'), ('The', 'DT'), ('most', 'RBS'), ('recent', 'JJ'), ('common', 'JJ'), ('ancestor', 'NN'), ('of', 'IN'), ('the', 'DT'), ('alphacoronavirus', 'NN'), ('line', 'NN'), ('has', 'VBZ'), ('been', 'VBN'), ('placed', 'VBN'), ('at', 'IN'), ('about', 'IN'), ('2400', 'CD'), ('BCE', 'NNP'), (',', ','), ('of', 'IN'), ('the', 'DT'), ('betacoronavirus', 'NN'), ('line', 'NN'), ('at', 'IN'), ('3300', 'CD'), ('BCE', 'NNP'), (',', ','), ('of', 'IN'), ('the', 'DT'), ('gammacoronavirus', 'NN'), ('line', 'NN'), ('at', 'IN'), ('2800', 'CD'), ('BCE', 'NNP'), (',', ','), ('and', 'CC'), ('of', 'IN'), ('the', 'DT'), ('deltacoronavirus', 'NN'), ('line', 'NN'), ('at', 'IN'), ('about', 'IN'), ('3000', 'CD'), ('BCE', 'NNP'), ('.', '.'), ('Bats', 'NNP'), ('and', 'CC'), ('birds', 'NNS'), (',', ','), ('as', 'IN'), ('warm-blooded', 'JJ'), ('flying', 'VBG'), ('vertebrates', 'NNS'), (',', ','), ('are', 'VBP'), ('an', 'DT'), ('ideal', 'JJ'), ('natural', 'JJ'), ('reservoir', 'NN'), ('for', 'IN'), ('the', 'DT'), ('coronavirus', 'NN'), ('gene', 'NN'), ('pool', 'NN'), ('(', '('), ('with', 'IN'), ('bats', 'PDT'), ('the', 'DT'), ('reservoir', 'NN'), ('for', 'IN'), ('alphacoronaviruses', 'NNS'), ('and', 'CC'), ('betacoronavirus', 'NN'), ('–', 'NN'), ('and', 'CC'), ('birds', 'VB'), ('the', 'DT'), ('reservoir', 'NN'), ('for', 'IN'), ('gammacoronaviruses', 'NNS'), ('and', 'CC'), ('deltacoronaviruses', 'NNS'), (')', ')'), ('.', '.'), ('The', 'DT'), ('large', 'JJ'), ('number', 'NN'), ('and', 'CC'), ('global', 'JJ'), ('range', 'NN'), ('of', 'IN'), ('bat', 'NN'), ('and', 'CC'), ('avian', 'JJ'), ('species', 'NNS'), ('that', 'IN'), ('host', 'NN'), ('viruses', 'NNS'), ('has', 'VBZ'), ('enabled', 'VBN'), ('extensive', 'JJ'), ('evolution', 'NN'), ('and', 'CC'), ('dissemination', 'NN'), ('of', 'IN'), ('coronaviruses.Many', 'JJ'), ('human', 'JJ'), ('coronaviruses', 'NNS'), ('have', 'VBP'), ('their', 'PRP$'), ('origin', 'NN'), ('in', 'IN'), ('bats', 'NNS'), ('.', '.'), ('The', 'DT'), ('human', 'JJ'), ('coronavirus', 'NN'), ('NL63', 'NNP'), ('shared', 'VBD'), ('a', 'DT'), ('common', 'JJ'), ('ancestor', 'NN'), ('with', 'IN'), ('a', 'DT'), ('bat', 'NN'), ('coronavirus', 'NN'), ('(', '('), ('ARCoV.2', 'NNP'), (')', ')'), ('between', 'IN'), ('1190', 'CD'), ('and', 'CC'), ('1449', 'CD'), ('CE', 'NNP'), ('.', '.'), ('The', 'DT'), ('human', 'JJ'), ('coronavirus', 'NN'), ('229E', 'CD'), ('shared', 'VBD'), ('a', 'DT'), ('common', 'JJ'), ('ancestor', 'NN'), ('with', 'IN'), ('a', 'DT'), ('bat', 'NN'), ('coronavirus', 'NN'), ('(', '('), ('GhanaGrp1', 'NNP'), ('Bt', 'NNP'), ('CoV', 'NNP'), (')', ')'), ('between', 'IN'), ('1686', 'CD'), ('and', 'CC'), ('1800', 'CD'), ('CE', 'NNP'), ('.', '.'), ('More', 'RBR'), ('recently', 'RB'), (',', ','), ('alpaca', 'JJ'), ('coronavirus', 'NN'), ('and', 'CC'), ('human', 'JJ'), ('coronavirus', 'NN'), ('229E', 'CD'), ('diverged', 'VBD'), ('sometime', 'RB'), ('before', 'IN'), ('1960', 'CD'), ('.', '.'), ('MERS-CoV', 'NNP'), ('emerged', 'VBD'), ('in', 'IN'), ('humans', 'NNS'), ('from', 'IN'), ('bats', 'NNS'), ('through', 'IN'), ('the', 'DT'), ('intermediate', 'JJ'), ('host', 'NN'), ('of', 'IN'), ('camels', 'NNS'), ('.', '.'), ('MERS-CoV', 'NNP'), (',', ','), ('although', 'IN'), ('related', 'VBN'), ('to', 'TO'), ('several', 'JJ'), ('bat', 'NN'), ('coronavirus', 'NN'), ('species', 'NNS'), (',', ','), ('appears', 'VBZ'), ('to', 'TO'), ('have', 'VB'), ('diverged', 'VBN'), ('from', 'IN'), ('these', 'DT'), ('several', 'JJ'), ('centuries', 'NNS'), ('ago', 'RB'), ('.', '.'), ('The', 'DT'), ('most', 'RBS'), ('closely', 'RB'), ('related', 'JJ'), ('bat', 'NN'), ('coronavirus', 'NN'), ('and', 'CC'), ('SARS-CoV', 'NNP'), ('diverged', 'VBD'), ('in', 'IN'), ('1986', 'CD'), ('.', '.'), ('The', 'DT'), ('ancestors', 'NNS'), ('of', 'IN'), ('SARS-CoV', 'NNP'), ('first', 'RB'), ('infected', 'VBD'), ('leaf-nose', 'JJ'), ('bats', 'NNS'), ('of', 'IN'), ('the', 'DT'), ('genus', 'NN'), ('Hipposideridae', 'NNP'), (';', ':'), ('subsequently', 'RB'), (',', ','), ('they', 'PRP'), ('spread', 'VBP'), ('to', 'TO'), ('horseshoe', 'VB'), ('bats', 'NNS'), ('in', 'IN'), ('the', 'DT'), ('species', 'NNS'), ('Rhinolophidae', 'NNP'), (',', ','), ('then', 'RB'), ('to', 'TO'), ('Asian', 'NNP'), ('palm', 'NN'), ('civets', 'NNS'), (',', ','), ('and', 'CC'), ('finally', 'RB'), ('to', 'TO'), ('humans.Unlike', 'VB'), ('other', 'JJ'), ('betacoronaviruses', 'NNS'), (',', ','), ('bovine', 'JJ'), ('coronavirus', 'NN'), ('of', 'IN'), ('the', 'DT'), ('species', 'NNS'), ('Betacoronavirus', 'NNP'), ('1', 'CD'), ('and', 'CC'), ('subgenus', 'JJR'), ('Embecovirus', 'NNP'), ('is', 'VBZ'), ('thought', 'VBN'), ('to', 'TO'), ('have', 'VB'), ('originated', 'VBN'), ('in', 'IN'), ('rodents', 'NNS'), ('and', 'CC'), ('not', 'RB'), ('in', 'IN'), ('bats', 'NNS'), ('.', '.'), ('In', 'IN'), ('the', 'DT'), ('1790s', 'CD'), (',', ','), ('equine', 'NN'), ('coronavirus', 'NN'), ('diverged', 'VBD'), ('from', 'IN'), ('the', 'DT'), ('bovine', 'NN'), ('coronavirus', 'NN'), ('after', 'IN'), ('a', 'DT'), ('cross-species', 'JJ'), ('jump', 'NN'), ('.', '.'), ('Later', 'RBR'), ('in', 'IN'), ('the', 'DT'), ('1890s', 'CD'), (',', ','), ('human', 'JJ'), ('coronavirus', 'NN'), ('OC43', 'NNP'), ('diverged', 'VBD'), ('from', 'IN'), ('bovine', 'NN'), ('coronavirus', 'NN'), ('after', 'IN'), ('another', 'DT'), ('cross-species', 'NNS'), ('spillover', 'NN'), ('event', 'NN'), ('.', '.'), ('It', 'PRP'), ('is', 'VBZ'), ('speculated', 'VBN'), ('that', 'IN'), ('the', 'DT'), ('flu', 'JJ'), ('pandemic', 'NN'), ('of', 'IN'), ('1890', 'CD'), ('may', 'MD'), ('have', 'VB'), ('been', 'VBN'), ('caused', 'VBN'), ('by', 'IN'), ('this', 'DT'), ('spillover', 'NN'), ('event', 'NN'), (',', ','), ('and', 'CC'), ('not', 'RB'), ('by', 'IN'), ('the', 'DT'), ('influenza', 'NN'), ('virus', 'NN'), (',', ','), ('because', 'IN'), ('of', 'IN'), ('the', 'DT'), ('related', 'JJ'), ('timing', 'NN'), (',', ','), ('neurological', 'JJ'), ('symptoms', 'NNS'), (',', ','), ('and', 'CC'), ('unknown', 'JJ'), ('causative', 'JJ'), ('agent', 'NN'), ('of', 'IN'), ('the', 'DT'), ('pandemic', 'NN'), ('.', '.'), ('Besides', 'IN'), ('causing', 'VBG'), ('respiratory', 'NN'), ('infections', 'NNS'), (',', ','), ('human', 'JJ'), ('coronavirus', 'NN'), ('OC43', 'NNP'), ('is', 'VBZ'), ('also', 'RB'), ('suspected', 'VBN'), ('of', 'IN'), ('playing', 'VBG'), ('a', 'DT'), ('role', 'NN'), ('in', 'IN'), ('neurological', 'JJ'), ('diseases', 'NNS'), ('.', '.'), ('In', 'IN'), ('the', 'DT'), ('1950s', 'CD'), (',', ','), ('the', 'DT'), ('human', 'JJ'), ('coronavirus', 'NN'), ('OC43', 'NNP'), ('began', 'VBD'), ('to', 'TO'), ('diverge', 'VB'), ('into', 'IN'), ('its', 'PRP$'), ('present', 'JJ'), ('genotypes', 'NNS'), ('.', '.'), ('Phylogentically', 'RB'), (',', ','), ('mouse', 'NN'), ('hepatitis', 'NN'), ('virus', 'NN'), ('(', '('), ('Murine', 'NNP'), ('coronavirus', 'NN'), (')', ')'), (',', ','), ('which', 'WDT'), ('infects', 'VBZ'), ('the', 'DT'), ('mouse', 'NN'), (\"'s\", 'POS'), ('liver', 'NN'), ('and', 'CC'), ('central', 'JJ'), ('nervous', 'JJ'), ('system', 'NN'), (',', ','), ('is', 'VBZ'), ('related', 'VBN'), ('to', 'TO'), ('human', 'JJ'), ('coronavirus', 'NN'), ('OC43', 'NNP'), ('and', 'CC'), ('bovine', 'JJ'), ('coronavirus', 'NN'), ('.', '.'), ('Human', 'NNP'), ('coronavirus', 'NN'), ('HKU1', 'NNP'), (',', ','), ('like', 'IN'), ('the', 'DT'), ('aforementioned', 'JJ'), ('viruses', 'NNS'), (',', ','), ('also', 'RB'), ('has', 'VBZ'), ('its', 'PRP$'), ('origins', 'NNS'), ('in', 'IN'), ('rodents', 'NNS'), ('.', '.'), ('==', 'JJ'), ('Infection', 'NNP'), ('in', 'IN'), ('humans', 'NNS'), ('==', 'VBP'), ('Coronaviruses', 'NNP'), ('vary', 'VBP'), ('significantly', 'RB'), ('in', 'IN'), ('risk', 'NN'), ('factor', 'NN'), ('.', '.'), ('Some', 'DT'), ('can', 'MD'), ('kill', 'VB'), ('more', 'JJR'), ('than', 'IN'), ('30', 'CD'), ('%', 'NN'), ('of', 'IN'), ('those', 'DT'), ('infected', 'VBN'), (',', ','), ('such', 'JJ'), ('as', 'IN'), ('MERS-CoV', 'NNP'), (',', ','), ('and', 'CC'), ('some', 'DT'), ('are', 'VBP'), ('relatively', 'RB'), ('harmless', 'JJ'), (',', ','), ('such', 'JJ'), ('as', 'IN'), ('the', 'DT'), ('common', 'JJ'), ('cold', 'NN'), ('.', '.'), ('Coronaviruses', 'NNS'), ('can', 'MD'), ('cause', 'VB'), ('colds', 'NNS'), ('with', 'IN'), ('major', 'JJ'), ('symptoms', 'NNS'), (',', ','), ('such', 'JJ'), ('as', 'IN'), ('fever', 'NN'), (',', ','), ('and', 'CC'), ('a', 'DT'), ('sore', 'NN'), ('throat', 'NN'), ('from', 'IN'), ('swollen', 'JJ'), ('adenoids', 'NNS'), ('.', '.'), ('Coronaviruses', 'NNS'), ('can', 'MD'), ('cause', 'VB'), ('pneumonia', 'NN'), ('(', '('), ('either', 'CC'), ('direct', 'JJ'), ('viral', 'JJ'), ('pneumonia', 'NN'), ('or', 'CC'), ('secondary', 'JJ'), ('bacterial', 'JJ'), ('pneumonia', 'NN'), (')', ')'), ('and', 'CC'), ('bronchitis', 'NN'), ('(', '('), ('either', 'CC'), ('direct', 'JJ'), ('viral', 'JJ'), ('bronchitis', 'NN'), ('or', 'CC'), ('secondary', 'JJ'), ('bacterial', 'JJ'), ('bronchitis', 'NN'), (')', ')'), ('.', '.'), ('The', 'DT'), ('human', 'JJ'), ('coronavirus', 'NN'), ('discovered', 'VBN'), ('in', 'IN'), ('2003', 'CD'), (',', ','), ('SARS-CoV', 'NNP'), (',', ','), ('which', 'WDT'), ('causes', 'VBZ'), ('severe', 'JJ'), ('acute', 'JJ'), ('respiratory', 'NN'), ('syndrome', 'NN'), ('(', '('), ('SARS', 'NNP'), (')', ')'), (',', ','), ('has', 'VBZ'), ('a', 'DT'), ('unique', 'JJ'), ('pathogenesis', 'NN'), ('because', 'IN'), ('it', 'PRP'), ('causes', 'VBZ'), ('both', 'DT'), ('upper', 'JJ'), ('and', 'CC'), ('lower', 'JJR'), ('respiratory', 'NN'), ('tract', 'NN'), ('infections.Six', 'JJ'), ('species', 'NNS'), ('of', 'IN'), ('human', 'JJ'), ('coronaviruses', 'NNS'), ('are', 'VBP'), ('known', 'VBN'), (',', ','), ('with', 'IN'), ('one', 'CD'), ('species', 'NNS'), ('subdivided', 'VBD'), ('into', 'IN'), ('two', 'CD'), ('different', 'JJ'), ('strains', 'NNS'), (',', ','), ('making', 'VBG'), ('seven', 'CD'), ('strains', 'NNS'), ('of', 'IN'), ('human', 'JJ'), ('coronaviruses', 'NNS'), ('altogether', 'RB'), ('.', '.'), ('Four', 'CD'), ('human', 'JJ'), ('coronaviruses', 'NNS'), ('produce', 'VBP'), ('symptoms', 'NNS'), ('that', 'WDT'), ('are', 'VBP'), ('generally', 'RB'), ('mild', 'JJ'), (',', ','), ('even', 'RB'), ('though', 'IN'), ('it', 'PRP'), ('is', 'VBZ'), ('contended', 'VBN'), ('they', 'PRP'), ('might', 'MD'), ('have', 'VB'), ('been', 'VBN'), ('more', 'RBR'), ('aggressive', 'JJ'), ('in', 'IN'), ('the', 'DT'), ('past', 'NN'), (':', ':'), ('Human', 'NNP'), ('coronavirus', 'NN'), ('OC43', 'NNP'), ('(', '('), ('HCoV-OC43', 'NNP'), (')', ')'), (',', ','), ('β-CoV', 'JJ'), ('Human', 'NNP'), ('coronavirus', 'NN'), ('HKU1', 'NNP'), ('(', '('), ('HCoV-HKU1', 'NNP'), (')', ')'), (',', ','), ('β-CoV', 'JJ'), ('Human', 'NNP'), ('coronavirus', 'NN'), ('229E', 'CD'), ('(', '('), ('HCoV-229E', 'NNP'), (')', ')'), (',', ','), ('α-CoV', 'JJ'), ('Human', 'NNP'), ('coronavirus', 'NN'), ('NL63', 'NNP'), ('(', '('), ('HCoV-NL63', 'NNP'), (')', ')'), (',', ','), ('α-CoVThree', 'JJ'), ('human', 'JJ'), ('coronaviruses', 'NNS'), ('produce', 'VBP'), ('symptoms', 'NNS'), ('that', 'WDT'), ('are', 'VBP'), ('potentially', 'RB'), ('severe', 'JJ'), (':', ':'), ('Middle', 'NNP'), ('East', 'NNP'), ('respiratory', 'JJ'), ('syndrome-related', 'JJ'), ('coronavirus', 'NN'), ('(', '('), ('MERS-CoV', 'NNP'), (')', ')'), (',', ','), ('β-CoV', 'JJ'), ('Severe', 'NNP'), ('acute', 'NN'), ('respiratory', 'NN'), ('syndrome', 'JJ'), ('coronavirus', 'NN'), ('(', '('), ('SARS-CoV', 'NNP'), (')', ')'), (',', ','), ('β-CoV', 'JJ'), ('Severe', 'NNP'), ('acute', 'NN'), ('respiratory', 'NN'), ('syndrome', 'JJ'), ('coronavirus', 'NN'), ('2', 'CD'), ('(', '('), ('SARS-CoV-2', 'NNP'), (')', ')'), (',', ','), ('β-CoV', 'JJ'), ('===', 'NN'), ('Common', 'NNP'), ('cold', 'VBD'), ('===', 'RP'), ('The', 'DT'), ('human', 'JJ'), ('coronaviruses', 'VBZ'), ('HCoV-OC43', 'NNP'), (',', ','), ('HCoV-HKU1', 'NNP'), (',', ','), ('HCoV-229E', 'NNP'), (',', ','), ('and', 'CC'), ('HCoV-NL63', 'NNP'), ('continually', 'RB'), ('circulate', 'VBP'), ('in', 'IN'), ('the', 'DT'), ('human', 'JJ'), ('population', 'NN'), ('and', 'CC'), ('produce', 'VBP'), ('the', 'DT'), ('generally', 'RB'), ('mild', 'JJ'), ('symptoms', 'NNS'), ('of', 'IN'), ('the', 'DT'), ('common', 'JJ'), ('cold', 'NN'), ('in', 'IN'), ('adults', 'NNS'), ('and', 'CC'), ('children', 'NNS'), ('worldwide', 'VBP'), ('.', '.'), ('These', 'DT'), ('coronaviruses', 'NNS'), ('cause', 'VBP'), ('about', 'IN'), ('15', 'CD'), ('%', 'NN'), ('of', 'IN'), ('common', 'JJ'), ('colds', 'NNS'), (',', ','), ('while', 'IN'), ('40', 'CD'), ('to', 'TO'), ('50', 'CD'), ('%', 'NN'), ('of', 'IN'), ('colds', 'NNS'), ('are', 'VBP'), ('caused', 'VBN'), ('by', 'IN'), ('rhinoviruses', 'NNS'), ('.', '.'), ('The', 'DT'), ('four', 'CD'), ('mild', 'NN'), ('coronaviruses', 'NNS'), ('have', 'VBP'), ('a', 'DT'), ('seasonal', 'JJ'), ('incidence', 'NN'), ('occurring', 'VBG'), ('in', 'IN'), ('the', 'DT'), ('winter', 'NN'), ('months', 'NNS'), ('in', 'IN'), ('temperate', 'NN'), ('climates', 'NNS'), ('.', '.'), ('There', 'EX'), ('is', 'VBZ'), ('no', 'DT'), ('preponderance', 'NN'), ('in', 'IN'), ('any', 'DT'), ('season', 'NN'), ('in', 'IN'), ('tropical', 'JJ'), ('climates', 'NNS'), ('.', '.'), ('===', 'VB'), ('Severe', 'NNP'), ('acute', 'JJ'), ('respiratory', 'NN'), ('syndrome', 'NN'), ('(', '('), ('SARS', 'NNP'), (')', ')'), ('===', 'NN'), ('In', 'IN'), ('2003', 'CD'), (',', ','), ('following', 'VBG'), ('the', 'DT'), ('outbreak', 'NN'), ('of', 'IN'), ('severe', 'JJ'), ('acute', 'JJ'), ('respiratory', 'NN'), ('syndrome', 'NN'), ('(', '('), ('SARS', 'NNP'), (')', ')'), ('which', 'WDT'), ('had', 'VBD'), ('begun', 'VBN'), ('the', 'DT'), ('prior', 'JJ'), ('year', 'NN'), ('in', 'IN'), ('Asia', 'NNP'), (',', ','), ('and', 'CC'), ('secondary', 'JJ'), ('cases', 'NNS'), ('elsewhere', 'RB'), ('in', 'IN'), ('the', 'DT'), ('world', 'NN'), (',', ','), ('the', 'DT'), ('World', 'NNP'), ('Health', 'NNP'), ('Organization', 'NNP'), ('(', '('), ('WHO', 'NNP'), (')', ')'), ('issued', 'VBD'), ('a', 'DT'), ('press', 'NN'), ('release', 'NN'), ('stating', 'VBG'), ('that', 'IN'), ('a', 'DT'), ('novel', 'JJ'), ('coronavirus', 'NN'), ('identified', 'VBN'), ('by', 'IN'), ('a', 'DT'), ('number', 'NN'), ('of', 'IN'), ('laboratories', 'NNS'), ('was', 'VBD'), ('the', 'DT'), ('causative', 'JJ'), ('agent', 'NN'), ('for', 'IN'), ('SARS', 'NNP'), ('.', '.'), ('The', 'DT'), ('virus', 'NN'), ('was', 'VBD'), ('officially', 'RB'), ('named', 'VBN'), ('the', 'DT'), ('SARS', 'NNP'), ('coronavirus', 'NN'), ('(', '('), ('SARS-CoV', 'NNP'), (')', ')'), ('.', '.'), ('More', 'JJR'), ('than', 'IN'), ('8,000', 'CD'), ('people', 'NNS'), ('from', 'IN'), ('29', 'CD'), ('different', 'JJ'), ('countries', 'NNS'), ('and', 'CC'), ('territories', 'NNS'), ('were', 'VBD'), ('infected', 'VBN'), (',', ','), ('and', 'CC'), ('at', 'IN'), ('least', 'JJS'), ('774', 'CD'), ('died', 'VBD'), ('.', '.'), ('===', 'VB'), ('Middle', 'NNP'), ('East', 'NNP'), ('respiratory', 'NN'), ('syndrome', 'NN'), ('(', '('), ('MERS', 'NNP'), (')', ')'), ('===', 'NN'), ('In', 'IN'), ('September', 'NNP'), ('2012', 'CD'), (',', ','), ('a', 'DT'), ('new', 'JJ'), ('type', 'NN'), ('of', 'IN'), ('coronavirus', 'NN'), ('was', 'VBD'), ('identified', 'VBN'), (',', ','), ('initially', 'RB'), ('called', 'VBD'), ('Novel', 'NNP'), ('Coronavirus', 'NNP'), ('2012', 'CD'), (',', ','), ('and', 'CC'), ('now', 'RB'), ('officially', 'RB'), ('named', 'VBN'), ('Middle', 'NNP'), ('East', 'NNP'), ('respiratory', 'JJ'), ('syndrome', 'NN'), ('coronavirus', 'NN'), ('(', '('), ('MERS-CoV', 'NNP'), (')', ')'), ('.', '.'), ('The', 'DT'), ('World', 'NNP'), ('Health', 'NNP'), ('Organization', 'NNP'), ('issued', 'VBD'), ('a', 'DT'), ('global', 'JJ'), ('alert', 'NN'), ('soon', 'RB'), ('after', 'IN'), ('.', '.'), ('The', 'DT'), ('WHO', 'NNP'), ('update', 'VBP'), ('on', 'IN'), ('28', 'CD'), ('September', 'NNP'), ('2012', 'CD'), ('said', 'VBD'), ('the', 'DT'), ('virus', 'NN'), ('did', 'VBD'), ('not', 'RB'), ('seem', 'VB'), ('to', 'TO'), ('pass', 'VB'), ('easily', 'RB'), ('from', 'IN'), ('person', 'NN'), ('to', 'TO'), ('person', 'NN'), ('.', '.'), ('However', 'RB'), (',', ','), ('on', 'IN'), ('12', 'CD'), ('May', 'NNP'), ('2013', 'CD'), (',', ','), ('a', 'DT'), ('case', 'NN'), ('of', 'IN'), ('human-to-human', 'JJ'), ('transmission', 'NN'), ('in', 'IN'), ('France', 'NNP'), ('was', 'VBD'), ('confirmed', 'VBN'), ('by', 'IN'), ('the', 'DT'), ('French', 'JJ'), ('Ministry', 'NNP'), ('of', 'IN'), ('Social', 'NNP'), ('Affairs', 'NNPS'), ('and', 'CC'), ('Health', 'NNP'), ('.', '.'), ('In', 'IN'), ('addition', 'NN'), (',', ','), ('cases', 'NNS'), ('of', 'IN'), ('human-to-human', 'JJ'), ('transmission', 'NN'), ('were', 'VBD'), ('reported', 'VBN'), ('by', 'IN'), ('the', 'DT'), ('Ministry', 'NNP'), ('of', 'IN'), ('Health', 'NNP'), ('in', 'IN'), ('Tunisia', 'NNP'), ('.', '.'), ('Two', 'CD'), ('confirmed', 'JJ'), ('cases', 'NNS'), ('involved', 'VBN'), ('people', 'NNS'), ('who', 'WP'), ('seemed', 'VBD'), ('to', 'TO'), ('have', 'VB'), ('caught', 'VBN'), ('the', 'DT'), ('disease', 'NN'), ('from', 'IN'), ('their', 'PRP$'), ('late', 'JJ'), ('father', 'NN'), (',', ','), ('who', 'WP'), ('became', 'VBD'), ('ill', 'RB'), ('after', 'IN'), ('a', 'DT'), ('visit', 'NN'), ('to', 'TO'), ('Qatar', 'NNP'), ('and', 'CC'), ('Saudi', 'NNP'), ('Arabia', 'NNP'), ('.', '.'), ('Despite', 'IN'), ('this', 'DT'), (',', ','), ('it', 'PRP'), ('appears', 'VBZ'), ('the', 'DT'), ('virus', 'NN'), ('had', 'VBD'), ('trouble', 'NN'), ('spreading', 'VBG'), ('from', 'IN'), ('human', 'JJ'), ('to', 'TO'), ('human', 'JJ'), (',', ','), ('as', 'IN'), ('most', 'JJS'), ('individuals', 'NNS'), ('who', 'WP'), ('are', 'VBP'), ('infected', 'VBN'), ('do', 'VBP'), ('not', 'RB'), ('transmit', 'VB'), ('the', 'DT'), ('virus', 'NN'), ('.', '.'), ('By', 'IN'), ('30', 'CD'), ('October', 'NNP'), ('2013', 'CD'), (',', ','), ('there', 'EX'), ('were', 'VBD'), ('124', 'CD'), ('cases', 'NNS'), ('and', 'CC'), ('52', 'CD'), ('deaths', 'NNS'), ('in', 'IN'), ('Saudi', 'NNP'), ('Arabia.After', 'NNP'), ('the', 'DT'), ('Dutch', 'NNP'), ('Erasmus', 'NNP'), ('Medical', 'NNP'), ('Centre', 'NNP'), ('sequenced', 'VBD'), ('the', 'DT'), ('virus', 'NN'), (',', ','), ('the', 'DT'), ('virus', 'NN'), ('was', 'VBD'), ('given', 'VBN'), ('a', 'DT'), ('new', 'JJ'), ('name', 'NN'), (',', ','), ('Human', 'NNP'), ('Coronavirus—Erasmus', 'NNP'), ('Medical', 'NNP'), ('Centre', 'NNP'), ('(', '('), ('HCoV-EMC', 'NNP'), (')', ')'), ('.', '.'), ('The', 'DT'), ('final', 'JJ'), ('name', 'NN'), ('for', 'IN'), ('the', 'DT'), ('virus', 'NN'), ('is', 'VBZ'), ('Middle', 'NNP'), ('East', 'NNP'), ('respiratory', 'JJ'), ('syndrome', 'NN'), ('coronavirus', 'NN'), ('(', '('), ('MERS-CoV', 'NNP'), (')', ')'), ('.', '.'), ('The', 'DT'), ('only', 'JJ'), ('U.S.', 'NNP'), ('cases', 'NNS'), ('(', '('), ('both', 'DT'), ('survived', 'VBN'), (')', ')'), ('were', 'VBD'), ('recorded', 'VBN'), ('in', 'IN'), ('May', 'NNP'), ('2014.In', 'CD'), ('May', 'NNP'), ('2015', 'CD'), (',', ','), ('an', 'DT'), ('outbreak', 'NN'), ('of', 'IN'), ('MERS-CoV', 'NNP'), ('occurred', 'VBD'), ('in', 'IN'), ('the', 'DT'), ('Republic', 'NNP'), ('of', 'IN'), ('Korea', 'NNP'), (',', ','), ('when', 'WRB'), ('a', 'DT'), ('man', 'NN'), ('who', 'WP'), ('had', 'VBD'), ('traveled', 'VBN'), ('to', 'TO'), ('the', 'DT'), ('Middle', 'NNP'), ('East', 'NNP'), (',', ','), ('visited', 'VBD'), ('four', 'CD'), ('hospitals', 'NNS'), ('in', 'IN'), ('the', 'DT'), ('Seoul', 'NNP'), ('area', 'NN'), ('to', 'TO'), ('treat', 'VB'), ('his', 'PRP$'), ('illness', 'NN'), ('.', '.'), ('This', 'DT'), ('caused', 'VBD'), ('one', 'CD'), ('of', 'IN'), ('the', 'DT'), ('largest', 'JJS'), ('outbreaks', 'NNS'), ('of', 'IN'), ('MERS-CoV', 'NNP'), ('outside', 'IN'), ('the', 'DT'), ('Middle', 'NNP'), ('East', 'NNP'), ('.', '.'), ('As', 'IN'), ('of', 'IN'), ('December', 'NNP'), ('2019', 'CD'), (',', ','), ('2,468', 'CD'), ('cases', 'NNS'), ('of', 'IN'), ('MERS-CoV', 'NNP'), ('infection', 'NN'), ('had', 'VBD'), ('been', 'VBN'), ('confirmed', 'VBN'), ('by', 'IN'), ('laboratory', 'NN'), ('tests', 'NNS'), (',', ','), ('851', 'CD'), ('of', 'IN'), ('which', 'WDT'), ('were', 'VBD'), ('fatal', 'JJ'), (',', ','), ('a', 'DT'), ('mortality', 'NN'), ('rate', 'NN'), ('of', 'IN'), ('approximately', 'RB'), ('34.5', 'CD'), ('%', 'NN'), ('.', '.'), ('===', 'CC'), ('Coronavirus', 'NNP'), ('disease', 'NN'), ('2019', 'CD'), ('(', '('), ('COVID-19', 'NNP'), (')', ')'), ('===', 'NN'), ('In', 'IN'), ('December', 'NNP'), ('2019', 'CD'), (',', ','), ('a', 'DT'), ('pneumonia', 'NN'), ('outbreak', 'NN'), ('was', 'VBD'), ('reported', 'VBN'), ('in', 'IN'), ('Wuhan', 'NNP'), (',', ','), ('China', 'NNP'), ('.', '.'), ('On', 'IN'), ('31', 'CD'), ('December', 'NNP'), ('2019', 'CD'), (',', ','), ('the', 'DT'), ('outbreak', 'NN'), ('was', 'VBD'), ('traced', 'VBN'), ('to', 'TO'), ('a', 'DT'), ('novel', 'JJ'), ('strain', 'NN'), ('of', 'IN'), ('coronavirus', 'NN'), (',', ','), ('which', 'WDT'), ('was', 'VBD'), ('given', 'VBN'), ('the', 'DT'), ('interim', 'JJ'), ('name', 'NN'), ('2019-nCoV', 'JJ'), ('by', 'IN'), ('the', 'DT'), ('World', 'NNP'), ('Health', 'NNP'), ('Organization', 'NNP'), ('(', '('), ('WHO', 'NNP'), (')', ')'), (',', ','), ('later', 'RB'), ('renamed', 'VBN'), ('SARS-CoV-2', 'NNP'), ('by', 'IN'), ('the', 'DT'), ('International', 'NNP'), ('Committee', 'NNP'), ('on', 'IN'), ('Taxonomy', 'NNP'), ('of', 'IN'), ('Viruses', 'NNP'), ('.', '.'), ('As', 'IN'), ('of', 'IN'), ('20', 'CD'), ('February', 'NNP'), ('2021', 'CD'), (',', ','), ('there', 'EX'), ('have', 'VBP'), ('been', 'VBN'), ('at', 'IN'), ('least', 'JJS'), ('2,453,381', 'CD'), ('confirmed', 'JJ'), ('deaths', 'NNS'), ('and', 'CC'), ('more', 'JJR'), ('than', 'IN'), ('110,770,701', 'CD'), ('confirmed', 'JJ'), ('cases', 'NNS'), ('in', 'IN'), ('the', 'DT'), ('COVID-19', 'NNP'), ('pandemic', 'NN'), ('.', '.'), ('The', 'DT'), ('Wuhan', 'NNP'), ('strain', 'NN'), ('has', 'VBZ'), ('been', 'VBN'), ('identified', 'VBN'), ('as', 'IN'), ('a', 'DT'), ('new', 'JJ'), ('strain', 'NN'), ('of', 'IN'), ('Betacoronavirus', 'NNP'), ('from', 'IN'), ('group', 'NN'), ('2B', 'CD'), ('with', 'IN'), ('approximately', 'RB'), ('70', 'CD'), ('%', 'NN'), ('genetic', 'JJ'), ('similarity', 'NN'), ('to', 'TO'), ('the', 'DT'), ('SARS-CoV', 'NNP'), ('.', '.'), ('The', 'DT'), ('virus', 'NN'), ('has', 'VBZ'), ('a', 'DT'), ('96', 'CD'), ('%', 'NN'), ('similarity', 'NN'), ('to', 'TO'), ('a', 'DT'), ('bat', 'NN'), ('coronavirus', 'NN'), (',', ','), ('so', 'IN'), ('it', 'PRP'), ('is', 'VBZ'), ('widely', 'RB'), ('suspected', 'VBN'), ('to', 'TO'), ('originate', 'VB'), ('from', 'IN'), ('bats', 'NNS'), ('as', 'RB'), ('well', 'RB'), ('.', '.'), ('The', 'DT'), ('pandemic', 'NN'), ('has', 'VBZ'), ('resulted', 'VBN'), ('in', 'IN'), ('travel', 'NN'), ('restrictions', 'NNS'), ('and', 'CC'), ('nationwide', 'JJ'), ('lockdowns', 'NNS'), ('in', 'IN'), ('many', 'JJ'), ('countries', 'NNS'), ('.', '.'), ('==', 'JJ'), ('Infection', 'NNP'), ('in', 'IN'), ('animals', 'NNS'), ('==', 'VBP'), ('Coronaviruses', 'NNS'), ('have', 'VBP'), ('been', 'VBN'), ('recognized', 'VBN'), ('as', 'IN'), ('causing', 'VBG'), ('pathological', 'JJ'), ('conditions', 'NNS'), ('in', 'IN'), ('veterinary', 'JJ'), ('medicine', 'NN'), ('since', 'IN'), ('the', 'DT'), ('1930s', 'CD'), ('.', '.'), ('They', 'PRP'), ('infect', 'VBP'), ('a', 'DT'), ('range', 'NN'), ('of', 'IN'), ('animals', 'NNS'), ('including', 'VBG'), ('swine', 'NN'), (',', ','), ('cattle', 'NNS'), (',', ','), ('horses', 'NNS'), (',', ','), ('camels', 'NNS'), (',', ','), ('cats', 'NNS'), (',', ','), ('dogs', 'NNS'), (',', ','), ('rodents', 'NNS'), (',', ','), ('birds', 'NNS'), ('and', 'CC'), ('bats', 'NNS'), ('.', '.'), ('The', 'DT'), ('majority', 'NN'), ('of', 'IN'), ('animal', 'NN'), ('related', 'VBN'), ('coronaviruses', 'NNS'), ('infect', 'VBP'), ('the', 'DT'), ('intestinal', 'JJ'), ('tract', 'NN'), ('and', 'CC'), ('are', 'VBP'), ('transmitted', 'VBN'), ('by', 'IN'), ('a', 'DT'), ('fecal-oral', 'JJ'), ('route', 'NN'), ('.', '.'), ('Significant', 'NNP'), ('research', 'NN'), ('efforts', 'NNS'), ('have', 'VBP'), ('been', 'VBN'), ('focused', 'VBN'), ('on', 'IN'), ('elucidating', 'VBG'), ('the', 'DT'), ('viral', 'JJ'), ('pathogenesis', 'NN'), ('of', 'IN'), ('these', 'DT'), ('animal', 'JJ'), ('coronaviruses', 'NNS'), (',', ','), ('especially', 'RB'), ('by', 'IN'), ('virologists', 'NNS'), ('interested', 'JJ'), ('in', 'IN'), ('veterinary', 'JJ'), ('and', 'CC'), ('zoonotic', 'JJ'), ('diseases', 'NNS'), ('.', '.'), ('===', 'NN'), ('Farm', 'NN'), ('animals', 'NNS'), ('===', 'VBP'), ('Coronaviruses', 'NNS'), ('infect', 'VBP'), ('domesticated', 'VBN'), ('birds', 'NNS'), ('.', '.'), ('Infectious', 'JJ'), ('bronchitis', 'NN'), ('virus', 'NN'), ('(', '('), ('IBV', 'NNP'), (')', ')'), (',', ','), ('a', 'DT'), ('type', 'NN'), ('of', 'IN'), ('coronavirus', 'NN'), (',', ','), ('causes', 'VBZ'), ('avian', 'JJ'), ('infectious', 'JJ'), ('bronchitis', 'NN'), ('.', '.'), ('The', 'DT'), ('virus', 'NN'), ('is', 'VBZ'), ('of', 'IN'), ('concern', 'NN'), ('to', 'TO'), ('the', 'DT'), ('poultry', 'NN'), ('industry', 'NN'), ('because', 'IN'), ('of', 'IN'), ('the', 'DT'), ('high', 'JJ'), ('mortality', 'NN'), ('from', 'IN'), ('infection', 'NN'), (',', ','), ('its', 'PRP$'), ('rapid', 'JJ'), ('spread', 'NN'), (',', ','), ('and', 'CC'), ('its', 'PRP$'), ('effect', 'NN'), ('on', 'IN'), ('production', 'NN'), ('.', '.'), ('The', 'DT'), ('virus', 'NN'), ('affects', 'VBZ'), ('both', 'DT'), ('meat', 'NN'), ('production', 'NN'), ('and', 'CC'), ('egg', 'NN'), ('production', 'NN'), ('and', 'CC'), ('causes', 'VBZ'), ('substantial', 'JJ'), ('economic', 'JJ'), ('loss', 'NN'), ('.', '.'), ('In', 'IN'), ('chickens', 'NNS'), (',', ','), ('infectious', 'JJ'), ('bronchitis', 'NN'), ('virus', 'NN'), ('targets', 'NNS'), ('not', 'RB'), ('only', 'RB'), ('the', 'DT'), ('respiratory', 'NN'), ('tract', 'NN'), ('but', 'CC'), ('also', 'RB'), ('the', 'DT'), ('urogenital', 'JJ'), ('tract', 'NN'), ('.', '.'), ('The', 'DT'), ('virus', 'NN'), ('can', 'MD'), ('spread', 'VB'), ('to', 'TO'), ('different', 'JJ'), ('organs', 'NNS'), ('throughout', 'IN'), ('the', 'DT'), ('chicken', 'NN'), ('.', '.'), ('The', 'DT'), ('virus', 'NN'), ('is', 'VBZ'), ('transmitted', 'VBN'), ('by', 'IN'), ('aerosol', 'NN'), ('and', 'CC'), ('food', 'NN'), ('contaminated', 'VBN'), ('by', 'IN'), ('feces', 'NNS'), ('.', '.'), ('Different', 'NNP'), ('vaccines', 'NNS'), ('against', 'IN'), ('IBV', 'NNP'), ('exist', 'VBP'), ('and', 'CC'), ('have', 'VBP'), ('helped', 'VBN'), ('to', 'TO'), ('limit', 'VB'), ('the', 'DT'), ('spread', 'NN'), ('of', 'IN'), ('the', 'DT'), ('virus', 'NN'), ('and', 'CC'), ('its', 'PRP$'), ('variants', 'NNS'), ('.', '.'), ('Infectious', 'JJ'), ('bronchitis', 'NN'), ('virus', 'NN'), ('is', 'VBZ'), ('one', 'CD'), ('of', 'IN'), ('a', 'DT'), ('number', 'NN'), ('of', 'IN'), ('strains', 'NNS'), ('of', 'IN'), ('the', 'DT'), ('species', 'NNS'), ('Avian', 'NNP'), ('coronavirus', 'NN'), ('.', '.'), ('Another', 'DT'), ('strain', 'NN'), ('of', 'IN'), ('avian', 'JJ'), ('coronavirus', 'NN'), ('is', 'VBZ'), ('turkey', 'JJ'), ('coronavirus', 'NN'), ('(', '('), ('TCV', 'NNP'), (')', ')'), ('which', 'WDT'), ('causes', 'VBZ'), ('enteritis', 'NN'), ('in', 'IN'), ('turkeys.Coronaviruses', 'NNS'), ('also', 'RB'), ('affect', 'VBP'), ('other', 'JJ'), ('branches', 'NNS'), ('of', 'IN'), ('animal', 'JJ'), ('husbandry', 'NNS'), ('such', 'JJ'), ('as', 'IN'), ('pig', 'NN'), ('farming', 'NN'), ('and', 'CC'), ('the', 'DT'), ('cattle', 'NNS'), ('raising', 'VBG'), ('.', '.'), ('Swine', 'NNP'), ('acute', 'JJ'), ('diarrhea', 'NN'), ('syndrome', 'NN'), ('coronavirus', 'NN'), ('(', '('), ('SADS-CoV', 'NNP'), (')', ')'), (',', ','), ('which', 'WDT'), ('is', 'VBZ'), ('related', 'VBN'), ('to', 'TO'), ('bat', 'VB'), ('coronavirus', 'NN'), ('HKU2', 'NNP'), (',', ','), ('causes', 'VBZ'), ('diarrhea', 'NN'), ('in', 'IN'), ('pigs', 'NNS'), ('.', '.'), ('Porcine', 'NNP'), ('epidemic', 'JJ'), ('diarrhea', 'NN'), ('virus', 'NN'), ('(', '('), ('PEDV', 'NNP'), (')', ')'), ('is', 'VBZ'), ('a', 'DT'), ('coronavirus', 'NN'), ('that', 'WDT'), ('has', 'VBZ'), ('recently', 'RB'), ('emerged', 'VBN'), ('and', 'CC'), ('similarly', 'JJ'), ('causes', 'NNS'), ('diarrhea', 'VBP'), ('in', 'IN'), ('pigs', 'NNS'), ('.', '.'), ('Transmissible', 'JJ'), ('gastroenteritis', 'NN'), ('virus', 'NN'), ('(', '('), ('TGEV', 'NNP'), (')', ')'), (',', ','), ('which', 'WDT'), ('is', 'VBZ'), ('a', 'DT'), ('member', 'NN'), ('of', 'IN'), ('the', 'DT'), ('species', 'NNS'), ('Alphacoronavirus', 'NNP'), ('1', 'CD'), (',', ','), ('is', 'VBZ'), ('another', 'DT'), ('coronavirus', 'NN'), ('that', 'WDT'), ('causes', 'VBZ'), ('diarrhea', 'NN'), ('in', 'IN'), ('young', 'JJ'), ('pigs', 'NNS'), ('.', '.'), ('In', 'IN'), ('the', 'DT'), ('cattle', 'NNS'), ('industry', 'NN'), ('bovine', 'NN'), ('coronavirus', 'NN'), ('(', '('), ('BCV', 'NNP'), (')', ')'), (',', ','), ('which', 'WDT'), ('is', 'VBZ'), ('a', 'DT'), ('member', 'NN'), ('of', 'IN'), ('the', 'DT'), ('species', 'NNS'), ('Betacoronavirus', 'NNP'), ('1', 'CD'), ('and', 'CC'), ('related', 'VBN'), ('to', 'TO'), ('HCoV-OC43', 'NNP'), (',', ','), ('is', 'VBZ'), ('responsible', 'JJ'), ('for', 'IN'), ('severe', 'JJ'), ('profuse', 'NN'), ('enteritis', 'NN'), ('in', 'IN'), ('young', 'JJ'), ('calves', 'NNS'), ('.', '.'), ('===', 'CC'), ('Domestic', 'JJ'), ('pets', 'NNS'), ('===', 'VBP'), ('Coronaviruses', 'NNS'), ('infect', 'VBP'), ('domestic', 'JJ'), ('pets', 'NNS'), ('such', 'JJ'), ('as', 'IN'), ('cats', 'NNS'), (',', ','), ('dogs', 'NNS'), (',', ','), ('and', 'CC'), ('ferrets', 'NNS'), ('.', '.'), ('There', 'EX'), ('are', 'VBP'), ('two', 'CD'), ('forms', 'NNS'), ('of', 'IN'), ('feline', 'NN'), ('coronavirus', 'NN'), ('which', 'WDT'), ('are', 'VBP'), ('both', 'DT'), ('members', 'NNS'), ('of', 'IN'), ('the', 'DT'), ('species', 'NNS'), ('Alphacoronavirus', 'NNP'), ('1', 'CD'), ('.', '.'), ('Feline', 'NNP'), ('enteric', 'JJ'), ('coronavirus', 'NN'), ('is', 'VBZ'), ('a', 'DT'), ('pathogen', 'NN'), ('of', 'IN'), ('minor', 'JJ'), ('clinical', 'JJ'), ('significance', 'NN'), (',', ','), ('but', 'CC'), ('spontaneous', 'JJ'), ('mutation', 'NN'), ('of', 'IN'), ('this', 'DT'), ('virus', 'NN'), ('can', 'MD'), ('result', 'VB'), ('in', 'IN'), ('feline', 'NN'), ('infectious', 'JJ'), ('peritonitis', 'NN'), ('(', '('), ('FIP', 'NNP'), (')', ')'), (',', ','), ('a', 'DT'), ('disease', 'NN'), ('with', 'IN'), ('high', 'JJ'), ('mortality', 'NN'), ('.', '.'), ('There', 'EX'), ('are', 'VBP'), ('two', 'CD'), ('different', 'JJ'), ('coronaviruses', 'NNS'), ('that', 'WDT'), ('infect', 'VBP'), ('dogs', 'NNS'), ('.', '.'), ('Canine', 'NNP'), ('coronavirus', 'NN'), ('(', '('), ('CCoV', 'NNP'), (')', ')'), (',', ','), ('which', 'WDT'), ('is', 'VBZ'), ('a', 'DT'), ('member', 'NN'), ('of', 'IN'), ('the', 'DT'), ('species', 'NNS'), ('Alphacoronavirus', 'NNP'), ('1', 'CD'), (',', ','), ('causes', 'VBZ'), ('mild', 'JJ'), ('gastrointestinal', 'JJ'), ('disease', 'NN'), ('.', '.'), ('Canine', 'NNP'), ('respiratory', 'NN'), ('coronavirus', 'NN'), ('(', '('), ('CRCoV', 'NNP'), (')', ')'), (',', ','), ('which', 'WDT'), ('is', 'VBZ'), ('a', 'DT'), ('member', 'NN'), ('of', 'IN'), ('the', 'DT'), ('species', 'NNS'), ('Betacoronavirus', 'NNP'), ('1', 'CD'), ('and', 'CC'), ('related', 'VBN'), ('to', 'TO'), ('HCoV-OC43', 'NNP'), (',', ','), ('cause', 'NN'), ('respiratory', 'NN'), ('disease', 'NN'), ('.', '.'), ('Similarly', 'RB'), (',', ','), ('there', 'EX'), ('are', 'VBP'), ('two', 'CD'), ('types', 'NNS'), ('of', 'IN'), ('coronavirus', 'NN'), ('that', 'WDT'), ('infect', 'JJ'), ('ferrets', 'NNS'), ('.', '.'), ('Ferret', 'NNP'), ('enteric', 'JJ'), ('coronavirus', 'NN'), ('causes', 'VBZ'), ('a', 'DT'), ('gastrointestinal', 'JJ'), ('syndrome', 'NN'), ('known', 'VBN'), ('as', 'IN'), ('epizootic', 'JJ'), ('catarrhal', 'NN'), ('enteritis', 'NN'), ('(', '('), ('ECE', 'NNP'), (')', ')'), (',', ','), ('and', 'CC'), ('a', 'DT'), ('more', 'RBR'), ('lethal', 'JJ'), ('systemic', 'JJ'), ('version', 'NN'), ('of', 'IN'), ('the', 'DT'), ('virus', 'NN'), ('(', '('), ('like', 'IN'), ('FIP', 'NNP'), ('in', 'IN'), ('cats', 'NNS'), (')', ')'), ('known', 'VBN'), ('as', 'IN'), ('ferret', 'JJ'), ('systemic', 'JJ'), ('coronavirus', 'NN'), ('(', '('), ('FSC', 'NNP'), (')', ')'), ('.', '.'), ('===', 'JJ'), ('Laboratory', 'NNP'), ('animals', 'NNS'), ('===', 'VBP'), ('Coronaviruses', 'NNS'), ('infect', 'VBP'), ('laboratory', 'JJ'), ('animals', 'NNS'), ('.', '.'), ('Mouse', 'NNP'), ('hepatitis', 'NN'), ('virus', 'NN'), ('(', '('), ('MHV', 'NNP'), (')', ')'), (',', ','), ('which', 'WDT'), ('is', 'VBZ'), ('a', 'DT'), ('member', 'NN'), ('of', 'IN'), ('the', 'DT'), ('species', 'NNS'), ('Murine', 'NNP'), ('coronavirus', 'NN'), (',', ','), ('causes', 'VBZ'), ('an', 'DT'), ('epidemic', 'JJ'), ('murine', 'NN'), ('illness', 'NN'), ('with', 'IN'), ('high', 'JJ'), ('mortality', 'NN'), (',', ','), ('especially', 'RB'), ('among', 'IN'), ('colonies', 'NNS'), ('of', 'IN'), ('laboratory', 'NN'), ('mice', 'NN'), ('.', '.'), ('Prior', 'NNP'), ('to', 'TO'), ('the', 'DT'), ('discovery', 'NN'), ('of', 'IN'), ('SARS-CoV', 'NNP'), (',', ','), ('MHV', 'NNP'), ('was', 'VBD'), ('the', 'DT'), ('best-studied', 'JJ'), ('coronavirus', 'NN'), ('both', 'DT'), ('in', 'IN'), ('vivo', 'NN'), ('and', 'CC'), ('in', 'IN'), ('vitro', 'NN'), ('as', 'RB'), ('well', 'RB'), ('as', 'IN'), ('at', 'IN'), ('the', 'DT'), ('molecular', 'JJ'), ('level', 'NN'), ('.', '.'), ('Some', 'DT'), ('strains', 'NNS'), ('of', 'IN'), ('MHV', 'NNP'), ('cause', 'VBP'), ('a', 'DT'), ('progressive', 'JJ'), ('demyelinating', 'NN'), ('encephalitis', 'NN'), ('in', 'IN'), ('mice', 'NN'), ('which', 'WDT'), ('has', 'VBZ'), ('been', 'VBN'), ('used', 'VBN'), ('as', 'IN'), ('a', 'DT'), ('murine', 'NN'), ('model', 'NN'), ('for', 'IN'), ('multiple', 'JJ'), ('sclerosis', 'NN'), ('.', '.'), ('Sialodacryoadenitis', 'NNP'), ('virus', 'NN'), ('(', '('), ('SDAV', 'NNP'), (')', ')'), (',', ','), ('which', 'WDT'), ('is', 'VBZ'), ('a', 'DT'), ('strain', 'NN'), ('of', 'IN'), ('the', 'DT'), ('species', 'NNS'), ('Murine', 'NNP'), ('coronavirus', 'NN'), (',', ','), ('is', 'VBZ'), ('highly', 'RB'), ('infectious', 'JJ'), ('coronavirus', 'NN'), ('of', 'IN'), ('laboratory', 'NN'), ('rats', 'NNS'), (',', ','), ('which', 'WDT'), ('can', 'MD'), ('be', 'VB'), ('transmitted', 'VBN'), ('between', 'IN'), ('individuals', 'NNS'), ('by', 'IN'), ('direct', 'JJ'), ('contact', 'NN'), ('and', 'CC'), ('indirectly', 'RB'), ('by', 'IN'), ('aerosol', 'NN'), ('.', '.'), ('Rabbit', 'NNP'), ('enteric', 'JJ'), ('coronavirus', 'NN'), ('causes', 'NNS'), ('acute', 'VBP'), ('gastrointestinal', 'JJ'), ('disease', 'NN'), ('and', 'CC'), ('diarrhea', 'NN'), ('in', 'IN'), ('young', 'JJ'), ('European', 'JJ'), ('rabbits', 'NNS'), ('.', '.'), ('Mortality', 'NN'), ('rates', 'NNS'), ('are', 'VBP'), ('high', 'JJ'), ('.', '.'), ('==', 'JJ'), ('Prevention', 'NNP'), ('and', 'CC'), ('treatment', 'NN'), ('==', 'VBP'), ('A', 'DT'), ('number', 'NN'), ('of', 'IN'), ('vaccines', 'NNS'), ('using', 'VBG'), ('different', 'JJ'), ('methods', 'NNS'), ('have', 'VBP'), ('been', 'VBN'), ('developed', 'VBN'), ('against', 'IN'), ('human', 'JJ'), ('coronavirus', 'NN'), ('SARS-CoV-2', 'NNP'), ('.', '.'), ('Antiviral', 'NNP'), ('targets', 'NNS'), ('against', 'IN'), ('human', 'JJ'), ('coronaviruses', 'NNS'), ('have', 'VBP'), ('also', 'RB'), ('been', 'VBN'), ('identified', 'VBN'), ('such', 'JJ'), ('as', 'IN'), ('viral', 'JJ'), ('proteases', 'NNS'), (',', ','), ('polymerases', 'NNS'), (',', ','), ('and', 'CC'), ('entry', 'NN'), ('proteins', 'NNS'), ('.', '.'), ('Drugs', 'NNS'), ('are', 'VBP'), ('in', 'IN'), ('development', 'NN'), ('which', 'WDT'), ('target', 'VBP'), ('these', 'DT'), ('proteins', 'NNS'), ('and', 'CC'), ('the', 'DT'), ('different', 'JJ'), ('steps', 'NNS'), ('of', 'IN'), ('viral', 'JJ'), ('replication.Vaccines', 'NNS'), ('are', 'VBP'), ('available', 'JJ'), ('for', 'IN'), ('animal', 'JJ'), ('coronaviruses', 'NNS'), ('IBV', 'NNP'), (',', ','), ('TGEV', 'NNP'), (',', ','), ('and', 'CC'), ('Canine', 'NNP'), ('CoV', 'NNP'), (',', ','), ('although', 'IN'), ('their', 'PRP$'), ('effectiveness', 'NN'), ('is', 'VBZ'), ('limited', 'VBN'), ('.', '.'), ('In', 'IN'), ('the', 'DT'), ('case', 'NN'), ('of', 'IN'), ('outbreaks', 'NNS'), ('of', 'IN'), ('highly', 'RB'), ('contagious', 'JJ'), ('animal', 'NN'), ('coronaviruses', 'NNS'), (',', ','), ('such', 'JJ'), ('as', 'IN'), ('PEDV', 'NNP'), (',', ','), ('measures', 'NNS'), ('such', 'JJ'), ('as', 'IN'), ('destruction', 'NN'), ('of', 'IN'), ('entire', 'JJ'), ('herds', 'NNS'), ('of', 'IN'), ('pigs', 'NNS'), ('may', 'MD'), ('be', 'VB'), ('used', 'VBN'), ('to', 'TO'), ('prevent', 'VB'), ('transmission', 'NN'), ('to', 'TO'), ('other', 'JJ'), ('herds', 'NNS'), ('.', '.'), ('==', 'NN'), ('See', 'NNP'), ('also', 'RB'), ('==', 'VBP'), ('Coronavirus', 'NNP'), ('diseases', 'VBZ'), ('Zoonosis', 'NNP'), ('==', 'NNP'), ('References', 'NNP'), ('==', 'NNP'), ('==', 'NNP'), ('Further', 'NNP'), ('reading', 'NN'), ('==', 'NN')]\n"
     ]
    }
   ],
   "source": [
    "tagged = pos_tag(wiki_words)\n",
    "print(tagged)"
   ]
  },
  {
   "cell_type": "code",
   "execution_count": 17,
   "metadata": {},
   "outputs": [
    {
     "data": {
      "text/html": [
       "\n",
       "  <style>\n",
       "    pre {\n",
       "        white-space: pre-wrap;\n",
       "    }\n",
       "  </style>\n",
       "  "
      ],
      "text/plain": [
       "<IPython.core.display.HTML object>"
      ]
     },
     "metadata": {},
     "output_type": "display_data"
    }
   ],
   "source": [
    "from nltk.corpus import wordnet\n",
    "\n",
    "def getpos(tag):\n",
    "    if(tag.startswith('J')):\n",
    "        return wordnet.ADJ\n",
    "    elif(tag.startswith('V')):\n",
    "        return wordnet.VERB\n",
    "    elif(tag.startswith('N')):\n",
    "        return wordnet.NOUN\n",
    "    elif(tag.startswith('R')):\n",
    "        return wordnet.ADV\n",
    "    else:\n",
    "        return ''"
   ]
  },
  {
   "cell_type": "code",
   "execution_count": 19,
   "metadata": {
    "collapsed": true,
    "jupyter": {
     "outputs_hidden": true
    }
   },
   "outputs": [
    {
     "data": {
      "text/html": [
       "\n",
       "  <style>\n",
       "    pre {\n",
       "        white-space: pre-wrap;\n",
       "    }\n",
       "  </style>\n",
       "  "
      ],
      "text/plain": [
       "<IPython.core.display.HTML object>"
      ]
     },
     "metadata": {},
     "output_type": "display_data"
    },
    {
     "name": "stdout",
     "output_type": "stream",
     "text": [
      "['Coronaviruses', 'group', 'related', 'RNA', 'viruses', 'cause', 'disease', 'mammal', 'bird', 'human', 'bird', 'cause', 'respiratory', 'tract', 'infection', 'range', 'mild', 'lethal', 'Mild', 'illnesses', 'human', 'include', 'case', 'common', 'cold', 'also', 'cause', 'virus', 'predominantly', 'rhinoviruses', 'lethal', 'variety', 'cause', 'SARS', 'MERS', 'cow', 'pig', 'cause', 'diarrhea', 'mouse', 'cause', 'hepatitis', 'encephalomyelitis', 'Coronaviruses', 'constitute', 'subfamily', 'Orthocoronavirinae', 'family', 'Coronaviridae', 'order', 'Nidovirales', 'realm', 'Riboviria', 'enveloped', 'virus', 'RNA', 'genome', 'nucleocapsid', 'helical', 'symmetry', 'genome', 'size', 'coronaviruses', 'range', 'approximately', 'kilobases', 'large', 'RNA', 'virus', 'characteristic', 'spike', 'project', 'surface', 'electron', 'micrographs', 'create', 'image', 'reminiscent', 'solar', 'corona', 'name', 'derive', 'Etymology', 'name', 'coronavirus', 'derive', 'Latin', 'corona', 'mean', 'crown', 'wreath', 'borrowing', 'Greek', 'κορώνη', 'korṓnē', 'garland', 'wreath', 'name', 'coin', 'June', 'Almeida', 'David', 'Tyrrell', 'first', 'observe', 'study', 'human', 'coronaviruses', 'word', 'first', 'use', 'print', 'informal', 'group', 'virologist', 'journal', 'Nature', 'designate', 'new', 'family', 'virus', 'name', 'refers', 'characteristic', 'appearance', 'virion', 'infective', 'form', 'virus', 'electron', 'microscopy', 'fringe', 'large', 'bulbous', 'surface', 'projection', 'create', 'image', 'reminiscent', 'solar', 'corona', 'halo', 'morphology', 'create', 'viral', 'spike', 'peplomers', 'protein', 'surface', 'scientific', 'name', 'Coronavirus', 'accept', 'genus', 'name', 'International', 'Committee', 'Nomenclature', 'Viruses', 'later', 'rename', 'International', 'Committee', 'Taxonomy', 'Viruses', 'number', 'new', 'specie', 'increase', 'genus', 'split', 'genus', 'namely', 'Alphacoronavirus', 'Betacoronavirus', 'Deltacoronavirus', 'Gammacoronavirus', 'common', 'name', 'coronavirus', 'use', 'refer', 'member', 'subfamily', 'Orthocoronavirinae', 'specie', 'officially', 'recognise', 'History', 'early', 'report', 'coronavirus', 'infection', 'animal', 'occur', 'late', 'acute', 'respiratory', 'infection', 'domesticated', 'chicken', 'emerge', 'North', 'America', 'Arthur', 'Schalk', 'Hawn', 'make', 'first', 'detailed', 'report', 'describe', 'new', 'respiratory', 'infection', 'chicken', 'North', 'Dakota', 'infection', 'chick', 'characterize', 'gasp', 'listlessness', 'high', 'mortality', 'rate', 'Leland', 'David', 'Bushnell', 'Carl', 'Alfred', 'Brandly', 'isolate', 'virus', 'cause', 'infection', 'virus', 'know', 'infectious', 'bronchitis', 'virus', 'IBV', 'Charles', 'Hudson', 'Fred', 'Robert', 'Beaudette', 'cultivate', 'virus', 'first', 'time', 'specimen', 'come', 'know', 'Beaudette', 'strain', 'late', 'animal', 'coronaviruses', 'JHM', 'cause', 'brain', 'disease', 'murine', 'encephalitis', 'hepatitis', 'virus', 'MHV', 'cause', 'hepatitis', 'mouse', 'discover', 'realize', 'time', 'different', 'virus', 'coronaviruses', 'discover', 'use', 'different', 'method', 'United', 'Kingdom', 'United', 'States', 'Kendall', 'Malcolm', 'Bynoe', 'David', 'Tyrrell', 'work', 'Common', 'Cold', 'Unit', 'British', 'Medical', 'Research', 'Council', 'collect', 'unique', 'common', 'cold', 'virus', 'designate', 'virus', 'cultivate', 'use', 'standard', 'technique', 'successfully', 'cultivate', 'rhinovirus', 'adenovirus', 'known', 'common', 'cold', 'virus', 'Tyrrell', 'Bynoe', 'successfully', 'cultivate', 'novel', 'virus', 'serially', 'pass', 'organ', 'culture', 'human', 'embryonic', 'trachea', 'new', 'cultivate', 'method', 'introduce', 'lab', 'Bertil', 'Hoorn', 'isolated', 'virus', 'intranasally', 'inoculate', 'volunteer', 'cause', 'cold', 'inactivate', 'ether', 'indicate', 'lipid', 'envelope', 'Dorothy', 'Hamre', 'John', 'Procknow', 'University', 'Chicago', 'isolate', 'novel', 'cold', 'medical', 'student', 'isolate', 'grow', 'virus', 'kidney', 'tissue', 'culture', 'designate', 'novel', 'virus', 'cause', 'cold', 'volunteer', 'inactivate', 'ether', 'Scottish', 'virologist', 'June', 'Almeida', 'Thomas', 'Hospital', 'London', 'collaborate', 'Tyrrell', 'compare', 'structure', 'IBV', 'Using', 'electron', 'microscopy', 'virus', 'show', 'morphologically', 'relate', 'general', 'shape', 'distinctive', 'spike', 'A', 'research', 'group', 'National', 'Institute', 'Health', 'year', 'able', 'isolate', 'member', 'new', 'group', 'virus', 'use', 'organ', 'culture', 'name', 'sample', 'OC', 'organ', 'culture', 'IBV', 'novel', 'cold', 'virus', 'distinctive', 'spike', 'observe', 'electron', 'novel', 'cold', 'virus', 'soon', 'show', 'also', 'morphologically', 'relate', 'mouse', 'hepatitis', 'virus', 'new', 'group', 'virus', 'name', 'coronaviruses', 'distinctive', 'morphological', 'appearance', 'Human', 'coronavirus', 'human', 'coronavirus', 'continue', 'study', 'subsequent', 'decade', 'coronavirus', 'strain', 'lose', 'know', 'present', 'human', 'coronavirus', 'Other', 'human', 'coronaviruses', 'identify', 'include', 'HCoV', 'HCoV', 'also', 'large', 'number', 'animal', 'coronaviruses', 'identify', 'Microbiology', 'Structure', 'Coronaviruses', 'large', 'roughly', 'spherical', 'particle', 'unique', 'surface', 'projection', 'size', 'highly', 'variable', 'average', 'diameter', 'nm', 'Extreme', 'size', 'know', 'nm', 'diameter', 'total', 'molecular', 'weight', 'average', 'kDa', 'enclose', 'envelope', 'embed', 'number', 'protein', 'molecule', 'lipid', 'bilayer', 'envelope', 'membrane', 'protein', 'nucleocapsid', 'protect', 'virus', 'host', 'viral', 'envelope', 'make', 'lipid', 'bilayer', 'membrane', 'M', 'E', 'spike', 'S', 'structural', 'protein', 'anchor', 'ratio', 'E', 'S', 'M', 'lipid', 'bilayer', 'approximately', 'E', 'M', 'protein', 'structural', 'protein', 'combine', 'lipid', 'bilayer', 'shape', 'viral', 'envelope', 'maintain', 'size', 'S', 'protein', 'need', 'interaction', 'host', 'cell', 'human', 'coronavirus', 'peculiar', 'M', 'protein', 'binding', 'site', 'host', 'cell', 'S', 'protein', 'diameter', 'envelope', 'nm', 'envelope', 'virus', 'electron', 'micrographs', 'appear', 'distinct', 'pair', 'shell', 'shell', 'relatively', 'opaque', 'electron', 'beam', 'use', 'scan', 'virus', 'particle', 'M', 'protein', 'main', 'structural', 'protein', 'envelope', 'provide', 'overall', 'shape', 'type', 'III', 'membrane', 'protein', 'consist', 'amino', 'acid', 'residue', 'form', 'layer', 'nm', 'thick', 'domain', 'short', 'ectodomain', 'transmembrane', 'domain', 'endodomain', 'domain', 'form', 'lattice', 'add', 'envelope', 'Different', 'specie', 'glycans', 'protein', 'domain', 'M', 'protein', 'crucial', 'assembly', 'budding', 'envelope', 'formation', 'pathogenesis', 'stage', 'virus', 'E', 'protein', 'minor', 'structural', 'protein', 'highly', 'variable', 'different', 'specie', 'copy', 'E', 'protein', 'molecule', 'coronavirus', 'particle', 'kDa', 'size', 'compose', 'amino', 'acid', 'integral', 'protein', 'embed', 'lipid', 'layer', 'domain', 'namely', 'transmembrane', 'domain', 'extramembrane', 'domain', 'almost', 'fully', 'single', 'transmembrane', 'domain', 'form', 'pentameric', 'ion', 'channel', 'lipid', 'bilayer', 'responsible', 'virion', 'assembly', 'intracellular', 'trafficking', 'morphogenesis', 'bud', 'spike', 'distinguishing', 'feature', 'coronaviruses', 'responsible', 'surface', 'average', 'coronavirus', 'particle', 'surface', 'spike', 'spike', 'nm', 'long', 'compose', 'trimer', 'S', 'protein', 'S', 'protein', 'turn', 'compose', 'subunit', 'homotrimeric', 'S', 'protein', 'class', 'fusion', 'protein', 'mediate', 'receptor', 'binding', 'membrane', 'fusion', 'virus', 'host', 'cell', 'subunit', 'form', 'head', 'spike', 'domain', 'RBD', 'subunit', 'form', 'stem', 'anchor', 'spike', 'viral', 'envelope', 'protease', 'activation', 'enable', 'fusion', 'subunit', 'remain', 'noncovalently', 'link', 'expose', 'viral', 'surface', 'attach', 'host', 'cell', 'membrane', 'functionally', 'active', 'state', 'attach', 'subunit', 'subunit', 'complex', 'split', 'individual', 'subunit', 'virus', 'bind', 'fuse', 'host', 'cell', 'action', 'protease', 'cathepsin', 'family', 'transmembrane', 'protease', 'serine', 'host', 'cell', 'protein', 'critical', 'component', 'term', 'infection', 'also', 'variable', 'component', 'responsible', 'host', 'cell', 'specificity', 'possess', 'major', 'domain', 'name', 'domain', 'domain', 'serve', 'domain', 'NTDs', 'recognize', 'bind', 'sugar', 'surface', 'host', 'cell', 'exception', 'MHV', 'NTD', 'bind', 'protein', 'receptor', 'carcinoembryonic', 'cell', 'adhesion', 'molecule', 'responsible', 'recognize', 'different', 'protein', 'receptor', 'enzyme', 'aminopeptidase', 'N', 'APN', 'dipeptidyl', 'peptidase', 'subset', 'coronaviruses', 'specifically', 'member', 'betacoronavirus', 'A', 'also', 'short', 'surface', 'protein', 'call', 'hemagglutinin', 'esterase', 'HE', 'HE', 'proteins', 'occur', 'homodimers', 'compose', 'amino', 'acid', 'residue', 'kDa', 'size', 'appear', 'tiny', 'surface', 'projection', 'nm', 'long', 'embed', 'spike', 'help', 'attachment', 'detachment', 'host', 'envelope', 'nucleocapsid', 'form', 'multiple', 'copy', 'nucleocapsid', 'N', 'protein', 'bind', 'RNA', 'genome', 'continuous', 'type', 'conformation', 'N', 'protein', 'phosphoprotein', 'kDa', 'size', 'divide', 'conserve', 'domain', 'majority', 'protein', 'make', 'domain', 'typically', 'rich', 'arginine', 'lysine', 'Domain', 'short', 'carboxy', 'terminal', 'end', 'net', 'negative', 'charge', 'due', 'excess', 'acidic', 'basic', 'amino', 'acid', 'residue', 'Genome', 'Coronaviruses', 'contain', 'RNA', 'genome', 'genome', 'size', 'coronaviruses', 'range', 'kilobases', 'genome', 'size', 'large', 'RNA', 'virus', 'genome', 'methylated', 'cap', 'polyadenylated', 'genome', 'organization', 'coronavirus', 'S', 'E', 'M', 'N', 'A', 'tail', 'open', 'reading', 'frame', 'occupy', 'first', 'genome', 'encode', 'replicase', 'polyprotein', 'replicase', 'polyprotein', 'cleave', 'form', 'nonstructural', 'protein', 'later', 'read', 'frame', 'encode', 'major', 'structural', 'protein', 'spike', 'envelope', 'membrane', 'nucleocapsid', 'Interspersed', 'read', 'frame', 'reading', 'frame', 'accessory', 'protein', 'number', 'accessory', 'protein', 'function', 'unique', 'depend', 'specific', 'coronavirus', 'Replication', 'cycle', 'Cell', 'entry', 'Infection', 'begin', 'viral', 'spike', 'protein', 'attach', 'complementary', 'host', 'cell', 'receptor', 'attachment', 'protease', 'host', 'cell', 'cleaves', 'activate', 'spike', 'protein', 'Depending', 'host', 'cell', 'protease', 'available', 'cleavage', 'activation', 'allow', 'virus', 'enter', 'host', 'cell', 'endocytosis', 'direct', 'fusion', 'viral', 'envelope', 'host', 'membrane', 'Genome', 'translation', 'entry', 'host', 'cell', 'virus', 'particle', 'uncoated', 'genome', 'enter', 'cell', 'cytoplasm', 'coronavirus', 'RNA', 'genome', 'methylated', 'cap', 'polyadenylated', 'tail', 'allow', 'act', 'messenger', 'RNA', 'directly', 'translate', 'host', 'cell', 'ribosome', 'host', 'ribosome', 'translate', 'initial', 'overlap', 'open', 'reading', 'frame', 'virus', 'genome', 'large', 'overlap', 'polyproteins', 'large', 'polyprotein', 'result', 'ribosomal', 'frameshift', 'cause', 'slippery', 'sequence', 'UUUAAAC', 'downstream', 'RNA', 'pseudoknot', 'end', 'open', 'reading', 'frame', 'ribosomal', 'frameshift', 'allow', 'continuous', 'translation', 'follow', 'polyproteins', 'protease', 'PLpro', 'cleave', 'polyproteins', 'different', 'specific', 'site', 'cleavage', 'polyprotein', 'yield', 'nonstructural', 'protein', 'Product', 'proteins', 'include', 'various', 'replication', 'protein', 'RNA', 'polymerase', 'RNA', 'helicase', 'exoribonuclease', 'A', 'number', 'nonstructural', 'protein', 'coalesce', 'form', 'complex', 'main', 'protein', 'RNA', 'polymerase', 'RdRp', 'directly', 'involve', 'replication', 'transcription', 'RNA', 'RNA', 'strand', 'nonstructural', 'protein', 'complex', 'assist', 'replication', 'transcription', 'process', 'exoribonuclease', 'nonstructural', 'protein', 'instance', 'provide', 'extra', 'fidelity', 'replication', 'provide', 'proofreading', 'function', 'RNA', 'polymerase', 'main', 'function', 'complex', 'replicate', 'viral', 'genome', 'RdRp', 'directly', 'mediate', 'synthesis', 'genomic', 'RNA', 'genomic', 'RNA', 'follow', 'replication', 'genomic', 'RNA', 'genomic', 'RNA', 'Transcription', 'important', 'function', 'complex', 'transcribe', 'viral', 'genome', 'RdRp', 'directly', 'mediate', 'synthesis', 'subgenomic', 'RNA', 'molecule', 'genomic', 'RNA', 'process', 'follow', 'transcription', 'subgenomic', 'RNA', 'molecule', 'corresponding', 'mRNAs', 'subgenomic', 'mRNAs', 'form', 'nested', 'set', 'common', 'partially', 'duplicate', 'complex', 'also', 'capable', 'genetic', 'recombination', 'least', 'viral', 'genome', 'present', 'infect', 'cell', 'RNA', 'recombination', 'appear', 'major', 'drive', 'force', 'determine', 'genetic', 'variability', 'coronavirus', 'specie', 'capability', 'coronavirus', 'specie', 'jump', 'host', 'infrequently', 'determine', 'emergence', 'novel', 'coronaviruses', 'exact', 'mechanism', 'recombination', 'coronaviruses', 'unclear', 'likely', 'involves', 'template', 'switch', 'genome', 'replication', 'Assembly', 'release', 'replicated', 'genomic', 'RNA', 'become', 'genome', 'progeny', 'virus', 'mRNAs', 'gene', 'transcript', 'last', 'third', 'virus', 'genome', 'initial', 'overlap', 'reading', 'frame', 'mRNAs', 'translate', 'host', 'ribosome', 'structural', 'protein', 'number', 'accessory', 'protein', 'RNA', 'translation', 'occur', 'endoplasmic', 'reticulum', 'viral', 'structural', 'protein', 'S', 'E', 'M', 'move', 'secretory', 'pathway', 'Golgi', 'intermediate', 'compartment', 'M', 'protein', 'direct', 'interaction', 'require', 'assembly', 'virus', 'follow', 'bind', 'nucleocapsid', 'Progeny', 'virus', 'release', 'host', 'cell', 'exocytosis', 'secretory', 'vesicle', 'Once', 'release', 'virus', 'infect', 'host', 'cell', 'Transmission', 'Infected', 'carrier', 'able', 'shed', 'virus', 'environment', 'interaction', 'coronavirus', 'spike', 'protein', 'complementary', 'cell', 'receptor', 'central', 'determine', 'tissue', 'tropism', 'infectivity', 'specie', 'range', 'release', 'virus', 'Coronaviruses', 'mainly', 'target', 'epithelial', 'cell', 'transmit', 'host', 'host', 'depend', 'coronavirus', 'specie', 'aerosol', 'fomite', 'coronaviruses', 'infect', 'epithelial', 'cell', 'respiratory', 'tract', 'animal', 'coronaviruses', 'generally', 'infect', 'epithelial', 'cell', 'digestive', 'tract', 'SARS', 'coronavirus', 'example', 'infect', 'human', 'epithelial', 'cell', 'lung', 'aerosol', 'route', 'bind', 'enzyme', 'receptor', 'Transmissible', 'gastroenteritis', 'coronavirus', 'TGEV', 'infect', 'pig', 'epithelial', 'cell', 'digestive', 'tract', 'route', 'bind', 'alanine', 'aminopeptidase', 'APN', 'receptor', 'Classification', 'Coronaviruses', 'form', 'subfamily', 'Orthocoronavirinae', 'family', 'Coronaviridae', 'order', 'Nidovirales', 'realm', 'Riboviria', 'divide', 'genus', 'Alphacoronavirus', 'Betacoronavirus', 'Gammacoronavirus', 'Deltacoronavirus', 'Alphacoronaviruses', 'betacoronaviruses', 'infect', 'mammal', 'gammacoronaviruses', 'deltacoronaviruses', 'primarily', 'infect', 'bird', 'Genus', 'Alphacoronavirus', 'type', 'specie', 'Species', 'TGEV', 'Feline', 'coronavirus', 'Canine', 'coronavirus', 'Human', 'coronavirus', 'Human', 'coronavirus', 'Miniopterus', 'bat', 'coronavirus', 'Miniopterus', 'bat', 'coronavirus', 'Porcine', 'epidemic', 'diarrhea', 'virus', 'Rhinolophus', 'bat', 'coronavirus', 'Scotophilus', 'bat', 'coronavirus', 'Genus', 'Betacoronavirus', 'type', 'specie', 'Murine', 'coronavirus', 'MHV', 'Species', 'Betacoronavirus', 'Bovine', 'Coronavirus', 'Human', 'coronavirus', 'Hedgehog', 'coronavirus', 'Human', 'coronavirus', 'Middle', 'East', 'respiratory', 'coronavirus', 'Murine', 'coronavirus', 'Pipistrellus', 'bat', 'coronavirus', 'Rousettus', 'bat', 'coronavirus', 'Severe', 'acute', 'respiratory', 'coronavirus', 'Tylonycteris', 'bat', 'coronavirus', 'Genus', 'Gammacoronavirus', 'type', 'specie', 'Avian', 'coronavirus', 'IBV', 'Species', 'Avian', 'coronavirus', 'Beluga', 'whale', 'coronavirus', 'Genus', 'Deltacoronavirus', 'type', 'specie', 'Bulbul', 'coronavirus', 'Species', 'Bulbul', 'coronavirus', 'Porcine', 'coronavirus', 'Origin', 'recent', 'common', 'ancestor', 'MRCA', 'coronaviruses', 'estimate', 'exist', 'recently', 'BCE', 'model', 'place', 'common', 'ancestor', 'far', 'back', 'year', 'imply', 'long', 'term', 'coevolution', 'bat', 'avian', 'specie', 'recent', 'common', 'ancestor', 'alphacoronavirus', 'line', 'place', 'BCE', 'betacoronavirus', 'line', 'BCE', 'gammacoronavirus', 'line', 'BCE', 'deltacoronavirus', 'line', 'BCE', 'Bats', 'bird', 'fly', 'vertebrate', 'ideal', 'natural', 'reservoir', 'coronavirus', 'gene', 'pool', 'reservoir', 'alphacoronaviruses', 'betacoronavirus', 'bird', 'reservoir', 'gammacoronaviruses', 'deltacoronaviruses', 'large', 'number', 'global', 'range', 'bat', 'avian', 'specie', 'host', 'virus', 'enable', 'extensive', 'evolution', 'dissemination', 'human', 'coronaviruses', 'origin', 'bat', 'human', 'coronavirus', 'share', 'common', 'ancestor', 'bat', 'coronavirus', 'CE', 'human', 'coronavirus', 'share', 'common', 'ancestor', 'bat', 'coronavirus', 'Bt', 'CoV', 'CE', 'More', 'recently', 'alpaca', 'coronavirus', 'human', 'coronavirus', 'diverge', 'sometime', 'emerge', 'human', 'bat', 'intermediate', 'host', 'camel', 'relate', 'several', 'bat', 'coronavirus', 'specie', 'appear', 'diverge', 'several', 'century', 'ago', 'closely', 'related', 'bat', 'coronavirus', 'diverge', 'ancestor', 'first', 'infect', 'bat', 'genus', 'Hipposideridae', 'subsequently', 'spread', 'horseshoe', 'bat', 'specie', 'Rhinolophidae', 'Asian', 'palm', 'civet', 'finally', 'betacoronaviruses', 'bovine', 'coronavirus', 'specie', 'Betacoronavirus', 'subgenus', 'Embecovirus', 'think', 'originate', 'rodent', 'bat', 'equine', 'coronavirus', 'diverge', 'bovine', 'coronavirus', 'jump', 'Later', 'human', 'coronavirus', 'diverge', 'bovine', 'coronavirus', 'spillover', 'event', 'speculate', 'flu', 'pandemic', 'cause', 'spillover', 'event', 'influenza', 'virus', 'related', 'timing', 'neurological', 'symptom', 'unknown', 'causative', 'agent', 'pandemic', 'cause', 'respiratory', 'infection', 'human', 'coronavirus', 'also', 'suspect', 'play', 'role', 'neurological', 'disease', 'human', 'coronavirus', 'begin', 'diverge', 'present', 'genotype', 'Phylogentically', 'mouse', 'hepatitis', 'virus', 'Murine', 'coronavirus', 'infect', 'mouse', 'liver', 'central', 'nervous', 'system', 'relate', 'human', 'coronavirus', 'bovine', 'coronavirus', 'Human', 'coronavirus', 'aforementioned', 'virus', 'also', 'origin', 'rodent', 'Infection', 'human', 'Coronaviruses', 'vary', 'significantly', 'risk', 'factor', 'kill', 'infect', 'relatively', 'harmless', 'common', 'cold', 'Coronaviruses', 'cause', 'cold', 'major', 'symptom', 'fever', 'sore', 'throat', 'swollen', 'adenoid', 'Coronaviruses', 'cause', 'pneumonia', 'direct', 'viral', 'pneumonia', 'secondary', 'bacterial', 'pneumonia', 'bronchitis', 'direct', 'viral', 'bronchitis', 'secondary', 'bacterial', 'bronchitis', 'human', 'coronavirus', 'discover', 'cause', 'severe', 'acute', 'respiratory', 'syndrome', 'SARS', 'unique', 'pathogenesis', 'cause', 'upper', 'low', 'respiratory', 'tract', 'specie', 'human', 'coronaviruses', 'know', 'specie', 'subdivide', 'different', 'strain', 'make', 'strain', 'human', 'coronaviruses', 'altogether', 'human', 'coronaviruses', 'produce', 'symptom', 'generally', 'mild', 'even', 'contend', 'aggressive', 'past', 'Human', 'coronavirus', 'Human', 'coronavirus', 'Human', 'coronavirus', 'Human', 'coronavirus', 'human', 'coronaviruses', 'produce', 'symptom', 'potentially', 'severe', 'Middle', 'East', 'respiratory', 'coronavirus', 'Severe', 'acute', 'respiratory', 'syndrome', 'coronavirus', 'Severe', 'acute', 'respiratory', 'syndrome', 'coronavirus', 'Common', 'cold', 'human', 'coronaviruses', 'continually', 'circulate', 'human', 'population', 'produce', 'generally', 'mild', 'symptom', 'common', 'cold', 'adult', 'child', 'worldwide', 'coronaviruses', 'cause', 'common', 'cold', 'cold', 'cause', 'rhinovirus', 'mild', 'coronaviruses', 'seasonal', 'incidence', 'occur', 'winter', 'month', 'temperate', 'climate', 'preponderance', 'season', 'tropical', 'climate', 'Severe', 'acute', 'respiratory', 'syndrome', 'SARS', 'follow', 'outbreak', 'severe', 'acute', 'respiratory', 'syndrome', 'SARS', 'begin', 'prior', 'year', 'Asia', 'secondary', 'case', 'elsewhere', 'world', 'World', 'Health', 'Organization', 'WHO', 'issue', 'press', 'release', 'state', 'novel', 'coronavirus', 'identify', 'number', 'laboratory', 'causative', 'agent', 'SARS', 'virus', 'officially', 'name', 'SARS', 'coronavirus', 'More', 'people', 'different', 'country', 'territory', 'infect', 'least', 'die', 'Middle', 'East', 'respiratory', 'syndrome', 'MERS', 'September', 'new', 'type', 'coronavirus', 'identify', 'initially', 'call', 'Novel', 'Coronavirus', 'officially', 'name', 'Middle', 'East', 'respiratory', 'syndrome', 'coronavirus', 'World', 'Health', 'Organization', 'issue', 'global', 'alert', 'soon', 'WHO', 'update', 'September', 'say', 'virus', 'seem', 'pass', 'easily', 'person', 'person', 'However', 'May', 'case', 'transmission', 'France', 'confirm', 'French', 'Ministry', 'Social', 'Affairs', 'Health', 'addition', 'case', 'transmission', 'report', 'Ministry', 'Health', 'Tunisia', 'confirmed', 'case', 'involve', 'people', 'seem', 'catch', 'disease', 'late', 'father', 'become', 'ill', 'visit', 'Qatar', 'Saudi', 'Arabia', 'appear', 'virus', 'trouble', 'spread', 'human', 'human', 'individual', 'infect', 'transmit', 'virus', 'October', 'case', 'death', 'Saudi', 'Dutch', 'Erasmus', 'Medical', 'Centre', 'sequence', 'virus', 'virus', 'give', 'new', 'name', 'Human', 'Medical', 'Centre', 'final', 'name', 'virus', 'Middle', 'East', 'respiratory', 'syndrome', 'coronavirus', 'case', 'survive', 'record', 'May', 'May', 'outbreak', 'occur', 'Republic', 'Korea', 'man', 'travel', 'Middle', 'East', 'visit', 'hospital', 'Seoul', 'area', 'treat', 'illness', 'cause', 'large', 'outbreak', 'Middle', 'East', 'December', 'case', 'infection', 'confirm', 'laboratory', 'test', 'fatal', 'mortality', 'rate', 'approximately', 'Coronavirus', 'disease', 'December', 'pneumonia', 'outbreak', 'report', 'Wuhan', 'China', 'December', 'outbreak', 'trace', 'novel', 'strain', 'coronavirus', 'give', 'interim', 'name', 'World', 'Health', 'Organization', 'WHO', 'later', 'rename', 'International', 'Committee', 'Taxonomy', 'Viruses', 'February', 'least', 'confirmed', 'death', 'confirmed', 'case', 'pandemic', 'Wuhan', 'strain', 'identify', 'new', 'strain', 'Betacoronavirus', 'group', 'approximately', 'genetic', 'similarity', 'virus', 'similarity', 'bat', 'coronavirus', 'widely', 'suspect', 'originate', 'bat', 'well', 'pandemic', 'result', 'travel', 'restriction', 'nationwide', 'lockdown', 'many', 'country', 'Infection', 'animal', 'Coronaviruses', 'recognize', 'cause', 'pathological', 'condition', 'veterinary', 'medicine', 'infect', 'range', 'animal', 'include', 'swine', 'cattle', 'horse', 'camel', 'cat', 'dog', 'rodent', 'bird', 'bat', 'majority', 'animal', 'relate', 'coronaviruses', 'infect', 'intestinal', 'tract', 'transmit', 'route', 'Significant', 'research', 'effort', 'focus', 'elucidate', 'viral', 'pathogenesis', 'animal', 'coronaviruses', 'especially', 'virologist', 'interested', 'veterinary', 'zoonotic', 'disease', 'Farm', 'animal', 'Coronaviruses', 'infect', 'domesticate', 'bird', 'Infectious', 'bronchitis', 'virus', 'IBV', 'type', 'coronavirus', 'cause', 'avian', 'infectious', 'bronchitis', 'virus', 'concern', 'poultry', 'industry', 'high', 'mortality', 'infection', 'rapid', 'spread', 'effect', 'production', 'virus', 'affect', 'meat', 'production', 'egg', 'production', 'cause', 'substantial', 'economic', 'loss', 'chicken', 'infectious', 'bronchitis', 'virus', 'target', 'respiratory', 'tract', 'also', 'urogenital', 'tract', 'virus', 'spread', 'different', 'organ', 'chicken', 'virus', 'transmit', 'aerosol', 'food', 'contaminate', 'feces', 'Different', 'vaccine', 'IBV', 'exist', 'help', 'limit', 'spread', 'virus', 'variant', 'Infectious', 'bronchitis', 'virus', 'number', 'strain', 'specie', 'Avian', 'coronavirus', 'strain', 'avian', 'coronavirus', 'turkey', 'coronavirus', 'TCV', 'cause', 'enteritis', 'also', 'affect', 'branch', 'animal', 'husbandry', 'pig', 'farming', 'cattle', 'raise', 'Swine', 'acute', 'diarrhea', 'syndrome', 'coronavirus', 'relate', 'bat', 'coronavirus', 'cause', 'diarrhea', 'pig', 'Porcine', 'epidemic', 'diarrhea', 'virus', 'PEDV', 'coronavirus', 'recently', 'emerge', 'similarly', 'cause', 'diarrhea', 'pig', 'Transmissible', 'gastroenteritis', 'virus', 'TGEV', 'member', 'specie', 'Alphacoronavirus', 'coronavirus', 'cause', 'diarrhea', 'young', 'pig', 'cattle', 'industry', 'bovine', 'coronavirus', 'BCV', 'member', 'specie', 'Betacoronavirus', 'relate', 'responsible', 'severe', 'profuse', 'enteritis', 'young', 'calf', 'Domestic', 'pet', 'Coronaviruses', 'infect', 'domestic', 'pet', 'cat', 'dog', 'ferret', 'form', 'feline', 'coronavirus', 'member', 'specie', 'Alphacoronavirus', 'Feline', 'enteric', 'coronavirus', 'pathogen', 'minor', 'clinical', 'significance', 'spontaneous', 'mutation', 'virus', 'result', 'feline', 'infectious', 'peritonitis', 'FIP', 'disease', 'high', 'mortality', 'different', 'coronaviruses', 'infect', 'dog', 'Canine', 'coronavirus', 'CCoV', 'member', 'specie', 'Alphacoronavirus', 'cause', 'mild', 'gastrointestinal', 'disease', 'Canine', 'respiratory', 'coronavirus', 'CRCoV', 'member', 'specie', 'Betacoronavirus', 'relate', 'cause', 'respiratory', 'disease', 'Similarly', 'type', 'coronavirus', 'infect', 'ferret', 'Ferret', 'enteric', 'coronavirus', 'cause', 'gastrointestinal', 'syndrome', 'know', 'epizootic', 'catarrhal', 'enteritis', 'ECE', 'lethal', 'systemic', 'version', 'virus', 'FIP', 'cat', 'know', 'ferret', 'systemic', 'coronavirus', 'FSC', 'Laboratory', 'animal', 'Coronaviruses', 'infect', 'laboratory', 'animal', 'Mouse', 'hepatitis', 'virus', 'MHV', 'member', 'specie', 'Murine', 'coronavirus', 'cause', 'epidemic', 'murine', 'illness', 'high', 'mortality', 'especially', 'colony', 'laboratory', 'mouse', 'Prior', 'discovery', 'MHV', 'coronavirus', 'vivo', 'vitro', 'well', 'molecular', 'level', 'strain', 'MHV', 'cause', 'progressive', 'demyelinating', 'encephalitis', 'mouse', 'use', 'murine', 'model', 'multiple', 'sclerosis', 'Sialodacryoadenitis', 'virus', 'SDAV', 'strain', 'specie', 'Murine', 'coronavirus', 'highly', 'infectious', 'coronavirus', 'laboratory', 'rat', 'transmit', 'individual', 'direct', 'contact', 'indirectly', 'aerosol', 'Rabbit', 'enteric', 'coronavirus', 'cause', 'acute', 'gastrointestinal', 'disease', 'diarrhea', 'young', 'European', 'rabbit', 'Mortality', 'rate', 'high', 'Prevention', 'treatment', 'number', 'vaccine', 'use', 'different', 'method', 'develop', 'human', 'coronavirus', 'Antiviral', 'target', 'human', 'coronaviruses', 'also', 'identify', 'viral', 'protease', 'polymerase', 'entry', 'protein', 'Drugs', 'development', 'target', 'protein', 'different', 'step', 'viral', 'available', 'animal', 'coronaviruses', 'IBV', 'TGEV', 'Canine', 'CoV', 'effectiveness', 'limit', 'case', 'outbreak', 'highly', 'contagious', 'animal', 'coronaviruses', 'PEDV', 'measure', 'destruction', 'entire', 'herd', 'pig', 'use', 'prevent', 'transmission', 'herd', 'See', 'also', 'Coronavirus', 'diseases', 'Zoonosis', 'References', 'Further', 'reading']\n"
     ]
    }
   ],
   "source": [
    "from string import punctuation\n",
    "stop_words = set(stopwords.words('english'))\n",
    "\n",
    "lemmatizer = WordNetLemmatizer()\n",
    "lemma_pos = []\n",
    "for word, tag in tagged:\n",
    "    if(word not in punctuation and word not in stop_words and word.isalpha()):\n",
    "        p = getpos(tag)\n",
    "        if(p != ''):\n",
    "            lemma = lemmatizer.lemmatize(word, pos=p)\n",
    "            lemma_pos.append(lemma)\n",
    "print(lemma_pos)"
   ]
  },
  {
   "cell_type": "code",
   "execution_count": 20,
   "metadata": {},
   "outputs": [
    {
     "data": {
      "text/html": [
       "\n",
       "  <style>\n",
       "    pre {\n",
       "        white-space: pre-wrap;\n",
       "    }\n",
       "  </style>\n",
       "  "
      ],
      "text/plain": [
       "<IPython.core.display.HTML object>"
      ]
     },
     "metadata": {},
     "output_type": "display_data"
    }
   ],
   "source": [
    "id2word = corpora.Dictionary([lemma_pos])"
   ]
  },
  {
   "cell_type": "code",
   "execution_count": 30,
   "metadata": {},
   "outputs": [
    {
     "data": {
      "text/html": [
       "\n",
       "  <style>\n",
       "    pre {\n",
       "        white-space: pre-wrap;\n",
       "    }\n",
       "  </style>\n",
       "  "
      ],
      "text/plain": [
       "<IPython.core.display.HTML object>"
      ]
     },
     "metadata": {},
     "output_type": "display_data"
    }
   ],
   "source": [
    "corpus = [id2word.doc2bow([text]) for text in lemma_pos]"
   ]
  },
  {
   "cell_type": "code",
   "execution_count": 31,
   "metadata": {
    "collapsed": true,
    "jupyter": {
     "outputs_hidden": true
    }
   },
   "outputs": [
    {
     "data": {
      "text/html": [
       "\n",
       "  <style>\n",
       "    pre {\n",
       "        white-space: pre-wrap;\n",
       "    }\n",
       "  </style>\n",
       "  "
      ],
      "text/plain": [
       "<IPython.core.display.HTML object>"
      ]
     },
     "metadata": {},
     "output_type": "display_data"
    },
    {
     "data": {
      "text/plain": [
       "[[(46, 1)],\n",
       " [(508, 1)],\n",
       " [(754, 1)],\n",
       " [(158, 1)],\n",
       " [(929, 1)],\n",
       " [(295, 1)],\n",
       " [(387, 1)],\n",
       " [(613, 1)],\n",
       " [(270, 1)],\n",
       " [(527, 1)],\n",
       " [(270, 1)],\n",
       " [(295, 1)],\n",
       " [(769, 1)],\n",
       " [(885, 1)],\n",
       " [(546, 1)],\n",
       " [(735, 1)],\n",
       " [(630, 1)],\n",
       " [(590, 1)],\n",
       " [(123, 1)],\n",
       " [(533, 1)],\n",
       " [(527, 1)],\n",
       " [(539, 1)],\n",
       " [(288, 1)],\n",
       " [(324, 1)],\n",
       " [(318, 1)],\n",
       " [(239, 1)],\n",
       " [(295, 1)],\n",
       " [(928, 1)],\n",
       " [(710, 1)],\n",
       " [(775, 1)],\n",
       " [(590, 1)],\n",
       " [(918, 1)],\n",
       " [(295, 1)],\n",
       " [(171, 1)],\n",
       " [(115, 1)],\n",
       " [(353, 1)],\n",
       " [(697, 1)],\n",
       " [(295, 1)],\n",
       " [(378, 1)],\n",
       " [(641, 1)],\n",
       " [(295, 1)],\n",
       " [(517, 1)],\n",
       " [(421, 1)],\n",
       " [(46, 1)],\n",
       " [(338, 1)],\n",
       " [(843, 1)],\n",
       " [(144, 1)],\n",
       " [(460, 1)],\n",
       " [(44, 1)],\n",
       " [(669, 1)],\n",
       " [(135, 1)],\n",
       " [(743, 1)],\n",
       " [(167, 1)],\n",
       " [(434, 1)],\n",
       " [(928, 1)],\n",
       " [(158, 1)],\n",
       " [(501, 1)],\n",
       " [(661, 1)],\n",
       " [(513, 1)],\n",
       " [(859, 1)],\n",
       " [(501, 1)],\n",
       " [(813, 1)],\n",
       " [(350, 1)],\n",
       " [(735, 1)],\n",
       " [(248, 1)],\n",
       " [(577, 1)],\n",
       " [(583, 1)],\n",
       " [(158, 1)],\n",
       " [(928, 1)],\n",
       " [(300, 1)],\n",
       " [(826, 1)],\n",
       " [(724, 1)],\n",
       " [(853, 1)],\n",
       " [(412, 1)],\n",
       " [(628, 1)],\n",
       " [(354, 1)],\n",
       " [(534, 1)],\n",
       " [(758, 1)],\n",
       " [(815, 1)],\n",
       " [(348, 1)],\n",
       " [(646, 1)],\n",
       " [(368, 1)],\n",
       " [(64, 1)],\n",
       " [(646, 1)],\n",
       " [(349, 1)],\n",
       " [(368, 1)],\n",
       " [(111, 1)],\n",
       " [(348, 1)],\n",
       " [(616, 1)],\n",
       " [(356, 1)],\n",
       " [(943, 1)],\n",
       " [(271, 1)],\n",
       " [(81, 1)],\n",
       " [(948, 1)],\n",
       " [(580, 1)],\n",
       " [(493, 1)],\n",
       " [(943, 1)],\n",
       " [(646, 1)],\n",
       " [(317, 1)],\n",
       " [(105, 1)],\n",
       " [(4, 1)],\n",
       " [(49, 1)],\n",
       " [(198, 1)],\n",
       " [(473, 1)],\n",
       " [(663, 1)],\n",
       " [(841, 1)],\n",
       " [(527, 1)],\n",
       " [(350, 1)],\n",
       " [(939, 1)],\n",
       " [(473, 1)],\n",
       " [(913, 1)],\n",
       " [(716, 1)],\n",
       " [(551, 1)],\n",
       " [(508, 1)],\n",
       " [(927, 1)],\n",
       " [(572, 1)],\n",
       " [(134, 1)],\n",
       " [(370, 1)],\n",
       " [(656, 1)],\n",
       " [(460, 1)],\n",
       " [(928, 1)],\n",
       " [(646, 1)],\n",
       " [(752, 1)],\n",
       " [(300, 1)],\n",
       " [(247, 1)],\n",
       " [(926, 1)],\n",
       " [(548, 1)],\n",
       " [(481, 1)],\n",
       " [(928, 1)],\n",
       " [(412, 1)],\n",
       " [(629, 1)],\n",
       " [(485, 1)],\n",
       " [(583, 1)],\n",
       " [(278, 1)],\n",
       " [(853, 1)],\n",
       " [(725, 1)],\n",
       " [(354, 1)],\n",
       " [(534, 1)],\n",
       " [(758, 1)],\n",
       " [(815, 1)],\n",
       " [(348, 1)],\n",
       " [(510, 1)],\n",
       " [(639, 1)],\n",
       " [(354, 1)],\n",
       " [(925, 1)],\n",
       " [(826, 1)],\n",
       " [(691, 1)],\n",
       " [(729, 1)],\n",
       " [(853, 1)],\n",
       " [(787, 1)],\n",
       " [(646, 1)],\n",
       " [(45, 1)],\n",
       " [(210, 1)],\n",
       " [(504, 1)],\n",
       " [(646, 1)],\n",
       " [(101, 1)],\n",
       " [(42, 1)],\n",
       " [(136, 1)],\n",
       " [(204, 1)],\n",
       " [(586, 1)],\n",
       " [(759, 1)],\n",
       " [(101, 1)],\n",
       " [(42, 1)],\n",
       " [(191, 1)],\n",
       " [(204, 1)],\n",
       " [(662, 1)],\n",
       " [(656, 1)],\n",
       " [(819, 1)],\n",
       " [(540, 1)],\n",
       " [(504, 1)],\n",
       " [(828, 1)],\n",
       " [(504, 1)],\n",
       " [(647, 1)],\n",
       " [(5, 1)],\n",
       " [(21, 1)],\n",
       " [(51, 1)],\n",
       " [(77, 1)],\n",
       " [(324, 1)],\n",
       " [(646, 1)],\n",
       " [(349, 1)],\n",
       " [(913, 1)],\n",
       " [(751, 1)],\n",
       " [(623, 1)],\n",
       " [(843, 1)],\n",
       " [(144, 1)],\n",
       " [(819, 1)],\n",
       " [(666, 1)],\n",
       " [(747, 1)],\n",
       " [(89, 1)],\n",
       " [(404, 1)],\n",
       " [(764, 1)],\n",
       " [(349, 1)],\n",
       " [(546, 1)],\n",
       " [(245, 1)],\n",
       " [(665, 1)],\n",
       " [(585, 1)],\n",
       " [(219, 1)],\n",
       " [(769, 1)],\n",
       " [(546, 1)],\n",
       " [(399, 1)],\n",
       " [(304, 1)],\n",
       " [(417, 1)],\n",
       " [(137, 1)],\n",
       " [(7, 1)],\n",
       " [(10, 1)],\n",
       " [(174, 1)],\n",
       " [(85, 1)],\n",
       " [(612, 1)],\n",
       " [(473, 1)],\n",
       " [(373, 1)],\n",
       " [(764, 1)],\n",
       " [(369, 1)],\n",
       " [(656, 1)],\n",
       " [(769, 1)],\n",
       " [(546, 1)],\n",
       " [(304, 1)],\n",
       " [(137, 1)],\n",
       " [(48, 1)],\n",
       " [(546, 1)],\n",
       " [(303, 1)],\n",
       " [(301, 1)],\n",
       " [(494, 1)],\n",
       " [(597, 1)],\n",
       " [(519, 1)],\n",
       " [(640, 1)],\n",
       " [(738, 1)],\n",
       " [(112, 1)],\n",
       " [(49, 1)],\n",
       " [(27, 1)],\n",
       " [(33, 1)],\n",
       " [(3, 1)],\n",
       " [(23, 1)],\n",
       " [(569, 1)],\n",
       " [(928, 1)],\n",
       " [(295, 1)],\n",
       " [(546, 1)],\n",
       " [(928, 1)],\n",
       " [(578, 1)],\n",
       " [(547, 1)],\n",
       " [(275, 1)],\n",
       " [(928, 1)],\n",
       " [(95, 1)],\n",
       " [(36, 1)],\n",
       " [(93, 1)],\n",
       " [(74, 1)],\n",
       " [(168, 1)],\n",
       " [(18, 1)],\n",
       " [(358, 1)],\n",
       " [(928, 1)],\n",
       " [(473, 1)],\n",
       " [(878, 1)],\n",
       " [(823, 1)],\n",
       " [(323, 1)],\n",
       " [(578, 1)],\n",
       " [(18, 1)],\n",
       " [(836, 1)],\n",
       " [(585, 1)],\n",
       " [(245, 1)],\n",
       " [(350, 1)],\n",
       " [(103, 1)],\n",
       " [(295, 1)],\n",
       " [(273, 1)],\n",
       " [(387, 1)],\n",
       " [(644, 1)],\n",
       " [(420, 1)],\n",
       " [(517, 1)],\n",
       " [(928, 1)],\n",
       " [(116, 1)],\n",
       " [(295, 1)],\n",
       " [(517, 1)],\n",
       " [(641, 1)],\n",
       " [(385, 1)],\n",
       " [(742, 1)],\n",
       " [(878, 1)],\n",
       " [(380, 1)],\n",
       " [(928, 1)],\n",
       " [(350, 1)],\n",
       " [(385, 1)],\n",
       " [(913, 1)],\n",
       " [(380, 1)],\n",
       " [(626, 1)],\n",
       " [(201, 1)],\n",
       " [(107, 1)],\n",
       " [(201, 1)],\n",
       " [(186, 1)],\n",
       " [(106, 1)],\n",
       " [(118, 1)],\n",
       " [(28, 1)],\n",
       " [(49, 1)],\n",
       " [(198, 1)],\n",
       " [(940, 1)],\n",
       " [(43, 1)],\n",
       " [(41, 1)],\n",
       " [(200, 1)],\n",
       " [(24, 1)],\n",
       " [(120, 1)],\n",
       " [(164, 1)],\n",
       " [(47, 1)],\n",
       " [(320, 1)],\n",
       " [(908, 1)],\n",
       " [(324, 1)],\n",
       " [(318, 1)],\n",
       " [(928, 1)],\n",
       " [(370, 1)],\n",
       " [(928, 1)],\n",
       " [(358, 1)],\n",
       " [(913, 1)],\n",
       " [(832, 1)],\n",
       " [(867, 1)],\n",
       " [(851, 1)],\n",
       " [(358, 1)],\n",
       " [(774, 1)],\n",
       " [(223, 1)],\n",
       " [(579, 1)],\n",
       " [(324, 1)],\n",
       " [(318, 1)],\n",
       " [(928, 1)],\n",
       " [(198, 1)],\n",
       " [(28, 1)],\n",
       " [(851, 1)],\n",
       " [(358, 1)],\n",
       " [(660, 1)],\n",
       " [(928, 1)],\n",
       " [(795, 1)],\n",
       " [(682, 1)],\n",
       " [(670, 1)],\n",
       " [(359, 1)],\n",
       " [(527, 1)],\n",
       " [(416, 1)],\n",
       " [(884, 1)],\n",
       " [(656, 1)],\n",
       " [(358, 1)],\n",
       " [(626, 1)],\n",
       " [(565, 1)],\n",
       " [(581, 1)],\n",
       " [(20, 1)],\n",
       " [(90, 1)],\n",
       " [(570, 1)],\n",
       " [(928, 1)],\n",
       " [(564, 1)],\n",
       " [(555, 1)],\n",
       " [(933, 1)],\n",
       " [(295, 1)],\n",
       " [(318, 1)],\n",
       " [(537, 1)],\n",
       " [(444, 1)],\n",
       " [(541, 1)],\n",
       " [(596, 1)],\n",
       " [(433, 1)],\n",
       " [(56, 1)],\n",
       " [(84, 1)],\n",
       " [(104, 1)],\n",
       " [(153, 1)],\n",
       " [(202, 1)],\n",
       " [(37, 1)],\n",
       " [(569, 1)],\n",
       " [(660, 1)],\n",
       " [(318, 1)],\n",
       " [(621, 1)],\n",
       " [(840, 1)],\n",
       " [(569, 1)],\n",
       " [(509, 1)],\n",
       " [(928, 1)],\n",
       " [(575, 1)],\n",
       " [(881, 1)],\n",
       " [(359, 1)],\n",
       " [(370, 1)],\n",
       " [(660, 1)],\n",
       " [(928, 1)],\n",
       " [(295, 1)],\n",
       " [(318, 1)],\n",
       " [(933, 1)],\n",
       " [(537, 1)],\n",
       " [(444, 1)],\n",
       " [(176, 1)],\n",
       " [(927, 1)],\n",
       " [(105, 1)],\n",
       " [(4, 1)],\n",
       " [(192, 1)],\n",
       " [(91, 1)],\n",
       " [(113, 1)],\n",
       " [(319, 1)],\n",
       " [(198, 1)],\n",
       " [(325, 1)],\n",
       " [(839, 1)],\n",
       " [(95, 1)],\n",
       " [(203, 1)],\n",
       " [(412, 1)],\n",
       " [(629, 1)],\n",
       " [(928, 1)],\n",
       " [(806, 1)],\n",
       " [(638, 1)],\n",
       " [(753, 1)],\n",
       " [(498, 1)],\n",
       " [(801, 1)],\n",
       " [(391, 1)],\n",
       " [(826, 1)],\n",
       " [(0, 1)],\n",
       " [(766, 1)],\n",
       " [(508, 1)],\n",
       " [(133, 1)],\n",
       " [(100, 1)],\n",
       " [(86, 1)],\n",
       " [(944, 1)],\n",
       " [(209, 1)],\n",
       " [(569, 1)],\n",
       " [(623, 1)],\n",
       " [(656, 1)],\n",
       " [(508, 1)],\n",
       " [(928, 1)],\n",
       " [(913, 1)],\n",
       " [(670, 1)],\n",
       " [(359, 1)],\n",
       " [(646, 1)],\n",
       " [(784, 1)],\n",
       " [(139, 1)],\n",
       " [(670, 1)],\n",
       " [(359, 1)],\n",
       " [(95, 1)],\n",
       " [(660, 1)],\n",
       " [(318, 1)],\n",
       " [(928, 1)],\n",
       " [(391, 1)],\n",
       " [(826, 1)],\n",
       " [(663, 1)],\n",
       " [(412, 1)],\n",
       " [(660, 1)],\n",
       " [(318, 1)],\n",
       " [(928, 1)],\n",
       " [(817, 1)],\n",
       " [(806, 1)],\n",
       " [(239, 1)],\n",
       " [(638, 1)],\n",
       " [(753, 1)],\n",
       " [(641, 1)],\n",
       " [(517, 1)],\n",
       " [(928, 1)],\n",
       " [(656, 1)],\n",
       " [(508, 1)],\n",
       " [(928, 1)],\n",
       " [(646, 1)],\n",
       " [(350, 1)],\n",
       " [(391, 1)],\n",
       " [(637, 1)],\n",
       " [(247, 1)],\n",
       " [(94, 1)],\n",
       " [(349, 1)],\n",
       " [(527, 1)],\n",
       " [(349, 1)],\n",
       " [(345, 1)],\n",
       " [(841, 1)],\n",
       " [(846, 1)],\n",
       " [(363, 1)],\n",
       " [(349, 1)],\n",
       " [(836, 1)],\n",
       " [(601, 1)],\n",
       " [(578, 1)],\n",
       " [(712, 1)],\n",
       " [(527, 1)],\n",
       " [(349, 1)],\n",
       " [(145, 1)],\n",
       " [(527, 1)],\n",
       " [(350, 1)],\n",
       " [(530, 1)],\n",
       " [(539, 1)],\n",
       " [(82, 1)],\n",
       " [(82, 1)],\n",
       " [(239, 1)],\n",
       " [(583, 1)],\n",
       " [(662, 1)],\n",
       " [(245, 1)],\n",
       " [(350, 1)],\n",
       " [(530, 1)],\n",
       " [(121, 1)],\n",
       " [(187, 1)],\n",
       " [(46, 1)],\n",
       " [(583, 1)],\n",
       " [(782, 1)],\n",
       " [(825, 1)],\n",
       " [(681, 1)],\n",
       " [(908, 1)],\n",
       " [(853, 1)],\n",
       " [(725, 1)],\n",
       " [(813, 1)],\n",
       " [(520, 1)],\n",
       " [(916, 1)],\n",
       " [(256, 1)],\n",
       " [(377, 1)],\n",
       " [(657, 1)],\n",
       " [(66, 1)],\n",
       " [(813, 1)],\n",
       " [(578, 1)],\n",
       " [(657, 1)],\n",
       " [(377, 1)],\n",
       " [(882, 1)],\n",
       " [(633, 1)],\n",
       " [(934, 1)],\n",
       " [(256, 1)],\n",
       " [(574, 1)],\n",
       " [(422, 1)],\n",
       " [(433, 1)],\n",
       " [(415, 1)],\n",
       " [(662, 1)],\n",
       " [(729, 1)],\n",
       " [(634, 1)],\n",
       " [(596, 1)],\n",
       " [(267, 1)],\n",
       " [(433, 1)],\n",
       " [(624, 1)],\n",
       " [(729, 1)],\n",
       " [(661, 1)],\n",
       " [(728, 1)],\n",
       " [(928, 1)],\n",
       " [(526, 1)],\n",
       " [(925, 1)],\n",
       " [(433, 1)],\n",
       " [(612, 1)],\n",
       " [(596, 1)],\n",
       " [(267, 1)],\n",
       " [(624, 1)],\n",
       " [(114, 1)],\n",
       " [(59, 1)],\n",
       " [(826, 1)],\n",
       " [(170, 1)],\n",
       " [(838, 1)],\n",
       " [(729, 1)],\n",
       " [(244, 1)],\n",
       " [(739, 1)],\n",
       " [(59, 1)],\n",
       " [(170, 1)],\n",
       " [(114, 1)],\n",
       " [(596, 1)],\n",
       " [(267, 1)],\n",
       " [(248, 1)],\n",
       " [(59, 1)],\n",
       " [(114, 1)],\n",
       " [(729, 1)],\n",
       " [(838, 1)],\n",
       " [(729, 1)],\n",
       " [(322, 1)],\n",
       " [(596, 1)],\n",
       " [(267, 1)],\n",
       " [(801, 1)],\n",
       " [(925, 1)],\n",
       " [(433, 1)],\n",
       " [(609, 1)],\n",
       " [(813, 1)],\n",
       " [(170, 1)],\n",
       " [(729, 1)],\n",
       " [(650, 1)],\n",
       " [(558, 1)],\n",
       " [(526, 1)],\n",
       " [(296, 1)],\n",
       " [(527, 1)],\n",
       " [(349, 1)],\n",
       " [(688, 1)],\n",
       " [(114, 1)],\n",
       " [(729, 1)],\n",
       " [(269, 1)],\n",
       " [(812, 1)],\n",
       " [(526, 1)],\n",
       " [(296, 1)],\n",
       " [(170, 1)],\n",
       " [(729, 1)],\n",
       " [(377, 1)],\n",
       " [(433, 1)],\n",
       " [(657, 1)],\n",
       " [(433, 1)],\n",
       " [(928, 1)],\n",
       " [(412, 1)],\n",
       " [(628, 1)],\n",
       " [(246, 1)],\n",
       " [(390, 1)],\n",
       " [(677, 1)],\n",
       " [(804, 1)],\n",
       " [(804, 1)],\n",
       " [(755, 1)],\n",
       " [(667, 1)],\n",
       " [(412, 1)],\n",
       " [(262, 1)],\n",
       " [(913, 1)],\n",
       " [(786, 1)],\n",
       " [(928, 1)],\n",
       " [(681, 1)],\n",
       " [(114, 1)],\n",
       " [(729, 1)],\n",
       " [(607, 1)],\n",
       " [(838, 1)],\n",
       " [(729, 1)],\n",
       " [(433, 1)],\n",
       " [(731, 1)],\n",
       " [(675, 1)],\n",
       " [(801, 1)],\n",
       " [(904, 1)],\n",
       " [(96, 1)],\n",
       " [(624, 1)],\n",
       " [(729, 1)],\n",
       " [(337, 1)],\n",
       " [(241, 1)],\n",
       " [(212, 1)],\n",
       " [(768, 1)],\n",
       " [(481, 1)],\n",
       " [(588, 1)],\n",
       " [(657, 1)],\n",
       " [(874, 1)],\n",
       " [(396, 1)],\n",
       " [(805, 1)],\n",
       " [(407, 1)],\n",
       " [(892, 1)],\n",
       " [(396, 1)],\n",
       " [(426, 1)],\n",
       " [(396, 1)],\n",
       " [(481, 1)],\n",
       " [(587, 1)],\n",
       " [(220, 1)],\n",
       " [(433, 1)],\n",
       " [(53, 1)],\n",
       " [(819, 1)],\n",
       " [(507, 1)],\n",
       " [(729, 1)],\n",
       " [(396, 1)],\n",
       " [(114, 1)],\n",
       " [(729, 1)],\n",
       " [(357, 1)],\n",
       " [(251, 1)],\n",
       " [(277, 1)],\n",
       " [(433, 1)],\n",
       " [(482, 1)],\n",
       " [(685, 1)],\n",
       " [(831, 1)],\n",
       " [(928, 1)],\n",
       " [(59, 1)],\n",
       " [(729, 1)],\n",
       " [(631, 1)],\n",
       " [(838, 1)],\n",
       " [(729, 1)],\n",
       " [(520, 1)],\n",
       " [(916, 1)],\n",
       " [(380, 1)],\n",
       " [(819, 1)],\n",
       " [(347, 1)],\n",
       " [(59, 1)],\n",
       " [(729, 1)],\n",
       " [(634, 1)],\n",
       " [(349, 1)],\n",
       " [(681, 1)],\n",
       " [(574, 1)],\n",
       " [(813, 1)],\n",
       " [(330, 1)],\n",
       " [(241, 1)],\n",
       " [(212, 1)],\n",
       " [(557, 1)],\n",
       " [(729, 1)],\n",
       " [(415, 1)],\n",
       " [(596, 1)],\n",
       " [(588, 1)],\n",
       " [(396, 1)],\n",
       " [(647, 1)],\n",
       " [(892, 1)],\n",
       " [(396, 1)],\n",
       " [(458, 1)],\n",
       " [(396, 1)],\n",
       " [(235, 1)],\n",
       " [(486, 1)],\n",
       " [(811, 1)],\n",
       " [(892, 1)],\n",
       " [(396, 1)],\n",
       " [(481, 1)],\n",
       " [(689, 1)],\n",
       " [(568, 1)],\n",
       " [(299, 1)],\n",
       " [(596, 1)],\n",
       " [(267, 1)],\n",
       " [(770, 1)],\n",
       " [(926, 1)],\n",
       " [(251, 1)],\n",
       " [(563, 1)],\n",
       " [(886, 1)],\n",
       " [(636, 1)],\n",
       " [(276, 1)],\n",
       " [(826, 1)],\n",
       " [(392, 1)],\n",
       " [(465, 1)],\n",
       " [(350, 1)],\n",
       " [(770, 1)],\n",
       " [(853, 1)],\n",
       " [(256, 1)],\n",
       " [(349, 1)],\n",
       " [(681, 1)],\n",
       " [(853, 1)],\n",
       " [(826, 1)],\n",
       " [(826, 1)],\n",
       " [(657, 1)],\n",
       " [(600, 1)],\n",
       " [(330, 1)],\n",
       " [(898, 1)],\n",
       " [(170, 1)],\n",
       " [(729, 1)],\n",
       " [(170, 1)],\n",
       " [(729, 1)],\n",
       " [(903, 1)],\n",
       " [(330, 1)],\n",
       " [(850, 1)],\n",
       " [(522, 1)],\n",
       " [(170, 1)],\n",
       " [(729, 1)],\n",
       " [(308, 1)],\n",
       " [(490, 1)],\n",
       " [(729, 1)],\n",
       " [(620, 1)],\n",
       " [(746, 1)],\n",
       " [(269, 1)],\n",
       " [(624, 1)],\n",
       " [(490, 1)],\n",
       " [(928, 1)],\n",
       " [(526, 1)],\n",
       " [(296, 1)],\n",
       " [(850, 1)],\n",
       " [(481, 1)],\n",
       " [(512, 1)],\n",
       " [(826, 1)],\n",
       " [(396, 1)],\n",
       " [(157, 1)],\n",
       " [(850, 1)],\n",
       " [(481, 1)],\n",
       " [(834, 1)],\n",
       " [(244, 1)],\n",
       " [(826, 1)],\n",
       " [(925, 1)],\n",
       " [(433, 1)],\n",
       " [(727, 1)],\n",
       " [(217, 1)],\n",
       " [(419, 1)],\n",
       " [(490, 1)],\n",
       " [(850, 1)],\n",
       " [(757, 1)],\n",
       " [(658, 1)],\n",
       " [(595, 1)],\n",
       " [(455, 1)],\n",
       " [(925, 1)],\n",
       " [(853, 1)],\n",
       " [(253, 1)],\n",
       " [(526, 1)],\n",
       " [(296, 1)],\n",
       " [(624, 1)],\n",
       " [(488, 1)],\n",
       " [(218, 1)],\n",
       " [(833, 1)],\n",
       " [(253, 1)],\n",
       " [(850, 1)],\n",
       " [(850, 1)],\n",
       " [(328, 1)],\n",
       " [(828, 1)],\n",
       " [(543, 1)],\n",
       " [(850, 1)],\n",
       " [(928, 1)],\n",
       " [(268, 1)],\n",
       " [(489, 1)],\n",
       " [(526, 1)],\n",
       " [(296, 1)],\n",
       " [(215, 1)],\n",
       " [(727, 1)],\n",
       " [(292, 1)],\n",
       " [(460, 1)],\n",
       " [(892, 1)],\n",
       " [(727, 1)],\n",
       " [(796, 1)],\n",
       " [(526, 1)],\n",
       " [(296, 1)],\n",
       " [(729, 1)],\n",
       " [(355, 1)],\n",
       " [(329, 1)],\n",
       " [(870, 1)],\n",
       " [(546, 1)],\n",
       " [(239, 1)],\n",
       " [(916, 1)],\n",
       " [(329, 1)],\n",
       " [(770, 1)],\n",
       " [(526, 1)],\n",
       " [(296, 1)],\n",
       " [(822, 1)],\n",
       " [(707, 1)],\n",
       " [(610, 1)],\n",
       " [(396, 1)],\n",
       " [(646, 1)],\n",
       " [(396, 1)],\n",
       " [(396, 1)],\n",
       " [(797, 1)],\n",
       " [(396, 1)],\n",
       " [(132, 1)],\n",
       " [(748, 1)],\n",
       " [(268, 1)],\n",
       " [(852, 1)],\n",
       " [(853, 1)],\n",
       " [(526, 1)],\n",
       " [(296, 1)],\n",
       " [(450, 1)],\n",
       " [(116, 1)],\n",
       " [(131, 1)],\n",
       " [(268, 1)],\n",
       " [(729, 1)],\n",
       " [(746, 1)],\n",
       " [(286, 1)],\n",
       " [(296, 1)],\n",
       " [(224, 1)],\n",
       " [(634, 1)],\n",
       " [(770, 1)],\n",
       " [(748, 1)],\n",
       " [(380, 1)],\n",
       " [(729, 1)],\n",
       " [(746, 1)],\n",
       " [(436, 1)],\n",
       " [(242, 1)],\n",
       " [(130, 1)],\n",
       " [(1, 1)],\n",
       " [(382, 1)],\n",
       " [(692, 1)],\n",
       " [(848, 1)],\n",
       " [(350, 1)],\n",
       " [(821, 1)],\n",
       " [(623, 1)],\n",
       " [(265, 1)],\n",
       " [(0, 1)],\n",
       " [(239, 1)],\n",
       " [(805, 1)],\n",
       " [(853, 1)],\n",
       " [(729, 1)],\n",
       " [(280, 1)],\n",
       " [(516, 1)],\n",
       " [(442, 1)],\n",
       " [(83, 1)],\n",
       " [(83, 1)],\n",
       " [(730, 1)],\n",
       " [(665, 1)],\n",
       " [(521, 1)],\n",
       " [(330, 1)],\n",
       " [(241, 1)],\n",
       " [(212, 1)],\n",
       " [(768, 1)],\n",
       " [(574, 1)],\n",
       " [(813, 1)],\n",
       " [(246, 1)],\n",
       " [(880, 1)],\n",
       " [(853, 1)],\n",
       " [(725, 1)],\n",
       " [(657, 1)],\n",
       " [(600, 1)],\n",
       " [(415, 1)],\n",
       " [(826, 1)],\n",
       " [(515, 1)],\n",
       " [(254, 1)],\n",
       " [(372, 1)],\n",
       " [(526, 1)],\n",
       " [(433, 1)],\n",
       " [(661, 1)],\n",
       " [(481, 1)],\n",
       " [(643, 1)],\n",
       " [(347, 1)],\n",
       " [(661, 1)],\n",
       " [(130, 1)],\n",
       " [(729, 1)],\n",
       " [(268, 1)],\n",
       " [(158, 1)],\n",
       " [(501, 1)],\n",
       " [(346, 1)],\n",
       " [(904, 1)],\n",
       " [(335, 1)],\n",
       " [(130, 1)],\n",
       " [(729, 1)],\n",
       " [(696, 1)],\n",
       " [(574, 1)],\n",
       " [(813, 1)],\n",
       " [(394, 1)],\n",
       " [(336, 1)],\n",
       " [(396, 1)],\n",
       " [(611, 1)],\n",
       " [(729, 1)],\n",
       " [(612, 1)],\n",
       " [(396, 1)],\n",
       " [(905, 1)],\n",
       " [(778, 1)],\n",
       " [(250, 1)],\n",
       " [(605, 1)],\n",
       " [(54, 1)],\n",
       " [(805, 1)],\n",
       " [(285, 1)],\n",
       " [(871, 1)],\n",
       " [(424, 1)],\n",
       " [(654, 1)],\n",
       " [(651, 1)],\n",
       " [(302, 1)],\n",
       " [(402, 1)],\n",
       " [(451, 1)],\n",
       " [(213, 1)],\n",
       " [(260, 1)],\n",
       " [(241, 1)],\n",
       " [(212, 1)],\n",
       " [(768, 1)],\n",
       " [(78, 1)],\n",
       " [(46, 1)],\n",
       " [(341, 1)],\n",
       " [(158, 1)],\n",
       " [(501, 1)],\n",
       " [(501, 1)],\n",
       " [(813, 1)],\n",
       " [(350, 1)],\n",
       " [(735, 1)],\n",
       " [(577, 1)],\n",
       " [(501, 1)],\n",
       " [(813, 1)],\n",
       " [(583, 1)],\n",
       " [(158, 1)],\n",
       " [(928, 1)],\n",
       " [(501, 1)],\n",
       " [(627, 1)],\n",
       " [(282, 1)],\n",
       " [(701, 1)],\n",
       " [(501, 1)],\n",
       " [(671, 1)],\n",
       " [(349, 1)],\n",
       " [(170, 1)],\n",
       " [(59, 1)],\n",
       " [(114, 1)],\n",
       " [(130, 1)],\n",
       " [(0, 1)],\n",
       " [(865, 1)],\n",
       " [(668, 1)],\n",
       " [(741, 1)],\n",
       " [(483, 1)],\n",
       " [(664, 1)],\n",
       " [(473, 1)],\n",
       " [(501, 1)],\n",
       " [(423, 1)],\n",
       " [(760, 1)],\n",
       " [(703, 1)],\n",
       " [(760, 1)],\n",
       " [(703, 1)],\n",
       " [(310, 1)],\n",
       " [(481, 1)],\n",
       " [(659, 1)],\n",
       " [(729, 1)],\n",
       " [(586, 1)],\n",
       " [(740, 1)],\n",
       " [(483, 1)],\n",
       " [(423, 1)],\n",
       " [(610, 1)],\n",
       " [(838, 1)],\n",
       " [(729, 1)],\n",
       " [(826, 1)],\n",
       " [(433, 1)],\n",
       " [(624, 1)],\n",
       " [(661, 1)],\n",
       " [(102, 1)],\n",
       " [(740, 1)],\n",
       " [(483, 1)],\n",
       " [(741, 1)],\n",
       " [(483, 1)],\n",
       " [(211, 1)],\n",
       " [(729, 1)],\n",
       " [(662, 1)],\n",
       " [(211, 1)],\n",
       " [(729, 1)],\n",
       " [(487, 1)],\n",
       " [(908, 1)],\n",
       " [(367, 1)],\n",
       " [(820, 1)],\n",
       " [(349, 1)],\n",
       " [(162, 1)],\n",
       " [(360, 1)],\n",
       " [(34, 1)],\n",
       " [(432, 1)],\n",
       " [(98, 1)],\n",
       " [(264, 1)],\n",
       " [(925, 1)],\n",
       " [(826, 1)],\n",
       " [(729, 1)],\n",
       " [(253, 1)],\n",
       " [(327, 1)],\n",
       " [(526, 1)],\n",
       " [(296, 1)],\n",
       " [(746, 1)],\n",
       " [(254, 1)],\n",
       " [(727, 1)],\n",
       " [(526, 1)],\n",
       " [(296, 1)],\n",
       " [(311, 1)],\n",
       " [(216, 1)],\n",
       " [(826, 1)],\n",
       " [(729, 1)],\n",
       " [(52, 1)],\n",
       " [(526, 1)],\n",
       " [(296, 1)],\n",
       " [(727, 1)],\n",
       " [(255, 1)],\n",
       " [(309, 1)],\n",
       " [(217, 1)],\n",
       " [(234, 1)],\n",
       " [(928, 1)],\n",
       " [(428, 1)],\n",
       " [(526, 1)],\n",
       " ...]"
      ]
     },
     "execution_count": 31,
     "metadata": {},
     "output_type": "execute_result"
    }
   ],
   "source": [
    "corpus"
   ]
  },
  {
   "cell_type": "code",
   "execution_count": 37,
   "metadata": {},
   "outputs": [
    {
     "name": "stderr",
     "output_type": "stream",
     "text": [
      "C:\\Users\\Lucas\\anaconda3\\lib\\site-packages\\ipykernel\\ipkernel.py:287: DeprecationWarning: `should_run_async` will not call `transform_cell` automatically in the future. Please pass the result to `transformed_cell` argument and any exception that happen during thetransform in `preprocessing_exc_tuple` in IPython 7.17 and above.\n",
      "  and should_run_async(code)\n"
     ]
    },
    {
     "data": {
      "text/html": [
       "\n",
       "  <style>\n",
       "    pre {\n",
       "        white-space: pre-wrap;\n",
       "    }\n",
       "  </style>\n",
       "  "
      ],
      "text/plain": [
       "<IPython.core.display.HTML object>"
      ]
     },
     "metadata": {},
     "output_type": "display_data"
    },
    {
     "name": "stdout",
     "output_type": "stream",
     "text": [
      "[(0, '0.092*\"coronavirus\" + 0.040*\"herd\" + 0.023*\"Coronavirus\" + 0.021*\"human\" + 0.020*\"References\" + 0.020*\"entire\" + 0.020*\"Further\" + 0.020*\"Zoonosis\" + 0.020*\"destruction\" + 0.020*\"prevent\"'), (1, '0.050*\"virus\" + 0.031*\"also\" + 0.031*\"pig\" + 0.029*\"specie\" + 0.029*\"use\" + 0.026*\"coronaviruses\" + 0.023*\"reading\" + 0.023*\"animal\" + 0.020*\"respiratory\" + 0.016*\"disease\"'), (2, '0.043*\"cause\" + 0.027*\"transmission\" + 0.025*\"infect\" + 0.019*\"bat\" + 0.018*\"strain\" + 0.016*\"diarrhea\" + 0.015*\"case\" + 0.015*\"different\" + 0.011*\"bronchitis\" + 0.011*\"high\"')]\n"
     ]
    }
   ],
   "source": [
    "lda_model = models.LdaModel(corpus=corpus,\n",
    "                            id2word=id2word,\n",
    "                            num_topics = 3,\n",
    "                            random_state=100,\n",
    "                            chunksize=100,\n",
    "                            passes=10,\n",
    "                            per_word_topics=True)\n",
    "print(lda_model.print_topics())"
   ]
  },
  {
   "cell_type": "code",
   "execution_count": 38,
   "metadata": {},
   "outputs": [
    {
     "name": "stderr",
     "output_type": "stream",
     "text": [
      "C:\\Users\\Lucas\\anaconda3\\lib\\site-packages\\ipykernel\\ipkernel.py:287: DeprecationWarning: `should_run_async` will not call `transform_cell` automatically in the future. Please pass the result to `transformed_cell` argument and any exception that happen during thetransform in `preprocessing_exc_tuple` in IPython 7.17 and above.\n",
      "  and should_run_async(code)\n"
     ]
    },
    {
     "data": {
      "text/html": [
       "\n",
       "  <style>\n",
       "    pre {\n",
       "        white-space: pre-wrap;\n",
       "    }\n",
       "  </style>\n",
       "  "
      ],
      "text/plain": [
       "<IPython.core.display.HTML object>"
      ]
     },
     "metadata": {},
     "output_type": "display_data"
    },
    {
     "name": "stdout",
     "output_type": "stream",
     "text": [
      "Requirement already satisfied: pyLDAvis in c:\\users\\lucas\\anaconda3\\lib\\site-packages (3.2.1)\n",
      "Requirement already satisfied: numexpr in c:\\users\\lucas\\anaconda3\\lib\\site-packages (from pyLDAvis) (2.7.1)\n",
      "Requirement already satisfied: scipy>=0.18.0 in c:\\users\\lucas\\anaconda3\\lib\\site-packages (from pyLDAvis) (1.5.2)\n",
      "Requirement already satisfied: funcy in c:\\users\\lucas\\anaconda3\\lib\\site-packages (from pyLDAvis) (1.15)\n",
      "Requirement already satisfied: jinja2>=2.7.2 in c:\\users\\lucas\\anaconda3\\lib\\site-packages (from pyLDAvis) (2.11.2)\n",
      "Requirement already satisfied: pandas>=0.17.0; python_version > \"3.5\" in c:\\users\\lucas\\anaconda3\\lib\\site-packages (from pyLDAvis) (1.1.3)\n",
      "Requirement already satisfied: future in c:\\users\\lucas\\anaconda3\\lib\\site-packages (from pyLDAvis) (0.18.2)\n",
      "Requirement already satisfied: joblib>=0.8.4 in c:\\users\\lucas\\anaconda3\\lib\\site-packages (from pyLDAvis) (0.17.0)\n",
      "Requirement already satisfied: numpy>=1.9.2 in c:\\users\\lucas\\anaconda3\\lib\\site-packages (from pyLDAvis) (1.19.5)\n",
      "Requirement already satisfied: wheel>=0.23.0 in c:\\users\\lucas\\anaconda3\\lib\\site-packages (from pyLDAvis) (0.35.1)\n",
      "Requirement already satisfied: MarkupSafe>=0.23 in c:\\users\\lucas\\anaconda3\\lib\\site-packages (from jinja2>=2.7.2->pyLDAvis) (1.1.1)\n",
      "Requirement already satisfied: pytz>=2017.2 in c:\\users\\lucas\\anaconda3\\lib\\site-packages (from pandas>=0.17.0; python_version > \"3.5\"->pyLDAvis) (2020.1)\n",
      "Requirement already satisfied: python-dateutil>=2.7.3 in c:\\users\\lucas\\anaconda3\\lib\\site-packages (from pandas>=0.17.0; python_version > \"3.5\"->pyLDAvis) (2.8.1)\n",
      "Requirement already satisfied: six>=1.5 in c:\\users\\lucas\\anaconda3\\lib\\site-packages (from python-dateutil>=2.7.3->pandas>=0.17.0; python_version > \"3.5\"->pyLDAvis) (1.15.0)\n"
     ]
    }
   ],
   "source": [
    "!pip install pyLDAvis"
   ]
  },
  {
   "cell_type": "code",
   "execution_count": 39,
   "metadata": {},
   "outputs": [
    {
     "name": "stderr",
     "output_type": "stream",
     "text": [
      "C:\\Users\\Lucas\\anaconda3\\lib\\site-packages\\ipykernel\\ipkernel.py:287: DeprecationWarning: `should_run_async` will not call `transform_cell` automatically in the future. Please pass the result to `transformed_cell` argument and any exception that happen during thetransform in `preprocessing_exc_tuple` in IPython 7.17 and above.\n",
      "  and should_run_async(code)\n"
     ]
    },
    {
     "data": {
      "text/html": [
       "\n",
       "  <style>\n",
       "    pre {\n",
       "        white-space: pre-wrap;\n",
       "    }\n",
       "  </style>\n",
       "  "
      ],
      "text/plain": [
       "<IPython.core.display.HTML object>"
      ]
     },
     "metadata": {},
     "output_type": "display_data"
    }
   ],
   "source": [
    "import pyLDAvis.gensim"
   ]
  },
  {
   "cell_type": "code",
   "execution_count": 40,
   "metadata": {},
   "outputs": [
    {
     "name": "stderr",
     "output_type": "stream",
     "text": [
      "C:\\Users\\Lucas\\anaconda3\\lib\\site-packages\\ipykernel\\ipkernel.py:287: DeprecationWarning: `should_run_async` will not call `transform_cell` automatically in the future. Please pass the result to `transformed_cell` argument and any exception that happen during thetransform in `preprocessing_exc_tuple` in IPython 7.17 and above.\n",
      "  and should_run_async(code)\n"
     ]
    },
    {
     "data": {
      "text/html": [
       "\n",
       "  <style>\n",
       "    pre {\n",
       "        white-space: pre-wrap;\n",
       "    }\n",
       "  </style>\n",
       "  "
      ],
      "text/plain": [
       "<IPython.core.display.HTML object>"
      ]
     },
     "metadata": {},
     "output_type": "display_data"
    }
   ],
   "source": [
    "pyLDAvis.enable_notebook()\n",
    "vis = pyLDAvis.gensim.prepare(lda_model, corpus, id2word)"
   ]
  },
  {
   "cell_type": "code",
   "execution_count": 41,
   "metadata": {},
   "outputs": [
    {
     "name": "stderr",
     "output_type": "stream",
     "text": [
      "C:\\Users\\Lucas\\anaconda3\\lib\\site-packages\\ipykernel\\ipkernel.py:287: DeprecationWarning: `should_run_async` will not call `transform_cell` automatically in the future. Please pass the result to `transformed_cell` argument and any exception that happen during thetransform in `preprocessing_exc_tuple` in IPython 7.17 and above.\n",
      "  and should_run_async(code)\n"
     ]
    },
    {
     "data": {
      "text/html": [
       "\n",
       "  <style>\n",
       "    pre {\n",
       "        white-space: pre-wrap;\n",
       "    }\n",
       "  </style>\n",
       "  "
      ],
      "text/plain": [
       "<IPython.core.display.HTML object>"
      ]
     },
     "metadata": {},
     "output_type": "display_data"
    },
    {
     "data": {
      "text/html": [
       "\n",
       "<link rel=\"stylesheet\" type=\"text/css\" href=\"https://cdn.jsdelivr.net/gh/bmabey/pyLDAvis/pyLDAvis/js/ldavis.v1.0.0.css\">\n",
       "\n",
       "\n",
       "<div id=\"ldavis_el948427070767658409342732139\"></div>\n",
       "<script type=\"text/javascript\">\n",
       "\n",
       "var ldavis_el948427070767658409342732139_data = {\"mdsDat\": {\"x\": [-0.05417144539597974, -0.15707699998352462, 0.21124844537950427], \"y\": [-0.19762805702952618, 0.14241323256732344, 0.05521482446220281], \"topics\": [1, 2, 3], \"cluster\": [1, 1, 1], \"Freq\": [34.18929733229401, 33.48948789700627, 32.32121477069972]}, \"tinfo\": {\"Term\": [\"coronavirus\", \"virus\", \"cause\", \"herd\", \"also\", \"pig\", \"specie\", \"use\", \"transmission\", \"coronaviruses\", \"infect\", \"Coronavirus\", \"animal\", \"reading\", \"human\", \"respiratory\", \"bat\", \"References\", \"entire\", \"Further\", \"Zoonosis\", \"destruction\", \"prevent\", \"measure\", \"See\", \"diseases\", \"strain\", \"disease\", \"diarrhea\", \"case\", \"cause\", \"infect\", \"transmission\", \"bat\", \"strain\", \"diarrhea\", \"different\", \"case\", \"bronchitis\", \"high\", \"MHV\", \"Canine\", \"Middle\", \"East\", \"infectious\", \"mortality\", \"spread\", \"type\", \"IBV\", \"mouse\", \"Murine\", \"host\", \"know\", \"cell\", \"enteric\", \"gastrointestinal\", \"mild\", \"SARS\", \"epidemic\", \"murine\", \"ferret\", \"virus\", \"also\", \"pig\", \"specie\", \"use\", \"coronaviruses\", \"animal\", \"reading\", \"respiratory\", \"disease\", \"protein\", \"viral\", \"laboratory\", \"outbreak\", \"Betacoronavirus\", \"Alphacoronavirus\", \"number\", \"Human\", \"name\", \"identify\", \"cold\", \"Health\", \"highly\", \"young\", \"bird\", \"enteritis\", \"avian\", \"form\", \"new\", \"vaccine\", \"limit\", \"PEDV\", \"coronavirus\", \"Coronavirus\", \"herd\", \"human\", \"member\", \"syndrome\", \"Coronaviruses\", \"References\", \"entire\", \"Further\", \"Zoonosis\", \"destruction\", \"prevent\", \"measure\", \"See\", \"diseases\", \"acute\", \"relate\", \"transmit\", \"target\", \"tract\", \"common\", \"dog\", \"cat\", \"TGEV\", \"aerosol\", \"RNA\", \"direct\", \"cattle\", \"severe\", \"production\"], \"Freq\": [75.0, 42.0, 37.0, 33.0, 27.0, 26.0, 24.0, 24.0, 23.0, 22.0, 22.0, 19.0, 20.0, 20.0, 17.0, 17.0, 16.0, 17.0, 17.0, 17.0, 17.0, 17.0, 17.0, 17.0, 17.0, 17.0, 16.0, 14.0, 14.0, 13.0, 37.0866032173054, 21.780171354958817, 22.961366090797743, 16.44852411488919, 15.877493216065776, 13.595900582900635, 12.758138493806719, 12.862618021013962, 9.65343417930861, 9.634809407647959, 9.06581257528501, 8.39032859692701, 8.106089848804318, 8.106089047359694, 8.865477866489538, 8.135355400762679, 7.716328894016125, 7.533698898450802, 7.4443241981073776, 7.507066092088433, 7.1174870652303115, 6.137401233695451, 6.097385904970262, 5.921065282222121, 7.7244747771934925, 7.724352156165734, 5.392141482597425, 5.285403885156786, 5.107211889207232, 5.528304920921599, 7.090631457261949, 41.72757352323297, 26.523111158928973, 26.222192720091282, 24.26820587899073, 24.165064167796178, 21.70186262259982, 19.540055250554182, 19.62710049911757, 16.983493594064964, 13.784092414405542, 12.002235040210703, 10.14749454122668, 9.707072902892138, 8.666082226676856, 7.2447254813469035, 7.157093022773367, 6.823550671647179, 6.764198498375297, 6.142630814830798, 6.109906024886813, 5.5408045351970445, 5.505648475999806, 5.537402171314706, 6.294314696837656, 4.693478153953551, 5.843777816550198, 4.5103353591970485, 4.063092507255298, 3.852839529496778, 4.540787457992125, 4.540759196547786, 4.540586095201211, 75.1310549186019, 18.97437901654783, 32.56475532950209, 17.096604362177764, 11.286169643705119, 10.353730711207376, 9.131306461942222, 16.172372339708538, 16.1722192935651, 16.172145043455902, 16.172131405680744, 16.172119283213938, 16.17210564543878, 16.17209049235527, 16.172078369888464, 16.172028364712883, 8.20509241615001, 7.92348145098389, 6.667683292944166, 6.458272982427929, 5.765685011080724, 4.859841634276853, 5.329205744180945, 5.329170892088874, 4.784603544037576, 4.720351060515293, 4.5966117382343334, 4.217668350591439, 4.675294503182312, 3.9563526678232046, 3.9953983757552223], \"Total\": [75.0, 42.0, 37.0, 33.0, 27.0, 26.0, 24.0, 24.0, 23.0, 22.0, 22.0, 19.0, 20.0, 20.0, 17.0, 17.0, 16.0, 17.0, 17.0, 17.0, 17.0, 17.0, 17.0, 17.0, 17.0, 17.0, 16.0, 14.0, 14.0, 13.0, 37.55224052023621, 22.24481683863569, 23.458454697124356, 16.919730445065223, 16.347976443840032, 14.086787909183348, 13.224554258668533, 13.33506210762357, 10.132287666704647, 10.126313526247586, 9.538509422438246, 8.873993952049231, 8.573845258776034, 8.573844578282307, 9.37935195048532, 8.619108880820248, 8.188546143231994, 7.998739432849363, 7.912176918826039, 7.980524576843747, 7.589787167433649, 6.5990486150519025, 6.568376575486119, 6.382696976187557, 8.38006940611451, 8.380050702719673, 5.865113901299274, 5.751418871177915, 5.582091546528679, 6.0562910077097465, 7.866241528136584, 42.21784582591817, 27.020515063295747, 26.737131788940403, 24.759424920035638, 24.688003738001814, 22.192527898453598, 20.045332108206598, 20.1638927643094, 17.474554094941773, 14.279401692911739, 12.491933059984692, 10.638620644770747, 10.210925795886824, 9.173214117992867, 7.736783887877444, 7.652591684317237, 7.31442823684299, 7.258892172174418, 6.633433610831077, 6.604696205439686, 6.031538843694009, 6.003808942747732, 6.095869850828671, 6.930652169104935, 5.185957230173829, 6.490965937052329, 5.0160823189329955, 4.5535169530675015, 4.347234602321905, 5.132443956119025, 5.132444123157858, 5.132445540184208, 75.64959233939838, 19.509835925252936, 33.49118350098621, 17.61483280939514, 11.827928597454546, 10.879818794313715, 9.650344352018607, 17.14100222578874, 17.141031070148323, 17.14104159049228, 17.141047140967732, 17.141047422854527, 17.141049749661885, 17.141055571243644, 17.141057866280832, 17.141062684742487, 8.726385248180115, 8.44482775828313, 7.191015463168582, 6.987571192574149, 6.288237850742217, 5.376850930947187, 5.911167509928799, 5.911173004005272, 5.309467703679745, 5.248344538018123, 5.112443749936368, 4.738797232378684, 5.263789202513298, 4.492414204056386, 4.744141180981054], \"Category\": [\"Default\", \"Default\", \"Default\", \"Default\", \"Default\", \"Default\", \"Default\", \"Default\", \"Default\", \"Default\", \"Default\", \"Default\", \"Default\", \"Default\", \"Default\", \"Default\", \"Default\", \"Default\", \"Default\", \"Default\", \"Default\", \"Default\", \"Default\", \"Default\", \"Default\", \"Default\", \"Default\", \"Default\", \"Default\", \"Default\", \"Topic1\", \"Topic1\", \"Topic1\", \"Topic1\", \"Topic1\", \"Topic1\", \"Topic1\", \"Topic1\", \"Topic1\", \"Topic1\", \"Topic1\", \"Topic1\", \"Topic1\", \"Topic1\", \"Topic1\", \"Topic1\", \"Topic1\", \"Topic1\", \"Topic1\", \"Topic1\", \"Topic1\", \"Topic1\", \"Topic1\", \"Topic1\", \"Topic1\", \"Topic1\", \"Topic1\", \"Topic1\", \"Topic1\", \"Topic1\", \"Topic1\", \"Topic2\", \"Topic2\", \"Topic2\", \"Topic2\", \"Topic2\", \"Topic2\", \"Topic2\", \"Topic2\", \"Topic2\", \"Topic2\", \"Topic2\", \"Topic2\", \"Topic2\", \"Topic2\", \"Topic2\", \"Topic2\", \"Topic2\", \"Topic2\", \"Topic2\", \"Topic2\", \"Topic2\", \"Topic2\", \"Topic2\", \"Topic2\", \"Topic2\", \"Topic2\", \"Topic2\", \"Topic2\", \"Topic2\", \"Topic2\", \"Topic2\", \"Topic2\", \"Topic3\", \"Topic3\", \"Topic3\", \"Topic3\", \"Topic3\", \"Topic3\", \"Topic3\", \"Topic3\", \"Topic3\", \"Topic3\", \"Topic3\", \"Topic3\", \"Topic3\", \"Topic3\", \"Topic3\", \"Topic3\", \"Topic3\", \"Topic3\", \"Topic3\", \"Topic3\", \"Topic3\", \"Topic3\", \"Topic3\", \"Topic3\", \"Topic3\", \"Topic3\", \"Topic3\", \"Topic3\", \"Topic3\", \"Topic3\", \"Topic3\"], \"logprob\": [30.0, 29.0, 28.0, 27.0, 26.0, 25.0, 24.0, 23.0, 22.0, 21.0, 20.0, 19.0, 18.0, 17.0, 16.0, 15.0, 14.0, 13.0, 12.0, 11.0, 10.0, 9.0, 8.0, 7.0, 6.0, 5.0, 4.0, 3.0, 2.0, 1.0, -3.1443, -3.6766, -3.6238, -3.9573, -3.9927, -4.1478, -4.2114, -4.2032, -4.4903, -4.4922, -4.5531, -4.6305, -4.6649, -4.6649, -4.5754, -4.6613, -4.7142, -4.7382, -4.7501, -4.7417, -4.795, -4.9432, -4.9497, -4.979, -4.7132, -4.7132, -5.0726, -5.0926, -5.1269, -5.0477, -4.7988, -3.0057, -3.4589, -3.4703, -3.5477, -3.552, -3.6595, -3.7644, -3.76, -3.9046, -4.1134, -4.2518, -4.4197, -4.464, -4.5775, -4.7566, -4.7688, -4.8165, -4.8252, -4.9216, -4.927, -5.0247, -5.0311, -5.0254, -4.8972, -5.1907, -4.9715, -5.2305, -5.3349, -5.3881, -5.2238, -5.2238, -5.2238, -2.3821, -3.7583, -3.2181, -3.8625, -4.2778, -4.364, -4.4897, -3.9181, -3.9181, -3.9181, -3.9181, -3.9181, -3.9181, -3.9181, -3.9181, -3.9181, -4.5966, -4.6315, -4.8041, -4.836, -4.9495, -5.1204, -5.0282, -5.0282, -5.136, -5.1495, -5.1761, -5.2621, -5.1591, -5.3261, -5.3162], \"loglift\": [30.0, 29.0, 28.0, 27.0, 26.0, 25.0, 24.0, 23.0, 22.0, 21.0, 20.0, 19.0, 18.0, 17.0, 16.0, 15.0, 14.0, 13.0, 12.0, 11.0, 10.0, 9.0, 8.0, 7.0, 6.0, 5.0, 4.0, 3.0, 2.0, 1.0, 1.0608, 1.0521, 1.0518, 1.045, 1.0441, 1.0378, 1.0374, 1.0372, 1.0248, 1.0235, 1.0224, 1.0172, 1.0172, 1.0172, 1.0169, 1.0155, 1.0139, 1.0134, 1.0123, 1.0121, 1.009, 1.0007, 0.9989, 0.9982, 0.9918, 0.9918, 0.9892, 0.9888, 0.9843, 0.982, 0.9695, 1.0823, 1.0754, 1.0745, 1.0739, 1.0725, 1.0716, 1.0684, 1.067, 1.0654, 1.0586, 1.0539, 1.0467, 1.0433, 1.0371, 1.0282, 1.027, 1.0245, 1.0234, 1.0171, 1.0161, 1.0091, 1.0073, 0.9979, 0.9976, 0.9942, 0.9889, 0.9877, 0.98, 0.9732, 0.9715, 0.9715, 0.9714, 1.1226, 1.1016, 1.1014, 1.0996, 1.0826, 1.0799, 1.0742, 1.0713, 1.0713, 1.0713, 1.0713, 1.0713, 1.0713, 1.0713, 1.0713, 1.0713, 1.0679, 1.0657, 1.0539, 1.0507, 1.0427, 1.0283, 1.0258, 1.0258, 1.0254, 1.0234, 1.0231, 1.0129, 1.0109, 1.0024, 0.9577]}, \"token.table\": {\"Topic\": [2, 2, 1, 3, 3, 1, 1, 3, 2, 2, 1, 1, 1, 1, 2, 3, 1, 3, 1, 1, 3, 3, 1, 3, 3, 3, 2, 2, 2, 1, 2, 1, 1, 3, 3, 1, 1, 2, 3, 3, 2, 1, 3, 1, 1, 3, 2, 1, 3, 3, 1, 2, 1, 3, 1, 1, 2, 1, 3, 1, 2, 1, 3, 2, 1, 1, 1, 2, 2, 1, 3, 3, 1, 1, 1, 1, 2, 2, 2, 2, 2, 1, 3, 3, 2, 2, 3, 2, 3, 2, 1, 1, 3, 3, 3, 1, 3, 1, 2, 2, 2, 2, 2], \"Freq\": [0.9147227878818337, 0.9047687128715214, 0.901510643711065, 0.9738677492108982, 0.9326092076825662, 0.9330703311632375, 0.05833951190893066, 0.9334321905428905, 0.9993655789542849, 0.9643344788662336, 0.8847122696845128, 0.9435436504186425, 0.9330702571067916, 0.922292001814713, 0.9741944577595159, 0.9780058704924103, 0.05833964588695369, 0.933434334191259, 0.8693506962354107, 0.058339456514358894, 0.9334313042297423, 0.9417139869849349, 0.05833949301790106, 0.933431888286417, 0.9167598922667777, 0.952681357670184, 0.9992407597246873, 0.997738520471405, 0.9967938486830064, 0.9456415426917472, 0.9641421589264446, 0.9869439487847002, 0.9748735997688367, 0.8458558050343167, 0.9498860626129658, 0.9852940726682176, 0.9400414938049989, 0.9947710120897285, 0.9299123342292844, 0.9914131415740615, 0.9913246521831786, 0.05833949205850038, 0.933431872936006, 0.9938390561607895, 0.9830198996294078, 0.8440960445974098, 0.9804332353049194, 0.05833944011476691, 0.9334310418362706, 0.8458565912066711, 0.9546460312324868, 0.9243616525161914, 0.05833954771492909, 0.9334327634388654, 0.8957216051229645, 0.8898786002135652, 0.8784418815670332, 0.95464816190237, 0.9853339461422214, 0.9875262082375607, 0.9842729826629028, 0.9092219727423252, 0.9650957340300608, 0.9084445087812437, 0.9889944322575639, 0.959554567043868, 0.9134677238806068, 0.979343127146043, 0.9741947267267338, 0.05833946432550107, 0.9334314292080171, 0.9300022323745916, 0.8524983630569171, 0.928170198406714, 1.0024403687964025, 0.9907053660997982, 0.9045089394130957, 0.9201251751776997, 0.9570126021253164, 0.9811174016255529, 0.9724304089623663, 0.05833948413922114, 0.9334317462275382, 0.84314522848429, 0.9606199410753731, 0.9918719680656359, 0.947325419651476, 0.9728431356609473, 0.890389847932596, 0.9693278449524447, 0.9769744054763823, 0.9787144026641199, 0.9191329551578976, 0.8586674589271215, 0.954162381006597, 0.9804567392420543, 0.9734369277681383, 1.0001575957263291, 0.9721320627903672, 0.9741947584325549, 0.9399714806933499, 0.9948399587507037, 0.8657193945970131], \"Term\": [\"Alphacoronavirus\", \"Betacoronavirus\", \"Canine\", \"Coronavirus\", \"Coronaviruses\", \"East\", \"Further\", \"Further\", \"Health\", \"Human\", \"IBV\", \"MHV\", \"Middle\", \"Murine\", \"PEDV\", \"RNA\", \"References\", \"References\", \"SARS\", \"See\", \"See\", \"TGEV\", \"Zoonosis\", \"Zoonosis\", \"acute\", \"aerosol\", \"also\", \"animal\", \"avian\", \"bat\", \"bird\", \"bronchitis\", \"case\", \"cat\", \"cattle\", \"cause\", \"cell\", \"cold\", \"common\", \"coronavirus\", \"coronaviruses\", \"destruction\", \"destruction\", \"diarrhea\", \"different\", \"direct\", \"disease\", \"diseases\", \"diseases\", \"dog\", \"enteric\", \"enteritis\", \"entire\", \"entire\", \"epidemic\", \"ferret\", \"form\", \"gastrointestinal\", \"herd\", \"high\", \"highly\", \"host\", \"human\", \"identify\", \"infect\", \"infectious\", \"know\", \"laboratory\", \"limit\", \"measure\", \"measure\", \"member\", \"mild\", \"mortality\", \"mouse\", \"murine\", \"name\", \"new\", \"number\", \"outbreak\", \"pig\", \"prevent\", \"prevent\", \"production\", \"protein\", \"reading\", \"relate\", \"respiratory\", \"severe\", \"specie\", \"spread\", \"strain\", \"syndrome\", \"target\", \"tract\", \"transmission\", \"transmit\", \"type\", \"use\", \"vaccine\", \"viral\", \"virus\", \"young\"]}, \"R\": 30, \"lambda.step\": 0.01, \"plot.opts\": {\"xlab\": \"PC1\", \"ylab\": \"PC2\"}, \"topic.order\": [3, 2, 1]};\n",
       "\n",
       "function LDAvis_load_lib(url, callback){\n",
       "  var s = document.createElement('script');\n",
       "  s.src = url;\n",
       "  s.async = true;\n",
       "  s.onreadystatechange = s.onload = callback;\n",
       "  s.onerror = function(){console.warn(\"failed to load library \" + url);};\n",
       "  document.getElementsByTagName(\"head\")[0].appendChild(s);\n",
       "}\n",
       "\n",
       "if(typeof(LDAvis) !== \"undefined\"){\n",
       "   // already loaded: just create the visualization\n",
       "   !function(LDAvis){\n",
       "       new LDAvis(\"#\" + \"ldavis_el948427070767658409342732139\", ldavis_el948427070767658409342732139_data);\n",
       "   }(LDAvis);\n",
       "}else if(typeof define === \"function\" && define.amd){\n",
       "   // require.js is available: use it to load d3/LDAvis\n",
       "   require.config({paths: {d3: \"https://d3js.org/d3.v5\"}});\n",
       "   require([\"d3\"], function(d3){\n",
       "      window.d3 = d3;\n",
       "      LDAvis_load_lib(\"https://cdn.jsdelivr.net/gh/bmabey/pyLDAvis/pyLDAvis/js/ldavis.v3.0.0.js\", function(){\n",
       "        new LDAvis(\"#\" + \"ldavis_el948427070767658409342732139\", ldavis_el948427070767658409342732139_data);\n",
       "      });\n",
       "    });\n",
       "}else{\n",
       "    // require.js not available: dynamically load d3 & LDAvis\n",
       "    LDAvis_load_lib(\"https://d3js.org/d3.v5.js\", function(){\n",
       "         LDAvis_load_lib(\"https://cdn.jsdelivr.net/gh/bmabey/pyLDAvis/pyLDAvis/js/ldavis.v3.0.0.js\", function(){\n",
       "                 new LDAvis(\"#\" + \"ldavis_el948427070767658409342732139\", ldavis_el948427070767658409342732139_data);\n",
       "            })\n",
       "         });\n",
       "}\n",
       "</script>"
      ],
      "text/plain": [
       "PreparedData(topic_coordinates=              x         y  topics  cluster       Freq\n",
       "topic                                                \n",
       "2     -0.054171 -0.197628       1        1  34.189297\n",
       "1     -0.157077  0.142413       2        1  33.489488\n",
       "0      0.211248  0.055215       3        1  32.321215, topic_info=            Term       Freq      Total Category  logprob  loglift\n",
       "349  coronavirus  75.000000  75.000000  Default  30.0000  30.0000\n",
       "928        virus  42.000000  42.000000  Default  29.0000  29.0000\n",
       "295        cause  37.000000  37.000000  Default  28.0000  28.0000\n",
       "518         herd  33.000000  33.000000  Default  27.0000  27.0000\n",
       "239         also  27.000000  27.000000  Default  26.0000  26.0000\n",
       "..           ...        ...        ...      ...      ...      ...\n",
       "158          RNA   4.596612   5.112444   Topic3  -5.1761   1.0231\n",
       "383       direct   4.217668   4.738797   Topic3  -5.2621   1.0129\n",
       "293       cattle   4.675295   5.263789   Topic3  -5.1591   1.0109\n",
       "800       severe   3.956353   4.492414   Topic3  -5.3261   1.0024\n",
       "720   production   3.995398   4.744141   Topic3  -5.3162   0.9577\n",
       "\n",
       "[124 rows x 6 columns], token_table=      Topic      Freq              Term\n",
       "term                                   \n",
       "5         2  0.914723  Alphacoronavirus\n",
       "21        2  0.904769   Betacoronavirus\n",
       "32        1  0.901511            Canine\n",
       "45        3  0.973868       Coronavirus\n",
       "46        3  0.932609     Coronaviruses\n",
       "...     ...       ...               ...\n",
       "913       2  0.972132               use\n",
       "914       2  0.974195           vaccine\n",
       "925       2  0.939971             viral\n",
       "928       2  0.994840             virus\n",
       "946       2  0.865719             young\n",
       "\n",
       "[103 rows x 3 columns], R=30, lambda_step=0.01, plot_opts={'xlab': 'PC1', 'ylab': 'PC2'}, topic_order=[3, 2, 1])"
      ]
     },
     "execution_count": 41,
     "metadata": {},
     "output_type": "execute_result"
    }
   ],
   "source": [
    "vis"
   ]
  },
  {
   "cell_type": "markdown",
   "metadata": {},
   "source": [
    "##### Gerador de Resumos"
   ]
  },
  {
   "cell_type": "code",
   "execution_count": 43,
   "metadata": {},
   "outputs": [
    {
     "name": "stderr",
     "output_type": "stream",
     "text": [
      "C:\\Users\\Lucas\\anaconda3\\lib\\site-packages\\ipykernel\\ipkernel.py:287: DeprecationWarning: `should_run_async` will not call `transform_cell` automatically in the future. Please pass the result to `transformed_cell` argument and any exception that happen during thetransform in `preprocessing_exc_tuple` in IPython 7.17 and above.\n",
      "  and should_run_async(code)\n"
     ]
    },
    {
     "data": {
      "text/html": [
       "\n",
       "  <style>\n",
       "    pre {\n",
       "        white-space: pre-wrap;\n",
       "    }\n",
       "  </style>\n",
       "  "
      ],
      "text/plain": [
       "<IPython.core.display.HTML object>"
      ]
     },
     "metadata": {},
     "output_type": "display_data"
    },
    {
     "name": "stdout",
     "output_type": "stream",
     "text": [
      "Requirement already satisfied: wikipedia in c:\\users\\lucas\\anaconda3\\lib\\site-packages (1.4.0)\n",
      "Requirement already satisfied: beautifulsoup4 in c:\\users\\lucas\\anaconda3\\lib\\site-packages (from wikipedia) (4.9.3)\n",
      "Requirement already satisfied: requests<3.0.0,>=2.0.0 in c:\\users\\lucas\\anaconda3\\lib\\site-packages (from wikipedia) (2.24.0)\n",
      "Requirement already satisfied: soupsieve>1.2; python_version >= \"3.0\" in c:\\users\\lucas\\anaconda3\\lib\\site-packages (from beautifulsoup4->wikipedia) (2.0.1)\n",
      "Requirement already satisfied: urllib3!=1.25.0,!=1.25.1,<1.26,>=1.21.1 in c:\\users\\lucas\\anaconda3\\lib\\site-packages (from requests<3.0.0,>=2.0.0->wikipedia) (1.25.11)\n",
      "Requirement already satisfied: chardet<4,>=3.0.2 in c:\\users\\lucas\\anaconda3\\lib\\site-packages (from requests<3.0.0,>=2.0.0->wikipedia) (3.0.4)\n",
      "Requirement already satisfied: certifi>=2017.4.17 in c:\\users\\lucas\\anaconda3\\lib\\site-packages (from requests<3.0.0,>=2.0.0->wikipedia) (2020.6.20)\n",
      "Requirement already satisfied: idna<3,>=2.5 in c:\\users\\lucas\\anaconda3\\lib\\site-packages (from requests<3.0.0,>=2.0.0->wikipedia) (2.10)\n"
     ]
    }
   ],
   "source": [
    "!pip install wikipedia"
   ]
  },
  {
   "cell_type": "code",
   "execution_count": 91,
   "metadata": {},
   "outputs": [
    {
     "name": "stderr",
     "output_type": "stream",
     "text": [
      "C:\\Users\\Lucas\\anaconda3\\lib\\site-packages\\ipykernel\\ipkernel.py:287: DeprecationWarning: `should_run_async` will not call `transform_cell` automatically in the future. Please pass the result to `transformed_cell` argument and any exception that happen during thetransform in `preprocessing_exc_tuple` in IPython 7.17 and above.\n",
      "  and should_run_async(code)\n"
     ]
    },
    {
     "data": {
      "text/html": [
       "\n",
       "  <style>\n",
       "    pre {\n",
       "        white-space: pre-wrap;\n",
       "    }\n",
       "  </style>\n",
       "  "
      ],
      "text/plain": [
       "<IPython.core.display.HTML object>"
      ]
     },
     "metadata": {},
     "output_type": "display_data"
    },
    {
     "name": "stdout",
     "output_type": "stream",
     "text": [
      "Brazil (Portuguese: Brasil; Brazilian Portuguese: [bɾaˈziw]), officially the Federative Republic of Brazil (Portuguese: República Federativa do Brasil), is the largest country in both South America and Latin America. At 8.5 million square kilometers (3.2 million square miles) and with over 211 million people, Brazil is the world's fifth-largest country by area and the sixth most populous. Its capital is Brasília, and its most populous city is São Paulo. The federation is composed of the union of the 26 states and the Federal District. It is the largest country to have Portuguese as an official language and the only one in the Americas; it is also one of the most multicultural and ethnically diverse nations, due to over a century of mass immigration from around the world; as well as the most populous Roman Catholic-majority country.\n",
      "Bounded by the Atlantic Ocean on the east, Brazil has a coastline of 7,491 kilometers (4,655 mi). It borders all other countries in South America except Ecuador and Chile and covers 47.3% of the continent's land area. Its Amazon basin includes a vast tropical forest, home to diverse wildlife, a variety of ecological systems, and extensive natural resources spanning numerous protected habitats. This unique environmental heritage makes Brazil one of 17 megadiverse countries, and is the subject of significant global interest, environmental degradation through processes like deforestation has direct impacts on global issues like climate change and biodiversity loss.\n",
      "Brazil was inhabited by numerous tribal nations prior to the landing in 1500 of explorer Pedro Álvares Cabral, who claimed the area for the Portuguese Empire. Brazil remained a Portuguese colony until 1808 when the capital of the empire was transferred from Lisbon to Rio de Janeiro. In 1815, the colony was elevated to the rank of kingdom upon the formation of the United Kingdom of Portugal, Brazil and the Algarves. Independence was achieved in 1822 with the creation of the Empire of Brazil, a unitary state governed under a constitutional monarchy and a parliamentary system. The ratification of the first constitution in 1824 led to the formation of a bicameral legislature, now called the National Congress. The country became a presidential republic in 1889 following a military coup d'état. An authoritarian military junta came to power in 1964 and ruled until 1985, after which civilian governance resumed. Brazil's current constitution, formulated in 1988, defines it as a democratic federal republic. Due to its rich culture and history, the country ranks thirteenth in the world by number of UNESCO World Heritage Sites.Brazil is classified as an upper-middle income economy by the World Bank and a newly industrialized country, with the largest share of global wealth in Latin America. It is considered an advanced emerging economy, having the twelfth largest GDP in the world by nominal, and eighth by PPP measures. It is one of the world's major breadbaskets, being the largest producer of coffee for the last 150 years. Brazil is a regional power and sometimes considered a great or a middle power in international affairs. On account of its international recognition and influence, the country is subsequently classified as an emerging power and a potential superpower by several analysts. Brazil is a founding member of the United Nations, the G20, BRICS, Mercosul, Organization of American States, Organization of Ibero-American States and the Community of Portuguese Language Countries.\n",
      "\n",
      "\n",
      "== Etymology ==\n",
      "\n",
      "The word \"Brazil\" likely comes from the Portuguese word for brazilwood, a tree that once grew plentifully along the Brazilian coast. In Portuguese, brazilwood is called pau-brasil, with the word brasil commonly given the etymology \"red like an ember\", formed from brasa (\"ember\") and the suffix -il (from -iculum or -ilium). As brazilwood produces a deep red dye, it was highly valued by the European textile industry and was the earliest commercially exploited product from Brazil. Throughout the 16th century, massive amounts of brazilwood were harvested by indigenous peoples (mostly Tupi) along the Brazilian coast, who sold the timber to European traders (mostly Portuguese, but also French) in return for assorted European consumer goods.The official Portuguese name of the land, in original Portuguese records, was the \"Land of the Holy Cross\" (Terra da Santa Cruz), but European sailors and merchants commonly called it simply the \"Land of Brazil\" (Terra do Brasil) because of the brazilwood trade. The popular appellation eclipsed and eventually supplanted the official Portuguese name. Some early sailors called it the \"Land of Parrots\".In the Guarani language, an official language of Paraguay, Brazil is called \"Pindorama\". This was the name the indigenous population gave to the region, meaning \"land of the palm trees\".\n",
      "\n",
      "\n",
      "== History ==\n",
      "\n",
      "\n",
      "=== Pre-Cabraline era ===\n",
      "\n",
      "Some of the earliest human remains found in the Americas, Luzia Woman, were found in the area of Pedro Leopoldo, Minas Gerais and provide evidence of human habitation going back at least 11,000 years.The earliest pottery ever found in the Western Hemisphere was excavated in the Amazon basin of Brazil and radiocarbon dated to 8,000 years ago (6000 BC). The pottery was found near Santarém and provides evidence that the tropical forest region supported a complex prehistoric culture. The Marajoara culture flourished on Marajó in the Amazon delta from 400 CE to 1400 CE, developing sophisticated pottery, social stratification, large populations, mound building, and complex social formations such as chiefdoms.Around the time of the Portuguese arrival, the territory of current day Brazil had an estimated indigenous population of 7 million people, mostly semi-nomadic, who subsisted on hunting, fishing, gathering, and migrant agriculture. The indigenous population of Brazil comprised several large indigenous ethnic groups (e.g. the Tupis, Guaranis, Gês and Arawaks). The Tupí people were subdivided into the Tupiniquins and Tupinambás, and there were also many subdivisions of the other groups.Before the arrival of the Europeans, the boundaries between these groups and their subgroups were marked by wars that arose from differences in culture, language and moral beliefs. These wars also involved large-scale military actions on land and water, with cannibalistic rituals on prisoners of war. While heredity had some weight, leadership status was more subdued over time, than allocated in succession ceremonies and conventions. Slavery among the Indians had a different meaning than it had for Europeans, since it originated from a diverse socioeconomic organization, in which asymmetries were translated into kinship relations.\n",
      "\n",
      "\n",
      "=== Portuguese colonization ===\n",
      "\n",
      "The land now called Brazil was claimed for the Portuguese Empire on 22 April 1500, with the arrival of the Portuguese fleet commanded by Pedro Álvares Cabral. The Portuguese encountered indigenous peoples divided into several tribes, most of whom spoke languages of the Tupi–Guarani family, and fought among themselves. Though the first settlement was founded in 1532, colonization effectively began in 1534, when King John III of Portugal divided the territory into the fifteen private and autonomous Captaincy Colonies of Brazil.However, the decentralized and unorganized tendencies of the captaincy colonies proved problematic, and in 1549 the Portuguese king restructured them into the Governorate General of Brazil in the city of Salvador, which became the capital of a single and centralized Portuguese colony in South America. In the first two centuries of colonization, Indigenous and European groups lived in constant war, establishing opportunistic alliances in order to gain advantages against each other. By the mid-16th century, cane sugar had become Brazil's most important export, and slaves purchased in Sub-Saharan Africa, in the slave market of Western Africa (not only those from Portuguese allies of their colonies in Angola and Mozambique), had become its largest import, to cope with plantations of sugarcane, due to increasing international demand for Brazilian sugar. Portuguese Brazil received more than 2.8 million slaves from Africa between the years of 1500 to 1800.\n",
      "\n",
      "By the end of the 17th century, sugarcane exports began to decline, and the discovery of gold by bandeirantes in the 1690s would become the new backbone of the colony's economy, fostering a Brazilian Gold Rush which attracted thousands of new settlers to Brazil from Portugal and all Portuguese colonies around the world. This increased level of immigration in turn caused some conflicts between newcomers and old settlers.Portuguese expeditions known as Bandeiras gradually advanced the Portugal colonial original frontiers in South America to approximately the current Brazilian borders. In this era other European powers tried to colonize parts of Brazil, in incursions that the Portuguese had to fight, notably the French in Rio during the 1560s, in Maranhão during the 1610s, and the Dutch in Bahia and Pernambuco, during the Dutch–Portuguese War, after the end of Iberian Union.The Portuguese colonial administration in Brazil had two objectives that would ensure colonial order and the monopoly of Portugal's wealthiest and largest colony: to keep under control and eradicate all forms of slave rebellion and resistance, such as the Quilombo of Palmares, and to repress all movements for autonomy or independence, such as the Minas Conspiracy.\n",
      "\n",
      "\n",
      "=== United Kingdom with Portugal ===\n",
      "\n",
      "In late 1807, Spanish and Napoleonic forces threatened the security of continental Portugal, causing Prince Regent João, in the name of Queen Maria I, to move the royal court from Lisbon to Rio de Janeiro. There they established some of Brazil's first financial institutions, such as its local stock exchanges, and its National Bank, additionally ending the Portuguese monopoly on Brazilian trade and opening Brazil to other nations. In 1809, in retaliation for being forced into exile, the Prince Regent ordered the Portuguese conquest of French Guiana.With the end of the Peninsular War in 1814, the courts of Europe demanded that Queen Maria I and Prince Regent João return to Portugal, deeming it unfit for the head of an ancient European monarchy to reside in a colony. In 1815, to justify continuing to live in Brazil, where the royal court had thrived for six years, the Crown established the United Kingdom of Portugal, Brazil, and the Algarves, thus creating a pluricontinental transatlantic monarchic state. However, the leadership in Portugal, resentful of the new status of its larger colony, continued to demand the return of the court to Lisbon (v. Liberal Revolution of 1820). In 1821, acceding to the demands of revolutionaries who had taken the city of Porto, D. João VI departed for Lisbon. There he swore an oath to the new constitution, leaving his son, Prince Pedro de Alcântara, as Regent of the Kingdom of Brazil.\n",
      "\n",
      "\n",
      "=== Independent empire ===\n",
      "\n",
      "Tensions between Portuguese and Brazilians increased, and the Portuguese Cortes, guided by the new political regime imposed by the 1820 Liberal Revolution, tried to re-establish Brazil as a colony. The Brazilians refused to yield, and Prince Pedro decided to stand with them, declaring the country's independence from Portugal on 7 September 1822. A month later, Prince Pedro was declared the first Emperor of Brazil, with the royal title of Dom Pedro I, resulting in the foundation of the Empire of Brazil.The Brazilian War of Independence, which had already begun along this process, spread through the northern, northeastern regions and in Cisplatina province. The last Portuguese soldiers surrendered on 8 March 1824; Portugal officially recognized Brazil on 29 August 1825.On 7 April 1831, worn down by years of administrative turmoil and political dissent with both liberal and conservative sides of politics, including an attempt of republican secession, and unreconciled to the way that absolutists in Portugal had given in the succession of King John VI, Pedro I went to Portugal to reclaim his daughter's crown, abdicating the Brazilian throne in favor of his five-year-old son and heir (who thus became the Empire's second monarch, with the royal title of Dom Pedro II).\n",
      "\n",
      "As the new Emperor could not exert his constitutional powers until he came of age, a regency was set up by the National Assembly. In the absence of a charismatic figure who could represent a moderate face of power, during this period a series of localized rebellions took place, such as the Cabanagem in Grão-Pará Province, the Malê Revolt in Salvador da Bahia, the Balaiada (Maranhão), the Sabinada (Bahia), and the Ragamuffin War, which began in Rio Grande do Sul and was supported by Giuseppe Garibaldi. These emerged from the dissatisfaction of the provinces with the central power, coupled with old and latent social tensions peculiar to a vast, slaveholding and newly independent nation state. This period of internal political and social upheaval, which included the Praieira revolt in Pernambuco, was overcome only at the end of the 1840s, years after the end of the regency, which occurred with the premature coronation of Pedro II in 1841.During the last phase of the monarchy, internal political debate centered on the issue of slavery. The Atlantic slave trade was abandoned in 1850, as a result of the British Aberdeen Act, but only in May 1888 after a long process of internal mobilization and debate for an ethical and legal dismantling of slavery in the country, was the institution formally abolished.The foreign-affairs policies of the monarchy dealt with issues with the countries of the Southern Cone with whom Brazil had borders. Long after the Cisplatine War that resulted in independence for Uruguay, Brazil won three international wars during the 58-year reign of Pedro II. These were the Platine War, the Uruguayan War and the devastating Paraguayan War, the largest war effort in Brazilian history.Although there was no desire among the majority of Brazilians to change the country's form of government, on 15 November 1889, in disagreement with the majority of Army officers, as well as with rural and financial elites (for different reasons), the monarchy was overthrown by a military coup. 15 November is now Republic Day, a national holiday.\n",
      "\n",
      "\n",
      "=== Early republic ===\n",
      "\n",
      "The early republican government was nothing more than a military dictatorship, with army dominating affairs both in Rio de Janeiro and in the states. Freedom of the press disappeared and elections were controlled by those in power. Not until 1894, following an economic crisis and a military one, did civilians take power, remaining there until October 1930.If in relation to its foreign policy, the country in this first republican period maintained a relative balance characterized by a success in resolving border disputes with neighboring countries, only broken by the Acre War (1899–1902) and its involvement in World War I (1914–1918), followed by a failed attempt to exert a prominent role in the League of Nations; Internally, from the crisis of Encilhamento and the Armada Revolts, a prolonged cycle of financial, political and social instability began until the 1920s, keeping the country besieged by various rebellions, both civilian and military.\n",
      "\n",
      "Little by little, a cycle of general instability sparked by these crises undermined the regime to such an extent that in the wake of the murder of his running mate, the defeated opposition presidential candidate Getúlio Vargas, supported by most of the military, successfully led the October 1930 Coup. Vargas and the military were supposed to assume power temporarily, but instead closed the Congress, extinguished the Constitution, ruled with emergency powers and replaced the states' governors with their own supporters.In the 1930s, three failed attempts to remove Vargas and his supporters from power occurred. The first was the Constitutionalist Revolution in 1932, led by the Paulista oligarchy. The second was a Communist uprising in November 1935, and the last one a putsch attempt by local fascists in May 1938. The 1935 uprising created a security crisis in which the Congress transferred more power to the executive. The 1937 coup d'état resulted in the cancellation of the 1938 election, formalized Vargas as dictator, beginning the Estado Novo era, which was noted for government brutality and censorship of the press.Foreign policy during the Vargas years was marked by the antecedents and World War II. Brazil remained neutral until August 1942, when the country entered on the allied side, after suffering retaliation by Nazi Germany and Fascist Italy, in a strategic dispute over the South Atlantic. In addition to its participation in the battle of the Atlantic, Brazil also sent an expeditionary force to fight in the Italian campaign.With the Allied victory in 1945 and the end of the Nazi-fascist regimes in Europe, Vargas's position became unsustainable and he was swiftly overthrown in another military coup, with democracy \"reinstated\" by the same army that had ended it 15 years earlier. Vargas committed suicide in August 1954 amid a political crisis, after having returned to power by election in 1950.\n",
      "\n",
      "\n",
      "=== Contemporary era ===\n",
      "\n",
      "Several brief interim governments followed Vargas's suicide. Juscelino Kubitschek became president in 1956 and assumed a conciliatory posture towards the political opposition that allowed him to govern without major crises. The economy and industrial sector grew remarkably, but his greatest achievement was the construction of the new capital city of Brasília, inaugurated in 1960.\n",
      "\n",
      "Kubitschek's successor, Jânio Quadros, resigned in 1961 less than a year after taking office. His vice-president, João Goulart, assumed the presidency, but aroused strong political opposition and was deposed in April 1964 by a coup that resulted in a military regime.The new regime was intended to be transitory but gradually closed in on itself and became a full dictatorship with the promulgation of the Fifth Institutional Act in 1968. Oppression was not limited to those who resorted to guerrilla tactics to fight the regime, but also reached institutional opponents, artists, journalists and other members of civil society, inside and outside the country through the infamous \"Operation Condor\". Despite its brutality, like other authoritarian regimes, due to an economic boom, known as an \"economic miracle\", the regime reached a peak in popularity in the early 1970s.Slowly, however, the wear and tear of years of dictatorial power that had not slowed the repression, even after the defeat of the leftist guerrillas, plus the inability to deal with the economic crises of the period and popular pressure, made an opening policy inevitable, which from the regime side was led by Generals Ernesto Geisel and Golbery do Couto e Silva. With the enactment of the Amnesty Law in 1979, Brazil began a slow return to democracy, which was completed during the 1980s.Civilians returned to power in 1985 when José Sarney assumed the presidency. He became unpopular during his tenure through failure to control the economic crisis and hyperinflation he inherited from the military regime. Sarney's unsuccessful government led to the election in 1989 of the almost-unknown Fernando Collor, subsequently impeached by the National Congress in 1992.Collor was succeeded by his vice-president, Itamar Franco, who appointed Fernando Henrique Cardoso Minister of Finance. In 1994, Cardoso produced a highly successful Plano Real, that, after decades of failed economic plans made by previous governments attempting to curb hyperinflation, finally stabilized the Brazilian economy. Cardoso won the 1994 election, and again in 1998.\n",
      "\n",
      "The peaceful transition of power from Cardoso to his main opposition leader, Luiz Inácio Lula da Silva (elected in 2002 and re-elected in 2006), was seen as proof that Brazil had achieved a long-sought political stability. However, sparked by indignation and frustrations accumulated over decades from corruption, police brutality, inefficiencies of the political establishment and public service, numerous peaceful protests erupted in Brazil from the middle of first term of Dilma Rousseff, who had succeeded Lula after winning election in 2010.Rousseff was impeached by the Brazilian Congress in 2016. Large street protests for and against her took place during the impeachment process. The charges against her were fueled by political and economic crises along with evidence of involvement with politicians (from all the primary political parties) in several bribery and tax evasion schemes. In 2017, the Supreme Court requested the investigation of 71 Brazilian lawmakers and nine ministers of President Michel Temer's cabinet who were allegedly linked to the Petrobras corruption scandal. President Temer himself was also accused of corruption. According to a 2018 poll, 62% of the population said that corruption was Brazil's biggest problem.Starting in 2013, there is a total change in Brazilian politics, with the overthrow of the left and the rise of conservatism in right. With the discovery that the PT governments have practically gone bankrupt in Petrobras, Correios and many other state companies, through a great diversion of public funds and the use of their funds to bribe the National Congress, the Brazilian Senate and Judiciary, in addition to the indiscriminate use of BNDES to finance socialist dictatorships in Cuba, Venezuela, Latin America, Africa and the Middle East (with Lula and Dilma openly supporting controversial figures such as Hugo Chávez, Nicolás Maduro, Mahmoud Ahmadinejad, Evo Morales, Vladimir Putin, Kim Jong-un and the Chinese Communist Party, among others), also counting on the attempts of Dilma Roussef to install \"Popular Councils\" to replace the power of the federal deputies, Jair Bolsonaro, former captain of the army and candidate of the right, is elected. Through the Operation Car Wash, the Federal Police of Brazil has since acted on the deviations and corruption of the PT and allied parties at that time. In the 2018 elections, candidate Jair Bolsonaro of the Social Liberal Party (PSL) was elected president, who won in the second round Fernando Haddad, of the Workers Party (PT), with the support of 55.13% of the valid votes.\n",
      "\n",
      "\n",
      "== Geography ==\n",
      "\n",
      "Brazil occupies a large area along the eastern coast of South America and includes much of the continent's interior, sharing land borders with Uruguay to the south; Argentina and Paraguay to the southwest; Bolivia and Peru to the west; Colombia to the northwest; and Venezuela, Guyana, Suriname and France (French overseas region of French Guiana) to the north. It shares a border with every South American country except Ecuador and Chile.It also encompasses a number of oceanic archipelagos, such as Fernando de Noronha, Rocas Atoll, Saint Peter and Paul Rocks, and Trindade and Martim Vaz. Its size, relief, climate, and natural resources make Brazil geographically diverse. Including its Atlantic islands, Brazil lies between latitudes 6°N and 34°S, and longitudes 28° and 74°W.Brazil is the fifth largest country in the world, and third largest in the Americas, with a total area of 8,515,767.049 km2 (3,287,956 sq mi), including 55,455 km2 (21,411 sq mi) of water. It spans four time zones; from UTC−5 comprising the state of Acre and the westernmost portion of Amazonas, to UTC−4 in the western states, to UTC−3 in the eastern states (the national time) and UTC−2 in the Atlantic islands.\n",
      "\n",
      "Brazil is the longest country in the world, spanning 4,395 km (2,731 mi) from north to south. Brazil is also the only country in the world that has the equator and the Tropic of Capricorn running through it. Brazilian topography is also diverse and includes hills, mountains, plains, highlands, and scrublands. Much of the terrain lies between 200 metres (660 ft) and 800 metres (2,600 ft) in elevation. The main upland area occupies most of the southern half of the country. The northwestern parts of the plateau consist of broad, rolling terrain broken by low, rounded hills.The southeastern section is more rugged, with a complex mass of ridges and mountain ranges reaching elevations of up to 1,200 metres (3,900 ft). These ranges include the Mantiqueira and Espinhaço mountains and the Serra do Mar.In the north, the Guiana Highlands form a major drainage divide, separating rivers that flow south into the Amazon Basin from rivers that empty into the Orinoco River system, in Venezuela, to the north. The highest point in Brazil is the Pico da Neblina at 2,994 metres (9,823 ft), and the lowest is the Atlantic Ocean.Brazil has a dense and complex system of rivers, one of the world's most extensive, with eight major drainage basins, all of which drain into the Atlantic. Major rivers include the Amazon (the world's second-longest river and the largest in terms of volume of water), the Paraná and its major tributary the Iguaçu (which includes the Iguazu Falls), the Negro, São Francisco, Xingu, Madeira and Tapajós rivers.\n",
      "\n",
      "\n",
      "=== Climate ===\n",
      "\n",
      "The climate of Brazil comprises a wide range of weather conditions across a large area and varied topography, but most of the country is tropical. According to the Köppen system, Brazil hosts six major climatic subtypes: desert, equatorial, tropical, semiarid, oceanic and subtropical. The different climatic conditions produce environments ranging from equatorial rainforests in the north and semiarid deserts in the northeast, to temperate coniferous forests in the south and tropical savannas in central Brazil. Many regions have starkly different microclimates.An equatorial climate characterizes much of northern Brazil. There is no real dry season, but there are some variations in the period of the year when most rain falls. Temperatures average 25 °C (77 °F), with more significant temperature variation between night and day than between seasons.Over central Brazil rainfall is more seasonal, characteristic of a savanna climate. This region is as extensive as the Amazon basin but has a very different climate as it lies farther south at a higher altitude. In the interior northeast, seasonal rainfall is even more extreme.The semiarid climatic region generally receives less than 800 millimetres (31.5 in) of rain, most of which generally falls in a period of three to five months of the year and occasionally less than this, creating long periods of drought. Brazil's 1877–78 Grande Seca (Great Drought), the worst in Brazil's history, caused approximately half a million deaths. A similarly devastating drought occurred in 1915.South of Bahia, near the coasts, and more southerly most of the state of São Paulo, the distribution of rainfall changes, with rain falling throughout the year. The south enjoys subtropical conditions, with cool winters and average annual temperatures not exceeding 18 °C (64.4 °F); winter frosts and snowfall are not rare in the highest areas.\n",
      "\n",
      "\n",
      "=== Biodiversity and environment ===\n",
      "\n",
      " \t\n",
      "Brazil's large territory comprises different ecosystems, such as the Amazon rainforest, recognized as having the greatest biological diversity in the world, with the Atlantic Forest and the Cerrado, sustaining the greatest biodiversity. In the south, the Araucaria pine forest grows under temperate conditions. The rich wildlife of Brazil reflects the variety of natural habitats. Scientists estimate that the total number of plant and animal species in Brazil could approach four million, mostly invertebrates.Larger mammals include carnivores pumas, jaguars, ocelots, rare bush dogs, and foxes, and herbivores peccaries, tapirs, anteaters, sloths, opossums, and armadillos. Deer are plentiful in the south, and many species of New World monkeys are found in the northern rain forests. Concern for the environment has grown in response to global interest in environmental issues. Brazil's Amazon Basin is home to an extremely diverse array of fish species, including the red-bellied piranha.\n",
      "By 2013, Brazil's \"dramatic policy-driven reduction in Amazon Basin deforestation\" was a \"global exception in terms of forest change\", according to scientific journal Science. From 2003 to 2011, compared to all other countries in the world, Brazil had the \"largest decline in annual forest loss\", as indicated in the study using high-resolution satellite maps showing global forest cover changes.\n",
      "The annual loss of forest cover decreased from a 2003/2004 record high of more than 40,000 square kilometres (4,000×10^3 ha; 9.9×10^6 acres; 15,000 sq mi) to a 2010/2011 low of under 20,000 square kilometres (2,000×10^3 ha; 4.9×10^6 acres; 7,700 sq mi), reversing widespread deforestation from the 1970s to 2003.\n",
      "However, in 2019, when the Bolsonaro government came to power, the rate of deforestation of the Amazon rainforest increased sharply threatening to reach a tipping point after it the forest will collapse, having severe consequences for the world (see Tipping points in the climate system) and possibly complicating the trade agreement with the European Union.According to a 2008 GreenPeace article, the natural heritage of Brazil is severely threatened by cattle ranching and agriculture, logging, mining, resettlement, oil and gas extraction, over-fishing, wildlife trade, dams and infrastructure, water pollution, climate change, fire, and invasive species. In many areas of the country, the natural environment is threatened by development. The construction of highways has opened up previously remote areas for agriculture and settlement; dams have flooded valleys and inundated wildlife habitats; and mines have scarred and polluted the landscape. At least 70 dams are said to be planned for the Amazon region, including the controversial Belo Monte hydroelectric dam. In summer 2019, 2 states in Brazil Paraná and Santa Catarina banned fracking, what it is expected to have positive effects on the climate and water quality, because the shale gas and shale oil reserves in the state of Parana are the larger in the southern hemisphere.In 2020 the government of Brazil pledged to reduce its annual greenhouse gases emissions by 43% by 2030. It also set as indicative target of reaching carbon neutrality by the year 2060 if the country gets 10 billion dollars per year.\n",
      "\n",
      "\n",
      "== Government and politics ==\n",
      "\n",
      "The form of government is a democratic federative republic, with a presidential system. The president is both head of state and head of government of the Union and is elected for a four-year term, with the possibility of re-election for a second successive term. The current president is Jair Bolsonaro. The previous president, Michel Temer, replaced Dilma Rousseff after her impeachment. The President appoints the Ministers of State, who assist in government. Legislative houses in each political entity are the main source of law in Brazil. The National Congress is the Federation's bicameral legislature, consisting of the Chamber of Deputies and the Federal Senate. Judiciary authorities exercise jurisdictional duties almost exclusively. Brazil is a democracy, according to the Democracy Index 2010.The political-administrative organization of the Federative Republic of Brazil comprises the Union, the states, the Federal District, and the municipalities. The Union, the states, the Federal District, and the municipalities, are the \"spheres of government\". The federation is set on five fundamental principles: sovereignty, citizenship, dignity of human beings, the social values of labor and freedom of enterprise, and political pluralism. The classic tripartite branches of government (executive, legislative and judicial under a checks and balances system) are formally established by the Constitution. The executive and legislative are organized independently in all three spheres of government, while the judiciary is organized only at the federal and state and Federal District spheres.\n",
      "\n",
      "All members of the executive and legislative branches are directly elected. Judges and other judicial officials are appointed after passing entry exams. For most of its democratic history, Brazil has had a multi-party system, proportional representation. Voting is compulsory for the literate between 18 and 70 years old and optional for illiterates and those between 16 and 18 or beyond 70.Together with several smaller parties, four political parties stand out: Workers' Party (PT), Brazilian Social Democracy Party (PSDB), Brazilian Democratic Movement (MDB) and Democrats (DEM). Fifteen political parties are represented in Congress. It is common for politicians to switch parties, and thus the proportion of congressional seats held by particular parties changes regularly. Almost all governmental and administrative functions are exercised by authorities and agencies affiliated to the Executive.\n",
      "The country has more than 40 active political parties, and only one of them defines itself as a right-wing party (PSL), with a clear political imbalance. The country has several far-left parties like PSOL, PCO, PSTU, PCB, PC do B, left parties like PT, PSB, PDT, PV, Rede and Solidariedade and center-left like PSDB, DEM, PMN and Cidadania. Ten parties declare themselves as the center: MDB, PL, PSD, PTC, DC, PROS, Avante, Patriota, Podemos and PMB. Five parties declare themselves as center-right: PTB, Progressistas, PSC, PRTB and Republicanos. The only party that claims to be purely liberal, without further consideration, is Novo. When asked about their ideological spectrum, Brazilian parties tend to give obtuse and non-conclusive answers on the subject.\n",
      "\n",
      "\n",
      "=== Law ===\n",
      "\n",
      "Brazilian law is based on the civil law legal system and civil law concepts prevail over common law practice. Most of Brazilian law is codified, although non-codified statutes also represent a substantial part, playing a complementary role. Court decisions set out interpretive guidelines; however, they are seldom binding on other specific cases. Doctrinal works and the works of academic jurists have strong influence in law creation and in law cases.\n",
      "The legal system is based on the Federal Constitution, promulgated on 5 October 1988, and the fundamental law of Brazil. All other legislation and court decisions must conform to its rules. As of April 2007, there have been 53 amendments. States have their own constitutions, which must not contradict the Federal Constitution. Municipalities and the Federal District have \"organic laws\" (leis orgânicas), which act in a similar way to constitutions. Legislative entities are the main source of statutes, although in certain matters judiciary and executive bodies may enact legal norms. Jurisdiction is administered by the judiciary entities, although in rare situations the Federal Constitution allows the Federal Senate to pass on legal judgments. There are also specialized military, labor, and electoral courts. The highest court is the Supreme Federal Court.\n",
      "This system has been criticized over the last few decades for the slow pace of decision-making. Lawsuits on appeal may take several years to resolve, and in some cases more than a decade elapses before definitive rulings. Nevertheless, the Supreme Federal Tribunal was the first court in the world to transmit its sessions on television, and also via YouTube. More recently, in December 2009, the Supreme Court adopted Twitter to display items on the day planner of the ministers, to inform the daily actions of the Court and the most important decisions made by them.\n",
      "\n",
      "\n",
      "=== Military ===\n",
      "\n",
      "The armed forces of Brazil are the largest in Latin America by active personnel and the largest in terms of military equipment. It consists of the Brazilian Army (including the Army Aviation Command), the Brazilian Navy (including the Marine Corps and Naval Aviation), and the Brazilian Air Force. Brazil's conscription policy gives it one of the world's largest military forces, estimated at more than 1.6 million reservists annually.Numbering close to 236,000 active personnel, the Brazilian Army has the largest number of armored vehicles in South America, including armored transports and tanks. It is also unique in Latin America for its large, elite forces specializing in unconventional missions, the Brazilian Special Operations Command, and the versatile Strategic Rapid Action Force, made up of highly mobilized and prepared Special Operations Brigade, Infantry Brigade Parachutist, 1st Jungle Infantry Battalion (Airmobile) and 12th Brigade Light Infantry (Airmobile) able to act anywhere in the country, on short notice, to counter external aggression. The states' Military Police and the Military Firefighters Corps are described as an ancillary forces of the Army by the constitution, but are under the control of each state's governor.Brazil's navy, the second-largest in the Americas, once operated some of the most powerful warships in the world with the two Minas Geraes-class dreadnoughts, which sparked a South American dreadnought race between Argentina, Brazil, and Chile. Today, it is a green water force and has a group of specialized elite in retaking ships and naval facilities, GRUMEC, unit specially trained to protect Brazilian oil platforms along its coast. It is the only navy in Latin America that operates an aircraft carrier, PHM Atlantico, and one of the ten navies of the world to operate one.The Air Force is the largest in Latin America and has about 700 manned aircraft in service and effective about 67,000 personnel.Brazil has not been invaded since 1865 during the Paraguayan War. Additionally, Brazil has no contested territorial disputes with any of its neighbors and neither does it have rivalries, like Chile and Bolivia have with each other. The Brazilian military has also three times intervened militarily to overthrow the Brazilian government. It has built a tradition of participating in UN peacekeeping missions such as in Haiti, East Timor and Central African Republic. Brazil signed the UN treaty on the Prohibition of Nuclear Weapons.\n",
      "\n",
      "\n",
      "=== Foreign policy ===\n",
      "\n",
      "Brazil's international relations are based on Article 4 of the Federal Constitution, which establishes non-intervention, self-determination, international cooperation and the peaceful settlement of conflicts as the guiding principles of Brazil's relationship with other countries and multilateral organizations.According to the Constitution, the President has ultimate authority over foreign policy, while the Congress is tasked with reviewing and considering all diplomatic nominations and international treaties, as well as legislation relating to Brazilian foreign policy.Brazil's foreign policy is a by-product of the country's position as a regional power in Latin America, a leader among developing countries, and an emerging world power. Brazilian foreign policy has generally been based on the principles of multilateralism, peaceful dispute settlement, and non-intervention in the affairs of other countries.Brazil is a founding member state of the Community of Portuguese Language Countries (CPLP), also known as the Lusophone Commonwealth, an international organization and political association of Lusophone nations across four continents, where Portuguese is an official language.\n",
      "An increasingly well-developed tool of Brazil's foreign policy is providing aid as a donor to other developing countries. Brazil does not just use its growing economic strength to provide financial aid, but it also provides high levels of expertise and most importantly of all, a quiet non-confrontational diplomacy to improve governance levels. Total aid is estimated to be around $1 billion per year, which includes:\n",
      "\n",
      "technical cooperation of around $480 million ($30 million in 2010 provided directly by the Brazilian Cooperation Agency (ABC));\n",
      "estimated $450 million for in-kind expertise provided by Brazilian institutions specializing in technical cooperation.In addition, Brazil manages a peacekeeping mission in Haiti ($350 million) and makes in-kind contributions to the World Food Programme ($300 million). This is in addition to humanitarian assistance and contributions to multilateral development agencies. The scale of this aid places it on par with China and India. The Brazilian South-South aid has been described as a \"global model in waiting.\"\n",
      "\n",
      "\n",
      "=== Law enforcement and crime ===\n",
      "\n",
      "In Brazil, the Constitution establishes five different police agencies for law enforcement: Federal Police Department, Federal Highway Police, Federal Railroad Police, Military Police and Civil Police. Of these, the first three are affiliated with federal authorities and the last two are subordinate to state governments. All police forces are the responsibility of the executive branch of any of the federal or state powers. The National Public Security Force also can act in public disorder situations arising anywhere in the country.The country still has above-average levels of violent crime and particularly high levels of gun violence and homicide. In 2012, the World Health Organization (WHO) estimated the number of 32 deaths per 100,000 inhabitants, one of the highest rates of homicide of the world. The number considered tolerable by the WHO is about 10 homicides per 100,000 inhabitants. In 2018, Brazil had a record 63,880 murders. However, there are differences between the crime rates in the Brazilian states. While in São Paulo the homicide rate registered in 2013 was 10.8 deaths per 100,000 inhabitants, in Alagoas it was 64.7 homicides per 100,000 inhabitants.Brazil also has high levels of incarceration and the third largest prison population in the world (behind only China and the United States), with an estimated total of approximately 700,000 prisoners around the country (June 2014), an increase of about 300% compared to the index registered in 1992. The high number of prisoners eventually overloaded the Brazilian prison system, leading to a shortfall of about 200,000 accommodations.\n",
      "\n",
      "\n",
      "=== Administrative divisions ===\n",
      "\n",
      "Brazil is a federation composed of 26 states, one federal district, and the 5570 municipalities. States have autonomous administrations, collect their own taxes and receive a share of taxes collected by the Federal government. They have a governor and a unicameral legislative body elected directly by their voters. They also have independent Courts of Law for common justice. Despite this, states have much less autonomy to create their own laws than in the United States. For example, criminal and civil laws can be voted by only the federal bicameral Congress and are uniform throughout the country.The states and the federal district may be grouped into regions: Northern, Northeast, Central-West, Southeast and Southern. The Brazilian regions are merely geographical, not political or administrative divisions, and they do not have any specific form of government. Although defined by law, Brazilian regions are useful mainly for statistical purposes, and also to define the distribution of federal funds in development projects.\n",
      "Municipalities, as the states, have autonomous administrations, collect their own taxes and receive a share of taxes collected by the Union and state government. Each has a mayor and an elected legislative body, but no separate Court of Law. Indeed, a Court of Law organized by the state can encompass many municipalities in a single justice administrative division called comarca (county).\n",
      "\n",
      "\n",
      "== Economy ==\n",
      "\n",
      "Brazil is the largest national economy in Latin America, the world's ninth largest economy and the eighth largest in purchasing power parity (PPP) according to 2018 estimates. Brazil has a mixed economy with abundant natural resources. After rapid growth in preceding decades, the country entered an ongoing recession in 2014 amid a political corruption scandal and nationwide protests.\n",
      "Its Gross domestic product (PPP) per capita was $15,919 in 2017 putting Brazil in the 77th position according to IMF data. Active in agricultural, mining, manufacturing and service sectors Brazil has a labor force of over 107 million (ranking 6th worldwide) and unemployment of 6.2% (ranking 64th worldwide).The country has been expanding its presence in international financial and commodities markets, and is one of a group of four emerging economies called the BRIC countries. Brazil has been the world's largest producer of coffee for the last 150 years. The country is a major exporter of soy, iron ore, pulp (cellulose), maize, beef, chicken meat, soybean meal, sugar, coffee, tobacco, cotton, orange juice, footwear, airplanes, cars, vehicle parts, gold, ethanol, semi-finished iron, among other products.Brazil's diversified economy includes agriculture, industry, and a wide range of services. Agriculture and allied sectors like forestry, logging and fishing accounted for 5.1% of the GDP in 2007. Brazil is the largest producer of sugarcane, soy, coffee, orange, guaraná, açaí and Brazil nut; is one of the top 5 producers of maize, papaya, tobacco, pineapple, banana, cotton, beans, coconut, watermelon and lemon; is one of the top 10 world producers of cocoa, cashew, avocado, tangerine, persimmon, mango, guava, rice, sorghum and tomato; and is one of the top 15 world producers of grape, apple, melon, peanut, fig, peach, onion, palm oil and natural rubber. The country also produces large quantities of potato, carrot, strawberry, yerba mate, wheat, among others. Part of the production is exported, and another part goes to the domestic market.\n",
      "In the production of animal proteins, Brazil is today one of the largest countries in the world. In 2019, the country was the world's largest exporter of chicken meat. It was also the second largest producer of beef, the world's third largest producer of milk, the world's fourth largest producer of pork and the seventh largest producer of eggs in the world.In the mining sector, Brazil stands out in the extraction of iron ore (where it is the second world exporter), copper, gold, bauxite (one of the 5 largest producers in the world), manganese (one of the 5 largest producers in the world), tin (one of the largest producers in the world), niobium (concentrates 98% of reserves known to the world) and nickel. In terms of precious stones, Brazil is the world's largest producer of amethyst, topaz, agate and one of the main producers of tourmaline, emerald, aquamarine and garnet.Industry in Brazil – from automobiles, steel and petrochemicals to computers, aircraft and consumer durables – accounted for 30.8% of the gross domestic product. Industry is highly concentrated in metropolitan São Paulo, Rio de Janeiro, Campinas, Porto Alegre, and Belo Horizonte. Brazil has become the fourth largest car market in the world. Major export products include aircraft, electrical equipment, automobiles, ethanol, textiles, footwear, iron ore, steel, coffee, orange juice, soybeans and corned beef. In total, Brazil ranks 23rd worldwide in value of exports. In the food industry, in 2019, Brazil was the second largest exporter of processed foods in the world. In 2016, the country was the 2nd largest producer of pulp in the world and the 8th producer of paper. In the footwear industry, in 2019, Brazil ranked 4th among world producers. In 2019, the country was the 8th producer of vehicles and the 9th producer of steel in the world. In 2018, the chemical industry of Brazil was the 8th in the world. Although it was among the 5 largest world producers in 2013, Brazil's textile industry is very little integrated into world trade.The tertiary sector (trade and services) represented 75.8% of the country's GDP in 2018, according to the IBGE. The service sector was responsible for 60% of GDP and trade for 13%. It covers a wide range of activities: commerce, accommodation and catering, transport, communications, financial services, real estate activities and services provided to businesses, public administration (urban cleaning, sanitation, etc.) and other services such as education, social and health services, research and development, sports activities, etc., since it consists of activities complementary to other sectors. Micro and small businesses represent 30% of the country's GDP. In the commercial sector, for example, they represent 53% of the GDP within the activities of the sector.In 2017, the number of people employed in commercial activities in Brazil was 10.2 million people (74.3% in retail trade, 17.0% in wholesale trade and 8.7% in trade of vehicles, parts and motorcycles). The number of commercial enterprises was 1.5 million and the number of stores 1.7 million. Business activity in the country generated R $ 3.4 trillion in net operating income (gross income minus deductions, such as cancellations, discounts and taxes) and R $ 583.7 billion in gross value added. The trade margin (defined as the difference between net income from resale and cost of goods sold) reached R $ 765.1 billion in 2017. Of this total, retail was responsible for 56.4%, the wholesale trade 36.0% and trade in vehicles, spare parts and motorcycles 7.6%. In 2017 net operating income, retail trade accounted for 45.5%, wholesale trade 44.6% and automotive sector with 9.9%. Among the commercial activity groups, Hypermarkets and Supermarkets have 12.5%; the wholesale trade in fuels and lubricants represented 11.3%; retail and wholesale trade in food, beverages and tobacco accounted for 4.8% and 8.4% respectively; trade in motor vehicles, 6.1%; wholesale trade in machinery, apparatus and equipment, including information and communication technologies, accounted for 3.7%.Brazil pegged its currency, the real, to the U.S. dollar in 1994. However, after the East Asian financial crisis, the Russian default in 1998 and the series of adverse financial events that followed it, the Central Bank of Brazil temporarily changed its monetary policy to a managed float regime scheme while undergoing a currency crisis, until definitively changing the exchange regime to free-float in January 1999.Brazil received an International Monetary Fund (IMF) rescue package in mid-2002 of $30.4 billion, a record sum at the time. Brazil's central bank repaid the IMF loan in 2005, although it was not due to be repaid until 2006. One of the issues the Central Bank of Brazil recently dealt with was an excess of speculative short-term capital inflows to the country, which may have contributed to a fall in the value of the U.S. dollar against the real during that period. Nonetheless, foreign direct investment (FDI), related to long-term, less speculative investment in production, is estimated to be $193.8 billion for 2007. Inflation monitoring and control currently plays a major part in the Central bank's role in setting short-term interest rates as a monetary policy measure.Between 1993 and 2010, 7012 mergers and acquisitions with a total known value of $707 billion with the involvement of Brazilian firms were announced. The year 2010 was a new record in terms of value with US$115 billion in transactions. The largest transaction with involvement of Brazilian companies was the Cia. Vale do Rio Doce acquisition of Inco in a tender offer valued at US$18.9 billion.\n",
      "Corruption costs Brazil almost $41 billion a year alone in 2010, with 69.9% of the country's firms identifying the issue as a major constraint in successfully penetrating the global market. Local government corruption is so prevalent that voters perceive it as a problem only if it surpasses certain levels, and only if a local media e.g. a radio station is present to divulge the findings of corruption charges. Initiatives, like this exposure, strengthen awareness which is indicated by the Transparency International's Corruption Perceptions Index; ranking Brazil 69th out of 178 countries in 2012.\n",
      "The purchasing power in Brazil is eroded by the so-called Brazil cost.Brazil also has a large cooperative sector that provides 50% of the food in the country. The world's largest healthcare cooperative Unimed is also located in Brazil, and accounts for 32% of the healthcare insurance market in the country.\n",
      "\n",
      "\n",
      "=== Energy ===\n",
      "\n",
      "Brazil is the world's tenth largest energy consumer with much of its energy coming from renewable sources, particularly hydroelectricity and ethanol; the Itaipu Dam is the world's largest hydroelectric plant by energy generation, and the country has other large plants like Belo Monte and Tucuruí. The first car with an ethanol engine was produced in 1978 and the first airplane engine running on ethanol in 2005. In total electricity generation, in 2019 Brazil reached 170,000 megawatts of installed capacity, more than 75% from renewable sources (the majority, hydroelectric plants). Brazil is one of the 5 largest hydroelectric energy producers in the world (2nd place in 2017).As of September 2020, according to ONS, total installed capacity of wind power was 16.3 GW, with average capacity factor of 58%. While the world average wind production capacity factors is 24.7%, there are areas in Northern Brazil, specially in Bahia State, where some wind farms record with average capacity factors over 60%; the average capacity factor in the Northeast Region is 45% in the coast and 49% in the interior. In 2019, wind energy represented 9% of the energy generated in the country. In 2019, it was estimated that the country had an estimated wind power generation potential of around 522 GW (this, only onshore), enough energy to meet three times the country's current demand. Brazil is one of the 10 largest wind energy producers in the world (8th place in 2019, with 2.4% of world production).As of September 2020, according to ONS, total installed capacity of photovoltaic solar was 6.9 GW, with average capacity factor of 23%. Some of the most irradiated Brazilian States are Minas Gerais, Bahia and Goiás. In 2019, solar power represented 1.27% of the energy generated in the country.Recent oil discoveries in the pre-salt layer have opened the door for a large increase in oil production. The governmental agencies responsible for the energy policy are the Ministry of Mines and Energy, the National Council for Energy Policy, the National Agency of Petroleum, Natural Gas and Biofuels, and the National Agency of Electricity. In the beginning of 2020, in the production of oil and natural gas, the country exceeded 4 million barrels of oil equivalent per day, for the first time. In January this year, 3.168 million barrels of oil per day and 138.753 million cubic meters of natural gas were extracted.\n",
      "\n",
      "\n",
      "=== Tourism ===\n",
      "\n",
      "Tourism in Brazil is a growing sector and key to the economy of several regions of the country. The country had 6.36 million visitors in 2015, ranking in terms of the international tourist arrivals as the main destination in South America and second in Latin America after Mexico. Revenues from international tourists reached US$6 billion in 2010, showing a recovery from the 2008–2009 economic crisis. Historical records of 5.4 million visitors and US$6.8 billion in receipts were reached in 2011.Natural areas are its most popular tourism product, a combination of ecotourism with leisure and recreation, mainly sun and beach, and adventure travel, as well as cultural tourism. Among the most popular destinations are the Amazon Rainforest, beaches and dunes in the Northeast Region, the Pantanal in the Center-West Region, beaches at Rio de Janeiro and Santa Catarina, cultural tourism in Minas Gerais and business trips to São Paulo.In terms of the 2015 Travel and Tourism Competitiveness Index (TTCI), which is a measurement of the factors that make it attractive to develop business in the travel and tourism industry of individual countries, Brazil ranked in the 28st place at the world's level, third in the Americas, after Canada and United States.Brazil's main competitive advantages are its natural resources, which ranked 1st on this criteria out of all countries considered, and ranked 23rd for its cultural resources, due to its many World Heritage sites. The TTCI report notes Brazil's main weaknesses: its ground transport infrastructure remains underdeveloped (ranked 116th), with the quality of roads ranking in 105th place; and the country continues to suffer from a lack of price competitiveness (ranked 114th), due in part to high ticket taxes and airport charges, as well as high prices and high taxation. Safety and security have improved significantly: 75th in 2011, up from 128th in 2008.According to the World Tourism Organization (WTO), international travel to Brazil accelerated in 2000, particularly during 2004 and 2005. However, in 2006 a slow-down took place, and international arrivals had almost no growth in 2007–08.In spite of this trend, revenues from international tourism continued to rise, from USD 4 billion in 2005 to 5 billion in 2007, despite 330 000 fewer arrivals. This favorable trend is the result of the strong devaluation of the US dollar against the Brazilian Real, which began in 2004, but which makes Brazil a more expensive international destination.\n",
      "\n",
      "This trend changed in 2009, when both visitors and revenues fell as a result of the Great Recession of 2008–09. By 2010, the industry had recovered, and arrivals grew above 2006 levels to 5.2 million international visitors, and receipts from these visitors reached US$6 billion. In 2011 the historical record was reached with 5.4 million visitors and US$6.8 billion in receipts.Despite continuing record-breaking international tourism revenues, the number of Brazilian tourists travelling overseas has been growing steadily since 2003, resulting in a net negative foreign exchange balance, as more money is spent abroad by Brazilians than comes in as receipts from international tourists visiting Brazil.Tourism expenditures abroad grew from US$5.8 billion in 2006, to US$8.2 billion in 2007, a 42% increase, representing a net deficit of US$3.3 billion in 2007, as compared to US$1.5 billion in 2006, a 125% increase from the previous year. This trend is caused by Brazilians taking advantage of the stronger Real to travel and making relatively cheaper expenditures abroad. Brazilians traveling overseas in 2006 represented 4% of the country's population.In 2005, tourism contributed with 3.2% of the country's revenues from exports of goods and services, and represented 7% of direct and indirect employment in the Brazilian economy. In 2006 direct employment in the sector reached 1.9 million people.Domestic tourism is a fundamental market segment for the industry, as 51 million people traveled throughout the country in 2005, and direct revenues from Brazilian tourists reached US$22 billion, 5.6 times more receipts than international tourists in 2005.\n",
      "In 2005, Rio de Janeiro, Foz do Iguaçu, São Paulo, Florianópolis and Salvador were the most visited cities by international tourists for leisure trips. The most popular destinations for business trips were São Paulo, Rio de Janeiro and Porto Alegre. In 2006 Rio de Janeiro and Fortaleza were the most popular destinations for business trips.\n",
      "\n",
      "\n",
      "== Infrastructure ==\n",
      "\n",
      "\n",
      "=== Science and technology ===\n",
      "\n",
      "Technological research in Brazil is largely carried out in public universities and research institutes, with the majority of funding for basic research coming from various government agencies. Brazil's most esteemed technological hubs are the Oswaldo Cruz Institute, the Butantan Institute, the Air Force's Aerospace Technical Center, the Brazilian Agricultural Research Corporation and the National Institute for Space Research.The Brazilian Space Agency has the most advanced space program in Latin America, with significant resources to launch vehicles, and manufacture of satellites. Owner of relative technological sophistication, the country develops submarines, aircraft, as well as being involved in space research, having a Vehicle Launch Center Light and being the only country in the Southern Hemisphere the integrate team building International Space Station (ISS).The country is also a pioneer in the search for oil in deep water, from where it extracts 73% of its reserves.\n",
      "Uranium is enriched at the Resende Nuclear Fuel Factory, mostly for research purposes (as Brazil obtains 88% from its electricity from hydroelectricity) and the country's first nuclear submarine was delivered in 2015 (by France).Brazil is one of the three countries in Latin America with an operational Synchrotron Laboratory, a research facility on physics, chemistry, material science and life sciences, and Brazil is the only Latin American country to have a semiconductor company with its own fabrication plant, the CEITEC. According to the Global Information Technology Report 2009-2010 of the World Economic Forum, Brazil is the world's 61st largest developer of information technology.Among the most renowned Brazilian inventors are priests Bartolomeu de Gusmão, Landell de Moura and Francisco João de Azevedo, besides Alberto Santos-Dumont, Evaristo Conrado Engelberg, Manuel Dias de Abreu, Andreas Pavel and Nélio José Nicolai.Brazilian science is represented by the likes of César Lattes (Brazilian physicist Pathfinder of Pi Meson), Mário Schenberg (considered the greatest theoretical physicist of Brazil), José Leite Lopes (only Brazilian physicist holder of the UNESCO Science Prize), Artur Ávila (the first Latin American winner of the Fields Medal) and Fritz Müller (pioneer in factual support of the theory of evolution by Charles Darwin).\n",
      "\n",
      "\n",
      "=== Transport ===\n",
      "\n",
      "Brazilian roads are the primary carriers of freight and passenger traffic. The road system totaled 1.98 million km (1.23 million mi) in 2002. The total of paved roads increased from 35,496 km (22,056 mi) in 1967 to 215,000 km (133,595 mi) in 2018.  The country has about 14,000 km (8,699 mi) of divided highways, 5,000 km (3,107 mi) only in the State of São Paulo. Currently it's possible to travel from Rio Grande, in the extreme south of the country, to Brasília (2,580 km (1,603 mi)) or Casimiro de Abreu, in the state of Rio de Janeiro (2,045 km (1,271 mi)), only on divided highways.\n",
      "The first investments in road infrastructure have given up in the 1920s, the government of Washington Luís, being pursued in the governments of Getúlio Vargas and Eurico Gaspar Dutra. President Juscelino Kubitschek (1956–61), who designed and built the capital Brasília, was another supporter of highways. Kubitschek was responsible for the installation of major car manufacturers in the country (Volkswagen, Ford and General Motors arrived in Brazil during his rule) and one of the points used to attract them was support for the construction of highways. With the implementation of Fiat in 1976 ending an automobile market closed loop, from the end of the 1990s the country has received large foreign direct investments installing in its territory other major car manufacturers and utilities, such as Iveco, Renault, Peugeot, Citroën, Honda, Mitsubishi, Mercedes-Benz, BMW, Hyundai, Toyota among others. Brazil is the seventh most important country in the auto industry.Brazil's railway system has been declining since 1945, when emphasis shifted to highway construction. The total length of railway track was 30,875 km (19,185 mi) in 2002, as compared with 31,848 km (19,789 mi) in 1970. Most of the railway system belonged to the Federal Railroad Corporation RFFSA, which was privatized in 2007. The São Paulo Metro was the first underground transit system in Brazil. The other metro systems are in Rio de Janeiro, Porto Alegre, Recife, Belo Horizonte, Brasília, Salvador and Fortaleza.\n",
      "The country has an extensive rail network of 28,538 kilometres (17,733 miles) in length, the tenth largest network in the world. Currently, the Brazilian government, unlike the past, seeks to encourage this mode of transport; an example of this incentive is the project of the Rio–São Paulo high-speed rail, that will connect the two main cities of the country to carry passengers.\n",
      "There are about 2,500 airports in Brazil, including landing fields: the second largest number in the world, after the United States. São Paulo–Guarulhos International Airport, near São Paulo, is the largest and busiest airport with nearly 20 million passengers annually, while handling the vast majority of commercial traffic for the country.For freight transport waterways are of importance, e.g. the industrial zones of Manaus can be reached only by means of the Solimões–Amazonas waterway (3,250 kilometres (2,020 miles) with 6 metres (20 feet) minimum depth). The country also has 50,000 kilometres (31,000 miles) of waterways.Coastal shipping links widely separated parts of the country. Bolivia and Paraguay have been given free ports at Santos. Of the 36 deep-water ports, Santos, Itajaí, Rio Grande, Paranaguá, Rio de Janeiro, Sepetiba, Vitória, Suape, Manaus and São Francisco do Sul are the most important. Bulk carriers have to wait up to 18 days before being serviced, container ships 36.3 hours on average.\n",
      "\n",
      "\n",
      "=== Health ===\n",
      "\n",
      "The Brazilian public health system, the Unified Health System (SUS), is managed and provided by all levels of government, being the largest system of this type in the world. On the other hand, private healthcare systems play a complementary role.Public health services are universal and offered to all citizens of the country for free. However, the construction and maintenance of health centers and hospitals are financed by taxes, and the country spends about 9% of its GDP on expenditures in the area. In 2012, Brazil had 1.85 doctors and 2.3 hospital beds for every 1,000 inhabitants.Despite all the progress made since the creation of the universal health care system in 1988, there are still several public health problems in Brazil. In 2006, the main points to be solved were the high infant (2.51%) and maternal mortality rates (73.1 deaths per 1000 births).The number of deaths from noncommunicable diseases, such as cardiovascular diseases (151.7 deaths per 100,000 inhabitants) and cancer (72.7 deaths per 100,000 inhabitants), also has a considerable impact on the health of the Brazilian population. Finally, external but preventable factors such as car accidents, violence and suicide caused 14.9% of all deaths in the country. The Brazilian health system was ranked 125th among the 191 countries evaluated by the World Health Organization (WHO) in 2000.\n",
      "\n",
      "\n",
      "=== Education ===\n",
      "\n",
      "The Federal Constitution and the Law of Guidelines and Bases of National Education determine that the Union, the states, the Federal District, and the municipalities must manage and organize their respective education systems. Each of these public educational systems is responsible for its own maintenance, which manages funds as well as the mechanisms and funding sources. The constitution reserves 25% of the state budget and 18% of federal taxes and municipal taxes for education.According to the IBGE, in 2011, the literacy rate of the population was 90.4%, meaning that 13 million (9.6% of population) people are still illiterate in the country; functional illiteracy has reached 21.6% of the population. Illiteracy is highest in the Northeast, where 19.9% of the population is illiterate.Higher education starts with undergraduate or sequential courses, which may offer different options of specialization in academic or professional careers. Depending on the choice, students can improve their educational background with courses of post-graduate studies or broad sense.\n",
      "Attending an institution of higher education is required by Law of Guidelines and Bases of Education. Kindergarten, elementary and medium education are required of all students, provided the student does not hold any disability, whether physical, mental, visual or hearing.\n",
      "The University of São Paulo is the second best university in Latin America, according to recent 2019 QS World University Rankings. Of the top 20 Latin American universities, eight are Brazilian. Most of them are public.Brazil's private institutions tend to be more exclusive and offer better quality education, so many high-income families send their children there. The result is a segregated educational system that reflects extreme income disparities and reinforces social inequality. However, efforts to change this are making impacts.\n",
      "\n",
      "\n",
      "=== Media and communication ===\n",
      "\n",
      "The Brazilian press was officially born in Rio de Janeiro on 13 May 1808 with the creation of the Royal Printing National Press by the Prince Regent Dom João.The Gazeta do Rio de Janeiro, the first newspaper published in the country, began to circulate on 10 September 1808. The largest newspapers nowadays are Folha de S.Paulo, Super Notícia, O Globo and O Estado de S. Paulo.Radio broadcasting began on 7 September 1922, with a speech by then President Pessoa, and was formalized on 20 April 1923 with the creation of \"Radio Society of Rio de Janeiro.\"Television in Brazil began officially on 18 September 1950, with the founding of TV Tupi by Assis Chateaubriand. Since then television has grown in the country, creating large commercial broadcast networks such as Globo, SBT, RecordTV, Bandeirantes and RedeTV. Today it is the most important factor in popular culture of Brazilian society, indicated by research showing that as much as 67% of the general population follow the same daily soap opera broadcast. Digital Television, using the SBTVD standard (based on the Japanese standard ISDB-T), was adopted on 29 June 2006 and launched on 2 November 2007. In May 2010, the Brazilian government launched TV Brasil Internacional, an international television station, initially broadcasting to 49 countries. Commercial television channels broadcast internationally include Globo Internacional, RecordTV Internacional and Band Internacional.\n",
      "\n",
      "\n",
      "== Demographics ==\n",
      "\n",
      "The population of Brazil, as recorded by the 2008 PNAD, was approximately 190 million (22.31 inhabitants per square kilometre or 57.8/sq mi), with a ratio of men to women of 0.95:1 and 83.75% of the population defined as urban. The population is heavily concentrated in the Southeastern (79.8 million inhabitants) and Northeastern (53.5 million inhabitants) regions, while the two most extensive regions, the Center-West and the North, which together make up 64.12% of the Brazilian territory, have a total of only 29.1 million inhabitants.\n",
      "The first census in Brazil was carried out in 1872 and recorded a population of 9,930,478. From 1880 to 1930, 4 million Europeans arrived. Brazil's population increased significantly between 1940 and 1970, because of a decline in the mortality rate, even though the birth rate underwent a slight decline. In the 1940s the annual population growth rate was 2.4%, rising to 3.0% in the 1950s and remaining at 2.9% in the 1960s, as life expectancy rose from 44 to 54 years and to 72.6 years in 2007.\n",
      "It has been steadily falling since the 1960s, from 3.04% per year between 1950 and 1960 to 1.05% in 2008 and is expected to fall to a negative value of –0.29% by 2050 thus completing the demographic transition.In 2008, the illiteracy rate was 11.48% and among the youth (ages 15–19) 1.74%. It was highest (20.30%) in the Northeast, which had a large proportion of rural poor. Illiteracy was high (24.18%) among the rural population and lower (9.05%) among the urban population.\n",
      "\n",
      "\n",
      "=== Race and ethnicity ===\n",
      "\n",
      "According to the National Research by Household Sample (PNAD) of 2008, 48.43% of the population (about 92 million) described themselves as White; 43.80% (about 83 million) as Pardo (brown), 6.84% (about 13 million) as Black; 0.58% (about 1.1 million) as Asian; and 0.28% (about 536 thousand) as Amerindian (officially called indígena, Indigenous), while 0.07% (about 130 thousand) did not declare their race.In 2007, the National Indian Foundation estimated that Brazil has 67 different uncontacted tribes, up from their estimate of 40 in 2005. Brazil is believed to have the largest number of uncontacted peoples in the world.Since the arrival of the Portuguese in 1500, considerable genetic mixing between Amerindians, Europeans, and Africans has taken place in all regions of the country (with European ancestry being dominant nationwide according to the vast majority of all autosomal studies undertaken covering the entire population, accounting for between 65% to 77%).Brazilian society is more markedly divided by social class lines, although a high income disparity is found between race groups, so racism and classism can be conflated. Socially significant closeness to one racial group is taken in account more in the basis of appearance (phenotypes) rather than ancestry, to the extent that full siblings can pertain to different \"racial\" groups. Socioeconomic factors are also significant, because a minority of pardos are likely to start declaring themselves White or Black if socially upward. Skin color and facial features do not line quite well with ancestry (usually, Afro-Brazilians are evenly mixed and European ancestry is dominant in Whites and pardos with a significant non-European contribution, but the individual variation is great).The brown population (officially called pardo in Portuguese, also colloquially moreno) is a broad category that includes caboclos (assimilated Amerindians in general, and descendants of Whites and Natives), mulatos (descendants of primarily Whites and Afro-Brazilians) and cafuzos (descendants of Afro-Brazilians and Natives). People of considerable Amerindian ancestry form the majority of the population in the Northern, Northeastern and Center-Western regions.Higher percents of Blacks, mulattoes and tri-racials can be found in the eastern coast of the Northeastern region from Bahia to Paraíba and also in northern Maranhão, southern Minas Gerais and in eastern Rio de Janeiro. From the 19th century, Brazil opened its borders to immigration. About five million people from over 60 countries migrated to Brazil between 1808 and 1972, most of them of Portuguese, Italian, Spanish, German, Ukrainian, Polish, Jewish, Russian, Chinese, Japanese, and Arab origin. Brazil has the second largest Jewish community in Latin America making up 0.06% of its population.\n",
      "\n",
      "\n",
      "=== Religion ===\n",
      "\n",
      "Roman Catholicism is the country's predominant faith. Brazil has the world's largest Catholic population. According to the 2010 Demographic Census (the PNAD survey does not inquire about religion), 64.63% of the population followed Roman Catholicism; 22.2% Protestantism; 2.0% Kardecist spiritism; 3.2% other religions, undeclared or undetermined; while 8.0% have no religion.Religion in Brazil was formed from the meeting of the Catholic Church with the religious traditions of enslaved African peoples and indigenous peoples. This confluence of faiths during the Portuguese colonization of Brazil led to the development of a diverse array of syncretistic practices within the overarching umbrella of Brazilian Catholic Church, characterized by traditional Portuguese festivities, and in some instances, Allan Kardec's Spiritism (a religion which incorporates elements of spiritualism and Christianity). Religious pluralism increased during the 20th century, and the Protestant community has grown to include over 22% of the population. The most common Protestant denominations are Evangelical Pentecostal ones. Other Protestant branches with a notable presence in the country include the Baptists, Seventh-day Adventists, Lutherans and the Reformed tradition.However, in the last ten years Protestantism, particularly in forms of Pentecostalism and Evangelicalism, has spread in Brazil, while the proportion of Catholics has dropped significantly. After Protestantism, individuals professing no religion are also a significant group, exceeding 8% of the population as of the 2010 census. The cities of Boa Vista, Salvador, and Porto Velho have the greatest proportion of Irreligious residents in Brazil. Teresina, Fortaleza, and Florianópolis were the most Roman Catholic in the country. Greater Rio de Janeiro, not including the city proper, is the most irreligious and least Roman Catholic Brazilian periphery, while Greater Porto Alegre and Greater Fortaleza are on the opposite sides of the lists, respectively.\n",
      "\n",
      "In October 2009, the Brazilian Senate approved and enacted by the President of Brazil in February 2010, an agreement with the Vatican, in which the Legal Statute of the Catholic Church in Brazil is recognized. The agreement confirmed norms that were normally complied with regarding religious education in public elementary schools (which also ensures the teaching of other beliefs), marriage and spiritual assistance in prisons and hospitals. The project was criticized by parliamentarians who understood the end of the secular state with the approval of the agreement.\n",
      "\n",
      "\n",
      "=== Urbanization ===\n",
      "\n",
      "According to IBGE (Brazilian Institute of Geography and Statistics) urban areas already concentrate 84.35% of the population, while the Southeast region remains the most populated one, with over 80 million inhabitants.\n",
      "The largest urban agglomerations in Brazil are São Paulo, Rio de Janeiro, and Belo Horizonte – all in the Southeastern Region – with 21.1, 12.3, and 5.1 million inhabitants respectively. The majority of state capitals are the largest cities in their states, except for Vitória, the capital of Espírito Santo, and Florianópolis, the capital of Santa Catarina.\n",
      "\n",
      "\n",
      "=== Language ===\n",
      "\n",
      "The official language of Brazil is Portuguese (Article 13 of the Constitution of the Federal Republic of Brazil), which almost all of the population speaks and is virtually the only language used in newspapers, radio, television, and for business and administrative purposes. Brazil is the only Portuguese-speaking nation in the Americas, making the language an important part of Brazilian national identity and giving it a national culture distinct from those of its Spanish-speaking neighbors.Brazilian Portuguese has had its own development, mostly similar to 16th-century Central and Southern dialects of European Portuguese (despite a very substantial number of Portuguese colonial settlers, and more recent immigrants, coming from Northern regions, and in minor degree Portuguese Macaronesia), with a few influences from the Amerindian and African languages, especially West African and Bantu restricted to the vocabulary only. As a result, the language is somewhat different, mostly in phonology, from the language of Portugal and other Portuguese-speaking countries (the dialects of the other countries, partly because of the more recent end of Portuguese colonialism in these regions, have a closer connection to contemporary European Portuguese). These differences are comparable to those between American and British English.In 1990, the Community of Portuguese Language Countries (CPLP), which included representatives from all countries with Portuguese as the official language, reached an agreement on the reform of the Portuguese orthography to unify the two standards then in use by Brazil on one side and the remaining lusophone countries on the other. This spelling reform went into effect in Brazil on 1 January 2009. In Portugal, the reform was signed into law by the President on 21 July 2008 allowing for a six-year adaptation period, during which both orthographies will co-exist. The remaining CPLP countries are free to establish their own transition timetables.The sign language law legally recognized in 2002, (the law was regulated in 2005) the use of the Brazilian Sign Language, more commonly known by its Portuguese acronym LIBRAS, in education and government services. The language must be taught as a part of the education and speech and language pathology curricula. LIBRAS teachers, instructors and translators are recognized professionals. Schools and health services must provide access (\"inclusion\") to deaf people.\n",
      "\n",
      "Minority languages are spoken throughout the nation. One hundred and eighty Amerindian languages are spoken in remote areas and a significant number of other languages are spoken by immigrants and their descendants. In the municipality of São Gabriel da Cachoeira, Nheengatu (a currently endangered South American creole language – or an 'anti-creole', according to some linguists – with mostly Indigenous Brazilian languages lexicon and Portuguese-based grammar that, together with its southern relative língua geral paulista, once was a major lingua franca in Brazil, being replaced by Portuguese only after governmental prohibition led by major political changes), Baniwa and Tucano languages had been granted co-official status with Portuguese.There are significant communities of German (mostly the Brazilian Hunsrückisch, a High German language dialect) and Italian (mostly the Talian, a Venetian dialect) origins in the Southern and Southeastern regions, whose ancestors' native languages were carried along to Brazil, and which, still alive there, are influenced by the Portuguese language. Talian is officially a historic patrimony of Rio Grande do Sul, and two German dialects possess co-official status in a few municipalities. Italian is also recognized as ethnic language in the Santa Teresa microregion and Vila Velha (Espirito Santo state), and is taught as mandatory second language at school.Learning at least one second language (generally English or Spanish) is mandatory for all the 12 grades of the mandatory education system (primary and secondary education, there called ensino fundamental and ensino médio respectively). Brazil is the first country in South America to offer Esperanto to secondary students.\n",
      "\n",
      "\n",
      "== Culture ==\n",
      "\n",
      "The core culture of Brazil is derived from Portuguese culture, because of its strong colonial ties with the Portuguese Empire. Among other influences, the Portuguese introduced the Portuguese language, Roman Catholicism and colonial architectural styles. The culture was, however, also strongly influenced by African, indigenous and non-Portuguese European cultures and traditions.\n",
      "Some aspects of Brazilian culture were influenced by the contributions of Italian, German and other European as well as Japanese, Jewish and Arab immigrants who arrived in large numbers in the South and Southeast of Brazil during the 19th and 20th centuries. The Amerindians influenced Brazil's language and cuisine; and the Africans influenced language, cuisine, music, dance and religion.Brazilian art has developed since the 16th century into different styles that range from Baroque (the dominant style in Brazil until the early 19th century) to Romanticism, Modernism, Expressionism, Cubism, Surrealism and Abstractionism. Brazilian cinema dates back to the birth of the medium in the late 19th century and has gained a new level of international acclaim since the 1960s.\n",
      "\n",
      "\n",
      "=== Architecture ===\n",
      "\n",
      "The architecture of Brazil is influenced by Europe, especially Portugal. It has a history that goes back 500 years to the time when Pedro Cabral discovered Brazil in 1500. Portuguese colonial architecture was the first wave of architecture to go to Brazil. It is the basis for all Brazilian architecture of later centuries. In the 19th century during the time of the Empire of Brazil, Brazil followed European trends and adopted Neoclassical and Gothic Revival architecture. Then in the 20th century especially in Brasília, Brazil experimented with Modernist architecture.\n",
      "The colonial architecture of Brazil dates to the early 16th century when Brazil was first explored, conquered and settled by the Portuguese. The Portuguese built architecture familiar to them in Europe in their aim to colonize Brazil. They built Portuguese colonial architecture which included churches, civic architecture including houses and forts in Brazilian cities and the countryside. During 19th century Brazilian architecture saw the introduction of more European styles to Brazil such as Neoclassical and Gothic Revival architecture. This was usually mixed with Brazilian influences from their own heritage which produced a unique form of Brazilian architecture. In the 1950s the modernist architecture was introduced when Brasília was built as new federal capital in the interior of Brazil to help develop the interior. The architect Oscar Niemeyer idealized and built government buildings, churches and civic buildings in the modernist style.\n",
      "\n",
      "\n",
      "=== Music ===\n",
      "\n",
      "The music of Brazil was formed mainly from the fusion of European and African elements. Until the nineteenth century, Portugal was the gateway to most of the influences that built Brazilian music, although many of these elements were not of Portuguese origin, but generally European. The first was José Maurício Nunes Garcia, author of sacred pieces with influence of Viennese classicism. The major contribution of the African element was the rhythmic diversity and some dances and instruments that had a bigger role in the development of popular music and folk, flourishing especially in the twentieth century.Popular music since the late eighteenth century began to show signs of forming a characteristically Brazilian sound, with samba considered the most typical and on the UNESCO cultural heritage list. Maracatu and Afoxê are two Afro-Brazilian music traditions that have been popularized by their appearance in the annual Brazilian Carnivals. The sport of capoeira is usually played with its own music referred to as capoeira music, which is usually considered to be a call-and-response type of folk music. Forró is a type of folk music prominent during the Festa Junina in northeastern Brazil. Jack A. Draper III, a professor of Portuguese at the University of Missouri, argues that Forró was used as a way to subdue feelings of nostalgia for a rural lifestyle.Choro is a very popular music instrumental style. Its origins are in 19th-century Rio de Janeiro. In spite of the name, the style often has a fast and happy rhythm, characterized by virtuosity, improvisation, subtle modulations and full of syncopation and counterpoint. Bossa nova is also a well-known style of Brazilian music developed and popularized in the 1950s and 1960s. The phrase \"bossa nova\" means literally \"new trend\". A lyrical fusion of samba and jazz, bossa nova acquired a large following starting in the 1960s.\n",
      "\n",
      "\n",
      "=== Literature ===\n",
      "\n",
      "Brazilian literature dates back to the 16th century, to the writings of the first Portuguese explorers in Brazil, such as Pêro Vaz de Caminha, filled with descriptions of fauna, flora and commentary about the indigenous population that fascinated European readers.Brazil produced significant works in Romanticism – novelists like Joaquim Manuel de Macedo and José de Alencar wrote novels about love and pain. Alencar, in his long career, also treated indigenous people as heroes in the Indigenist novels O Guarani, Iracema and Ubirajara. Machado de Assis, one of his contemporaries, wrote in virtually all genres and continues to gain international prestige from critics worldwide.Brazilian Modernism, evidenced by the Week of Modern Art in 1922, was concerned with a nationalist avant-garde literature, while Post-Modernism brought a generation of distinct poets like João Cabral de Melo Neto, Carlos Drummond de Andrade, Vinicius de Moraes, Cora Coralina, Graciliano Ramos, Cecília Meireles, and internationally known writers dealing with universal and regional subjects like Jorge Amado, João Guimarães Rosa, Clarice Lispector and Manuel Bandeira.\n",
      "\n",
      "\n",
      "=== Cuisine ===\n",
      "\n",
      "Brazilian cuisine varies greatly by region, reflecting the country's varying mix of indigenous and immigrant populations. This has created a national cuisine marked by the preservation of regional differences. Examples are feijoada, considered the country's national dish; and regional foods such as beiju, feijão tropeiro, vatapá, moqueca, polenta (from Italian cuisine) and acarajé (from African cuisine).The national beverage is coffee and cachaça is Brazil's native liquor. Cachaça is distilled from sugar cane and is the main ingredient in the national cocktail, caipirinha.A typical meal consists mostly of rice and beans with beef, salad, french fries and a fried egg. Often, it is mixed with cassava flour (farofa). Fried potatoes, fried cassava, fried banana, fried meat and fried cheese are very often eaten in lunch and served in most typical restaurants. Popular snacks are pastel (a fried pastry); coxinha (a variation of chicken croquete); pão de queijo (cheese bread and cassava flour / tapioca); pamonha (corn and milk paste); esfirra (a variation of Lebanese pastry); kibbeh (from Arabic cuisine); empanada (pastry) and empada, little salt pies filled with shrimps or heart of palm.\n",
      "Brazil has a variety of desserts such as brigadeiros (chocolate fudge balls), bolo de rolo (roll cake with goiabada), cocada (a coconut sweet), beijinhos (coconut truffles and clove) and romeu e julieta (cheese with goiabada). Peanuts are used to make paçoca, rapadura and pé-de-moleque. Local common fruits like açaí, cupuaçu, mango, papaya, cocoa, cashew, guava, orange, lime, passionfruit, pineapple, and hog plum are turned in juices and used to make chocolates, ice pops and ice cream.\n",
      "\n",
      "\n",
      "=== Cinema ===\n",
      "\n",
      "The Brazilian film industry began in the late 19th century, during the early days of the Belle Époque. While there were national film productions during the early 20th century, American films such as Rio the Magnificent were made in Rio de Janeiro to promote tourism in the city. The films Limite (1931) and Ganga Bruta (1933), the latter being produced by Adhemar Gonzaga through the prolific studio Cinédia, were poorly received at release and failed at the box office, but are acclaimed nowadays and placed among the finest Brazilian films of all time. The 1941 unfinished film It's All True was divided in four segments, two of which were filmed in Brazil and directed by Orson Welles; it was originally produced as part of the United States' Good Neighbor Policy during Getúlio Vargas' Estado Novo government.\n",
      "During the 1960s, the Cinema Novo movement rose to prominence with directors such as Glauber Rocha, Nelson Pereira dos Santos, Paulo César Saraceni and Arnaldo Jabor. Rocha's films Deus e o Diabo na Terra do Sol (1964) and Terra em Transe (1967) are considered to be some of the greatest and most influential in Brazilian film history.During the 1990s, Brazil saw a surge of critical and commercial success with films such as O Quatrilho (Fábio Barreto, 1995), O Que É Isso, Companheiro? (Bruno Barreto, 1997) and Central do Brasil (Walter Salles, 1998), all of which were nominated for the Academy Award for Best Foreign Language Film, the latter receiving a Best Actress nomination for Fernanda Montenegro. The 2002 crime film City of God, directed by Fernando Meirelles, was critically acclaimed, scoring 90% on Rotten Tomatoes, being placed in Roger Ebert's Best Films of the Decade list and receiving four Academy Award nominations in 2004, including Best Director. Notable film festivals in Brazil include the São Paulo and Rio de Janeiro International Film Festivals and the Gramado Festival.\n",
      "\n",
      "\n",
      "=== Theatre ===\n",
      "\n",
      "The theatre in Brazil has its origins in the period of Jesuit expansion when theater was used for the dissemination of Catholic doctrine in the 16th century. in the 17th and 18th centuries the first dramatists who appeared on the scene of European derivation was for court or private performances. During the 19th century, dramatic theater gained importance and thickness, whose first representative was Luís Carlos Martins Pena (1813–1848), capable of describing contemporary reality. Always in this period the comedy of costume and comic production was imposed. Significant, also in the nineteenth century, was also the playwright Antônio Gonçalves Dias. There were also numerous operas and orchestras. The Brazilian conductor Antônio Carlos Gomes became internationally known with operas like Il Guarany. At the end of the 19th century orchestrated dramaturgias became very popular and were accompanied with songs of famous artists like the conductress Chiquinha Gonzaga.Already in the early 20th century there was the presence of theaters, entrepreneurs and actor companies, but paradoxically the quality of the products staggered, and only in 1940 the Brazilian theater received a boost of renewal thanks to the action of Paschoal Carlos Magno and his student's theater, the comedians group and the Italian actors Adolfo Celi, Ruggero Jacobbi and Aldo Calvo, founders of the Teatro Brasileiro de Comedia. From the 1960s it was attended by a theater dedicated to social and religious issues and to the flourishing of schools of dramatic art. The most prominent authors at this stage were Jorge Andrade and Ariano Suassuna.\n",
      "\n",
      "\n",
      "=== Visual arts ===\n",
      "\n",
      "Brazilian painting emerged in the late 16th century, influenced by Baroque, Rococo, Neoclassicism, Romanticism, Realism, Modernism, Expressionism, Surrealism, Cubism and Abstracionism making it a major art style called Brazilian academic art. The Missão Artística Francesa (French Artistic Mission) arrived in Brazil in 1816 proposing the creation of an art academy modeled after the respected Académie des Beaux-Arts, with graduation courses both for artists and craftsmen for activities such as modeling, decorating, carpentry and others and bringing artists like Jean-Baptiste Debret.Upon the creation of the Imperial Academy of Fine Arts, new artistic movements spread across the country during the 19th century and later the event called Week of Modern Art broke definitely with academic tradition in 1922 and started a nationalist trend which was influenced by modernist arts. Among the best-known Brazilian painters are Ricardo do Pilar and Manuel da Costa Ataíde (baroque and rococo), Victor Meirelles, Pedro Américo and Almeida Junior (romanticism and realism), Anita Malfatti, Ismael Nery, Lasar Segall, Emiliano di Cavalcanti, Vicente do Rego Monteiro, and Tarsila do Amaral (expressionism, surrealism and cubism), Aldo Bonadei, José Pancetti and Cândido Portinari (modernism).\n",
      "\n",
      "\n",
      "=== Sports ===\n",
      "\n",
      "The most popular sport in Brazil is football. The Brazilian men's national team is ranked among the best in the world according to the FIFA World Rankings, and has won the World Cup tournament a record five times.Volleyball, basketball, futsal, auto racing, and martial arts also attract large audiences. The Brazil men's national volleyball team, for example, currently holds the titles of the World League, World Grand Champions Cup, World Championship and the World Cup. In auto racing, three Brazilian drivers have won the Formula One world championship eight times.Some sport variations have their origins in Brazil: beach football, futsal (indoor football) and footvolley emerged in Brazil as variations of football. In martial arts, Brazilians developed Capoeira, Vale tudo, and Brazilian jiu-jitsu.Brazil has hosted several high-profile international sporting events, like the 1950 FIFA World Cup and recently has hosted the 2014 FIFA World Cup and 2019 Copa América. The São Paulo circuit, Autódromo José Carlos Pace, hosts the annual Grand Prix of Brazil. São Paulo organized the IV Pan American Games in 1963, and Rio de Janeiro hosted the XV Pan American Games in 2007. On 2 October 2009, Rio de Janeiro was selected to host the 2016 Olympic Games and 2016 Paralympic Games, making it the first South American city to host the games and second in Latin America, after Mexico City. Furthermore, the country hosted the FIBA Basketball World Cups in 1954 and 1963. At the 1963 event, the Brazil national basketball team won one of its two world championship titles.\n",
      "\n",
      "Some of the most famous athletes in the history of Brazil are: César Cielo, Ricardo Prado, Gustavo Borges and Ana Marcela Cunha in swimming; Maria Esther Bueno, Gustavo Kuerten, Marcelo Melo and Bruno Soares in tennis; Ayrton Senna, Emerson Fittipaldi, Rubens Barrichello, Nelson Piquet and Felipe Massa in Formula 1; Oscar Schmidt and Hortência Marcari in basketball; Torben Grael and Robert Scheidt in sailing; Arthur Zanetti in artistic gymnastics; Éder Jofre and Acelino Freitas in boxing; Adhemar Ferreira da Silva, Joaquim Cruz, Maurren Maggi in athletics; Rodrigo Pessoa in equestrian; Aurélio Miguel, Sarah Menezes and Rogério Sampaio in judo; Isaquias Queiroz in canoeing; Bob Burnquist and Sandro Dias in skateboard;  Falcão in futsal; Gabriel Medina in surf; Sandra Pires, Jackie Silva, Emanuel Rego, Ricardo Santos, Bruno Oscar Schmidt, Alison Cerutti in beach volleyball; Anderson Silva, José Aldo,  Rodrigo Minotauro, Vitor Belfort, Lyoto Machida, Royce Gracie, Amanda Nunes in  MMA.\n",
      "Until the 2016 Olympic Games, Brazil had won 129 medals in the history of the Olympic Games, all in the summer editions. There are 30 gold, 36 silver and 63 bronze medals, making it the South American country with the best record in modern Olympic Games history and the 4th largest winner of the Americas behind only the United States, Canada and Cuba, respectively. It's also one of the few countries to have an athlete who received the Pierre de Coubertin medal: Vanderlei Cordeiro de Lima. The country has already won Olympic gold medals in 11 different sports: sailing, athletics, volleyball, judo, beach volleyball, soccer, swimming, shooting, gymnastics, boxing and equestrian.\n",
      "\n",
      "\n",
      "=== National holidays ===\n",
      "\n",
      "\n",
      "== See also ==\n",
      "\n",
      "Index of Brazil-related articles\n",
      "Outline of Brazil\n",
      "\n",
      "\n",
      "== Notes ==\n",
      "\n",
      "\n",
      "== References ==\n",
      "\n",
      "\n",
      "== Bibliography ==\n",
      "\n",
      "\n",
      "== Further reading ==\n",
      "\n",
      "\n",
      "== External links ==\n",
      "\n",
      "Government\n",
      "\n",
      "Brazilian Federal Government\n",
      "Official Tourist Guide of Brazil\n",
      "Brazilian Institute of Geography and Statistics\n",
      " Wikimedia Atlas of Brazil\n",
      " Geographic data related to Brazil at OpenStreetMap\n"
     ]
    }
   ],
   "source": [
    "import wikipedia\n",
    "wikipage = wikipedia.page('Brazil').content\n",
    "print(wikipage)"
   ]
  },
  {
   "cell_type": "code",
   "execution_count": 92,
   "metadata": {},
   "outputs": [
    {
     "name": "stderr",
     "output_type": "stream",
     "text": [
      "C:\\Users\\Lucas\\anaconda3\\lib\\site-packages\\ipykernel\\ipkernel.py:287: DeprecationWarning: `should_run_async` will not call `transform_cell` automatically in the future. Please pass the result to `transformed_cell` argument and any exception that happen during thetransform in `preprocessing_exc_tuple` in IPython 7.17 and above.\n",
      "  and should_run_async(code)\n"
     ]
    },
    {
     "data": {
      "text/html": [
       "\n",
       "  <style>\n",
       "    pre {\n",
       "        white-space: pre-wrap;\n",
       "    }\n",
       "  </style>\n",
       "  "
      ],
      "text/plain": [
       "<IPython.core.display.HTML object>"
      ]
     },
     "metadata": {},
     "output_type": "display_data"
    },
    {
     "name": "stderr",
     "output_type": "stream",
     "text": [
      "[nltk_data] Downloading package punkt to\n",
      "[nltk_data]     C:\\Users\\Lucas\\AppData\\Roaming\\nltk_data...\n",
      "[nltk_data]   Package punkt is already up-to-date!\n"
     ]
    },
    {
     "data": {
      "text/plain": [
       "True"
      ]
     },
     "execution_count": 92,
     "metadata": {},
     "output_type": "execute_result"
    }
   ],
   "source": [
    "import nltk\n",
    "from nltk.tokenize import sent_tokenize, PunktSentenceTokenizer\n",
    "nltk.download('punkt')"
   ]
  },
  {
   "cell_type": "code",
   "execution_count": 93,
   "metadata": {},
   "outputs": [
    {
     "name": "stderr",
     "output_type": "stream",
     "text": [
      "C:\\Users\\Lucas\\anaconda3\\lib\\site-packages\\ipykernel\\ipkernel.py:287: DeprecationWarning: `should_run_async` will not call `transform_cell` automatically in the future. Please pass the result to `transformed_cell` argument and any exception that happen during thetransform in `preprocessing_exc_tuple` in IPython 7.17 and above.\n",
      "  and should_run_async(code)\n"
     ]
    },
    {
     "data": {
      "text/html": [
       "\n",
       "  <style>\n",
       "    pre {\n",
       "        white-space: pre-wrap;\n",
       "    }\n",
       "  </style>\n",
       "  "
      ],
      "text/plain": [
       "<IPython.core.display.HTML object>"
      ]
     },
     "metadata": {},
     "output_type": "display_data"
    }
   ],
   "source": [
    "#wiki_sent = sent_tokenize(wikipage)\n",
    "sent_tokenizer = PunktSentenceTokenizer(wikipage)\n",
    "sentences = sent_tokenizer.tokenize(wikipage)\n",
    "\n",
    "wiki_sent = []\n",
    "for sentence in sentences:\n",
    "    wiki_sent.extend(sentence.split('\\n'))\n",
    "#print(wiki_sent)"
   ]
  },
  {
   "cell_type": "code",
   "execution_count": 94,
   "metadata": {},
   "outputs": [
    {
     "name": "stderr",
     "output_type": "stream",
     "text": [
      "C:\\Users\\Lucas\\anaconda3\\lib\\site-packages\\ipykernel\\ipkernel.py:287: DeprecationWarning: `should_run_async` will not call `transform_cell` automatically in the future. Please pass the result to `transformed_cell` argument and any exception that happen during thetransform in `preprocessing_exc_tuple` in IPython 7.17 and above.\n",
      "  and should_run_async(code)\n"
     ]
    },
    {
     "data": {
      "text/html": [
       "\n",
       "  <style>\n",
       "    pre {\n",
       "        white-space: pre-wrap;\n",
       "    }\n",
       "  </style>\n",
       "  "
      ],
      "text/plain": [
       "<IPython.core.display.HTML object>"
      ]
     },
     "metadata": {},
     "output_type": "display_data"
    }
   ],
   "source": [
    "from nltk.tokenize import word_tokenize"
   ]
  },
  {
   "cell_type": "code",
   "execution_count": 95,
   "metadata": {},
   "outputs": [
    {
     "name": "stderr",
     "output_type": "stream",
     "text": [
      "C:\\Users\\Lucas\\anaconda3\\lib\\site-packages\\ipykernel\\ipkernel.py:287: DeprecationWarning: `should_run_async` will not call `transform_cell` automatically in the future. Please pass the result to `transformed_cell` argument and any exception that happen during thetransform in `preprocessing_exc_tuple` in IPython 7.17 and above.\n",
      "  and should_run_async(code)\n"
     ]
    },
    {
     "data": {
      "text/html": [
       "\n",
       "  <style>\n",
       "    pre {\n",
       "        white-space: pre-wrap;\n",
       "    }\n",
       "  </style>\n",
       "  "
      ],
      "text/plain": [
       "<IPython.core.display.HTML object>"
      ]
     },
     "metadata": {},
     "output_type": "display_data"
    }
   ],
   "source": [
    "wiki_words = []\n",
    "for sent in wiki_sent:\n",
    "    wiki_words.extend(word_tokenize(sent))\n",
    "#print(wiki_words)"
   ]
  },
  {
   "cell_type": "code",
   "execution_count": 96,
   "metadata": {},
   "outputs": [
    {
     "name": "stderr",
     "output_type": "stream",
     "text": [
      "C:\\Users\\Lucas\\anaconda3\\lib\\site-packages\\ipykernel\\ipkernel.py:287: DeprecationWarning: `should_run_async` will not call `transform_cell` automatically in the future. Please pass the result to `transformed_cell` argument and any exception that happen during thetransform in `preprocessing_exc_tuple` in IPython 7.17 and above.\n",
      "  and should_run_async(code)\n"
     ]
    },
    {
     "data": {
      "text/html": [
       "\n",
       "  <style>\n",
       "    pre {\n",
       "        white-space: pre-wrap;\n",
       "    }\n",
       "  </style>\n",
       "  "
      ],
      "text/plain": [
       "<IPython.core.display.HTML object>"
      ]
     },
     "metadata": {},
     "output_type": "display_data"
    },
    {
     "name": "stderr",
     "output_type": "stream",
     "text": [
      "[nltk_data] Downloading package stopwords to\n",
      "[nltk_data]     C:\\Users\\Lucas\\AppData\\Roaming\\nltk_data...\n",
      "[nltk_data]   Package stopwords is already up-to-date!\n"
     ]
    }
   ],
   "source": [
    "from nltk.corpus import stopwords\n",
    "nltk.download('stopwords')\n",
    "stopwords = stopwords.words('english')"
   ]
  },
  {
   "cell_type": "code",
   "execution_count": 97,
   "metadata": {},
   "outputs": [
    {
     "name": "stderr",
     "output_type": "stream",
     "text": [
      "C:\\Users\\Lucas\\anaconda3\\lib\\site-packages\\ipykernel\\ipkernel.py:287: DeprecationWarning: `should_run_async` will not call `transform_cell` automatically in the future. Please pass the result to `transformed_cell` argument and any exception that happen during thetransform in `preprocessing_exc_tuple` in IPython 7.17 and above.\n",
      "  and should_run_async(code)\n"
     ]
    },
    {
     "data": {
      "text/html": [
       "\n",
       "  <style>\n",
       "    pre {\n",
       "        white-space: pre-wrap;\n",
       "    }\n",
       "  </style>\n",
       "  "
      ],
      "text/plain": [
       "<IPython.core.display.HTML object>"
      ]
     },
     "metadata": {},
     "output_type": "display_data"
    }
   ],
   "source": [
    "word_frequencies = {}\n",
    "for word in wiki_words:\n",
    "    if(word not in stopwords and word.isalpha()):\n",
    "        if(word not in word_frequencies.keys()):\n",
    "            word_frequencies[word] = 1\n",
    "        else:\n",
    "            word_frequencies[word] += 1\n",
    "#print(word_frequencies)"
   ]
  },
  {
   "cell_type": "code",
   "execution_count": 98,
   "metadata": {},
   "outputs": [
    {
     "name": "stderr",
     "output_type": "stream",
     "text": [
      "C:\\Users\\Lucas\\anaconda3\\lib\\site-packages\\ipykernel\\ipkernel.py:287: DeprecationWarning: `should_run_async` will not call `transform_cell` automatically in the future. Please pass the result to `transformed_cell` argument and any exception that happen during thetransform in `preprocessing_exc_tuple` in IPython 7.17 and above.\n",
      "  and should_run_async(code)\n"
     ]
    },
    {
     "data": {
      "text/html": [
       "\n",
       "  <style>\n",
       "    pre {\n",
       "        white-space: pre-wrap;\n",
       "    }\n",
       "  </style>\n",
       "  "
      ],
      "text/plain": [
       "<IPython.core.display.HTML object>"
      ]
     },
     "metadata": {},
     "output_type": "display_data"
    }
   ],
   "source": [
    "maximum_frequency = max(word_frequencies.values())"
   ]
  },
  {
   "cell_type": "code",
   "execution_count": 99,
   "metadata": {},
   "outputs": [
    {
     "name": "stderr",
     "output_type": "stream",
     "text": [
      "C:\\Users\\Lucas\\anaconda3\\lib\\site-packages\\ipykernel\\ipkernel.py:287: DeprecationWarning: `should_run_async` will not call `transform_cell` automatically in the future. Please pass the result to `transformed_cell` argument and any exception that happen during thetransform in `preprocessing_exc_tuple` in IPython 7.17 and above.\n",
      "  and should_run_async(code)\n"
     ]
    },
    {
     "data": {
      "text/html": [
       "\n",
       "  <style>\n",
       "    pre {\n",
       "        white-space: pre-wrap;\n",
       "    }\n",
       "  </style>\n",
       "  "
      ],
      "text/plain": [
       "<IPython.core.display.HTML object>"
      ]
     },
     "metadata": {},
     "output_type": "display_data"
    },
    {
     "data": {
      "text/plain": [
       "193"
      ]
     },
     "execution_count": 99,
     "metadata": {},
     "output_type": "execute_result"
    }
   ],
   "source": [
    "maximum_frequency"
   ]
  },
  {
   "cell_type": "code",
   "execution_count": 100,
   "metadata": {},
   "outputs": [
    {
     "name": "stderr",
     "output_type": "stream",
     "text": [
      "C:\\Users\\Lucas\\anaconda3\\lib\\site-packages\\ipykernel\\ipkernel.py:287: DeprecationWarning: `should_run_async` will not call `transform_cell` automatically in the future. Please pass the result to `transformed_cell` argument and any exception that happen during thetransform in `preprocessing_exc_tuple` in IPython 7.17 and above.\n",
      "  and should_run_async(code)\n"
     ]
    },
    {
     "data": {
      "text/html": [
       "\n",
       "  <style>\n",
       "    pre {\n",
       "        white-space: pre-wrap;\n",
       "    }\n",
       "  </style>\n",
       "  "
      ],
      "text/plain": [
       "<IPython.core.display.HTML object>"
      ]
     },
     "metadata": {},
     "output_type": "display_data"
    }
   ],
   "source": [
    "for word in word_frequencies.keys():\n",
    "    word_frequencies[word] /= maximum_frequency\n",
    "#print(word_frequencies)"
   ]
  },
  {
   "cell_type": "code",
   "execution_count": 104,
   "metadata": {
    "collapsed": true,
    "jupyter": {
     "outputs_hidden": true
    }
   },
   "outputs": [
    {
     "name": "stderr",
     "output_type": "stream",
     "text": [
      "C:\\Users\\Lucas\\anaconda3\\lib\\site-packages\\ipykernel\\ipkernel.py:287: DeprecationWarning: `should_run_async` will not call `transform_cell` automatically in the future. Please pass the result to `transformed_cell` argument and any exception that happen during thetransform in `preprocessing_exc_tuple` in IPython 7.17 and above.\n",
      "  and should_run_async(code)\n"
     ]
    },
    {
     "data": {
      "text/html": [
       "\n",
       "  <style>\n",
       "    pre {\n",
       "        white-space: pre-wrap;\n",
       "    }\n",
       "  </style>\n",
       "  "
      ],
      "text/plain": [
       "<IPython.core.display.HTML object>"
      ]
     },
     "metadata": {},
     "output_type": "display_data"
    },
    {
     "name": "stdout",
     "output_type": "stream",
     "text": [
      "Brazil (Portuguese: Brasil; Brazilian Portuguese: [bɾaˈziw]), officially the Federative Republic of Brazil (Portuguese: República Federativa do Brasil), is the largest country in both South America and Latin America. ------> 4.709844559585494\n",
      "At 8.5 million square kilometers (3.2 million square miles) and with over 211 million people, Brazil is the world's fifth-largest country by area and the sixth most populous. ------> 2.6217616580310876\n",
      "Its capital is Brasília, and its most populous city is São Paulo. ------> 0.34196891191709844\n",
      "The federation is composed of the union of the 26 states and the Federal District. ------> 0.9015544041450778\n",
      "It is the largest country to have Portuguese as an official language and the only one in the Americas; it is also one of the most multicultural and ethnically diverse nations, due to over a century of mass immigration from around the world; as well as the most populous Roman Catholic-majority country. ------> 3.0259067357512954\n",
      "Bounded by the Atlantic Ocean on the east, Brazil has a coastline of 7,491 kilometers (4,655 mi). ------> 1.1606217616580312\n",
      "It borders all other countries in South America except Ecuador and Chile and covers 47.3% of the continent's land area. ------> 0.5854922279792745\n",
      "Its Amazon basin includes a vast tropical forest, home to diverse wildlife, a variety of ecological systems, and extensive natural resources spanning numerous protected habitats. ------> 0.5025906735751295\n",
      "This unique environmental heritage makes Brazil one of 17 megadiverse countries, and is the subject of significant global interest, environmental degradation through processes like deforestation has direct impacts on global issues like climate change and biodiversity loss. ------> 2.005181347150259\n",
      "Brazil was inhabited by numerous tribal nations prior to the landing in 1500 of explorer Pedro Álvares Cabral, who claimed the area for the Portuguese Empire. ------> 1.5803108808290158\n",
      "Brazil remained a Portuguese colony until 1808 when the capital of the empire was transferred from Lisbon to Rio de Janeiro. ------> 1.9430051813471503\n",
      "In 1815, the colony was elevated to the rank of kingdom upon the formation of the United Kingdom of Portugal, Brazil and the Algarves. ------> 1.5233160621761659\n",
      "Independence was achieved in 1822 with the creation of the Empire of Brazil, a unitary state governed under a constitutional monarchy and a parliamentary system. ------> 1.3626943005181347\n",
      "The ratification of the first constitution in 1824 led to the formation of a bicameral legislature, now called the National Congress. ------> 1.0829015544041454\n",
      "The country became a presidential republic in 1889 following a military coup d'état. ------> 1.284974093264249\n",
      "An authoritarian military junta came to power in 1964 and ruled until 1985, after which civilian governance resumed. ------> 0.28497409326424866\n",
      "Brazil's current constitution, formulated in 1988, defines it as a democratic federal republic. ------> 1.1606217616580314\n",
      "Due to its rich culture and history, the country ranks thirteenth in the world by number of UNESCO World Heritage Sites.Brazil is classified as an upper-middle income economy by the World Bank and a newly industrialized country, with the largest share of global wealth in Latin America. ------> 2.33160621761658\n",
      "It is considered an advanced emerging economy, having the twelfth largest GDP in the world by nominal, and eighth by PPP measures. ------> 0.911917098445596\n",
      "It is one of the world's major breadbaskets, being the largest producer of coffee for the last 150 years. ------> 1.1606217616580312\n",
      "Brazil is a regional power and sometimes considered a great or a middle power in international affairs. ------> 1.4922279792746116\n",
      "On account of its international recognition and influence, the country is subsequently classified as an emerging power and a potential superpower by several analysts. ------> 0.8497409326424871\n",
      "Brazil is a founding member of the United Nations, the G20, BRICS, Mercosul, Organization of American States, Organization of Ibero-American States and the Community of Portuguese Language Countries. ------> 1.6994818652849744\n",
      "== Etymology == ------> 0.0051813471502590676\n",
      "The word \"Brazil\" likely comes from the Portuguese word for brazilwood, a tree that once grew plentifully along the Brazilian coast. ------> 2.6165803108808294\n",
      "In Portuguese, brazilwood is called pau-brasil, with the word brasil commonly given the etymology \"red like an ember\", formed from brasa (\"ember\") and the suffix -il (from -iculum or -ilium). ------> 0.901554404145078\n",
      "As brazilwood produces a deep red dye, it was highly valued by the European textile industry and was the earliest commercially exploited product from Brazil. ------> 1.3264248704663213\n",
      "Throughout the 16th century, massive amounts of brazilwood were harvested by indigenous peoples (mostly Tupi) along the Brazilian coast, who sold the timber to European traders (mostly Portuguese, but also French) in return for assorted European consumer goods.The official Portuguese name of the land, in original Portuguese records, was the \"Land of the Holy Cross\" (Terra da Santa Cruz), but European sailors and merchants commonly called it simply the \"Land of Brazil\" (Terra do Brasil) because of the brazilwood trade. ------> 4.051813471502592\n",
      "The popular appellation eclipsed and eventually supplanted the official Portuguese name. ------> 1.0984455958549226\n",
      "Some early sailors called it the \"Land of Parrots\".In the Guarani language, an official language of Paraguay, Brazil is called \"Pindorama\". ------> 1.538860103626943\n",
      "This was the name the indigenous population gave to the region, meaning \"land of the palm trees\". ------> 0.4352331606217617\n",
      "== History == ------> 0.0051813471502590676\n",
      "=== Pre-Cabraline era === ------> 0.02072538860103627\n",
      "Some of the earliest human remains found in the Americas, Luzia Woman, were found in the area of Pedro Leopoldo, Minas Gerais and provide evidence of human habitation going back at least 11,000 years.The earliest pottery ever found in the Western Hemisphere was excavated in the Amazon basin of Brazil and radiocarbon dated to 8,000 years ago (6000 BC). ------> 1.740932642487047\n",
      "The pottery was found near Santarém and provides evidence that the tropical forest region supported a complex prehistoric culture. ------> 0.9481865284974095\n",
      "The Marajoara culture flourished on Marajó in the Amazon delta from 400 CE to 1400 CE, developing sophisticated pottery, social stratification, large populations, mound building, and complex social formations such as chiefdoms.Around the time of the Portuguese arrival, the territory of current day Brazil had an estimated indigenous population of 7 million people, mostly semi-nomadic, who subsisted on hunting, fishing, gathering, and migrant agriculture. ------> 3.186528497409328\n",
      "The indigenous population of Brazil comprised several large indigenous ethnic groups (e.g. the Tupis, Guaranis, Gês and Arawaks). ------> 2.1139896373057\n",
      "The Tupí people were subdivided into the Tupiniquins and Tupinambás, and there were also many subdivisions of the other groups.Before the arrival of the Europeans, the boundaries between these groups and their subgroups were marked by wars that arose from differences in culture, language and moral beliefs. ------> 1.3160621761658036\n",
      "These wars also involved large-scale military actions on land and water, with cannibalistic rituals on prisoners of war. ------> 0.48704663212435234\n",
      "While heredity had some weight, leadership status was more subdued over time, than allocated in succession ceremonies and conventions. ------> 0.14507772020725387\n",
      "Slavery among the Indians had a different meaning than it had for Europeans, since it originated from a diverse socioeconomic organization, in which asymmetries were translated into kinship relations. ------> 0.34196891191709855\n",
      "=== Portuguese colonization === ------> 0.3367875647668394\n",
      "The land now called Brazil was claimed for the Portuguese Empire on 22 April 1500, with the arrival of the Portuguese fleet commanded by Pedro Álvares Cabral. ------> 2.569948186528498\n",
      "The Portuguese encountered indigenous peoples divided into several tribes, most of whom spoke languages of the Tupi–Guarani family, and fought among themselves. ------> 1.2746113989637309\n",
      "Though the first settlement was founded in 1532, colonization effectively began in 1534, when King John III of Portugal divided the territory into the fifteen private and autonomous Captaincy Colonies of Brazil.However, the decentralized and unorganized tendencies of the captaincy colonies proved problematic, and in 1549 the Portuguese king restructured them into the Governorate General of Brazil in the city of Salvador, which became the capital of a single and centralized Portuguese colony in South America. ------> 2.601036269430052\n",
      "In the first two centuries of colonization, Indigenous and European groups lived in constant war, establishing opportunistic alliances in order to gain advantages against each other. ------> 0.7357512953367877\n",
      "By the mid-16th century, cane sugar had become Brazil's most important export, and slaves purchased in Sub-Saharan Africa, in the slave market of Western Africa (not only those from Portuguese allies of their colonies in Angola and Mozambique), had become its largest import, to cope with plantations of sugarcane, due to increasing international demand for Brazilian sugar. ------> 2.7305699481865293\n",
      "Portuguese Brazil received more than 2.8 million slaves from Africa between the years of 1500 to 1800. ------> 1.6787564766839378\n",
      "By the end of the 17th century, sugarcane exports began to decline, and the discovery of gold by bandeirantes in the 1690s would become the new backbone of the colony's economy, fostering a Brazilian Gold Rush which attracted thousands of new settlers to Brazil from Portugal and all Portuguese colonies around the world. ------> 2.9067357512953373\n",
      "This increased level of immigration in turn caused some conflicts between newcomers and old settlers.Portuguese expeditions known as Bandeiras gradually advanced the Portugal colonial original frontiers in South America to approximately the current Brazilian borders. ------> 1.1813471502590673\n",
      "In this era other European powers tried to colonize parts of Brazil, in incursions that the Portuguese had to fight, notably the French in Rio during the 1560s, in Maranhão during the 1610s, and the Dutch in Bahia and Pernambuco, during the Dutch–Portuguese War, after the end of Iberian Union.The Portuguese colonial administration in Brazil had two objectives that would ensure colonial order and the monopoly of Portugal's wealthiest and largest colony: to keep under control and eradicate all forms of slave rebellion and resistance, such as the Quilombo of Palmares, and to repress all movements for autonomy or independence, such as the Minas Conspiracy. ------> 4.2797927461139915\n",
      "=== United Kingdom with Portugal === ------> 0.16580310880829013\n",
      "In late 1807, Spanish and Napoleonic forces threatened the security of continental Portugal, causing Prince Regent João, in the name of Queen Maria I, to move the royal court from Lisbon to Rio de Janeiro. ------> 1.233160621761658\n",
      "There they established some of Brazil's first financial institutions, such as its local stock exchanges, and its National Bank, additionally ending the Portuguese monopoly on Brazilian trade and opening Brazil to other nations. ------> 3.3367875647668397\n",
      "In 1809, in retaliation for being forced into exile, the Prince Regent ordered the Portuguese conquest of French Guiana.With the end of the Peninsular War in 1814, the courts of Europe demanded that Queen Maria I and Prince Regent João return to Portugal, deeming it unfit for the head of an ancient European monarchy to reside in a colony. ------> 1.3419689119170986\n",
      "In 1815, to justify continuing to live in Brazil, where the royal court had thrived for six years, the Crown established the United Kingdom of Portugal, Brazil, and the Algarves, thus creating a pluricontinental transatlantic monarchic state. ------> 2.8031088082901556\n",
      "However, the leadership in Portugal, resentful of the new status of its larger colony, continued to demand the return of the court to Lisbon (v. Liberal Revolution of 1820). ------> 0.42487046632124353\n",
      "In 1821, acceding to the demands of revolutionaries who had taken the city of Porto, D. João VI departed for Lisbon. ------> 0.4455958549222799\n",
      "There he swore an oath to the new constitution, leaving his son, Prince Pedro de Alcântara, as Regent of the Kingdom of Brazil. ------> 1.5336787564766838\n",
      "=== Independent empire === ------> 0.015544041450777202\n",
      "Tensions between Portuguese and Brazilians increased, and the Portuguese Cortes, guided by the new political regime imposed by the 1820 Liberal Revolution, tried to re-establish Brazil as a colony. ------> 2.0362694300518136\n",
      "The Brazilians refused to yield, and Prince Pedro decided to stand with them, declaring the country's independence from Portugal on 7 September 1822. ------> 1.3937823834196896\n",
      "A month later, Prince Pedro was declared the first Emperor of Brazil, with the royal title of Dom Pedro I, resulting in the foundation of the Empire of Brazil.The Brazilian War of Independence, which had already begun along this process, spread through the northern, northeastern regions and in Cisplatina province. ------> 2.238341968911918\n",
      "The last Portuguese soldiers surrendered on 8 March 1824; Portugal officially recognized Brazil on 29 August 1825.On 7 April 1831, worn down by years of administrative turmoil and political dissent with both liberal and conservative sides of politics, including an attempt of republican secession, and unreconciled to the way that absolutists in Portugal had given in the succession of King John VI, Pedro I went to Portugal to reclaim his daughter's crown, abdicating the Brazilian throne in favor of his five-year-old son and heir (who thus became the Empire's second monarch, with the royal title of Dom Pedro II). ------> 3.8186528497409333\n",
      "As the new Emperor could not exert his constitutional powers until he came of age, a regency was set up by the National Assembly. ------> 0.29533678756476683\n",
      "In the absence of a charismatic figure who could represent a moderate face of power, during this period a series of localized rebellions took place, such as the Cabanagem in Grão-Pará Province, the Malê Revolt in Salvador da Bahia, the Balaiada (Maranhão), the Sabinada (Bahia), and the Ragamuffin War, which began in Rio Grande do Sul and was supported by Giuseppe Garibaldi. ------> 1.1191709844559592\n",
      "These emerged from the dissatisfaction of the provinces with the central power, coupled with old and latent social tensions peculiar to a vast, slaveholding and newly independent nation state. ------> 0.45077720207253885\n",
      "This period of internal political and social upheaval, which included the Praieira revolt in Pernambuco, was overcome only at the end of the 1840s, years after the end of the regency, which occurred with the premature coronation of Pedro II in 1841.During the last phase of the monarchy, internal political debate centered on the issue of slavery. ------> 0.901554404145078\n",
      "The Atlantic slave trade was abandoned in 1850, as a result of the British Aberdeen Act, but only in May 1888 after a long process of internal mobilization and debate for an ethical and legal dismantling of slavery in the country, was the institution formally abolished.The foreign-affairs policies of the monarchy dealt with issues with the countries of the Southern Cone with whom Brazil had borders. ------> 2.6891191709844566\n",
      "Long after the Cisplatine War that resulted in independence for Uruguay, Brazil won three international wars during the 58-year reign of Pedro II. ------> 1.3937823834196892\n",
      "These were the Platine War, the Uruguayan War and the devastating Paraguayan War, the largest war effort in Brazilian history.Although there was no desire among the majority of Brazilians to change the country's form of government, on 15 November 1889, in disagreement with the majority of Army officers, as well as with rural and financial elites (for different reasons), the monarchy was overthrown by a military coup. ------> 2.2642487046632125\n",
      "15 November is now Republic Day, a national holiday. ------> 0.12435233160621763\n",
      "=== Early republic === ------> 0.02590673575129534\n",
      "The early republican government was nothing more than a military dictatorship, with army dominating affairs both in Rio de Janeiro and in the states. ------> 1.528497409326425\n",
      "Freedom of the press disappeared and elections were controlled by those in power. ------> 0.16062176165803108\n",
      "Not until 1894, following an economic crisis and a military one, did civilians take power, remaining there until October 1930.If in relation to its foreign policy, the country in this first republican period maintained a relative balance characterized by a success in resolving border disputes with neighboring countries, only broken by the Acre War (1899–1902) and its involvement in World War I (1914–1918), followed by a failed attempt to exert a prominent role in the League of Nations; Internally, from the crisis of Encilhamento and the Armada Revolts, a prolonged cycle of financial, political and social instability began until the 1920s, keeping the country besieged by various rebellions, both civilian and military. ------> 2.860103626943007\n",
      "Little by little, a cycle of general instability sparked by these crises undermined the regime to such an extent that in the wake of the murder of his running mate, the defeated opposition presidential candidate Getúlio Vargas, supported by most of the military, successfully led the October 1930 Coup. ------> 0.4922279792746114\n",
      "Vargas and the military were supposed to assume power temporarily, but instead closed the Congress, extinguished the Constitution, ruled with emergency powers and replaced the states' governors with their own supporters.In the 1930s, three failed attempts to remove Vargas and his supporters from power occurred. ------> 0.8290155440414508\n",
      "The first was the Constitutionalist Revolution in 1932, led by the Paulista oligarchy. ------> 0.8445595854922282\n",
      "The second was a Communist uprising in November 1935, and the last one a putsch attempt by local fascists in May 1938. ------> 1.0207253886010366\n",
      "The 1935 uprising created a security crisis in which the Congress transferred more power to the executive. ------> 0.9326424870466323\n",
      "The 1937 coup d'état resulted in the cancellation of the 1938 election, formalized Vargas as dictator, beginning the Estado Novo era, which was noted for government brutality and censorship of the press.Foreign policy during the Vargas years was marked by the antecedents and World War II. ------> 1.4093264248704664\n",
      "Brazil remained neutral until August 1942, when the country entered on the allied side, after suffering retaliation by Nazi Germany and Fascist Italy, in a strategic dispute over the South Atlantic. ------> 1.6891191709844564\n",
      "In addition to its participation in the battle of the Atlantic, Brazil also sent an expeditionary force to fight in the Italian campaign.With the Allied victory in 1945 and the end of the Nazi-fascist regimes in Europe, Vargas's position became unsustainable and he was swiftly overthrown in another military coup, with democracy \"reinstated\" by the same army that had ended it 15 years earlier. ------> 2.145077720207254\n",
      "Vargas committed suicide in August 1954 amid a political crisis, after having returned to power by election in 1950. ------> 0.4145077720207253\n",
      "=== Contemporary era === ------> 0.02590673575129534\n",
      "Several brief interim governments followed Vargas's suicide. ------> 0.13471502590673573\n",
      "Juscelino Kubitschek became president in 1956 and assumed a conciliatory posture towards the political opposition that allowed him to govern without major crises. ------> 0.3886010362694301\n",
      "The economy and industrial sector grew remarkably, but his greatest achievement was the construction of the new capital city of Brasília, inaugurated in 1960. ------> 1.0310880829015545\n",
      "Kubitschek's successor, Jânio Quadros, resigned in 1961 less than a year after taking office. ------> 0.150259067357513\n",
      "His vice-president, João Goulart, assumed the presidency, but aroused strong political opposition and was deposed in April 1964 by a coup that resulted in a military regime.The new regime was intended to be transitory but gradually closed in on itself and became a full dictatorship with the promulgation of the Fifth Institutional Act in 1968. ------> 0.6373056994818656\n",
      "Oppression was not limited to those who resorted to guerrilla tactics to fight the regime, but also reached institutional opponents, artists, journalists and other members of civil society, inside and outside the country through the infamous \"Operation Condor\". ------> 0.9430051813471505\n",
      "Despite its brutality, like other authoritarian regimes, due to an economic boom, known as an \"economic miracle\", the regime reached a peak in popularity in the early 1970s.Slowly, however, the wear and tear of years of dictatorial power that had not slowed the repression, even after the defeat of the leftist guerrillas, plus the inability to deal with the economic crises of the period and popular pressure, made an opening policy inevitable, which from the regime side was led by Generals Ernesto Geisel and Golbery do Couto e Silva. ------> 1.2383419689119173\n",
      "With the enactment of the Amnesty Law in 1979, Brazil began a slow return to democracy, which was completed during the 1980s.Civilians returned to power in 1985 when José Sarney assumed the presidency. ------> 1.3886010362694303\n",
      "He became unpopular during his tenure through failure to control the economic crisis and hyperinflation he inherited from the military regime. ------> 0.32124352331606215\n",
      "Sarney's unsuccessful government led to the election in 1989 of the almost-unknown Fernando Collor, subsequently impeached by the National Congress in 1992.Collor was succeeded by his vice-president, Itamar Franco, who appointed Fernando Henrique Cardoso Minister of Finance. ------> 0.4870466321243524\n",
      "In 1994, Cardoso produced a highly successful Plano Real, that, after decades of failed economic plans made by previous governments attempting to curb hyperinflation, finally stabilized the Brazilian economy. ------> 1.1139896373056997\n",
      "Cardoso won the 1994 election, and again in 1998. ------> 0.046632124352331605\n",
      "The peaceful transition of power from Cardoso to his main opposition leader, Luiz Inácio Lula da Silva (elected in 2002 and re-elected in 2006), was seen as proof that Brazil had achieved a long-sought political stability. ------> 2.1658031088082903\n",
      "However, sparked by indignation and frustrations accumulated over decades from corruption, police brutality, inefficiencies of the political establishment and public service, numerous peaceful protests erupted in Brazil from the middle of first term of Dilma Rousseff, who had succeeded Lula after winning election in 2010.Rousseff was impeached by the Brazilian Congress in 2016. ------> 2.2227979274611407\n",
      "Large street protests for and against her took place during the impeachment process. ------> 0.10880829015544041\n",
      "The charges against her were fueled by political and economic crises along with evidence of involvement with politicians (from all the primary political parties) in several bribery and tax evasion schemes. ------> 1.1917098445595855\n",
      "In 2017, the Supreme Court requested the investigation of 71 Brazilian lawmakers and nine ministers of President Michel Temer's cabinet who were allegedly linked to the Petrobras corruption scandal. ------> 0.9948186528497412\n",
      "President Temer himself was also accused of corruption. ------> 0.33678756476683935\n",
      "According to a 2018 poll, 62% of the population said that corruption was Brazil's biggest problem.Starting in 2013, there is a total change in Brazilian politics, with the overthrow of the left and the rise of conservatism in right. ------> 1.9015544041450778\n",
      "With the discovery that the PT governments have practically gone bankrupt in Petrobras, Correios and many other state companies, through a great diversion of public funds and the use of their funds to bribe the National Congress, the Brazilian Senate and Judiciary, in addition to the indiscriminate use of BNDES to finance socialist dictatorships in Cuba, Venezuela, Latin America, Africa and the Middle East (with Lula and Dilma openly supporting controversial figures such as Hugo Chávez, Nicolás Maduro, Mahmoud Ahmadinejad, Evo Morales, Vladimir Putin, Kim Jong-un and the Chinese Communist Party, among others), also counting on the attempts of Dilma Roussef to install \"Popular Councils\" to replace the power of the federal deputies, Jair Bolsonaro, former captain of the army and candidate of the right, is elected. ------> 2.2953367875647688\n",
      "Through the Operation Car Wash, the Federal Police of Brazil has since acted on the deviations and corruption of the PT and allied parties at that time. ------> 1.450777202072539\n",
      "In the 2018 elections, candidate Jair Bolsonaro of the Social Liberal Party (PSL) was elected president, who won in the second round Fernando Haddad, of the Workers Party (PT), with the support of 55.13% of the valid votes. ------> 0.6580310880829014\n",
      "== Geography == ------> 0.015544041450777202\n",
      "Brazil occupies a large area along the eastern coast of South America and includes much of the continent's interior, sharing land borders with Uruguay to the south; Argentina and Paraguay to the southwest; Bolivia and Peru to the west; Colombia to the northwest; and Venezuela, Guyana, Suriname and France (French overseas region of French Guiana) to the north. ------> 1.9067357512953373\n",
      "It shares a border with every South American country except Ecuador and Chile.It also encompasses a number of oceanic archipelagos, such as Fernando de Noronha, Rocas Atoll, Saint Peter and Paul Rocks, and Trindade and Martim Vaz. ------> 1.3834196891191712\n",
      "Its size, relief, climate, and natural resources make Brazil geographically diverse. ------> 1.233160621761658\n",
      "Including its Atlantic islands, Brazil lies between latitudes 6°N and 34°S, and longitudes 28° and 74°W.Brazil is the fifth largest country in the world, and third largest in the Americas, with a total area of 8,515,767.049 km2 (3,287,956 sq mi), including 55,455 km2 (21,411 sq mi) of water. ------> 2.8860103626943006\n",
      "It spans four time zones; from UTC−5 comprising the state of Acre and the westernmost portion of Amazonas, to UTC−4 in the western states, to UTC−3 in the eastern states (the national time) and UTC−2 in the Atlantic islands. ------> 0.7098445595854923\n",
      "Brazil is the longest country in the world, spanning 4,395 km (2,731 mi) from north to south. ------> 1.9689119170984457\n",
      "Brazil is also the only country in the world that has the equator and the Tropic of Capricorn running through it. ------> 2.010362694300518\n",
      "Brazilian topography is also diverse and includes hills, mountains, plains, highlands, and scrublands. ------> 0.8341968911917099\n",
      "Much of the terrain lies between 200 metres (660 ft) and 800 metres (2,600 ft) in elevation. ------> 0.12953367875647667\n",
      "The main upland area occupies most of the southern half of the country. ------> 1.2279792746113989\n",
      "The northwestern parts of the plateau consist of broad, rolling terrain broken by low, rounded hills.The southeastern section is more rugged, with a complex mass of ridges and mountain ranges reaching elevations of up to 1,200 metres (3,900 ft). ------> 0.8704663212435236\n",
      "These ranges include the Mantiqueira and Espinhaço mountains and the Serra do Mar.In the north, the Guiana Highlands form a major drainage divide, separating rivers that flow south into the Amazon Basin from rivers that empty into the Orinoco River system, in Venezuela, to the north. ------> 0.6269430051813473\n",
      "The highest point in Brazil is the Pico da Neblina at 2,994 metres (9,823 ft), and the lowest is the Atlantic Ocean.Brazil has a dense and complex system of rivers, one of the world's most extensive, with eight major drainage basins, all of which drain into the Atlantic. ------> 2.6476683937823844\n",
      "Major rivers include the Amazon (the world's second-longest river and the largest in terms of volume of water), the Paraná and its major tributary the Iguaçu (which includes the Iguazu Falls), the Negro, São Francisco, Xingu, Madeira and Tapajós rivers. ------> 1.124352331606218\n",
      "=== Climate === ------> 0.0051813471502590676\n",
      "The climate of Brazil comprises a wide range of weather conditions across a large area and varied topography, but most of the country is tropical. ------> 2.3886010362694305\n",
      "According to the Köppen system, Brazil hosts six major climatic subtypes: desert, equatorial, tropical, semiarid, oceanic and subtropical. ------> 1.3523316062176172\n",
      "The different climatic conditions produce environments ranging from equatorial rainforests in the north and semiarid deserts in the northeast, to temperate coniferous forests in the south and tropical savannas in central Brazil. ------> 1.9585492227979275\n",
      "Many regions have starkly different microclimates.An equatorial climate characterizes much of northern Brazil. ------> 1.2538860103626943\n",
      "There is no real dry season, but there are some variations in the period of the year when most rain falls. ------> 0.22797927461139894\n",
      "Temperatures average 25 °C (77 °F), with more significant temperature variation between night and day than between seasons.Over central Brazil rainfall is more seasonal, characteristic of a savanna climate. ------> 1.2590673575129534\n",
      "This region is as extensive as the Amazon basin but has a very different climate as it lies farther south at a higher altitude. ------> 0.41968911917098445\n",
      "In the interior northeast, seasonal rainfall is even more extreme.The semiarid climatic region generally receives less than 800 millimetres (31.5 in) of rain, most of which generally falls in a period of three to five months of the year and occasionally less than this, creating long periods of drought. ------> 0.8186528497409327\n",
      "Brazil's 1877–78 Grande Seca (Great Drought), the worst in Brazil's history, caused approximately half a million deaths. ------> 2.3989637305699487\n",
      "A similarly devastating drought occurred in 1915.South of Bahia, near the coasts, and more southerly most of the state of São Paulo, the distribution of rainfall changes, with rain falling throughout the year. ------> 0.5647668393782384\n",
      "The south enjoys subtropical conditions, with cool winters and average annual temperatures not exceeding 18 °C (64.4 °F); winter frosts and snowfall are not rare in the highest areas. ------> 0.9222797927461142\n",
      "=== Biodiversity and environment === ------> 0.02072538860103627\n",
      "Brazil's large territory comprises different ecosystems, such as the Amazon rainforest, recognized as having the greatest biological diversity in the world, with the Atlantic Forest and the Cerrado, sustaining the greatest biodiversity. ------> 1.7564766839378243\n",
      "In the south, the Araucaria pine forest grows under temperate conditions. ------> 0.40932642487046633\n",
      "The rich wildlife of Brazil reflects the variety of natural habitats. ------> 1.7616580310880832\n",
      "Scientists estimate that the total number of plant and animal species in Brazil could approach four million, mostly invertebrates.Larger mammals include carnivores pumas, jaguars, ocelots, rare bush dogs, and foxes, and herbivores peccaries, tapirs, anteaters, sloths, opossums, and armadillos. ------> 1.678756476683938\n",
      "Deer are plentiful in the south, and many species of New World monkeys are found in the northern rain forests. ------> 0.32642487046632124\n",
      "Concern for the environment has grown in response to global interest in environmental issues. ------> 0.13989637305699482\n",
      "Brazil's Amazon Basin is home to an extremely diverse array of fish species, including the red-bellied piranha. ------> 1.2331606217616582\n",
      "By 2013, Brazil's \"dramatic policy-driven reduction in Amazon Basin deforestation\" was a \"global exception in terms of forest change\", according to scientific journal Science. ------> 1.3782383419689122\n",
      "From 2003 to 2011, compared to all other countries in the world, Brazil had the \"largest decline in annual forest loss\", as indicated in the study using high-resolution satellite maps showing global forest cover changes. ------> 2.0362694300518136\n",
      "The annual loss of forest cover decreased from a 2003/2004 record high of more than 40,000 square kilometres (4,000×10^3 ha; 9.9×10^6 acres; 15,000 sq mi) to a 2010/2011 low of under 20,000 square kilometres (2,000×10^3 ha; 4.9×10^6 acres; 7,700 sq mi), reversing widespread deforestation from the 1970s to 2003. ------> 1.2383419689119177\n",
      "However, in 2019, when the Bolsonaro government came to power, the rate of deforestation of the Amazon rainforest increased sharply threatening to reach a tipping point after it the forest will collapse, having severe consequences for the world (see Tipping points in the climate system) and possibly complicating the trade agreement with the European Union.According to a 2008 GreenPeace article, the natural heritage of Brazil is severely threatened by cattle ranching and agriculture, logging, mining, resettlement, oil and gas extraction, over-fishing, wildlife trade, dams and infrastructure, water pollution, climate change, fire, and invasive species. ------> 2.8601036269430065\n",
      "In many areas of the country, the natural environment is threatened by development. ------> 0.9119170984455959\n",
      "The construction of highways has opened up previously remote areas for agriculture and settlement; dams have flooded valleys and inundated wildlife habitats; and mines have scarred and polluted the landscape. ------> 0.8860103626943006\n",
      "At least 70 dams are said to be planned for the Amazon region, including the controversial Belo Monte hydroelectric dam. ------> 0.3160621761658031\n",
      "In summer 2019, 2 states in Brazil Paraná and Santa Catarina banned fracking, what it is expected to have positive effects on the climate and water quality, because the shale gas and shale oil reserves in the state of Parana are the larger in the southern hemisphere.In 2020 the government of Brazil pledged to reduce its annual greenhouse gases emissions by 43% by 2030. ------> 3.000000000000001\n",
      "It also set as indicative target of reaching carbon neutrality by the year 2060 if the country gets 10 billion dollars per year. ------> 1.145077720207254\n",
      "== Government and politics == ------> 0.031088082901554404\n",
      "The form of government is a democratic federative republic, with a presidential system. ------> 0.9689119170984455\n",
      "The president is both head of state and head of government of the Union and is elected for a four-year term, with the possibility of re-election for a second successive term. ------> 1.1036269430051815\n",
      "The current president is Jair Bolsonaro. ------> 0.7253886010362695\n",
      "The previous president, Michel Temer, replaced Dilma Rousseff after her impeachment. ------> 0.761658031088083\n",
      "The President appoints the Ministers of State, who assist in government. ------> 0.839378238341969\n",
      "Legislative houses in each political entity are the main source of law in Brazil. ------> 1.2797927461139897\n",
      "The National Congress is the Federation's bicameral legislature, consisting of the Chamber of Deputies and the Federal Senate. ------> 0.9585492227979274\n",
      "Judiciary authorities exercise jurisdictional duties almost exclusively. ------> 0.06735751295336788\n",
      "Brazil is a democracy, according to the Democracy Index 2010.The political-administrative organization of the Federative Republic of Brazil comprises the Union, the states, the Federal District, and the municipalities. ------> 2.4611398963730577\n",
      "The Union, the states, the Federal District, and the municipalities, are the \"spheres of government\". ------> 1.072538860103627\n",
      "The federation is set on five fundamental principles: sovereignty, citizenship, dignity of human beings, the social values of labor and freedom of enterprise, and political pluralism. ------> 0.9792746113989639\n",
      "The classic tripartite branches of government (executive, legislative and judicial under a checks and balances system) are formally established by the Constitution. ------> 1.062176165803109\n",
      "The executive and legislative are organized independently in all three spheres of government, while the judiciary is organized only at the federal and state and Federal District spheres. ------> 1.2746113989637307\n",
      "All members of the executive and legislative branches are directly elected. ------> 0.15544041450777202\n",
      "Judges and other judicial officials are appointed after passing entry exams. ------> 0.0466321243523316\n",
      "For most of its democratic history, Brazil has had a multi-party system, proportional representation. ------> 1.1865284974093264\n",
      "Voting is compulsory for the literate between 18 and 70 years old and optional for illiterates and those between 16 and 18 or beyond 70.Together with several smaller parties, four political parties stand out: Workers' Party (PT), Brazilian Social Democracy Party (PSDB), Brazilian Democratic Movement (MDB) and Democrats (DEM). ------> 1.6113989637305703\n",
      "Fifteen political parties are represented in Congress. ------> 0.27979274611398963\n",
      "It is common for politicians to switch parties, and thus the proportion of congressional seats held by particular parties changes regularly. ------> 0.36787564766839387\n",
      "Almost all governmental and administrative functions are exercised by authorities and agencies affiliated to the Executive. ------> 0.11398963730569947\n",
      "The country has more than 40 active political parties, and only one of them defines itself as a right-wing party (PSL), with a clear political imbalance. ------> 1.5958549222797929\n",
      "The country has several far-left parties like PSOL, PCO, PSTU, PCB, PC do B, left parties like PT, PSB, PDT, PV, Rede and Solidariedade and center-left like PSDB, DEM, PMN and Cidadania. ------> 1.683937823834197\n",
      "Ten parties declare themselves as the center: MDB, PL, PSD, PTC, DC, PROS, Avante, Patriota, Podemos and PMB. ------> 0.15025906735751293\n",
      "Five parties declare themselves as center-right: PTB, Progressistas, PSC, PRTB and Republicanos. ------> 0.11398963730569951\n",
      "The only party that claims to be purely liberal, without further consideration, is Novo. ------> 0.7046632124352333\n",
      "When asked about their ideological spectrum, Brazilian parties tend to give obtuse and non-conclusive answers on the subject. ------> 0.6113989637305701\n",
      "=== Law === ------> 0.04145077720207254\n",
      "Brazilian law is based on the civil law legal system and civil law concepts prevail over common law practice. ------> 1.0259067357512952\n",
      "Most of Brazilian law is codified, although non-codified statutes also represent a substantial part, playing a complementary role. ------> 0.9637305699481867\n",
      "Court decisions set out interpretive guidelines; however, they are seldom binding on other specific cases. ------> 0.13471502590673576\n",
      "Doctrinal works and the works of academic jurists have strong influence in law creation and in law cases. ------> 0.29533678756476683\n",
      "The legal system is based on the Federal Constitution, promulgated on 5 October 1988, and the fundamental law of Brazil. ------> 2.0984455958549226\n",
      "All other legislation and court decisions must conform to its rules. ------> 0.11917098445595854\n",
      "As of April 2007, there have been 53 amendments. ------> 0.05181347150259067\n",
      "States have their own constitutions, which must not contradict the Federal Constitution. ------> 0.26424870466321243\n",
      "Municipalities and the Federal District have \"organic laws\" (leis orgânicas), which act in a similar way to constitutions. ------> 0.24352331606217614\n",
      "Legislative entities are the main source of statutes, although in certain matters judiciary and executive bodies may enact legal norms. ------> 0.2642487046632124\n",
      "Jurisdiction is administered by the judiciary entities, although in rare situations the Federal Constitution allows the Federal Senate to pass on legal judgments. ------> 0.4455958549222798\n",
      "There are also specialized military, labor, and electoral courts. ------> 0.39378238341968913\n",
      "The highest court is the Supreme Federal Court. ------> 0.8808290155440415\n",
      "This system has been criticized over the last few decades for the slow pace of decision-making. ------> 0.2746113989637306\n",
      "Lawsuits on appeal may take several years to resolve, and in some cases more than a decade elapses before definitive rulings. ------> 0.22279792746113983\n",
      "Nevertheless, the Supreme Federal Tribunal was the first court in the world to transmit its sessions on television, and also via YouTube. ------> 0.911917098445596\n",
      "More recently, in December 2009, the Supreme Court adopted Twitter to display items on the day planner of the ministers, to inform the daily actions of the Court and the most important decisions made by them. ------> 0.29533678756476683\n",
      "=== Military === ------> 0.02072538860103627\n",
      "The armed forces of Brazil are the largest in Latin America by active personnel and the largest in terms of military equipment. ------> 2.6165803108808294\n",
      "It consists of the Brazilian Army (including the Army Aviation Command), the Brazilian Navy (including the Marine Corps and Naval Aviation), and the Brazilian Air Force. ------> 1.8549222797927465\n",
      "Brazil's conscription policy gives it one of the world's largest military forces, estimated at more than 1.6 million reservists annually.Numbering close to 236,000 active personnel, the Brazilian Army has the largest number of armored vehicles in South America, including armored transports and tanks. ------> 3.4507772020725387\n",
      "It is also unique in Latin America for its large, elite forces specializing in unconventional missions, the Brazilian Special Operations Command, and the versatile Strategic Rapid Action Force, made up of highly mobilized and prepared Special Operations Brigade, Infantry Brigade Parachutist, 1st Jungle Infantry Battalion (Airmobile) and 12th Brigade Light Infantry (Airmobile) able to act anywhere in the country, on short notice, to counter external aggression. ------> 2.00518134715026\n",
      "The states' Military Police and the Military Firefighters Corps are described as an ancillary forces of the Army by the constitution, but are under the control of each state's governor.Brazil's navy, the second-largest in the Americas, once operated some of the most powerful warships in the world with the two Minas Geraes-class dreadnoughts, which sparked a South American dreadnought race between Argentina, Brazil, and Chile. ------> 2.7046632124352334\n",
      "Today, it is a green water force and has a group of specialized elite in retaking ships and naval facilities, GRUMEC, unit specially trained to protect Brazilian oil platforms along its coast. ------> 0.7823834196891191\n",
      "It is the only navy in Latin America that operates an aircraft carrier, PHM Atlantico, and one of the ten navies of the world to operate one.The Air Force is the largest in Latin America and has about 700 manned aircraft in service and effective about 67,000 personnel.Brazil has not been invaded since 1865 during the Paraguayan War. ------> 1.595854922279793\n",
      "Additionally, Brazil has no contested territorial disputes with any of its neighbors and neither does it have rivalries, like Chile and Bolivia have with each other. ------> 1.1709844559585494\n",
      "The Brazilian military has also three times intervened militarily to overthrow the Brazilian government. ------> 2.139896373056995\n",
      "It has built a tradition of participating in UN peacekeeping missions such as in Haiti, East Timor and Central African Republic. ------> 0.3160621761658031\n",
      "Brazil signed the UN treaty on the Prohibition of Nuclear Weapons. ------> 1.0466321243523318\n",
      "=== Foreign policy === ------> 0.07253886010362694\n",
      "Brazil's international relations are based on Article 4 of the Federal Constitution, which establishes non-intervention, self-determination, international cooperation and the peaceful settlement of conflicts as the guiding principles of Brazil's relationship with other countries and multilateral organizations.According to the Constitution, the President has ultimate authority over foreign policy, while the Congress is tasked with reviewing and considering all diplomatic nominations and international treaties, as well as legislation relating to Brazilian foreign policy.Brazil's foreign policy is a by-product of the country's position as a regional power in Latin America, a leader among developing countries, and an emerging world power. ------> 5.321243523316065\n",
      "Brazilian foreign policy has generally been based on the principles of multilateralism, peaceful dispute settlement, and non-intervention in the affairs of other countries.Brazil is a founding member state of the Community of Portuguese Language Countries (CPLP), also known as the Lusophone Commonwealth, an international organization and political association of Lusophone nations across four continents, where Portuguese is an official language. ------> 2.3678756476683938\n",
      "An increasingly well-developed tool of Brazil's foreign policy is providing aid as a donor to other developing countries. ------> 1.300518134715026\n",
      "Brazil does not just use its growing economic strength to provide financial aid, but it also provides high levels of expertise and most importantly of all, a quiet non-confrontational diplomacy to improve governance levels. ------> 1.6113989637305701\n",
      "Total aid is estimated to be around $1 billion per year, which includes: ------> 0.39378238341968913\n",
      "technical cooperation of around $480 million ($30 million in 2010 provided directly by the Brazilian Cooperation Agency (ABC)); ------> 1.0466321243523318\n",
      "estimated $450 million for in-kind expertise provided by Brazilian institutions specializing in technical cooperation.In addition, Brazil manages a peacekeeping mission in Haiti ($350 million) and makes in-kind contributions to the World Food Programme ($300 million). ------> 2.471502590673575\n",
      "This is in addition to humanitarian assistance and contributions to multilateral development agencies. ------> 0.19689119170984457\n",
      "The scale of this aid places it on par with China and India. ------> 0.6943005181347152\n",
      "The Brazilian South-South aid has been described as a \"global model in waiting.\" ------> 1.217616580310881\n",
      "=== Law enforcement and crime === ------> 0.07253886010362695\n",
      "In Brazil, the Constitution establishes five different police agencies for law enforcement: Federal Police Department, Federal Highway Police, Federal Railroad Police, Military Police and Civil Police. ------> 2.1398963730569953\n",
      "Of these, the first three are affiliated with federal authorities and the last two are subordinate to state governments. ------> 0.5233160621761658\n",
      "All police forces are the responsibility of the executive branch of any of the federal or state powers. ------> 0.2901554404145078\n",
      "The National Public Security Force also can act in public disorder situations arising anywhere in the country.The country still has above-average levels of violent crime and particularly high levels of gun violence and homicide. ------> 1.7616580310880832\n",
      "In 2012, the World Health Organization (WHO) estimated the number of 32 deaths per 100,000 inhabitants, one of the highest rates of homicide of the world. ------> 1.2901554404145077\n",
      "The number considered tolerable by the WHO is about 10 homicides per 100,000 inhabitants. ------> 0.9274611398963732\n",
      "In 2018, Brazil had a record 63,880 murders. ------> 1.3212435233160622\n",
      "However, there are differences between the crime rates in the Brazilian states. ------> 0.6735751295336787\n",
      "While in São Paulo the homicide rate registered in 2013 was 10.8 deaths per 100,000 inhabitants, in Alagoas it was 64.7 homicides per 100,000 inhabitants.Brazil also has high levels of incarceration and the third largest prison population in the world (behind only China and the United States), with an estimated total of approximately 700,000 prisoners around the country (June 2014), an increase of about 300% compared to the index registered in 1992. ------> 2.4611398963730577\n",
      "The high number of prisoners eventually overloaded the Brazilian prison system, leading to a shortfall of about 200,000 accommodations. ------> 1.4352331606217616\n",
      "=== Administrative divisions === ------> 0.015544041450777202\n",
      "Brazil is a federation composed of 26 states, one federal district, and the 5570 municipalities. ------> 1.3730569948186528\n",
      "States have autonomous administrations, collect their own taxes and receive a share of taxes collected by the Federal government. ------> 0.46632124352331605\n",
      "They have a governor and a unicameral legislative body elected directly by their voters. ------> 0.12435233160621761\n",
      "They also have independent Courts of Law for common justice. ------> 0.3419689119170984\n",
      "Despite this, states have much less autonomy to create their own laws than in the United States. ------> 0.27979274611398963\n",
      "For example, criminal and civil laws can be voted by only the federal bicameral Congress and are uniform throughout the country.The states and the federal district may be grouped into regions: Northern, Northeast, Central-West, Southeast and Southern. ------> 0.5595854922279792\n",
      "The Brazilian regions are merely geographical, not political or administrative divisions, and they do not have any specific form of government. ------> 1.5181347150259068\n",
      "Although defined by law, Brazilian regions are useful mainly for statistical purposes, and also to define the distribution of federal funds in development projects. ------> 1.0569948186528497\n",
      "Municipalities, as the states, have autonomous administrations, collect their own taxes and receive a share of taxes collected by the Union and state government. ------> 0.5181347150259067\n",
      "Each has a mayor and an elected legislative body, but no separate Court of Law. ------> 0.17098445595854922\n",
      "Indeed, a Court of Law organized by the state can encompass many municipalities in a single justice administrative division called comarca (county). ------> 0.41450777202072536\n",
      "== Economy == ------> 0.0051813471502590676\n",
      "Brazil is the largest national economy in Latin America, the world's ninth largest economy and the eighth largest in purchasing power parity (PPP) according to 2018 estimates. ------> 2.787564766839379\n",
      "Brazil has a mixed economy with abundant natural resources. ------> 1.1658031088082903\n",
      "After rapid growth in preceding decades, the country entered an ongoing recession in 2014 amid a political corruption scandal and nationwide protests. ------> 0.7202072538860105\n",
      "Its Gross domestic product (PPP) per capita was $15,919 in 2017 putting Brazil in the 77th position according to IMF data. ------> 1.2642487046632125\n",
      "Active in agricultural, mining, manufacturing and service sectors Brazil has a labor force of over 107 million (ranking 6th worldwide) and unemployment of 6.2% (ranking 64th worldwide).The country has been expanding its presence in international financial and commodities markets, and is one of a group of four emerging economies called the BRIC countries. ------> 2.487046632124353\n",
      "Brazil has been the world's largest producer of coffee for the last 150 years. ------> 1.8082901554404143\n",
      "The country is a major exporter of soy, iron ore, pulp (cellulose), maize, beef, chicken meat, soybean meal, sugar, coffee, tobacco, cotton, orange juice, footwear, airplanes, cars, vehicle parts, gold, ethanol, semi-finished iron, among other products.Brazil's diversified economy includes agriculture, industry, and a wide range of services. ------> 1.9015544041450794\n",
      "Agriculture and allied sectors like forestry, logging and fishing accounted for 5.1% of the GDP in 2007. ------> 0.2227979274611399\n",
      "Brazil is the largest producer of sugarcane, soy, coffee, orange, guaraná, açaí and Brazil nut; is one of the top 5 producers of maize, papaya, tobacco, pineapple, banana, cotton, beans, coconut, watermelon and lemon; is one of the top 10 world producers of cocoa, cashew, avocado, tangerine, persimmon, mango, guava, rice, sorghum and tomato; and is one of the top 15 world producers of grape, apple, melon, peanut, fig, peach, onion, palm oil and natural rubber. ------> 4.129533678756479\n",
      "The country also produces large quantities of potato, carrot, strawberry, yerba mate, wheat, among others. ------> 1.5492227979274615\n",
      "Part of the production is exported, and another part goes to the domestic market. ------> 0.1658031088082901\n",
      "In the production of animal proteins, Brazil is today one of the largest countries in the world. ------> 2.2124352331606216\n",
      "In 2019, the country was the world's largest exporter of chicken meat. ------> 1.357512953367876\n",
      "It was also the second largest producer of beef, the world's third largest producer of milk, the world's fourth largest producer of pork and the seventh largest producer of eggs in the world.In the mining sector, Brazil stands out in the extraction of iron ore (where it is the second world exporter), copper, gold, bauxite (one of the 5 largest producers in the world), manganese (one of the 5 largest producers in the world), tin (one of the largest producers in the world), niobium (concentrates 98% of reserves known to the world) and nickel. ------> 6.875647668393785\n",
      "In terms of precious stones, Brazil is the world's largest producer of amethyst, topaz, agate and one of the main producers of tourmaline, emerald, aquamarine and garnet.Industry in Brazil – from automobiles, steel and petrochemicals to computers, aircraft and consumer durables – accounted for 30.8% of the gross domestic product. ------> 3.445595854922281\n",
      "Industry is highly concentrated in metropolitan São Paulo, Rio de Janeiro, Campinas, Porto Alegre, and Belo Horizonte. ------> 0.8082901554404145\n",
      "Brazil has become the fourth largest car market in the world. ------> 1.683937823834197\n",
      "Major export products include aircraft, electrical equipment, automobiles, ethanol, textiles, footwear, iron ore, steel, coffee, orange juice, soybeans and corned beef. ------> 0.32124352331606226\n",
      "In total, Brazil ranks 23rd worldwide in value of exports. ------> 1.4145077720207255\n",
      "In the food industry, in 2019, Brazil was the second largest exporter of processed foods in the world. ------> 2.0414507772020727\n",
      "In 2016, the country was the 2nd largest producer of pulp in the world and the 8th producer of paper. ------> 1.4455958549222798\n",
      "In the footwear industry, in 2019, Brazil ranked 4th among world producers. ------> 1.8290155440414506\n",
      "In 2019, the country was the 8th producer of vehicles and the 9th producer of steel in the world. ------> 1.1917098445595855\n",
      "In 2018, the chemical industry of Brazil was the 8th in the world. ------> 1.6373056994818653\n",
      "Although it was among the 5 largest world producers in 2013, Brazil's textile industry is very little integrated into world trade.The tertiary sector (trade and services) represented 75.8% of the country's GDP in 2018, according to the IBGE. ------> 2.9222797927461146\n",
      "The service sector was responsible for 60% of GDP and trade for 13%. ------> 0.8652849740932643\n",
      "It covers a wide range of activities: commerce, accommodation and catering, transport, communications, financial services, real estate activities and services provided to businesses, public administration (urban cleaning, sanitation, etc.) and other services such as education, social and health services, research and development, sports activities, etc., since it consists of activities complementary to other sectors. ------> 1.0932642487046633\n",
      "Micro and small businesses represent 30% of the country's GDP. ------> 0.5181347150259067\n",
      "In the commercial sector, for example, they represent 53% of the GDP within the activities of the sector.In 2017, the number of people employed in commercial activities in Brazil was 10.2 million people (74.3% in retail trade, 17.0% in wholesale trade and 8.7% in trade of vehicles, parts and motorcycles). ------> 2.3834196891191715\n",
      "The number of commercial enterprises was 1.5 million and the number of stores 1.7 million. ------> 1.2849740932642488\n",
      "Business activity in the country generated R $ 3.4 trillion in net operating income (gross income minus deductions, such as cancellations, discounts and taxes) and R $ 583.7 billion in gross value added. ------> 0.8601036269430055\n",
      "The trade margin (defined as the difference between net income from resale and cost of goods sold) reached R $ 765.1 billion in 2017. ------> 1.0466321243523318\n",
      "Of this total, retail was responsible for 56.4%, the wholesale trade 36.0% and trade in vehicles, spare parts and motorcycles 7.6%. ------> 0.44041450777202074\n",
      "In 2017 net operating income, retail trade accounted for 45.5%, wholesale trade 44.6% and automotive sector with 9.9%. ------> 0.6735751295336787\n",
      "Among the commercial activity groups, Hypermarkets and Supermarkets have 12.5%; the wholesale trade in fuels and lubricants represented 11.3%; retail and wholesale trade in food, beverages and tobacco accounted for 4.8% and 8.4% respectively; trade in motor vehicles, 6.1%; wholesale trade in machinery, apparatus and equipment, including information and communication technologies, accounted for 3.7%.Brazil pegged its currency, the real, to the U.S. dollar in 1994. However, after the East Asian financial crisis, the Russian default in 1998 and the series of adverse financial events that followed it, the Central Bank of Brazil temporarily changed its monetary policy to a managed float regime scheme while undergoing a currency crisis, until definitively changing the exchange regime to free-float in January 1999.Brazil received an International Monetary Fund (IMF) rescue package in mid-2002 of $30.4 billion, a record sum at the time. ------> 2.8963730569948205\n",
      "Brazil's central bank repaid the IMF loan in 2005, although it was not due to be repaid until 2006. ------> 1.1347150259067362\n",
      "One of the issues the Central Bank of Brazil recently dealt with was an excess of speculative short-term capital inflows to the country, which may have contributed to a fall in the value of the U.S. dollar against the real during that period. ------> 1.7927461139896377\n",
      "Nonetheless, foreign direct investment (FDI), related to long-term, less speculative investment in production, is estimated to be $193.8 billion for 2007. ------> 0.35751295336787564\n",
      "Inflation monitoring and control currently plays a major part in the Central bank's role in setting short-term interest rates as a monetary policy measure.Between 1993 and 2010, 7012 mergers and acquisitions with a total known value of $707 billion with the involvement of Brazilian firms were announced. ------> 1.1243523316062176\n",
      "The year 2010 was a new record in terms of value with US$115 billion in transactions. ------> 1.0518134715025909\n",
      "The largest transaction with involvement of Brazilian companies was the Cia. Vale do Rio Doce acquisition of Inco in a tender offer valued at US$18.9 billion. ------> 1.8393782383419692\n",
      "Corruption costs Brazil almost $41 billion a year alone in 2010, with 69.9% of the country's firms identifying the issue as a major constraint in successfully penetrating the global market. ------> 1.8549222797927463\n",
      "Local government corruption is so prevalent that voters perceive it as a problem only if it surpasses certain levels, and only if a local media e.g. a radio station is present to divulge the findings of corruption charges. ------> 0.37823834196891193\n",
      "Initiatives, like this exposure, strengthen awareness which is indicated by the Transparency International's Corruption Perceptions Index; ranking Brazil 69th out of 178 countries in 2012. ------> 1.3471502590673574\n",
      "The purchasing power in Brazil is eroded by the so-called Brazil cost.Brazil also has a large cooperative sector that provides 50% of the food in the country. ------> 3.6217616580310885\n",
      "The world's largest healthcare cooperative Unimed is also located in Brazil, and accounts for 32% of the healthcare insurance market in the country. ------> 3.0\n",
      "=== Energy === ------> 0.015544041450777202\n",
      "Brazil is the world's tenth largest energy consumer with much of its energy coming from renewable sources, particularly hydroelectricity and ethanol; the Itaipu Dam is the world's largest hydroelectric plant by energy generation, and the country has other large plants like Belo Monte and Tucuruí. ------> 3.2279792746113998\n",
      "The first car with an ethanol engine was produced in 1978 and the first airplane engine running on ethanol in 2005. ------> 1.0673575129533681\n",
      "In total electricity generation, in 2019 Brazil reached 170,000 megawatts of installed capacity, more than 75% from renewable sources (the majority, hydroelectric plants). ------> 1.601036269430052\n",
      "Brazil is one of the 5 largest hydroelectric energy producers in the world (2nd place in 2017).As of September 2020, according to ONS, total installed capacity of wind power was 16.3 GW, with average capacity factor of 58%. ------> 2.424870466321244\n",
      "While the world average wind production capacity factors is 24.7%, there are areas in Northern Brazil, specially in Bahia State, where some wind farms record with average capacity factors over 60%; the average capacity factor in the Northeast Region is 45% in the coast and 49% in the interior. ------> 2.020725388601036\n",
      "In 2019, wind energy represented 9% of the energy generated in the country. ------> 0.9067357512953368\n",
      "In 2019, it was estimated that the country had an estimated wind power generation potential of around 522 GW (this, only onshore), enough energy to meet three times the country's current demand. ------> 1.663212435233161\n",
      "Brazil is one of the 10 largest wind energy producers in the world (8th place in 2019, with 2.4% of world production).As of September 2020, according to ONS, total installed capacity of photovoltaic solar was 6.9 GW, with average capacity factor of 23%. ------> 2.6424870466321253\n",
      "Some of the most irradiated Brazilian States are Minas Gerais, Bahia and Goiás. ------> 0.6632124352331606\n",
      "In 2019, solar power represented 1.27% of the energy generated in the country.Recent oil discoveries in the pre-salt layer have opened the door for a large increase in oil production. ------> 0.7979274611398962\n",
      "The governmental agencies responsible for the energy policy are the Ministry of Mines and Energy, the National Council for Energy Policy, the National Agency of Petroleum, Natural Gas and Biofuels, and the National Agency of Electricity. ------> 1.191709844559586\n",
      "In the beginning of 2020, in the production of oil and natural gas, the country exceeded 4 million barrels of oil equivalent per day, for the first time. ------> 1.4715025906735753\n",
      "In January this year, 3.168 million barrels of oil per day and 138.753 million cubic meters of natural gas were extracted. ------> 1.0362694300518136\n",
      "=== Tourism === ------> 0.02072538860103627\n",
      "Tourism in Brazil is a growing sector and key to the economy of several regions of the country. ------> 1.6994818652849741\n",
      "The country had 6.36 million visitors in 2015, ranking in terms of the international tourist arrivals as the main destination in South America and second in Latin America after Mexico. ------> 2.0984455958549226\n",
      "Revenues from international tourists reached US$6 billion in 2010, showing a recovery from the 2008–2009 economic crisis. ------> 0.5077720207253886\n",
      "Historical records of 5.4 million visitors and US$6.8 billion in receipts were reached in 2011.Natural areas are its most popular tourism product, a combination of ecotourism with leisure and recreation, mainly sun and beach, and adventure travel, as well as cultural tourism. ------> 0.8963730569948185\n",
      "Among the most popular destinations are the Amazon Rainforest, beaches and dunes in the Northeast Region, the Pantanal in the Center-West Region, beaches at Rio de Janeiro and Santa Catarina, cultural tourism in Minas Gerais and business trips to São Paulo.In terms of the 2015 Travel and Tourism Competitiveness Index (TTCI), which is a measurement of the factors that make it attractive to develop business in the travel and tourism industry of individual countries, Brazil ranked in the 28st place at the world's level, third in the Americas, after Canada and United States.Brazil's main competitive advantages are its natural resources, which ranked 1st on this criteria out of all countries considered, and ranked 23rd for its cultural resources, due to its many World Heritage sites. ------> 3.6839378238341993\n",
      "The TTCI report notes Brazil's main weaknesses: its ground transport infrastructure remains underdeveloped (ranked 116th), with the quality of roads ranking in 105th place; and the country continues to suffer from a lack of price competitiveness (ranked 114th), due in part to high ticket taxes and airport charges, as well as high prices and high taxation. ------> 2.8134715025906756\n",
      "Safety and security have improved significantly: 75th in 2011, up from 128th in 2008.According to the World Tourism Organization (WTO), international travel to Brazil accelerated in 2000, particularly during 2004 and 2005. However, in 2006 a slow-down took place, and international arrivals had almost no growth in 2007–08.In spite of this trend, revenues from international tourism continued to rise, from USD 4 billion in 2005 to 5 billion in 2007, despite 330 000 fewer arrivals. ------> 2.176165803108809\n",
      "This favorable trend is the result of the strong devaluation of the US dollar against the Brazilian Real, which began in 2004, but which makes Brazil a more expensive international destination. ------> 1.9533678756476685\n",
      "This trend changed in 2009, when both visitors and revenues fell as a result of the Great Recession of 2008–09. ------> 0.21761658031088082\n",
      "By 2010, the industry had recovered, and arrivals grew above 2006 levels to 5.2 million international visitors, and receipts from these visitors reached US$6 billion. ------> 0.8238341968911918\n",
      "In 2011 the historical record was reached with 5.4 million visitors and US$6.8 billion in receipts.Despite continuing record-breaking international tourism revenues, the number of Brazilian tourists travelling overseas has been growing steadily since 2003, resulting in a net negative foreign exchange balance, as more money is spent abroad by Brazilians than comes in as receipts from international tourists visiting Brazil.Tourism expenditures abroad grew from US$5.8 billion in 2006, to US$8.2 billion in 2007, a 42% increase, representing a net deficit of US$3.3 billion in 2007, as compared to US$1.5 billion in 2006, a 125% increase from the previous year. ------> 3.0\n",
      "This trend is caused by Brazilians taking advantage of the stronger Real to travel and making relatively cheaper expenditures abroad. ------> 0.3005181347150259\n",
      "Brazilians traveling overseas in 2006 represented 4% of the country's population.In 2005, tourism contributed with 3.2% of the country's revenues from exports of goods and services, and represented 7% of direct and indirect employment in the Brazilian economy. ------> 1.7720207253886013\n",
      "In 2006 direct employment in the sector reached 1.9 million people.Domestic tourism is a fundamental market segment for the industry, as 51 million people traveled throughout the country in 2005, and direct revenues from Brazilian tourists reached US$22 billion, 5.6 times more receipts than international tourists in 2005. ------> 2.5492227979274613\n",
      "In 2005, Rio de Janeiro, Foz do Iguaçu, São Paulo, Florianópolis and Salvador were the most visited cities by international tourists for leisure trips. ------> 1.2176165803108807\n",
      "The most popular destinations for business trips were São Paulo, Rio de Janeiro and Porto Alegre. ------> 1.4766839378238341\n",
      "In 2006 Rio de Janeiro and Fortaleza were the most popular destinations for business trips. ------> 0.9015544041450776\n",
      "== Infrastructure == ------> 0.0051813471502590676\n",
      "=== Science and technology === ------> 0.02072538860103627\n",
      "Technological research in Brazil is largely carried out in public universities and research institutes, with the majority of funding for basic research coming from various government agencies. ------> 1.450777202072539\n",
      "Brazil's most esteemed technological hubs are the Oswaldo Cruz Institute, the Butantan Institute, the Air Force's Aerospace Technical Center, the Brazilian Agricultural Research Corporation and the National Institute for Space Research.The Brazilian Space Agency has the most advanced space program in Latin America, with significant resources to launch vehicles, and manufacture of satellites. ------> 2.6943005181347166\n",
      "Owner of relative technological sophistication, the country develops submarines, aircraft, as well as being involved in space research, having a Vehicle Launch Center Light and being the only country in the Southern Hemisphere the integrate team building International Space Station (ISS).The country is also a pioneer in the search for oil in deep water, from where it extracts 73% of its reserves. ------> 2.0310880829015554\n",
      "Uranium is enriched at the Resende Nuclear Fuel Factory, mostly for research purposes (as Brazil obtains 88% from its electricity from hydroelectricity) and the country's first nuclear submarine was delivered in 2015 (by France).Brazil is one of the three countries in Latin America with an operational Synchrotron Laboratory, a research facility on physics, chemistry, material science and life sciences, and Brazil is the only Latin American country to have a semiconductor company with its own fabrication plant, the CEITEC. ------> 4.067357512953368\n",
      "According to the Global Information Technology Report 2009-2010 of the World Economic Forum, Brazil is the world's 61st largest developer of information technology.Among the most renowned Brazilian inventors are priests Bartolomeu de Gusmão, Landell de Moura and Francisco João de Azevedo, besides Alberto Santos-Dumont, Evaristo Conrado Engelberg, Manuel Dias de Abreu, Andreas Pavel and Nélio José Nicolai.Brazilian science is represented by the likes of César Lattes (Brazilian physicist Pathfinder of Pi Meson), Mário Schenberg (considered the greatest theoretical physicist of Brazil), José Leite Lopes (only Brazilian physicist holder of the UNESCO Science Prize), Artur Ávila (the first Latin American winner of the Fields Medal) and Fritz Müller (pioneer in factual support of the theory of evolution by Charles Darwin). ------> 6.072538860103629\n",
      "=== Transport === ------> 0.0051813471502590676\n",
      "Brazilian roads are the primary carriers of freight and passenger traffic. ------> 0.5544041450777204\n",
      "The road system totaled 1.98 million km (1.23 million mi) in 2002. ------> 1.3367875647668395\n",
      "The total of paved roads increased from 35,496 km (22,056 mi) in 1967 to 215,000 km (133,595 mi) in 2018. ------> 1.0259067357512954\n",
      "The country has about 14,000 km (8,699 mi) of divided highways, 5,000 km (3,107 mi) only in the State of São Paulo. ------> 1.601036269430052\n",
      "Currently it's possible to travel from Rio Grande, in the extreme south of the country, to Brasília (2,580 km (1,603 mi)) or Casimiro de Abreu, in the state of Rio de Janeiro (2,045 km (1,271 mi)), only on divided highways. ------> 1.906735751295337\n",
      "The first investments in road infrastructure have given up in the 1920s, the government of Washington Luís, being pursued in the governments of Getúlio Vargas and Eurico Gaspar Dutra. ------> 1.0932642487046635\n",
      "President Juscelino Kubitschek (1956–61), who designed and built the capital Brasília, was another supporter of highways. ------> 0.24352331606217617\n",
      "Kubitschek was responsible for the installation of major car manufacturers in the country (Volkswagen, Ford and General Motors arrived in Brazil during his rule) and one of the points used to attract them was support for the construction of highways. ------> 1.9481865284974096\n",
      "With the implementation of Fiat in 1976 ending an automobile market closed loop, from the end of the 1990s the country has received large foreign direct investments installing in its territory other major car manufacturers and utilities, such as Iveco, Renault, Peugeot, Citroën, Honda, Mitsubishi, Mercedes-Benz, BMW, Hyundai, Toyota among others. ------> 1.0932642487046635\n",
      "Brazil is the seventh most important country in the auto industry.Brazil's railway system has been declining since 1945, when emphasis shifted to highway construction. ------> 1.7305699481865289\n",
      "The total length of railway track was 30,875 km (19,185 mi) in 2002, as compared with 31,848 km (19,789 mi) in 1970. ------> 1.0259067357512954\n",
      "Most of the railway system belonged to the Federal Railroad Corporation RFFSA, which was privatized in 2007. ------> 0.3005181347150259\n",
      "The São Paulo Metro was the first underground transit system in Brazil. ------> 2.0880829015544045\n",
      "The other metro systems are in Rio de Janeiro, Porto Alegre, Recife, Belo Horizonte, Brasília, Salvador and Fortaleza. ------> 1.3367875647668395\n",
      "The country has an extensive rail network of 28,538 kilometres (17,733 miles) in length, the tenth largest network in the world. ------> 1.7927461139896377\n",
      "Currently, the Brazilian government, unlike the past, seeks to encourage this mode of transport; an example of this incentive is the project of the Rio–São Paulo high-speed rail, that will connect the two main cities of the country to carry passengers. ------> 1.4041450777202074\n",
      "There are about 2,500 airports in Brazil, including landing fields: the second largest number in the world, after the United States. ------> 1.9689119170984455\n",
      "São Paulo–Guarulhos International Airport, near São Paulo, is the largest and busiest airport with nearly 20 million passengers annually, while handling the vast majority of commercial traffic for the country.For freight transport waterways are of importance, e.g. the industrial zones of Manaus can be reached only by means of the Solimões–Amazonas waterway (3,250 kilometres (2,020 miles) with 6 metres (20 feet) minimum depth). ------> 1.2279792746113998\n",
      "The country also has 50,000 kilometres (31,000 miles) of waterways.Coastal shipping links widely separated parts of the country. ------> 1.8549222797927463\n",
      "Bolivia and Paraguay have been given free ports at Santos. ------> 0.09844559585492228\n",
      "Of the 36 deep-water ports, Santos, Itajaí, Rio Grande, Paranaguá, Rio de Janeiro, Sepetiba, Vitória, Suape, Manaus and São Francisco do Sul are the most important. ------> 0.9170984455958552\n",
      "Bulk carriers have to wait up to 18 days before being serviced, container ships 36.3 hours on average. ------> 0.09844559585492227\n",
      "=== Health === ------> 0.02072538860103627\n",
      "The Brazilian public health system, the Unified Health System (SUS), is managed and provided by all levels of government, being the largest system of this type in the world. ------> 2.295336787564767\n",
      "On the other hand, private healthcare systems play a complementary role.Public health services are universal and offered to all citizens of the country for free. ------> 0.6839378238341969\n",
      "However, the construction and maintenance of health centers and hospitals are financed by taxes, and the country spends about 9% of its GDP on expenditures in the area. ------> 0.7357512953367875\n",
      "In 2012, Brazil had 1.85 doctors and 2.3 hospital beds for every 1,000 inhabitants.Despite all the progress made since the creation of the universal health care system in 1988, there are still several public health problems in Brazil. ------> 2.7823834196891193\n",
      "In 2006, the main points to be solved were the high infant (2.51%) and maternal mortality rates (73.1 deaths per 1000 births).The number of deaths from noncommunicable diseases, such as cardiovascular diseases (151.7 deaths per 100,000 inhabitants) and cancer (72.7 deaths per 100,000 inhabitants), also has a considerable impact on the health of the Brazilian population. ------> 2.0207253886010363\n",
      "Finally, external but preventable factors such as car accidents, violence and suicide caused 14.9% of all deaths in the country. ------> 0.6062176165803109\n",
      "The Brazilian health system was ranked 125th among the 191 countries evaluated by the World Health Organization (WHO) in 2000. ------> 1.7046632124352332\n",
      "=== Education === ------> 0.015544041450777202\n",
      "The Federal Constitution and the Law of Guidelines and Bases of National Education determine that the Union, the states, the Federal District, and the municipalities must manage and organize their respective education systems. ------> 1.3886010362694308\n",
      "Each of these public educational systems is responsible for its own maintenance, which manages funds as well as the mechanisms and funding sources. ------> 0.24352331606217617\n",
      "The constitution reserves 25% of the state budget and 18% of federal taxes and municipal taxes for education.According to the IBGE, in 2011, the literacy rate of the population was 90.4%, meaning that 13 million (9.6% of population) people are still illiterate in the country; functional illiteracy has reached 21.6% of the population. ------> 2.3212435233160624\n",
      "Illiteracy is highest in the Northeast, where 19.9% of the population is illiterate.Higher education starts with undergraduate or sequential courses, which may offer different options of specialization in academic or professional careers. ------> 0.47150259067357525\n",
      "Depending on the choice, students can improve their educational background with courses of post-graduate studies or broad sense. ------> 0.10362694300518135\n",
      "Attending an institution of higher education is required by Law of Guidelines and Bases of Education. ------> 0.17098445595854925\n",
      "Kindergarten, elementary and medium education are required of all students, provided the student does not hold any disability, whether physical, mental, visual or hearing. ------> 0.1813471502590673\n",
      "The University of São Paulo is the second best university in Latin America, according to recent 2019 QS World University Rankings. ------> 1.3523316062176167\n",
      "Of the top 20 Latin American universities, eight are Brazilian. ------> 0.7150259067357513\n",
      "Most of them are public.Brazil's private institutions tend to be more exclusive and offer better quality education, so many high-income families send their children there. ------> 0.22797927461139897\n",
      "The result is a segregated educational system that reflects extreme income disparities and reinforces social inequality. ------> 0.922279792746114\n",
      "However, efforts to change this are making impacts. ------> 0.1243523316062176\n",
      "=== Media and communication === ------> 0.015544041450777202\n",
      "The Brazilian press was officially born in Rio de Janeiro on 13 May 1808 with the creation of the Royal Printing National Press by the Prince Regent Dom João.The Gazeta do Rio de Janeiro, the first newspaper published in the country, began to circulate on 10 September 1808. ------> 3.072538860103627\n",
      "The largest newspapers nowadays are Folha de S.Paulo, Super Notícia, O Globo and O Estado de S. Paulo.Radio broadcasting began on 7 September 1922, with a speech by then President Pessoa, and was formalized on 20 April 1923 with the creation of \"Radio Society of Rio de Janeiro. ------> 2.217616580310881\n",
      "\"Television in Brazil began officially on 18 September 1950, with the founding of TV Tupi by Assis Chateaubriand. ------> 1.1865284974093266\n",
      "Since then television has grown in the country, creating large commercial broadcast networks such as Globo, SBT, RecordTV, Bandeirantes and RedeTV. ------> 0.6839378238341971\n",
      "Today it is the most important factor in popular culture of Brazilian society, indicated by research showing that as much as 67% of the general population follow the same daily soap opera broadcast. ------> 0.9896373056994818\n",
      "Digital Television, using the SBTVD standard (based on the Japanese standard ISDB-T), was adopted on 29 June 2006 and launched on 2 November 2007. ------> 0.15025906735751293\n",
      "In May 2010, the Brazilian government launched TV Brasil Internacional, an international television station, initially broadcasting to 49 countries. ------> 1.2746113989637307\n",
      "Commercial television channels broadcast internationally include Globo Internacional, RecordTV Internacional and Band Internacional. ------> 0.2020725388601036\n",
      "== Demographics == ------> 0.0051813471502590676\n",
      "The population of Brazil, as recorded by the 2008 PNAD, was approximately 190 million (22.31 inhabitants per square kilometre or 57.8/sq mi), with a ratio of men to women of 0.95:1 and 83.75% of the population defined as urban. ------> 2.5336787564766845\n",
      "The population is heavily concentrated in the Southeastern (79.8 million inhabitants) and Northeastern (53.5 million inhabitants) regions, while the two most extensive regions, the Center-West and the North, which together make up 64.12% of the Brazilian territory, have a total of only 29.1 million inhabitants. ------> 2.497409326424871\n",
      "The first census in Brazil was carried out in 1872 and recorded a population of 9,930,478. ------> 1.9740932642487048\n",
      "From 1880 to 1930, 4 million Europeans arrived. ------> 0.27979274611398963\n",
      "Brazil's population increased significantly between 1940 and 1970, because of a decline in the mortality rate, even though the birth rate underwent a slight decline. ------> 1.3730569948186528\n",
      "In the 1940s the annual population growth rate was 2.4%, rising to 3.0% in the 1950s and remaining at 2.9% in the 1960s, as life expectancy rose from 44 to 54 years and to 72.6 years in 2007. ------> 0.7409326424870466\n",
      "It has been steadily falling since the 1960s, from 3.04% per year between 1950 and 1960 to 1.05% in 2008 and is expected to fall to a negative value of –0.29% by 2050 thus completing the demographic transition.In 2008, the illiteracy rate was 11.48% and among the youth (ages 15–19) 1.74%. ------> 0.5492227979274611\n",
      "It was highest (20.30%) in the Northeast, which had a large proportion of rural poor. ------> 0.2901554404145078\n",
      "Illiteracy was high (24.18%) among the rural population and lower (9.05%) among the urban population. ------> 0.6062176165803108\n",
      "=== Race and ethnicity === ------> 0.010362694300518135\n",
      "According to the National Research by Household Sample (PNAD) of 2008, 48.43% of the population (about 92 million) described themselves as White; 43.80% (about 83 million) as Pardo (brown), 6.84% (about 13 million) as Black; 0.58% (about 1.1 million) as Asian; and 0.28% (about 536 thousand) as Amerindian (officially called indígena, Indigenous), while 0.07% (about 130 thousand) did not declare their race.In 2007, the National Indian Foundation estimated that Brazil has 67 different uncontacted tribes, up from their estimate of 40 in 2005. ------> 2.66839378238342\n",
      "Brazil is believed to have the largest number of uncontacted peoples in the world.Since the arrival of the Portuguese in 1500, considerable genetic mixing between Amerindians, Europeans, and Africans has taken place in all regions of the country (with European ancestry being dominant nationwide according to the vast majority of all autosomal studies undertaken covering the entire population, accounting for between 65% to 77%).Brazilian society is more markedly divided by social class lines, although a high income disparity is found between race groups, so racism and classism can be conflated. ------> 3.186528497409329\n",
      "Socially significant closeness to one racial group is taken in account more in the basis of appearance (phenotypes) rather than ancestry, to the extent that full siblings can pertain to different \"racial\" groups. ------> 0.49222797927461137\n",
      "Socioeconomic factors are also significant, because a minority of pardos are likely to start declaring themselves White or Black if socially upward. ------> 0.38860103626943004\n",
      "Skin color and facial features do not line quite well with ancestry (usually, Afro-Brazilians are evenly mixed and European ancestry is dominant in Whites and pardos with a significant non-European contribution, but the individual variation is great).The brown population (officially called pardo in Portuguese, also colloquially moreno) is a broad category that includes caboclos (assimilated Amerindians in general, and descendants of Whites and Natives), mulatos (descendants of primarily Whites and Afro-Brazilians) and cafuzos (descendants of Afro-Brazilians and Natives). ------> 1.4974093264248711\n",
      "People of considerable Amerindian ancestry form the majority of the population in the Northern, Northeastern and Center-Western regions.Higher percents of Blacks, mulattoes and tri-racials can be found in the eastern coast of the Northeastern region from Bahia to Paraíba and also in northern Maranhão, southern Minas Gerais and in eastern Rio de Janeiro. ------> 1.393782383419689\n",
      "From the 19th century, Brazil opened its borders to immigration. ------> 1.207253886010363\n",
      "About five million people from over 60 countries migrated to Brazil between 1808 and 1972, most of them of Portuguese, Italian, Spanish, German, Ukrainian, Polish, Jewish, Russian, Chinese, Japanese, and Arab origin. ------> 1.901554404145078\n",
      "Brazil has the second largest Jewish community in Latin America making up 0.06% of its population. ------> 1.792746113989637\n",
      "=== Religion === ------> 0.0051813471502590676\n",
      "Roman Catholicism is the country's predominant faith. ------> 0.4974093264248705\n",
      "Brazil has the world's largest Catholic population. ------> 1.787564766839378\n",
      "According to the 2010 Demographic Census (the PNAD survey does not inquire about religion), 64.63% of the population followed Roman Catholicism; 22.2% Protestantism; 2.0% Kardecist spiritism; 3.2% other religions, undeclared or undetermined; while 8.0% have no religion.Religion in Brazil was formed from the meeting of the Catholic Church with the religious traditions of enslaved African peoples and indigenous peoples. ------> 1.6165803108808292\n",
      "This confluence of faiths during the Portuguese colonization of Brazil led to the development of a diverse array of syncretistic practices within the overarching umbrella of Brazilian Catholic Church, characterized by traditional Portuguese festivities, and in some instances, Allan Kardec's Spiritism (a religion which incorporates elements of spiritualism and Christianity). ------> 2.5181347150259077\n",
      "Religious pluralism increased during the 20th century, and the Protestant community has grown to include over 22% of the population. ------> 0.4196891191709844\n",
      "The most common Protestant denominations are Evangelical Pentecostal ones. ------> 0.6994818652849741\n",
      "Other Protestant branches with a notable presence in the country include the Baptists, Seventh-day Adventists, Lutherans and the Reformed tradition.However, in the last ten years Protestantism, particularly in forms of Pentecostalism and Evangelicalism, has spread in Brazil, while the proportion of Catholics has dropped significantly. ------> 1.8134715025906738\n",
      "After Protestantism, individuals professing no religion are also a significant group, exceeding 8% of the population as of the 2010 census. ------> 0.5440414507772021\n",
      "The cities of Boa Vista, Salvador, and Porto Velho have the greatest proportion of Irreligious residents in Brazil. ------> 1.7979274611398965\n",
      "Teresina, Fortaleza, and Florianópolis were the most Roman Catholic in the country. ------> 0.5492227979274611\n",
      "Greater Rio de Janeiro, not including the city proper, is the most irreligious and least Roman Catholic Brazilian periphery, while Greater Porto Alegre and Greater Fortaleza are on the opposite sides of the lists, respectively. ------> 1.3419689119170988\n",
      "In October 2009, the Brazilian Senate approved and enacted by the President of Brazil in February 2010, an agreement with the Vatican, in which the Legal Statute of the Catholic Church in Brazil is recognized. ------> 2.989637305699482\n",
      "The agreement confirmed norms that were normally complied with regarding religious education in public elementary schools (which also ensures the teaching of other beliefs), marriage and spiritual assistance in prisons and hospitals. ------> 1.1243523316062178\n",
      "The project was criticized by parliamentarians who understood the end of the secular state with the approval of the agreement. ------> 0.8601036269430054\n",
      "=== Urbanization === ------> 0.0051813471502590676\n",
      "According to IBGE (Brazilian Institute of Geography and Statistics) urban areas already concentrate 84.35% of the population, while the Southeast region remains the most populated one, with over 80 million inhabitants. ------> 1.3523316062176167\n",
      "The largest urban agglomerations in Brazil are São Paulo, Rio de Janeiro, and Belo Horizonte – all in the Southeastern Region – with 21.1, 12.3, and 5.1 million inhabitants respectively. ------> 3.0000000000000004\n",
      "The majority of state capitals are the largest cities in their states, except for Vitória, the capital of Espírito Santo, and Florianópolis, the capital of Santa Catarina. ------> 1.3730569948186535\n",
      "=== Language === ------> 0.031088082901554404\n",
      "The official language of Brazil is Portuguese (Article 13 of the Constitution of the Federal Republic of Brazil), which almost all of the population speaks and is virtually the only language used in newspapers, radio, television, and for business and administrative purposes. ------> 3.7772020725388615\n",
      "Brazil is the only Portuguese-speaking nation in the Americas, making the language an important part of Brazilian national identity and giving it a national culture distinct from those of its Spanish-speaking neighbors.Brazilian Portuguese has had its own development, mostly similar to 16th-century Central and Southern dialects of European Portuguese (despite a very substantial number of Portuguese colonial settlers, and more recent immigrants, coming from Northern regions, and in minor degree Portuguese Macaronesia), with a few influences from the Amerindian and African languages, especially West African and Bantu restricted to the vocabulary only. ------> 4.025906735751297\n",
      "As a result, the language is somewhat different, mostly in phonology, from the language of Portugal and other Portuguese-speaking countries (the dialects of the other countries, partly because of the more recent end of Portuguese colonialism in these regions, have a closer connection to contemporary European Portuguese). ------> 1.6632124352331605\n",
      "These differences are comparable to those between American and British English.In 1990, the Community of Portuguese Language Countries (CPLP), which included representatives from all countries with Portuguese as the official language, reached an agreement on the reform of the Portuguese orthography to unify the two standards then in use by Brazil on one side and the remaining lusophone countries on the other. ------> 2.9844559585492236\n",
      "This spelling reform went into effect in Brazil on 1 January 2009. ------> 1.1243523316062176\n",
      "In Portugal, the reform was signed into law by the President on 21 July 2008 allowing for a six-year adaptation period, during which both orthographies will co-exist. ------> 0.5803108808290155\n",
      "The remaining CPLP countries are free to establish their own transition timetables.The sign language law legally recognized in 2002, (the law was regulated in 2005) the use of the Brazilian Sign Language, more commonly known by its Portuguese acronym LIBRAS, in education and government services. ------> 2.3108808290155447\n",
      "The language must be taught as a part of the education and speech and language pathology curricula. ------> 1.0259067357512954\n",
      "LIBRAS teachers, instructors and translators are recognized professionals. ------> 0.06217616580310881\n",
      "Schools and health services must provide access (\"inclusion\") to deaf people. ------> 0.2124352331606217\n",
      "Minority languages are spoken throughout the nation. ------> 0.09844559585492228\n",
      "One hundred and eighty Amerindian languages are spoken in remote areas and a significant number of other languages are spoken by immigrants and their descendants. ------> 0.37823834196891193\n",
      "In the municipality of São Gabriel da Cachoeira, Nheengatu (a currently endangered South American creole language – or an 'anti-creole', according to some linguists – with mostly Indigenous Brazilian languages lexicon and Portuguese-based grammar that, together with its southern relative língua geral paulista, once was a major lingua franca in Brazil, being replaced by Portuguese only after governmental prohibition led by major political changes), Baniwa and Tucano languages had been granted co-official status with Portuguese.There are significant communities of German (mostly the Brazilian Hunsrückisch, a High German language dialect) and Italian (mostly the Talian, a Venetian dialect) origins in the Southern and Southeastern regions, whose ancestors' native languages were carried along to Brazil, and which, still alive there, are influenced by the Portuguese language. ------> 5.8860103626943046\n",
      "Talian is officially a historic patrimony of Rio Grande do Sul, and two German dialects possess co-official status in a few municipalities. ------> 0.4041450777202073\n",
      "Italian is also recognized as ethnic language in the Santa Teresa microregion and Vila Velha (Espirito Santo state), and is taught as mandatory second language at school.Learning at least one second language (generally English or Spanish) is mandatory for all the 12 grades of the mandatory education system (primary and secondary education, there called ensino fundamental and ensino médio respectively). ------> 1.6683937823834203\n",
      "Brazil is the first country in South America to offer Esperanto to secondary students. ------> 1.829015544041451\n",
      "== Culture == ------> 0.0051813471502590676\n",
      "The core culture of Brazil is derived from Portuguese culture, because of its strong colonial ties with the Portuguese Empire. ------> 2.4922279792746123\n",
      "Among other influences, the Portuguese introduced the Portuguese language, Roman Catholicism and colonial architectural styles. ------> 0.9170984455958548\n",
      "The culture was, however, also strongly influenced by African, indigenous and non-Portuguese European cultures and traditions. ------> 1.2072538860103628\n",
      "Some aspects of Brazilian culture were influenced by the contributions of Italian, German and other European as well as Japanese, Jewish and Arab immigrants who arrived in large numbers in the South and Southeast of Brazil during the 19th and 20th centuries. ------> 2.119170984455959\n",
      "The Amerindians influenced Brazil's language and cuisine; and the Africans influenced language, cuisine, music, dance and religion.Brazilian art has developed since the 16th century into different styles that range from Baroque (the dominant style in Brazil until the early 19th century) to Romanticism, Modernism, Expressionism, Cubism, Surrealism and Abstractionism. ------> 3.751295336787566\n",
      "Brazilian cinema dates back to the birth of the medium in the late 19th century and has gained a new level of international acclaim since the 1960s. ------> 0.984455958549223\n",
      "=== Architecture === ------> 0.0051813471502590676\n",
      "The architecture of Brazil is influenced by Europe, especially Portugal. ------> 1.8860103626943006\n",
      "It has a history that goes back 500 years to the time when Pedro Cabral discovered Brazil in 1500. ------> 1.3989637305699483\n",
      "Portuguese colonial architecture was the first wave of architecture to go to Brazil. ------> 1.6580310880829017\n",
      "It is the basis for all Brazilian architecture of later centuries. ------> 0.7098445595854922\n",
      "In the 19th century during the time of the Empire of Brazil, Brazil followed European trends and adopted Neoclassical and Gothic Revival architecture. ------> 2.7461139896373057\n",
      "Then in the 20th century especially in Brasília, Brazil experimented with Modernist architecture. ------> 1.2746113989637307\n",
      "The colonial architecture of Brazil dates to the early 16th century when Brazil was first explored, conquered and settled by the Portuguese. ------> 3.414507772020725\n",
      "The Portuguese built architecture familiar to them in Europe in their aim to colonize Brazil. ------> 2.1036269430051817\n",
      "They built Portuguese colonial architecture which included churches, civic architecture including houses and forts in Brazilian cities and the countryside. ------> 1.1917098445595857\n",
      "During 19th century Brazilian architecture saw the introduction of more European styles to Brazil such as Neoclassical and Gothic Revival architecture. ------> 1.9430051813471505\n",
      "This was usually mixed with Brazilian influences from their own heritage which produced a unique form of Brazilian architecture. ------> 1.2797927461139897\n",
      "In the 1950s the modernist architecture was introduced when Brasília was built as new federal capital in the interior of Brazil to help develop the interior. ------> 1.683937823834197\n",
      "The architect Oscar Niemeyer idealized and built government buildings, churches and civic buildings in the modernist style. ------> 0.9222797927461143\n",
      "=== Music === ------> 0.0051813471502590676\n",
      "The music of Brazil was formed mainly from the fusion of European and African elements. ------> 1.9015544041450778\n",
      "Until the nineteenth century, Portugal was the gateway to most of the influences that built Brazilian music, although many of these elements were not of Portuguese origin, but generally European. ------> 1.3989637305699483\n",
      "The first was José Maurício Nunes Garcia, author of sacred pieces with influence of Viennese classicism. ------> 0.8808290155440417\n",
      "The major contribution of the African element was the rhythmic diversity and some dances and instruments that had a bigger role in the development of popular music and folk, flourishing especially in the twentieth century.Popular music since the late eighteenth century began to show signs of forming a characteristically Brazilian sound, with samba considered the most typical and on the UNESCO cultural heritage list. ------> 2.020725388601037\n",
      "Maracatu and Afoxê are two Afro-Brazilian music traditions that have been popularized by their appearance in the annual Brazilian Carnivals. ------> 0.694300518134715\n",
      "The sport of capoeira is usually played with its own music referred to as capoeira music, which is usually considered to be a call-and-response type of folk music. ------> 0.989637305699482\n",
      "Forró is a type of folk music prominent during the Festa Junina in northeastern Brazil. ------> 1.1398963730569949\n",
      "Jack A. Draper III, a professor of Portuguese at the University of Missouri, argues that Forró was used as a way to subdue feelings of nostalgia for a rural lifestyle.Choro is a very popular music instrumental style. ------> 0.6165803108808291\n",
      "Its origins are in 19th-century Rio de Janeiro. ------> 0.533678756476684\n",
      "In spite of the name, the style often has a fast and happy rhythm, characterized by virtuosity, improvisation, subtle modulations and full of syncopation and counterpoint. ------> 0.4300518134715027\n",
      "Bossa nova is also a well-known style of Brazilian music developed and popularized in the 1950s and 1960s. ------> 0.8601036269430054\n",
      "The phrase \"bossa nova\" means literally \"new trend\". ------> 0.7823834196891194\n",
      "A lyrical fusion of samba and jazz, bossa nova acquired a large following starting in the 1960s. ------> 0.18134715025906736\n",
      "=== Literature === ------> 0.0051813471502590676\n",
      "Brazilian literature dates back to the 16th century, to the writings of the first Portuguese explorers in Brazil, such as Pêro Vaz de Caminha, filled with descriptions of fauna, flora and commentary about the indigenous population that fascinated European readers.Brazil produced significant works in Romanticism – novelists like Joaquim Manuel de Macedo and José de Alencar wrote novels about love and pain. ------> 3.5129533678756486\n",
      "Alencar, in his long career, also treated indigenous people as heroes in the Indigenist novels O Guarani, Iracema and Ubirajara. ------> 0.4455958549222798\n",
      "Machado de Assis, one of his contemporaries, wrote in virtually all genres and continues to gain international prestige from critics worldwide.Brazilian Modernism, evidenced by the Week of Modern Art in 1922, was concerned with a nationalist avant-garde literature, while Post-Modernism brought a generation of distinct poets like João Cabral de Melo Neto, Carlos Drummond de Andrade, Vinicius de Moraes, Cora Coralina, Graciliano Ramos, Cecília Meireles, and internationally known writers dealing with universal and regional subjects like Jorge Amado, João Guimarães Rosa, Clarice Lispector and Manuel Bandeira. ------> 1.9430051813471507\n",
      "=== Cuisine === ------> 0.0051813471502590676\n",
      "Brazilian cuisine varies greatly by region, reflecting the country's varying mix of indigenous and immigrant populations. ------> 1.1088082901554406\n",
      "This has created a national cuisine marked by the preservation of regional differences. ------> 0.25388601036269426\n",
      "Examples are feijoada, considered the country's national dish; and regional foods such as beiju, feijão tropeiro, vatapá, moqueca, polenta (from Italian cuisine) and acarajé (from African cuisine).The national beverage is coffee and cachaça is Brazil's native liquor. ------> 1.9170984455958553\n",
      "Cachaça is distilled from sugar cane and is the main ingredient in the national cocktail, caipirinha.A typical meal consists mostly of rice and beans with beef, salad, french fries and a fried egg. ------> 0.3678756476683938\n",
      "Often, it is mixed with cassava flour (farofa). ------> 0.05699481865284974\n",
      "Fried potatoes, fried cassava, fried banana, fried meat and fried cheese are very often eaten in lunch and served in most typical restaurants. ------> 0.23834196891191708\n",
      "Popular snacks are pastel (a fried pastry); coxinha (a variation of chicken croquete); pão de queijo (cheese bread and cassava flour / tapioca); pamonha (corn and milk paste); esfirra (a variation of Lebanese pastry); kibbeh (from Arabic cuisine); empanada (pastry) and empada, little salt pies filled with shrimps or heart of palm. ------> 0.6062176165803113\n",
      "Brazil has a variety of desserts such as brigadeiros (chocolate fudge balls), bolo de rolo (roll cake with goiabada), cocada (a coconut sweet), beijinhos (coconut truffles and clove) and romeu e julieta (cheese with goiabada). ------> 1.4041450777202078\n",
      "Peanuts are used to make paçoca, rapadura and pé-de-moleque. ------> 0.07253886010362695\n",
      "Local common fruits like açaí, cupuaçu, mango, papaya, cocoa, cashew, guava, orange, lime, passionfruit, pineapple, and hog plum are turned in juices and used to make chocolates, ice pops and ice cream. ------> 0.3626943005181348\n",
      "=== Cinema === ------> 0.010362694300518135\n",
      "The Brazilian film industry began in the late 19th century, during the early days of the Belle Époque. ------> 1.4818652849740934\n",
      "While there were national film productions during the early 20th century, American films such as Rio the Magnificent were made in Rio de Janeiro to promote tourism in the city. ------> 1.1502590673575128\n",
      "The films Limite (1931) and Ganga Bruta (1933), the latter being produced by Adhemar Gonzaga through the prolific studio Cinédia, were poorly received at release and failed at the box office, but are acclaimed nowadays and placed among the finest Brazilian films of all time. ------> 1.5129533678756482\n",
      "The 1941 unfinished film It's All True was divided in four segments, two of which were filmed in Brazil and directed by Orson Welles; it was originally produced as part of the United States' Good Neighbor Policy during Getúlio Vargas' Estado Novo government. ------> 2.3886010362694314\n",
      "During the 1960s, the Cinema Novo movement rose to prominence with directors such as Glauber Rocha, Nelson Pereira dos Santos, Paulo César Saraceni and Arnaldo Jabor. ------> 0.24352331606217617\n",
      "Rocha's films Deus e o Diabo na Terra do Sol (1964) and Terra em Transe (1967) are considered to be some of the greatest and most influential in Brazilian film history.During the 1990s, Brazil saw a surge of critical and commercial success with films such as O Quatrilho (Fábio Barreto, 1995), O Que É Isso, Companheiro? ------> 1.9119170984455962\n",
      "(Bruno Barreto, 1997) and Central do Brasil (Walter Salles, 1998), all of which were nominated for the Academy Award for Best Foreign Language Film, the latter receiving a Best Actress nomination for Fernanda Montenegro. ------> 0.2590673575129534\n",
      "The 2002 crime film City of God, directed by Fernando Meirelles, was critically acclaimed, scoring 90% on Rotten Tomatoes, being placed in Roger Ebert's Best Films of the Decade list and receiving four Academy Award nominations in 2004, including Best Director. ------> 1.0155440414507777\n",
      "Notable film festivals in Brazil include the São Paulo and Rio de Janeiro International Film Festivals and the Gramado Festival. ------> 1.8031088082901554\n",
      "=== Theatre === ------> 0.0051813471502590676\n",
      "The theatre in Brazil has its origins in the period of Jesuit expansion when theater was used for the dissemination of Catholic doctrine in the 16th century. ------> 1.9585492227979275\n",
      "in the 17th and 18th centuries the first dramatists who appeared on the scene of European derivation was for court or private performances. ------> 0.3471502590673575\n",
      "During the 19th century, dramatic theater gained importance and thickness, whose first representative was Luís Carlos Martins Pena (1813–1848), capable of describing contemporary reality. ------> 0.4404145077720208\n",
      "Always in this period the comedy of costume and comic production was imposed. ------> 0.1243523316062176\n",
      "Significant, also in the nineteenth century, was also the playwright Antônio Gonçalves Dias. ------> 0.6476683937823835\n",
      "There were also numerous operas and orchestras. ------> 0.305699481865285\n",
      "The Brazilian conductor Antônio Carlos Gomes became internationally known with operas like Il Guarany. ------> 1.3937823834196892\n",
      "At the end of the 19th century orchestrated dramaturgias became very popular and were accompanied with songs of famous artists like the conductress Chiquinha Gonzaga.Already in the early 20th century there was the presence of theaters, entrepreneurs and actor companies, but paradoxically the quality of the products staggered, and only in 1940 the Brazilian theater received a boost of renewal thanks to the action of Paschoal Carlos Magno and his student's theater, the comedians group and the Italian actors Adolfo Celi, Ruggero Jacobbi and Aldo Calvo, founders of the Teatro Brasileiro de Comedia. ------> 1.7202072538860114\n",
      "From the 1960s it was attended by a theater dedicated to social and religious issues and to the flourishing of schools of dramatic art. ------> 0.2124352331606218\n",
      "The most prominent authors at this stage were Jorge Andrade and Ariano Suassuna. ------> 0.6943005181347153\n",
      "=== Visual arts === ------> 0.02590673575129534\n",
      "Brazilian painting emerged in the late 16th century, influenced by Baroque, Rococo, Neoclassicism, Romanticism, Realism, Modernism, Expressionism, Surrealism, Cubism and Abstracionism making it a major art style called Brazilian academic art. ------> 1.5699481865284979\n",
      "The Missão Artística Francesa (French Artistic Mission) arrived in Brazil in 1816 proposing the creation of an art academy modeled after the respected Académie des Beaux-Arts, with graduation courses both for artists and craftsmen for activities such as modeling, decorating, carpentry and others and bringing artists like Jean-Baptiste Debret.Upon the creation of the Imperial Academy of Fine Arts, new artistic movements spread across the country during the 19th century and later the event called Week of Modern Art broke definitely with academic tradition in 1922 and started a nationalist trend which was influenced by modernist arts. ------> 3.0984455958549235\n",
      "Among the best-known Brazilian painters are Ricardo do Pilar and Manuel da Costa Ataíde (baroque and rococo), Victor Meirelles, Pedro Américo and Almeida Junior (romanticism and realism), Anita Malfatti, Ismael Nery, Lasar Segall, Emiliano di Cavalcanti, Vicente do Rego Monteiro, and Tarsila do Amaral (expressionism, surrealism and cubism), Aldo Bonadei, José Pancetti and Cândido Portinari (modernism). ------> 0.8963730569948195\n",
      "=== Sports === ------> 0.0051813471502590676\n",
      "The most popular sport in Brazil is football. ------> 1.7305699481865287\n",
      "The Brazilian men's national team is ranked among the best in the world according to the FIFA World Rankings, and has won the World Cup tournament a record five times.Volleyball, basketball, futsal, auto racing, and martial arts also attract large audiences. ------> 2.492227979274612\n",
      "The Brazil men's national volleyball team, for example, currently holds the titles of the World League, World Grand Champions Cup, World Championship and the World Cup. ------> 2.331606217616581\n",
      "In auto racing, three Brazilian drivers have won the Formula One world championship eight times.Some sport variations have their origins in Brazil: beach football, futsal (indoor football) and footvolley emerged in Brazil as variations of football. ------> 3.3886010362694305\n",
      "In martial arts, Brazilians developed Capoeira, Vale tudo, and Brazilian jiu-jitsu.Brazil has hosted several high-profile international sporting events, like the 1950 FIFA World Cup and recently has hosted the 2014 FIFA World Cup and 2019 Copa América. ------> 1.5233160621761659\n",
      "The São Paulo circuit, Autódromo José Carlos Pace, hosts the annual Grand Prix of Brazil. ------> 1.9637305699481868\n",
      "São Paulo organized the IV Pan American Games in 1963, and Rio de Janeiro hosted the XV Pan American Games in 2007. ------> 0.9481865284974094\n",
      "On 2 October 2009, Rio de Janeiro was selected to host the 2016 Olympic Games and 2016 Paralympic Games, making it the first South American city to host the games and second in Latin America, after Mexico City. ------> 1.3264248704663215\n",
      "Furthermore, the country hosted the FIBA Basketball World Cups in 1954 and 1963. ------> 0.5906735751295338\n",
      "At the 1963 event, the Brazil national basketball team won one of its two world championship titles. ------> 1.683937823834197\n",
      "Some of the most famous athletes in the history of Brazil are: César Cielo, Ricardo Prado, Gustavo Borges and Ana Marcela Cunha in swimming; Maria Esther Bueno, Gustavo Kuerten, Marcelo Melo and Bruno Soares in tennis; Ayrton Senna, Emerson Fittipaldi, Rubens Barrichello, Nelson Piquet and Felipe Massa in Formula 1; Oscar Schmidt and Hortência Marcari in basketball; Torben Grael and Robert Scheidt in sailing; Arthur Zanetti in artistic gymnastics; Éder Jofre and Acelino Freitas in boxing; Adhemar Ferreira da Silva, Joaquim Cruz, Maurren Maggi in athletics; Rodrigo Pessoa in equestrian; Aurélio Miguel, Sarah Menezes and Rogério Sampaio in judo; Isaquias Queiroz in canoeing; Bob Burnquist and Sandro Dias in skateboard;  Falcão in futsal; Gabriel Medina in surf; Sandra Pires, Jackie Silva, Emanuel Rego, Ricardo Santos, Bruno Oscar Schmidt, Alison Cerutti in beach volleyball; Anderson Silva, José Aldo,  Rodrigo Minotauro, Vitor Belfort, Lyoto Machida, Royce Gracie, Amanda Nunes in  MMA. ------> 2.0880829015544076\n",
      "Until the 2016 Olympic Games, Brazil had won 129 medals in the history of the Olympic Games, all in the summer editions. ------> 1.2020725388601037\n",
      "There are 30 gold, 36 silver and 63 bronze medals, making it the South American country with the best record in modern Olympic Games history and the 4th largest winner of the Americas behind only the United States, Canada and Cuba, respectively. ------> 1.362694300518135\n",
      "It's also one of the few countries to have an athlete who received the Pierre de Coubertin medal: Vanderlei Cordeiro de Lima. ------> 1.1347150259067358\n",
      "The country has already won Olympic gold medals in 11 different sports: sailing, athletics, volleyball, judo, beach volleyball, soccer, swimming, shooting, gymnastics, boxing and equestrian. ------> 1.383419689119172\n",
      "=== National holidays === ------> 0.08808290155440415\n",
      "== See also == ------> 0.23834196891191708\n",
      "Index of Brazil-related articles ------> 0.02590673575129534\n",
      "Outline of Brazil ------> 1.005181347150259\n",
      "== Notes == ------> 0.0051813471502590676\n",
      "== References == ------> 0.0051813471502590676\n",
      "== Bibliography == ------> 0.0051813471502590676\n",
      "== Further reading == ------> 0.010362694300518135\n",
      "== External links == ------> 0.015544041450777202\n",
      "Government ------> 0.015544041450777202\n",
      "Brazilian Federal Government ------> 0.6217616580310881\n",
      "Official Tourist Guide of Brazil ------> 1.0155440414507773\n",
      "Brazilian Institute of Geography and Statistics ------> 0.5388601036269431\n",
      " Wikimedia Atlas of Brazil ------> 1.0103626943005182\n",
      " Geographic data related to Brazil at OpenStreetMap ------> 1.0310880829015545\n"
     ]
    }
   ],
   "source": [
    "sentence_scores = {}\n",
    "for sent in wiki_sent:\n",
    "    for word in word_tokenize(sent):\n",
    "        if word in word_frequencies.keys():\n",
    "            if(sent not in sentence_scores.keys()):\n",
    "                sentence_scores[sent] = word_frequencies[word]\n",
    "            else:\n",
    "                sentence_scores[sent] += word_frequencies[word]\n",
    "for sent in sentence_scores.keys():\n",
    "    print(sent, '------>', sentence_scores[sent])"
   ]
  },
  {
   "cell_type": "code",
   "execution_count": 109,
   "metadata": {
    "collapsed": true,
    "jupyter": {
     "outputs_hidden": true
    }
   },
   "outputs": [
    {
     "name": "stderr",
     "output_type": "stream",
     "text": [
      "C:\\Users\\Lucas\\anaconda3\\lib\\site-packages\\ipykernel\\ipkernel.py:287: DeprecationWarning: `should_run_async` will not call `transform_cell` automatically in the future. Please pass the result to `transformed_cell` argument and any exception that happen during thetransform in `preprocessing_exc_tuple` in IPython 7.17 and above.\n",
      "  and should_run_async(code)\n"
     ]
    },
    {
     "data": {
      "text/html": [
       "\n",
       "  <style>\n",
       "    pre {\n",
       "        white-space: pre-wrap;\n",
       "    }\n",
       "  </style>\n",
       "  "
      ],
      "text/plain": [
       "<IPython.core.display.HTML object>"
      ]
     },
     "metadata": {},
     "output_type": "display_data"
    },
    {
     "name": "stdout",
     "output_type": "stream",
     "text": [
      "['Brazil (Portuguese: Brasil; Brazilian Portuguese: [bɾaˈziw]), officially the Federative Republic of Brazil (Portuguese: República Federativa do Brasil), is the largest country in both South America and Latin America.', 'Throughout the 16th century, massive amounts of brazilwood were harvested by indigenous peoples (mostly Tupi) along the Brazilian coast, who sold the timber to European traders (mostly Portuguese, but also French) in return for assorted European consumer goods.The official Portuguese name of the land, in original Portuguese records, was the \"Land of the Holy Cross\" (Terra da Santa Cruz), but European sailors and merchants commonly called it simply the \"Land of Brazil\" (Terra do Brasil) because of the brazilwood trade.', \"In this era other European powers tried to colonize parts of Brazil, in incursions that the Portuguese had to fight, notably the French in Rio during the 1560s, in Maranhão during the 1610s, and the Dutch in Bahia and Pernambuco, during the Dutch–Portuguese War, after the end of Iberian Union.The Portuguese colonial administration in Brazil had two objectives that would ensure colonial order and the monopoly of Portugal's wealthiest and largest colony: to keep under control and eradicate all forms of slave rebellion and resistance, such as the Quilombo of Palmares, and to repress all movements for autonomy or independence, such as the Minas Conspiracy.\", \"Brazil's international relations are based on Article 4 of the Federal Constitution, which establishes non-intervention, self-determination, international cooperation and the peaceful settlement of conflicts as the guiding principles of Brazil's relationship with other countries and multilateral organizations.According to the Constitution, the President has ultimate authority over foreign policy, while the Congress is tasked with reviewing and considering all diplomatic nominations and international treaties, as well as legislation relating to Brazilian foreign policy.Brazil's foreign policy is a by-product of the country's position as a regional power in Latin America, a leader among developing countries, and an emerging world power.\", 'Brazil is the largest producer of sugarcane, soy, coffee, orange, guaraná, açaí and Brazil nut; is one of the top 5 producers of maize, papaya, tobacco, pineapple, banana, cotton, beans, coconut, watermelon and lemon; is one of the top 10 world producers of cocoa, cashew, avocado, tangerine, persimmon, mango, guava, rice, sorghum and tomato; and is one of the top 15 world producers of grape, apple, melon, peanut, fig, peach, onion, palm oil and natural rubber.', \"It was also the second largest producer of beef, the world's third largest producer of milk, the world's fourth largest producer of pork and the seventh largest producer of eggs in the world.In the mining sector, Brazil stands out in the extraction of iron ore (where it is the second world exporter), copper, gold, bauxite (one of the 5 largest producers in the world), manganese (one of the 5 largest producers in the world), tin (one of the largest producers in the world), niobium (concentrates 98% of reserves known to the world) and nickel.\", \"Uranium is enriched at the Resende Nuclear Fuel Factory, mostly for research purposes (as Brazil obtains 88% from its electricity from hydroelectricity) and the country's first nuclear submarine was delivered in 2015 (by France).Brazil is one of the three countries in Latin America with an operational Synchrotron Laboratory, a research facility on physics, chemistry, material science and life sciences, and Brazil is the only Latin American country to have a semiconductor company with its own fabrication plant, the CEITEC.\", \"According to the Global Information Technology Report 2009-2010 of the World Economic Forum, Brazil is the world's 61st largest developer of information technology.Among the most renowned Brazilian inventors are priests Bartolomeu de Gusmão, Landell de Moura and Francisco João de Azevedo, besides Alberto Santos-Dumont, Evaristo Conrado Engelberg, Manuel Dias de Abreu, Andreas Pavel and Nélio José Nicolai.Brazilian science is represented by the likes of César Lattes (Brazilian physicist Pathfinder of Pi Meson), Mário Schenberg (considered the greatest theoretical physicist of Brazil), José Leite Lopes (only Brazilian physicist holder of the UNESCO Science Prize), Artur Ávila (the first Latin American winner of the Fields Medal) and Fritz Müller (pioneer in factual support of the theory of evolution by Charles Darwin).\", 'Brazil is the only Portuguese-speaking nation in the Americas, making the language an important part of Brazilian national identity and giving it a national culture distinct from those of its Spanish-speaking neighbors.Brazilian Portuguese has had its own development, mostly similar to 16th-century Central and Southern dialects of European Portuguese (despite a very substantial number of Portuguese colonial settlers, and more recent immigrants, coming from Northern regions, and in minor degree Portuguese Macaronesia), with a few influences from the Amerindian and African languages, especially West African and Bantu restricted to the vocabulary only.', \"In the municipality of São Gabriel da Cachoeira, Nheengatu (a currently endangered South American creole language – or an 'anti-creole', according to some linguists – with mostly Indigenous Brazilian languages lexicon and Portuguese-based grammar that, together with its southern relative língua geral paulista, once was a major lingua franca in Brazil, being replaced by Portuguese only after governmental prohibition led by major political changes), Baniwa and Tucano languages had been granted co-official status with Portuguese.There are significant communities of German (mostly the Brazilian Hunsrückisch, a High German language dialect) and Italian (mostly the Talian, a Venetian dialect) origins in the Southern and Southeastern regions, whose ancestors' native languages were carried along to Brazil, and which, still alive there, are influenced by the Portuguese language.\"]\n"
     ]
    }
   ],
   "source": [
    "import heapq\n",
    "summary_sentences = heapq.nlargest(10, sentence_scores, key=sentence_scores.get)\n",
    "sorted_summary = [sentence for sentence in wiki_sent if sentence in summary_sentences]\n",
    "print(sorted_summary)"
   ]
  },
  {
   "cell_type": "code",
   "execution_count": 110,
   "metadata": {
    "collapsed": true,
    "jupyter": {
     "outputs_hidden": true
    }
   },
   "outputs": [
    {
     "name": "stderr",
     "output_type": "stream",
     "text": [
      "C:\\Users\\Lucas\\anaconda3\\lib\\site-packages\\ipykernel\\ipkernel.py:287: DeprecationWarning: `should_run_async` will not call `transform_cell` automatically in the future. Please pass the result to `transformed_cell` argument and any exception that happen during thetransform in `preprocessing_exc_tuple` in IPython 7.17 and above.\n",
      "  and should_run_async(code)\n"
     ]
    },
    {
     "data": {
      "text/html": [
       "\n",
       "  <style>\n",
       "    pre {\n",
       "        white-space: pre-wrap;\n",
       "    }\n",
       "  </style>\n",
       "  "
      ],
      "text/plain": [
       "<IPython.core.display.HTML object>"
      ]
     },
     "metadata": {},
     "output_type": "display_data"
    },
    {
     "name": "stdout",
     "output_type": "stream",
     "text": [
      "Brazil (Portuguese: Brasil; Brazilian Portuguese: [bɾaˈziw]), officially the Federative Republic of Brazil (Portuguese: República Federativa do Brasil), is the largest country in both South America and Latin America. Throughout the 16th century, massive amounts of brazilwood were harvested by indigenous peoples (mostly Tupi) along the Brazilian coast, who sold the timber to European traders (mostly Portuguese, but also French) in return for assorted European consumer goods.The official Portuguese name of the land, in original Portuguese records, was the \"Land of the Holy Cross\" (Terra da Santa Cruz), but European sailors and merchants commonly called it simply the \"Land of Brazil\" (Terra do Brasil) because of the brazilwood trade. In this era other European powers tried to colonize parts of Brazil, in incursions that the Portuguese had to fight, notably the French in Rio during the 1560s, in Maranhão during the 1610s, and the Dutch in Bahia and Pernambuco, during the Dutch–Portuguese War, after the end of Iberian Union.The Portuguese colonial administration in Brazil had two objectives that would ensure colonial order and the monopoly of Portugal's wealthiest and largest colony: to keep under control and eradicate all forms of slave rebellion and resistance, such as the Quilombo of Palmares, and to repress all movements for autonomy or independence, such as the Minas Conspiracy. Brazil's international relations are based on Article 4 of the Federal Constitution, which establishes non-intervention, self-determination, international cooperation and the peaceful settlement of conflicts as the guiding principles of Brazil's relationship with other countries and multilateral organizations.According to the Constitution, the President has ultimate authority over foreign policy, while the Congress is tasked with reviewing and considering all diplomatic nominations and international treaties, as well as legislation relating to Brazilian foreign policy.Brazil's foreign policy is a by-product of the country's position as a regional power in Latin America, a leader among developing countries, and an emerging world power. Brazil is the largest producer of sugarcane, soy, coffee, orange, guaraná, açaí and Brazil nut; is one of the top 5 producers of maize, papaya, tobacco, pineapple, banana, cotton, beans, coconut, watermelon and lemon; is one of the top 10 world producers of cocoa, cashew, avocado, tangerine, persimmon, mango, guava, rice, sorghum and tomato; and is one of the top 15 world producers of grape, apple, melon, peanut, fig, peach, onion, palm oil and natural rubber. It was also the second largest producer of beef, the world's third largest producer of milk, the world's fourth largest producer of pork and the seventh largest producer of eggs in the world.In the mining sector, Brazil stands out in the extraction of iron ore (where it is the second world exporter), copper, gold, bauxite (one of the 5 largest producers in the world), manganese (one of the 5 largest producers in the world), tin (one of the largest producers in the world), niobium (concentrates 98% of reserves known to the world) and nickel. Uranium is enriched at the Resende Nuclear Fuel Factory, mostly for research purposes (as Brazil obtains 88% from its electricity from hydroelectricity) and the country's first nuclear submarine was delivered in 2015 (by France).Brazil is one of the three countries in Latin America with an operational Synchrotron Laboratory, a research facility on physics, chemistry, material science and life sciences, and Brazil is the only Latin American country to have a semiconductor company with its own fabrication plant, the CEITEC. According to the Global Information Technology Report 2009-2010 of the World Economic Forum, Brazil is the world's 61st largest developer of information technology.Among the most renowned Brazilian inventors are priests Bartolomeu de Gusmão, Landell de Moura and Francisco João de Azevedo, besides Alberto Santos-Dumont, Evaristo Conrado Engelberg, Manuel Dias de Abreu, Andreas Pavel and Nélio José Nicolai.Brazilian science is represented by the likes of César Lattes (Brazilian physicist Pathfinder of Pi Meson), Mário Schenberg (considered the greatest theoretical physicist of Brazil), José Leite Lopes (only Brazilian physicist holder of the UNESCO Science Prize), Artur Ávila (the first Latin American winner of the Fields Medal) and Fritz Müller (pioneer in factual support of the theory of evolution by Charles Darwin). Brazil is the only Portuguese-speaking nation in the Americas, making the language an important part of Brazilian national identity and giving it a national culture distinct from those of its Spanish-speaking neighbors.Brazilian Portuguese has had its own development, mostly similar to 16th-century Central and Southern dialects of European Portuguese (despite a very substantial number of Portuguese colonial settlers, and more recent immigrants, coming from Northern regions, and in minor degree Portuguese Macaronesia), with a few influences from the Amerindian and African languages, especially West African and Bantu restricted to the vocabulary only. In the municipality of São Gabriel da Cachoeira, Nheengatu (a currently endangered South American creole language – or an 'anti-creole', according to some linguists – with mostly Indigenous Brazilian languages lexicon and Portuguese-based grammar that, together with its southern relative língua geral paulista, once was a major lingua franca in Brazil, being replaced by Portuguese only after governmental prohibition led by major political changes), Baniwa and Tucano languages had been granted co-official status with Portuguese.There are significant communities of German (mostly the Brazilian Hunsrückisch, a High German language dialect) and Italian (mostly the Talian, a Venetian dialect) origins in the Southern and Southeastern regions, whose ancestors' native languages were carried along to Brazil, and which, still alive there, are influenced by the Portuguese language.\n"
     ]
    }
   ],
   "source": [
    "summary = ' '.join(sorted_summary)\n",
    "print(summary)"
   ]
  },
  {
   "cell_type": "markdown",
   "metadata": {},
   "source": [
    "### Analise de Sentimentos"
   ]
  },
  {
   "cell_type": "code",
   "execution_count": 111,
   "metadata": {},
   "outputs": [
    {
     "name": "stderr",
     "output_type": "stream",
     "text": [
      "C:\\Users\\Lucas\\anaconda3\\lib\\site-packages\\ipykernel\\ipkernel.py:287: DeprecationWarning: `should_run_async` will not call `transform_cell` automatically in the future. Please pass the result to `transformed_cell` argument and any exception that happen during thetransform in `preprocessing_exc_tuple` in IPython 7.17 and above.\n",
      "  and should_run_async(code)\n"
     ]
    },
    {
     "data": {
      "text/html": [
       "\n",
       "  <style>\n",
       "    pre {\n",
       "        white-space: pre-wrap;\n",
       "    }\n",
       "  </style>\n",
       "  "
      ],
      "text/plain": [
       "<IPython.core.display.HTML object>"
      ]
     },
     "metadata": {},
     "output_type": "display_data"
    }
   ],
   "source": [
    "from nltk.sentiment.vader import SentimentIntensityAnalyzer\n",
    "from nltk.tokenize import sent_tokenize\n",
    "import nltk"
   ]
  },
  {
   "cell_type": "code",
   "execution_count": 112,
   "metadata": {
    "collapsed": true,
    "jupyter": {
     "outputs_hidden": true
    }
   },
   "outputs": [
    {
     "name": "stderr",
     "output_type": "stream",
     "text": [
      "C:\\Users\\Lucas\\anaconda3\\lib\\site-packages\\ipykernel\\ipkernel.py:287: DeprecationWarning: `should_run_async` will not call `transform_cell` automatically in the future. Please pass the result to `transformed_cell` argument and any exception that happen during thetransform in `preprocessing_exc_tuple` in IPython 7.17 and above.\n",
      "  and should_run_async(code)\n"
     ]
    },
    {
     "data": {
      "text/html": [
       "\n",
       "  <style>\n",
       "    pre {\n",
       "        white-space: pre-wrap;\n",
       "    }\n",
       "  </style>\n",
       "  "
      ],
      "text/plain": [
       "<IPython.core.display.HTML object>"
      ]
     },
     "metadata": {},
     "output_type": "display_data"
    },
    {
     "name": "stderr",
     "output_type": "stream",
     "text": [
      "[nltk_data] Downloading package punkt to\n",
      "[nltk_data]     C:\\Users\\Lucas\\AppData\\Roaming\\nltk_data...\n",
      "[nltk_data]   Package punkt is already up-to-date!\n",
      "[nltk_data] Downloading package vader_lexicon to\n",
      "[nltk_data]     C:\\Users\\Lucas\\AppData\\Roaming\\nltk_data...\n",
      "[nltk_data]   Package vader_lexicon is already up-to-date!\n"
     ]
    },
    {
     "data": {
      "text/plain": [
       "True"
      ]
     },
     "execution_count": 112,
     "metadata": {},
     "output_type": "execute_result"
    }
   ],
   "source": [
    "nltk.download('punkt')\n",
    "nltk.download('vader_lexicon')"
   ]
  },
  {
   "cell_type": "code",
   "execution_count": 113,
   "metadata": {},
   "outputs": [
    {
     "name": "stderr",
     "output_type": "stream",
     "text": [
      "C:\\Users\\Lucas\\anaconda3\\lib\\site-packages\\ipykernel\\ipkernel.py:287: DeprecationWarning: `should_run_async` will not call `transform_cell` automatically in the future. Please pass the result to `transformed_cell` argument and any exception that happen during thetransform in `preprocessing_exc_tuple` in IPython 7.17 and above.\n",
      "  and should_run_async(code)\n"
     ]
    },
    {
     "data": {
      "text/html": [
       "\n",
       "  <style>\n",
       "    pre {\n",
       "        white-space: pre-wrap;\n",
       "    }\n",
       "  </style>\n",
       "  "
      ],
      "text/plain": [
       "<IPython.core.display.HTML object>"
      ]
     },
     "metadata": {},
     "output_type": "display_data"
    }
   ],
   "source": [
    "string = 'I read a book. The first three chapters were boring and depressive. Then the next 2 chapters were wonderful. I recommend this book to my friends.'"
   ]
  },
  {
   "cell_type": "code",
   "execution_count": 114,
   "metadata": {},
   "outputs": [
    {
     "name": "stderr",
     "output_type": "stream",
     "text": [
      "C:\\Users\\Lucas\\anaconda3\\lib\\site-packages\\ipykernel\\ipkernel.py:287: DeprecationWarning: `should_run_async` will not call `transform_cell` automatically in the future. Please pass the result to `transformed_cell` argument and any exception that happen during thetransform in `preprocessing_exc_tuple` in IPython 7.17 and above.\n",
      "  and should_run_async(code)\n"
     ]
    },
    {
     "data": {
      "text/html": [
       "\n",
       "  <style>\n",
       "    pre {\n",
       "        white-space: pre-wrap;\n",
       "    }\n",
       "  </style>\n",
       "  "
      ],
      "text/plain": [
       "<IPython.core.display.HTML object>"
      ]
     },
     "metadata": {},
     "output_type": "display_data"
    },
    {
     "data": {
      "text/plain": [
       "['I read a book.',\n",
       " 'The first three chapters were boring and depressive.',\n",
       " 'Then the next 2 chapters were wonderful.',\n",
       " 'I recommend this book to my friends.']"
      ]
     },
     "execution_count": 114,
     "metadata": {},
     "output_type": "execute_result"
    }
   ],
   "source": [
    "sent = sent_tokenize(string)\n",
    "sent"
   ]
  },
  {
   "cell_type": "code",
   "execution_count": 115,
   "metadata": {},
   "outputs": [
    {
     "name": "stderr",
     "output_type": "stream",
     "text": [
      "C:\\Users\\Lucas\\anaconda3\\lib\\site-packages\\ipykernel\\ipkernel.py:287: DeprecationWarning: `should_run_async` will not call `transform_cell` automatically in the future. Please pass the result to `transformed_cell` argument and any exception that happen during thetransform in `preprocessing_exc_tuple` in IPython 7.17 and above.\n",
      "  and should_run_async(code)\n"
     ]
    },
    {
     "data": {
      "text/html": [
       "\n",
       "  <style>\n",
       "    pre {\n",
       "        white-space: pre-wrap;\n",
       "    }\n",
       "  </style>\n",
       "  "
      ],
      "text/plain": [
       "<IPython.core.display.HTML object>"
      ]
     },
     "metadata": {},
     "output_type": "display_data"
    },
    {
     "name": "stdout",
     "output_type": "stream",
     "text": [
      "I read a book.\n",
      "neg : 0.0\n",
      "\n",
      "neu : 1.0\n",
      "\n",
      "pos : 0.0\n",
      "\n",
      "compound : 0.0\n",
      "\n",
      "The first three chapters were boring and depressive.\n",
      "neg : 0.45\n",
      "\n",
      "neu : 0.55\n",
      "\n",
      "pos : 0.0\n",
      "\n",
      "compound : -0.5994\n",
      "\n",
      "Then the next 2 chapters were wonderful.\n",
      "neg : 0.0\n",
      "\n",
      "neu : 0.575\n",
      "\n",
      "pos : 0.425\n",
      "\n",
      "compound : 0.5719\n",
      "\n",
      "I recommend this book to my friends.\n",
      "neg : 0.0\n",
      "\n",
      "neu : 0.417\n",
      "\n",
      "pos : 0.583\n",
      "\n",
      "compound : 0.6808\n",
      "\n"
     ]
    }
   ],
   "source": [
    "sa = SentimentIntensityAnalyzer()\n",
    "for sentence in sent:\n",
    "    print(sentence)\n",
    "    ps = sa.polarity_scores(sentence)\n",
    "    for n in ps:\n",
    "        print(n,':',ps[n])\n",
    "        print()"
   ]
  },
  {
   "cell_type": "code",
   "execution_count": 116,
   "metadata": {},
   "outputs": [
    {
     "name": "stderr",
     "output_type": "stream",
     "text": [
      "C:\\Users\\Lucas\\anaconda3\\lib\\site-packages\\ipykernel\\ipkernel.py:287: DeprecationWarning: `should_run_async` will not call `transform_cell` automatically in the future. Please pass the result to `transformed_cell` argument and any exception that happen during thetransform in `preprocessing_exc_tuple` in IPython 7.17 and above.\n",
      "  and should_run_async(code)\n"
     ]
    },
    {
     "data": {
      "text/html": [
       "\n",
       "  <style>\n",
       "    pre {\n",
       "        white-space: pre-wrap;\n",
       "    }\n",
       "  </style>\n",
       "  "
      ],
      "text/plain": [
       "<IPython.core.display.HTML object>"
      ]
     },
     "metadata": {},
     "output_type": "display_data"
    }
   ],
   "source": [
    "import pandas as pd"
   ]
  },
  {
   "cell_type": "code",
   "execution_count": 118,
   "metadata": {},
   "outputs": [
    {
     "name": "stderr",
     "output_type": "stream",
     "text": [
      "C:\\Users\\Lucas\\anaconda3\\lib\\site-packages\\ipykernel\\ipkernel.py:287: DeprecationWarning: `should_run_async` will not call `transform_cell` automatically in the future. Please pass the result to `transformed_cell` argument and any exception that happen during thetransform in `preprocessing_exc_tuple` in IPython 7.17 and above.\n",
      "  and should_run_async(code)\n"
     ]
    },
    {
     "data": {
      "text/html": [
       "\n",
       "  <style>\n",
       "    pre {\n",
       "        white-space: pre-wrap;\n",
       "    }\n",
       "  </style>\n",
       "  "
      ],
      "text/plain": [
       "<IPython.core.display.HTML object>"
      ]
     },
     "metadata": {},
     "output_type": "display_data"
    }
   ],
   "source": [
    "data = pd.read_csv('Tweets_Mg.csv')"
   ]
  },
  {
   "cell_type": "code",
   "execution_count": 120,
   "metadata": {},
   "outputs": [
    {
     "name": "stderr",
     "output_type": "stream",
     "text": [
      "C:\\Users\\Lucas\\anaconda3\\lib\\site-packages\\ipykernel\\ipkernel.py:287: DeprecationWarning: `should_run_async` will not call `transform_cell` automatically in the future. Please pass the result to `transformed_cell` argument and any exception that happen during thetransform in `preprocessing_exc_tuple` in IPython 7.17 and above.\n",
      "  and should_run_async(code)\n"
     ]
    },
    {
     "data": {
      "text/html": [
       "\n",
       "  <style>\n",
       "    pre {\n",
       "        white-space: pre-wrap;\n",
       "    }\n",
       "  </style>\n",
       "  "
      ],
      "text/plain": [
       "<IPython.core.display.HTML object>"
      ]
     },
     "metadata": {},
     "output_type": "display_data"
    },
    {
     "data": {
      "text/plain": [
       "0       ���⛪ @ Catedral de Santo Antônio - Governador ...\n",
       "1       � @ Governador Valadares, Minas Gerais https:/...\n",
       "2       �� @ Governador Valadares, Minas Gerais https:...\n",
       "3                             ��� https://t.co/BnDsO34qK0\n",
       "4       ��� PSOL vai questionar aumento de vereadores ...\n",
       "                              ...                        \n",
       "8194    Trio é preso suspeito de roubo, tráfico e abus...\n",
       "8195    Trio é preso suspeito de roubo, tráfico e abus...\n",
       "8196    Trio é preso suspeito de roubo, tráfico e abus...\n",
       "8197    Trio é preso suspeito de roubo, tráfico e abus...\n",
       "8198    Trio suspeito de roubo de cargas é preso em Sa...\n",
       "Name: Text, Length: 8199, dtype: object"
      ]
     },
     "execution_count": 120,
     "metadata": {},
     "output_type": "execute_result"
    }
   ],
   "source": [
    "data['Text']"
   ]
  }
 ],
 "metadata": {
  "kernelspec": {
   "display_name": "Python 3",
   "language": "python",
   "name": "python3"
  },
  "language_info": {
   "codemirror_mode": {
    "name": "ipython",
    "version": 3
   },
   "file_extension": ".py",
   "mimetype": "text/x-python",
   "name": "python",
   "nbconvert_exporter": "python",
   "pygments_lexer": "ipython3",
   "version": "3.8.5"
  }
 },
 "nbformat": 4,
 "nbformat_minor": 4
}
