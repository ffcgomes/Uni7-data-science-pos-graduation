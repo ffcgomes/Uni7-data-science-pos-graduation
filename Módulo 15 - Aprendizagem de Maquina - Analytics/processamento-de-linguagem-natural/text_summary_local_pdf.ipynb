{
  "nbformat": 4,
  "nbformat_minor": 0,
  "metadata": {
    "colab": {
      "name": "text-summary-local-pdf.ipynb",
      "provenance": []
    },
    "kernelspec": {
      "name": "python3",
      "display_name": "Python 3"
    }
  },
  "cells": [
    {
      "cell_type": "markdown",
      "metadata": {
        "id": "3Env6WLHCAwc"
      },
      "source": [
        "#Utilizando processamento de linguagem natural para criar um sumarização automática de textos\r\n"
      ]
    },
    {
      "cell_type": "code",
      "metadata": {
        "id": "LTWoEZZk_2wO"
      },
      "source": [
        "#! pip install nltk\r\n",
        "#! pip install beautifulsoup4"
      ],
      "execution_count": 32,
      "outputs": []
    },
    {
      "cell_type": "markdown",
      "metadata": {
        "id": "KDzG7ILunVRu"
      },
      "source": [
        "Recomendo que você faça o download dos seguintes pacotes:\r\n",
        "- averaged_perceptron_tagger\r\n",
        "- floresta\r\n",
        "- mac_morpho\r\n",
        "- machado\r\n",
        "- punkt\r\n",
        "- stopwords\r\n",
        "- wordnet\r\n",
        "- words"
      ]
    },
    {
      "cell_type": "code",
      "metadata": {
        "id": "IA67aEzEAs_h"
      },
      "source": [
        "import nltk\r\n",
        "#nltk.download()"
      ],
      "execution_count": 33,
      "outputs": []
    },
    {
      "cell_type": "markdown",
      "metadata": {
        "id": "IrqvnhvtB75c"
      },
      "source": [
        "###2- Abrir um arquivo de texto local\r\n"
      ]
    },
    {
      "cell_type": "code",
      "metadata": {
        "colab": {
          "base_uri": "https://localhost:8080/"
        },
        "id": "yODiOf_IChwG",
        "outputId": "4c3f545e-7793-4f51-f193-d95610119740"
      },
      "source": [
        "#pip install textract\r\n",
        "import textract\r\n",
        "texto = textract.process(\"/content/Material Adicional Cap-007.pdf\")\r\n",
        "print(texto)"
      ],
      "execution_count": 34,
      "outputs": [
        {
          "output_type": "stream",
          "text": [
            "b'Pathwork  Material  Adicional  No.  7 \\n9 de Agosto de 1973 \\n \\n \\nEsta \\xc3\\xa9 uma transmiss\\xc3\\xa3o do Guia, dada a mim para que seja escrita. Isto acontece ocasionalmente, e \\ntenho aprendido desde que o Guia se manifestou pela primeira vez a obedecer a forte press\\xc3\\xa3o que \\nn\\xc3\\xa3o relaxa at\\xc3\\xa9 que eu me entregue e siga. A press\\xc3\\xa3o come\\xc3\\xa7ou ontem \\xc3\\xa0 noite, quando ent\\xc3\\xa3o eu soube \\nque alguma mensagem estava vindo. Eva Pierrakos \\n \\n \\n                                                A MENSAGEM \\n \\n \\nEste \\xc3\\xa9 um esbo\\xc3\\xa7o, um tipo novo de desenho t\\xc3\\xa9cnico, para todos meus amigos no caminho. Isto os \\najudar\\xc3\\xa1  a  visualizar,  conceber  e  criar  dentro  deles  uma  nova  percep\\xc3\\xa7\\xc3\\xa3o  da  fun\\xc3\\xa7\\xc3\\xa3o  do  Centro  no \\nfuturo. \\n \\nPrimeiro  de  tudo  e  uma  vez  mais,  o  pr\\xc3\\xa9-requisito  b\\xc3\\xa1sico  para  a  realiza\\xc3\\xa7\\xc3\\xa3o  do  Plano  Divino  do \\nCentro \\xc3\\xa9 a continua\\xc3\\xa7\\xc3\\xa3o e o aprofundamento no pathwork de todos os indiv\\xc3\\xadduos e do grupo inteiro \\ncomo um todo. Conforme o trabalho prossegue, a honestidade, a exposi\\xc3\\xa7\\xc3\\xa3o, o enfrentar distor\\xc3\\xa7\\xc3\\xb5es \\ncom  realismo  proporcional,  verdadeiro,  sem  encobertamentos  e  posi\\xc3\\xa7\\xc3\\xb5es  defensivas  nem  auto-\\nrejei\\xc3\\xa7\\xc3\\xa3o exagerada possibilitar\\xc3\\xa1 a transforma\\xc3\\xa7\\xc3\\xa3o da consci\\xc3\\xaancia e da energia. \\n \\nO  Centro  deve  ser  um  o\\xc3\\xa1sis  de  purifica\\xc3\\xa7\\xc3\\xa3o  no  qual  s\\xc3\\xb3  entidades  altamente  desenvolvidas  podem \\nparticipar.  Problemas  graves  e  negatividade  n\\xc3\\xa3o  s\\xc3\\xa3o  necessariamente  um  sinal  de  falta  de \\ndesenvolvimento. Alto desenvolvimento pode ser medido unicamente pela capacidade da pessoa de \\nentender os ensinamentos espirituais e o pathwork como eu tenho o privil\\xc3\\xa9gio de ensinar. \\n \\nConforme a purifica\\xc3\\xa7\\xc3\\xa3o dos indiv\\xc3\\xadduos progride, o grupo respons\\xc3\\xa1vel pelo gerenciamento do Centro \\naprender\\xc3\\xa1  a  usar  o  mesmo  processo  para  resolver  os  problemas  e  as  dificuldades  em  todos  os \\nassuntos que surgirem. Voc\\xc3\\xaas j\\xc3\\xa1 come\\xc3\\xa7aram a faz\\xc3\\xaa-lo e isso \\xc3\\xa9 uma prova das b\\xc3\\xaan\\xc3\\xa7\\xc3\\xa3os cujos frutos \\nvoc\\xc3\\xaas  s\\xc3\\xb3  come\\xc3\\xa7am  a  colher  agora.  Por\\xc3\\xa9m,  mais  dever\\xc3\\xa1  acontecer.  Como  mencionei  antes,  deve \\nexistir a vigil\\xc3\\xa2ncia. Se sentimentos negativos, pensamentos e a\\xc3\\xa7\\xc3\\xb5es s\\xc3\\xa3o observados ou intuitivamente \\npercebidos  nos  outros,  por  algumas  pessoas,  isso  deve  sempre  ser  confrontado  e  trabalhado. \\nNenhum assunto \\xc3\\xa9 t\\xc3\\xa3o pequeno que n\\xc3\\xa3o mere\\xc3\\xa7a aten\\xc3\\xa7\\xc3\\xa3o total.. \\n \\nDeveria haver reuni\\xc3\\xb5es di\\xc3\\xa1rias, (\\xc3\\xa0s quais voc\\xc3\\xaas podem chamar de grupos de confronto) onde n\\xc3\\xa3o s\\xc3\\xb3 \\nas pessoas perturbadas, ansiosas ou infelizes que precisam de ajuda do grupo deveriam trabalhar mas \\no trabalho tamb\\xc3\\xa9m deveria ser feito confrontando aqueles que talvez sintam que nenhuma ajuda \\xc3\\xa9 \\nnecess\\xc3\\xa1ria no momento e que podem estar abstra\\xc3\\xaddos das suas express\\xc3\\xb5es negativas que s\\xc3\\xa3o notadas \\npor outros.  \\nQuanto mais e mais trabalho de transforma\\xc3\\xa7\\xc3\\xa3o for feito (medita\\xc3\\xa7\\xc3\\xa3o adequada), este tipo de atividade \\nn\\xc3\\xa3o ser\\xc3\\xa1 mais t\\xc3\\xa3o tediosa como foi no princ\\xc3\\xadpio e como \\xc3\\xa0s vezes ainda \\xc3\\xa9. Ao contr\\xc3\\xa1rio, tornar-se-\\xc3\\xa1  \\nmais e mais divertida, energizante e prazerosa. \\n \\n\\n \\n \\n\\nby Eva Broch Pierrakos \\n\\n\\xef\\x83\\xa3 1999 The Pathwork\\xef\\x83\\xa2 Foundation \\n\\n\\x0cMaterial Adicional  Pathwork\\xef\\x83\\xa2 No. 7 \\nP\\xc3\\xa1gina 2 de 8 \\n \\nEste \\xc3\\xa9 o princ\\xc3\\xadpio fundamental, a funda\\xc3\\xa7\\xc3\\xa3o s\\xc3\\xb3lida na qual tudo mais pode ser constru\\xc3\\xaddo. \\xc3\\x89 o foco \\nque sempre garantir\\xc3\\xa1 a sa\\xc3\\xbade do grupo total, solidez e realiza\\xc3\\xa7\\xc3\\xa3o. \\n \\nTodo  assunto  governamental,  de  organiza\\xc3\\xa7\\xc3\\xa3o    e  de  pol\\xc3\\xadtica  evoluir\\xc3\\xa1  portanto,  como  resultado  de \\nprofunda  inspira\\xc3\\xa7\\xc3\\xa3o  e  guian\\xc3\\xa7a.  Quando  h\\xc3\\xa1  disc\\xc3\\xb3rdia  ou  diverg\\xc3\\xaancia,  voc\\xc3\\xaas  sabem  agora  como \\ntrabalh\\xc3\\xa1-los. Prece e medita\\xc3\\xa7\\xc3\\xa3o sinceras e profundas para pedir a verdadeira guian\\xc3\\xa7a e a vontade de \\nDeus, nunca falhar\\xc3\\xa3o a produzir harmonia interna, paz e a sensa\\xc3\\xa7\\xc3\\xa3o de plenitude que est\\xc3\\xa3o presentes \\nquando o homem est\\xc3\\xa1 em harmonia com a Vontade Divina. Ent\\xc3\\xa3o voc\\xc3\\xaas saber\\xc3\\xa3o quando agirem de \\nacordo com a verdade, amor e Leis Divinas. Quando existe desarmonia \\xc3\\xa9 um sinal de que algo deve \\nser trabalhado. \\n \\nA fun\\xc3\\xa7\\xc3\\xa3o do Centro ser\\xc3\\xa1 principalmente a de ser um modelo do trabalho de purifica\\xc3\\xa7\\xc3\\xa3o\\xe2\\x80\\x94de como \\nfaz\\xc3\\xaa-lo;  quais  s\\xc3\\xa3o  os  pr\\xc3\\xa9-requisitos,  leis  e  m\\xc3\\xa9todos\\xe2\\x80\\x94exatamente  como  voc\\xc3\\xaas  os  aprendem  e    se \\naperfei\\xc3\\xa7oam  em  ensin\\xc3\\xa1-los.  Deste  b\\xc3\\xa1sico  conceito  de  vida,  muitas  ramifica\\xc3\\xa7\\xc3\\xb5es  brotar\\xc3\\xa3o. \\nDiscutiremos agora, algumas delas. \\n \\nComo  mencionei  antes  uma  vez,  o  Centro  dever\\xc3\\xa1  ser  um  novo  modelo  para  o  processo \\ngovernamental. Tempo vir\\xc3\\xa1 em que a pol\\xc3\\xadtica, a economia e a dire\\xc3\\xa7\\xc3\\xa3o dos governos ser\\xc3\\xa1 baseada nos \\nmesmos  processos  e  m\\xc3\\xa9todos.  O  Centro  \\xc3\\xa9  uma  organiza\\xc3\\xa7\\xc3\\xa3o  pioneira  para  este  prop\\xc3\\xb3sito,  ainda \\nagora em seus primeiros passos e tendo que aprender da maneira dif\\xc3\\xadcil (como sempre tem que ser) \\npor  suas  pr\\xc3\\xb3prias  tentativas  e  erros.  Mas  quando  existir  uma  s\\xc3\\xb3lida  e  verdadeira  funda\\xc3\\xa7\\xc3\\xa3o  as \\naberturas espirituais se multiplicar\\xc3\\xa3o e o verdadeiro prop\\xc3\\xb3sito do Centro florescer\\xc3\\xa1. \\n \\nOs  primeiros  novos  pol\\xc3\\xadticos  encontrar\\xc3\\xa3o  seu  caminho  aqui  e  aprender\\xc3\\xa3o.  Assim  como  os \\neducadores. Alguns de seus pr\\xc3\\xb3prios filhos ter\\xc3\\xa3o tais miss\\xc3\\xb5es no futuro e receber\\xc3\\xa3o seu treinamento \\nb\\xc3\\xa1sico  aqui.  Assim  como  voc\\xc3\\xaas  est\\xc3\\xa3o  aprendendo  a  resolver  seus  problemas  uns  com  os  outros, \\ntamb\\xc3\\xa9m governos aprender\\xc3\\xa3o a fazer o mesmo. Assim como voc\\xc3\\xaas aprendem a mergulhar profundo \\nna  sua  realidade  interior  para  expressar    a  vontade  de  Deus  desta  fonte  inesgot\\xc3\\xa1vel  de  bondade, \\nverdade, amor, beleza e eternidade, tamb\\xc3\\xa9m governos aprender\\xc3\\xa3o a fazer o mesmo. Isto n\\xc3\\xa3o \\xc3\\xa9 para \\nfaz\\xc3\\xaa-los orgulhosos e inflar seus egos. Tomem isto humildemente e de maneira n\\xc3\\xa3o ego\\xc3\\xadsta . Voc\\xc3\\xaas \\nainda  est\\xc3\\xa3o  em  prepara\\xc3\\xa7\\xc3\\xa3o  e  apenas  no  caminho  para  provar  serem  merecedores  desta  grande \\nmiss\\xc3\\xa3o. Aqueles que perseverarem conhecer\\xc3\\xa3o a imensa realiza\\xc3\\xa7\\xc3\\xa3o de trabalhar para o Plano Divino \\nem uma \\xc3\\xa9poca crucial da hist\\xc3\\xb3ria- em um tempo de mudan\\xc3\\xa7as significativas e prepara\\xc3\\xa7\\xc3\\xa3o para uma  \\nnova era.   \\n \\nO  Centro  ser\\xc3\\xa1  tamb\\xc3\\xa9m  um  desenho  t\\xc3\\xa9cnico  de  um  novo  conceito  de  educa\\xc3\\xa7\\xc3\\xa3o.  Pouco  a  pouco, \\nconforme  voc\\xc3\\xaas  crescem,  um  plano  emergir\\xc3\\xa1.  Aqueles  entre  voc\\xc3\\xaas  que  j\\xc3\\xa1  est\\xc3\\xa3o  na  profiss\\xc3\\xa3o  de \\neducadores  aprendam  como  infiltrar  a  verdade  destes  ensinamentos  e  como  inculc\\xc3\\xa1-los  naqueles \\nconfiados a voc\\xc3\\xaas para aprenderem sobre a vida. Voc\\xc3\\xaas criar\\xc3\\xa3o um novo sistema escolar no qual, de \\nnovo, a base ser\\xc3\\xa1 o princ\\xc3\\xadpio do pathwork, a purifica\\xc3\\xa7\\xc3\\xa3o do indiv\\xc3\\xadduo, a aquisi\\xc3\\xa7\\xc3\\xa3o de conhecimentos \\nsobre certas leis b\\xc3\\xa1sicas da vida. Mas o conhecimento sobre toda sorte de \\xc3\\xa1reas \\xc3\\xa9 tamb\\xc3\\xa9m necess\\xc3\\xa1rio \\npra  uma  vida  bem  formada.  Isto  n\\xc3\\xa3o  significa  se  estender  a  muitos  campos.  Ningu\\xc3\\xa9m  pode  ser \\nconhecedor de tudo e ningu\\xc3\\xa9m deve tentar dividir-se caminhando em muitas dire\\xc3\\xa7\\xc3\\xb5es diferentes. \\nIgualmente  as  propens\\xc3\\xb5es  individuais  devem  ser  levadas  em  conta.  Algumas  pessoas  t\\xc3\\xaam  uma \\nespecialidade concentrada, na qual toda sua energia deve ser investida por um certo per\\xc3\\xadodo de suas \\nvidas. Ent\\xc3\\xa3o, uma nova fase pode vir, quando uma nova especialidade pode ser adicionada. Outros \\ns\\xc3\\xa3o mais vers\\xc3\\xa1teis e menos entrincheirados numa especialidade seja em arte, ci\\xc3\\xaancia ou o que for. O \\n\\n\\x0cprocedimentos governamentais \\nabordagem \\xc3\\xa0 educa\\xc3\\xa7\\xc3\\xa3o \\nexpress\\xc3\\xb5es art\\xc3\\xadsticas e aprendizado \\n\\nMaterial Adicional  Pathwork\\xef\\x83\\xa2 No. 7 \\nP\\xc3\\xa1gina 3 de 8 \\n \\nimportante  sempre  \\xc3\\xa9  que  o  aprendizado  mental  n\\xc3\\xa3o  deve  ser  um  escape  ou  uma  maneira  de  se \\nprovar  superior.  Deve  ser  uma  express\\xc3\\xa3o  harmoniosa  da  harmonia  e  verdade  divinas.  Quando  h\\xc3\\xa1 \\naqueles que rejeitam a  mente\\xe2\\x80\\x94o intelecto e o conhecimento existente\\xe2\\x80\\x94(que \\xc3\\xa9 afinal s\\xc3\\xb3 mais uma \\nexpress\\xc3\\xa3o da Cria\\xc3\\xa7\\xc3\\xa3o Divina) ent\\xc3\\xa3o isto deve ser trabalhado.Tal pessoa  deveria reconhecer que para \\nela, aprender algumas das coisas do mundo talvez seja mais importante do que para aquele que usa o \\nconhecimento exterior como um meio de evitar suas negatividades e seu eu que sente. \\nO Centro deve tamb\\xc3\\xa9m ser um n\\xc3\\xbacleo cultural. Quando indiv\\xc3\\xadduos libertam seu \\xc3\\xa2mago criativo, suas \\nexpress\\xc3\\xb5es  art\\xc3\\xadsticas  real\\xc3\\xa7am  as  conex\\xc3\\xb5es  e  trazem  novo  valor  e beleza,  nova  verdade  e  sabedoria. \\nAssim, quem quer que  viva nesse ambiente encontrar\\xc3\\xa1 encorajamento para sua auto-express\\xc3\\xa3o mais \\nprofunda em qualquer campo art\\xc3\\xadstico ao qual se sentir chamado. \\n \\nHaver\\xc3\\xa1 ramifica\\xc3\\xa7\\xc3\\xb5es de atividades e aprendizado em todas estas \\xc3\\xa1reas: \\n \\n1) \\n2) \\n3) \\n \\nEm todas estas \\xc3\\xa1reas haver\\xc3\\xa1 a parte t\\xc3\\xa9cnica de aprendizado; e haver\\xc3\\xa1 a abordagem de medita\\xc3\\xa7\\xc3\\xa3o  que \\nser\\xc3\\xa1  dirigida  pra  estes  diversos  caminhos,  bem  como  para  diferentes  estados  de  esp\\xc3\\xadrito  dos \\nindiv\\xc3\\xadduos  que  se  aproximarem  deles.  Mas  haver\\xc3\\xa1  mais.  De  fato  as  tr\\xc3\\xaas  \\xc3\\xa1reas  mencionadas  acima \\nprovavelmente v\\xc3\\xa3o ser formatadas por \\xc3\\xbaltimo. O que agora segue ser\\xc3\\xa1 formatado antes. \\n \\nConforme  voc\\xc3\\xaas  se  aprofundam  no  seu  pathwork,  chegar\\xc3\\xa3o  cada  vez  mais  \\xc3\\xa0  compreens\\xc3\\xa3o  de  que \\numa f\\xc3\\xb3rmula extremamente simples contem a verdade da vida. De fato, essa f\\xc3\\xb3rmula \\xc3\\xa9 t\\xc3\\xa3o simples \\nque para a maioria das pessoas \\xc3\\xa9 inaceit\\xc3\\xa1vel e a chamariam de simplista. Esta formula \\xc3\\xa9: na  mesma \\npropor\\xc3\\xa7\\xc3\\xa3o que voc\\xc3\\xaa d\\xc3\\xa1 para a vida, para outros e para voc\\xc3\\xaa mesmo, na exata propor\\xc3\\xa7\\xc3\\xa3o voc\\xc3\\xaa ser\\xc3\\xa1 \\ncapaz  de  experimentar,  manter  e  tolerar  o  prazer  intenso  e  a  realiza\\xc3\\xa7\\xc3\\xa3o.  Eu  tenho  dito  isto  tantas \\nvezes que alguns de voc\\xc3\\xaas j\\xc3\\xa1 n\\xc3\\xa3o me ouvem. Mas esta \\xc3\\xa9 uma chave  t\\xc3\\xa3o importante para voc\\xc3\\xaas. Se \\nalgo est\\xc3\\xa1 faltando, procure onde voc\\xc3\\xaa n\\xc3\\xa3o d\\xc3\\xa1 o melhor de si \\xc3\\xa0 vida. Se usarem esta chave persistente, \\nprofunda  e  honestamente,  n\\xc3\\xa3o  poder\\xc3\\xa3o  falhar  em  se  tornaram  de  fato  realizados.  No  trabalho,  no \\namor rec\\xc3\\xadproco, na realiza\\xc3\\xa7\\xc3\\xa3o espiritual, nas amizades, na riqueza da vida. Esta \\xc3\\xa9 tamb\\xc3\\xa9m uma chave \\npara quem \\xc3\\xa9 helper, \\xc3\\xa9 claro. \\n \\nO indiv\\xc3\\xadduo que encontrar a riqueza de sua alma, ter\\xc3\\xa1 tudo o que precisa e quer para aproveitar  a \\nvida  ao  m\\xc3\\xa1ximo  e  portanto  dar  \\xc3\\xa0  vida  o  m\\xc3\\xa1ximo.  Deve  ser  um  constante  fluxo  de  troca  \\xe2\\x80\\x93  dar, \\nreceber,  dar,  receber.  Conforme  voc\\xc3\\xaa  d\\xc3\\xa1,  assim  dever\\xc3\\xa1  receber  e  somente  quando  voc\\xc3\\xaa  recebe \\nricamente da vida voc\\xc3\\xaa pode dar completamente. \\n\\xc3\\x89  um  ciclo  benigno  que  ser\\xc3\\xa1  estabelecido  logo  que  voc\\xc3\\xaa  compreender  que  o  ciclo  negativo \\ncorrespondente  \\xc3\\xa9  desnecess\\xc3\\xa1rio.  Assim,  os  indiv\\xc3\\xadduos,  bem  como  o  Centro  como  um  todo  ter\\xc3\\xa3o \\nabund\\xc3\\xa2ncia em todas as coisas. Eles a ter\\xc3\\xa3o porque ela n\\xc3\\xa3o ser\\xc3\\xa1 mal usada de maneira alguma mas \\nser\\xc3\\xa1 uma express\\xc3\\xa3o da Realidade Divina. \\n Todos  necessariamente  encontrar\\xc3\\xa3o  sua  voca\\xc3\\xa7\\xc3\\xa3o  a  qual  apreciam  profundamente  e  com  a  qual \\ncontribuir\\xc3\\xa3o  para  a  vida  e  pela  qual  ganhar\\xc3\\xa3o  remunera\\xc3\\xa7\\xc3\\xa3o  em  todos  os  n\\xc3\\xadveis\\xe2\\x80\\x94assim  como  no \\nmaterial. \\n \\nPara  uma  pessoa  ser  um  helper\\xe2\\x80\\x94um  canal  espiritual  atrav\\xc3\\xa9s  do  qual  a  verdade  e  a  cura  podem  se \\nmanifestar\\xe2\\x80\\x94talvez  seja  sua  miss\\xc3\\xa3o  de  vida.  Para  outra,  ser  um  cientista,  ou  um  pol\\xc3\\xadtico,  ou  um \\n\\n\\x0cMaterial Adicional  Pathwork\\xef\\x83\\xa2 No. 7 \\nP\\xc3\\xa1gina 4 de 8 \\n \\nartista,  ou  um  m\\xc3\\xa9dico  ou  qualquer  das  muitas  alternativas  existentes.  Deve  ser  uma  express\\xc3\\xa3o  da \\nalma.  Entretanto  n\\xc3\\xa3o  acreditem  que  fazer  trabalhos  dom\\xc3\\xa9sticos  cai  em  uma  categoria  inferior.  Se \\nvoc\\xc3\\xaa  cozinhar,  limpar,  consertar,  lavar  roupas\\xe2\\x80\\x94n\\xc3\\xa3o  importa.  Toda  essa  atividade  pode  ser  t\\xc3\\xa3o \\nprofundamente gratificante quanto \\xc3\\xa0quelas que mencionei na primeira categoria. \\nOs crit\\xc3\\xa9rios devem tornar-se diferentes. Uma atividade \\xc3\\xa9 desejada porque a pessoa quer escapar de \\nmaiores responsabilidades? Ela quer cozinhar porque acredita que pode fugir e dar s\\xc3\\xb3 um m\\xc3\\xadnimo de \\nsua alma? Ela quer fazer limpeza porque ser o que ela deveria, por exemplo, um professor, parece \\n\\xc3\\xa1rduo  demais  de  realizar?  Ent\\xc3\\xa3o  a  execu\\xc3\\xa7\\xc3\\xa3o  do  seu  trabalho  n\\xc3\\xa3o  ser\\xc3\\xa1  espiritual  e  verdadeiramente \\naqu\\xc3\\xa9m dela. Ela n\\xc3\\xa3o dar\\xc3\\xa1 e no entanto querer\\xc3\\xa1.., \\nEla criar\\xc3\\xa1 empobrecimento. \\n \\nO  mesmo  \\xc3\\xa9  verdadeiro  na  situa\\xc3\\xa7\\xc3\\xa3o  inversa.  Se  um  indiv\\xc3\\xadduo  tem  uma  profunda  voca\\xc3\\xa7\\xc3\\xa3o  para \\ncontribuir com a vida cozinhando ou limpando, e escapa de sua voca\\xc3\\xa7\\xc3\\xa3o por raz\\xc3\\xb5es de orgulho, ego \\ne vaidade, viver\\xc3\\xa1 acima de si mesmo. Mas se realiza sua voca\\xc3\\xa7\\xc3\\xa3o, seu trabalho vai ser t\\xc3\\xa3o importante, \\nt\\xc3\\xa3o  espiritual,  t\\xc3\\xa3o  belo  quanto  o  de  um  mestre,  ou  um  artista  ou  um  cientista  com  uma  obra \\nimportante. Ele ser\\xc3\\xa1 rico, se sentir\\xc3\\xa1 rico e contribuir\\xc3\\xa1 ricamente. Far\\xc3\\xa1 seu trabalho com dignidade, \\nalegria e significado porque dar\\xc3\\xa1 todo seu ser para isso. \\n \\nNa curva do desenvolvimento de uma pessoa, voca\\xc3\\xa7\\xc3\\xb5es podem mudar. Isto n\\xc3\\xa3o quer dizer que se \\ncome\\xc3\\xa7a  com  o  que  \\xc3\\xa9  considerado  \\xe2\\x80\\x9cmenor\\xe2\\x80\\x9d  e  ent\\xc3\\xa3o  se  vai  para  a  \\xe2\\x80\\x9cmaior\\xe2\\x80\\x9d.  Pode,  algumas  vezes  se \\npassar  assim.  Outras  vezes,  a  pessoa  pode  descobrir,  s\\xc3\\xb3  mais  tarde  na  vida,  que  sua  verdadeira \\nvoca\\xc3\\xa7\\xc3\\xa3o  est\\xc3\\xa1  em  embelezar  uma  casa;  Ela  pode  usar  seu  talento  organizacional,  seu  senso  de \\nresponsabilidade e a plenitude de sua doa\\xc3\\xa7\\xc3\\xa3o de um jeito t\\xc3\\xa3o criativo e essencial quanto a pessoa que \\n\\xc3\\xa9 um canal para um esp\\xc3\\xadrito professor. \\n \\nCada pessoa deveria, na maioria das vezes, (a n\\xc3\\xa3o ser que haja emerg\\xc3\\xaancias ou outra ocasi\\xc3\\xa3o especial) \\ncolocar sua energia no seu campo de a\\xc3\\xa7\\xc3\\xa3o. Aqueles que ainda n\\xc3\\xa3o encontraram sua pr\\xc3\\xb3pria \\xc3\\xa1rea de \\nauto-express\\xc3\\xa3o, que ainda est\\xc3\\xa3o se debatendo, podem dar sua energia onde for mais necess\\xc3\\xa1rio no \\nmomento. \\n \\nPrivil\\xc3\\xa9gios  v\\xc3\\xaam  como  sabem,  unicamente  assumindo  responsabilidade.  Liberdade  igualmente  vem \\ndisso.  Recompensas  e  privil\\xc3\\xa9gios  n\\xc3\\xa3o  devem  ser  determinados  pelos  habituais  padr\\xc3\\xb5es  de \\n\\xe2\\x80\\x9calto\\\\baixo\\xe2\\x80\\x9d  mas  unicamente  baseados  em  quanto  uma  pessoa  d\\xc3\\xa1  completamente  de  si  no  seu \\natualmente  escolhido  campo  de  express\\xc3\\xa3o  e  contribui\\xc3\\xa7\\xc3\\xa3o.  Aqueles  que  d\\xc3\\xa3o  pouco  n\\xc3\\xa3o  devem \\nreceber  uma  part\\xc3\\xadcula  a  mais.  Esta  \\xc3\\xa9  uma  lei  da  vida.  A  integridade  do  dar    sempre  se  reflete  na \\nabund\\xc3\\xa2ncia que a pessoa tem dispon\\xc3\\xadvel.  \\n \\nDesta  maneira,  a  pessoa  que  faz  limpeza  com  alegria  e  esp\\xc3\\xadrito  doador,  que  embeleza  seu  espa\\xc3\\xa7o, \\nque santifica seu trabalho trazendo a ele o melhor que tem para dar, ganhar\\xc3\\xa1 ricas recompensas de \\ntodas as  maneiras\\xe2\\x80\\x94porque o que ela  faz \\xc3\\xa9 t\\xc3\\xa3o importante como todas  as outras atividades. Se for \\numa tarefa indesej\\xc3\\xa1vel, ela falha. Se o que ela faz \\xc3\\xa9 um ato criativo com o qual contribui para a beleza \\nda vida, ela se realiza. \\n \\nN\\xc3\\xa3o  ser\\xc3\\xa1  dif\\xc3\\xadcil  para  voc\\xc3\\xaas,  como  grupo,  determinar  como  uma  pessoa  aborda  seu  trabalho  deste \\nponto de vista.  Voc\\xc3\\xaas mesmos devem saber quando se confrontarem com esta quest\\xc3\\xa3o. \\n \\n\\n\\x0cMaterial Adicional  Pathwork\\xef\\x83\\xa2 No. 7 \\nP\\xc3\\xa1gina 5 de 8 \\n \\nSa\\xc3\\xbade geral: Quanto maior harmonia interna e libera\\xc3\\xa7\\xc3\\xa3o do Eu Superior, mais o indiv\\xc3\\xadduo observar\\xc3\\xa1 \\nsua sa\\xc3\\xbade. Ele viver\\xc3\\xa1 de acordo com o preceito b\\xc3\\xa1sico que promove um corpo saud\\xc3\\xa1vel. \\xc3\\x89 sempre \\nnecess\\xc3\\xa1rio  usar  a  \\xe2\\x80\\x9cabordagem  do  t\\xc3\\xbanel\\xe2\\x80\\x9d.  Com  isto  quero  dizer  que  o  conhecimento  exterior  deve \\nauxiliar  a  visualiza\\xc3\\xa7\\xc3\\xa3o  conceitual  interior.  \\xc3\\x89  por  isso  que  voc\\xc3\\xaas  aprendem  princ\\xc3\\xadpios  e  preceitos \\natrav\\xc3\\xa9s  das  palestras,  que  os  ajudam  a  experiment\\xc3\\xa1-los  internamente.  Isto  \\xc3\\xa9  v\\xc3\\xa1lido  para  todas  as \\n\\xc3\\xa1reas.  A  sabedoria  interior  pode  desdobrar-se  melhor  quando  a  mente  adquiriu  conhecimento \\nexterior. \\nA criatividade de um grande artista s\\xc3\\xb3 pode ser empregada quando ele tiver adquirido a t\\xc3\\xa9cnica e n\\xc3\\xa3o \\nse furtar ao trabalho de aprend\\xc3\\xaa-las. \\n \\nNo  que  concerne  \\xc3\\xa0  sa\\xc3\\xbade,  isto  tamb\\xc3\\xa9m  significa:  primeiro  conhecer  alguns  preceitos  b\\xc3\\xa1sicos  de \\nnutri\\xc3\\xa7\\xc3\\xa3o. Isto deve ser escolhido entre o melhor que h\\xc3\\xa1 dispon\\xc3\\xadvel, sempre baseado em sadio bom \\nsenso,  aus\\xc3\\xaancia  de  fanatismo  e  manias.  Quando  se  adquire  conhecimento,  as  tend\\xc3\\xaancias  pessoais \\ndevem ent\\xc3\\xa3o ser encontradas atrav\\xc3\\xa9s de medita\\xc3\\xa7\\xc3\\xa3o profunda e espec\\xc3\\xadfica. \\n \\nVoc\\xc3\\xaas ter\\xc3\\xa3o, mais tarde cursos sobre viver saudavelmente. Junto com nutri\\xc3\\xa7\\xc3\\xa3o voc\\xc3\\xaas ter\\xc3\\xa3o disciplina \\npara  dar  ao  seu  corpo  a  quantidade  di\\xc3\\xa1ria  de  exerc\\xc3\\xadcio  significativo  requerida  por  ele.  Voc\\xc3\\xaas \\naprender\\xc3\\xa3o a sentir dentro de seu corpo as suas necessidades pessoais e a dar-lhe o que ele almeja. \\nDe novo, medita\\xc3\\xa7\\xc3\\xb5es especiais ser\\xc3\\xa3o apreendidas para esse prop\\xc3\\xb3sito. \\n \\nVoc\\xc3\\xaas  v\\xc3\\xa3o  adquirir  o  equil\\xc3\\xadbrio  interno  de  trabalho  e  lazer--  ambos  com  prazer  profundo.  N\\xc3\\xa3o \\nhaver\\xc3\\xa1  compuls\\xc3\\xa3o  para  trabalhar,  nem  culpa  sobre  o  lazer,  nem  rebeldia  contra  o  trabalho,  nem \\nescape para a inatividade. Tudo estar\\xc3\\xa1 lindamente equilibrado. E quando por acaso n\\xc3\\xa3o estiver, ser\\xc3\\xa1 \\nreconhecido como um sinal de que algo foi negligenciado. \\n \\nQuanto  mais  voc\\xc3\\xaas  crescerem  na  sua  autonomia  madura,  mais  ser\\xc3\\xa3o  os  juizes  de  quais  s\\xc3\\xa3o  suas \\nnecessidades. Voc\\xc3\\xaas confiar\\xc3\\xa3o nestas necessidades e as atender\\xc3\\xa3o. Mas, no percurso voc\\xc3\\xaas tamb\\xc3\\xa9m \\nreconhecer\\xc3\\xa3o que algumas dessas necessidades s\\xc3\\xa3o falsas, s\\xc3\\xa3o a express\\xc3\\xa3o de  algo que voc\\xc3\\xaas ainda \\nn\\xc3\\xa3o enfrentaram. Sentir\\xc3\\xa3o a diferen\\xc3\\xa7a atrav\\xc3\\xa9s de sua paz e alegria \\xe2\\x80\\x93 ou a aus\\xc3\\xaancia delas. \\n \\nVoc\\xc3\\xaas  ter\\xc3\\xa3o  helpers  e  professores  especiais  que  administrar\\xc3\\xa3o  esses  cursos.  Eles  lhes  dar\\xc3\\xa3o  o \\nconhecimento externo que precisam ter, em conjun\\xc3\\xa7\\xc3\\xa3o com a abordagem interior, como aprendem \\nno caminho. \\n \\nUma  nova  cultura  ser\\xc3\\xa1  criada  na  era  vindoura.  Voc\\xc3\\xaas  est\\xc3\\xa3o  entre  aqueles  que  v\\xc3\\xa3o  traz\\xc3\\xaa-la  e  ser\\xc3\\xa3o \\nexemplos dela. Isto significa acima e al\\xc3\\xa9m do que eu j\\xc3\\xa1 disse, que voc\\xc3\\xaas representar\\xc3\\xa3o o melhor em \\ntodos  os  aspectos  poss\\xc3\\xadveis.  Internamente  como  pessoas  espirituais,  saudavelmente  contentes, \\nhonestas, amorosas e generosas\\xe2\\x80\\x94e externamente por sua abund\\xc3\\xa2ncia, sua capacidade de alegria, sua \\nsa\\xc3\\xbade,  sua  beleza,  sua  apar\\xc3\\xaancia  agrad\\xc3\\xa1vel  e  suas  maneiras  nobres.  Nenhum  destes  atributos  ser\\xc3\\xa1 \\nsubstituto  sobreposto  \\xc3\\xa0  faltas  internas  ou  a  express\\xc3\\xb5es  de  ego\\xc3\\xadsmo,  mas  express\\xc3\\xb5es  org\\xc3\\xa2nicas  da \\nbeleza do universo. Seu sentido de beleza crescer\\xc3\\xa1 conforme seu eu interior se expande. Da mesma \\nforma,  seu  meio  ambiente  progressivamente  expressar\\xc3\\xa1  o  primor  da  vida  universal  em  limpeza, \\nordem, praticidade, abund\\xc3\\xa2ncia, beleza, e gosto imaculado. \\n \\nGosto  tamb\\xc3\\xa9m  pode  ser  aprendido.  H\\xc3\\xa1  uma  norma  para  ele  assim  como  h\\xc3\\xa1  uma  norma  para  a \\nverdade. Existem muitas varia\\xc3\\xa7\\xc3\\xb5es dentro da norma mas h\\xc3\\xa1, na verdade, tal coisa como bom ou mau \\ngosto.  Aqueles  que  s\\xc3\\xa3o  especialmente  dotados  com  este  dom  ensinar\\xc3\\xa3o  a  outros  sobre  gosto,  sem \\n\\n\\x0cMaterial Adicional  Pathwork\\xef\\x83\\xa2 No. 7 \\nP\\xc3\\xa1gina 6 de 8 \\n \\nviolar  sua  express\\xc3\\xa3o  divina  que  pode  se  estender  a  um  ramo  diferente.  Quando  houver \\ndesentendimentos, estes tamb\\xc3\\xa9m podem ser trabalhados  da maneira usual, estando profundamente \\nabertos  \\xc3\\xa0s  sugest\\xc3\\xb5es  dos  outros,  atrav\\xc3\\xa9s  de  medita\\xc3\\xa7\\xc3\\xa3o,  vendo  honestamente  se  h\\xc3\\xa1  alguma  defesa \\nobstinada, vergonha ou orgulho que cerra a porta para a unidade e beleza. \\n \\nSeu  meio  ambiente  deve  refletir  a  beleza  interna  que  voc\\xc3\\xaas  desenvolveram.  Voc\\xc3\\xaas  ter\\xc3\\xa3o  os  meios \\nfinanceiros,  conforme  um  maior  n\\xc3\\xbamero  de  voc\\xc3\\xaas,  que  j\\xc3\\xa1  est\\xc3\\xa3o  neste  caminho,  adquire  o  sentido \\ndesta  beleza,  da  ordenan\\xc3\\xa7a  e  responsabilidade  de  contribuir  com  seu  ser,  para  isso.  Quando  um \\nmaior  n\\xc3\\xbamero  de  voc\\xc3\\xaas  tenham  este  senso,  voc\\xc3\\xaas  ter\\xc3\\xa3o  o  dinheiro  para  embelezar  o  ambiente \\nexterno da melhor maneira poss\\xc3\\xadvel. Voc\\xc3\\xaas ir\\xc3\\xa3o manter e aperfei\\xc3\\xa7oar o exterior, melhorar, aumentar \\ne construir sem nunca perder a vastid\\xc3\\xa3o, o espa\\xc3\\xa7o, o sentido de inviolabilidade e a naturalidade dos \\nseus arredores. Ao contr\\xc3\\xa1rio. O interior refletir\\xc3\\xa1 o melhor gosto poss\\xc3\\xadvel e a beleza que todos voc\\xc3\\xaas \\nir\\xc3\\xa3o apreciar. Voc\\xc3\\xaas sentir\\xc3\\xa3o as vibra\\xc3\\xa7\\xc3\\xb5es ben\\xc3\\xa9ficas da beleza, ordem e limpeza.  \\n \\nSua apar\\xc3\\xaancia pessoal ser\\xc3\\xa1 por certo indicativa de quanto h\\xc3\\xa1 no seu interior. Voc\\xc3\\xaas s\\xc3\\xa3o t\\xc3\\xa3o bonitos e \\natraentes  quanto  s\\xc3\\xa3o  essencialmente  capazes  de  ser?  Eu  sei  que  isso  \\xc3\\xa9  algo  que  os  helpers  j\\xc3\\xa1 \\niniciaram com alguns de voc\\xc3\\xaas mas ainda h\\xc3\\xa1 muita defensividade sobre este t\\xc3\\xb3pico. \\nN\\xc3\\xa3o  \\xc3\\xa9  contr\\xc3\\xa1rio  \\xc3\\xa0  espiritualidade  fazer  de  voc\\xc3\\xaa,  o  melhor.  Ao  contr\\xc3\\xa1rio.  Por  outro  lado,  a \\nimport\\xc3\\xa2ncia  do  exterior  nunca  deve  tornar-se  mais  do  que  \\xc3\\xa9,  ou  seja,  um  reflexo  de  algo  interior. \\nSen\\xc3\\xa3o,  voc\\xc3\\xaas  se  tornar\\xc3\\xa3o  focados  no  exterior  e  n\\xc3\\xa3o  \\xc3\\xa9  assim  que  deve  ser.  \\xc3\\x89  o  plano  do  Universo \\ntrazer  a  beleza,  verdade,  vivacidade  e  amor  do  mundo  interior  para  o  exterior.  Assim,  veja  sua \\nexpress\\xc3\\xa3o externa como algo que vem de dentro. \\n \\nDe  novo, haver\\xc3\\xa1  cursos    que  todos  podem  fazer  e  aprender  a  arte  da  apar\\xc3\\xaancia\\xe2\\x80\\x94de  uma  maneira \\nnatural, n\\xc3\\xa3o como m\\xc3\\xa1scara. Nutri\\xc3\\xa7\\xc3\\xa3o, exerc\\xc3\\xadcios, s\\xc3\\xa3o s\\xc3\\xb3 uma faceta. Pentear-se, higiene e cuidados \\npessoais  s\\xc3\\xa3o  outros.  Este  conhecimento  tamb\\xc3\\xa9m  pode  ser  convencionado  e  apreendido  e  ent\\xc3\\xa3o \\ncombinado  com  a  verdade  interna.  Tamb\\xc3\\xa9m,  medita\\xc3\\xa7\\xc3\\xb5es  especiais  ser\\xc3\\xa3o  apreendidas  para  a  auto-\\nexpress\\xc3\\xa3o.  O  gosto  para  pentear-se  e  vestir-se  \\xc3\\xa9  ainda  uma  outra  faceta  da  auto-express\\xc3\\xa3o.  Os \\nmesmos princ\\xc3\\xadpios se aplicam , conforme foi mencionado: o exterior n\\xc3\\xa3o deve substituir o  interior \\nou ser uma compensa\\xc3\\xa7\\xc3\\xa3o para a vida interior. Portanto n\\xc3\\xa3o ser\\xc3\\xa1 exagerado, mas ser\\xc3\\xa1 uma express\\xc3\\xa3o \\nharmoniosa da pessoa, manifestando o melhor dela ou dele, como a natureza manifesta seu melhor, \\nde acordo com a lei divina da beleza. \\n \\nUm novo tipo de homem est\\xc3\\xa1 para chegar: o homem espiritual. Este novo homem espiritual nunca \\nser\\xc3\\xa1 asc\\xc3\\xa9tico; ele n\\xc3\\xa3o ser\\xc3\\xa1 um monge nem negar\\xc3\\xa1 a vida. Ele ser\\xc3\\xa1 o portador de uma nova cultura, \\nnova  civiliza\\xc3\\xa7\\xc3\\xa3o,  nova  aristocracia.  Todas  suas  express\\xc3\\xb5es  externas  ser\\xc3\\xa3o  reflexos  de  uma  vida \\ninterior  rica,  abundante,  bela:  criativo,  amoroso,  s\\xc3\\xa1bio;  bonito,  nobre  e  forte  sem  falsa  mod\\xc3\\xa9stia  e \\nsentimentalismo; auto-assertivo e gentil; cort\\xc3\\xaas e refinado; aut\\xc3\\xaantico e sem pretens\\xc3\\xb5es. Este novo ser \\nhumano n\\xc3\\xa3o se envergonhar\\xc3\\xa1 de procurar seus pr\\xc3\\xb3prios melhores interesses no conhecimento que \\nos melhores interesses reais do Eu Superior, nunca podem interferir com os melhores interesses de \\noutros, somente com suas neur\\xc3\\xb3ticas aspira\\xc3\\xa7\\xc3\\xb5es.  \\n \\nA  gra\\xc3\\xa7a  da  nova  pessoa  deve  ser  cultivada  tamb\\xc3\\xa9m  como  exemplo,  prot\\xc3\\xb3tipo  e  promo\\xc3\\xa7\\xc3\\xa3o  do \\nconceito  adequado,  de  modo  que  o  exemplo  seja  reconhecido  pelo  que  \\xc3\\xa9.  De  novo,  as  condutas \\ndevem  ser  apreendidas  sem  tomar  lugar  do  prop\\xc3\\xb3sito  interior.  Quando  elas  s\\xc3\\xa3o  uma    express\\xc3\\xa3o \\norg\\xc3\\xa2nica da pessoa, h\\xc3\\xa1 uma beleza nisso que muitos de voc\\xc3\\xaas t\\xc3\\xaam ainda que descobrir. \\n \\n\\n\\x0cMaterial Adicional  Pathwork\\xef\\x83\\xa2 No. 7 \\nP\\xc3\\xa1gina 7 de 8 \\n \\nPortanto  voc\\xc3\\xaas  devem  instituir  tamb\\xc3\\xa9m  um  curso  de  conduta:  conduta  na  mesa,  conduta  nas \\nexpress\\xc3\\xb5es  dirigidas  aos  outros.  Cada  dessas  novas  express\\xc3\\xb5es  devem  vir,  cheias  de  significado \\ninterior, para as quais, de novo, medita\\xc3\\xa7\\xc3\\xb5es especiais ser\\xc3\\xa3o ensinadas. \\n \\nVoc\\xc3\\xaas n\\xc3\\xa3o devem pensar que tudo isso promova um padr\\xc3\\xa3o artificial, afetado de comportamento. \\nConceber  desta  maneira  o  que  eu  sublinho  aqui,  seria  deixar  escapar  completamente  o \\nentendimento.  Ser\\xc3\\xa1  natural,  significativo,  adapt\\xc3\\xa1vel  \\xc3\\xa0s  ocorr\\xc3\\xaancias  e  profundamente  significativo  e \\nbelo. \\n \\nSua nova cultura se tornar\\xc3\\xa1 um ponto focal  interno de enorme for\\xc3\\xa7a criativa e energia. Nunca ser\\xc3\\xa1 \\nanunciada ou feita propaganda, mas sua vida interior alcan\\xc3\\xa7ar\\xc3\\xa1 pessoas e elas v\\xc3\\xa3o querer juntar-se a \\nvoc\\xc3\\xaas.  Isto  se  aplicar\\xc3\\xa1  mais  que  tudo,  \\xc3\\xa0queles  que  espiritualmente  pertencem  a  voc\\xc3\\xaas.  Mas  ser\\xc3\\xa1 \\ntamb\\xc3\\xa9m inevit\\xc3\\xa1vel que, ocasionalmente aqueles que n\\xc3\\xa3o pertencem desejar\\xc3\\xa3o se juntar. Isto ser\\xc3\\xa1 um \\nteste  para  todos  voc\\xc3\\xaas  e  ter\\xc3\\xa3o  que  aprender  com  estas  experi\\xc3\\xaancias.  Conforme  seu  movimento \\nganhar for\\xc3\\xa7a interna aqueles que se juntarem ao trabalho v\\xc3\\xa3o tamb\\xc3\\xa9m se juntar ao Centro\\xe2\\x80\\x94e vi\\xc3\\xa7a \\nversa.  Agora,  nem  sempre  isto  estar\\xc3\\xa1  ligado.  Haver\\xc3\\xa1  um  novo  m\\xc3\\xa9todo  para  admitir  aspirantes  ao \\ncaminho \\xe2\\x80\\x93e portanto ao Centro. Isto se desenvolver\\xc3\\xa1 gradualmente. \\n \\nAgora,  digo  que  cada  helper  ter\\xc3\\xa1  uma  longa  entrevista  com  cada  nova  pessoa  e  determinar\\xc3\\xa1  na \\nmedida  do  poss\\xc3\\xadvel,  se  este  caminho  \\xc3\\xa9  indicado  para  o  indiv\\xc3\\xadduo  em  quest\\xc3\\xa3o.  Haver\\xc3\\xa1  tamb\\xc3\\xa9m \\nest\\xc3\\xa1gios  de  admiss\\xc3\\xa3o\\xe2\\x80\\x94de  acordo  com  a  capacidade  de  compromisso  e  entendimento.  Sobre  isso, \\nmais  ser\\xc3\\xa1  dito  depois  quando  for  necess\\xc3\\xa1rio.  Por  agora,  voc\\xc3\\xaas  continuar\\xc3\\xa3o  como  antes.  Ningu\\xc3\\xa9m \\ndeveria vir sem um entendimento profundo e real deste caminho\\xe2\\x80\\x94sobre alguns de seus princ\\xc3\\xadpios. \\nPor exemplo, o princ\\xc3\\xadpio da auto-responsabilidade; da transforma\\xc3\\xa7\\xc3\\xa3o da negatividade; da unidade do \\ndar e receber; da ilus\\xc3\\xa3o da dualidade; e do princ\\xc3\\xadpio unitivo em todos os opostos. \\n \\nEsta  (mensagem)  deveria  ser  mostrada  a  todos  voc\\xc3\\xaas  que  est\\xc3\\xa3o  realmente  comprometidos  com  o \\nCentro  e  seu  crescimento,  e  n\\xc3\\xa3o  \\xc3\\xa0queles  que  t\\xc3\\xaam  um  interesse  passageiro  nele.  N\\xc3\\xa3o  falarei  e \\naconselharei sobre quest\\xc3\\xb5es pr\\xc3\\xa1ticas concernentes \\xc3\\xa0s suas dificuldades financeiras atuais, mas sugiro \\num  grupo  geral,  no  qual  voc\\xc3\\xaas  meditem  e    descubram  o  que  em  voc\\xc3\\xaas,  contribui  para  a  presente \\nsitua\\xc3\\xa7\\xc3\\xa3o. Depois de tal grupo, com subseq\\xc3\\xbcente medita\\xc3\\xa7\\xc3\\xa3o, ent\\xc3\\xa3o voc\\xc3\\xaas deveriam ter uma reuni\\xc3\\xa3o. \\nVoc\\xc3\\xaas ser\\xc3\\xa3o inspirados. \\n_____________________________________________________________________________________________ \\nOs seguintes avisos constituem orienta\\xc3\\xa7\\xc3\\xa3o para o uso do nome Pathwork\\xc2\\xae e do material de palestras : \\n \\nMarca registrada / Marca de servi\\xc3\\xa7o \\nPathwork\\xc2\\xae \\xc3\\xa9  uma marca de  servi\\xc3\\xa7o registrada, de  propriedade  da Pathwork Foundation, e  n\\xc3\\xa3o pode ser usada sem a \\npermiss\\xc3\\xa3o  expressa  por  escrito  da  Funda\\xc3\\xa7\\xc3\\xa3o.  A  Funda\\xc3\\xa7\\xc3\\xa3o  pode,  a  seu  crit\\xc3\\xa9rio  exclusivo,  autorizar  o  uso  da  marca \\nPathwork\\xc2\\xae por outras organiza\\xc3\\xa7\\xc3\\xb5es regionais ou pessoas afiliadas. \\n \\nDireito autoral \\nO direito autoral do material do Guia do Pathwork \\xc3\\xa9 de propriedade exclusiva da Pathwork Foundation. Essa palestra \\npode ser reproduzida, de acordo com a Pol\\xc3\\xadtica de Marca Registrada, Marca de Servi\\xc3\\xa7o e Direito Autoral da Funda\\xc3\\xa7\\xc3\\xa3o, \\nmas o texto n\\xc3\\xa3o pode ser modificado ou abreviado de qualquer maneira, e tampouco podem ser retirados os avisos de \\ndireito autoral, marca registrada ou outros.  N\\xc3\\xa3o \\xc3\\xa9 permitida sua comercializa\\xc3\\xa7\\xc3\\xa3o. \\n \\nConsidera-se que as pessoas ou organiza\\xc3\\xa7\\xc3\\xb5es, autorizadas a usar a marca de servi\\xc3\\xa7o ou o material sujeito a direito autoral \\nda  Pathwork  Foundation tenham concordado  em  cumprir  a  Pol\\xc3\\xadtica  de  Marca  Registrada,  Marca  de  Servi\\xc3\\xa7o  e  Direito \\nAutoral da Funda\\xc3\\xa7\\xc3\\xa3o.  \\n \\n\\n\\x0cMaterial Adicional  Pathwork\\xef\\x83\\xa2 No. 7 \\nP\\xc3\\xa1gina 8 de 8 \\n \\nO  nome  Pathwork  pode  ser  utilizado  exclusivamente  por  facilitadores  e  helpers  que  tenham  conclu\\xc3\\xaddo  os  programas \\nregionais de transforma\\xc3\\xa7\\xc3\\xa3o pessoal reconhecidos pela Pathwork Foundation. \\n \\nPara obter informa\\xc3\\xa7\\xc3\\xb5es ou para participar das atividades do Pathwork, por favor, contate : \\n\\n \\n\\n \\n\\nPathwork\\xc2\\xae Foundation  \\nPO Box 6010, Charlottesville, VA 22906-6010, USA - Visite: www.pathwork.org. \\nPathwork\\xc2\\xae Belo Horizonte (Chapter) \\nR. Santa Catarina , 1630, 30170-081, Belo Horizonte/MG  - Tel: (31) 3335-8457 - E-mail: rnlac@terra.com.br. \\nPathwork\\xc2\\xae Bras\\xc3\\xadlia (Chapter) \\nCLN 406, Bloco E, Sala 211, Ed. Plaza 406 \\xe2\\x80\\x93 Asa Norte \\xe2\\x80\\x93 70847-550, Bras\\xc3\\xadlia/DF - Tel: (61) 272-0691\\xe2\\x80\\x93 E-mail: gildamv@zaz.com.br. \\nPathwork\\xc2\\xae Rio de Janeiro (Chapter) \\nEstrada da Barra 1006, Apto. 702, Bloco 01, 22641-000, Rio de Janeiro/RJ -Tel: (21) 529-2322 \\xe2\\x80\\x93 E-mail: mgrcosta@globo.com. \\nPathwork\\xc2\\xae Rio Grande do Sul (Chapter) \\nAv. Igua\\xc3\\xa7u, 485, cj. 401, 09047-430, Porto Alegre/RS - Tel: (51) 3331-8293 \\xe2\\x80\\x93 E-mail: dcaminha@zaz.com.br. \\nPathwork\\xc2\\xae Salvador (Chapter) \\nRua Guillard Muniz,  412, 41810-110, Salvador/BA  -  Tel:(71)354-2952  -  E-mail: rosacea@magiclink.com.br. \\nPathwork\\xc2\\xae S\\xc3\\xa3o Paulo (Afilliate) \\nRua Roquete Pinto, 401, 05515-010, S\\xc3\\xa3o Paulo/SP - Tel: (11) 3721-0231 - E-mail: pathworksp@attglobal.net  Visite: www.pathwork.com.br. \\n \\n \\n\\n\\x0c'\n"
          ],
          "name": "stdout"
        }
      ]
    },
    {
      "cell_type": "markdown",
      "metadata": {
        "id": "zluWhaJoC-Mg"
      },
      "source": [
        "###4- Chegou o momento de aplicarmos o processamento sobre linguagens naturais para tratar o texto extraído da notícia do site. Vamos começar importando algumas funcionalidades da biblioteca NLTK:"
      ]
    },
    {
      "cell_type": "code",
      "metadata": {
        "id": "tPtut_XFC_i3"
      },
      "source": [
        "from nltk.tokenize import word_tokenize\r\n",
        "from nltk.tokenize import sent_tokenize"
      ],
      "execution_count": 35,
      "outputs": []
    },
    {
      "cell_type": "markdown",
      "metadata": {
        "id": "WAE1tRSuDHMu"
      },
      "source": [
        "###Agora vamos dividir o nosso texto em sentenças e depois em palavras:\r\n"
      ]
    },
    {
      "cell_type": "code",
      "metadata": {
        "id": "kyPcwgyaKd0b"
      },
      "source": [
        "texto=texto.decode(\"utf-8\")\r\n"
      ],
      "execution_count": 36,
      "outputs": []
    },
    {
      "cell_type": "code",
      "metadata": {
        "id": "pli57B-MDGDM"
      },
      "source": [
        "sentencas = sent_tokenize(texto)\r\n",
        "palavras = word_tokenize(texto.lower())"
      ],
      "execution_count": 37,
      "outputs": []
    },
    {
      "cell_type": "markdown",
      "metadata": {
        "id": "Z9_qacmyDVW1"
      },
      "source": [
        "###5- Um detalhe muito importante no processamento de linguagens naturais é identificar as chamadas stopwords do idioma. Stopword nada mais é que uma palavra que possui apenas significado sintático dentro da sentença, porém não traz informações relevantes sobre o seu sentido. As stopwords possuem uma frequência muito grande em todos os idiomas e por esse motivo precisamos eliminá-las das palavras que extraímos do texto. Caso contrário, nosso algoritmo poderia dar importância para palavras como: “e”, “ou”, “para”….e isso certamente atrapalharia nossa análise.\r\n",
        "\r\n",
        "###ATENÇÃO: O processo de “tokenização” do NLTK considera as pontuações do texto como tokens também e por isso não podemos deixar de retirá-los também!\r\n",
        "\r\n",
        "###Retirando as stopwords da nossa lista de palavras:\r\n"
      ]
    },
    {
      "cell_type": "code",
      "metadata": {
        "id": "KhRxNz3ZDly_"
      },
      "source": [
        "from nltk.corpus import stopwords\r\n",
        "from string import punctuation\r\n",
        "stopwords = set(stopwords.words('portuguese') + list(punctuation))\r\n",
        "palavras_sem_stopwords = [palavra for palavra in palavras if palavra not in stopwords]"
      ],
      "execution_count": 38,
      "outputs": []
    },
    {
      "cell_type": "markdown",
      "metadata": {
        "id": "Jdf1ny4kD-D8"
      },
      "source": [
        "###Veja que utilizamos SET (não permite elementos repetidos) e também compreensão de lista. Temos que configurar o idioma das stopwords que queremos, no caso português. Retiramos também todas as pontuações utilizando ponctuation da biblioteca string.\r\n",
        "###Agora temos nossa lista de palavras do texto sem as stopwords, armazenada na variável palavras_sem_stopwords.\r\n",
        "\r\n",
        "\r\n",
        "###6- Hora de criar a nossa distribuição de frequência para essa lista de palavras e descobrir quais são as mais importantes. Para isso, vamos utilizar a função FreqDist da biblioteca nltk.probability:"
      ]
    },
    {
      "cell_type": "code",
      "metadata": {
        "id": "jIHvUSESECnC"
      },
      "source": [
        "from nltk.probability import FreqDist\r\n",
        "frequencia = FreqDist(palavras_sem_stopwords)"
      ],
      "execution_count": 39,
      "outputs": []
    },
    {
      "cell_type": "markdown",
      "metadata": {
        "id": "0zxYTQIlEQOe"
      },
      "source": [
        "###7- Vamos agora separar quais são as sentenças mais importantes do nosso texto. Criaremos um “score” para cada sentença baseado no número de vezes que uma palavra importante se repete dentro dela. Vamos utilizar um dicionário especial chamado defaultdict da biblioteca collections. A principal diferença para um dicionário comum é que ele não lança uma exceção quando você pesquisa por uma chave inexistente (KeyError). Ao contrário, ele adiciona essa chave no dicionário!"
      ]
    },
    {
      "cell_type": "code",
      "metadata": {
        "id": "OI0xfOzHERsf"
      },
      "source": [
        "from collections import defaultdict\r\n",
        "sentencas_importantes = defaultdict(int)"
      ],
      "execution_count": 40,
      "outputs": []
    },
    {
      "cell_type": "markdown",
      "metadata": {
        "id": "Xdyux7q9Ebvk"
      },
      "source": [
        "###Hora de popular o nosso dicionário. Vamos criar um looping para percorrer todas as sentenças e coletar todas as estatísticas:"
      ]
    },
    {
      "cell_type": "code",
      "metadata": {
        "id": "CIO2en4BEcsY"
      },
      "source": [
        "for i, sentenca in enumerate(sentencas):\r\n",
        "    for palavra in word_tokenize(sentenca.lower()):\r\n",
        "        if palavra in frequencia:\r\n",
        "            sentencas_importantes[i] += frequencia[palavra]"
      ],
      "execution_count": 41,
      "outputs": []
    },
    {
      "cell_type": "markdown",
      "metadata": {
        "id": "G9OIFuZrEk8W"
      },
      "source": [
        "###Note que o código acima popula o dicionário com o índice da sentença (key) e a soma da frequência de cada palavra presente na sentença (value).\r\n",
        "\r\n",
        "###9- Pronto! De posse dessas informações, podemos selecionar no nosso dicionário as “n” sentenças mais importantes para formar o nosso resumo. Para facilitar a nossa vida, vamos usar a funcionalidade nlargest da biblioteca heapq:"
      ]
    },
    {
      "cell_type": "code",
      "metadata": {
        "id": "TgGcXrjcEn0a"
      },
      "source": [
        "from heapq import nlargest\r\n",
        "idx_sentencas_importantes = nlargest(4, sentencas_importantes, sentencas_importantes.get)"
      ],
      "execution_count": 42,
      "outputs": []
    },
    {
      "cell_type": "markdown",
      "metadata": {
        "id": "t3dn1d6hE1b-"
      },
      "source": [
        "###No código acima, eu escolhi as 4 sentenças mais importantes!\r\n",
        "\r\n",
        "###10- Finalmente podemos criar o nosso resumo:"
      ]
    },
    {
      "cell_type": "code",
      "metadata": {
        "colab": {
          "base_uri": "https://localhost:8080/"
        },
        "id": "mGZ6joFUE3g6",
        "outputId": "4df2452f-06c7-46dd-b043-c03b97edbbb1"
      },
      "source": [
        "for i in sorted(idx_sentencas_importantes):\r\n",
        "    print(sentencas[i])"
      ],
      "execution_count": 43,
      "outputs": [
        {
          "output_type": "stream",
          "text": [
            "Nenhum assunto é tão pequeno que não mereça atenção total.. \n",
            " \n",
            "Deveria haver reuniões diárias, (às quais vocês podem chamar de grupos de confronto) onde não só \n",
            "as pessoas perturbadas, ansiosas ou infelizes que precisam de ajuda do grupo deveriam trabalhar mas \n",
            "o trabalho também deveria ser feito confrontando aqueles que talvez sintam que nenhuma ajuda é \n",
            "necessária no momento e que podem estar abstraídos das suas expressões negativas que são notadas \n",
            "por outros.\n",
            "Quando  há \n",
            "aqueles que rejeitam a  mente—o intelecto e o conhecimento existente—(que é afinal só mais uma \n",
            "expressão da Criação Divina) então isto deve ser trabalhado.Tal pessoa  deveria reconhecer que para \n",
            "ela, aprender algumas das coisas do mundo talvez seja mais importante do que para aquele que usa o \n",
            "conhecimento exterior como um meio de evitar suas negatividades e seu eu que sente.\n",
            "_____________________________________________________________________________________________ \n",
            "Os seguintes avisos constituem orientação para o uso do nome Pathwork® e do material de palestras : \n",
            " \n",
            "Marca registrada / Marca de serviço \n",
            "Pathwork® é  uma marca de  serviço registrada, de  propriedade  da Pathwork Foundation, e  não pode ser usada sem a \n",
            "permissão  expressa  por  escrito  da  Fundação.\n",
            "Essa palestra \n",
            "pode ser reproduzida, de acordo com a Política de Marca Registrada, Marca de Serviço e Direito Autoral da Fundação, \n",
            "mas o texto não pode ser modificado ou abreviado de qualquer maneira, e tampouco podem ser retirados os avisos de \n",
            "direito autoral, marca registrada ou outros.\n"
          ],
          "name": "stdout"
        }
      ]
    },
    {
      "cell_type": "markdown",
      "metadata": {
        "id": "ItlqMeTbFLHO"
      },
      "source": [
        "###A frase “sem sentido” no início do resumo é a legenda da foto contida na notícia!\r\n"
      ]
    },
    {
      "cell_type": "code",
      "metadata": {
        "id": "FXzRpaR6FL55"
      },
      "source": [
        ""
      ],
      "execution_count": 43,
      "outputs": []
    }
  ]
}