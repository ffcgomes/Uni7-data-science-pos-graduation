{
  "nbformat": 4,
  "nbformat_minor": 0,
  "metadata": {
    "kernelspec": {
      "display_name": "Python 3",
      "language": "python",
      "name": "python3"
    },
    "language_info": {
      "codemirror_mode": {
        "name": "ipython",
        "version": 3
      },
      "file_extension": ".py",
      "mimetype": "text/x-python",
      "name": "python",
      "nbconvert_exporter": "python",
      "pygments_lexer": "ipython3",
      "version": "3.8.5"
    },
    "colab": {
      "name": "aula_tensorflow-series-temporais.ipynb",
      "provenance": []
    }
  },
  "cells": [
    {
      "cell_type": "code",
      "metadata": {
        "collapsed": true,
        "jupyter": {
          "outputs_hidden": true
        },
        "id": "8Wf6BwlT0trA",
        "outputId": "69e011d8-792e-4fc8-a966-10c083ed21ea"
      },
      "source": [
        "!pip install tensorflow"
      ],
      "execution_count": null,
      "outputs": [
        {
          "output_type": "stream",
          "text": [
            "Requirement already satisfied: tensorflow in c:\\users\\lucas\\anaconda3\\lib\\site-packages (2.4.1)\n",
            "Requirement already satisfied: astunparse~=1.6.3 in c:\\users\\lucas\\anaconda3\\lib\\site-packages (from tensorflow) (1.6.3)\n",
            "Requirement already satisfied: tensorboard~=2.4 in c:\\users\\lucas\\anaconda3\\lib\\site-packages (from tensorflow) (2.4.0)\n",
            "Requirement already satisfied: opt-einsum~=3.3.0 in c:\\users\\lucas\\anaconda3\\lib\\site-packages (from tensorflow) (3.3.0)\n",
            "Requirement already satisfied: wrapt~=1.12.1 in c:\\users\\lucas\\appdata\\roaming\\python\\python38\\site-packages (from tensorflow) (1.12.1)\n",
            "Requirement already satisfied: protobuf>=3.9.2 in c:\\users\\lucas\\anaconda3\\lib\\site-packages (from tensorflow) (3.14.0)\n",
            "Requirement already satisfied: wheel~=0.35 in c:\\users\\lucas\\anaconda3\\lib\\site-packages (from tensorflow) (0.35.1)\n",
            "Requirement already satisfied: absl-py~=0.10 in c:\\users\\lucas\\anaconda3\\lib\\site-packages (from tensorflow) (0.11.0)\n",
            "Requirement already satisfied: gast==0.3.3 in c:\\users\\lucas\\anaconda3\\lib\\site-packages (from tensorflow) (0.3.3)\n",
            "Requirement already satisfied: h5py~=2.10.0 in c:\\users\\lucas\\anaconda3\\lib\\site-packages (from tensorflow) (2.10.0)\n",
            "Requirement already satisfied: numpy~=1.19.2 in c:\\users\\lucas\\anaconda3\\lib\\site-packages (from tensorflow) (1.19.5)\n",
            "Requirement already satisfied: grpcio~=1.32.0 in c:\\users\\lucas\\appdata\\roaming\\python\\python38\\site-packages (from tensorflow) (1.32.0)\n",
            "Requirement already satisfied: flatbuffers~=1.12.0 in c:\\users\\lucas\\anaconda3\\lib\\site-packages (from tensorflow) (1.12)\n",
            "Requirement already satisfied: six~=1.15.0 in c:\\users\\lucas\\anaconda3\\lib\\site-packages (from tensorflow) (1.15.0)\n",
            "Requirement already satisfied: typing-extensions~=3.7.4 in c:\\users\\lucas\\anaconda3\\lib\\site-packages (from tensorflow) (3.7.4.3)\n",
            "Requirement already satisfied: tensorflow-estimator<2.5.0,>=2.4.0 in c:\\users\\lucas\\appdata\\roaming\\python\\python38\\site-packages (from tensorflow) (2.4.0)\n",
            "Requirement already satisfied: keras-preprocessing~=1.1.2 in c:\\users\\lucas\\anaconda3\\lib\\site-packages (from tensorflow) (1.1.2)\n",
            "Requirement already satisfied: termcolor~=1.1.0 in c:\\users\\lucas\\anaconda3\\lib\\site-packages (from tensorflow) (1.1.0)\n",
            "Requirement already satisfied: google-pasta~=0.2 in c:\\users\\lucas\\anaconda3\\lib\\site-packages (from tensorflow) (0.2.0)\n",
            "Requirement already satisfied: google-auth<2,>=1.6.3 in c:\\users\\lucas\\anaconda3\\lib\\site-packages (from tensorboard~=2.4->tensorflow) (1.23.0)\n",
            "Requirement already satisfied: google-auth-oauthlib<0.5,>=0.4.1 in c:\\users\\lucas\\anaconda3\\lib\\site-packages (from tensorboard~=2.4->tensorflow) (0.4.2)\n",
            "Requirement already satisfied: markdown>=2.6.8 in c:\\users\\lucas\\anaconda3\\lib\\site-packages (from tensorboard~=2.4->tensorflow) (3.3.3)\n",
            "Requirement already satisfied: tensorboard-plugin-wit>=1.6.0 in c:\\users\\lucas\\anaconda3\\lib\\site-packages (from tensorboard~=2.4->tensorflow) (1.7.0)\n",
            "Requirement already satisfied: requests<3,>=2.21.0 in c:\\users\\lucas\\anaconda3\\lib\\site-packages (from tensorboard~=2.4->tensorflow) (2.24.0)\n",
            "Requirement already satisfied: setuptools>=41.0.0 in c:\\users\\lucas\\anaconda3\\lib\\site-packages (from tensorboard~=2.4->tensorflow) (50.3.1.post20201107)\n",
            "Requirement already satisfied: werkzeug>=0.11.15 in c:\\users\\lucas\\anaconda3\\lib\\site-packages (from tensorboard~=2.4->tensorflow) (1.0.1)\n",
            "Requirement already satisfied: rsa<5,>=3.1.4; python_version >= \"3.5\" in c:\\users\\lucas\\anaconda3\\lib\\site-packages (from google-auth<2,>=1.6.3->tensorboard~=2.4->tensorflow) (4.6)\n",
            "Requirement already satisfied: cachetools<5.0,>=2.0.0 in c:\\users\\lucas\\anaconda3\\lib\\site-packages (from google-auth<2,>=1.6.3->tensorboard~=2.4->tensorflow) (4.1.1)\n",
            "Requirement already satisfied: pyasn1-modules>=0.2.1 in c:\\users\\lucas\\anaconda3\\lib\\site-packages (from google-auth<2,>=1.6.3->tensorboard~=2.4->tensorflow) (0.2.8)\n",
            "Requirement already satisfied: requests-oauthlib>=0.7.0 in c:\\users\\lucas\\anaconda3\\lib\\site-packages (from google-auth-oauthlib<0.5,>=0.4.1->tensorboard~=2.4->tensorflow) (1.3.0)\n",
            "Requirement already satisfied: urllib3!=1.25.0,!=1.25.1,<1.26,>=1.21.1 in c:\\users\\lucas\\anaconda3\\lib\\site-packages (from requests<3,>=2.21.0->tensorboard~=2.4->tensorflow) (1.25.11)\n",
            "Requirement already satisfied: chardet<4,>=3.0.2 in c:\\users\\lucas\\anaconda3\\lib\\site-packages (from requests<3,>=2.21.0->tensorboard~=2.4->tensorflow) (3.0.4)\n",
            "Requirement already satisfied: certifi>=2017.4.17 in c:\\users\\lucas\\anaconda3\\lib\\site-packages (from requests<3,>=2.21.0->tensorboard~=2.4->tensorflow) (2020.6.20)\n",
            "Requirement already satisfied: idna<3,>=2.5 in c:\\users\\lucas\\anaconda3\\lib\\site-packages (from requests<3,>=2.21.0->tensorboard~=2.4->tensorflow) (2.10)\n",
            "Requirement already satisfied: pyasn1>=0.1.3 in c:\\users\\lucas\\anaconda3\\lib\\site-packages (from rsa<5,>=3.1.4; python_version >= \"3.5\"->google-auth<2,>=1.6.3->tensorboard~=2.4->tensorflow) (0.4.8)\n",
            "Requirement already satisfied: oauthlib>=3.0.0 in c:\\users\\lucas\\anaconda3\\lib\\site-packages (from requests-oauthlib>=0.7.0->google-auth-oauthlib<0.5,>=0.4.1->tensorboard~=2.4->tensorflow) (3.1.0)\n"
          ],
          "name": "stdout"
        }
      ]
    },
    {
      "cell_type": "code",
      "metadata": {
        "id": "GtUgQ-DE0trH"
      },
      "source": [
        "import tensorflow as tf\n",
        "from tensorflow import keras\n",
        "\n",
        "import numpy as np\n",
        "import matplotlib.pyplot as plt"
      ],
      "execution_count": null,
      "outputs": []
    },
    {
      "cell_type": "code",
      "metadata": {
        "id": "ji3NUrQs0trI"
      },
      "source": [
        "fashion_mnist = keras.datasets.fashion_mnist\n",
        "\n",
        "(train_images,train_labels), (test_images,test_labels) = fashion_mnist.load_data()"
      ],
      "execution_count": null,
      "outputs": []
    },
    {
      "cell_type": "code",
      "metadata": {
        "id": "pDimkiex0trI"
      },
      "source": [
        "class_names = ['T-shirt/top', 'Trouser', 'Pullover', 'Dress', 'Coat', \n",
        "               'Sandal', 'Shirt', 'Sneaker', 'Bag', 'Ankle boot']"
      ],
      "execution_count": null,
      "outputs": []
    },
    {
      "cell_type": "code",
      "metadata": {
        "id": "HRvD2bp-0trI",
        "outputId": "2d93fe5c-aa42-4d73-b00b-57cb5868a2fb"
      },
      "source": [
        "train_images.shape"
      ],
      "execution_count": null,
      "outputs": [
        {
          "output_type": "execute_result",
          "data": {
            "text/plain": [
              "(60000, 28, 28)"
            ]
          },
          "metadata": {
            "tags": []
          },
          "execution_count": 5
        }
      ]
    },
    {
      "cell_type": "code",
      "metadata": {
        "id": "jzWLJT_k0trJ",
        "outputId": "b31050ad-a238-46fa-807b-780965f9de92"
      },
      "source": [
        "len(train_labels)"
      ],
      "execution_count": null,
      "outputs": [
        {
          "output_type": "execute_result",
          "data": {
            "text/plain": [
              "60000"
            ]
          },
          "metadata": {
            "tags": []
          },
          "execution_count": 6
        }
      ]
    },
    {
      "cell_type": "code",
      "metadata": {
        "id": "Vggizkl60trJ",
        "outputId": "95931a32-5fae-45ca-e7fe-5ee49f38bd02"
      },
      "source": [
        "train_labels"
      ],
      "execution_count": null,
      "outputs": [
        {
          "output_type": "execute_result",
          "data": {
            "text/plain": [
              "array([9, 0, 0, ..., 3, 0, 5], dtype=uint8)"
            ]
          },
          "metadata": {
            "tags": []
          },
          "execution_count": 7
        }
      ]
    },
    {
      "cell_type": "code",
      "metadata": {
        "id": "HGhBo-PO0trJ",
        "outputId": "7fd03f6f-c6ad-408b-dc7c-00d1da0df0a6"
      },
      "source": [
        "test_images.shape"
      ],
      "execution_count": null,
      "outputs": [
        {
          "output_type": "execute_result",
          "data": {
            "text/plain": [
              "(10000, 28, 28)"
            ]
          },
          "metadata": {
            "tags": []
          },
          "execution_count": 8
        }
      ]
    },
    {
      "cell_type": "code",
      "metadata": {
        "collapsed": true,
        "jupyter": {
          "outputs_hidden": true
        },
        "id": "UMsfm7O90trK",
        "outputId": "fabcfc31-e1e0-4479-8281-3adba53ad6dc"
      },
      "source": [
        "train_images[0]"
      ],
      "execution_count": null,
      "outputs": [
        {
          "output_type": "execute_result",
          "data": {
            "text/plain": [
              "array([[  0,   0,   0,   0,   0,   0,   0,   0,   0,   0,   0,   0,   0,\n",
              "          0,   0,   0,   0,   0,   0,   0,   0,   0,   0,   0,   0,   0,\n",
              "          0,   0],\n",
              "       [  0,   0,   0,   0,   0,   0,   0,   0,   0,   0,   0,   0,   0,\n",
              "          0,   0,   0,   0,   0,   0,   0,   0,   0,   0,   0,   0,   0,\n",
              "          0,   0],\n",
              "       [  0,   0,   0,   0,   0,   0,   0,   0,   0,   0,   0,   0,   0,\n",
              "          0,   0,   0,   0,   0,   0,   0,   0,   0,   0,   0,   0,   0,\n",
              "          0,   0],\n",
              "       [  0,   0,   0,   0,   0,   0,   0,   0,   0,   0,   0,   0,   1,\n",
              "          0,   0,  13,  73,   0,   0,   1,   4,   0,   0,   0,   0,   1,\n",
              "          1,   0],\n",
              "       [  0,   0,   0,   0,   0,   0,   0,   0,   0,   0,   0,   0,   3,\n",
              "          0,  36, 136, 127,  62,  54,   0,   0,   0,   1,   3,   4,   0,\n",
              "          0,   3],\n",
              "       [  0,   0,   0,   0,   0,   0,   0,   0,   0,   0,   0,   0,   6,\n",
              "          0, 102, 204, 176, 134, 144, 123,  23,   0,   0,   0,   0,  12,\n",
              "         10,   0],\n",
              "       [  0,   0,   0,   0,   0,   0,   0,   0,   0,   0,   0,   0,   0,\n",
              "          0, 155, 236, 207, 178, 107, 156, 161, 109,  64,  23,  77, 130,\n",
              "         72,  15],\n",
              "       [  0,   0,   0,   0,   0,   0,   0,   0,   0,   0,   0,   1,   0,\n",
              "         69, 207, 223, 218, 216, 216, 163, 127, 121, 122, 146, 141,  88,\n",
              "        172,  66],\n",
              "       [  0,   0,   0,   0,   0,   0,   0,   0,   0,   1,   1,   1,   0,\n",
              "        200, 232, 232, 233, 229, 223, 223, 215, 213, 164, 127, 123, 196,\n",
              "        229,   0],\n",
              "       [  0,   0,   0,   0,   0,   0,   0,   0,   0,   0,   0,   0,   0,\n",
              "        183, 225, 216, 223, 228, 235, 227, 224, 222, 224, 221, 223, 245,\n",
              "        173,   0],\n",
              "       [  0,   0,   0,   0,   0,   0,   0,   0,   0,   0,   0,   0,   0,\n",
              "        193, 228, 218, 213, 198, 180, 212, 210, 211, 213, 223, 220, 243,\n",
              "        202,   0],\n",
              "       [  0,   0,   0,   0,   0,   0,   0,   0,   0,   1,   3,   0,  12,\n",
              "        219, 220, 212, 218, 192, 169, 227, 208, 218, 224, 212, 226, 197,\n",
              "        209,  52],\n",
              "       [  0,   0,   0,   0,   0,   0,   0,   0,   0,   0,   6,   0,  99,\n",
              "        244, 222, 220, 218, 203, 198, 221, 215, 213, 222, 220, 245, 119,\n",
              "        167,  56],\n",
              "       [  0,   0,   0,   0,   0,   0,   0,   0,   0,   4,   0,   0,  55,\n",
              "        236, 228, 230, 228, 240, 232, 213, 218, 223, 234, 217, 217, 209,\n",
              "         92,   0],\n",
              "       [  0,   0,   1,   4,   6,   7,   2,   0,   0,   0,   0,   0, 237,\n",
              "        226, 217, 223, 222, 219, 222, 221, 216, 223, 229, 215, 218, 255,\n",
              "         77,   0],\n",
              "       [  0,   3,   0,   0,   0,   0,   0,   0,   0,  62, 145, 204, 228,\n",
              "        207, 213, 221, 218, 208, 211, 218, 224, 223, 219, 215, 224, 244,\n",
              "        159,   0],\n",
              "       [  0,   0,   0,   0,  18,  44,  82, 107, 189, 228, 220, 222, 217,\n",
              "        226, 200, 205, 211, 230, 224, 234, 176, 188, 250, 248, 233, 238,\n",
              "        215,   0],\n",
              "       [  0,  57, 187, 208, 224, 221, 224, 208, 204, 214, 208, 209, 200,\n",
              "        159, 245, 193, 206, 223, 255, 255, 221, 234, 221, 211, 220, 232,\n",
              "        246,   0],\n",
              "       [  3, 202, 228, 224, 221, 211, 211, 214, 205, 205, 205, 220, 240,\n",
              "         80, 150, 255, 229, 221, 188, 154, 191, 210, 204, 209, 222, 228,\n",
              "        225,   0],\n",
              "       [ 98, 233, 198, 210, 222, 229, 229, 234, 249, 220, 194, 215, 217,\n",
              "        241,  65,  73, 106, 117, 168, 219, 221, 215, 217, 223, 223, 224,\n",
              "        229,  29],\n",
              "       [ 75, 204, 212, 204, 193, 205, 211, 225, 216, 185, 197, 206, 198,\n",
              "        213, 240, 195, 227, 245, 239, 223, 218, 212, 209, 222, 220, 221,\n",
              "        230,  67],\n",
              "       [ 48, 203, 183, 194, 213, 197, 185, 190, 194, 192, 202, 214, 219,\n",
              "        221, 220, 236, 225, 216, 199, 206, 186, 181, 177, 172, 181, 205,\n",
              "        206, 115],\n",
              "       [  0, 122, 219, 193, 179, 171, 183, 196, 204, 210, 213, 207, 211,\n",
              "        210, 200, 196, 194, 191, 195, 191, 198, 192, 176, 156, 167, 177,\n",
              "        210,  92],\n",
              "       [  0,   0,  74, 189, 212, 191, 175, 172, 175, 181, 185, 188, 189,\n",
              "        188, 193, 198, 204, 209, 210, 210, 211, 188, 188, 194, 192, 216,\n",
              "        170,   0],\n",
              "       [  2,   0,   0,   0,  66, 200, 222, 237, 239, 242, 246, 243, 244,\n",
              "        221, 220, 193, 191, 179, 182, 182, 181, 176, 166, 168,  99,  58,\n",
              "          0,   0],\n",
              "       [  0,   0,   0,   0,   0,   0,   0,  40,  61,  44,  72,  41,  35,\n",
              "          0,   0,   0,   0,   0,   0,   0,   0,   0,   0,   0,   0,   0,\n",
              "          0,   0],\n",
              "       [  0,   0,   0,   0,   0,   0,   0,   0,   0,   0,   0,   0,   0,\n",
              "          0,   0,   0,   0,   0,   0,   0,   0,   0,   0,   0,   0,   0,\n",
              "          0,   0],\n",
              "       [  0,   0,   0,   0,   0,   0,   0,   0,   0,   0,   0,   0,   0,\n",
              "          0,   0,   0,   0,   0,   0,   0,   0,   0,   0,   0,   0,   0,\n",
              "          0,   0]], dtype=uint8)"
            ]
          },
          "metadata": {
            "tags": []
          },
          "execution_count": 10
        }
      ]
    },
    {
      "cell_type": "code",
      "metadata": {
        "id": "3OcwJCmI0trK",
        "outputId": "262c6753-2bf7-448a-a6b7-6c706b677a40"
      },
      "source": [
        "plt.figure()\n",
        "plt.imshow(train_images[0])\n",
        "plt.colorbar()\n",
        "plt.show()"
      ],
      "execution_count": null,
      "outputs": [
        {
          "output_type": "display_data",
          "data": {
            "image/png": "[encoded data removed]",
            "text/plain": [
              "<Figure size 432x288 with 2 Axes>"
            ]
          },
          "metadata": {
            "tags": [],
            "needs_background": "light"
          }
        }
      ]
    },
    {
      "cell_type": "code",
      "metadata": {
        "id": "jwSeiQLO0trK"
      },
      "source": [
        "train_images = train_images / 255.0\n",
        "test_images = test_images / 255.0"
      ],
      "execution_count": null,
      "outputs": []
    },
    {
      "cell_type": "code",
      "metadata": {
        "collapsed": true,
        "jupyter": {
          "outputs_hidden": true
        },
        "id": "UFMxaEmJ0trK",
        "outputId": "a6a6830d-c830-4831-c19c-567013ced1c7"
      },
      "source": [
        "train_images[0]"
      ],
      "execution_count": null,
      "outputs": [
        {
          "output_type": "execute_result",
          "data": {
            "text/plain": [
              "array([[0.        , 0.        , 0.        , 0.        , 0.        ,\n",
              "        0.        , 0.        , 0.        , 0.        , 0.        ,\n",
              "        0.        , 0.        , 0.        , 0.        , 0.        ,\n",
              "        0.        , 0.        , 0.        , 0.        , 0.        ,\n",
              "        0.        , 0.        , 0.        , 0.        , 0.        ,\n",
              "        0.        , 0.        , 0.        ],\n",
              "       [0.        , 0.        , 0.        , 0.        , 0.        ,\n",
              "        0.        , 0.        , 0.        , 0.        , 0.        ,\n",
              "        0.        , 0.        , 0.        , 0.        , 0.        ,\n",
              "        0.        , 0.        , 0.        , 0.        , 0.        ,\n",
              "        0.        , 0.        , 0.        , 0.        , 0.        ,\n",
              "        0.        , 0.        , 0.        ],\n",
              "       [0.        , 0.        , 0.        , 0.        , 0.        ,\n",
              "        0.        , 0.        , 0.        , 0.        , 0.        ,\n",
              "        0.        , 0.        , 0.        , 0.        , 0.        ,\n",
              "        0.        , 0.        , 0.        , 0.        , 0.        ,\n",
              "        0.        , 0.        , 0.        , 0.        , 0.        ,\n",
              "        0.        , 0.        , 0.        ],\n",
              "       [0.        , 0.        , 0.        , 0.        , 0.        ,\n",
              "        0.        , 0.        , 0.        , 0.        , 0.        ,\n",
              "        0.        , 0.        , 0.00392157, 0.        , 0.        ,\n",
              "        0.05098039, 0.28627451, 0.        , 0.        , 0.00392157,\n",
              "        0.01568627, 0.        , 0.        , 0.        , 0.        ,\n",
              "        0.00392157, 0.00392157, 0.        ],\n",
              "       [0.        , 0.        , 0.        , 0.        , 0.        ,\n",
              "        0.        , 0.        , 0.        , 0.        , 0.        ,\n",
              "        0.        , 0.        , 0.01176471, 0.        , 0.14117647,\n",
              "        0.53333333, 0.49803922, 0.24313725, 0.21176471, 0.        ,\n",
              "        0.        , 0.        , 0.00392157, 0.01176471, 0.01568627,\n",
              "        0.        , 0.        , 0.01176471],\n",
              "       [0.        , 0.        , 0.        , 0.        , 0.        ,\n",
              "        0.        , 0.        , 0.        , 0.        , 0.        ,\n",
              "        0.        , 0.        , 0.02352941, 0.        , 0.4       ,\n",
              "        0.8       , 0.69019608, 0.5254902 , 0.56470588, 0.48235294,\n",
              "        0.09019608, 0.        , 0.        , 0.        , 0.        ,\n",
              "        0.04705882, 0.03921569, 0.        ],\n",
              "       [0.        , 0.        , 0.        , 0.        , 0.        ,\n",
              "        0.        , 0.        , 0.        , 0.        , 0.        ,\n",
              "        0.        , 0.        , 0.        , 0.        , 0.60784314,\n",
              "        0.9254902 , 0.81176471, 0.69803922, 0.41960784, 0.61176471,\n",
              "        0.63137255, 0.42745098, 0.25098039, 0.09019608, 0.30196078,\n",
              "        0.50980392, 0.28235294, 0.05882353],\n",
              "       [0.        , 0.        , 0.        , 0.        , 0.        ,\n",
              "        0.        , 0.        , 0.        , 0.        , 0.        ,\n",
              "        0.        , 0.00392157, 0.        , 0.27058824, 0.81176471,\n",
              "        0.8745098 , 0.85490196, 0.84705882, 0.84705882, 0.63921569,\n",
              "        0.49803922, 0.4745098 , 0.47843137, 0.57254902, 0.55294118,\n",
              "        0.34509804, 0.6745098 , 0.25882353],\n",
              "       [0.        , 0.        , 0.        , 0.        , 0.        ,\n",
              "        0.        , 0.        , 0.        , 0.        , 0.00392157,\n",
              "        0.00392157, 0.00392157, 0.        , 0.78431373, 0.90980392,\n",
              "        0.90980392, 0.91372549, 0.89803922, 0.8745098 , 0.8745098 ,\n",
              "        0.84313725, 0.83529412, 0.64313725, 0.49803922, 0.48235294,\n",
              "        0.76862745, 0.89803922, 0.        ],\n",
              "       [0.        , 0.        , 0.        , 0.        , 0.        ,\n",
              "        0.        , 0.        , 0.        , 0.        , 0.        ,\n",
              "        0.        , 0.        , 0.        , 0.71764706, 0.88235294,\n",
              "        0.84705882, 0.8745098 , 0.89411765, 0.92156863, 0.89019608,\n",
              "        0.87843137, 0.87058824, 0.87843137, 0.86666667, 0.8745098 ,\n",
              "        0.96078431, 0.67843137, 0.        ],\n",
              "       [0.        , 0.        , 0.        , 0.        , 0.        ,\n",
              "        0.        , 0.        , 0.        , 0.        , 0.        ,\n",
              "        0.        , 0.        , 0.        , 0.75686275, 0.89411765,\n",
              "        0.85490196, 0.83529412, 0.77647059, 0.70588235, 0.83137255,\n",
              "        0.82352941, 0.82745098, 0.83529412, 0.8745098 , 0.8627451 ,\n",
              "        0.95294118, 0.79215686, 0.        ],\n",
              "       [0.        , 0.        , 0.        , 0.        , 0.        ,\n",
              "        0.        , 0.        , 0.        , 0.        , 0.00392157,\n",
              "        0.01176471, 0.        , 0.04705882, 0.85882353, 0.8627451 ,\n",
              "        0.83137255, 0.85490196, 0.75294118, 0.6627451 , 0.89019608,\n",
              "        0.81568627, 0.85490196, 0.87843137, 0.83137255, 0.88627451,\n",
              "        0.77254902, 0.81960784, 0.20392157],\n",
              "       [0.        , 0.        , 0.        , 0.        , 0.        ,\n",
              "        0.        , 0.        , 0.        , 0.        , 0.        ,\n",
              "        0.02352941, 0.        , 0.38823529, 0.95686275, 0.87058824,\n",
              "        0.8627451 , 0.85490196, 0.79607843, 0.77647059, 0.86666667,\n",
              "        0.84313725, 0.83529412, 0.87058824, 0.8627451 , 0.96078431,\n",
              "        0.46666667, 0.65490196, 0.21960784],\n",
              "       [0.        , 0.        , 0.        , 0.        , 0.        ,\n",
              "        0.        , 0.        , 0.        , 0.        , 0.01568627,\n",
              "        0.        , 0.        , 0.21568627, 0.9254902 , 0.89411765,\n",
              "        0.90196078, 0.89411765, 0.94117647, 0.90980392, 0.83529412,\n",
              "        0.85490196, 0.8745098 , 0.91764706, 0.85098039, 0.85098039,\n",
              "        0.81960784, 0.36078431, 0.        ],\n",
              "       [0.        , 0.        , 0.00392157, 0.01568627, 0.02352941,\n",
              "        0.02745098, 0.00784314, 0.        , 0.        , 0.        ,\n",
              "        0.        , 0.        , 0.92941176, 0.88627451, 0.85098039,\n",
              "        0.8745098 , 0.87058824, 0.85882353, 0.87058824, 0.86666667,\n",
              "        0.84705882, 0.8745098 , 0.89803922, 0.84313725, 0.85490196,\n",
              "        1.        , 0.30196078, 0.        ],\n",
              "       [0.        , 0.01176471, 0.        , 0.        , 0.        ,\n",
              "        0.        , 0.        , 0.        , 0.        , 0.24313725,\n",
              "        0.56862745, 0.8       , 0.89411765, 0.81176471, 0.83529412,\n",
              "        0.86666667, 0.85490196, 0.81568627, 0.82745098, 0.85490196,\n",
              "        0.87843137, 0.8745098 , 0.85882353, 0.84313725, 0.87843137,\n",
              "        0.95686275, 0.62352941, 0.        ],\n",
              "       [0.        , 0.        , 0.        , 0.        , 0.07058824,\n",
              "        0.17254902, 0.32156863, 0.41960784, 0.74117647, 0.89411765,\n",
              "        0.8627451 , 0.87058824, 0.85098039, 0.88627451, 0.78431373,\n",
              "        0.80392157, 0.82745098, 0.90196078, 0.87843137, 0.91764706,\n",
              "        0.69019608, 0.7372549 , 0.98039216, 0.97254902, 0.91372549,\n",
              "        0.93333333, 0.84313725, 0.        ],\n",
              "       [0.        , 0.22352941, 0.73333333, 0.81568627, 0.87843137,\n",
              "        0.86666667, 0.87843137, 0.81568627, 0.8       , 0.83921569,\n",
              "        0.81568627, 0.81960784, 0.78431373, 0.62352941, 0.96078431,\n",
              "        0.75686275, 0.80784314, 0.8745098 , 1.        , 1.        ,\n",
              "        0.86666667, 0.91764706, 0.86666667, 0.82745098, 0.8627451 ,\n",
              "        0.90980392, 0.96470588, 0.        ],\n",
              "       [0.01176471, 0.79215686, 0.89411765, 0.87843137, 0.86666667,\n",
              "        0.82745098, 0.82745098, 0.83921569, 0.80392157, 0.80392157,\n",
              "        0.80392157, 0.8627451 , 0.94117647, 0.31372549, 0.58823529,\n",
              "        1.        , 0.89803922, 0.86666667, 0.7372549 , 0.60392157,\n",
              "        0.74901961, 0.82352941, 0.8       , 0.81960784, 0.87058824,\n",
              "        0.89411765, 0.88235294, 0.        ],\n",
              "       [0.38431373, 0.91372549, 0.77647059, 0.82352941, 0.87058824,\n",
              "        0.89803922, 0.89803922, 0.91764706, 0.97647059, 0.8627451 ,\n",
              "        0.76078431, 0.84313725, 0.85098039, 0.94509804, 0.25490196,\n",
              "        0.28627451, 0.41568627, 0.45882353, 0.65882353, 0.85882353,\n",
              "        0.86666667, 0.84313725, 0.85098039, 0.8745098 , 0.8745098 ,\n",
              "        0.87843137, 0.89803922, 0.11372549],\n",
              "       [0.29411765, 0.8       , 0.83137255, 0.8       , 0.75686275,\n",
              "        0.80392157, 0.82745098, 0.88235294, 0.84705882, 0.7254902 ,\n",
              "        0.77254902, 0.80784314, 0.77647059, 0.83529412, 0.94117647,\n",
              "        0.76470588, 0.89019608, 0.96078431, 0.9372549 , 0.8745098 ,\n",
              "        0.85490196, 0.83137255, 0.81960784, 0.87058824, 0.8627451 ,\n",
              "        0.86666667, 0.90196078, 0.2627451 ],\n",
              "       [0.18823529, 0.79607843, 0.71764706, 0.76078431, 0.83529412,\n",
              "        0.77254902, 0.7254902 , 0.74509804, 0.76078431, 0.75294118,\n",
              "        0.79215686, 0.83921569, 0.85882353, 0.86666667, 0.8627451 ,\n",
              "        0.9254902 , 0.88235294, 0.84705882, 0.78039216, 0.80784314,\n",
              "        0.72941176, 0.70980392, 0.69411765, 0.6745098 , 0.70980392,\n",
              "        0.80392157, 0.80784314, 0.45098039],\n",
              "       [0.        , 0.47843137, 0.85882353, 0.75686275, 0.70196078,\n",
              "        0.67058824, 0.71764706, 0.76862745, 0.8       , 0.82352941,\n",
              "        0.83529412, 0.81176471, 0.82745098, 0.82352941, 0.78431373,\n",
              "        0.76862745, 0.76078431, 0.74901961, 0.76470588, 0.74901961,\n",
              "        0.77647059, 0.75294118, 0.69019608, 0.61176471, 0.65490196,\n",
              "        0.69411765, 0.82352941, 0.36078431],\n",
              "       [0.        , 0.        , 0.29019608, 0.74117647, 0.83137255,\n",
              "        0.74901961, 0.68627451, 0.6745098 , 0.68627451, 0.70980392,\n",
              "        0.7254902 , 0.7372549 , 0.74117647, 0.7372549 , 0.75686275,\n",
              "        0.77647059, 0.8       , 0.81960784, 0.82352941, 0.82352941,\n",
              "        0.82745098, 0.7372549 , 0.7372549 , 0.76078431, 0.75294118,\n",
              "        0.84705882, 0.66666667, 0.        ],\n",
              "       [0.00784314, 0.        , 0.        , 0.        , 0.25882353,\n",
              "        0.78431373, 0.87058824, 0.92941176, 0.9372549 , 0.94901961,\n",
              "        0.96470588, 0.95294118, 0.95686275, 0.86666667, 0.8627451 ,\n",
              "        0.75686275, 0.74901961, 0.70196078, 0.71372549, 0.71372549,\n",
              "        0.70980392, 0.69019608, 0.65098039, 0.65882353, 0.38823529,\n",
              "        0.22745098, 0.        , 0.        ],\n",
              "       [0.        , 0.        , 0.        , 0.        , 0.        ,\n",
              "        0.        , 0.        , 0.15686275, 0.23921569, 0.17254902,\n",
              "        0.28235294, 0.16078431, 0.1372549 , 0.        , 0.        ,\n",
              "        0.        , 0.        , 0.        , 0.        , 0.        ,\n",
              "        0.        , 0.        , 0.        , 0.        , 0.        ,\n",
              "        0.        , 0.        , 0.        ],\n",
              "       [0.        , 0.        , 0.        , 0.        , 0.        ,\n",
              "        0.        , 0.        , 0.        , 0.        , 0.        ,\n",
              "        0.        , 0.        , 0.        , 0.        , 0.        ,\n",
              "        0.        , 0.        , 0.        , 0.        , 0.        ,\n",
              "        0.        , 0.        , 0.        , 0.        , 0.        ,\n",
              "        0.        , 0.        , 0.        ],\n",
              "       [0.        , 0.        , 0.        , 0.        , 0.        ,\n",
              "        0.        , 0.        , 0.        , 0.        , 0.        ,\n",
              "        0.        , 0.        , 0.        , 0.        , 0.        ,\n",
              "        0.        , 0.        , 0.        , 0.        , 0.        ,\n",
              "        0.        , 0.        , 0.        , 0.        , 0.        ,\n",
              "        0.        , 0.        , 0.        ]])"
            ]
          },
          "metadata": {
            "tags": []
          },
          "execution_count": 15
        }
      ]
    },
    {
      "cell_type": "code",
      "metadata": {
        "collapsed": true,
        "jupyter": {
          "outputs_hidden": true
        },
        "id": "SfAHDe5c0trL",
        "outputId": "af6487d3-4704-4331-d1ff-abc122a90d04"
      },
      "source": [
        "plt.figure(figsize=(10,10))\n",
        "for i in range(25):\n",
        "    plt.subplot(5,5,i+1)\n",
        "    plt.xticks([])\n",
        "    plt.yticks([])\n",
        "    plt.grid(False)\n",
        "    plt.imshow(train_images[i], cmap=plt.cm.binary)\n",
        "    plt.xlabel(class_names[train_labels[i]])\n",
        "plt.show()"
      ],
      "execution_count": null,
      "outputs": [
        {
          "output_type": "display_data",
          "data": {
            "image/png": "[encoded data removed]",
            "text/plain": [
              "<Figure size 720x720 with 25 Axes>"
            ]
          },
          "metadata": {
            "tags": []
          }
        }
      ]
    },
    {
      "cell_type": "code",
      "metadata": {
        "id": "cB_y_0un0trL",
        "outputId": "a1400833-ced1-42dc-ffa9-da2f28ed0bbe"
      },
      "source": [
        "model = keras.Sequential([\n",
        "    keras.layers.Flatten(input_shape=(28,28)),\n",
        "    keras.layers.Dense(128, activation=tf.nn.relu),\n",
        "    keras.layers.Dense(64, activation=tf.nn.relu),\n",
        "    keras.layers.Dense(10, activation=tf.nn.softmax)\n",
        "])\n",
        "model.summary()"
      ],
      "execution_count": null,
      "outputs": [
        {
          "output_type": "stream",
          "text": [
            "Model: \"sequential_3\"\n",
            "_________________________________________________________________\n",
            "Layer (type)                 Output Shape              Param #   \n",
            "=================================================================\n",
            "flatten_3 (Flatten)          (None, 784)               0         \n",
            "_________________________________________________________________\n",
            "dense_8 (Dense)              (None, 128)               100480    \n",
            "_________________________________________________________________\n",
            "dense_9 (Dense)              (None, 64)                8256      \n",
            "_________________________________________________________________\n",
            "dense_10 (Dense)             (None, 10)                650       \n",
            "=================================================================\n",
            "Total params: 109,386\n",
            "Trainable params: 109,386\n",
            "Non-trainable params: 0\n",
            "_________________________________________________________________\n"
          ],
          "name": "stdout"
        }
      ]
    },
    {
      "cell_type": "code",
      "metadata": {
        "id": "arzCXeuy0trL"
      },
      "source": [
        "model.compile(optimizer='adam',\n",
        "              loss='sparse_categorical_crossentropy',\n",
        "              metrics=['accuracy'])"
      ],
      "execution_count": null,
      "outputs": []
    },
    {
      "cell_type": "code",
      "metadata": {
        "id": "WeNZF96L0trL",
        "outputId": "ed97825b-df19-483a-f169-717d73f2c024"
      },
      "source": [
        "model.fit(train_images,train_labels, epochs=10)"
      ],
      "execution_count": null,
      "outputs": [
        {
          "output_type": "stream",
          "text": [
            "Epoch 1/10\n",
            "1875/1875 [==============================] - 4s 2ms/step - loss: 0.6310 - accuracy: 0.7830\n",
            "Epoch 2/10\n",
            "1875/1875 [==============================] - 4s 2ms/step - loss: 0.3733 - accuracy: 0.8659\n",
            "Epoch 3/10\n",
            "1875/1875 [==============================] - 4s 2ms/step - loss: 0.3377 - accuracy: 0.8735\n",
            "Epoch 4/10\n",
            "1875/1875 [==============================] - 4s 2ms/step - loss: 0.3051 - accuracy: 0.8870\n",
            "Epoch 5/10\n",
            "1875/1875 [==============================] - 4s 2ms/step - loss: 0.2939 - accuracy: 0.8928\n",
            "Epoch 6/10\n",
            "1875/1875 [==============================] - 4s 2ms/step - loss: 0.2794 - accuracy: 0.8969\n",
            "Epoch 7/10\n",
            "1875/1875 [==============================] - 4s 2ms/step - loss: 0.2663 - accuracy: 0.8998\n",
            "Epoch 8/10\n",
            "1875/1875 [==============================] - 3s 2ms/step - loss: 0.2522 - accuracy: 0.9070\n",
            "Epoch 9/10\n",
            "1875/1875 [==============================] - 3s 2ms/step - loss: 0.2382 - accuracy: 0.9098\n",
            "Epoch 10/10\n",
            "1875/1875 [==============================] - 3s 2ms/step - loss: 0.2331 - accuracy: 0.9125\n"
          ],
          "name": "stdout"
        },
        {
          "output_type": "execute_result",
          "data": {
            "text/plain": [
              "<tensorflow.python.keras.callbacks.History at 0x2694ecef3d0>"
            ]
          },
          "metadata": {
            "tags": []
          },
          "execution_count": 35
        }
      ]
    },
    {
      "cell_type": "code",
      "metadata": {
        "id": "aFaZUQ5E0trM",
        "outputId": "59f98462-a043-411d-86f3-963c66ce68aa"
      },
      "source": [
        "test_loss, test_acc = model.evaluate(test_images,test_labels)"
      ],
      "execution_count": null,
      "outputs": [
        {
          "output_type": "stream",
          "text": [
            "313/313 [==============================] - 1s 1ms/step - loss: 0.3495 - accuracy: 0.8874\n"
          ],
          "name": "stdout"
        }
      ]
    },
    {
      "cell_type": "code",
      "metadata": {
        "id": "gYvhtYCc0trM",
        "outputId": "35ceec15-e542-4765-f30a-6bf31a55d1d1"
      },
      "source": [
        "test_acc"
      ],
      "execution_count": null,
      "outputs": [
        {
          "output_type": "execute_result",
          "data": {
            "text/plain": [
              "0.8873999714851379"
            ]
          },
          "metadata": {
            "tags": []
          },
          "execution_count": 37
        }
      ]
    },
    {
      "cell_type": "code",
      "metadata": {
        "id": "seMrCrVD0trM"
      },
      "source": [
        "preds = model.predict(test_images)"
      ],
      "execution_count": null,
      "outputs": []
    },
    {
      "cell_type": "code",
      "metadata": {
        "id": "CU1BsVve0trM",
        "outputId": "f0d621b5-c748-4fec-bab3-e6a41a69f714"
      },
      "source": [
        "preds[0]"
      ],
      "execution_count": null,
      "outputs": [
        {
          "output_type": "execute_result",
          "data": {
            "text/plain": [
              "array([2.0971158e-06, 3.1245760e-05, 2.9518703e-06, 3.7492459e-06,\n",
              "       8.3437671e-06, 1.2359564e-03, 1.4929957e-05, 1.8931525e-02,\n",
              "       1.3847882e-07, 9.7976905e-01], dtype=float32)"
            ]
          },
          "metadata": {
            "tags": []
          },
          "execution_count": 44
        }
      ]
    },
    {
      "cell_type": "code",
      "metadata": {
        "id": "GiZNfA6R0trM",
        "outputId": "91ce1ca7-0371-4b75-ff80-8b275866a2d1"
      },
      "source": [
        "np.argmax(preds[0])"
      ],
      "execution_count": null,
      "outputs": [
        {
          "output_type": "execute_result",
          "data": {
            "text/plain": [
              "9"
            ]
          },
          "metadata": {
            "tags": []
          },
          "execution_count": 45
        }
      ]
    },
    {
      "cell_type": "code",
      "metadata": {
        "id": "lP57Q3iB0trN",
        "outputId": "38d3b6c3-7928-4778-a201-80969c46f7af"
      },
      "source": [
        "test_labels[0]"
      ],
      "execution_count": null,
      "outputs": [
        {
          "output_type": "execute_result",
          "data": {
            "text/plain": [
              "9"
            ]
          },
          "metadata": {
            "tags": []
          },
          "execution_count": 46
        }
      ]
    },
    {
      "cell_type": "code",
      "metadata": {
        "id": "uUA71ZTw0trN"
      },
      "source": [
        "def plot_image(i, predictions_array, true_label, img):\n",
        "    predictions_array, true_label, img = predictions_array[i], true_label[i], img[i]\n",
        "    plt.grid(False)\n",
        "    plt.xticks([])\n",
        "    plt.yticks([])\n",
        "  \n",
        "    plt.imshow(img, cmap=plt.cm.binary)\n",
        "\n",
        "    predicted_label = np.argmax(predictions_array)\n",
        "    if predicted_label == true_label:\n",
        "        color = 'blue'\n",
        "    else:\n",
        "        color = 'red'\n",
        "  \n",
        "    plt.xlabel(\"{} {:2.0f}% ({})\".format(class_names[predicted_label],\n",
        "                                100*np.max(predictions_array),\n",
        "                                class_names[true_label]),\n",
        "                                color=color)\n",
        "    plt.show()\n",
        "\n",
        "def plot_value_array(i, predictions_array, true_label):\n",
        "    predictions_array, true_label = predictions_array[i], true_label[i]\n",
        "    plt.grid(False)\n",
        "    plt.xticks([])\n",
        "    plt.yticks([])\n",
        "    thisplot = plt.bar(range(10), predictions_array, color=\"#777777\")\n",
        "    plt.ylim([0, 1]) \n",
        "    predicted_label = np.argmax(predictions_array)\n",
        " \n",
        "    thisplot[predicted_label].set_color('red')\n",
        "    thisplot[true_label].set_color('blue')\n",
        "    \n",
        "    plt.show()"
      ],
      "execution_count": null,
      "outputs": []
    },
    {
      "cell_type": "code",
      "metadata": {
        "id": "H6pdOqmn0trN",
        "outputId": "593902a2-3186-407a-e325-c35a345bc5a6"
      },
      "source": [
        "i = 12\n",
        "plt.figure(figsize=(6,3))\n",
        "plt.subplot(1,2,1)\n",
        "plot_image(i, preds, test_labels, test_images)\n",
        "plt.subplot(1,2,2)\n",
        "plot_value_array(i, preds,  test_labels)"
      ],
      "execution_count": null,
      "outputs": [
        {
          "output_type": "display_data",
          "data": {
            "image/png": "[encoded data removed]",
            "text/plain": [
              "<Figure size 432x216 with 1 Axes>"
            ]
          },
          "metadata": {
            "tags": []
          }
        },
        {
          "output_type": "display_data",
          "data": {
            "image/png": "[encoded data removed]",
            "text/plain": [
              "<Figure size 432x288 with 1 Axes>"
            ]
          },
          "metadata": {
            "tags": []
          }
        }
      ]
    },
    {
      "cell_type": "markdown",
      "metadata": {
        "id": "AMf3TRYI0trN"
      },
      "source": [
        "### Redes Neurais Convolucionais"
      ]
    },
    {
      "cell_type": "code",
      "metadata": {
        "id": "0aOceKFW0trN",
        "outputId": "5ee8dfca-e475-4e29-c2e4-eb1bc1c7d8f6"
      },
      "source": [
        "train_images.shape"
      ],
      "execution_count": null,
      "outputs": [
        {
          "output_type": "execute_result",
          "data": {
            "text/plain": [
              "(60000, 28, 28)"
            ]
          },
          "metadata": {
            "tags": []
          },
          "execution_count": 51
        }
      ]
    },
    {
      "cell_type": "code",
      "metadata": {
        "id": "93KnHiKr0trO"
      },
      "source": [
        "train_images = train_images.reshape(train_images.shape[0],28,28,1)\n",
        "test_images = test_images.reshape(test_images.shape[0],28,28,1)"
      ],
      "execution_count": null,
      "outputs": []
    },
    {
      "cell_type": "code",
      "metadata": {
        "id": "NBB0AYCO0trO",
        "outputId": "e2b4af3c-7bdd-45a7-afc5-bfb63bd08f93"
      },
      "source": [
        "train_images.shape"
      ],
      "execution_count": null,
      "outputs": [
        {
          "output_type": "execute_result",
          "data": {
            "text/plain": [
              "(60000, 28, 28, 1)"
            ]
          },
          "metadata": {
            "tags": []
          },
          "execution_count": 53
        }
      ]
    },
    {
      "cell_type": "code",
      "metadata": {
        "id": "49QTz3QR0trO",
        "outputId": "9234dfa4-c363-4c18-ad5e-660e55b6c5b6"
      },
      "source": [
        "model = tf.keras.Sequential()\n",
        "\n",
        "model.add(tf.keras.layers.Conv2D(filters=64, kernel_size=2,padding='same', activation='relu', input_shape=(28,28,1)))\n",
        "model.add(tf.keras.layers.MaxPooling2D(pool_size=2))\n",
        "model.add(tf.keras.layers.Dropout(0.3))\n",
        "\n",
        "model.add(tf.keras.layers.Conv2D(filters=32, kernel_size=2,padding='same', activation='relu'))\n",
        "model.add(tf.keras.layers.MaxPooling2D(pool_size=2))\n",
        "model.add(tf.keras.layers.Dropout(0.3))\n",
        "\n",
        "model.add(tf.keras.layers.Flatten())\n",
        "model.add(tf.keras.layers.Dense(256,activation='relu'))\n",
        "model.add(tf.keras.layers.Dropout(0.3))\n",
        "\n",
        "model.add(tf.keras.layers.Dense(10,activation='softmax'))\n",
        "\n",
        "model.summary()"
      ],
      "execution_count": null,
      "outputs": [
        {
          "output_type": "stream",
          "text": [
            "Model: \"sequential_9\"\n",
            "_________________________________________________________________\n",
            "Layer (type)                 Output Shape              Param #   \n",
            "=================================================================\n",
            "conv2d_7 (Conv2D)            (None, 28, 28, 64)        320       \n",
            "_________________________________________________________________\n",
            "max_pooling2d_7 (MaxPooling2 (None, 14, 14, 64)        0         \n",
            "_________________________________________________________________\n",
            "dropout_6 (Dropout)          (None, 14, 14, 64)        0         \n",
            "_________________________________________________________________\n",
            "conv2d_8 (Conv2D)            (None, 14, 14, 32)        8224      \n",
            "_________________________________________________________________\n",
            "max_pooling2d_8 (MaxPooling2 (None, 7, 7, 32)          0         \n",
            "_________________________________________________________________\n",
            "dropout_7 (Dropout)          (None, 7, 7, 32)          0         \n",
            "_________________________________________________________________\n",
            "flatten_7 (Flatten)          (None, 1568)              0         \n",
            "_________________________________________________________________\n",
            "dense_17 (Dense)             (None, 256)               401664    \n",
            "_________________________________________________________________\n",
            "dropout_8 (Dropout)          (None, 256)               0         \n",
            "_________________________________________________________________\n",
            "dense_18 (Dense)             (None, 10)                2570      \n",
            "=================================================================\n",
            "Total params: 412,778\n",
            "Trainable params: 412,778\n",
            "Non-trainable params: 0\n",
            "_________________________________________________________________\n"
          ],
          "name": "stdout"
        }
      ]
    },
    {
      "cell_type": "code",
      "metadata": {
        "id": "W2g0pt910trO"
      },
      "source": [
        "model.compile(loss='sparse_categorical_crossentropy',\n",
        "              optimizer='adam',\n",
        "              metrics=['accuracy'])"
      ],
      "execution_count": null,
      "outputs": []
    },
    {
      "cell_type": "code",
      "metadata": {
        "id": "Dmj8qwj70trO",
        "outputId": "ae7b2f08-6cb5-43ac-c790-b217be63c50f"
      },
      "source": [
        "from tensorflow.keras.callbacks import ModelCheckpoint, EarlyStopping\n",
        "\n",
        "es = EarlyStopping(monitor='val_accuracy',mode='min', verbose=1,min_delta=0.05)\n",
        "checkpointer = ModelCheckpoint(filepath='best_model.hdf5',verbose=1,save_best_only=True)\n",
        "model.fit(train_images,train_labels, validation_split=0.1, callbacks=[checkpointer,es],epochs=5)"
      ],
      "execution_count": null,
      "outputs": [
        {
          "output_type": "stream",
          "text": [
            "Epoch 1/5\n",
            "1688/1688 [==============================] - 53s 31ms/step - loss: 0.6935 - accuracy: 0.7449 - val_loss: 0.3511 - val_accuracy: 0.8728\n",
            "\n",
            "Epoch 00001: val_loss improved from inf to 0.35114, saving model to best_model.hdf5\n",
            "Epoch 2/5\n",
            "1688/1688 [==============================] - 53s 31ms/step - loss: 0.3779 - accuracy: 0.8631 - val_loss: 0.3075 - val_accuracy: 0.8868\n",
            "\n",
            "Epoch 00002: val_loss improved from 0.35114 to 0.30750, saving model to best_model.hdf5\n",
            "Epoch 00002: early stopping\n"
          ],
          "name": "stdout"
        },
        {
          "output_type": "execute_result",
          "data": {
            "text/plain": [
              "<tensorflow.python.keras.callbacks.History at 0x2694bfd0ca0>"
            ]
          },
          "metadata": {
            "tags": []
          },
          "execution_count": 72
        }
      ]
    },
    {
      "cell_type": "code",
      "metadata": {
        "id": "o7Sp2H530trP"
      },
      "source": [
        "model.load_weights('best_model.hdf5')"
      ],
      "execution_count": null,
      "outputs": []
    },
    {
      "cell_type": "code",
      "metadata": {
        "id": "hfeFTFJI0trP",
        "outputId": "0c402da2-7135-4ffb-b76f-156bb02133f5"
      },
      "source": [
        "model.evaluate(test_images,test_labels)"
      ],
      "execution_count": null,
      "outputs": [
        {
          "output_type": "stream",
          "text": [
            "313/313 [==============================] - 2s 6ms/step - loss: 0.3263 - accuracy: 0.8799\n"
          ],
          "name": "stdout"
        },
        {
          "output_type": "execute_result",
          "data": {
            "text/plain": [
              "[0.3262600600719452, 0.8798999786376953]"
            ]
          },
          "metadata": {
            "tags": []
          },
          "execution_count": 74
        }
      ]
    },
    {
      "cell_type": "markdown",
      "metadata": {
        "id": "nN2-j9f90trP"
      },
      "source": [
        "### Autoencoder"
      ]
    },
    {
      "cell_type": "code",
      "metadata": {
        "id": "jdIxxFi40trP",
        "outputId": "b56aa8f9-1df6-4a62-e7c9-8f442353e419"
      },
      "source": [
        "latent_dim = 1000\n",
        "\n",
        "def encoder(model,latent_dim):\n",
        "    model.add(tf.keras.layers.Conv2D(filters=32, kernel_size=3, strides=(2,2), padding='same',\n",
        "                                     activation='relu',input_shape=(28,28,1)))\n",
        "    model.add(tf.keras.layers.Conv2D(filters=64, kernel_size=3, strides=(2,2), padding='same',\n",
        "                                     activation='relu'))\n",
        "    model.add(tf.keras.layers.Flatten())\n",
        "    model.add(tf.keras.layers.Dense(latent_dim))\n",
        "    return model\n",
        "\n",
        "def decoder(model,latent_dim):\n",
        "    model.add(tf.keras.layers.Dense(units=7*7*32,activation='relu'))\n",
        "    model.add(tf.keras.layers.Reshape(target_shape=(7,7,32)))\n",
        "    model.add(tf.keras.layers.Convolution2DTranspose(filters=64, kernel_size=3, strides=(2,2),\n",
        "                                                     padding='same',activation='relu'))\n",
        "    model.add(tf.keras.layers.Convolution2DTranspose(filters=32, kernel_size=3, strides=2,\n",
        "                                                     padding='same',activation='relu'))\n",
        "    model.add(tf.keras.layers.Convolution2DTranspose(filters=1, kernel_size=3, strides=1,\n",
        "                                                     padding='same',activation='relu'))\n",
        "    return model\n",
        "\n",
        "model = tf.keras.Sequential()\n",
        "enc_model = encoder(model,latent_dim)\n",
        "dec_model = decoder(enc_model,latent_dim)\n",
        "dec_model.summary()"
      ],
      "execution_count": null,
      "outputs": [
        {
          "output_type": "stream",
          "text": [
            "Model: \"sequential_15\"\n",
            "_________________________________________________________________\n",
            "Layer (type)                 Output Shape              Param #   \n",
            "=================================================================\n",
            "conv2d_19 (Conv2D)           (None, 14, 14, 32)        320       \n",
            "_________________________________________________________________\n",
            "conv2d_20 (Conv2D)           (None, 7, 7, 64)          18496     \n",
            "_________________________________________________________________\n",
            "flatten_13 (Flatten)         (None, 3136)              0         \n",
            "_________________________________________________________________\n",
            "dense_29 (Dense)             (None, 1000)              3137000   \n",
            "_________________________________________________________________\n",
            "dense_30 (Dense)             (None, 1568)              1569568   \n",
            "_________________________________________________________________\n",
            "reshape_4 (Reshape)          (None, 7, 7, 32)          0         \n",
            "_________________________________________________________________\n",
            "conv2d_transpose_12 (Conv2DT (None, 14, 14, 64)        18496     \n",
            "_________________________________________________________________\n",
            "conv2d_transpose_13 (Conv2DT (None, 28, 28, 32)        18464     \n",
            "_________________________________________________________________\n",
            "conv2d_transpose_14 (Conv2DT (None, 28, 28, 1)         289       \n",
            "=================================================================\n",
            "Total params: 4,762,633\n",
            "Trainable params: 4,762,633\n",
            "Non-trainable params: 0\n",
            "_________________________________________________________________\n"
          ],
          "name": "stdout"
        }
      ]
    },
    {
      "cell_type": "code",
      "metadata": {
        "id": "oK9fyO4r0trP"
      },
      "source": [
        "dec_model.compile(loss='mse',\n",
        "                  optimizer='adam',\n",
        "                  metrics=['mse'])"
      ],
      "execution_count": null,
      "outputs": []
    },
    {
      "cell_type": "code",
      "metadata": {
        "id": "tnVlOz3q0trQ",
        "outputId": "edc8f98f-693d-43ee-eb11-5820f55cfe23"
      },
      "source": [
        "from tensorflow.keras.callbacks import ModelCheckpoint, EarlyStopping\n",
        "\n",
        "es = EarlyStopping(monitor='val_loss',mode='min', verbose=1,min_delta=0.1)\n",
        "checkpointer = ModelCheckpoint(filepath='best_model.hdf5',verbose=1,save_best_only=True)\n",
        "dec_model.fit(train_images,train_images, validation_split=0.1, callbacks=[checkpointer,es],epochs=5)"
      ],
      "execution_count": null,
      "outputs": [
        {
          "output_type": "stream",
          "text": [
            "Epoch 1/5\n",
            "1688/1688 [==============================] - 114s 67ms/step - loss: 0.0192 - mse: 0.0192 - val_loss: 0.0045 - val_mse: 0.0045\n",
            "\n",
            "Epoch 00001: val_loss improved from inf to 0.00450, saving model to best_model.hdf5\n",
            "Epoch 2/5\n",
            "1688/1688 [==============================] - 125s 74ms/step - loss: 0.0039 - mse: 0.0039 - val_loss: 0.0029 - val_mse: 0.0029\n",
            "\n",
            "Epoch 00002: val_loss improved from 0.00450 to 0.00290, saving model to best_model.hdf5\n",
            "Epoch 00002: early stopping\n"
          ],
          "name": "stdout"
        },
        {
          "output_type": "execute_result",
          "data": {
            "text/plain": [
              "<tensorflow.python.keras.callbacks.History at 0x2699d967a90>"
            ]
          },
          "metadata": {
            "tags": []
          },
          "execution_count": 101
        }
      ]
    },
    {
      "cell_type": "code",
      "metadata": {
        "id": "MLjiCjqK0trQ"
      },
      "source": [
        "dec_model.load_weights('best_model.hdf5')"
      ],
      "execution_count": null,
      "outputs": []
    },
    {
      "cell_type": "code",
      "metadata": {
        "id": "WqKjefV30trQ",
        "outputId": "52083e27-9ddd-465f-c103-5bfaa78ff01e"
      },
      "source": [
        "plt.figure()\n",
        "plt.imshow(test_images[0])\n",
        "plt.colorbar()\n",
        "plt.grid(False)\n",
        "plt.show()"
      ],
      "execution_count": null,
      "outputs": [
        {
          "output_type": "display_data",
          "data": {
            "image/png": "[encoded data removed]",
            "text/plain": [
              "<Figure size 432x288 with 2 Axes>"
            ]
          },
          "metadata": {
            "tags": [],
            "needs_background": "light"
          }
        }
      ]
    },
    {
      "cell_type": "code",
      "metadata": {
        "id": "GV0f1E6k0trR",
        "outputId": "e4dc5ced-3604-4cb2-b61c-048a0a3bc0ed"
      },
      "source": [
        "gen_image = dec_model.predict(np.expand_dims(test_images[0],axis=0))\n",
        "plt.figure()\n",
        "plt.imshow(gen_image[0])\n",
        "plt.colorbar()\n",
        "plt.grid(False)\n",
        "plt.show()"
      ],
      "execution_count": null,
      "outputs": [
        {
          "output_type": "display_data",
          "data": {
            "image/png": "[encoded data removed]",
            "text/plain": [
              "<Figure size 432x288 with 2 Axes>"
            ]
          },
          "metadata": {
            "tags": [],
            "needs_background": "light"
          }
        }
      ]
    },
    {
      "cell_type": "markdown",
      "metadata": {
        "id": "oEIU92xy0trR"
      },
      "source": [
        "### Predição Séries Temporais"
      ]
    },
    {
      "cell_type": "code",
      "metadata": {
        "id": "mYgKGJEt0trR"
      },
      "source": [
        "from numpy import array\n",
        "from tensorflow.keras.models import Sequential\n",
        "from tensorflow.keras.layers import LSTM\n",
        "from tensorflow.keras.layers import Dense\n",
        "import tensorflow as tf"
      ],
      "execution_count": null,
      "outputs": []
    },
    {
      "cell_type": "code",
      "metadata": {
        "id": "fTCZC5pT0trR"
      },
      "source": [
        "seq = [10,20,30,40,50,60,70,80,90]"
      ],
      "execution_count": null,
      "outputs": []
    },
    {
      "cell_type": "code",
      "metadata": {
        "id": "oRI01pBn0trR"
      },
      "source": [
        "def split_sequence(sequence, passos):\n",
        "    X, y = list(), list()\n",
        "    for i in range(len(sequence)):\n",
        "        fim = i + passos\n",
        "        if(fim > len(sequence)-1):\n",
        "            break\n",
        "        seq_x, seq_y = sequence[i:fim], sequence[fim]\n",
        "        X.append(seq_x)\n",
        "        y.append(seq_y)\n",
        "    return array(X), array(y)"
      ],
      "execution_count": null,
      "outputs": []
    },
    {
      "cell_type": "code",
      "metadata": {
        "id": "lRyEt-8v0trS"
      },
      "source": [
        "passos=3"
      ],
      "execution_count": null,
      "outputs": []
    },
    {
      "cell_type": "code",
      "metadata": {
        "id": "tIc2WUMm0trS"
      },
      "source": [
        "X,y = split_sequence(seq,passos)"
      ],
      "execution_count": null,
      "outputs": []
    },
    {
      "cell_type": "code",
      "metadata": {
        "id": "CH_srOI30trS",
        "outputId": "015838d5-2713-46ae-fb61-9894a9ab3db5"
      },
      "source": [
        "y[1]"
      ],
      "execution_count": null,
      "outputs": [
        {
          "output_type": "execute_result",
          "data": {
            "text/plain": [
              "50"
            ]
          },
          "metadata": {
            "tags": []
          },
          "execution_count": 130
        }
      ]
    },
    {
      "cell_type": "code",
      "metadata": {
        "id": "QPpZpGh80trS"
      },
      "source": [
        "n_features = 1\n",
        "X = X.reshape((X.shape[0], X.shape[1],n_features))"
      ],
      "execution_count": null,
      "outputs": []
    },
    {
      "cell_type": "code",
      "metadata": {
        "id": "bA1lLy8d0trS"
      },
      "source": [
        "model = tf.keras.models.Sequential()\n",
        "model.add(LSTM(100, activation='relu',input_shape=(passos,n_features)))\n",
        "model.add(Dense(1))\n",
        "model.compile(optimizer='adam', loss='mse', metrics=['mse'])"
      ],
      "execution_count": null,
      "outputs": []
    },
    {
      "cell_type": "code",
      "metadata": {
        "collapsed": true,
        "jupyter": {
          "outputs_hidden": true
        },
        "id": "wCQMMisp0trS",
        "outputId": "df4d62a5-9e1e-4d1b-80c8-7aaf84bba5a5"
      },
      "source": [
        "model.fit(X,y,epochs=200)"
      ],
      "execution_count": null,
      "outputs": [
        {
          "output_type": "stream",
          "text": [
            "Epoch 1/200\n",
            "1/1 [==============================] - 2s 2s/step - loss: 4976.5049 - mse: 4976.5049\n",
            "Epoch 2/200\n",
            "1/1 [==============================] - 0s 4ms/step - loss: 4888.4800 - mse: 4888.4800\n",
            "Epoch 3/200\n",
            "1/1 [==============================] - 0s 4ms/step - loss: 4801.1968 - mse: 4801.1968\n",
            "Epoch 4/200\n",
            "1/1 [==============================] - 0s 4ms/step - loss: 4714.2534 - mse: 4714.2534\n",
            "Epoch 5/200\n",
            "1/1 [==============================] - 0s 7ms/step - loss: 4627.2974 - mse: 4627.2974\n",
            "Epoch 6/200\n",
            "1/1 [==============================] - 0s 6ms/step - loss: 4540.0024 - mse: 4540.0024\n",
            "Epoch 7/200\n",
            "1/1 [==============================] - 0s 7ms/step - loss: 4452.0137 - mse: 4452.0137\n",
            "Epoch 8/200\n",
            "1/1 [==============================] - 0s 7ms/step - loss: 4363.0444 - mse: 4363.0444\n",
            "Epoch 9/200\n",
            "1/1 [==============================] - 0s 32ms/step - loss: 4272.8335 - mse: 4272.8335\n",
            "Epoch 10/200\n",
            "1/1 [==============================] - 0s 5ms/step - loss: 4181.0786 - mse: 4181.0786\n",
            "Epoch 11/200\n",
            "1/1 [==============================] - 0s 8ms/step - loss: 4087.4785 - mse: 4087.4785\n",
            "Epoch 12/200\n",
            "1/1 [==============================] - 0s 7ms/step - loss: 3991.7239 - mse: 3991.7239\n",
            "Epoch 13/200\n",
            "1/1 [==============================] - 0s 4ms/step - loss: 3893.5693 - mse: 3893.5693\n",
            "Epoch 14/200\n",
            "1/1 [==============================] - 0s 9ms/step - loss: 3793.1145 - mse: 3793.1145\n",
            "Epoch 15/200\n",
            "1/1 [==============================] - 0s 6ms/step - loss: 3690.9050 - mse: 3690.9050\n",
            "Epoch 16/200\n",
            "1/1 [==============================] - 0s 4ms/step - loss: 3585.8489 - mse: 3585.8489\n",
            "Epoch 17/200\n",
            "1/1 [==============================] - 0s 7ms/step - loss: 3477.0618 - mse: 3477.0618\n",
            "Epoch 18/200\n",
            "1/1 [==============================] - 0s 4ms/step - loss: 3363.5925 - mse: 3363.5925\n",
            "Epoch 19/200\n",
            "1/1 [==============================] - 0s 7ms/step - loss: 3244.3809 - mse: 3244.3809\n",
            "Epoch 20/200\n",
            "1/1 [==============================] - 0s 4ms/step - loss: 3118.2063 - mse: 3118.2063\n",
            "Epoch 21/200\n",
            "1/1 [==============================] - 0s 9ms/step - loss: 2983.7781 - mse: 2983.7781\n",
            "Epoch 22/200\n",
            "1/1 [==============================] - 0s 4ms/step - loss: 2839.7913 - mse: 2839.7913\n",
            "Epoch 23/200\n",
            "1/1 [==============================] - 0s 5ms/step - loss: 2684.8223 - mse: 2684.8223\n",
            "Epoch 24/200\n",
            "1/1 [==============================] - 0s 6ms/step - loss: 2517.4045 - mse: 2517.4045\n",
            "Epoch 25/200\n",
            "1/1 [==============================] - 0s 7ms/step - loss: 2336.2488 - mse: 2336.2488\n",
            "Epoch 26/200\n",
            "1/1 [==============================] - 0s 4ms/step - loss: 2140.1943 - mse: 2140.1943\n",
            "Epoch 27/200\n",
            "1/1 [==============================] - 0s 5ms/step - loss: 1928.2051 - mse: 1928.2051\n",
            "Epoch 28/200\n",
            "1/1 [==============================] - 0s 3ms/step - loss: 1698.6190 - mse: 1698.6190\n",
            "Epoch 29/200\n",
            "1/1 [==============================] - 0s 6ms/step - loss: 1452.4873 - mse: 1452.4873\n",
            "Epoch 30/200\n",
            "1/1 [==============================] - 0s 5ms/step - loss: 1194.9242 - mse: 1194.9242\n",
            "Epoch 31/200\n",
            "1/1 [==============================] - 0s 8ms/step - loss: 934.1816 - mse: 934.1816\n",
            "Epoch 32/200\n",
            "1/1 [==============================] - 0s 5ms/step - loss: 682.0891 - mse: 682.0891\n",
            "Epoch 33/200\n",
            "1/1 [==============================] - 0s 5ms/step - loss: 456.4364 - mse: 456.4364\n",
            "Epoch 34/200\n",
            "1/1 [==============================] - 0s 4ms/step - loss: 281.0495 - mse: 281.0495\n",
            "Epoch 35/200\n",
            "1/1 [==============================] - 0s 5ms/step - loss: 178.1216 - mse: 178.1216\n",
            "Epoch 36/200\n",
            "1/1 [==============================] - 0s 5ms/step - loss: 153.5516 - mse: 153.5516\n",
            "Epoch 37/200\n",
            "1/1 [==============================] - 0s 4ms/step - loss: 191.4938 - mse: 191.4938\n",
            "Epoch 38/200\n",
            "1/1 [==============================] - 0s 3ms/step - loss: 257.8844 - mse: 257.8844\n",
            "Epoch 39/200\n",
            "1/1 [==============================] - 0s 6ms/step - loss: 320.5811 - mse: 320.5811\n",
            "Epoch 40/200\n",
            "1/1 [==============================] - 0s 6ms/step - loss: 361.1441 - mse: 361.1441\n",
            "Epoch 41/200\n",
            "1/1 [==============================] - 0s 5ms/step - loss: 373.9622 - mse: 373.9622\n",
            "Epoch 42/200\n",
            "1/1 [==============================] - 0s 6ms/step - loss: 362.0273 - mse: 362.0273\n",
            "Epoch 43/200\n",
            "1/1 [==============================] - 0s 5ms/step - loss: 332.2862 - mse: 332.2862\n",
            "Epoch 44/200\n",
            "1/1 [==============================] - 0s 4ms/step - loss: 292.3085 - mse: 292.3085\n",
            "Epoch 45/200\n",
            "1/1 [==============================] - 0s 4ms/step - loss: 248.7041 - mse: 248.7041\n",
            "Epoch 46/200\n",
            "1/1 [==============================] - 0s 4ms/step - loss: 206.6712 - mse: 206.6712\n",
            "Epoch 47/200\n",
            "1/1 [==============================] - 0s 6ms/step - loss: 169.9545 - mse: 169.9545\n",
            "Epoch 48/200\n",
            "1/1 [==============================] - 0s 4ms/step - loss: 140.9168 - mse: 140.9168\n",
            "Epoch 49/200\n",
            "1/1 [==============================] - 0s 4ms/step - loss: 120.5689 - mse: 120.5689\n",
            "Epoch 50/200\n",
            "1/1 [==============================] - 0s 5ms/step - loss: 108.6270 - mse: 108.6270\n",
            "Epoch 51/200\n",
            "1/1 [==============================] - 0s 5ms/step - loss: 103.7435 - mse: 103.7435\n",
            "Epoch 52/200\n",
            "1/1 [==============================] - 0s 6ms/step - loss: 103.9408 - mse: 103.9408\n",
            "Epoch 53/200\n",
            "1/1 [==============================] - 0s 7ms/step - loss: 107.1076 - mse: 107.1076\n",
            "Epoch 54/200\n",
            "1/1 [==============================] - 0s 8ms/step - loss: 111.3591 - mse: 111.3591\n",
            "Epoch 55/200\n",
            "1/1 [==============================] - 0s 7ms/step - loss: 115.2222 - mse: 115.2222\n",
            "Epoch 56/200\n",
            "1/1 [==============================] - 0s 5ms/step - loss: 117.6969 - mse: 117.6969\n",
            "Epoch 57/200\n",
            "1/1 [==============================] - 0s 6ms/step - loss: 118.1981 - mse: 118.1981\n",
            "Epoch 58/200\n",
            "1/1 [==============================] - 0s 6ms/step - loss: 116.5094 - mse: 116.5094\n",
            "Epoch 59/200\n",
            "1/1 [==============================] - 0s 5ms/step - loss: 112.6992 - mse: 112.6992\n",
            "Epoch 60/200\n",
            "1/1 [==============================] - 0s 4ms/step - loss: 107.0472 - mse: 107.0472\n",
            "Epoch 61/200\n",
            "1/1 [==============================] - 0s 6ms/step - loss: 99.9776 - mse: 99.9776\n",
            "Epoch 62/200\n",
            "1/1 [==============================] - 0s 5ms/step - loss: 92.0013 - mse: 92.0013\n",
            "Epoch 63/200\n",
            "1/1 [==============================] - 0s 5ms/step - loss: 83.6629 - mse: 83.6629\n",
            "Epoch 64/200\n",
            "1/1 [==============================] - 0s 6ms/step - loss: 75.4978 - mse: 75.4978\n",
            "Epoch 65/200\n",
            "1/1 [==============================] - 0s 5ms/step - loss: 68.0010 - mse: 68.0010\n",
            "Epoch 66/200\n",
            "1/1 [==============================] - 0s 6ms/step - loss: 61.5798 - mse: 61.5798\n",
            "Epoch 67/200\n",
            "1/1 [==============================] - 0s 5ms/step - loss: 56.5213 - mse: 56.5213\n",
            "Epoch 68/200\n",
            "1/1 [==============================] - 0s 6ms/step - loss: 52.9656 - mse: 52.9656\n",
            "Epoch 69/200\n",
            "1/1 [==============================] - 0s 6ms/step - loss: 50.8442 - mse: 50.8442\n",
            "Epoch 70/200\n",
            "1/1 [==============================] - 0s 5ms/step - loss: 49.8327 - mse: 49.8327\n",
            "Epoch 71/200\n",
            "1/1 [==============================] - 0s 6ms/step - loss: 49.3834 - mse: 49.3834\n",
            "Epoch 72/200\n",
            "1/1 [==============================] - 0s 4ms/step - loss: 48.8554 - mse: 48.8554\n",
            "Epoch 73/200\n",
            "1/1 [==============================] - 0s 4ms/step - loss: 47.7088 - mse: 47.7088\n",
            "Epoch 74/200\n",
            "1/1 [==============================] - 0s 4ms/step - loss: 45.6643 - mse: 45.6643\n",
            "Epoch 75/200\n",
            "1/1 [==============================] - 0s 5ms/step - loss: 42.7441 - mse: 42.7441\n",
            "Epoch 76/200\n",
            "1/1 [==============================] - 0s 7ms/step - loss: 39.2010 - mse: 39.2010\n",
            "Epoch 77/200\n",
            "1/1 [==============================] - 0s 5ms/step - loss: 35.3937 - mse: 35.3937\n",
            "Epoch 78/200\n",
            "1/1 [==============================] - 0s 5ms/step - loss: 31.6665 - mse: 31.6665\n",
            "Epoch 79/200\n",
            "1/1 [==============================] - 0s 5ms/step - loss: 28.2714 - mse: 28.2714\n",
            "Epoch 80/200\n",
            "1/1 [==============================] - 0s 5ms/step - loss: 25.3389 - mse: 25.3389\n",
            "Epoch 81/200\n",
            "1/1 [==============================] - 0s 5ms/step - loss: 22.8841 - mse: 22.8841\n",
            "Epoch 82/200\n",
            "1/1 [==============================] - 0s 5ms/step - loss: 20.8373 - mse: 20.8373\n",
            "Epoch 83/200\n",
            "1/1 [==============================] - 0s 5ms/step - loss: 19.0814 - mse: 19.0814\n",
            "Epoch 84/200\n",
            "1/1 [==============================] - 0s 6ms/step - loss: 17.4898 - mse: 17.4898\n",
            "Epoch 85/200\n",
            "1/1 [==============================] - 0s 5ms/step - loss: 15.9561 - mse: 15.9561\n",
            "Epoch 86/200\n",
            "1/1 [==============================] - 0s 6ms/step - loss: 14.4163 - mse: 14.4163\n",
            "Epoch 87/200\n",
            "1/1 [==============================] - 0s 6ms/step - loss: 12.8612 - mse: 12.8612\n",
            "Epoch 88/200\n",
            "1/1 [==============================] - 0s 3ms/step - loss: 11.3392 - mse: 11.3392\n",
            "Epoch 89/200\n",
            "1/1 [==============================] - 0s 4ms/step - loss: 9.9490 - mse: 9.9490\n",
            "Epoch 90/200\n",
            "1/1 [==============================] - 0s 5ms/step - loss: 8.8159 - mse: 8.8159\n",
            "Epoch 91/200\n",
            "1/1 [==============================] - 0s 3ms/step - loss: 8.0367 - mse: 8.0367\n",
            "Epoch 92/200\n",
            "1/1 [==============================] - 0s 4ms/step - loss: 7.5913 - mse: 7.5913\n",
            "Epoch 93/200\n",
            "1/1 [==============================] - 0s 4ms/step - loss: 7.3102 - mse: 7.3102\n",
            "Epoch 94/200\n",
            "1/1 [==============================] - 0s 3ms/step - loss: 6.9930 - mse: 6.9930\n",
            "Epoch 95/200\n",
            "1/1 [==============================] - 0s 5ms/step - loss: 6.5522 - mse: 6.5522\n",
            "Epoch 96/200\n",
            "1/1 [==============================] - 0s 6ms/step - loss: 6.0355 - mse: 6.0355\n",
            "Epoch 97/200\n",
            "1/1 [==============================] - 0s 6ms/step - loss: 5.5534 - mse: 5.5534\n",
            "Epoch 98/200\n",
            "1/1 [==============================] - 0s 5ms/step - loss: 5.1940 - mse: 5.1940\n",
            "Epoch 99/200\n",
            "1/1 [==============================] - 0s 5ms/step - loss: 4.9788 - mse: 4.9788\n",
            "Epoch 100/200\n",
            "1/1 [==============================] - 0s 5ms/step - loss: 4.8674 - mse: 4.8674\n",
            "Epoch 101/200\n",
            "1/1 [==============================] - 0s 5ms/step - loss: 4.7909 - mse: 4.7909\n",
            "Epoch 102/200\n",
            "1/1 [==============================] - 0s 6ms/step - loss: 4.6874 - mse: 4.6874\n",
            "Epoch 103/200\n",
            "1/1 [==============================] - 0s 8ms/step - loss: 4.5246 - mse: 4.5246\n",
            "Epoch 104/200\n",
            "1/1 [==============================] - 0s 3ms/step - loss: 4.3036 - mse: 4.3036\n",
            "Epoch 105/200\n",
            "1/1 [==============================] - 0s 6ms/step - loss: 4.0504 - mse: 4.0504\n",
            "Epoch 106/200\n",
            "1/1 [==============================] - 0s 6ms/step - loss: 3.7994 - mse: 3.7994\n",
            "Epoch 107/200\n",
            "1/1 [==============================] - 0s 5ms/step - loss: 3.5781 - mse: 3.5781\n",
            "Epoch 108/200\n",
            "1/1 [==============================] - 0s 4ms/step - loss: 3.3962 - mse: 3.3962\n",
            "Epoch 109/200\n",
            "1/1 [==============================] - 0s 5ms/step - loss: 3.2452 - mse: 3.2452\n",
            "Epoch 110/200\n",
            "1/1 [==============================] - 0s 4ms/step - loss: 3.1065 - mse: 3.1065\n",
            "Epoch 111/200\n",
            "1/1 [==============================] - 0s 5ms/step - loss: 2.9634 - mse: 2.9634\n",
            "Epoch 112/200\n",
            "1/1 [==============================] - 0s 5ms/step - loss: 2.8094 - mse: 2.8094\n",
            "Epoch 113/200\n",
            "1/1 [==============================] - 0s 5ms/step - loss: 2.6495 - mse: 2.6495\n",
            "Epoch 114/200\n",
            "1/1 [==============================] - 0s 4ms/step - loss: 2.4953 - mse: 2.4953\n",
            "Epoch 115/200\n",
            "1/1 [==============================] - 0s 6ms/step - loss: 2.3581 - mse: 2.3581\n",
            "Epoch 116/200\n",
            "1/1 [==============================] - 0s 6ms/step - loss: 2.2441 - mse: 2.2441\n",
            "Epoch 117/200\n",
            "1/1 [==============================] - 0s 5ms/step - loss: 2.1533 - mse: 2.1533\n",
            "Epoch 118/200\n",
            "1/1 [==============================] - 0s 5ms/step - loss: 2.0806 - mse: 2.0806\n",
            "Epoch 119/200\n",
            "1/1 [==============================] - 0s 7ms/step - loss: 2.0189 - mse: 2.0189\n",
            "Epoch 120/200\n",
            "1/1 [==============================] - 0s 4ms/step - loss: 1.9617 - mse: 1.9617\n",
            "Epoch 121/200\n",
            "1/1 [==============================] - 0s 5ms/step - loss: 1.9046 - mse: 1.9046\n",
            "Epoch 122/200\n",
            "1/1 [==============================] - 0s 6ms/step - loss: 1.8461 - mse: 1.8461\n",
            "Epoch 123/200\n",
            "1/1 [==============================] - 0s 5ms/step - loss: 1.7865 - mse: 1.7865\n",
            "Epoch 124/200\n",
            "1/1 [==============================] - 0s 6ms/step - loss: 1.7276 - mse: 1.7276\n",
            "Epoch 125/200\n",
            "1/1 [==============================] - 0s 4ms/step - loss: 1.6710 - mse: 1.6710\n",
            "Epoch 126/200\n",
            "1/1 [==============================] - 0s 5ms/step - loss: 1.6177 - mse: 1.6177\n",
            "Epoch 127/200\n",
            "1/1 [==============================] - 0s 5ms/step - loss: 1.5674 - mse: 1.5674\n",
            "Epoch 128/200\n",
            "1/1 [==============================] - 0s 5ms/step - loss: 1.5193 - mse: 1.5193\n",
            "Epoch 129/200\n",
            "1/1 [==============================] - 0s 5ms/step - loss: 1.4720 - mse: 1.4720\n",
            "Epoch 130/200\n",
            "1/1 [==============================] - 0s 5ms/step - loss: 1.4246 - mse: 1.4246\n",
            "Epoch 131/200\n",
            "1/1 [==============================] - 0s 4ms/step - loss: 1.3765 - mse: 1.3765\n",
            "Epoch 132/200\n",
            "1/1 [==============================] - 0s 4ms/step - loss: 1.3284 - mse: 1.3284\n",
            "Epoch 133/200\n",
            "1/1 [==============================] - 0s 4ms/step - loss: 1.2813 - mse: 1.2813\n",
            "Epoch 134/200\n",
            "1/1 [==============================] - 0s 4ms/step - loss: 1.2364 - mse: 1.2364\n",
            "Epoch 135/200\n",
            "1/1 [==============================] - 0s 5ms/step - loss: 1.1946 - mse: 1.1946\n",
            "Epoch 136/200\n",
            "1/1 [==============================] - 0s 7ms/step - loss: 1.1566 - mse: 1.1566\n",
            "Epoch 137/200\n",
            "1/1 [==============================] - 0s 4ms/step - loss: 1.1222 - mse: 1.1222\n",
            "Epoch 138/200\n",
            "1/1 [==============================] - 0s 5ms/step - loss: 1.0908 - mse: 1.0908\n",
            "Epoch 139/200\n",
            "1/1 [==============================] - 0s 5ms/step - loss: 1.0617 - mse: 1.0617\n",
            "Epoch 140/200\n",
            "1/1 [==============================] - 0s 4ms/step - loss: 1.0342 - mse: 1.0342\n",
            "Epoch 141/200\n",
            "1/1 [==============================] - 0s 4ms/step - loss: 1.0080 - mse: 1.0080\n",
            "Epoch 142/200\n",
            "1/1 [==============================] - 0s 4ms/step - loss: 0.9828 - mse: 0.9828\n",
            "Epoch 143/200\n",
            "1/1 [==============================] - 0s 4ms/step - loss: 0.9587 - mse: 0.9587\n",
            "Epoch 144/200\n",
            "1/1 [==============================] - 0s 6ms/step - loss: 0.9358 - mse: 0.9358\n",
            "Epoch 145/200\n",
            "1/1 [==============================] - 0s 6ms/step - loss: 0.9141 - mse: 0.9141\n",
            "Epoch 146/200\n",
            "1/1 [==============================] - 0s 5ms/step - loss: 0.8936 - mse: 0.8936\n",
            "Epoch 147/200\n",
            "1/1 [==============================] - 0s 4ms/step - loss: 0.8740 - mse: 0.8740\n",
            "Epoch 148/200\n",
            "1/1 [==============================] - 0s 5ms/step - loss: 0.8550 - mse: 0.8550\n",
            "Epoch 149/200\n",
            "1/1 [==============================] - 0s 4ms/step - loss: 0.8363 - mse: 0.8363\n",
            "Epoch 150/200\n",
            "1/1 [==============================] - 0s 7ms/step - loss: 0.8180 - mse: 0.8180\n",
            "Epoch 151/200\n",
            "1/1 [==============================] - 0s 8ms/step - loss: 0.8000 - mse: 0.8000\n",
            "Epoch 152/200\n",
            "1/1 [==============================] - 0s 3ms/step - loss: 0.7825 - mse: 0.7825\n",
            "Epoch 153/200\n",
            "1/1 [==============================] - 0s 5ms/step - loss: 0.7655 - mse: 0.7655\n",
            "Epoch 154/200\n",
            "1/1 [==============================] - 0s 4ms/step - loss: 0.7494 - mse: 0.7494\n",
            "Epoch 155/200\n",
            "1/1 [==============================] - 0s 4ms/step - loss: 0.7341 - mse: 0.7341\n",
            "Epoch 156/200\n",
            "1/1 [==============================] - 0s 5ms/step - loss: 0.7197 - mse: 0.7197\n",
            "Epoch 157/200\n",
            "1/1 [==============================] - 0s 4ms/step - loss: 0.7061 - mse: 0.7061\n",
            "Epoch 158/200\n",
            "1/1 [==============================] - 0s 6ms/step - loss: 0.6931 - mse: 0.6931\n",
            "Epoch 159/200\n",
            "1/1 [==============================] - 0s 6ms/step - loss: 0.6807 - mse: 0.6807\n",
            "Epoch 160/200\n",
            "1/1 [==============================] - 0s 5ms/step - loss: 0.6688 - mse: 0.6688\n",
            "Epoch 161/200\n",
            "1/1 [==============================] - 0s 5ms/step - loss: 0.6574 - mse: 0.6574\n",
            "Epoch 162/200\n",
            "1/1 [==============================] - 0s 5ms/step - loss: 0.6465 - mse: 0.6465\n",
            "Epoch 163/200\n",
            "1/1 [==============================] - 0s 5ms/step - loss: 0.6361 - mse: 0.6361\n",
            "Epoch 164/200\n",
            "1/1 [==============================] - 0s 5ms/step - loss: 0.6261 - mse: 0.6261\n",
            "Epoch 165/200\n",
            "1/1 [==============================] - 0s 7ms/step - loss: 0.6165 - mse: 0.6165\n",
            "Epoch 166/200\n",
            "1/1 [==============================] - 0s 7ms/step - loss: 0.6073 - mse: 0.6073\n",
            "Epoch 167/200\n",
            "1/1 [==============================] - 0s 4ms/step - loss: 0.5984 - mse: 0.5984\n",
            "Epoch 168/200\n",
            "1/1 [==============================] - 0s 5ms/step - loss: 0.5898 - mse: 0.5898\n",
            "Epoch 169/200\n",
            "1/1 [==============================] - 0s 6ms/step - loss: 0.5814 - mse: 0.5814\n",
            "Epoch 170/200\n",
            "1/1 [==============================] - 0s 4ms/step - loss: 0.5732 - mse: 0.5732\n",
            "Epoch 171/200\n",
            "1/1 [==============================] - 0s 4ms/step - loss: 0.5652 - mse: 0.5652\n",
            "Epoch 172/200\n",
            "1/1 [==============================] - 0s 2ms/step - loss: 0.5575 - mse: 0.5575\n",
            "Epoch 173/200\n",
            "1/1 [==============================] - 0s 5ms/step - loss: 0.5501 - mse: 0.5501\n",
            "Epoch 174/200\n",
            "1/1 [==============================] - 0s 5ms/step - loss: 0.5429 - mse: 0.5429\n",
            "Epoch 175/200\n",
            "1/1 [==============================] - 0s 5ms/step - loss: 0.5360 - mse: 0.5360\n",
            "Epoch 176/200\n",
            "1/1 [==============================] - 0s 5ms/step - loss: 0.5294 - mse: 0.5294\n",
            "Epoch 177/200\n",
            "1/1 [==============================] - 0s 4ms/step - loss: 0.5229 - mse: 0.5229\n",
            "Epoch 178/200\n",
            "1/1 [==============================] - 0s 5ms/step - loss: 0.5166 - mse: 0.5166\n",
            "Epoch 179/200\n",
            "1/1 [==============================] - 0s 5ms/step - loss: 0.5106 - mse: 0.5106\n",
            "Epoch 180/200\n",
            "1/1 [==============================] - 0s 5ms/step - loss: 0.5047 - mse: 0.5047\n",
            "Epoch 181/200\n",
            "1/1 [==============================] - 0s 5ms/step - loss: 0.4989 - mse: 0.4989\n",
            "Epoch 182/200\n",
            "1/1 [==============================] - 0s 4ms/step - loss: 0.4934 - mse: 0.4934\n",
            "Epoch 183/200\n",
            "1/1 [==============================] - 0s 4ms/step - loss: 0.4879 - mse: 0.4879\n",
            "Epoch 184/200\n",
            "1/1 [==============================] - 0s 4ms/step - loss: 0.4827 - mse: 0.4827\n",
            "Epoch 185/200\n",
            "1/1 [==============================] - 0s 7ms/step - loss: 0.4775 - mse: 0.4775\n",
            "Epoch 186/200\n",
            "1/1 [==============================] - 0s 4ms/step - loss: 0.4725 - mse: 0.4725\n",
            "Epoch 187/200\n",
            "1/1 [==============================] - 0s 5ms/step - loss: 0.4676 - mse: 0.4676\n",
            "Epoch 188/200\n",
            "1/1 [==============================] - 0s 4ms/step - loss: 0.4627 - mse: 0.4627\n",
            "Epoch 189/200\n",
            "1/1 [==============================] - 0s 5ms/step - loss: 0.4580 - mse: 0.4580\n",
            "Epoch 190/200\n",
            "1/1 [==============================] - 0s 6ms/step - loss: 0.4533 - mse: 0.4533\n",
            "Epoch 191/200\n",
            "1/1 [==============================] - 0s 4ms/step - loss: 0.4488 - mse: 0.4488\n",
            "Epoch 192/200\n",
            "1/1 [==============================] - 0s 4ms/step - loss: 0.4443 - mse: 0.4443\n",
            "Epoch 193/200\n",
            "1/1 [==============================] - 0s 7ms/step - loss: 0.4399 - mse: 0.4399\n",
            "Epoch 194/200\n",
            "1/1 [==============================] - 0s 4ms/step - loss: 0.4356 - mse: 0.4356\n",
            "Epoch 195/200\n",
            "1/1 [==============================] - 0s 3ms/step - loss: 0.4314 - mse: 0.4314\n",
            "Epoch 196/200\n",
            "1/1 [==============================] - 0s 3ms/step - loss: 0.4273 - mse: 0.4273\n",
            "Epoch 197/200\n",
            "1/1 [==============================] - 0s 5ms/step - loss: 0.4232 - mse: 0.4232\n",
            "Epoch 198/200\n",
            "1/1 [==============================] - 0s 5ms/step - loss: 0.4192 - mse: 0.4192\n",
            "Epoch 199/200\n",
            "1/1 [==============================] - 0s 5ms/step - loss: 0.4152 - mse: 0.4152\n",
            "Epoch 200/200\n",
            "1/1 [==============================] - 0s 6ms/step - loss: 0.4113 - mse: 0.4113\n"
          ],
          "name": "stdout"
        },
        {
          "output_type": "execute_result",
          "data": {
            "text/plain": [
              "<tensorflow.python.keras.callbacks.History at 0x269b0922a90>"
            ]
          },
          "metadata": {
            "tags": []
          },
          "execution_count": 133
        }
      ]
    },
    {
      "cell_type": "code",
      "metadata": {
        "id": "k7IuzO6J0trT",
        "outputId": "bd5b01a4-f394-4433-aef5-56e40fe8120d"
      },
      "source": [
        "prox = array([70,80,90])\n",
        "prox = prox.reshape((1,passos,n_features))\n",
        "model.predict(prox)"
      ],
      "execution_count": null,
      "outputs": [
        {
          "output_type": "stream",
          "text": [
            "WARNING:tensorflow:6 out of the last 319 calls to <function Model.make_predict_function.<locals>.predict_function at 0x00000269A0C8B700> triggered tf.function retracing. Tracing is expensive and the excessive number of tracings could be due to (1) creating @tf.function repeatedly in a loop, (2) passing tensors with different shapes, (3) passing Python objects instead of tensors. For (1), please define your @tf.function outside of the loop. For (2), @tf.function has experimental_relax_shapes=True option that relaxes argument shapes that can avoid unnecessary retracing. For (3), please refer to https://www.tensorflow.org/guide/function#controlling_retracing and https://www.tensorflow.org/api_docs/python/tf/function for  more details.\n"
          ],
          "name": "stdout"
        },
        {
          "output_type": "execute_result",
          "data": {
            "text/plain": [
              "array([[102.22098]], dtype=float32)"
            ]
          },
          "metadata": {
            "tags": []
          },
          "execution_count": 134
        }
      ]
    },
    {
      "cell_type": "code",
      "metadata": {
        "id": "8xYQw_OE0trT"
      },
      "source": [
        "seq = [[10,1],[20,1],[30,1],[40,1],[50,1],[60,1],[70,1],[80,1],[90,1]]"
      ],
      "execution_count": null,
      "outputs": []
    },
    {
      "cell_type": "code",
      "metadata": {
        "id": "WzP8gfUT0trT"
      },
      "source": [
        "def split_sequence(sequence, passos):\n",
        "    X, y = list(), list()\n",
        "    for i in range(len(sequence)):\n",
        "        fim = i + passos\n",
        "        if(fim > len(sequence)-1):\n",
        "            break\n",
        "        seq_x, seq_y = sequence[i:fim], sequence[fim][0]\n",
        "        X.append(seq_x)\n",
        "        y.append(seq_y)\n",
        "    return array(X), array(y)"
      ],
      "execution_count": null,
      "outputs": []
    },
    {
      "cell_type": "code",
      "metadata": {
        "id": "VXGuHGHJ0trT"
      },
      "source": [
        "X,y = split_sequence(seq,passos)"
      ],
      "execution_count": null,
      "outputs": []
    },
    {
      "cell_type": "code",
      "metadata": {
        "id": "i6F6gZdP0trT"
      },
      "source": [
        "n_features = 2\n",
        "X = X.reshape((X.shape[0], X.shape[1],n_features))"
      ],
      "execution_count": null,
      "outputs": []
    },
    {
      "cell_type": "code",
      "metadata": {
        "collapsed": true,
        "jupyter": {
          "outputs_hidden": true
        },
        "id": "LYOiBxM80trT",
        "outputId": "afe266d2-6834-4689-d03d-fd62275fe135"
      },
      "source": [
        "X"
      ],
      "execution_count": null,
      "outputs": [
        {
          "output_type": "execute_result",
          "data": {
            "text/plain": [
              "array([[[10,  1],\n",
              "        [20,  1],\n",
              "        [30,  1]],\n",
              "\n",
              "       [[20,  1],\n",
              "        [30,  1],\n",
              "        [40,  1]],\n",
              "\n",
              "       [[30,  1],\n",
              "        [40,  1],\n",
              "        [50,  1]],\n",
              "\n",
              "       [[40,  1],\n",
              "        [50,  1],\n",
              "        [60,  1]],\n",
              "\n",
              "       [[50,  1],\n",
              "        [60,  1],\n",
              "        [70,  1]],\n",
              "\n",
              "       [[60,  1],\n",
              "        [70,  1],\n",
              "        [80,  1]]])"
            ]
          },
          "metadata": {
            "tags": []
          },
          "execution_count": 141
        }
      ]
    },
    {
      "cell_type": "code",
      "metadata": {
        "id": "xd4qifaX0trT"
      },
      "source": [
        "model = tf.keras.models.Sequential()\n",
        "model.add(LSTM(100, activation='relu',input_shape=(passos,n_features)))\n",
        "model.add(Dense(1))\n",
        "model.compile(optimizer='adam', loss='mse', metrics=['mse'])"
      ],
      "execution_count": null,
      "outputs": []
    },
    {
      "cell_type": "code",
      "metadata": {
        "collapsed": true,
        "jupyter": {
          "outputs_hidden": true
        },
        "id": "DaaTFPAs0trU",
        "outputId": "90951211-19e9-4dea-abec-ccae7688ca9c"
      },
      "source": [
        "model.fit(X,y,epochs=200)"
      ],
      "execution_count": null,
      "outputs": [
        {
          "output_type": "stream",
          "text": [
            "Epoch 1/200\n",
            "1/1 [==============================] - 1s 1s/step - loss: 4672.2280 - mse: 4672.2280\n",
            "Epoch 2/200\n",
            "1/1 [==============================] - 0s 4ms/step - loss: 4585.7871 - mse: 4585.7871\n",
            "Epoch 3/200\n",
            "1/1 [==============================] - 0s 5ms/step - loss: 4500.4917 - mse: 4500.4917\n",
            "Epoch 4/200\n",
            "1/1 [==============================] - 0s 6ms/step - loss: 4416.3823 - mse: 4416.3823\n",
            "Epoch 5/200\n",
            "1/1 [==============================] - 0s 5ms/step - loss: 4333.0200 - mse: 4333.0200\n",
            "Epoch 6/200\n",
            "1/1 [==============================] - 0s 6ms/step - loss: 4250.0278 - mse: 4250.0278\n",
            "Epoch 7/200\n",
            "1/1 [==============================] - 0s 5ms/step - loss: 4167.2378 - mse: 4167.2378\n",
            "Epoch 8/200\n",
            "1/1 [==============================] - 0s 7ms/step - loss: 4084.6504 - mse: 4084.6504\n",
            "Epoch 9/200\n",
            "1/1 [==============================] - 0s 5ms/step - loss: 4002.2493 - mse: 4002.2493\n",
            "Epoch 10/200\n",
            "1/1 [==============================] - 0s 4ms/step - loss: 3919.8721 - mse: 3919.8721\n",
            "Epoch 11/200\n",
            "1/1 [==============================] - 0s 4ms/step - loss: 3837.4170 - mse: 3837.4170\n",
            "Epoch 12/200\n",
            "1/1 [==============================] - 0s 3ms/step - loss: 3754.7449 - mse: 3754.7449\n",
            "Epoch 13/200\n",
            "1/1 [==============================] - 0s 3ms/step - loss: 3671.7463 - mse: 3671.7463\n",
            "Epoch 14/200\n",
            "1/1 [==============================] - 0s 5ms/step - loss: 3588.2625 - mse: 3588.2625\n",
            "Epoch 15/200\n",
            "1/1 [==============================] - 0s 4ms/step - loss: 3504.0801 - mse: 3504.0801\n",
            "Epoch 16/200\n",
            "1/1 [==============================] - 0s 4ms/step - loss: 3418.9597 - mse: 3418.9597\n",
            "Epoch 17/200\n",
            "1/1 [==============================] - 0s 8ms/step - loss: 3332.5605 - mse: 3332.5605\n",
            "Epoch 18/200\n",
            "1/1 [==============================] - 0s 7ms/step - loss: 3244.3801 - mse: 3244.3801\n",
            "Epoch 19/200\n",
            "1/1 [==============================] - 0s 4ms/step - loss: 3153.7754 - mse: 3153.7754\n",
            "Epoch 20/200\n",
            "1/1 [==============================] - 0s 3ms/step - loss: 3059.9053 - mse: 3059.9053\n",
            "Epoch 21/200\n",
            "1/1 [==============================] - 0s 4ms/step - loss: 2961.6697 - mse: 2961.6697\n",
            "Epoch 22/200\n",
            "1/1 [==============================] - 0s 3ms/step - loss: 2857.6829 - mse: 2857.6829\n",
            "Epoch 23/200\n",
            "1/1 [==============================] - 0s 5ms/step - loss: 2746.3320 - mse: 2746.3320\n",
            "Epoch 24/200\n",
            "1/1 [==============================] - 0s 6ms/step - loss: 2625.9016 - mse: 2625.9016\n",
            "Epoch 25/200\n",
            "1/1 [==============================] - 0s 7ms/step - loss: 2492.9172 - mse: 2492.9172\n",
            "Epoch 26/200\n",
            "1/1 [==============================] - 0s 4ms/step - loss: 2344.2327 - mse: 2344.2327\n",
            "Epoch 27/200\n",
            "1/1 [==============================] - 0s 4ms/step - loss: 2176.1799 - mse: 2176.1799\n",
            "Epoch 28/200\n",
            "1/1 [==============================] - 0s 4ms/step - loss: 1985.3781 - mse: 1985.3781\n",
            "Epoch 29/200\n",
            "1/1 [==============================] - 0s 5ms/step - loss: 1771.1715 - mse: 1771.1715\n",
            "Epoch 30/200\n",
            "1/1 [==============================] - 0s 5ms/step - loss: 1536.3706 - mse: 1536.3706\n",
            "Epoch 31/200\n",
            "1/1 [==============================] - 0s 4ms/step - loss: 1288.4923 - mse: 1288.4923\n",
            "Epoch 32/200\n",
            "1/1 [==============================] - 0s 5ms/step - loss: 1038.7755 - mse: 1038.7755\n",
            "Epoch 33/200\n",
            "1/1 [==============================] - 0s 5ms/step - loss: 802.4066 - mse: 802.4066\n",
            "Epoch 34/200\n",
            "1/1 [==============================] - 0s 7ms/step - loss: 595.6766 - mse: 595.6766\n",
            "Epoch 35/200\n",
            "1/1 [==============================] - 0s 3ms/step - loss: 428.9707 - mse: 428.9707\n",
            "Epoch 36/200\n",
            "1/1 [==============================] - 0s 5ms/step - loss: 304.0520 - mse: 304.0520\n",
            "Epoch 37/200\n",
            "1/1 [==============================] - 0s 5ms/step - loss: 219.4372 - mse: 219.4372\n",
            "Epoch 38/200\n",
            "1/1 [==============================] - 0s 4ms/step - loss: 173.7263 - mse: 173.7263\n",
            "Epoch 39/200\n",
            "1/1 [==============================] - 0s 5ms/step - loss: 164.5300 - mse: 164.5300\n",
            "Epoch 40/200\n",
            "1/1 [==============================] - 0s 4ms/step - loss: 185.7077 - mse: 185.7077\n",
            "Epoch 41/200\n",
            "1/1 [==============================] - 0s 6ms/step - loss: 226.0328 - mse: 226.0328\n",
            "Epoch 42/200\n",
            "1/1 [==============================] - 0s 6ms/step - loss: 271.1304 - mse: 271.1304\n",
            "Epoch 43/200\n",
            "1/1 [==============================] - 0s 5ms/step - loss: 308.0752 - mse: 308.0752\n",
            "Epoch 44/200\n",
            "1/1 [==============================] - 0s 7ms/step - loss: 328.8812 - mse: 328.8812\n",
            "Epoch 45/200\n",
            "1/1 [==============================] - 0s 5ms/step - loss: 331.0809 - mse: 331.0809\n",
            "Epoch 46/200\n",
            "1/1 [==============================] - 0s 4ms/step - loss: 316.4645 - mse: 316.4645\n",
            "Epoch 47/200\n",
            "1/1 [==============================] - 0s 3ms/step - loss: 289.3922 - mse: 289.3922\n",
            "Epoch 48/200\n",
            "1/1 [==============================] - 0s 3ms/step - loss: 255.3180 - mse: 255.3180\n",
            "Epoch 49/200\n",
            "1/1 [==============================] - 0s 5ms/step - loss: 219.6016 - mse: 219.6016\n",
            "Epoch 50/200\n",
            "1/1 [==============================] - 0s 5ms/step - loss: 186.5915 - mse: 186.5915\n",
            "Epoch 51/200\n",
            "1/1 [==============================] - 0s 5ms/step - loss: 159.1069 - mse: 159.1069\n",
            "Epoch 52/200\n",
            "1/1 [==============================] - 0s 8ms/step - loss: 138.3664 - mse: 138.3664\n",
            "Epoch 53/200\n",
            "1/1 [==============================] - 0s 4ms/step - loss: 124.3320 - mse: 124.3320\n",
            "Epoch 54/200\n",
            "1/1 [==============================] - 0s 4ms/step - loss: 116.2127 - mse: 116.2127\n",
            "Epoch 55/200\n",
            "1/1 [==============================] - 0s 3ms/step - loss: 112.8560 - mse: 112.8560\n",
            "Epoch 56/200\n",
            "1/1 [==============================] - 0s 3ms/step - loss: 112.9875 - mse: 112.9875\n",
            "Epoch 57/200\n",
            "1/1 [==============================] - 0s 4ms/step - loss: 115.3288 - mse: 115.3288\n",
            "Epoch 58/200\n",
            "1/1 [==============================] - 0s 5ms/step - loss: 118.6216 - mse: 118.6216\n",
            "Epoch 59/200\n",
            "1/1 [==============================] - 0s 4ms/step - loss: 121.6770 - mse: 121.6770\n",
            "Epoch 60/200\n",
            "1/1 [==============================] - 0s 6ms/step - loss: 123.5677 - mse: 123.5677\n",
            "Epoch 61/200\n",
            "1/1 [==============================] - 0s 5ms/step - loss: 123.7649 - mse: 123.7649\n",
            "Epoch 62/200\n",
            "1/1 [==============================] - 0s 5ms/step - loss: 122.0967 - mse: 122.0967\n",
            "Epoch 63/200\n",
            "1/1 [==============================] - 0s 5ms/step - loss: 118.6566 - mse: 118.6566\n",
            "Epoch 64/200\n",
            "1/1 [==============================] - 0s 4ms/step - loss: 113.7238 - mse: 113.7238\n",
            "Epoch 65/200\n",
            "1/1 [==============================] - 0s 5ms/step - loss: 107.6953 - mse: 107.6953\n",
            "Epoch 66/200\n",
            "1/1 [==============================] - 0s 5ms/step - loss: 101.0266 - mse: 101.0266\n",
            "Epoch 67/200\n",
            "1/1 [==============================] - 0s 4ms/step - loss: 94.1795 - mse: 94.1795\n",
            "Epoch 68/200\n",
            "1/1 [==============================] - 0s 4ms/step - loss: 87.5788 - mse: 87.5788\n",
            "Epoch 69/200\n",
            "1/1 [==============================] - 0s 5ms/step - loss: 81.5799 - mse: 81.5799\n",
            "Epoch 70/200\n",
            "1/1 [==============================] - 0s 6ms/step - loss: 76.4445 - mse: 76.4445\n",
            "Epoch 71/200\n",
            "1/1 [==============================] - 0s 4ms/step - loss: 72.3236 - mse: 72.3236\n",
            "Epoch 72/200\n",
            "1/1 [==============================] - 0s 6ms/step - loss: 69.2426 - mse: 69.2426\n",
            "Epoch 73/200\n",
            "1/1 [==============================] - 0s 7ms/step - loss: 67.0885 - mse: 67.0885\n",
            "Epoch 74/200\n",
            "1/1 [==============================] - 0s 4ms/step - loss: 65.6094 - mse: 65.6094\n",
            "Epoch 75/200\n",
            "1/1 [==============================] - 0s 5ms/step - loss: 64.4457 - mse: 64.4457\n",
            "Epoch 76/200\n",
            "1/1 [==============================] - 0s 6ms/step - loss: 63.2015 - mse: 63.2015\n",
            "Epoch 77/200\n",
            "1/1 [==============================] - 0s 4ms/step - loss: 61.5450 - mse: 61.5450\n",
            "Epoch 78/200\n",
            "1/1 [==============================] - 0s 5ms/step - loss: 59.2956 - mse: 59.2956\n",
            "Epoch 79/200\n",
            "1/1 [==============================] - 0s 6ms/step - loss: 56.4543 - mse: 56.4543\n",
            "Epoch 80/200\n",
            "1/1 [==============================] - 0s 5ms/step - loss: 53.1679 - mse: 53.1679\n",
            "Epoch 81/200\n",
            "1/1 [==============================] - 0s 4ms/step - loss: 49.6591 - mse: 49.6591\n",
            "Epoch 82/200\n",
            "1/1 [==============================] - 0s 5ms/step - loss: 46.1523 - mse: 46.1523\n",
            "Epoch 83/200\n",
            "1/1 [==============================] - 0s 5ms/step - loss: 42.8241 - mse: 42.8241\n",
            "Epoch 84/200\n",
            "1/1 [==============================] - 0s 4ms/step - loss: 39.7843 - mse: 39.7843\n",
            "Epoch 85/200\n",
            "1/1 [==============================] - 0s 6ms/step - loss: 37.0736 - mse: 37.0736\n",
            "Epoch 86/200\n",
            "1/1 [==============================] - 0s 2ms/step - loss: 34.6722 - mse: 34.6722\n",
            "Epoch 87/200\n",
            "1/1 [==============================] - 0s 5ms/step - loss: 32.5120 - mse: 32.5120\n",
            "Epoch 88/200\n",
            "1/1 [==============================] - 0s 6ms/step - loss: 30.4984 - mse: 30.4984\n",
            "Epoch 89/200\n",
            "1/1 [==============================] - 0s 5ms/step - loss: 28.5352 - mse: 28.5352\n",
            "Epoch 90/200\n",
            "1/1 [==============================] - 0s 6ms/step - loss: 26.5509 - mse: 26.5509\n",
            "Epoch 91/200\n",
            "1/1 [==============================] - 0s 4ms/step - loss: 24.5194 - mse: 24.5194\n",
            "Epoch 92/200\n",
            "1/1 [==============================] - 0s 4ms/step - loss: 22.4702 - mse: 22.4702\n",
            "Epoch 93/200\n",
            "1/1 [==============================] - 0s 4ms/step - loss: 20.4859 - mse: 20.4859\n",
            "Epoch 94/200\n",
            "1/1 [==============================] - 0s 7ms/step - loss: 18.6779 - mse: 18.6779\n",
            "Epoch 95/200\n",
            "1/1 [==============================] - 0s 4ms/step - loss: 17.1382 - mse: 17.1382\n",
            "Epoch 96/200\n",
            "1/1 [==============================] - 0s 6ms/step - loss: 15.8750 - mse: 15.8750\n",
            "Epoch 97/200\n",
            "1/1 [==============================] - 0s 5ms/step - loss: 14.7875 - mse: 14.7875\n",
            "Epoch 98/200\n",
            "1/1 [==============================] - 0s 5ms/step - loss: 13.7320 - mse: 13.7320\n",
            "Epoch 99/200\n",
            "1/1 [==============================] - 0s 3ms/step - loss: 12.6324 - mse: 12.6324\n",
            "Epoch 100/200\n",
            "1/1 [==============================] - 0s 4ms/step - loss: 11.5211 - mse: 11.5211\n",
            "Epoch 101/200\n",
            "1/1 [==============================] - 0s 4ms/step - loss: 10.4911 - mse: 10.4911\n",
            "Epoch 102/200\n",
            "1/1 [==============================] - 0s 7ms/step - loss: 9.6217 - mse: 9.6217\n",
            "Epoch 103/200\n",
            "1/1 [==============================] - 0s 4ms/step - loss: 8.9343 - mse: 8.9343\n",
            "Epoch 104/200\n",
            "1/1 [==============================] - 0s 6ms/step - loss: 8.3916 - mse: 8.3916\n",
            "Epoch 105/200\n",
            "1/1 [==============================] - 0s 4ms/step - loss: 7.9298 - mse: 7.9298\n",
            "Epoch 106/200\n",
            "1/1 [==============================] - 0s 3ms/step - loss: 7.4951 - mse: 7.4951\n",
            "Epoch 107/200\n",
            "1/1 [==============================] - 0s 4ms/step - loss: 7.0657 - mse: 7.0657\n",
            "Epoch 108/200\n",
            "1/1 [==============================] - 0s 6ms/step - loss: 6.6501 - mse: 6.6501\n",
            "Epoch 109/200\n",
            "1/1 [==============================] - 0s 5ms/step - loss: 6.2730 - mse: 6.2730\n",
            "Epoch 110/200\n",
            "1/1 [==============================] - 0s 3ms/step - loss: 5.9534 - mse: 5.9534\n",
            "Epoch 111/200\n",
            "1/1 [==============================] - 0s 5ms/step - loss: 5.6893 - mse: 5.6893\n",
            "Epoch 112/200\n",
            "1/1 [==============================] - 0s 4ms/step - loss: 5.4585 - mse: 5.4585\n",
            "Epoch 113/200\n",
            "1/1 [==============================] - 0s 5ms/step - loss: 5.2317 - mse: 5.2317\n",
            "Epoch 114/200\n",
            "1/1 [==============================] - 0s 5ms/step - loss: 4.9899 - mse: 4.9899\n",
            "Epoch 115/200\n",
            "1/1 [==============================] - 0s 5ms/step - loss: 4.7325 - mse: 4.7325\n",
            "Epoch 116/200\n",
            "1/1 [==============================] - 0s 4ms/step - loss: 4.4726 - mse: 4.4726\n",
            "Epoch 117/200\n",
            "1/1 [==============================] - 0s 6ms/step - loss: 4.2267 - mse: 4.2267\n",
            "Epoch 118/200\n",
            "1/1 [==============================] - 0s 4ms/step - loss: 4.0055 - mse: 4.0055\n",
            "Epoch 119/200\n",
            "1/1 [==============================] - 0s 6ms/step - loss: 3.8110 - mse: 3.8110\n",
            "Epoch 120/200\n",
            "1/1 [==============================] - 0s 5ms/step - loss: 3.6391 - mse: 3.6391\n",
            "Epoch 121/200\n",
            "1/1 [==============================] - 0s 4ms/step - loss: 3.4834 - mse: 3.4834\n",
            "Epoch 122/200\n",
            "1/1 [==============================] - 0s 5ms/step - loss: 3.3383 - mse: 3.3383\n",
            "Epoch 123/200\n",
            "1/1 [==============================] - 0s 5ms/step - loss: 3.2009 - mse: 3.2009\n",
            "Epoch 124/200\n",
            "1/1 [==============================] - 0s 5ms/step - loss: 3.0702 - mse: 3.0702\n",
            "Epoch 125/200\n",
            "1/1 [==============================] - 0s 6ms/step - loss: 2.9467 - mse: 2.9467\n",
            "Epoch 126/200\n",
            "1/1 [==============================] - 0s 5ms/step - loss: 2.8309 - mse: 2.8309\n",
            "Epoch 127/200\n",
            "1/1 [==============================] - 0s 4ms/step - loss: 2.7225 - mse: 2.7225\n",
            "Epoch 128/200\n",
            "1/1 [==============================] - 0s 6ms/step - loss: 2.6207 - mse: 2.6207\n",
            "Epoch 129/200\n",
            "1/1 [==============================] - 0s 3ms/step - loss: 2.5242 - mse: 2.5242\n",
            "Epoch 130/200\n",
            "1/1 [==============================] - 0s 3ms/step - loss: 2.4314 - mse: 2.4314\n",
            "Epoch 131/200\n",
            "1/1 [==============================] - 0s 4ms/step - loss: 2.3416 - mse: 2.3416\n",
            "Epoch 132/200\n",
            "1/1 [==============================] - 0s 5ms/step - loss: 2.2545 - mse: 2.2545\n",
            "Epoch 133/200\n",
            "1/1 [==============================] - 0s 5ms/step - loss: 2.1708 - mse: 2.1708\n",
            "Epoch 134/200\n",
            "1/1 [==============================] - 0s 6ms/step - loss: 2.0910 - mse: 2.0910\n",
            "Epoch 135/200\n",
            "1/1 [==============================] - 0s 4ms/step - loss: 2.0156 - mse: 2.0156\n",
            "Epoch 136/200\n",
            "1/1 [==============================] - 0s 6ms/step - loss: 1.9447 - mse: 1.9447\n",
            "Epoch 137/200\n",
            "1/1 [==============================] - 0s 5ms/step - loss: 1.8781 - mse: 1.8781\n",
            "Epoch 138/200\n",
            "1/1 [==============================] - 0s 4ms/step - loss: 1.8150 - mse: 1.8150\n",
            "Epoch 139/200\n",
            "1/1 [==============================] - 0s 5ms/step - loss: 1.7550 - mse: 1.7550\n",
            "Epoch 140/200\n",
            "1/1 [==============================] - 0s 3ms/step - loss: 1.6977 - mse: 1.6977\n",
            "Epoch 141/200\n",
            "1/1 [==============================] - 0s 5ms/step - loss: 1.6428 - mse: 1.6428\n",
            "Epoch 142/200\n",
            "1/1 [==============================] - 0s 5ms/step - loss: 1.5906 - mse: 1.5906\n",
            "Epoch 143/200\n",
            "1/1 [==============================] - 0s 5ms/step - loss: 1.5409 - mse: 1.5409\n",
            "Epoch 144/200\n",
            "1/1 [==============================] - 0s 5ms/step - loss: 1.4937 - mse: 1.4937\n",
            "Epoch 145/200\n",
            "1/1 [==============================] - 0s 4ms/step - loss: 1.4489 - mse: 1.4489\n",
            "Epoch 146/200\n",
            "1/1 [==============================] - 0s 5ms/step - loss: 1.4063 - mse: 1.4063\n",
            "Epoch 147/200\n",
            "1/1 [==============================] - 0s 5ms/step - loss: 1.3655 - mse: 1.3655\n",
            "Epoch 148/200\n",
            "1/1 [==============================] - 0s 6ms/step - loss: 1.3263 - mse: 1.3263\n",
            "Epoch 149/200\n",
            "1/1 [==============================] - 0s 4ms/step - loss: 1.2885 - mse: 1.2885\n",
            "Epoch 150/200\n",
            "1/1 [==============================] - 0s 4ms/step - loss: 1.2522 - mse: 1.2522\n",
            "Epoch 151/200\n",
            "1/1 [==============================] - 0s 3ms/step - loss: 1.2175 - mse: 1.2175\n",
            "Epoch 152/200\n",
            "1/1 [==============================] - 0s 4ms/step - loss: 1.1844 - mse: 1.1844\n",
            "Epoch 153/200\n",
            "1/1 [==============================] - 0s 3ms/step - loss: 1.1528 - mse: 1.1528\n",
            "Epoch 154/200\n",
            "1/1 [==============================] - 0s 5ms/step - loss: 1.1228 - mse: 1.1228\n",
            "Epoch 155/200\n",
            "1/1 [==============================] - 0s 4ms/step - loss: 1.0941 - mse: 1.0941\n",
            "Epoch 156/200\n",
            "1/1 [==============================] - 0s 5ms/step - loss: 1.0668 - mse: 1.0668\n",
            "Epoch 157/200\n",
            "1/1 [==============================] - 0s 4ms/step - loss: 1.0406 - mse: 1.0406\n",
            "Epoch 158/200\n",
            "1/1 [==============================] - 0s 4ms/step - loss: 1.0156 - mse: 1.0156\n",
            "Epoch 159/200\n",
            "1/1 [==============================] - 0s 3ms/step - loss: 0.9917 - mse: 0.9917\n",
            "Epoch 160/200\n",
            "1/1 [==============================] - 0s 5ms/step - loss: 0.9689 - mse: 0.9689\n",
            "Epoch 161/200\n",
            "1/1 [==============================] - 0s 6ms/step - loss: 0.9471 - mse: 0.9471\n",
            "Epoch 162/200\n",
            "1/1 [==============================] - 0s 6ms/step - loss: 0.9263 - mse: 0.9263\n",
            "Epoch 163/200\n",
            "1/1 [==============================] - 0s 4ms/step - loss: 0.9065 - mse: 0.9065\n",
            "Epoch 164/200\n",
            "1/1 [==============================] - 0s 4ms/step - loss: 0.8874 - mse: 0.8874\n",
            "Epoch 165/200\n",
            "1/1 [==============================] - 0s 6ms/step - loss: 0.8691 - mse: 0.8691\n",
            "Epoch 166/200\n",
            "1/1 [==============================] - 0s 5ms/step - loss: 0.8515 - mse: 0.8515\n",
            "Epoch 167/200\n",
            "1/1 [==============================] - 0s 4ms/step - loss: 0.8346 - mse: 0.8346\n",
            "Epoch 168/200\n",
            "1/1 [==============================] - 0s 4ms/step - loss: 0.8183 - mse: 0.8183\n",
            "Epoch 169/200\n",
            "1/1 [==============================] - 0s 5ms/step - loss: 0.8027 - mse: 0.8027\n",
            "Epoch 170/200\n",
            "1/1 [==============================] - 0s 6ms/step - loss: 0.7877 - mse: 0.7877\n",
            "Epoch 171/200\n",
            "1/1 [==============================] - 0s 4ms/step - loss: 0.7732 - mse: 0.7732\n",
            "Epoch 172/200\n",
            "1/1 [==============================] - 0s 5ms/step - loss: 0.7594 - mse: 0.7594\n",
            "Epoch 173/200\n",
            "1/1 [==============================] - 0s 3ms/step - loss: 0.7460 - mse: 0.7460\n",
            "Epoch 174/200\n",
            "1/1 [==============================] - 0s 4ms/step - loss: 0.7331 - mse: 0.7331\n",
            "Epoch 175/200\n",
            "1/1 [==============================] - 0s 4ms/step - loss: 0.7207 - mse: 0.7207\n",
            "Epoch 176/200\n",
            "1/1 [==============================] - 0s 5ms/step - loss: 0.7088 - mse: 0.7088\n",
            "Epoch 177/200\n",
            "1/1 [==============================] - 0s 5ms/step - loss: 0.6972 - mse: 0.6972\n",
            "Epoch 178/200\n",
            "1/1 [==============================] - 0s 5ms/step - loss: 0.6861 - mse: 0.6861\n",
            "Epoch 179/200\n",
            "1/1 [==============================] - 0s 5ms/step - loss: 0.6754 - mse: 0.6754\n",
            "Epoch 180/200\n",
            "1/1 [==============================] - 0s 5ms/step - loss: 0.6650 - mse: 0.6650\n",
            "Epoch 181/200\n",
            "1/1 [==============================] - 0s 4ms/step - loss: 0.6549 - mse: 0.6549\n",
            "Epoch 182/200\n",
            "1/1 [==============================] - 0s 4ms/step - loss: 0.6452 - mse: 0.6452\n",
            "Epoch 183/200\n",
            "1/1 [==============================] - 0s 4ms/step - loss: 0.6358 - mse: 0.6358\n",
            "Epoch 184/200\n",
            "1/1 [==============================] - 0s 4ms/step - loss: 0.6266 - mse: 0.6266\n",
            "Epoch 185/200\n",
            "1/1 [==============================] - 0s 6ms/step - loss: 0.6178 - mse: 0.6178\n",
            "Epoch 186/200\n",
            "1/1 [==============================] - 0s 3ms/step - loss: 0.6091 - mse: 0.6091\n",
            "Epoch 187/200\n",
            "1/1 [==============================] - 0s 3ms/step - loss: 0.6007 - mse: 0.6007\n",
            "Epoch 188/200\n",
            "1/1 [==============================] - 0s 6ms/step - loss: 0.5926 - mse: 0.5926\n",
            "Epoch 189/200\n",
            "1/1 [==============================] - 0s 5ms/step - loss: 0.5846 - mse: 0.5846\n",
            "Epoch 190/200\n",
            "1/1 [==============================] - 0s 5ms/step - loss: 0.5769 - mse: 0.5769\n",
            "Epoch 191/200\n",
            "1/1 [==============================] - 0s 5ms/step - loss: 0.5693 - mse: 0.5693\n",
            "Epoch 192/200\n",
            "1/1 [==============================] - 0s 5ms/step - loss: 0.5620 - mse: 0.5620\n",
            "Epoch 193/200\n",
            "1/1 [==============================] - 0s 5ms/step - loss: 0.5548 - mse: 0.5548\n",
            "Epoch 194/200\n",
            "1/1 [==============================] - 0s 5ms/step - loss: 0.5478 - mse: 0.5478\n",
            "Epoch 195/200\n",
            "1/1 [==============================] - 0s 5ms/step - loss: 0.5410 - mse: 0.5410\n",
            "Epoch 196/200\n",
            "1/1 [==============================] - 0s 6ms/step - loss: 0.5343 - mse: 0.5343\n",
            "Epoch 197/200\n",
            "1/1 [==============================] - 0s 3ms/step - loss: 0.5278 - mse: 0.5278\n",
            "Epoch 198/200\n",
            "1/1 [==============================] - 0s 5ms/step - loss: 0.5214 - mse: 0.5214\n",
            "Epoch 199/200\n",
            "1/1 [==============================] - 0s 6ms/step - loss: 0.5151 - mse: 0.5151\n",
            "Epoch 200/200\n",
            "1/1 [==============================] - 0s 4ms/step - loss: 0.5090 - mse: 0.5090\n"
          ],
          "name": "stdout"
        },
        {
          "output_type": "execute_result",
          "data": {
            "text/plain": [
              "<tensorflow.python.keras.callbacks.History at 0x2699ef63af0>"
            ]
          },
          "metadata": {
            "tags": []
          },
          "execution_count": 143
        }
      ]
    },
    {
      "cell_type": "code",
      "metadata": {
        "id": "9GpTSJy50trU",
        "outputId": "23c9d25b-9495-4513-a10a-a86ec3209148"
      },
      "source": [
        "prox = array([[70,1],[80,1],[90,1]])\n",
        "prox = prox.reshape((1,passos,n_features))\n",
        "model.predict(prox)"
      ],
      "execution_count": null,
      "outputs": [
        {
          "output_type": "stream",
          "text": [
            "WARNING:tensorflow:7 out of the last 320 calls to <function Model.make_predict_function.<locals>.predict_function at 0x000002694E983E50> triggered tf.function retracing. Tracing is expensive and the excessive number of tracings could be due to (1) creating @tf.function repeatedly in a loop, (2) passing tensors with different shapes, (3) passing Python objects instead of tensors. For (1), please define your @tf.function outside of the loop. For (2), @tf.function has experimental_relax_shapes=True option that relaxes argument shapes that can avoid unnecessary retracing. For (3), please refer to https://www.tensorflow.org/guide/function#controlling_retracing and https://www.tensorflow.org/api_docs/python/tf/function for  more details.\n"
          ],
          "name": "stdout"
        },
        {
          "output_type": "execute_result",
          "data": {
            "text/plain": [
              "array([[102.37759]], dtype=float32)"
            ]
          },
          "metadata": {
            "tags": []
          },
          "execution_count": 144
        }
      ]
    },
    {
      "cell_type": "code",
      "metadata": {
        "id": "y17xM1uY0trU"
      },
      "source": [
        "import gzip\n",
        "import shutil\n",
        "import requests\n",
        "import os\n",
        "from os import listdir\n",
        "from os.path import isfile,join,abspath"
      ],
      "execution_count": null,
      "outputs": []
    },
    {
      "cell_type": "code",
      "metadata": {
        "id": "8fYxQttZ0trU"
      },
      "source": [
        "url = 'https://data.brasil.io/dataset/covid19/caso_full.csv.gz'"
      ],
      "execution_count": null,
      "outputs": []
    },
    {
      "cell_type": "code",
      "metadata": {
        "id": "BvjBc_Kf0trU"
      },
      "source": [
        "def download_data():\n",
        "    r = requests.get(url, allow_redirects=True)\n",
        "    open('data.csv.gz', 'wb').write(r.content)\n",
        "\n",
        "def unzip_data():\n",
        "    with gzip.open('data.csv.gz', 'rb') as f_in:\n",
        "        with open('data.csv', 'wb') as f_out:\n",
        "            shutil.copyfileobj(f_in, f_out)"
      ],
      "execution_count": null,
      "outputs": []
    },
    {
      "cell_type": "code",
      "metadata": {
        "id": "djQFB02I0trU"
      },
      "source": [
        "download_data()"
      ],
      "execution_count": null,
      "outputs": []
    },
    {
      "cell_type": "code",
      "metadata": {
        "id": "JutdmP_-0trU"
      },
      "source": [
        "unzip_data()"
      ],
      "execution_count": null,
      "outputs": []
    },
    {
      "cell_type": "code",
      "metadata": {
        "id": "rhtTV3H80trV",
        "outputId": "6b8ede52-6036-4688-bb5b-e04dc765848a"
      },
      "source": [
        "import pandas as pd\n",
        "\n",
        "data = pd.read_csv('data.csv')\n",
        "data[(data['state'] == 'CE') & data['city'].isna()]"
      ],
      "execution_count": null,
      "outputs": [
        {
          "output_type": "execute_result",
          "data": {
            "text/html": [
              "<div>\n",
              "<style scoped>\n",
              "    .dataframe tbody tr th:only-of-type {\n",
              "        vertical-align: middle;\n",
              "    }\n",
              "\n",
              "    .dataframe tbody tr th {\n",
              "        vertical-align: top;\n",
              "    }\n",
              "\n",
              "    .dataframe thead th {\n",
              "        text-align: right;\n",
              "    }\n",
              "</style>\n",
              "<table border=\"1\" class=\"dataframe\">\n",
              "  <thead>\n",
              "    <tr style=\"text-align: right;\">\n",
              "      <th></th>\n",
              "      <th>city</th>\n",
              "      <th>city_ibge_code</th>\n",
              "      <th>date</th>\n",
              "      <th>epidemiological_week</th>\n",
              "      <th>estimated_population</th>\n",
              "      <th>estimated_population_2019</th>\n",
              "      <th>is_last</th>\n",
              "      <th>is_repeated</th>\n",
              "      <th>last_available_confirmed</th>\n",
              "      <th>last_available_confirmed_per_100k_inhabitants</th>\n",
              "      <th>last_available_date</th>\n",
              "      <th>last_available_death_rate</th>\n",
              "      <th>last_available_deaths</th>\n",
              "      <th>order_for_place</th>\n",
              "      <th>place_type</th>\n",
              "      <th>state</th>\n",
              "      <th>new_confirmed</th>\n",
              "      <th>new_deaths</th>\n",
              "    </tr>\n",
              "  </thead>\n",
              "  <tbody>\n",
              "    <tr>\n",
              "      <th>88141</th>\n",
              "      <td>NaN</td>\n",
              "      <td>23.0</td>\n",
              "      <td>2020-03-16</td>\n",
              "      <td>202012</td>\n",
              "      <td>9187103.0</td>\n",
              "      <td>9132078.0</td>\n",
              "      <td>False</td>\n",
              "      <td>False</td>\n",
              "      <td>9</td>\n",
              "      <td>0.09796</td>\n",
              "      <td>2020-03-16</td>\n",
              "      <td>0.0000</td>\n",
              "      <td>0</td>\n",
              "      <td>1</td>\n",
              "      <td>state</td>\n",
              "      <td>CE</td>\n",
              "      <td>9</td>\n",
              "      <td>0</td>\n",
              "    </tr>\n",
              "    <tr>\n",
              "      <th>88144</th>\n",
              "      <td>NaN</td>\n",
              "      <td>23.0</td>\n",
              "      <td>2020-03-17</td>\n",
              "      <td>202012</td>\n",
              "      <td>9187103.0</td>\n",
              "      <td>9132078.0</td>\n",
              "      <td>False</td>\n",
              "      <td>False</td>\n",
              "      <td>10</td>\n",
              "      <td>0.10885</td>\n",
              "      <td>2020-03-17</td>\n",
              "      <td>0.0000</td>\n",
              "      <td>0</td>\n",
              "      <td>2</td>\n",
              "      <td>state</td>\n",
              "      <td>CE</td>\n",
              "      <td>1</td>\n",
              "      <td>0</td>\n",
              "    </tr>\n",
              "    <tr>\n",
              "      <th>88148</th>\n",
              "      <td>NaN</td>\n",
              "      <td>23.0</td>\n",
              "      <td>2020-03-18</td>\n",
              "      <td>202012</td>\n",
              "      <td>9187103.0</td>\n",
              "      <td>9132078.0</td>\n",
              "      <td>False</td>\n",
              "      <td>False</td>\n",
              "      <td>19</td>\n",
              "      <td>0.20681</td>\n",
              "      <td>2020-03-18</td>\n",
              "      <td>0.0000</td>\n",
              "      <td>0</td>\n",
              "      <td>3</td>\n",
              "      <td>state</td>\n",
              "      <td>CE</td>\n",
              "      <td>9</td>\n",
              "      <td>0</td>\n",
              "    </tr>\n",
              "    <tr>\n",
              "      <th>88153</th>\n",
              "      <td>NaN</td>\n",
              "      <td>23.0</td>\n",
              "      <td>2020-03-19</td>\n",
              "      <td>202012</td>\n",
              "      <td>9187103.0</td>\n",
              "      <td>9132078.0</td>\n",
              "      <td>False</td>\n",
              "      <td>False</td>\n",
              "      <td>24</td>\n",
              "      <td>0.26124</td>\n",
              "      <td>2020-03-19</td>\n",
              "      <td>0.0000</td>\n",
              "      <td>0</td>\n",
              "      <td>4</td>\n",
              "      <td>state</td>\n",
              "      <td>CE</td>\n",
              "      <td>5</td>\n",
              "      <td>0</td>\n",
              "    </tr>\n",
              "    <tr>\n",
              "      <th>88160</th>\n",
              "      <td>NaN</td>\n",
              "      <td>23.0</td>\n",
              "      <td>2020-03-20</td>\n",
              "      <td>202012</td>\n",
              "      <td>9187103.0</td>\n",
              "      <td>9132078.0</td>\n",
              "      <td>False</td>\n",
              "      <td>False</td>\n",
              "      <td>68</td>\n",
              "      <td>0.74017</td>\n",
              "      <td>2020-03-20</td>\n",
              "      <td>0.0000</td>\n",
              "      <td>0</td>\n",
              "      <td>5</td>\n",
              "      <td>state</td>\n",
              "      <td>CE</td>\n",
              "      <td>44</td>\n",
              "      <td>0</td>\n",
              "    </tr>\n",
              "    <tr>\n",
              "      <th>...</th>\n",
              "      <td>...</td>\n",
              "      <td>...</td>\n",
              "      <td>...</td>\n",
              "      <td>...</td>\n",
              "      <td>...</td>\n",
              "      <td>...</td>\n",
              "      <td>...</td>\n",
              "      <td>...</td>\n",
              "      <td>...</td>\n",
              "      <td>...</td>\n",
              "      <td>...</td>\n",
              "      <td>...</td>\n",
              "      <td>...</td>\n",
              "      <td>...</td>\n",
              "      <td>...</td>\n",
              "      <td>...</td>\n",
              "      <td>...</td>\n",
              "      <td>...</td>\n",
              "    </tr>\n",
              "    <tr>\n",
              "      <th>144728</th>\n",
              "      <td>NaN</td>\n",
              "      <td>23.0</td>\n",
              "      <td>2021-02-16</td>\n",
              "      <td>202107</td>\n",
              "      <td>9187103.0</td>\n",
              "      <td>9132078.0</td>\n",
              "      <td>False</td>\n",
              "      <td>False</td>\n",
              "      <td>408555</td>\n",
              "      <td>4447.04930</td>\n",
              "      <td>2021-02-16</td>\n",
              "      <td>0.0266</td>\n",
              "      <td>10868</td>\n",
              "      <td>338</td>\n",
              "      <td>state</td>\n",
              "      <td>CE</td>\n",
              "      <td>12060</td>\n",
              "      <td>32</td>\n",
              "    </tr>\n",
              "    <tr>\n",
              "      <th>144914</th>\n",
              "      <td>NaN</td>\n",
              "      <td>23.0</td>\n",
              "      <td>2021-02-17</td>\n",
              "      <td>202107</td>\n",
              "      <td>9187103.0</td>\n",
              "      <td>9132078.0</td>\n",
              "      <td>False</td>\n",
              "      <td>True</td>\n",
              "      <td>408555</td>\n",
              "      <td>4447.04930</td>\n",
              "      <td>2021-02-16</td>\n",
              "      <td>0.0266</td>\n",
              "      <td>10868</td>\n",
              "      <td>339</td>\n",
              "      <td>state</td>\n",
              "      <td>CE</td>\n",
              "      <td>0</td>\n",
              "      <td>0</td>\n",
              "    </tr>\n",
              "    <tr>\n",
              "      <th>145100</th>\n",
              "      <td>NaN</td>\n",
              "      <td>23.0</td>\n",
              "      <td>2021-02-18</td>\n",
              "      <td>202107</td>\n",
              "      <td>9187103.0</td>\n",
              "      <td>9132078.0</td>\n",
              "      <td>False</td>\n",
              "      <td>False</td>\n",
              "      <td>405710</td>\n",
              "      <td>4416.08198</td>\n",
              "      <td>2021-02-18</td>\n",
              "      <td>0.0269</td>\n",
              "      <td>10896</td>\n",
              "      <td>340</td>\n",
              "      <td>state</td>\n",
              "      <td>CE</td>\n",
              "      <td>-2845</td>\n",
              "      <td>28</td>\n",
              "    </tr>\n",
              "    <tr>\n",
              "      <th>145286</th>\n",
              "      <td>NaN</td>\n",
              "      <td>23.0</td>\n",
              "      <td>2021-02-19</td>\n",
              "      <td>202107</td>\n",
              "      <td>9187103.0</td>\n",
              "      <td>9132078.0</td>\n",
              "      <td>True</td>\n",
              "      <td>False</td>\n",
              "      <td>406973</td>\n",
              "      <td>4429.82951</td>\n",
              "      <td>2021-02-19</td>\n",
              "      <td>0.0268</td>\n",
              "      <td>10922</td>\n",
              "      <td>341</td>\n",
              "      <td>state</td>\n",
              "      <td>CE</td>\n",
              "      <td>1263</td>\n",
              "      <td>26</td>\n",
              "    </tr>\n",
              "    <tr>\n",
              "      <th>145472</th>\n",
              "      <td>NaN</td>\n",
              "      <td>23.0</td>\n",
              "      <td>2021-02-20</td>\n",
              "      <td>202107</td>\n",
              "      <td>9187103.0</td>\n",
              "      <td>9132078.0</td>\n",
              "      <td>False</td>\n",
              "      <td>True</td>\n",
              "      <td>406973</td>\n",
              "      <td>4429.82951</td>\n",
              "      <td>2021-02-19</td>\n",
              "      <td>0.0268</td>\n",
              "      <td>10922</td>\n",
              "      <td>342</td>\n",
              "      <td>state</td>\n",
              "      <td>CE</td>\n",
              "      <td>0</td>\n",
              "      <td>0</td>\n",
              "    </tr>\n",
              "  </tbody>\n",
              "</table>\n",
              "<p>342 rows × 18 columns</p>\n",
              "</div>"
            ],
            "text/plain": [
              "       city  city_ibge_code        date  epidemiological_week  \\\n",
              "88141   NaN            23.0  2020-03-16                202012   \n",
              "88144   NaN            23.0  2020-03-17                202012   \n",
              "88148   NaN            23.0  2020-03-18                202012   \n",
              "88153   NaN            23.0  2020-03-19                202012   \n",
              "88160   NaN            23.0  2020-03-20                202012   \n",
              "...     ...             ...         ...                   ...   \n",
              "144728  NaN            23.0  2021-02-16                202107   \n",
              "144914  NaN            23.0  2021-02-17                202107   \n",
              "145100  NaN            23.0  2021-02-18                202107   \n",
              "145286  NaN            23.0  2021-02-19                202107   \n",
              "145472  NaN            23.0  2021-02-20                202107   \n",
              "\n",
              "        estimated_population  estimated_population_2019  is_last  is_repeated  \\\n",
              "88141              9187103.0                  9132078.0    False        False   \n",
              "88144              9187103.0                  9132078.0    False        False   \n",
              "88148              9187103.0                  9132078.0    False        False   \n",
              "88153              9187103.0                  9132078.0    False        False   \n",
              "88160              9187103.0                  9132078.0    False        False   \n",
              "...                      ...                        ...      ...          ...   \n",
              "144728             9187103.0                  9132078.0    False        False   \n",
              "144914             9187103.0                  9132078.0    False         True   \n",
              "145100             9187103.0                  9132078.0    False        False   \n",
              "145286             9187103.0                  9132078.0     True        False   \n",
              "145472             9187103.0                  9132078.0    False         True   \n",
              "\n",
              "        last_available_confirmed  \\\n",
              "88141                          9   \n",
              "88144                         10   \n",
              "88148                         19   \n",
              "88153                         24   \n",
              "88160                         68   \n",
              "...                          ...   \n",
              "144728                    408555   \n",
              "144914                    408555   \n",
              "145100                    405710   \n",
              "145286                    406973   \n",
              "145472                    406973   \n",
              "\n",
              "        last_available_confirmed_per_100k_inhabitants last_available_date  \\\n",
              "88141                                         0.09796          2020-03-16   \n",
              "88144                                         0.10885          2020-03-17   \n",
              "88148                                         0.20681          2020-03-18   \n",
              "88153                                         0.26124          2020-03-19   \n",
              "88160                                         0.74017          2020-03-20   \n",
              "...                                               ...                 ...   \n",
              "144728                                     4447.04930          2021-02-16   \n",
              "144914                                     4447.04930          2021-02-16   \n",
              "145100                                     4416.08198          2021-02-18   \n",
              "145286                                     4429.82951          2021-02-19   \n",
              "145472                                     4429.82951          2021-02-19   \n",
              "\n",
              "        last_available_death_rate  last_available_deaths  order_for_place  \\\n",
              "88141                      0.0000                      0                1   \n",
              "88144                      0.0000                      0                2   \n",
              "88148                      0.0000                      0                3   \n",
              "88153                      0.0000                      0                4   \n",
              "88160                      0.0000                      0                5   \n",
              "...                           ...                    ...              ...   \n",
              "144728                     0.0266                  10868              338   \n",
              "144914                     0.0266                  10868              339   \n",
              "145100                     0.0269                  10896              340   \n",
              "145286                     0.0268                  10922              341   \n",
              "145472                     0.0268                  10922              342   \n",
              "\n",
              "       place_type state  new_confirmed  new_deaths  \n",
              "88141       state    CE              9           0  \n",
              "88144       state    CE              1           0  \n",
              "88148       state    CE              9           0  \n",
              "88153       state    CE              5           0  \n",
              "88160       state    CE             44           0  \n",
              "...           ...   ...            ...         ...  \n",
              "144728      state    CE          12060          32  \n",
              "144914      state    CE              0           0  \n",
              "145100      state    CE          -2845          28  \n",
              "145286      state    CE           1263          26  \n",
              "145472      state    CE              0           0  \n",
              "\n",
              "[342 rows x 18 columns]"
            ]
          },
          "metadata": {
            "tags": []
          },
          "execution_count": 157
        }
      ]
    }
  ]
}