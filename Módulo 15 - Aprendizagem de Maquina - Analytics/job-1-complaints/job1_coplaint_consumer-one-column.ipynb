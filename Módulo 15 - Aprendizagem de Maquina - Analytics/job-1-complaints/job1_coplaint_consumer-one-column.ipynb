{
  "nbformat": 4,
  "nbformat_minor": 0,
  "metadata": {
    "kernelspec": {
      "display_name": "Python 3",
      "language": "python",
      "name": "python3"
    },
    "language_info": {
      "codemirror_mode": {
        "name": "ipython",
        "version": 3
      },
      "file_extension": ".py",
      "mimetype": "text/x-python",
      "name": "python",
      "nbconvert_exporter": "python",
      "pygments_lexer": "ipython3",
      "version": "3.8.5"
    },
    "colab": {
      "name": "job1-coplaint-consumer-v2.ipynb",
      "provenance": []
    }
  },
  "cells": [
    {
      "cell_type": "markdown",
      "metadata": {
        "id": "h45TpGqL0-m9"
      },
      "source": [
        "#Processamento de Linguagem Natuaral\r\n",
        "##Previsão do tipo da reclamação a partir do texto escrito pelo consumidor"
      ]
    },
    {
      "cell_type": "code",
      "metadata": {
        "id": "hJEC_JpJwajz"
      },
      "source": [
        "import numpy as np\n",
        "import pandas as pd\n",
        "from sklearn.model_selection import train_test_split"
      ],
      "execution_count": 4,
      "outputs": []
    },
    {
      "cell_type": "code",
      "metadata": {
        "colab": {
          "base_uri": "https://localhost:8080/"
        },
        "id": "PhN8zFF0KIbN",
        "outputId": "de43f880-03d2-426a-c159-edab08b219c2"
      },
      "source": [
        "#from google.colab import drive\n",
        "#drive.mount('/content/drive')"
      ],
      "execution_count": 6,
      "outputs": [
        {
          "output_type": "stream",
          "text": [
            "Mounted at /content/drive\n"
          ],
          "name": "stdout"
        }
      ]
    },
    {
      "cell_type": "code",
      "metadata": {
        "id": "1PFItWJ-waj8"
      },
      "source": [
        "data=pd.read_csv('/content/drive/MyDrive/Github/data-science-pos-graduation-Uni7/Módulo 15 - Aprendizagem de Maquina - Analytics/job-1-complaints/complaints.csv')"
      ],
      "execution_count": 7,
      "outputs": []
    },
    {
      "cell_type": "code",
      "metadata": {
        "id": "ogWAT08ywaj9",
        "colab": {
          "base_uri": "https://localhost:8080/"
        },
        "outputId": "c508fbfa-6565-46de-c8c9-fcb8abbe1a52"
      },
      "source": [
        "data.shape"
      ],
      "execution_count": 8,
      "outputs": [
        {
          "output_type": "execute_result",
          "data": {
            "text/plain": [
              "(1959680, 18)"
            ]
          },
          "metadata": {
            "tags": []
          },
          "execution_count": 8
        }
      ]
    },
    {
      "cell_type": "code",
      "metadata": {
        "id": "MEUrZuMOwaj-",
        "colab": {
          "base_uri": "https://localhost:8080/"
        },
        "outputId": "4cb9e6f4-4174-4c05-c9da-e2d82fb036a8"
      },
      "source": [
        "categorias = data['Product'].unique()\n",
        "categorias"
      ],
      "execution_count": 9,
      "outputs": [
        {
          "output_type": "execute_result",
          "data": {
            "text/plain": [
              "array(['Debt collection',\n",
              "       'Credit reporting, credit repair services, or other personal consumer reports',\n",
              "       'Credit card or prepaid card', 'Vehicle loan or lease',\n",
              "       'Money transfer, virtual currency, or money service',\n",
              "       'Checking or savings account', 'Mortgage', 'Student loan',\n",
              "       'Payday loan, title loan, or personal loan', 'Credit card',\n",
              "       'Consumer Loan', 'Payday loan', 'Bank account or service',\n",
              "       'Credit reporting', 'Other financial service', 'Money transfers',\n",
              "       'Prepaid card', 'Virtual currency'], dtype=object)"
            ]
          },
          "metadata": {
            "tags": []
          },
          "execution_count": 9
        }
      ]
    },
    {
      "cell_type": "code",
      "metadata": {
        "id": "lXGcOMT4waj_",
        "colab": {
          "base_uri": "https://localhost:8080/"
        },
        "outputId": "17a82f22-29af-491e-c984-f8398462d2f1"
      },
      "source": [
        "data.isnull().sum()"
      ],
      "execution_count": 10,
      "outputs": [
        {
          "output_type": "execute_result",
          "data": {
            "text/plain": [
              "Date received                         0\n",
              "Product                               0\n",
              "Sub-product                      235165\n",
              "Issue                                 0\n",
              "Sub-issue                        598707\n",
              "Consumer complaint narrative    1294836\n",
              "Company public response         1138807\n",
              "Company                               0\n",
              "State                             36141\n",
              "ZIP code                         188156\n",
              "Tags                            1709156\n",
              "Consumer consent provided?       682466\n",
              "Submitted via                         0\n",
              "Date sent to company                  0\n",
              "Company response to consumer          2\n",
              "Timely response?                      0\n",
              "Consumer disputed?              1191207\n",
              "Complaint ID                          0\n",
              "dtype: int64"
            ]
          },
          "metadata": {
            "tags": []
          },
          "execution_count": 10
        }
      ]
    },
    {
      "cell_type": "code",
      "metadata": {
        "id": "_hsw9oKrwaj_"
      },
      "source": [
        "data = data.replace(np.nan, '', regex=True)"
      ],
      "execution_count": 11,
      "outputs": []
    },
    {
      "cell_type": "code",
      "metadata": {
        "id": "ZqTbmFZnwakA",
        "colab": {
          "base_uri": "https://localhost:8080/"
        },
        "outputId": "25259e55-e088-4fba-d104-748af76be1cd"
      },
      "source": [
        "data.isnull().sum()"
      ],
      "execution_count": 12,
      "outputs": [
        {
          "output_type": "execute_result",
          "data": {
            "text/plain": [
              "Date received                   0\n",
              "Product                         0\n",
              "Sub-product                     0\n",
              "Issue                           0\n",
              "Sub-issue                       0\n",
              "Consumer complaint narrative    0\n",
              "Company public response         0\n",
              "Company                         0\n",
              "State                           0\n",
              "ZIP code                        0\n",
              "Tags                            0\n",
              "Consumer consent provided?      0\n",
              "Submitted via                   0\n",
              "Date sent to company            0\n",
              "Company response to consumer    0\n",
              "Timely response?                0\n",
              "Consumer disputed?              0\n",
              "Complaint ID                    0\n",
              "dtype: int64"
            ]
          },
          "metadata": {
            "tags": []
          },
          "execution_count": 12
        }
      ]
    },
    {
      "cell_type": "code",
      "metadata": {
        "id": "vBvQR7SywakA"
      },
      "source": [
        "data_train = data[['Consumer complaint narrative','Product']]"
      ],
      "execution_count": 13,
      "outputs": []
    },
    {
      "cell_type": "code",
      "metadata": {
        "id": "S3W4GovxwakB",
        "colab": {
          "base_uri": "https://localhost:8080/"
        },
        "outputId": "4a6be6d0-477e-4b25-beaf-edbd589b7360"
      },
      "source": [
        "data_train.shape"
      ],
      "execution_count": 14,
      "outputs": [
        {
          "output_type": "execute_result",
          "data": {
            "text/plain": [
              "(1959680, 2)"
            ]
          },
          "metadata": {
            "tags": []
          },
          "execution_count": 14
        }
      ]
    },
    {
      "cell_type": "code",
      "metadata": {
        "id": "XNhc18uNwakB",
        "colab": {
          "base_uri": "https://localhost:8080/",
          "height": 197
        },
        "outputId": "d5ee164c-d67f-4347-d210-4210b601de23"
      },
      "source": [
        "data_train.head()"
      ],
      "execution_count": 15,
      "outputs": [
        {
          "output_type": "execute_result",
          "data": {
            "text/html": [
              "<div>\n",
              "<style scoped>\n",
              "    .dataframe tbody tr th:only-of-type {\n",
              "        vertical-align: middle;\n",
              "    }\n",
              "\n",
              "    .dataframe tbody tr th {\n",
              "        vertical-align: top;\n",
              "    }\n",
              "\n",
              "    .dataframe thead th {\n",
              "        text-align: right;\n",
              "    }\n",
              "</style>\n",
              "<table border=\"1\" class=\"dataframe\">\n",
              "  <thead>\n",
              "    <tr style=\"text-align: right;\">\n",
              "      <th></th>\n",
              "      <th>Consumer complaint narrative</th>\n",
              "      <th>Product</th>\n",
              "    </tr>\n",
              "  </thead>\n",
              "  <tbody>\n",
              "    <tr>\n",
              "      <th>0</th>\n",
              "      <td>transworld systems inc. \\nis trying to collect...</td>\n",
              "      <td>Debt collection</td>\n",
              "    </tr>\n",
              "    <tr>\n",
              "      <th>1</th>\n",
              "      <td></td>\n",
              "      <td>Credit reporting, credit repair services, or o...</td>\n",
              "    </tr>\n",
              "    <tr>\n",
              "      <th>2</th>\n",
              "      <td>Over the past 2 weeks, I have been receiving e...</td>\n",
              "      <td>Debt collection</td>\n",
              "    </tr>\n",
              "    <tr>\n",
              "      <th>3</th>\n",
              "      <td>Pioneer has committed several federal violatio...</td>\n",
              "      <td>Debt collection</td>\n",
              "    </tr>\n",
              "    <tr>\n",
              "      <th>4</th>\n",
              "      <td></td>\n",
              "      <td>Credit card or prepaid card</td>\n",
              "    </tr>\n",
              "  </tbody>\n",
              "</table>\n",
              "</div>"
            ],
            "text/plain": [
              "                        Consumer complaint narrative                                            Product\n",
              "0  transworld systems inc. \\nis trying to collect...                                    Debt collection\n",
              "1                                                     Credit reporting, credit repair services, or o...\n",
              "2  Over the past 2 weeks, I have been receiving e...                                    Debt collection\n",
              "3  Pioneer has committed several federal violatio...                                    Debt collection\n",
              "4                                                                           Credit card or prepaid card"
            ]
          },
          "metadata": {
            "tags": []
          },
          "execution_count": 15
        }
      ]
    },
    {
      "cell_type": "code",
      "metadata": {
        "id": "gnBoyqI_wakC",
        "colab": {
          "base_uri": "https://localhost:8080/"
        },
        "outputId": "fcef9007-557a-4595-bd9f-92fba40008ea"
      },
      "source": [
        "X = data_train['Consumer complaint narrative']\n",
        "y = data_train['Product']\n",
        "y"
      ],
      "execution_count": 16,
      "outputs": [
        {
          "output_type": "execute_result",
          "data": {
            "text/plain": [
              "0                                            Debt collection\n",
              "1          Credit reporting, credit repair services, or o...\n",
              "2                                            Debt collection\n",
              "3                                            Debt collection\n",
              "4                                Credit card or prepaid card\n",
              "                                 ...                        \n",
              "1959675                                        Consumer Loan\n",
              "1959676                                      Debt collection\n",
              "1959677                                             Mortgage\n",
              "1959678                                             Mortgage\n",
              "1959679                                          Credit card\n",
              "Name: Product, Length: 1959680, dtype: object"
            ]
          },
          "metadata": {
            "tags": []
          },
          "execution_count": 16
        }
      ]
    },
    {
      "cell_type": "code",
      "metadata": {
        "id": "ucuBD1p9wakD"
      },
      "source": [
        "X_train,X_test,y_train,y_test = train_test_split(X,y)"
      ],
      "execution_count": 17,
      "outputs": []
    },
    {
      "cell_type": "code",
      "metadata": {
        "colab": {
          "base_uri": "https://localhost:8080/"
        },
        "id": "ezLArN6ez6kF",
        "outputId": "23878ba3-3ce9-4cfd-8c23-d3bd1aba59e2"
      },
      "source": [
        "X_train[:30]"
      ],
      "execution_count": 18,
      "outputs": [
        {
          "output_type": "execute_result",
          "data": {
            "text/plain": [
              "842966     Spoke with Executive Financial after I had sen...\n",
              "165397                                                      \n",
              "1874482                                                     \n",
              "43767      ( a ) BlockExcept as otherwise provided in thi...\n",
              "676462                                                      \n",
              "1293918                                                     \n",
              "1959484    I've called the credit bureaus, sent certified...\n",
              "1030721                                                     \n",
              "1101923                                                     \n",
              "719068                                                      \n",
              "925133     I am filing a complaint against Nationstar/Mr....\n",
              "1012184                                                     \n",
              "507523     Equifax - I have sent over 4 dispute letters t...\n",
              "249517                                                      \n",
              "1381590                                                     \n",
              "972459     I have a home loan with Nationstar Mortgage an...\n",
              "1750799    Continued robo-calls to old telephone number b...\n",
              "1944787    I was a victim of identity theft. Someone open...\n",
              "908533     I went to XXXX XXXX downtown to trade my car i...\n",
              "173401     I started freedom debt relief in XX/XX/XXXX. I...\n",
              "16424      I have a trade line XXXX/XXXX on my credit bur...\n",
              "1010330                                                     \n",
              "1342769                                                     \n",
              "1702236    Springleaf XXXX local office has taken out Har...\n",
              "1597780    To Whom It May Concern : Re : Case No. XXXXXXX...\n",
              "434429                                                      \n",
              "1711686                                                     \n",
              "839669                                                      \n",
              "145056                                                      \n",
              "795270                                                      \n",
              "Name: Consumer complaint narrative, dtype: object"
            ]
          },
          "metadata": {
            "tags": []
          },
          "execution_count": 18
        }
      ]
    },
    {
      "cell_type": "code",
      "metadata": {
        "colab": {
          "base_uri": "https://localhost:8080/"
        },
        "id": "k-sycdKs0G_H",
        "outputId": "b87576e1-6bd7-4ade-a988-90c7845c8733"
      },
      "source": [
        "y_train[:10]"
      ],
      "execution_count": 19,
      "outputs": [
        {
          "output_type": "execute_result",
          "data": {
            "text/plain": [
              "842966                                       Debt collection\n",
              "165397                           Checking or savings account\n",
              "1874482    Credit reporting, credit repair services, or o...\n",
              "43767      Credit reporting, credit repair services, or o...\n",
              "676462     Credit reporting, credit repair services, or o...\n",
              "1293918                                      Debt collection\n",
              "1959484    Credit reporting, credit repair services, or o...\n",
              "1030721                                     Credit reporting\n",
              "1101923                                          Credit card\n",
              "719068                                       Debt collection\n",
              "Name: Product, dtype: object"
            ]
          },
          "metadata": {
            "tags": []
          },
          "execution_count": 19
        }
      ]
    },
    {
      "cell_type": "markdown",
      "metadata": {
        "id": "C4304YjX0x7o"
      },
      "source": [
        "#Tokenização de texto\r\n",
        "\r\n",
        "##Com scikit-learn Pré-processamento de texto, tokenização e filtragem de palavras irrelevantes estão todos incluídos no CountVectorizer, que cria um dicionário de recursos e transforma documentos em vetores de recursos:"
      ]
    },
    {
      "cell_type": "code",
      "metadata": {
        "id": "XjS13kGYwakD",
        "colab": {
          "base_uri": "https://localhost:8080/"
        },
        "outputId": "2b4f2ac9-45a1-475f-c2a0-491568d91e0f"
      },
      "source": [
        "from sklearn.feature_extraction.text import CountVectorizer\r\n",
        "count_vect = CountVectorizer()\r\n",
        "X_train_counts = count_vect.fit_transform(X_train)\r\n",
        "X_train_counts.shape"
      ],
      "execution_count": 20,
      "outputs": [
        {
          "output_type": "execute_result",
          "data": {
            "text/plain": [
              "(1469760, 127274)"
            ]
          },
          "metadata": {
            "tags": []
          },
          "execution_count": 20
        }
      ]
    },
    {
      "cell_type": "markdown",
      "metadata": {
        "id": "QVY85HET10Gm"
      },
      "source": [
        "##CountVectorizer suporta contagens de N-gramas de palavras ou caracteres consecutivos. Uma vez ajustado, o vetorizador construiu um dicionário de índices de recursos:"
      ]
    },
    {
      "cell_type": "code",
      "metadata": {
        "colab": {
          "base_uri": "https://localhost:8080/"
        },
        "id": "cn-gqhjz0haL",
        "outputId": "e29297f5-79c6-478a-9fc3-0bf4465b4f65"
      },
      "source": [
        "count_vect.vocabulary_.get(u'card')"
      ],
      "execution_count": 21,
      "outputs": [
        {
          "output_type": "execute_result",
          "data": {
            "text/plain": [
              "22997"
            ]
          },
          "metadata": {
            "tags": []
          },
          "execution_count": 21
        }
      ]
    },
    {
      "cell_type": "markdown",
      "metadata": {
        "id": "03u0VUWn1-UV"
      },
      "source": [
        "##O valor do índice de uma palavra no vocabulário está relacionado à sua frequência em todo o corpus de treinamento\r\n",
        "\r\n",
        "##De ocorrências a frequências\r\n",
        "\r\n",
        "##A contagem de ocorrências é um bom começo, mas há um problema: documentos mais longos terão valores médios de contagem mais altos do que documentos mais curtos, embora possam falar sobre os mesmos tópicos. Para evitar essas discrepâncias em potencial, é suficiente dividir o número de ocorrências de cada palavra em um documento pelo número total de palavras no documento: esses novos recursos são chamados de tf para Frequências de termo. Outro refinamento além do tf é reduzir os pesos das palavras que ocorrem em muitos documentos no corpus e, portanto, são menos informativas do que aquelas que ocorrem apenas em uma parte menor do corpus. Essa redução é chamada de tf – idf para “Frequência do termo vezes frequência inversa do documento”. Tanto tf quanto tf – idf podem ser calculados da seguinte maneira usando TfidfTransformer:"
      ]
    },
    {
      "cell_type": "code",
      "metadata": {
        "colab": {
          "base_uri": "https://localhost:8080/"
        },
        "id": "HPJUVz_C17-y",
        "outputId": "db6f83b8-a649-4310-ec40-cc60d6fc28a3"
      },
      "source": [
        "from sklearn.feature_extraction.text import TfidfTransformer\r\n",
        "tf_transformer = TfidfTransformer(use_idf=False).fit(X_train_counts)\r\n",
        "X_train_tf = tf_transformer.transform(X_train_counts)\r\n",
        "X_train_tf.shape"
      ],
      "execution_count": 22,
      "outputs": [
        {
          "output_type": "execute_result",
          "data": {
            "text/plain": [
              "(1469760, 127274)"
            ]
          },
          "metadata": {
            "tags": []
          },
          "execution_count": 22
        }
      ]
    },
    {
      "cell_type": "markdown",
      "metadata": {
        "id": "188ci3Dd2XOt"
      },
      "source": [
        "##No código de exemplo acima, primeiro usamos o método fit (..) para ajustar nosso estimador aos dados e, em segundo lugar, o método transform (..) para transformar nossa matriz de contagem em uma representação tf-idf. Essas duas etapas podem ser combinadas para atingir o mesmo resultado final mais rápido, ignorando o processamento redundante. Isso é feito usando o método fit_transform (..) conforme mostrado abaixo e conforme mencionado na nota da seção anterior:"
      ]
    },
    {
      "cell_type": "code",
      "metadata": {
        "colab": {
          "base_uri": "https://localhost:8080/"
        },
        "id": "MZ1ROgu-2S-U",
        "outputId": "edbdb1ee-d830-4761-838c-7efd52bc79d1"
      },
      "source": [
        "tfidf_transformer = TfidfTransformer()\r\n",
        "X_train_tfidf = tfidf_transformer.fit_transform(X_train_counts)\r\n",
        "X_train_tfidf.shape"
      ],
      "execution_count": 23,
      "outputs": [
        {
          "output_type": "execute_result",
          "data": {
            "text/plain": [
              "(1469760, 127274)"
            ]
          },
          "metadata": {
            "tags": []
          },
          "execution_count": 23
        }
      ]
    },
    {
      "cell_type": "markdown",
      "metadata": {
        "id": "JCIZA60y2kOS"
      },
      "source": [
        "#Treinando um classificador \r\n",
        "\r\n",
        "##Agora que temos nossos recursos, podemos treinar um classificador para tentar prever a categoria de uma postagem. Vamos começar com um classificador Nayve-Bayes, que fornece uma boa base para esta tarefa. O scikit-learn inclui várias variantes desse classificador; o mais adequado para contagem de palavras é a variante multinomial:"
      ]
    },
    {
      "cell_type": "code",
      "metadata": {
        "id": "JvLhkC5n2hvC"
      },
      "source": [
        "from sklearn.naive_bayes import MultinomialNB\r\n",
        "clf = MultinomialNB().fit(X_train_tfidf, y_train)"
      ],
      "execution_count": 24,
      "outputs": []
    },
    {
      "cell_type": "markdown",
      "metadata": {
        "id": "5wDNpH5q23YG"
      },
      "source": [
        "##Para tentar prever o resultado em um novo documento, precisamos extrair os recursos usando quase a mesma cadeia de extração de recursos de antes. A diferença é que chamamos transform em vez de fit_transform nos transformadores, uma vez que eles já foram ajustados ao conjunto de treinamento:"
      ]
    },
    {
      "cell_type": "code",
      "metadata": {
        "colab": {
          "base_uri": "https://localhost:8080/"
        },
        "id": "VlxwZe912zyL",
        "outputId": "f70de8a2-f5c2-4852-c3a4-a6fd82f3e474"
      },
      "source": [
        "complaint = ['After sending information to verify myself', 'I previously filed a complaint against Lexis']\r\n",
        "X_new_counts = count_vect.transform(complaint)\r\n",
        "X_new_tfidf = tfidf_transformer.transform(X_new_counts)\r\n",
        "\r\n",
        "predicted = clf.predict(X_new_tfidf)\r\n",
        "\r\n",
        "for comp, category in zip(complaint, predicted):\r\n",
        "    print('%r => %s' % (comp, y_train))"
      ],
      "execution_count": 25,
      "outputs": [
        {
          "output_type": "stream",
          "text": [
            "'After sending information to verify myself' => 842966                                       Debt collection\n",
            "165397                           Checking or savings account\n",
            "1874482    Credit reporting, credit repair services, or o...\n",
            "43767      Credit reporting, credit repair services, or o...\n",
            "676462     Credit reporting, credit repair services, or o...\n",
            "                                 ...                        \n",
            "837545     Credit reporting, credit repair services, or o...\n",
            "1255565                                             Mortgage\n",
            "658501     Credit reporting, credit repair services, or o...\n",
            "1381819                                             Mortgage\n",
            "1607022                                      Debt collection\n",
            "Name: Product, Length: 1469760, dtype: object\n",
            "'I previously filed a complaint against Lexis' => 842966                                       Debt collection\n",
            "165397                           Checking or savings account\n",
            "1874482    Credit reporting, credit repair services, or o...\n",
            "43767      Credit reporting, credit repair services, or o...\n",
            "676462     Credit reporting, credit repair services, or o...\n",
            "                                 ...                        \n",
            "837545     Credit reporting, credit repair services, or o...\n",
            "1255565                                             Mortgage\n",
            "658501     Credit reporting, credit repair services, or o...\n",
            "1381819                                             Mortgage\n",
            "1607022                                      Debt collection\n",
            "Name: Product, Length: 1469760, dtype: object\n"
          ],
          "name": "stdout"
        }
      ]
    },
    {
      "cell_type": "markdown",
      "metadata": {
        "id": "J_6niy3s5MCu"
      },
      "source": [
        "#Construindo um pipeline\r\n",
        "\r\n",
        "## Para tornar o vectorizer => transformer => classifier mais fácil de trabalhar, o scikit-learn fornece uma classe Pipeline que se comporta como um classificador composto:"
      ]
    },
    {
      "cell_type": "code",
      "metadata": {
        "id": "SC04iuBT4loY"
      },
      "source": [
        "from sklearn.pipeline import Pipeline\r\n",
        "text_clf = Pipeline([\r\n",
        "    ('vect', CountVectorizer()),\r\n",
        "    ('tfidf', TfidfTransformer()),\r\n",
        "    ('clf', MultinomialNB()),\r\n",
        "])"
      ],
      "execution_count": 26,
      "outputs": []
    },
    {
      "cell_type": "markdown",
      "metadata": {
        "id": "5kGJ2ts65cU3"
      },
      "source": [
        "##Os nomes vect, tfidf e clf (classificador) são arbitrários. Iremos usá-los para realizar o grid search para hiperparâmetros adequados abaixo. Agora podemos treinar o modelo com um único comando:"
      ]
    },
    {
      "cell_type": "code",
      "metadata": {
        "colab": {
          "base_uri": "https://localhost:8080/"
        },
        "id": "bZmEkomx5azU",
        "outputId": "1f4c3d13-14f9-4090-cc6c-e85f07b5f8f8"
      },
      "source": [
        "text_clf.fit(X_train, y_train)"
      ],
      "execution_count": 27,
      "outputs": [
        {
          "output_type": "execute_result",
          "data": {
            "text/plain": [
              "Pipeline(memory=None,\n",
              "         steps=[('vect',\n",
              "                 CountVectorizer(analyzer='word', binary=False,\n",
              "                                 decode_error='strict',\n",
              "                                 dtype=<class 'numpy.int64'>, encoding='utf-8',\n",
              "                                 input='content', lowercase=True, max_df=1.0,\n",
              "                                 max_features=None, min_df=1,\n",
              "                                 ngram_range=(1, 1), preprocessor=None,\n",
              "                                 stop_words=None, strip_accents=None,\n",
              "                                 token_pattern='(?u)\\\\b\\\\w\\\\w+\\\\b',\n",
              "                                 tokenizer=None, vocabulary=None)),\n",
              "                ('tfidf',\n",
              "                 TfidfTransformer(norm='l2', smooth_idf=True,\n",
              "                                  sublinear_tf=False, use_idf=True)),\n",
              "                ('clf',\n",
              "                 MultinomialNB(alpha=1.0, class_prior=None, fit_prior=True))],\n",
              "         verbose=False)"
            ]
          },
          "metadata": {
            "tags": []
          },
          "execution_count": 27
        }
      ]
    },
    {
      "cell_type": "markdown",
      "metadata": {
        "id": "vTZq62n55rMu"
      },
      "source": [
        "#Avaliação do desempenho no conjunto de teste\r\n",
        "\r\n"
      ]
    },
    {
      "cell_type": "code",
      "metadata": {
        "colab": {
          "base_uri": "https://localhost:8080/"
        },
        "id": "5cnUHPiC5n5k",
        "outputId": "fcd61655-1897-40e4-b7ed-4fa1cd96a4ca"
      },
      "source": [
        "predicted = text_clf.predict(X_test)\r\n",
        "np.mean(predicted == y_test)"
      ],
      "execution_count": 28,
      "outputs": [
        {
          "output_type": "execute_result",
          "data": {
            "text/plain": [
              "0.41326134879163945"
            ]
          },
          "metadata": {
            "tags": []
          },
          "execution_count": 28
        }
      ]
    },
    {
      "cell_type": "markdown",
      "metadata": {
        "id": "ZpBv_tjCJCna"
      },
      "source": [
        "##Buscando melhorar performance com máquina de vetores de suporte linear (SVM), que é amplamente considerada como um dos melhores algoritmos de classificação de texto (embora também seja um pouco mais lenta do que o Nayve-Bayes). Podemos mudar o aluno simplesmente conectando um objeto classificador diferente em nosso pipeline:\r\n"
      ]
    },
    {
      "cell_type": "code",
      "metadata": {
        "colab": {
          "base_uri": "https://localhost:8080/"
        },
        "id": "vLGDLXIN591w",
        "outputId": "64ad85ee-c7ae-47a5-f145-4c25e14607dc"
      },
      "source": [
        "from sklearn.linear_model import SGDClassifier\r\n",
        "text_clf = Pipeline([\r\n",
        "    ('vect', CountVectorizer()),\r\n",
        "    ('tfidf', TfidfTransformer()),\r\n",
        "    ('clf', SGDClassifier(loss='hinge', penalty='l2',\r\n",
        "                          alpha=1e-3, random_state=42,\r\n",
        "                          max_iter=5, tol=None)),\r\n",
        "])\r\n",
        "\r\n",
        "text_clf.fit(X_train,y_train)\r\n",
        "\r\n",
        "predicted = text_clf.predict(X_test)\r\n",
        "np.mean(predicted == y_test)"
      ],
      "execution_count": 29,
      "outputs": [
        {
          "output_type": "execute_result",
          "data": {
            "text/plain": [
              "0.4203665904637492"
            ]
          },
          "metadata": {
            "tags": []
          },
          "execution_count": 29
        }
      ]
    },
    {
      "cell_type": "markdown",
      "metadata": {
        "id": "YcLh-hQXLAAO"
      },
      "source": [
        "##O scikit-learn fornece mais utilitários para uma análise de desempenho mais detalhada dos resultados:"
      ]
    },
    {
      "cell_type": "code",
      "metadata": {
        "colab": {
          "base_uri": "https://localhost:8080/"
        },
        "id": "N8OqyAmiLHaA",
        "outputId": "0b107058-06fe-4439-9025-5066f497efc9"
      },
      "source": [
        "from sklearn import metrics\r\n",
        "print(metrics.classification_report(y_test, predicted))"
      ],
      "execution_count": 31,
      "outputs": [
        {
          "output_type": "stream",
          "text": [
            "                                                                              precision    recall  f1-score   support\n",
            "\n",
            "                                                     Bank account or service       0.77      0.00      0.01     21763\n",
            "                                                 Checking or savings account       0.57      0.16      0.25     20329\n",
            "                                                               Consumer Loan       0.33      0.00      0.01      8041\n",
            "                                                                 Credit card       0.54      0.00      0.01     22369\n",
            "                                                 Credit card or prepaid card       0.60      0.18      0.27     25518\n",
            "                                                            Credit reporting       0.23      0.00      0.00     35437\n",
            "Credit reporting, credit repair services, or other personal consumer reports       0.37      0.98      0.54    158844\n",
            "                                                             Debt collection       0.69      0.26      0.38     83340\n",
            "                          Money transfer, virtual currency, or money service       0.71      0.19      0.31      5684\n",
            "                                                             Money transfers       0.17      0.00      0.00      1377\n",
            "                                                                    Mortgage       0.71      0.20      0.31     79625\n",
            "                                                     Other financial service       0.00      0.00      0.00       265\n",
            "                                                                 Payday loan       0.29      0.00      0.01      1401\n",
            "                                   Payday loan, title loan, or personal loan       0.35      0.01      0.03      4125\n",
            "                                                                Prepaid card       0.72      0.02      0.04       943\n",
            "                                                                Student loan       0.85      0.26      0.40     15109\n",
            "                                                       Vehicle loan or lease       0.52      0.05      0.09      5740\n",
            "                                                            Virtual currency       0.00      0.00      0.00        10\n",
            "\n",
            "                                                                    accuracy                           0.42    489920\n",
            "                                                                   macro avg       0.47      0.13      0.15    489920\n",
            "                                                                weighted avg       0.54      0.42      0.33    489920\n",
            "\n"
          ],
          "name": "stdout"
        }
      ]
    },
    {
      "cell_type": "code",
      "metadata": {
        "colab": {
          "base_uri": "https://localhost:8080/"
        },
        "id": "0vNjV8OZLp7c",
        "outputId": "c9d0f241-e22e-4235-965b-3ed685b82a6d"
      },
      "source": [
        "metrics.confusion_matrix(y_test, predicted)"
      ],
      "execution_count": 32,
      "outputs": [
        {
          "output_type": "execute_result",
          "data": {
            "text/plain": [
              "array([[   101,   1580,      3,     12,    234,      3,  18821,    351,\n",
              "            69,      1,    558,      0,      1,      5,      6,     14,\n",
              "             2,      2],\n",
              "       [     5,   3223,      1,      1,    367,      0,  15321,    594,\n",
              "           108,      0,    677,      0,      1,      7,      0,     19,\n",
              "             2,      3],\n",
              "       [     0,     21,     28,      4,     36,      0,   6496,    608,\n",
              "             5,      0,    572,      0,      1,     23,      0,     80,\n",
              "           167,      0],\n",
              "       [    10,     44,      7,     58,   1653,      2,  19545,    758,\n",
              "            20,      0,    230,      0,      1,      3,      1,     35,\n",
              "             2,      0],\n",
              "       [     1,    189,      3,     11,   4471,      0,  18826,   1309,\n",
              "            49,      1,    601,      2,      2,      7,      0,     37,\n",
              "             5,      4],\n",
              "       [     0,      4,      0,      0,      8,      5,  34867,    470,\n",
              "             1,      0,     73,      1,      0,      0,      0,      6,\n",
              "             2,      0],\n",
              "       [     4,     56,     12,      8,    209,      7, 154878,   2664,\n",
              "             8,      1,    801,      4,      2,     22,      0,    114,\n",
              "            51,      3],\n",
              "       [     3,     41,      3,      5,    122,      4,  60326,  22047,\n",
              "            11,      0,    614,      0,      1,     11,      0,    127,\n",
              "            23,      2],\n",
              "       [     1,    320,      0,      0,    104,      0,   3481,    368,\n",
              "          1106,      1,    292,      0,      0,      1,      0,     10,\n",
              "             0,      0],\n",
              "       [     1,     16,      0,      1,     12,      0,   1064,     89,\n",
              "           143,      1,     49,      0,      0,      0,      0,      1,\n",
              "             0,      0],\n",
              "       [     1,     14,      6,      2,      5,      1,  63466,    412,\n",
              "             1,      0,  15696,      0,      0,      2,      0,     18,\n",
              "             1,      0],\n",
              "       [     0,      7,      0,      0,      3,      0,    212,     19,\n",
              "             7,      0,      8,      0,      0,      0,      0,      9,\n",
              "             0,      0],\n",
              "       [     2,     11,      1,      0,      4,      0,   1059,    183,\n",
              "             1,      1,     91,      0,      4,     16,      0,     28,\n",
              "             0,      0],\n",
              "       [     1,     45,      2,      2,     67,      0,   2558,    617,\n",
              "            12,      0,    620,      0,      1,     58,      0,    129,\n",
              "            13,      0],\n",
              "       [     1,     30,      0,      1,    162,      0,    665,     35,\n",
              "             9,      0,     18,      0,      0,      0,     18,      4,\n",
              "             0,      0],\n",
              "       [     0,      2,      0,      1,      4,      0,   9775,    845,\n",
              "             0,      0,    511,      0,      0,      4,      0,   3965,\n",
              "             1,      1],\n",
              "       [     0,     30,     18,      1,     31,      0,   4112,    505,\n",
              "             1,      0,    682,      1,      0,      8,      0,     64,\n",
              "           287,      0],\n",
              "       [     0,      1,      0,      0,      0,      0,      1,      1,\n",
              "             7,      0,      0,      0,      0,      0,      0,      0,\n",
              "             0,      0]])"
            ]
          },
          "metadata": {
            "tags": []
          },
          "execution_count": 32
        }
      ]
    },
    {
      "cell_type": "code",
      "metadata": {
        "id": "-cSKKTRQLu2s"
      },
      "source": [
        ""
      ],
      "execution_count": null,
      "outputs": []
    }
  ]
}