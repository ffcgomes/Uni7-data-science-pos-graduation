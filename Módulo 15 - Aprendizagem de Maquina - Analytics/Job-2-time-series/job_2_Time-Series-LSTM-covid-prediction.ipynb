{
  "nbformat": 4,
  "nbformat_minor": 0,
  "metadata": {
    "colab": {
      "name": "job-2-Aprendizagem-de-Maquina-Francisco Flavio Cardoso Gomes.ipynb",
      "provenance": []
    },
    "kernelspec": {
      "name": "python3",
      "display_name": "Python 3"
    }
  },
  "cells": [
    {
      "cell_type": "markdown",
      "metadata": {
        "id": "oEIU92xy0trR"
      },
      "source": [
        "# Trabalho final da Disciplina Aprendizagem de Máquina\r\n",
        "# Aluno - Francisco Flávio Cardoso Gomes\r\n",
        "# Predição de Série Tempora com redes neurais recorrentes LSTM em python com keras"
      ]
    },
    {
      "cell_type": "code",
      "metadata": {
        "id": "mYgKGJEt0trR"
      },
      "source": [
        "from numpy import array\n",
        "\n",
        "import numpy as np\n",
        "import tensorflow as tf\n",
        "import random as rn\n",
        "import os\n",
        "os.environ['PYTHONHASHSEED'] = '0'\n",
        "\n",
        "#Fixar a semente do número aleatório para garantir que nossos resultados sejam reproduzíveis.\n",
        "np.random.seed(37)\n",
        "rn.seed(1254)\n",
        "tf.random.set_seed(89)\n",
        "\n",
        "from tensorflow import keras\n",
        "from tensorflow.keras.models import Sequential\n",
        "from tensorflow.keras.layers import LSTM\n",
        "from tensorflow.keras.layers import Dense\n",
        "import tensorflow as tf\n",
        "import matplotlib.pyplot as plt\n",
        "\n",
        "\n"
      ],
      "execution_count": 378,
      "outputs": []
    },
    {
      "cell_type": "code",
      "metadata": {
        "id": "y17xM1uY0trU"
      },
      "source": [
        "import gzip\n",
        "import shutil\n",
        "import requests\n",
        "import os\n",
        "from os import listdir\n",
        "from os.path import isfile,join,abspath"
      ],
      "execution_count": 379,
      "outputs": []
    },
    {
      "cell_type": "markdown",
      "metadata": {
        "id": "BzRSSYJYEPfp"
      },
      "source": [
        "##Carregando os dados"
      ]
    },
    {
      "cell_type": "code",
      "metadata": {
        "id": "8fYxQttZ0trU"
      },
      "source": [
        "url = 'https://data.brasil.io/dataset/covid19/caso_full.csv.gz'"
      ],
      "execution_count": 380,
      "outputs": []
    },
    {
      "cell_type": "code",
      "metadata": {
        "id": "BvjBc_Kf0trU"
      },
      "source": [
        "def download_data():\n",
        "    r = requests.get(url, allow_redirects=True)\n",
        "    open('data.csv.gz', 'wb').write(r.content)\n",
        "\n",
        "def unzip_data():\n",
        "    with gzip.open('data.csv.gz', 'rb') as f_in:\n",
        "        with open('data.csv', 'wb') as f_out:\n",
        "            shutil.copyfileobj(f_in, f_out)\n",
        "download_data()\n",
        "unzip_data()"
      ],
      "execution_count": 381,
      "outputs": []
    },
    {
      "cell_type": "code",
      "metadata": {
        "colab": {
          "base_uri": "https://localhost:8080/",
          "height": 593
        },
        "id": "rhtTV3H80trV",
        "outputId": "5b0255a2-29b4-4e36-9ef3-f23077cafe1d"
      },
      "source": [
        "import pandas as pd\n",
        "\n",
        "data = pd.read_csv('data.csv')\n",
        "data=data[(data['state'] == 'CE') & data['city'].isna()]\n",
        "data"
      ],
      "execution_count": 382,
      "outputs": [
        {
          "output_type": "execute_result",
          "data": {
            "text/html": [
              "<div>\n",
              "<style scoped>\n",
              "    .dataframe tbody tr th:only-of-type {\n",
              "        vertical-align: middle;\n",
              "    }\n",
              "\n",
              "    .dataframe tbody tr th {\n",
              "        vertical-align: top;\n",
              "    }\n",
              "\n",
              "    .dataframe thead th {\n",
              "        text-align: right;\n",
              "    }\n",
              "</style>\n",
              "<table border=\"1\" class=\"dataframe\">\n",
              "  <thead>\n",
              "    <tr style=\"text-align: right;\">\n",
              "      <th></th>\n",
              "      <th>city</th>\n",
              "      <th>city_ibge_code</th>\n",
              "      <th>date</th>\n",
              "      <th>epidemiological_week</th>\n",
              "      <th>estimated_population</th>\n",
              "      <th>estimated_population_2019</th>\n",
              "      <th>is_last</th>\n",
              "      <th>is_repeated</th>\n",
              "      <th>last_available_confirmed</th>\n",
              "      <th>last_available_confirmed_per_100k_inhabitants</th>\n",
              "      <th>last_available_date</th>\n",
              "      <th>last_available_death_rate</th>\n",
              "      <th>last_available_deaths</th>\n",
              "      <th>order_for_place</th>\n",
              "      <th>place_type</th>\n",
              "      <th>state</th>\n",
              "      <th>new_confirmed</th>\n",
              "      <th>new_deaths</th>\n",
              "    </tr>\n",
              "  </thead>\n",
              "  <tbody>\n",
              "    <tr>\n",
              "      <th>90461</th>\n",
              "      <td>NaN</td>\n",
              "      <td>23.0</td>\n",
              "      <td>2020-03-16</td>\n",
              "      <td>202012</td>\n",
              "      <td>9187103.0</td>\n",
              "      <td>9132078.0</td>\n",
              "      <td>False</td>\n",
              "      <td>False</td>\n",
              "      <td>9</td>\n",
              "      <td>0.09796</td>\n",
              "      <td>2020-03-16</td>\n",
              "      <td>0.0000</td>\n",
              "      <td>0</td>\n",
              "      <td>1</td>\n",
              "      <td>state</td>\n",
              "      <td>CE</td>\n",
              "      <td>9</td>\n",
              "      <td>0</td>\n",
              "    </tr>\n",
              "    <tr>\n",
              "      <th>90464</th>\n",
              "      <td>NaN</td>\n",
              "      <td>23.0</td>\n",
              "      <td>2020-03-17</td>\n",
              "      <td>202012</td>\n",
              "      <td>9187103.0</td>\n",
              "      <td>9132078.0</td>\n",
              "      <td>False</td>\n",
              "      <td>False</td>\n",
              "      <td>10</td>\n",
              "      <td>0.10885</td>\n",
              "      <td>2020-03-17</td>\n",
              "      <td>0.0000</td>\n",
              "      <td>0</td>\n",
              "      <td>2</td>\n",
              "      <td>state</td>\n",
              "      <td>CE</td>\n",
              "      <td>1</td>\n",
              "      <td>0</td>\n",
              "    </tr>\n",
              "    <tr>\n",
              "      <th>90468</th>\n",
              "      <td>NaN</td>\n",
              "      <td>23.0</td>\n",
              "      <td>2020-03-18</td>\n",
              "      <td>202012</td>\n",
              "      <td>9187103.0</td>\n",
              "      <td>9132078.0</td>\n",
              "      <td>False</td>\n",
              "      <td>False</td>\n",
              "      <td>19</td>\n",
              "      <td>0.20681</td>\n",
              "      <td>2020-03-18</td>\n",
              "      <td>0.0000</td>\n",
              "      <td>0</td>\n",
              "      <td>3</td>\n",
              "      <td>state</td>\n",
              "      <td>CE</td>\n",
              "      <td>9</td>\n",
              "      <td>0</td>\n",
              "    </tr>\n",
              "    <tr>\n",
              "      <th>90473</th>\n",
              "      <td>NaN</td>\n",
              "      <td>23.0</td>\n",
              "      <td>2020-03-19</td>\n",
              "      <td>202012</td>\n",
              "      <td>9187103.0</td>\n",
              "      <td>9132078.0</td>\n",
              "      <td>False</td>\n",
              "      <td>False</td>\n",
              "      <td>24</td>\n",
              "      <td>0.26124</td>\n",
              "      <td>2020-03-19</td>\n",
              "      <td>0.0000</td>\n",
              "      <td>0</td>\n",
              "      <td>4</td>\n",
              "      <td>state</td>\n",
              "      <td>CE</td>\n",
              "      <td>5</td>\n",
              "      <td>0</td>\n",
              "    </tr>\n",
              "    <tr>\n",
              "      <th>90480</th>\n",
              "      <td>NaN</td>\n",
              "      <td>23.0</td>\n",
              "      <td>2020-03-20</td>\n",
              "      <td>202012</td>\n",
              "      <td>9187103.0</td>\n",
              "      <td>9132078.0</td>\n",
              "      <td>False</td>\n",
              "      <td>False</td>\n",
              "      <td>68</td>\n",
              "      <td>0.74017</td>\n",
              "      <td>2020-03-20</td>\n",
              "      <td>0.0000</td>\n",
              "      <td>0</td>\n",
              "      <td>5</td>\n",
              "      <td>state</td>\n",
              "      <td>CE</td>\n",
              "      <td>44</td>\n",
              "      <td>0</td>\n",
              "    </tr>\n",
              "    <tr>\n",
              "      <th>...</th>\n",
              "      <td>...</td>\n",
              "      <td>...</td>\n",
              "      <td>...</td>\n",
              "      <td>...</td>\n",
              "      <td>...</td>\n",
              "      <td>...</td>\n",
              "      <td>...</td>\n",
              "      <td>...</td>\n",
              "      <td>...</td>\n",
              "      <td>...</td>\n",
              "      <td>...</td>\n",
              "      <td>...</td>\n",
              "      <td>...</td>\n",
              "      <td>...</td>\n",
              "      <td>...</td>\n",
              "      <td>...</td>\n",
              "      <td>...</td>\n",
              "      <td>...</td>\n",
              "    </tr>\n",
              "    <tr>\n",
              "      <th>148536</th>\n",
              "      <td>NaN</td>\n",
              "      <td>23.0</td>\n",
              "      <td>2021-02-24</td>\n",
              "      <td>202108</td>\n",
              "      <td>9187103.0</td>\n",
              "      <td>9132078.0</td>\n",
              "      <td>False</td>\n",
              "      <td>False</td>\n",
              "      <td>416790</td>\n",
              "      <td>4536.68583</td>\n",
              "      <td>2021-02-24</td>\n",
              "      <td>0.0266</td>\n",
              "      <td>11104</td>\n",
              "      <td>346</td>\n",
              "      <td>state</td>\n",
              "      <td>CE</td>\n",
              "      <td>2298</td>\n",
              "      <td>32</td>\n",
              "    </tr>\n",
              "    <tr>\n",
              "      <th>148722</th>\n",
              "      <td>NaN</td>\n",
              "      <td>23.0</td>\n",
              "      <td>2021-02-25</td>\n",
              "      <td>202108</td>\n",
              "      <td>9187103.0</td>\n",
              "      <td>9132078.0</td>\n",
              "      <td>False</td>\n",
              "      <td>False</td>\n",
              "      <td>420369</td>\n",
              "      <td>4575.64262</td>\n",
              "      <td>2021-02-25</td>\n",
              "      <td>0.0266</td>\n",
              "      <td>11184</td>\n",
              "      <td>347</td>\n",
              "      <td>state</td>\n",
              "      <td>CE</td>\n",
              "      <td>3579</td>\n",
              "      <td>80</td>\n",
              "    </tr>\n",
              "    <tr>\n",
              "      <th>148908</th>\n",
              "      <td>NaN</td>\n",
              "      <td>23.0</td>\n",
              "      <td>2021-02-26</td>\n",
              "      <td>202108</td>\n",
              "      <td>9187103.0</td>\n",
              "      <td>9132078.0</td>\n",
              "      <td>False</td>\n",
              "      <td>False</td>\n",
              "      <td>422782</td>\n",
              "      <td>4601.90770</td>\n",
              "      <td>2021-02-26</td>\n",
              "      <td>0.0266</td>\n",
              "      <td>11259</td>\n",
              "      <td>348</td>\n",
              "      <td>state</td>\n",
              "      <td>CE</td>\n",
              "      <td>2413</td>\n",
              "      <td>75</td>\n",
              "    </tr>\n",
              "    <tr>\n",
              "      <th>149094</th>\n",
              "      <td>NaN</td>\n",
              "      <td>23.0</td>\n",
              "      <td>2021-02-27</td>\n",
              "      <td>202108</td>\n",
              "      <td>9187103.0</td>\n",
              "      <td>9132078.0</td>\n",
              "      <td>False</td>\n",
              "      <td>False</td>\n",
              "      <td>424599</td>\n",
              "      <td>4621.68542</td>\n",
              "      <td>2021-02-27</td>\n",
              "      <td>0.0266</td>\n",
              "      <td>11280</td>\n",
              "      <td>349</td>\n",
              "      <td>state</td>\n",
              "      <td>CE</td>\n",
              "      <td>1817</td>\n",
              "      <td>21</td>\n",
              "    </tr>\n",
              "    <tr>\n",
              "      <th>149280</th>\n",
              "      <td>NaN</td>\n",
              "      <td>23.0</td>\n",
              "      <td>2021-02-28</td>\n",
              "      <td>202109</td>\n",
              "      <td>9187103.0</td>\n",
              "      <td>9132078.0</td>\n",
              "      <td>True</td>\n",
              "      <td>False</td>\n",
              "      <td>426511</td>\n",
              "      <td>4642.49721</td>\n",
              "      <td>2021-02-28</td>\n",
              "      <td>0.0265</td>\n",
              "      <td>11288</td>\n",
              "      <td>350</td>\n",
              "      <td>state</td>\n",
              "      <td>CE</td>\n",
              "      <td>1912</td>\n",
              "      <td>8</td>\n",
              "    </tr>\n",
              "  </tbody>\n",
              "</table>\n",
              "<p>350 rows × 18 columns</p>\n",
              "</div>"
            ],
            "text/plain": [
              "       city  city_ibge_code        date  ...  state  new_confirmed  new_deaths\n",
              "90461   NaN            23.0  2020-03-16  ...     CE              9           0\n",
              "90464   NaN            23.0  2020-03-17  ...     CE              1           0\n",
              "90468   NaN            23.0  2020-03-18  ...     CE              9           0\n",
              "90473   NaN            23.0  2020-03-19  ...     CE              5           0\n",
              "90480   NaN            23.0  2020-03-20  ...     CE             44           0\n",
              "...     ...             ...         ...  ...    ...            ...         ...\n",
              "148536  NaN            23.0  2021-02-24  ...     CE           2298          32\n",
              "148722  NaN            23.0  2021-02-25  ...     CE           3579          80\n",
              "148908  NaN            23.0  2021-02-26  ...     CE           2413          75\n",
              "149094  NaN            23.0  2021-02-27  ...     CE           1817          21\n",
              "149280  NaN            23.0  2021-02-28  ...     CE           1912           8\n",
              "\n",
              "[350 rows x 18 columns]"
            ]
          },
          "metadata": {
            "tags": []
          },
          "execution_count": 382
        }
      ]
    },
    {
      "cell_type": "markdown",
      "metadata": {
        "id": "lZmG1hiCETdF"
      },
      "source": [
        "##Renomeando as colunas que serão utilizadas"
      ]
    },
    {
      "cell_type": "code",
      "metadata": {
        "id": "Iwljy9GkCsbr"
      },
      "source": [
        "data = data.rename(columns={'last_available_confirmed': 'N. de Casos'})\r\n",
        "data = data.rename(columns={'last_available_deaths': 'N. de Mortes'})\r\n",
        "data = data.rename(columns={'new_confirmed': 'Novos Casos'})\r\n",
        "data = data.rename(columns={'last_available_confirmed_per_100k_inhabitants':'%100K confirmados'})\r\n",
        "\r\n"
      ],
      "execution_count": 383,
      "outputs": []
    },
    {
      "cell_type": "code",
      "metadata": {
        "id": "bXSgK40A5eCX"
      },
      "source": [
        "casos=data['N. de Casos']\r\n",
        "mortes = data['N. de Mortes']\r\n",
        "novos = data['Novos Casos']\r\n",
        "cemk=data['%100K confirmados']"
      ],
      "execution_count": 384,
      "outputs": []
    },
    {
      "cell_type": "code",
      "metadata": {
        "colab": {
          "base_uri": "https://localhost:8080/"
        },
        "id": "tYOIi_4X53vv",
        "outputId": "5093f36b-bd2d-470d-c264-7892e6ecc460"
      },
      "source": [
        "type(casos)\r\n",
        "casos = casos.tolist()\r\n",
        "#mortes = mortes.tolist()\r\n",
        "print(casos)"
      ],
      "execution_count": 385,
      "outputs": [
        {
          "output_type": "stream",
          "text": [
            "[9, 10, 19, 24, 68, 84, 125, 164, 185, 211, 237, 282, 322, 359, 382, 401, 445, 563, 658, 745, 960, 1045, 1188, 1394, 1445, 1558, 1668, 1747, 1935, 2070, 2291, 2412, 2747, 3062, 3306, 3485, 3682, 4116, 4702, 5121, 5667, 6260, 6783, 6985, 7409, 7861, 8000, 8309, 8379, 11040, 11470, 12310, 13888, 15134, 15879, 16692, 17599, 18412, 19156, 21077, 23059, 23795, 24255, 26363, 28112, 30560, 31413, 34573, 35122, 35595, 36185, 37021, 37275, 37821, 38395, 47822, 48489, 50504, 54683, 56056, 59795, 62176, 63575, 64271, 66218, 69023, 71947, 74692, 75784, 76429, 76833, 79853, 82169, 85606, 88132, 90441, 92397, 92866, 94708, 98055, 99578, 103118, 105270, 107064, 107593, 108225, 110483, 114038, 116519, 118311, 121464, 121986, 123394, 126142, 129598, 131324, 134610, 136001, 136790, 137234, 139437, 141832, 144058, 146064, 146972, 147378, 147818, 151072, 154381, 156265, 159953, 161844, 162086, 162429, 165703, 169138, 171565, 174662, 176371, 176773, 176972, 179976, 182453, 184100, 186563, 188289, 188638, 189023, 191540, 192652, 195298, 196667, 197381, 197691, 198252, 199828, 201201, 202422, 202999, 204931, 205441, 205875, 207631, 209363, 211053, 213238, 214094, 214457, 214953, 217295, 218414, 220040, 221828, 222179, 222412, 222473, 222884, 223863, 224847, 226021, 227075, 227449, 227799, 229250, 230406, 231510, 232950, 233600, 233891, 234120, 235222, 236591, 237147, 237857, 238582, 239062, 239465, 240139, 241159, 242021, 242490, 242820, 243091, 254588, 256032, 257409, 258356, 258742, 259767, 260154, 260336, 260642, 261504, 262831, 264172, 264245, 265102, 265875, 266316, 267721, 268345, 269255, 270070, 270378, 270867, 271565, 272290, 273194, 273743, 274185, 274341, 274673, 275025, 276012, 277072, 277252, 278053, 278350, 278986, 279322, 279989, 282471, 283463, 284208, 285666, 286674, 287629, 288494, 289550, 290484, 291312, 291617, 293249, 294116, 295275, 297793, 298312, 299590, 300134, 301251, 301606, 301802, 303168, 303868, 304443, 304640, 308273, 309168, 312068, 313761, 314674, 314674, 315936, 316681, 319989, 320685, 321891, 322861, 323506, 323941, 324894, 325884, 326519, 327140, 327832, 327865, 327982, 329896, 330986, 332907, 335992, 336504, 336574, 336763, 336975, 339043, 340312, 342201, 343887, 344677, 345002, 345235, 347518, 348912, 350571, 351731, 353979, 353979, 356117, 356985, 358404, 359678, 360973, 362351, 363967, 365640, 366789, 367722, 369245, 370300, 370300, 373611, 375024, 376628, 378191, 379553, 380993, 382597, 382597, 384819, 387084, 388049, 390857, 390857, 393650, 394906, 396495, 408555, 408555, 405710, 406973, 408692, 410907, 411904, 414492, 416790, 420369, 422782, 424599, 426511]\n"
          ],
          "name": "stdout"
        }
      ]
    },
    {
      "cell_type": "markdown",
      "metadata": {
        "id": "AaDPG5CfnYke"
      },
      "source": [
        "###Análise Exploratória"
      ]
    },
    {
      "cell_type": "code",
      "metadata": {
        "colab": {
          "base_uri": "https://localhost:8080/",
          "height": 53
        },
        "id": "l9HsBScUivMZ",
        "outputId": "961b88b8-36bf-45a7-b659-9b8702019d3b"
      },
      "source": [
        "plt.figure(figsize=(10,6))\r\n",
        "plt.plot(data['date'],data[['N. de Casos']],label='N. de Casos')\r\n",
        "plt.plot(data['date'],data[['N. de Mortes']],label='N. de Mortes')\r\n",
        "plt.plot(data['date'],data[['Novos Casos']],label='Novos Casos')\r\n",
        "plt.plot(data['date'],data[['%100K confirmados']],label='%100K confirmados')\r\n",
        "plt.xlabel(\"Data\")\r\n",
        "plt.ylabel('Dados Covid')\r\n",
        "plt.legend(loc='upper left')\r\n",
        "plt.title('Covid x N. de Casos, Mortes e Novos Casos')\r\n",
        "plt.xticks([])\r\n",
        "plt.show();"
      ],
      "execution_count": 386,
      "outputs": [
        {
          "output_type": "display_data",
          "data": {
            "image/png": "[encoded data removed]",
            "text/plain": [
              "<Figure size 720x432 with 1 Axes>"
            ]
          },
          "metadata": {
            "tags": [],
            "needs_background": "light"
          }
        }
      ]
    },
    {
      "cell_type": "code",
      "metadata": {
        "colab": {
          "base_uri": "https://localhost:8080/",
          "height": 53
        },
        "id": "bVoAG4KkniDC",
        "outputId": "97c4a3c2-ba64-4fbc-dc1e-49086079a1e7"
      },
      "source": [
        "plt.figure(figsize=(10,6))\r\n",
        "#plt.plot(data['date'],data[['N. de Casos']],label='N. de Casos')\r\n",
        "plt.plot(data['date'],data[['N. de Mortes']],label='N. de Mortes')\r\n",
        "plt.plot(data['date'],data[['Novos Casos']],label='Novos Casos')\r\n",
        "plt.plot(data['date'],data[['%100K confirmados']],label='%100K confirmados')\r\n",
        "plt.xlabel(\"Data\")\r\n",
        "plt.ylabel('Dados Covid')\r\n",
        "plt.legend(loc='upper left')\r\n",
        "plt.title('Covid x N. de Casos, Mortes e Novos Casos')\r\n",
        "plt.xticks([])\r\n",
        "plt.show();"
      ],
      "execution_count": 387,
      "outputs": [
        {
          "output_type": "display_data",
          "data": {
            "image/png": "[encoded data removed]",
            "text/plain": [
              "<Figure size 720x432 with 1 Axes>"
            ]
          },
          "metadata": {
            "tags": [],
            "needs_background": "light"
          }
        }
      ]
    },
    {
      "cell_type": "markdown",
      "metadata": {
        "id": "KEYQEwFhKVmg"
      },
      "source": [
        "###Podemos expressar o problema como um problema de regressão.\r\n",
        "###Ou seja, dado o número de casos de covid em um período, qual é o número de casos no próximo período?\r\n",
        "\r\n",
        "###Podemos escrever uma função simples para converter nossa única coluna de dados em um conjunto de dados de duas colunas: a primeira coluna contendo a contagem de casos deste período e a segunda coluna contendo a contagem de casos do próximo período, a ser prevista.\r\n",
        "\r\n",
        "###função leva dois argumentos: o conjunto de dados , que é uma matriz NumPy que queremos converter em um conjunto de dados, e o número de passos , que é o número de etapas de tempo anteriores a serem usadas como variáveis ​​de entrada para prever o próximo período de tempo.\r\n",
        "\r\n",
        "###Esse padrão criará um conjunto de dados onde X é o número de casos em um determinado momento (t) e Y é o número de passageiros no próximo momento (t + 1)\r\n",
        "\r\n"
      ]
    },
    {
      "cell_type": "code",
      "metadata": {
        "id": "oRI01pBn0trR"
      },
      "source": [
        "def split_sequence(sequence, passos):\n",
        "    X, y = list(), list()\n",
        "    for i in range(len(sequence)):\n",
        "        fim = i + passos\n",
        "        if(fim > len(sequence)-1):\n",
        "            break\n",
        "        seq_x, seq_y = sequence[i:fim], sequence[fim]\n",
        "        X.append(seq_x)\n",
        "        y.append(seq_y)\n",
        "    return array(X), array(y)"
      ],
      "execution_count": 388,
      "outputs": []
    },
    {
      "cell_type": "code",
      "metadata": {
        "id": "lRyEt-8v0trS"
      },
      "source": [
        "passos=7\r\n",
        "epocas=80"
      ],
      "execution_count": 389,
      "outputs": []
    },
    {
      "cell_type": "code",
      "metadata": {
        "id": "tIc2WUMm0trS"
      },
      "source": [
        "X,y = split_sequence(casos,passos)"
      ],
      "execution_count": 390,
      "outputs": []
    },
    {
      "cell_type": "code",
      "metadata": {
        "colab": {
          "base_uri": "https://localhost:8080/"
        },
        "id": "HXGM35TTJ8Bu",
        "outputId": "6095417f-4b39-4ec5-e8a6-4206e4dd476f"
      },
      "source": [
        "print(X)"
      ],
      "execution_count": 391,
      "outputs": [
        {
          "output_type": "stream",
          "text": [
            "[[     9     10     19 ...     68     84    125]\n",
            " [    10     19     24 ...     84    125    164]\n",
            " [    19     24     68 ...    125    164    185]\n",
            " ...\n",
            " [406973 408692 410907 ... 414492 416790 420369]\n",
            " [408692 410907 411904 ... 416790 420369 422782]\n",
            " [410907 411904 414492 ... 420369 422782 424599]]\n"
          ],
          "name": "stdout"
        }
      ]
    },
    {
      "cell_type": "markdown",
      "metadata": {
        "id": "GDrdZhfFCCNi"
      },
      "source": [
        "###A rede LSTM espera que os dados de entrada (X) sejam fornecidos com uma estrutura de array específica na forma de: [amostras, intervalos de tempo, features].\r\n",
        "\r\n",
        "###Atualmente, nossos dados estão no formato: [ amostras, features ] e estamos enquadrando o problema como n epocas de tempo para cada amostra. Podemos transformar os dados na estrutura esperada usando numpy.reshape () da seguinte maneira:\r\n"
      ]
    },
    {
      "cell_type": "code",
      "metadata": {
        "id": "QPpZpGh80trS"
      },
      "source": [
        "n_features = 1\n",
        "X = X.reshape((X.shape[0], X.shape[1],n_features))"
      ],
      "execution_count": 392,
      "outputs": []
    },
    {
      "cell_type": "code",
      "metadata": {
        "colab": {
          "base_uri": "https://localhost:8080/"
        },
        "id": "JnTnUAinKiHG",
        "outputId": "afac9437-310e-41c4-da9a-bdf11fc67c33"
      },
      "source": [
        "print(X)"
      ],
      "execution_count": 393,
      "outputs": [
        {
          "output_type": "stream",
          "text": [
            "[[[     9]\n",
            "  [    10]\n",
            "  [    19]\n",
            "  ...\n",
            "  [    68]\n",
            "  [    84]\n",
            "  [   125]]\n",
            "\n",
            " [[    10]\n",
            "  [    19]\n",
            "  [    24]\n",
            "  ...\n",
            "  [    84]\n",
            "  [   125]\n",
            "  [   164]]\n",
            "\n",
            " [[    19]\n",
            "  [    24]\n",
            "  [    68]\n",
            "  ...\n",
            "  [   125]\n",
            "  [   164]\n",
            "  [   185]]\n",
            "\n",
            " ...\n",
            "\n",
            " [[406973]\n",
            "  [408692]\n",
            "  [410907]\n",
            "  ...\n",
            "  [414492]\n",
            "  [416790]\n",
            "  [420369]]\n",
            "\n",
            " [[408692]\n",
            "  [410907]\n",
            "  [411904]\n",
            "  ...\n",
            "  [416790]\n",
            "  [420369]\n",
            "  [422782]]\n",
            "\n",
            " [[410907]\n",
            "  [411904]\n",
            "  [414492]\n",
            "  ...\n",
            "  [420369]\n",
            "  [422782]\n",
            "  [424599]]]\n"
          ],
          "name": "stdout"
        }
      ]
    },
    {
      "cell_type": "markdown",
      "metadata": {
        "id": "0TD_oT0qINAJ"
      },
      "source": [
        "###Agora estamos prontos para criar nossa rede LSTM"
      ]
    },
    {
      "cell_type": "code",
      "metadata": {
        "id": "bA1lLy8d0trS"
      },
      "source": [
        "\n",
        "model = tf.keras.models.Sequential()\n",
        "model.add(LSTM(100, activation='relu',input_shape=(passos,n_features)))\n",
        "model.add(Dense(1))\n",
        "model.compile(optimizer='adam', loss='mse', metrics=['mse'])\n",
        "\n",
        "res1=pd.DataFrame(columns=['features','predito','real','diferença'])\n",
        "res2=pd.DataFrame(columns=['features','predito','real','diferença'])\n"
      ],
      "execution_count": 394,
      "outputs": []
    },
    {
      "cell_type": "code",
      "metadata": {
        "collapsed": true,
        "jupyter": {
          "outputs_hidden": true
        },
        "colab": {
          "base_uri": "https://localhost:8080/"
        },
        "id": "wCQMMisp0trS",
        "outputId": "dd29c152-f949-47bb-cbbd-973060e4ccf4"
      },
      "source": [
        "model.fit(X,y,epochs=epocas)"
      ],
      "execution_count": 395,
      "outputs": [
        {
          "output_type": "stream",
          "text": [
            "Epoch 1/80\n",
            "11/11 [==============================] - 1s 7ms/step - loss: 32492516181.3333 - mse: 32492516181.3333\n",
            "Epoch 2/80\n",
            "11/11 [==============================] - 0s 7ms/step - loss: 13017020074.6667 - mse: 13017020074.6667\n",
            "Epoch 3/80\n",
            "11/11 [==============================] - 0s 7ms/step - loss: 3524227285.3333 - mse: 3524227285.3333\n",
            "Epoch 4/80\n",
            "11/11 [==============================] - 0s 7ms/step - loss: 3327996309.3333 - mse: 3327996309.3333\n",
            "Epoch 5/80\n",
            "11/11 [==============================] - 0s 7ms/step - loss: 190150884.0000 - mse: 190150884.0000\n",
            "Epoch 6/80\n",
            "11/11 [==============================] - 0s 7ms/step - loss: 1389032606.6667 - mse: 1389032606.6667\n",
            "Epoch 7/80\n",
            "11/11 [==============================] - 0s 7ms/step - loss: 293902802.0000 - mse: 293902802.0000\n",
            "Epoch 8/80\n",
            "11/11 [==============================] - 0s 7ms/step - loss: 3522576997.3333 - mse: 3522576997.3333\n",
            "Epoch 9/80\n",
            "11/11 [==============================] - 0s 7ms/step - loss: 4136130645.3333 - mse: 4136130645.3333\n",
            "Epoch 10/80\n",
            "11/11 [==============================] - 0s 6ms/step - loss: 232850614.6667 - mse: 232850614.6667\n",
            "Epoch 11/80\n",
            "11/11 [==============================] - 0s 7ms/step - loss: 69282361.5000 - mse: 69282361.5000\n",
            "Epoch 12/80\n",
            "11/11 [==============================] - 0s 7ms/step - loss: 105257616.6667 - mse: 105257616.6667\n",
            "Epoch 13/80\n",
            "11/11 [==============================] - 0s 7ms/step - loss: 3428579306.6667 - mse: 3428579306.6667\n",
            "Epoch 14/80\n",
            "11/11 [==============================] - 0s 7ms/step - loss: 703658205.3333 - mse: 703658205.3333\n",
            "Epoch 15/80\n",
            "11/11 [==============================] - 0s 7ms/step - loss: 368236590.6667 - mse: 368236590.6667\n",
            "Epoch 16/80\n",
            "11/11 [==============================] - 0s 7ms/step - loss: 127527122.0000 - mse: 127527122.0000\n",
            "Epoch 17/80\n",
            "11/11 [==============================] - 0s 7ms/step - loss: 361138059.3333 - mse: 361138059.3333\n",
            "Epoch 18/80\n",
            "11/11 [==============================] - 0s 7ms/step - loss: 666752597.3333 - mse: 666752597.3333\n",
            "Epoch 19/80\n",
            "11/11 [==============================] - 0s 7ms/step - loss: 219929301.3333 - mse: 219929301.3333\n",
            "Epoch 20/80\n",
            "11/11 [==============================] - 0s 7ms/step - loss: 87809077.3333 - mse: 87809077.3333\n",
            "Epoch 21/80\n",
            "11/11 [==============================] - 0s 7ms/step - loss: 37322607.3333 - mse: 37322607.3333\n",
            "Epoch 22/80\n",
            "11/11 [==============================] - 0s 7ms/step - loss: 36032890.1667 - mse: 36032890.1667\n",
            "Epoch 23/80\n",
            "11/11 [==============================] - 0s 7ms/step - loss: 28291086.5000 - mse: 28291086.5000\n",
            "Epoch 24/80\n",
            "11/11 [==============================] - 0s 7ms/step - loss: 183684150.0000 - mse: 183684150.0000\n",
            "Epoch 25/80\n",
            "11/11 [==============================] - 0s 7ms/step - loss: 100029674.0000 - mse: 100029674.0000\n",
            "Epoch 26/80\n",
            "11/11 [==============================] - 0s 7ms/step - loss: 46459336.0000 - mse: 46459336.0000\n",
            "Epoch 27/80\n",
            "11/11 [==============================] - 0s 7ms/step - loss: 30418772.8333 - mse: 30418772.8333\n",
            "Epoch 28/80\n",
            "11/11 [==============================] - 0s 7ms/step - loss: 24945727.3333 - mse: 24945727.3333\n",
            "Epoch 29/80\n",
            "11/11 [==============================] - 0s 7ms/step - loss: 20635292.5000 - mse: 20635292.5000\n",
            "Epoch 30/80\n",
            "11/11 [==============================] - 0s 8ms/step - loss: 26291263.4167 - mse: 26291263.4167\n",
            "Epoch 31/80\n",
            "11/11 [==============================] - 0s 7ms/step - loss: 66755626.1667 - mse: 66755626.1667\n",
            "Epoch 32/80\n",
            "11/11 [==============================] - 0s 7ms/step - loss: 26807751.0000 - mse: 26807751.0000\n",
            "Epoch 33/80\n",
            "11/11 [==============================] - 0s 7ms/step - loss: 23781639.3333 - mse: 23781639.3333\n",
            "Epoch 34/80\n",
            "11/11 [==============================] - 0s 7ms/step - loss: 23592796.3333 - mse: 23592796.3333\n",
            "Epoch 35/80\n",
            "11/11 [==============================] - 0s 7ms/step - loss: 22593884.1667 - mse: 22593884.1667\n",
            "Epoch 36/80\n",
            "11/11 [==============================] - 0s 8ms/step - loss: 19086920.8333 - mse: 19086920.8333\n",
            "Epoch 37/80\n",
            "11/11 [==============================] - 0s 7ms/step - loss: 21269084.0000 - mse: 21269084.0000\n",
            "Epoch 38/80\n",
            "11/11 [==============================] - 0s 7ms/step - loss: 23741449.6667 - mse: 23741449.6667\n",
            "Epoch 39/80\n",
            "11/11 [==============================] - 0s 7ms/step - loss: 21842598.1667 - mse: 21842598.1667\n",
            "Epoch 40/80\n",
            "11/11 [==============================] - 0s 7ms/step - loss: 30923847.5000 - mse: 30923847.5000\n",
            "Epoch 41/80\n",
            "11/11 [==============================] - 0s 7ms/step - loss: 16673120786.6667 - mse: 16673120786.6667\n",
            "Epoch 42/80\n",
            "11/11 [==============================] - 0s 7ms/step - loss: 974357522.6667 - mse: 974357522.6667\n",
            "Epoch 43/80\n",
            "11/11 [==============================] - 0s 7ms/step - loss: 1294016976.0000 - mse: 1294016976.0000\n",
            "Epoch 44/80\n",
            "11/11 [==============================] - 0s 7ms/step - loss: 457733474.6667 - mse: 457733474.6667\n",
            "Epoch 45/80\n",
            "11/11 [==============================] - 0s 7ms/step - loss: 63906643.6667 - mse: 63906643.6667\n",
            "Epoch 46/80\n",
            "11/11 [==============================] - 0s 7ms/step - loss: 51357424.3333 - mse: 51357424.3333\n",
            "Epoch 47/80\n",
            "11/11 [==============================] - 0s 7ms/step - loss: 54920588.6667 - mse: 54920588.6667\n",
            "Epoch 48/80\n",
            "11/11 [==============================] - 0s 7ms/step - loss: 27158409.0000 - mse: 27158409.0000\n",
            "Epoch 49/80\n",
            "11/11 [==============================] - 0s 7ms/step - loss: 20887371.3333 - mse: 20887371.3333\n",
            "Epoch 50/80\n",
            "11/11 [==============================] - 0s 7ms/step - loss: 20571306.0000 - mse: 20571306.0000\n",
            "Epoch 51/80\n",
            "11/11 [==============================] - 0s 7ms/step - loss: 19259148.6667 - mse: 19259148.6667\n",
            "Epoch 52/80\n",
            "11/11 [==============================] - 0s 7ms/step - loss: 21997460.0000 - mse: 21997460.0000\n",
            "Epoch 53/80\n",
            "11/11 [==============================] - 0s 7ms/step - loss: 22968663.8333 - mse: 22968663.8333\n",
            "Epoch 54/80\n",
            "11/11 [==============================] - 0s 8ms/step - loss: 21953979.8333 - mse: 21953979.8333\n",
            "Epoch 55/80\n",
            "11/11 [==============================] - 0s 8ms/step - loss: 20421418.8333 - mse: 20421418.8333\n",
            "Epoch 56/80\n",
            "11/11 [==============================] - 0s 7ms/step - loss: 17777183.2500 - mse: 17777183.2500\n",
            "Epoch 57/80\n",
            "11/11 [==============================] - 0s 7ms/step - loss: 31248766.8333 - mse: 31248766.8333\n",
            "Epoch 58/80\n",
            "11/11 [==============================] - 0s 7ms/step - loss: 19846306.6667 - mse: 19846306.6667\n",
            "Epoch 59/80\n",
            "11/11 [==============================] - 0s 7ms/step - loss: 18841029.5833 - mse: 18841029.5833\n",
            "Epoch 60/80\n",
            "11/11 [==============================] - 0s 7ms/step - loss: 17055695.2500 - mse: 17055695.2500\n",
            "Epoch 61/80\n",
            "11/11 [==============================] - 0s 8ms/step - loss: 17405324.0833 - mse: 17405324.0833\n",
            "Epoch 62/80\n",
            "11/11 [==============================] - 0s 7ms/step - loss: 55094109.0000 - mse: 55094109.0000\n",
            "Epoch 63/80\n",
            "11/11 [==============================] - 0s 7ms/step - loss: 43815943.0000 - mse: 43815943.0000\n",
            "Epoch 64/80\n",
            "11/11 [==============================] - 0s 7ms/step - loss: 23614819.6667 - mse: 23614819.6667\n",
            "Epoch 65/80\n",
            "11/11 [==============================] - 0s 7ms/step - loss: 20344222.1667 - mse: 20344222.1667\n",
            "Epoch 66/80\n",
            "11/11 [==============================] - 0s 7ms/step - loss: 21183933.5000 - mse: 21183933.5000\n",
            "Epoch 67/80\n",
            "11/11 [==============================] - 0s 7ms/step - loss: 20231169.6667 - mse: 20231169.6667\n",
            "Epoch 68/80\n",
            "11/11 [==============================] - 0s 7ms/step - loss: 18533727.2500 - mse: 18533727.2500\n",
            "Epoch 69/80\n",
            "11/11 [==============================] - 0s 7ms/step - loss: 19814910.5000 - mse: 19814910.5000\n",
            "Epoch 70/80\n",
            "11/11 [==============================] - 0s 7ms/step - loss: 20156768.8333 - mse: 20156768.8333\n",
            "Epoch 71/80\n",
            "11/11 [==============================] - 0s 8ms/step - loss: 23715025.8333 - mse: 23715025.8333\n",
            "Epoch 72/80\n",
            "11/11 [==============================] - 0s 8ms/step - loss: 18119841.4167 - mse: 18119841.4167\n",
            "Epoch 73/80\n",
            "11/11 [==============================] - 0s 7ms/step - loss: 20804177.8333 - mse: 20804177.8333\n",
            "Epoch 74/80\n",
            "11/11 [==============================] - 0s 7ms/step - loss: 20987976.6667 - mse: 20987976.6667\n",
            "Epoch 75/80\n",
            "11/11 [==============================] - 0s 8ms/step - loss: 20543589.0000 - mse: 20543589.0000\n",
            "Epoch 76/80\n",
            "11/11 [==============================] - 0s 7ms/step - loss: 20988812.5833 - mse: 20988812.5833\n",
            "Epoch 77/80\n",
            "11/11 [==============================] - 0s 7ms/step - loss: 19085589.6667 - mse: 19085589.6667\n",
            "Epoch 78/80\n",
            "11/11 [==============================] - 0s 8ms/step - loss: 19204437.2500 - mse: 19204437.2500\n",
            "Epoch 79/80\n",
            "11/11 [==============================] - 0s 7ms/step - loss: 21004789.1667 - mse: 21004789.1667\n",
            "Epoch 80/80\n",
            "11/11 [==============================] - 0s 7ms/step - loss: 21720994.5000 - mse: 21720994.5000\n"
          ],
          "name": "stdout"
        },
        {
          "output_type": "execute_result",
          "data": {
            "text/plain": [
              "<tensorflow.python.keras.callbacks.History at 0x7eff9c034f10>"
            ]
          },
          "metadata": {
            "tags": []
          },
          "execution_count": 395
        }
      ]
    },
    {
      "cell_type": "markdown",
      "metadata": {
        "id": "Z4J6S8mQJ9Gn"
      },
      "source": [
        "###Fazendo 2 Predições "
      ]
    },
    {
      "cell_type": "code",
      "metadata": {
        "colab": {
          "base_uri": "https://localhost:8080/"
        },
        "id": "k7IuzO6J0trT",
        "outputId": "c921e2bc-986d-4f07-e06d-a8287211a55c"
      },
      "source": [
        "prox=X[100]\n",
        "yprox=X[101][passos-1]\n",
        "yprox=yprox[0]\n",
        "prox = prox.reshape((1,passos,n_features))\n",
        "pred=model.predict(prox)\n",
        "print('Valor predito:{}, Valor real:{}, Dif: {}'.format(pred,yprox,yprox-pred))\n",
        "res1=res1.append({'features':'Casos','predito':pred,'real':yprox,'diferença':pred-yprox},ignore_index=True)\n"
      ],
      "execution_count": 396,
      "outputs": [
        {
          "output_type": "stream",
          "text": [
            "WARNING:tensorflow:5 out of the last 11 calls to <function Model.make_predict_function.<locals>.predict_function at 0x7eff9be62170> triggered tf.function retracing. Tracing is expensive and the excessive number of tracings could be due to (1) creating @tf.function repeatedly in a loop, (2) passing tensors with different shapes, (3) passing Python objects instead of tensors. For (1), please define your @tf.function outside of the loop. For (2), @tf.function has experimental_relax_shapes=True option that relaxes argument shapes that can avoid unnecessary retracing. For (3), please refer to https://www.tensorflow.org/guide/function#controlling_retracing and https://www.tensorflow.org/api_docs/python/tf/function for  more details.\n",
            "Valor predito:[[106783.34]], Valor real:114038, Dif: [[7254.65625]]\n"
          ],
          "name": "stdout"
        }
      ]
    },
    {
      "cell_type": "code",
      "metadata": {
        "colab": {
          "base_uri": "https://localhost:8080/"
        },
        "id": "dj1REYsQNZ43",
        "outputId": "03d59005-b8fb-4f57-ccf8-490da2a21e86"
      },
      "source": [
        "prox=X[101]\r\n",
        "yprox=X[102][passos-1]\r\n",
        "yprox=yprox[0]\r\n",
        "prox = prox.reshape((1,passos,n_features))\r\n",
        "pred=model.predict(prox)\r\n",
        "print('Valor predito:{}, Valor real:{}, Dif: {}'.format(pred,yprox,yprox-pred))\r\n",
        "res2=res2.append({'features':'Caso','predito':pred,'real':yprox,'diferença':pred-yprox},ignore_index=True)\r\n"
      ],
      "execution_count": 397,
      "outputs": [
        {
          "output_type": "stream",
          "text": [
            "Valor predito:[[108828.375]], Valor real:116519, Dif: [[7690.625]]\n"
          ],
          "name": "stdout"
        }
      ]
    },
    {
      "cell_type": "markdown",
      "metadata": {
        "id": "_lr9VZcWvJiM"
      },
      "source": [
        "##Inserir um segundo Parâmetro (numeral 1)"
      ]
    },
    {
      "cell_type": "code",
      "metadata": {
        "colab": {
          "base_uri": "https://localhost:8080/"
        },
        "id": "2SIHztRewghp",
        "outputId": "b9588c61-41e1-45fb-f14c-56b375282c35"
      },
      "source": [
        "ones = [1 for i in range(len(casos))]\r\n",
        "print(ones)\r\n"
      ],
      "execution_count": 398,
      "outputs": [
        {
          "output_type": "stream",
          "text": [
            "[1, 1, 1, 1, 1, 1, 1, 1, 1, 1, 1, 1, 1, 1, 1, 1, 1, 1, 1, 1, 1, 1, 1, 1, 1, 1, 1, 1, 1, 1, 1, 1, 1, 1, 1, 1, 1, 1, 1, 1, 1, 1, 1, 1, 1, 1, 1, 1, 1, 1, 1, 1, 1, 1, 1, 1, 1, 1, 1, 1, 1, 1, 1, 1, 1, 1, 1, 1, 1, 1, 1, 1, 1, 1, 1, 1, 1, 1, 1, 1, 1, 1, 1, 1, 1, 1, 1, 1, 1, 1, 1, 1, 1, 1, 1, 1, 1, 1, 1, 1, 1, 1, 1, 1, 1, 1, 1, 1, 1, 1, 1, 1, 1, 1, 1, 1, 1, 1, 1, 1, 1, 1, 1, 1, 1, 1, 1, 1, 1, 1, 1, 1, 1, 1, 1, 1, 1, 1, 1, 1, 1, 1, 1, 1, 1, 1, 1, 1, 1, 1, 1, 1, 1, 1, 1, 1, 1, 1, 1, 1, 1, 1, 1, 1, 1, 1, 1, 1, 1, 1, 1, 1, 1, 1, 1, 1, 1, 1, 1, 1, 1, 1, 1, 1, 1, 1, 1, 1, 1, 1, 1, 1, 1, 1, 1, 1, 1, 1, 1, 1, 1, 1, 1, 1, 1, 1, 1, 1, 1, 1, 1, 1, 1, 1, 1, 1, 1, 1, 1, 1, 1, 1, 1, 1, 1, 1, 1, 1, 1, 1, 1, 1, 1, 1, 1, 1, 1, 1, 1, 1, 1, 1, 1, 1, 1, 1, 1, 1, 1, 1, 1, 1, 1, 1, 1, 1, 1, 1, 1, 1, 1, 1, 1, 1, 1, 1, 1, 1, 1, 1, 1, 1, 1, 1, 1, 1, 1, 1, 1, 1, 1, 1, 1, 1, 1, 1, 1, 1, 1, 1, 1, 1, 1, 1, 1, 1, 1, 1, 1, 1, 1, 1, 1, 1, 1, 1, 1, 1, 1, 1, 1, 1, 1, 1, 1, 1, 1, 1, 1, 1, 1, 1, 1, 1, 1, 1, 1, 1, 1, 1, 1, 1, 1, 1, 1, 1, 1, 1, 1, 1, 1, 1, 1, 1, 1, 1, 1, 1, 1, 1]\n"
          ],
          "name": "stdout"
        }
      ]
    },
    {
      "cell_type": "code",
      "metadata": {
        "colab": {
          "base_uri": "https://localhost:8080/"
        },
        "id": "2JFDarFr6xgP",
        "outputId": "cb4d7aa3-d06a-4695-a919-b3449b00cb08"
      },
      "source": [
        "\r\n",
        "# Inserindo o numero 1 na lista seq(casos)\r\n",
        "res = [] \r\n",
        "for idx in range(0, len(casos)): \r\n",
        "    res.append(casos[idx]) \r\n",
        "    res.append(ones[idx]) \r\n",
        "  \r\n",
        "# printing result \r\n",
        "print(res)\r\n"
      ],
      "execution_count": 399,
      "outputs": [
        {
          "output_type": "stream",
          "text": [
            "[9, 1, 10, 1, 19, 1, 24, 1, 68, 1, 84, 1, 125, 1, 164, 1, 185, 1, 211, 1, 237, 1, 282, 1, 322, 1, 359, 1, 382, 1, 401, 1, 445, 1, 563, 1, 658, 1, 745, 1, 960, 1, 1045, 1, 1188, 1, 1394, 1, 1445, 1, 1558, 1, 1668, 1, 1747, 1, 1935, 1, 2070, 1, 2291, 1, 2412, 1, 2747, 1, 3062, 1, 3306, 1, 3485, 1, 3682, 1, 4116, 1, 4702, 1, 5121, 1, 5667, 1, 6260, 1, 6783, 1, 6985, 1, 7409, 1, 7861, 1, 8000, 1, 8309, 1, 8379, 1, 11040, 1, 11470, 1, 12310, 1, 13888, 1, 15134, 1, 15879, 1, 16692, 1, 17599, 1, 18412, 1, 19156, 1, 21077, 1, 23059, 1, 23795, 1, 24255, 1, 26363, 1, 28112, 1, 30560, 1, 31413, 1, 34573, 1, 35122, 1, 35595, 1, 36185, 1, 37021, 1, 37275, 1, 37821, 1, 38395, 1, 47822, 1, 48489, 1, 50504, 1, 54683, 1, 56056, 1, 59795, 1, 62176, 1, 63575, 1, 64271, 1, 66218, 1, 69023, 1, 71947, 1, 74692, 1, 75784, 1, 76429, 1, 76833, 1, 79853, 1, 82169, 1, 85606, 1, 88132, 1, 90441, 1, 92397, 1, 92866, 1, 94708, 1, 98055, 1, 99578, 1, 103118, 1, 105270, 1, 107064, 1, 107593, 1, 108225, 1, 110483, 1, 114038, 1, 116519, 1, 118311, 1, 121464, 1, 121986, 1, 123394, 1, 126142, 1, 129598, 1, 131324, 1, 134610, 1, 136001, 1, 136790, 1, 137234, 1, 139437, 1, 141832, 1, 144058, 1, 146064, 1, 146972, 1, 147378, 1, 147818, 1, 151072, 1, 154381, 1, 156265, 1, 159953, 1, 161844, 1, 162086, 1, 162429, 1, 165703, 1, 169138, 1, 171565, 1, 174662, 1, 176371, 1, 176773, 1, 176972, 1, 179976, 1, 182453, 1, 184100, 1, 186563, 1, 188289, 1, 188638, 1, 189023, 1, 191540, 1, 192652, 1, 195298, 1, 196667, 1, 197381, 1, 197691, 1, 198252, 1, 199828, 1, 201201, 1, 202422, 1, 202999, 1, 204931, 1, 205441, 1, 205875, 1, 207631, 1, 209363, 1, 211053, 1, 213238, 1, 214094, 1, 214457, 1, 214953, 1, 217295, 1, 218414, 1, 220040, 1, 221828, 1, 222179, 1, 222412, 1, 222473, 1, 222884, 1, 223863, 1, 224847, 1, 226021, 1, 227075, 1, 227449, 1, 227799, 1, 229250, 1, 230406, 1, 231510, 1, 232950, 1, 233600, 1, 233891, 1, 234120, 1, 235222, 1, 236591, 1, 237147, 1, 237857, 1, 238582, 1, 239062, 1, 239465, 1, 240139, 1, 241159, 1, 242021, 1, 242490, 1, 242820, 1, 243091, 1, 254588, 1, 256032, 1, 257409, 1, 258356, 1, 258742, 1, 259767, 1, 260154, 1, 260336, 1, 260642, 1, 261504, 1, 262831, 1, 264172, 1, 264245, 1, 265102, 1, 265875, 1, 266316, 1, 267721, 1, 268345, 1, 269255, 1, 270070, 1, 270378, 1, 270867, 1, 271565, 1, 272290, 1, 273194, 1, 273743, 1, 274185, 1, 274341, 1, 274673, 1, 275025, 1, 276012, 1, 277072, 1, 277252, 1, 278053, 1, 278350, 1, 278986, 1, 279322, 1, 279989, 1, 282471, 1, 283463, 1, 284208, 1, 285666, 1, 286674, 1, 287629, 1, 288494, 1, 289550, 1, 290484, 1, 291312, 1, 291617, 1, 293249, 1, 294116, 1, 295275, 1, 297793, 1, 298312, 1, 299590, 1, 300134, 1, 301251, 1, 301606, 1, 301802, 1, 303168, 1, 303868, 1, 304443, 1, 304640, 1, 308273, 1, 309168, 1, 312068, 1, 313761, 1, 314674, 1, 314674, 1, 315936, 1, 316681, 1, 319989, 1, 320685, 1, 321891, 1, 322861, 1, 323506, 1, 323941, 1, 324894, 1, 325884, 1, 326519, 1, 327140, 1, 327832, 1, 327865, 1, 327982, 1, 329896, 1, 330986, 1, 332907, 1, 335992, 1, 336504, 1, 336574, 1, 336763, 1, 336975, 1, 339043, 1, 340312, 1, 342201, 1, 343887, 1, 344677, 1, 345002, 1, 345235, 1, 347518, 1, 348912, 1, 350571, 1, 351731, 1, 353979, 1, 353979, 1, 356117, 1, 356985, 1, 358404, 1, 359678, 1, 360973, 1, 362351, 1, 363967, 1, 365640, 1, 366789, 1, 367722, 1, 369245, 1, 370300, 1, 370300, 1, 373611, 1, 375024, 1, 376628, 1, 378191, 1, 379553, 1, 380993, 1, 382597, 1, 382597, 1, 384819, 1, 387084, 1, 388049, 1, 390857, 1, 390857, 1, 393650, 1, 394906, 1, 396495, 1, 408555, 1, 408555, 1, 405710, 1, 406973, 1, 408692, 1, 410907, 1, 411904, 1, 414492, 1, 416790, 1, 420369, 1, 422782, 1, 424599, 1, 426511, 1]\n"
          ],
          "name": "stdout"
        }
      ]
    },
    {
      "cell_type": "code",
      "metadata": {
        "id": "d5DlBahcvVJV"
      },
      "source": [
        "##Transformando em duas dimensões\r\n",
        "res = np.reshape(res, (-1, 2))\r\n",
        "#print(casos)"
      ],
      "execution_count": 400,
      "outputs": []
    },
    {
      "cell_type": "code",
      "metadata": {
        "id": "8xYQw_OE0trT",
        "colab": {
          "base_uri": "https://localhost:8080/"
        },
        "outputId": "c4b1141f-97dd-4d0a-c2da-92e4f518e81f"
      },
      "source": [
        "print(len(res))"
      ],
      "execution_count": 401,
      "outputs": [
        {
          "output_type": "stream",
          "text": [
            "350\n"
          ],
          "name": "stdout"
        }
      ]
    },
    {
      "cell_type": "code",
      "metadata": {
        "id": "WzP8gfUT0trT"
      },
      "source": [
        "def split_sequence(sequence, passos):\n",
        "    X, y = list(), list()\n",
        "    for i in range(len(sequence)):\n",
        "        fim = i + passos\n",
        "        if(fim > len(sequence)-1):\n",
        "            break\n",
        "        seq_x, seq_y = sequence[i:fim], sequence[fim][0]\n",
        "        X.append(seq_x)\n",
        "        y.append(seq_y)\n",
        "    return array(X), array(y)"
      ],
      "execution_count": 402,
      "outputs": []
    },
    {
      "cell_type": "code",
      "metadata": {
        "id": "VXGuHGHJ0trT"
      },
      "source": [
        "\r\n",
        "X,y = split_sequence(res,passos)"
      ],
      "execution_count": 403,
      "outputs": []
    },
    {
      "cell_type": "code",
      "metadata": {
        "id": "i6F6gZdP0trT"
      },
      "source": [
        "n_features = 2\n",
        "X = X.reshape((X.shape[0], X.shape[1],n_features))"
      ],
      "execution_count": 404,
      "outputs": []
    },
    {
      "cell_type": "code",
      "metadata": {
        "id": "xd4qifaX0trT"
      },
      "source": [
        "model = tf.keras.models.Sequential()\n",
        "model.add(LSTM(100, activation='relu',input_shape=(passos,n_features)))\n",
        "model.add(Dense(1))\n",
        "model.compile(optimizer='adam', loss='mse', metrics=['mse'])"
      ],
      "execution_count": 405,
      "outputs": []
    },
    {
      "cell_type": "code",
      "metadata": {
        "collapsed": true,
        "jupyter": {
          "outputs_hidden": true
        },
        "id": "DaaTFPAs0trU",
        "colab": {
          "base_uri": "https://localhost:8080/"
        },
        "outputId": "2d5744b7-8241-4d05-9229-48ebea3ab0cc"
      },
      "source": [
        "model.fit(X,y,epochs=epocas)"
      ],
      "execution_count": 406,
      "outputs": [
        {
          "output_type": "stream",
          "text": [
            "Epoch 1/80\n",
            "11/11 [==============================] - 1s 7ms/step - loss: 72218957141.3333 - mse: 72218957141.3333\n",
            "Epoch 2/80\n",
            "11/11 [==============================] - 0s 7ms/step - loss: 60485980842.6667 - mse: 60485980842.6667\n",
            "Epoch 3/80\n",
            "11/11 [==============================] - 0s 7ms/step - loss: 38572044458.6667 - mse: 38572044458.6667\n",
            "Epoch 4/80\n",
            "11/11 [==============================] - 0s 7ms/step - loss: 22218027008.0000 - mse: 22218027008.0000\n",
            "Epoch 5/80\n",
            "11/11 [==============================] - 0s 7ms/step - loss: 6067897903.0000 - mse: 6067897903.0000\n",
            "Epoch 6/80\n",
            "11/11 [==============================] - 0s 7ms/step - loss: 3227666389.3333 - mse: 3227666389.3333\n",
            "Epoch 7/80\n",
            "11/11 [==============================] - 0s 7ms/step - loss: 292083356.0000 - mse: 292083356.0000\n",
            "Epoch 8/80\n",
            "11/11 [==============================] - 0s 8ms/step - loss: 1231599008.0000 - mse: 1231599008.0000\n",
            "Epoch 9/80\n",
            "11/11 [==============================] - 0s 7ms/step - loss: 714593706.6667 - mse: 714593706.6667\n",
            "Epoch 10/80\n",
            "11/11 [==============================] - 0s 7ms/step - loss: 590652021.3333 - mse: 590652021.3333\n",
            "Epoch 11/80\n",
            "11/11 [==============================] - 0s 8ms/step - loss: 94375729.6667 - mse: 94375729.6667\n",
            "Epoch 12/80\n",
            "11/11 [==============================] - 0s 8ms/step - loss: 170247246.6667 - mse: 170247246.6667\n",
            "Epoch 13/80\n",
            "11/11 [==============================] - 0s 7ms/step - loss: 102677776.3333 - mse: 102677776.3333\n",
            "Epoch 14/80\n",
            "11/11 [==============================] - 0s 7ms/step - loss: 17775725.4167 - mse: 17775725.4167\n",
            "Epoch 15/80\n",
            "11/11 [==============================] - 0s 7ms/step - loss: 3566969474.2500 - mse: 3566969474.2500\n",
            "Epoch 16/80\n",
            "11/11 [==============================] - 0s 7ms/step - loss: 931851301.3333 - mse: 931851301.3333\n",
            "Epoch 17/80\n",
            "11/11 [==============================] - 0s 7ms/step - loss: 311689399.2500 - mse: 311689399.2500\n",
            "Epoch 18/80\n",
            "11/11 [==============================] - 0s 7ms/step - loss: 359637932.0000 - mse: 359637932.0000\n",
            "Epoch 19/80\n",
            "11/11 [==============================] - 0s 7ms/step - loss: 120271886.0000 - mse: 120271886.0000\n",
            "Epoch 20/80\n",
            "11/11 [==============================] - 0s 8ms/step - loss: 113713090.3333 - mse: 113713090.3333\n",
            "Epoch 21/80\n",
            "11/11 [==============================] - 0s 7ms/step - loss: 56395005.0000 - mse: 56395005.0000\n",
            "Epoch 22/80\n",
            "11/11 [==============================] - 0s 7ms/step - loss: 28717386.5000 - mse: 28717386.5000\n",
            "Epoch 23/80\n",
            "11/11 [==============================] - 0s 7ms/step - loss: 51887428.3333 - mse: 51887428.3333\n",
            "Epoch 24/80\n",
            "11/11 [==============================] - 0s 7ms/step - loss: 812761528.3333 - mse: 812761528.3333\n",
            "Epoch 25/80\n",
            "11/11 [==============================] - 0s 7ms/step - loss: 841815565.3333 - mse: 841815565.3333\n",
            "Epoch 26/80\n",
            "11/11 [==============================] - 0s 7ms/step - loss: 113157396.6667 - mse: 113157396.6667\n",
            "Epoch 27/80\n",
            "11/11 [==============================] - 0s 7ms/step - loss: 79461580.6667 - mse: 79461580.6667\n",
            "Epoch 28/80\n",
            "11/11 [==============================] - 0s 7ms/step - loss: 1188198981.3333 - mse: 1188198981.3333\n",
            "Epoch 29/80\n",
            "11/11 [==============================] - 0s 7ms/step - loss: 151015398.6667 - mse: 151015398.6667\n",
            "Epoch 30/80\n",
            "11/11 [==============================] - 0s 7ms/step - loss: 91444897.6667 - mse: 91444897.6667\n",
            "Epoch 31/80\n",
            "11/11 [==============================] - 0s 7ms/step - loss: 116735895.0000 - mse: 116735895.0000\n",
            "Epoch 32/80\n",
            "11/11 [==============================] - 0s 7ms/step - loss: 429926222.3333 - mse: 429926222.3333\n",
            "Epoch 33/80\n",
            "11/11 [==============================] - 0s 8ms/step - loss: 162959986.8333 - mse: 162959986.8333\n",
            "Epoch 34/80\n",
            "11/11 [==============================] - 0s 7ms/step - loss: 50040716.3333 - mse: 50040716.3333\n",
            "Epoch 35/80\n",
            "11/11 [==============================] - 0s 7ms/step - loss: 28681880.6667 - mse: 28681880.6667\n",
            "Epoch 36/80\n",
            "11/11 [==============================] - 0s 7ms/step - loss: 22536828.5000 - mse: 22536828.5000\n",
            "Epoch 37/80\n",
            "11/11 [==============================] - 0s 7ms/step - loss: 16399480.7500 - mse: 16399480.7500\n",
            "Epoch 38/80\n",
            "11/11 [==============================] - 0s 8ms/step - loss: 15169293.9167 - mse: 15169293.9167\n",
            "Epoch 39/80\n",
            "11/11 [==============================] - 0s 7ms/step - loss: 12265182.6667 - mse: 12265182.6667\n",
            "Epoch 40/80\n",
            "11/11 [==============================] - 0s 7ms/step - loss: 13999646.0833 - mse: 13999646.0833\n",
            "Epoch 41/80\n",
            "11/11 [==============================] - 0s 7ms/step - loss: 12603829.6667 - mse: 12603829.6667\n",
            "Epoch 42/80\n",
            "11/11 [==============================] - 0s 7ms/step - loss: 18426413.6667 - mse: 18426413.6667\n",
            "Epoch 43/80\n",
            "11/11 [==============================] - 0s 7ms/step - loss: 20436398.0000 - mse: 20436398.0000\n",
            "Epoch 44/80\n",
            "11/11 [==============================] - 0s 7ms/step - loss: 30359445.7500 - mse: 30359445.7500\n",
            "Epoch 45/80\n",
            "11/11 [==============================] - 0s 9ms/step - loss: 120123503.3333 - mse: 120123503.3333\n",
            "Epoch 46/80\n",
            "11/11 [==============================] - 0s 7ms/step - loss: 48775507.6667 - mse: 48775507.6667\n",
            "Epoch 47/80\n",
            "11/11 [==============================] - 0s 8ms/step - loss: 18151423.5833 - mse: 18151423.5833\n",
            "Epoch 48/80\n",
            "11/11 [==============================] - 0s 8ms/step - loss: 16194504.1667 - mse: 16194504.1667\n",
            "Epoch 49/80\n",
            "11/11 [==============================] - 0s 7ms/step - loss: 13944701.5000 - mse: 13944701.5000\n",
            "Epoch 50/80\n",
            "11/11 [==============================] - 0s 7ms/step - loss: 13221402.1667 - mse: 13221402.1667\n",
            "Epoch 51/80\n",
            "11/11 [==============================] - 0s 7ms/step - loss: 36124110.9167 - mse: 36124110.9167\n",
            "Epoch 52/80\n",
            "11/11 [==============================] - 0s 7ms/step - loss: 137054428.6667 - mse: 137054428.6667\n",
            "Epoch 53/80\n",
            "11/11 [==============================] - 0s 8ms/step - loss: 207329512.6667 - mse: 207329512.6667\n",
            "Epoch 54/80\n",
            "11/11 [==============================] - 0s 7ms/step - loss: 121260936.6667 - mse: 121260936.6667\n",
            "Epoch 55/80\n",
            "11/11 [==============================] - 0s 7ms/step - loss: 42587608.1667 - mse: 42587608.1667\n",
            "Epoch 56/80\n",
            "11/11 [==============================] - 0s 9ms/step - loss: 16019847.8333 - mse: 16019847.8333\n",
            "Epoch 57/80\n",
            "11/11 [==============================] - 0s 8ms/step - loss: 15466317.5833 - mse: 15466317.5833\n",
            "Epoch 58/80\n",
            "11/11 [==============================] - 0s 9ms/step - loss: 13134772.6667 - mse: 13134772.6667\n",
            "Epoch 59/80\n",
            "11/11 [==============================] - 0s 8ms/step - loss: 15730394.9167 - mse: 15730394.9167\n",
            "Epoch 60/80\n",
            "11/11 [==============================] - 0s 7ms/step - loss: 14217895.3333 - mse: 14217895.3333\n",
            "Epoch 61/80\n",
            "11/11 [==============================] - 0s 7ms/step - loss: 13129092.9167 - mse: 13129092.9167\n",
            "Epoch 62/80\n",
            "11/11 [==============================] - 0s 7ms/step - loss: 12834094.9167 - mse: 12834094.9167\n",
            "Epoch 63/80\n",
            "11/11 [==============================] - 0s 8ms/step - loss: 12974492.4167 - mse: 12974492.4167\n",
            "Epoch 64/80\n",
            "11/11 [==============================] - 0s 7ms/step - loss: 12945591.0833 - mse: 12945591.0833\n",
            "Epoch 65/80\n",
            "11/11 [==============================] - 0s 7ms/step - loss: 11141073.8333 - mse: 11141073.8333\n",
            "Epoch 66/80\n",
            "11/11 [==============================] - 0s 8ms/step - loss: 22351695.9167 - mse: 22351695.9167\n",
            "Epoch 67/80\n",
            "11/11 [==============================] - 0s 8ms/step - loss: 21769606.6667 - mse: 21769606.6667\n",
            "Epoch 68/80\n",
            "11/11 [==============================] - 0s 7ms/step - loss: 14864280.0833 - mse: 14864280.0833\n",
            "Epoch 69/80\n",
            "11/11 [==============================] - 0s 8ms/step - loss: 14283888.8333 - mse: 14283888.8333\n",
            "Epoch 70/80\n",
            "11/11 [==============================] - 0s 7ms/step - loss: 12748560.0833 - mse: 12748560.0833\n",
            "Epoch 71/80\n",
            "11/11 [==============================] - 0s 8ms/step - loss: 14684458.8333 - mse: 14684458.8333\n",
            "Epoch 72/80\n",
            "11/11 [==============================] - 0s 8ms/step - loss: 11324042.5000 - mse: 11324042.5000\n",
            "Epoch 73/80\n",
            "11/11 [==============================] - 0s 7ms/step - loss: 12751684.5833 - mse: 12751684.5833\n",
            "Epoch 74/80\n",
            "11/11 [==============================] - 0s 7ms/step - loss: 12880803.8333 - mse: 12880803.8333\n",
            "Epoch 75/80\n",
            "11/11 [==============================] - 0s 8ms/step - loss: 12378398.3333 - mse: 12378398.3333\n",
            "Epoch 76/80\n",
            "11/11 [==============================] - 0s 7ms/step - loss: 13321719.8333 - mse: 13321719.8333\n",
            "Epoch 77/80\n",
            "11/11 [==============================] - 0s 8ms/step - loss: 11824749.7500 - mse: 11824749.7500\n",
            "Epoch 78/80\n",
            "11/11 [==============================] - 0s 8ms/step - loss: 12229289.1667 - mse: 12229289.1667\n",
            "Epoch 79/80\n",
            "11/11 [==============================] - 0s 8ms/step - loss: 12965966.5000 - mse: 12965966.5000\n",
            "Epoch 80/80\n",
            "11/11 [==============================] - 0s 7ms/step - loss: 13812438.6667 - mse: 13812438.6667\n"
          ],
          "name": "stdout"
        },
        {
          "output_type": "execute_result",
          "data": {
            "text/plain": [
              "<tensorflow.python.keras.callbacks.History at 0x7eff9bdb1750>"
            ]
          },
          "metadata": {
            "tags": []
          },
          "execution_count": 406
        }
      ]
    },
    {
      "cell_type": "code",
      "metadata": {
        "colab": {
          "base_uri": "https://localhost:8080/"
        },
        "id": "9GpTSJy50trU",
        "outputId": "c5587e04-dda9-4b12-cc9a-4197927378d4"
      },
      "source": [
        "\n",
        "prox=X[100]\n",
        "yprox=X[101][passos-1]\n",
        "yprox=yprox[0]\n",
        "prox = prox.reshape((1,passos,n_features))\n",
        "pred=model.predict(prox)\n",
        "print('Valor predito:{}, Valor real:{}, Dif: {}'.format(pred,yprox,yprox-pred))\n",
        "\n",
        "res1=res1.append({'features':'Casos e numeral 1','predito':pred,'real':yprox,'diferença':pred-yprox},ignore_index=True)\n"
      ],
      "execution_count": 407,
      "outputs": [
        {
          "output_type": "stream",
          "text": [
            "WARNING:tensorflow:5 out of the last 11 calls to <function Model.make_predict_function.<locals>.predict_function at 0x7eff9bc0cef0> triggered tf.function retracing. Tracing is expensive and the excessive number of tracings could be due to (1) creating @tf.function repeatedly in a loop, (2) passing tensors with different shapes, (3) passing Python objects instead of tensors. For (1), please define your @tf.function outside of the loop. For (2), @tf.function has experimental_relax_shapes=True option that relaxes argument shapes that can avoid unnecessary retracing. For (3), please refer to https://www.tensorflow.org/guide/function#controlling_retracing and https://www.tensorflow.org/api_docs/python/tf/function for  more details.\n",
            "Valor predito:[[107688.07]], Valor real:114038, Dif: [[6349.9296875]]\n"
          ],
          "name": "stdout"
        }
      ]
    },
    {
      "cell_type": "code",
      "metadata": {
        "colab": {
          "base_uri": "https://localhost:8080/"
        },
        "id": "_cdHhGHoOKjp",
        "outputId": "06ed4488-5954-4e15-d745-ca19f5a89e0e"
      },
      "source": [
        "yprox-pred\r\n",
        "prox=X[101]\r\n",
        "yprox=X[102][passos-1] \r\n",
        "yprox=yprox[0]\r\n",
        "prox = prox.reshape((1,passos,n_features))\r\n",
        "pred=model.predict(prox)\r\n",
        "print('Valor predito:{}, Valor real:{}, Dif: {}'.format(pred,yprox,yprox-pred))\r\n",
        "\r\n",
        "res2=res2.append({'features':'Casos e numeral 1','predito':pred,'real':yprox,'diferença':pred-yprox},ignore_index=True)\r\n"
      ],
      "execution_count": 408,
      "outputs": [
        {
          "output_type": "stream",
          "text": [
            "Valor predito:[[109646.28]], Valor real:116519, Dif: [[6872.71875]]\n"
          ],
          "name": "stdout"
        }
      ]
    },
    {
      "cell_type": "markdown",
      "metadata": {
        "id": "CwiMYAukaVsi"
      },
      "source": [
        "##Inserir um segundo Parâmetro (Número de novos casos)"
      ]
    },
    {
      "cell_type": "code",
      "metadata": {
        "colab": {
          "base_uri": "https://localhost:8080/"
        },
        "id": "xnkvu2GNbN4g",
        "outputId": "85ae710d-9d70-403d-dab0-5634ded52700"
      },
      "source": [
        "print (novos)\r\n"
      ],
      "execution_count": 409,
      "outputs": [
        {
          "output_type": "stream",
          "text": [
            "90461        9\n",
            "90464        1\n",
            "90468        9\n",
            "90473        5\n",
            "90480       44\n",
            "          ... \n",
            "148536    2298\n",
            "148722    3579\n",
            "148908    2413\n",
            "149094    1817\n",
            "149280    1912\n",
            "Name: Novos Casos, Length: 350, dtype: int64\n"
          ],
          "name": "stdout"
        }
      ]
    },
    {
      "cell_type": "code",
      "metadata": {
        "colab": {
          "base_uri": "https://localhost:8080/"
        },
        "id": "o41IRg1eaVsq",
        "outputId": "dd486553-4f2a-4344-d3c1-b80b5f7537a6"
      },
      "source": [
        "novos = np.array(novos).tolist()\r\n",
        "# Inserindo o numero de novos na lista de casos\r\n",
        "res = [] \r\n",
        "for idx in range(0, len(casos)): \r\n",
        "    res.append(casos[idx]) \r\n",
        "    res.append(novos[idx]) \r\n",
        "  \r\n",
        "# printing result \r\n",
        "print(res)\r\n",
        "\r\n"
      ],
      "execution_count": 410,
      "outputs": [
        {
          "output_type": "stream",
          "text": [
            "[9, 9, 10, 1, 19, 9, 24, 5, 68, 44, 84, 16, 125, 41, 164, 39, 185, 21, 211, 26, 237, 26, 282, 45, 322, 40, 359, 37, 382, 23, 401, 19, 445, 44, 563, 118, 658, 95, 745, 87, 960, 215, 1045, 85, 1188, 143, 1394, 206, 1445, 51, 1558, 113, 1668, 110, 1747, 79, 1935, 188, 2070, 135, 2291, 221, 2412, 121, 2747, 335, 3062, 315, 3306, 244, 3485, 179, 3682, 197, 4116, 434, 4702, 586, 5121, 419, 5667, 546, 6260, 593, 6783, 523, 6985, 202, 7409, 424, 7861, 452, 8000, 139, 8309, 309, 8379, 70, 11040, 2661, 11470, 430, 12310, 840, 13888, 1578, 15134, 1246, 15879, 745, 16692, 813, 17599, 907, 18412, 813, 19156, 744, 21077, 1921, 23059, 1982, 23795, 736, 24255, 460, 26363, 2108, 28112, 1749, 30560, 2448, 31413, 853, 34573, 3160, 35122, 549, 35595, 473, 36185, 590, 37021, 836, 37275, 254, 37821, 546, 38395, 574, 47822, 9427, 48489, 667, 50504, 2015, 54683, 4179, 56056, 1373, 59795, 3739, 62176, 2381, 63575, 1399, 64271, 696, 66218, 1947, 69023, 2805, 71947, 2924, 74692, 2745, 75784, 1092, 76429, 645, 76833, 404, 79853, 3020, 82169, 2316, 85606, 3437, 88132, 2526, 90441, 2309, 92397, 1956, 92866, 469, 94708, 1842, 98055, 3347, 99578, 1523, 103118, 3540, 105270, 2152, 107064, 1794, 107593, 529, 108225, 632, 110483, 2258, 114038, 3555, 116519, 2481, 118311, 1792, 121464, 3153, 121986, 522, 123394, 1408, 126142, 2748, 129598, 3456, 131324, 1726, 134610, 3286, 136001, 1391, 136790, 789, 137234, 444, 139437, 2203, 141832, 2395, 144058, 2226, 146064, 2006, 146972, 908, 147378, 406, 147818, 440, 151072, 3254, 154381, 3309, 156265, 1884, 159953, 3688, 161844, 1891, 162086, 242, 162429, 343, 165703, 3274, 169138, 3435, 171565, 2427, 174662, 3097, 176371, 1709, 176773, 402, 176972, 199, 179976, 3004, 182453, 2477, 184100, 1647, 186563, 2463, 188289, 1726, 188638, 349, 189023, 385, 191540, 2517, 192652, 1112, 195298, 2646, 196667, 1369, 197381, 714, 197691, 310, 198252, 561, 199828, 1576, 201201, 1373, 202422, 1221, 202999, 577, 204931, 1932, 205441, 510, 205875, 434, 207631, 1756, 209363, 1732, 211053, 1690, 213238, 2185, 214094, 856, 214457, 363, 214953, 496, 217295, 2342, 218414, 1119, 220040, 1626, 221828, 1788, 222179, 351, 222412, 233, 222473, 61, 222884, 411, 223863, 979, 224847, 984, 226021, 1174, 227075, 1054, 227449, 374, 227799, 350, 229250, 1451, 230406, 1156, 231510, 1104, 232950, 1440, 233600, 650, 233891, 291, 234120, 229, 235222, 1102, 236591, 1369, 237147, 556, 237857, 710, 238582, 725, 239062, 480, 239465, 403, 240139, 674, 241159, 1020, 242021, 862, 242490, 469, 242820, 330, 243091, 271, 254588, 11497, 256032, 1444, 257409, 1377, 258356, 947, 258742, 386, 259767, 1025, 260154, 387, 260336, 182, 260642, 306, 261504, 862, 262831, 1327, 264172, 1341, 264245, 73, 265102, 857, 265875, 773, 266316, 441, 267721, 1405, 268345, 624, 269255, 910, 270070, 815, 270378, 308, 270867, 489, 271565, 698, 272290, 725, 273194, 904, 273743, 549, 274185, 442, 274341, 156, 274673, 332, 275025, 352, 276012, 987, 277072, 1060, 277252, 180, 278053, 801, 278350, 297, 278986, 636, 279322, 336, 279989, 667, 282471, 2482, 283463, 992, 284208, 745, 285666, 1458, 286674, 1008, 287629, 955, 288494, 865, 289550, 1056, 290484, 934, 291312, 828, 291617, 305, 293249, 1632, 294116, 867, 295275, 1159, 297793, 2518, 298312, 519, 299590, 1278, 300134, 544, 301251, 1117, 301606, 355, 301802, 196, 303168, 1366, 303868, 700, 304443, 575, 304640, 197, 308273, 3633, 309168, 895, 312068, 2900, 313761, 1693, 314674, 913, 314674, 0, 315936, 1262, 316681, 745, 319989, 3308, 320685, 696, 321891, 1206, 322861, 970, 323506, 645, 323941, 435, 324894, 953, 325884, 990, 326519, 635, 327140, 621, 327832, 692, 327865, 33, 327982, 117, 329896, 1914, 330986, 1090, 332907, 1921, 335992, 3085, 336504, 512, 336574, 70, 336763, 189, 336975, 212, 339043, 2068, 340312, 1269, 342201, 1889, 343887, 1686, 344677, 790, 345002, 325, 345235, 233, 347518, 2283, 348912, 1394, 350571, 1659, 351731, 1160, 353979, 2248, 353979, 0, 356117, 2138, 356985, 868, 358404, 1419, 359678, 1274, 360973, 1295, 362351, 1378, 363967, 1616, 365640, 1673, 366789, 1149, 367722, 933, 369245, 1523, 370300, 1055, 370300, 0, 373611, 3311, 375024, 1413, 376628, 1604, 378191, 1563, 379553, 1362, 380993, 1440, 382597, 1604, 382597, 0, 384819, 2222, 387084, 2265, 388049, 965, 390857, 2808, 390857, 0, 393650, 2793, 394906, 1256, 396495, 1589, 408555, 12060, 408555, 0, 405710, -2845, 406973, 1263, 408692, 1719, 410907, 2215, 411904, 997, 414492, 2588, 416790, 2298, 420369, 3579, 422782, 2413, 424599, 1817, 426511, 1912]\n"
          ],
          "name": "stdout"
        }
      ]
    },
    {
      "cell_type": "code",
      "metadata": {
        "id": "RnDp-1E_aVsr"
      },
      "source": [
        "##Transformando em duas dimensões\r\n",
        "res = np.reshape(res, (-1, 2))\r\n",
        "#print(res)"
      ],
      "execution_count": 411,
      "outputs": []
    },
    {
      "cell_type": "code",
      "metadata": {
        "colab": {
          "base_uri": "https://localhost:8080/"
        },
        "id": "tpwDnSrbaVsr",
        "outputId": "2c0d42aa-3627-417f-e13e-c7dfcd2383c9"
      },
      "source": [
        "\r\n",
        "print(len(res))"
      ],
      "execution_count": 412,
      "outputs": [
        {
          "output_type": "stream",
          "text": [
            "350\n"
          ],
          "name": "stdout"
        }
      ]
    },
    {
      "cell_type": "code",
      "metadata": {
        "id": "_KpLD1JvaVsr"
      },
      "source": [
        "def split_sequence(sequence, passos):\n",
        "    X, y = list(), list()\n",
        "    for i in range(len(sequence)):\n",
        "        fim = i + passos\n",
        "        if(fim > len(sequence)-1):\n",
        "            break\n",
        "        seq_x, seq_y = sequence[i:fim], sequence[fim][0]\n",
        "        X.append(seq_x)\n",
        "        y.append(seq_y)\n",
        "    return array(X), array(y)"
      ],
      "execution_count": 413,
      "outputs": []
    },
    {
      "cell_type": "code",
      "metadata": {
        "id": "7WSN8kPjaVsr"
      },
      "source": [
        "X,y = split_sequence(res,passos)"
      ],
      "execution_count": 414,
      "outputs": []
    },
    {
      "cell_type": "code",
      "metadata": {
        "id": "nDYg77DdaVsr"
      },
      "source": [
        "n_features = 2\n",
        "X = X.reshape((X.shape[0], X.shape[1],n_features))\n"
      ],
      "execution_count": 415,
      "outputs": []
    },
    {
      "cell_type": "code",
      "metadata": {
        "collapsed": true,
        "jupyter": {
          "outputs_hidden": true
        },
        "colab": {
          "base_uri": "https://localhost:8080/"
        },
        "id": "OyQY99zFaVss",
        "outputId": "f128fe82-2892-44f5-dbb2-6476b1ca90f1"
      },
      "source": [
        "model.fit(X,y,epochs=epocas)"
      ],
      "execution_count": 416,
      "outputs": [
        {
          "output_type": "stream",
          "text": [
            "Epoch 1/80\n",
            "11/11 [==============================] - 0s 8ms/step - loss: 27508766.0000 - mse: 27508766.0000\n",
            "Epoch 2/80\n",
            "11/11 [==============================] - 0s 7ms/step - loss: 190842416.0000 - mse: 190842416.0000\n",
            "Epoch 3/80\n",
            "11/11 [==============================] - 0s 7ms/step - loss: 226908400.0000 - mse: 226908400.0000\n",
            "Epoch 4/80\n",
            "11/11 [==============================] - 0s 8ms/step - loss: 81188424.0000 - mse: 81188424.0000\n",
            "Epoch 5/80\n",
            "11/11 [==============================] - 0s 8ms/step - loss: 27837300.0000 - mse: 27837300.0000\n",
            "Epoch 6/80\n",
            "11/11 [==============================] - 0s 8ms/step - loss: 18630952.0000 - mse: 18630952.0000\n",
            "Epoch 7/80\n",
            "11/11 [==============================] - 0s 9ms/step - loss: 16719397.0000 - mse: 16719397.0000\n",
            "Epoch 8/80\n",
            "11/11 [==============================] - 0s 8ms/step - loss: 8121006.0000 - mse: 8121006.0000\n",
            "Epoch 9/80\n",
            "11/11 [==============================] - 0s 9ms/step - loss: 6423753.0000 - mse: 6423753.5000\n",
            "Epoch 10/80\n",
            "11/11 [==============================] - 0s 7ms/step - loss: 9322524.0000 - mse: 9322524.0000\n",
            "Epoch 11/80\n",
            "11/11 [==============================] - 0s 8ms/step - loss: 9926195.0000 - mse: 9926195.0000\n",
            "Epoch 12/80\n",
            "11/11 [==============================] - 0s 7ms/step - loss: 10305027.0000 - mse: 10305027.0000\n",
            "Epoch 13/80\n",
            "11/11 [==============================] - 0s 7ms/step - loss: 17866892.0000 - mse: 17866892.0000\n",
            "Epoch 14/80\n",
            "11/11 [==============================] - 0s 7ms/step - loss: 16673947.0000 - mse: 16673947.0000\n",
            "Epoch 15/80\n",
            "11/11 [==============================] - 0s 7ms/step - loss: 8500417.0000 - mse: 8500417.0000\n",
            "Epoch 16/80\n",
            "11/11 [==============================] - 0s 8ms/step - loss: 37028412.0000 - mse: 37028412.0000\n",
            "Epoch 17/80\n",
            "11/11 [==============================] - 0s 8ms/step - loss: 20683544.0000 - mse: 20683544.0000\n",
            "Epoch 18/80\n",
            "11/11 [==============================] - 0s 7ms/step - loss: 11518867.0000 - mse: 11518867.0000\n",
            "Epoch 19/80\n",
            "11/11 [==============================] - 0s 7ms/step - loss: 25504040.0000 - mse: 25504040.0000\n",
            "Epoch 20/80\n",
            "11/11 [==============================] - 0s 7ms/step - loss: 13023401.0000 - mse: 13023401.0000\n",
            "Epoch 21/80\n",
            "11/11 [==============================] - 0s 7ms/step - loss: 8416775.0000 - mse: 8416775.0000\n",
            "Epoch 22/80\n",
            "11/11 [==============================] - 0s 7ms/step - loss: 6669555.5000 - mse: 6669555.5000\n",
            "Epoch 23/80\n",
            "11/11 [==============================] - 0s 7ms/step - loss: 6287721.0000 - mse: 6287721.0000\n",
            "Epoch 24/80\n",
            "11/11 [==============================] - 0s 8ms/step - loss: 5537661.5000 - mse: 5537661.5000\n",
            "Epoch 25/80\n",
            "11/11 [==============================] - 0s 7ms/step - loss: 5423193.5000 - mse: 5423193.5000\n",
            "Epoch 26/80\n",
            "11/11 [==============================] - 0s 7ms/step - loss: 5199707.5000 - mse: 5199707.5000\n",
            "Epoch 27/80\n",
            "11/11 [==============================] - 0s 8ms/step - loss: 5075408.0000 - mse: 5075408.0000\n",
            "Epoch 28/80\n",
            "11/11 [==============================] - 0s 8ms/step - loss: 5100699.0000 - mse: 5100699.0000\n",
            "Epoch 29/80\n",
            "11/11 [==============================] - 0s 7ms/step - loss: 5012587.0000 - mse: 5012587.0000\n",
            "Epoch 30/80\n",
            "11/11 [==============================] - 0s 8ms/step - loss: 7250072.5000 - mse: 7250071.5000\n",
            "Epoch 31/80\n",
            "11/11 [==============================] - 0s 7ms/step - loss: 4852583.5000 - mse: 4852583.5000\n",
            "Epoch 32/80\n",
            "11/11 [==============================] - 0s 7ms/step - loss: 4748269.5000 - mse: 4748269.5000\n",
            "Epoch 33/80\n",
            "11/11 [==============================] - 0s 8ms/step - loss: 4690530.0000 - mse: 4690530.0000\n",
            "Epoch 34/80\n",
            "11/11 [==============================] - 0s 7ms/step - loss: 7440167.0000 - mse: 7440167.0000\n",
            "Epoch 35/80\n",
            "11/11 [==============================] - 0s 7ms/step - loss: 6370442.0000 - mse: 6370442.0000\n",
            "Epoch 36/80\n",
            "11/11 [==============================] - 0s 7ms/step - loss: 5059463.0000 - mse: 5059463.0000\n",
            "Epoch 37/80\n",
            "11/11 [==============================] - 0s 8ms/step - loss: 281401824.0000 - mse: 281401824.0000\n",
            "Epoch 38/80\n",
            "11/11 [==============================] - 0s 7ms/step - loss: 2642180352.0000 - mse: 2642180352.0000\n",
            "Epoch 39/80\n",
            "11/11 [==============================] - 0s 8ms/step - loss: 1127951104.0000 - mse: 1127951104.0000\n",
            "Epoch 40/80\n",
            "11/11 [==============================] - 0s 8ms/step - loss: 5489713664.0000 - mse: 5489713664.0000\n",
            "Epoch 41/80\n",
            "11/11 [==============================] - 0s 8ms/step - loss: 3445816832.0000 - mse: 3445816832.0000\n",
            "Epoch 42/80\n",
            "11/11 [==============================] - 0s 8ms/step - loss: 270064448.0000 - mse: 270064448.0000\n",
            "Epoch 43/80\n",
            "11/11 [==============================] - 0s 8ms/step - loss: 169652112.0000 - mse: 169652112.0000\n",
            "Epoch 44/80\n",
            "11/11 [==============================] - 0s 7ms/step - loss: 61302872.0000 - mse: 61302872.0000\n",
            "Epoch 45/80\n",
            "11/11 [==============================] - 0s 7ms/step - loss: 340531552.0000 - mse: 340531584.0000\n",
            "Epoch 46/80\n",
            "11/11 [==============================] - 0s 7ms/step - loss: 1659915904.0000 - mse: 1659915904.0000\n",
            "Epoch 47/80\n",
            "11/11 [==============================] - 0s 8ms/step - loss: 505095520.0000 - mse: 505095520.0000\n",
            "Epoch 48/80\n",
            "11/11 [==============================] - 0s 7ms/step - loss: 286008928.0000 - mse: 286008928.0000\n",
            "Epoch 49/80\n",
            "11/11 [==============================] - 0s 7ms/step - loss: 53561188.0000 - mse: 53561188.0000\n",
            "Epoch 50/80\n",
            "11/11 [==============================] - 0s 8ms/step - loss: 86607072.0000 - mse: 86607072.0000\n",
            "Epoch 51/80\n",
            "11/11 [==============================] - 0s 8ms/step - loss: 36558964.0000 - mse: 36558964.0000\n",
            "Epoch 52/80\n",
            "11/11 [==============================] - 0s 8ms/step - loss: 21423002.0000 - mse: 21423002.0000\n",
            "Epoch 53/80\n",
            "11/11 [==============================] - 0s 7ms/step - loss: 12547323.0000 - mse: 12547323.0000\n",
            "Epoch 54/80\n",
            "11/11 [==============================] - 0s 7ms/step - loss: 10815991.0000 - mse: 10815991.0000\n",
            "Epoch 55/80\n",
            "11/11 [==============================] - 0s 7ms/step - loss: 16831740.0000 - mse: 16831740.0000\n",
            "Epoch 56/80\n",
            "11/11 [==============================] - 0s 7ms/step - loss: 47873028.0000 - mse: 47873028.0000\n",
            "Epoch 57/80\n",
            "11/11 [==============================] - 0s 7ms/step - loss: 23801800.0000 - mse: 23801800.0000\n",
            "Epoch 58/80\n",
            "11/11 [==============================] - 0s 7ms/step - loss: 10400255.0000 - mse: 10400255.0000\n",
            "Epoch 59/80\n",
            "11/11 [==============================] - 0s 7ms/step - loss: 6970285.0000 - mse: 6970285.0000\n",
            "Epoch 60/80\n",
            "11/11 [==============================] - 0s 7ms/step - loss: 5818968.0000 - mse: 5818968.0000\n",
            "Epoch 61/80\n",
            "11/11 [==============================] - 0s 7ms/step - loss: 5697154.0000 - mse: 5697154.0000\n",
            "Epoch 62/80\n",
            "11/11 [==============================] - 0s 9ms/step - loss: 5804482.5000 - mse: 5804482.5000\n",
            "Epoch 63/80\n",
            "11/11 [==============================] - 0s 7ms/step - loss: 5756249.0000 - mse: 5756249.5000\n",
            "Epoch 64/80\n",
            "11/11 [==============================] - 0s 7ms/step - loss: 5678464.5000 - mse: 5678464.5000\n",
            "Epoch 65/80\n",
            "11/11 [==============================] - 0s 7ms/step - loss: 8383319.5000 - mse: 8383319.5000\n",
            "Epoch 66/80\n",
            "11/11 [==============================] - 0s 8ms/step - loss: 6715745.0000 - mse: 6715745.0000\n",
            "Epoch 67/80\n",
            "11/11 [==============================] - 0s 7ms/step - loss: 5910168.5000 - mse: 5910168.5000\n",
            "Epoch 68/80\n",
            "11/11 [==============================] - 0s 7ms/step - loss: 5868878.5000 - mse: 5868878.5000\n",
            "Epoch 69/80\n",
            "11/11 [==============================] - 0s 7ms/step - loss: 5492537.0000 - mse: 5492537.0000\n",
            "Epoch 70/80\n",
            "11/11 [==============================] - 0s 8ms/step - loss: 5548548.5000 - mse: 5548548.5000\n",
            "Epoch 71/80\n",
            "11/11 [==============================] - 0s 7ms/step - loss: 5218974.0000 - mse: 5218974.0000\n",
            "Epoch 72/80\n",
            "11/11 [==============================] - 0s 7ms/step - loss: 5972348.5000 - mse: 5972348.5000\n",
            "Epoch 73/80\n",
            "11/11 [==============================] - 0s 7ms/step - loss: 5853410.0000 - mse: 5853410.0000\n",
            "Epoch 74/80\n",
            "11/11 [==============================] - 0s 7ms/step - loss: 5939178.5000 - mse: 5939178.5000\n",
            "Epoch 75/80\n",
            "11/11 [==============================] - 0s 7ms/step - loss: 25705272.0000 - mse: 25705272.0000\n",
            "Epoch 76/80\n",
            "11/11 [==============================] - 0s 7ms/step - loss: 11203544.0000 - mse: 11203544.0000\n",
            "Epoch 77/80\n",
            "11/11 [==============================] - 0s 8ms/step - loss: 6022695.0000 - mse: 6022695.0000\n",
            "Epoch 78/80\n",
            "11/11 [==============================] - 0s 7ms/step - loss: 4652759.5000 - mse: 4652759.5000\n",
            "Epoch 79/80\n",
            "11/11 [==============================] - 0s 7ms/step - loss: 4125131.5000 - mse: 4125131.5000\n",
            "Epoch 80/80\n",
            "11/11 [==============================] - 0s 8ms/step - loss: 3914448.5000 - mse: 3914448.5000\n"
          ],
          "name": "stdout"
        },
        {
          "output_type": "execute_result",
          "data": {
            "text/plain": [
              "<tensorflow.python.keras.callbacks.History at 0x7eff9505ea90>"
            ]
          },
          "metadata": {
            "tags": []
          },
          "execution_count": 416
        }
      ]
    },
    {
      "cell_type": "code",
      "metadata": {
        "colab": {
          "base_uri": "https://localhost:8080/",
          "height": 155
        },
        "id": "PgMHoiYfaVss",
        "outputId": "8e28378d-4b7e-47ee-8de8-bbfff1c21f87"
      },
      "source": [
        "\n",
        "prox=X[100]\n",
        "yprox=X[101][passos-1]\n",
        "yprox=yprox[0]\n",
        "prox = prox.reshape((1,passos,n_features))\n",
        "pred=model.predict(prox)\n",
        "print('Valor predito:{}, Valor real:{}, Dif: {}'.format(pred,yprox,yprox-pred))\n",
        "\n",
        "res1=res1.append({'features':'Casos e Novos Casos','predito':pred,'real':yprox,'diferença':pred-yprox},ignore_index=True)\n",
        "res1\n",
        "\n"
      ],
      "execution_count": 417,
      "outputs": [
        {
          "output_type": "stream",
          "text": [
            "Valor predito:[[110761.68]], Valor real:114038, Dif: [[3276.3203125]]\n"
          ],
          "name": "stdout"
        },
        {
          "output_type": "execute_result",
          "data": {
            "text/html": [
              "<div>\n",
              "<style scoped>\n",
              "    .dataframe tbody tr th:only-of-type {\n",
              "        vertical-align: middle;\n",
              "    }\n",
              "\n",
              "    .dataframe tbody tr th {\n",
              "        vertical-align: top;\n",
              "    }\n",
              "\n",
              "    .dataframe thead th {\n",
              "        text-align: right;\n",
              "    }\n",
              "</style>\n",
              "<table border=\"1\" class=\"dataframe\">\n",
              "  <thead>\n",
              "    <tr style=\"text-align: right;\">\n",
              "      <th></th>\n",
              "      <th>features</th>\n",
              "      <th>predito</th>\n",
              "      <th>real</th>\n",
              "      <th>diferença</th>\n",
              "    </tr>\n",
              "  </thead>\n",
              "  <tbody>\n",
              "    <tr>\n",
              "      <th>0</th>\n",
              "      <td>Casos</td>\n",
              "      <td>[[106783.34]]</td>\n",
              "      <td>114038</td>\n",
              "      <td>[[-7254.65625]]</td>\n",
              "    </tr>\n",
              "    <tr>\n",
              "      <th>1</th>\n",
              "      <td>Casos e numeral 1</td>\n",
              "      <td>[[107688.07]]</td>\n",
              "      <td>114038</td>\n",
              "      <td>[[-6349.9296875]]</td>\n",
              "    </tr>\n",
              "    <tr>\n",
              "      <th>2</th>\n",
              "      <td>Casos e Novos Casos</td>\n",
              "      <td>[[110761.68]]</td>\n",
              "      <td>114038</td>\n",
              "      <td>[[-3276.3203125]]</td>\n",
              "    </tr>\n",
              "  </tbody>\n",
              "</table>\n",
              "</div>"
            ],
            "text/plain": [
              "              features        predito    real          diferença\n",
              "0                Casos  [[106783.34]]  114038    [[-7254.65625]]\n",
              "1    Casos e numeral 1  [[107688.07]]  114038  [[-6349.9296875]]\n",
              "2  Casos e Novos Casos  [[110761.68]]  114038  [[-3276.3203125]]"
            ]
          },
          "metadata": {
            "tags": []
          },
          "execution_count": 417
        }
      ]
    },
    {
      "cell_type": "code",
      "metadata": {
        "colab": {
          "base_uri": "https://localhost:8080/",
          "height": 155
        },
        "id": "lEKPTtOaaVss",
        "outputId": "ae62d727-633c-48eb-f022-219e1dbf5862"
      },
      "source": [
        "yprox-pred\r\n",
        "prox=X[101]\r\n",
        "yprox=X[102][passos-1]\r\n",
        "yprox=yprox[0]\r\n",
        "prox = prox.reshape((1,passos,n_features))\r\n",
        "pred=model.predict(prox)\r\n",
        "print('Valor predito:{}, Valor real:{}, Dif: {}'.format(pred,yprox,yprox-pred))\r\n",
        "\r\n",
        "res2=res2.append({'features':'Casos e Novos Casos','predito':pred,'real':yprox,'diferença':pred-yprox},ignore_index=True)\r\n",
        "res2"
      ],
      "execution_count": 418,
      "outputs": [
        {
          "output_type": "stream",
          "text": [
            "Valor predito:[[114047.055]], Valor real:116519, Dif: [[2471.9453125]]\n"
          ],
          "name": "stdout"
        },
        {
          "output_type": "execute_result",
          "data": {
            "text/html": [
              "<div>\n",
              "<style scoped>\n",
              "    .dataframe tbody tr th:only-of-type {\n",
              "        vertical-align: middle;\n",
              "    }\n",
              "\n",
              "    .dataframe tbody tr th {\n",
              "        vertical-align: top;\n",
              "    }\n",
              "\n",
              "    .dataframe thead th {\n",
              "        text-align: right;\n",
              "    }\n",
              "</style>\n",
              "<table border=\"1\" class=\"dataframe\">\n",
              "  <thead>\n",
              "    <tr style=\"text-align: right;\">\n",
              "      <th></th>\n",
              "      <th>features</th>\n",
              "      <th>predito</th>\n",
              "      <th>real</th>\n",
              "      <th>diferença</th>\n",
              "    </tr>\n",
              "  </thead>\n",
              "  <tbody>\n",
              "    <tr>\n",
              "      <th>0</th>\n",
              "      <td>Caso</td>\n",
              "      <td>[[108828.375]]</td>\n",
              "      <td>116519</td>\n",
              "      <td>[[-7690.625]]</td>\n",
              "    </tr>\n",
              "    <tr>\n",
              "      <th>1</th>\n",
              "      <td>Casos e numeral 1</td>\n",
              "      <td>[[109646.28]]</td>\n",
              "      <td>116519</td>\n",
              "      <td>[[-6872.71875]]</td>\n",
              "    </tr>\n",
              "    <tr>\n",
              "      <th>2</th>\n",
              "      <td>Casos e Novos Casos</td>\n",
              "      <td>[[114047.055]]</td>\n",
              "      <td>116519</td>\n",
              "      <td>[[-2471.9453125]]</td>\n",
              "    </tr>\n",
              "  </tbody>\n",
              "</table>\n",
              "</div>"
            ],
            "text/plain": [
              "              features         predito    real          diferença\n",
              "0                 Caso  [[108828.375]]  116519      [[-7690.625]]\n",
              "1    Casos e numeral 1   [[109646.28]]  116519    [[-6872.71875]]\n",
              "2  Casos e Novos Casos  [[114047.055]]  116519  [[-2471.9453125]]"
            ]
          },
          "metadata": {
            "tags": []
          },
          "execution_count": 418
        }
      ]
    },
    {
      "cell_type": "markdown",
      "metadata": {
        "id": "XhHxAAxeKTyj"
      },
      "source": [
        "###Conclusão - O modelo melhora à media que acrescentamos novas features, como previsto."
      ]
    }
  ]
}