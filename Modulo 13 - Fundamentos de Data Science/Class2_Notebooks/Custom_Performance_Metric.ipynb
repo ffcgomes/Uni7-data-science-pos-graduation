{
  "nbformat": 4,
  "nbformat_minor": 0,
  "metadata": {
    "colab": {
      "name": "Custom Performance Metric.ipynb",
      "provenance": []
    },
    "kernelspec": {
      "name": "python3",
      "display_name": "Python 3"
    }
  },
  "cells": [
    {
      "cell_type": "code",
      "metadata": {
        "id": "BYtUunS523WP"
      },
      "source": [
        "# Load libraries\n",
        "from sklearn.metrics import make_scorer, r2_score\n",
        "from sklearn.model_selection import train_test_split\n",
        "from sklearn.linear_model import Ridge\n",
        "from sklearn.datasets import make_regression"
      ],
      "execution_count": 1,
      "outputs": []
    },
    {
      "cell_type": "code",
      "metadata": {
        "id": "vq9-X6Yv26py"
      },
      "source": [
        "#Create Feature\n",
        "# Generate features matrix and target vector\n",
        "X, y = make_regression(n_samples = 100,\n",
        "                          n_features = 3,\n",
        "                          random_state = 1)\n",
        "\n",
        "# Create training set and test set\n",
        "X_train, X_test, y_train, y_test = train_test_split(X, y, test_size=0.10, random_state=1)"
      ],
      "execution_count": 2,
      "outputs": []
    },
    {
      "cell_type": "code",
      "metadata": {
        "id": "dGOKemPp2-mK"
      },
      "source": [
        "#Train model\n",
        "# Create ridge regression object\n",
        "classifier = Ridge()\n",
        "\n",
        "# Train ridge regression model\n",
        "model = classifier.fit(X_train, y_train)"
      ],
      "execution_count": 3,
      "outputs": []
    },
    {
      "cell_type": "code",
      "metadata": {
        "id": "VYlMLukO3ELD"
      },
      "source": [
        "#Create Custom Performance Metric\n",
        "#For this example we are just calculating the r-squared score, but we can see that any calculation can be used.\n",
        "\n",
        "# Create custom metric\n",
        "def custom_metric(y_test, y_pred):\n",
        "    # Calculate r-squared score\n",
        "    r2 = r2_score(y_test, y_pred)\n",
        "    # Return r-squared score\n",
        "    return r2"
      ],
      "execution_count": 4,
      "outputs": []
    },
    {
      "cell_type": "code",
      "metadata": {
        "id": "mWMATXDh3NQQ",
        "outputId": "125220d2-0504-429c-9ee2-0d48dd15b148",
        "colab": {
          "base_uri": "https://localhost:8080/"
        }
      },
      "source": [
        "#Make Custom Metric A Scorer Object\n",
        "# Make scorer and define that higher scores are better\n",
        "\n",
        "score = make_scorer(custom_metric, greater_is_better=True)\n",
        "#User Scorer To Evaluate Model Performance\n",
        "# Apply custom scorer to ridge regression\n",
        "score(model, X_test, y_test)"
      ],
      "execution_count": 7,
      "outputs": [
        {
          "output_type": "execute_result",
          "data": {
            "text/plain": [
              "0.9997906102882058"
            ]
          },
          "metadata": {
            "tags": []
          },
          "execution_count": 7
        }
      ]
    }
  ]
}