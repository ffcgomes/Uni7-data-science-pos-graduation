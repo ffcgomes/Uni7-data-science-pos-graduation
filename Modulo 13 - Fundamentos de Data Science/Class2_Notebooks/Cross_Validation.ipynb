{
  "nbformat": 4,
  "nbformat_minor": 0,
  "metadata": {
    "colab": {
      "name": "Cross-Validation.ipynb",
      "provenance": []
    },
    "kernelspec": {
      "name": "python3",
      "display_name": "Python 3"
    }
  },
  "cells": [
    {
      "cell_type": "code",
      "metadata": {
        "id": "uVP38HE_0sF3"
      },
      "source": [
        "# Load libraries\n",
        "import numpy as np\n",
        "from sklearn import datasets\n",
        "from sklearn import metrics\n",
        "from sklearn.model_selection import KFold, cross_val_score\n",
        "from sklearn.pipeline import make_pipeline\n",
        "from sklearn.linear_model import LogisticRegression\n",
        "from sklearn.preprocessing import StandardScaler\n",
        "import matplotlib.pyplot as plt"
      ],
      "execution_count": 4,
      "outputs": []
    },
    {
      "cell_type": "code",
      "metadata": {
        "id": "h8f3_vHK0v-H"
      },
      "source": [
        "# Load the digits dataset\n",
        "digits = datasets.load_digits()\n",
        "\n",
        "# Create the features matrix\n",
        "X = digits.data\n",
        "\n",
        "# Create the target vector\n",
        "y = digits.target"
      ],
      "execution_count": 3,
      "outputs": []
    },
    {
      "cell_type": "code",
      "metadata": {
        "id": "GojiNtZM1IiZ"
      },
      "source": [
        ""
      ],
      "execution_count": null,
      "outputs": []
    },
    {
      "cell_type": "markdown",
      "metadata": {
        "id": "WEqfQBj51O4R"
      },
      "source": [
        "#Create Pipiline"
      ]
    },
    {
      "cell_type": "code",
      "metadata": {
        "id": "Z25iElXf03bM"
      },
      "source": [
        "# Create standardizer\n",
        "standardizer = StandardScaler()\n",
        "\n",
        "# Create logistic regression\n",
        "logit = LogisticRegression()\n",
        "\n",
        "# Create a pipeline that standardizes, then runs logistic regression\n",
        "pipeline = make_pipeline(standardizer, logit)"
      ],
      "execution_count": 5,
      "outputs": []
    },
    {
      "cell_type": "code",
      "metadata": {
        "id": "rE3LVi7K1SE7"
      },
      "source": [
        "# Create k-Fold cross-validation\n",
        "kf = KFold(n_splits=10, shuffle=True, random_state=1)"
      ],
      "execution_count": 6,
      "outputs": []
    },
    {
      "cell_type": "code",
      "metadata": {
        "id": "g9W6uaHW1WQl"
      },
      "source": [
        "# Do k-fold cross-validation\n",
        "cv_results = cross_val_score(pipeline, # Pipeline\n",
        "                             X, # Feature matrix\n",
        "                             y, # Target vector\n",
        "                             cv=kf, # Cross-validation technique\n",
        "                             scoring=\"accuracy\", # Loss function\n",
        "                             n_jobs=-1) # Use all CPU scores"
      ],
      "execution_count": 7,
      "outputs": []
    },
    {
      "cell_type": "code",
      "metadata": {
        "id": "KCXDOh4l1YeR",
        "outputId": "e0ed2fbf-e047-430a-8c84-dba0d60273c3",
        "colab": {
          "base_uri": "https://localhost:8080/"
        }
      },
      "source": [
        "# Calculate mean\n",
        "cv_results.mean()"
      ],
      "execution_count": 8,
      "outputs": [
        {
          "output_type": "execute_result",
          "data": {
            "text/plain": [
              "0.9693916821849783"
            ]
          },
          "metadata": {
            "tags": []
          },
          "execution_count": 8
        }
      ]
    },
    {
      "cell_type": "code",
      "metadata": {
        "id": "C0CaalwY1dCy",
        "outputId": "38eea561-a7cb-48ca-8275-f3eda1b376b5",
        "colab": {
          "base_uri": "https://localhost:8080/"
        }
      },
      "source": [
        "cv_results"
      ],
      "execution_count": 9,
      "outputs": [
        {
          "output_type": "execute_result",
          "data": {
            "text/plain": [
              "array([0.97777778, 0.98888889, 0.96111111, 0.94444444, 0.97777778,\n",
              "       0.98333333, 0.95555556, 0.98882682, 0.97765363, 0.93854749])"
            ]
          },
          "metadata": {
            "tags": []
          },
          "execution_count": 9
        }
      ]
    }
  ]
}