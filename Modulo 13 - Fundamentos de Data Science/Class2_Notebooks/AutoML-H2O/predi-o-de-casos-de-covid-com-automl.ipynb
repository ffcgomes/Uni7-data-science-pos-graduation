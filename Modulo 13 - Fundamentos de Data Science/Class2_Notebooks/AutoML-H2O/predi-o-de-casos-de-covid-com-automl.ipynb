{
 "cells": [
  {
   "cell_type": "markdown",
   "metadata": {
    "papermill": {
     "duration": 0.016617,
     "end_time": "2020-11-14T18:33:01.099005",
     "exception": false,
     "start_time": "2020-11-14T18:33:01.082388",
     "status": "completed"
    },
    "tags": []
   },
   "source": [
    "# Predição de Casos de COVID com AutoML"
   ]
  },
  {
   "cell_type": "code",
   "execution_count": 1,
   "metadata": {
    "execution": {
     "iopub.execute_input": "2020-11-14T18:33:01.135976Z",
     "iopub.status.busy": "2020-11-14T18:33:01.135147Z",
     "iopub.status.idle": "2020-11-14T18:33:01.173963Z",
     "shell.execute_reply": "2020-11-14T18:33:01.173212Z"
    },
    "papermill": {
     "duration": 0.059412,
     "end_time": "2020-11-14T18:33:01.174090",
     "exception": false,
     "start_time": "2020-11-14T18:33:01.114678",
     "status": "completed"
    },
    "tags": []
   },
   "outputs": [
    {
     "ename": "FileNotFoundError",
     "evalue": "[Errno 2] No such file or directory: '../input/logocanal/LOGO PNG.png'",
     "output_type": "error",
     "traceback": [
      "\u001b[0;31m---------------------------------------------------------------------------\u001b[0m",
      "\u001b[0;31mFileNotFoundError\u001b[0m                         Traceback (most recent call last)",
      "\u001b[0;32m<ipython-input-1-f1f172b0d001>\u001b[0m in \u001b[0;36m<module>\u001b[0;34m\u001b[0m\n\u001b[1;32m      1\u001b[0m \u001b[0;32mfrom\u001b[0m \u001b[0mPIL\u001b[0m \u001b[0;32mimport\u001b[0m \u001b[0mImage\u001b[0m\u001b[0;34m\u001b[0m\u001b[0;34m\u001b[0m\u001b[0m\n\u001b[0;32m----> 2\u001b[0;31m \u001b[0mpil_im\u001b[0m \u001b[0;34m=\u001b[0m \u001b[0mImage\u001b[0m\u001b[0;34m.\u001b[0m\u001b[0mopen\u001b[0m\u001b[0;34m(\u001b[0m\u001b[0;34m'../input/logocanal/LOGO PNG.png'\u001b[0m\u001b[0;34m)\u001b[0m\u001b[0;34m\u001b[0m\u001b[0;34m\u001b[0m\u001b[0m\n\u001b[0m\u001b[1;32m      3\u001b[0m \u001b[0mpil_im\u001b[0m\u001b[0;34m\u001b[0m\u001b[0;34m\u001b[0m\u001b[0m\n",
      "\u001b[0;32m/opt/conda/lib/python3.7/site-packages/PIL/Image.py\u001b[0m in \u001b[0;36mopen\u001b[0;34m(fp, mode)\u001b[0m\n\u001b[1;32m   2876\u001b[0m \u001b[0;34m\u001b[0m\u001b[0m\n\u001b[1;32m   2877\u001b[0m     \u001b[0;32mif\u001b[0m \u001b[0mfilename\u001b[0m\u001b[0;34m:\u001b[0m\u001b[0;34m\u001b[0m\u001b[0;34m\u001b[0m\u001b[0m\n\u001b[0;32m-> 2878\u001b[0;31m         \u001b[0mfp\u001b[0m \u001b[0;34m=\u001b[0m \u001b[0mbuiltins\u001b[0m\u001b[0;34m.\u001b[0m\u001b[0mopen\u001b[0m\u001b[0;34m(\u001b[0m\u001b[0mfilename\u001b[0m\u001b[0;34m,\u001b[0m \u001b[0;34m\"rb\"\u001b[0m\u001b[0;34m)\u001b[0m\u001b[0;34m\u001b[0m\u001b[0;34m\u001b[0m\u001b[0m\n\u001b[0m\u001b[1;32m   2879\u001b[0m         \u001b[0mexclusive_fp\u001b[0m \u001b[0;34m=\u001b[0m \u001b[0;32mTrue\u001b[0m\u001b[0;34m\u001b[0m\u001b[0;34m\u001b[0m\u001b[0m\n\u001b[1;32m   2880\u001b[0m \u001b[0;34m\u001b[0m\u001b[0m\n",
      "\u001b[0;31mFileNotFoundError\u001b[0m: [Errno 2] No such file or directory: '../input/logocanal/LOGO PNG.png'"
     ]
    }
   ],
   "source": [
    "from PIL import Image\n",
    "pil_im = Image.open('../input/logocanal/LOGO PNG.png')\n",
    "pil_im"
   ]
  },
  {
   "cell_type": "code",
   "execution_count": 2,
   "metadata": {
    "_cell_guid": "b1076dfc-b9ad-4769-8c92-a6c4dae69d19",
    "_uuid": "8f2839f25d086af736a60e9eeb907d3b93b6e0e5",
    "execution": {
     "iopub.execute_input": "2020-11-14T18:33:01.213889Z",
     "iopub.status.busy": "2020-11-14T18:33:01.213089Z",
     "iopub.status.idle": "2020-11-14T18:33:01.219727Z",
     "shell.execute_reply": "2020-11-14T18:33:01.218919Z"
    },
    "papermill": {
     "duration": 0.028825,
     "end_time": "2020-11-14T18:33:01.219855",
     "exception": false,
     "start_time": "2020-11-14T18:33:01.191030",
     "status": "completed"
    },
    "tags": []
   },
   "outputs": [],
   "source": [
    "# This Python 3 environment comes with many helpful analytics libraries installed\n",
    "# It is defined by the kaggle/python Docker image: https://github.com/kaggle/docker-python\n",
    "# For example, here's several helpful packages to load\n",
    "\n",
    "import numpy as np # linear algebra\n",
    "import pandas as pd # data processing, CSV file I/O (e.g. pd.read_csv)\n",
    "\n",
    "# Input data files are available in the read-only \"../input/\" directory\n",
    "# For example, running this (by clicking run or pressing Shift+Enter) will list all files under the input directory\n",
    "\n",
    "import os\n",
    "for dirname, _, filenames in os.walk('/kaggle/input'):\n",
    "    for filename in filenames:\n",
    "        #print(os.path.join(dirname, filename))\n",
    "        pass\n",
    "# You can write up to 5GB to the current directory (/kaggle/working/) that gets preserved as output when you create a version using \"Save & Run All\" \n",
    "# You can also write temporary files to /kaggle/temp/, but they won't be saved outside of the current session"
   ]
  },
  {
   "cell_type": "markdown",
   "metadata": {
    "papermill": {
     "duration": 0.016061,
     "end_time": "2020-11-14T18:33:01.252488",
     "exception": false,
     "start_time": "2020-11-14T18:33:01.236427",
     "status": "completed"
    },
    "tags": []
   },
   "source": [
    "# Lendo os dados"
   ]
  },
  {
   "cell_type": "code",
   "execution_count": 3,
   "metadata": {
    "execution": {
     "iopub.execute_input": "2020-11-14T18:33:01.291733Z",
     "iopub.status.busy": "2020-11-14T18:33:01.290733Z",
     "iopub.status.idle": "2020-11-14T18:33:01.406131Z",
     "shell.execute_reply": "2020-11-14T18:33:01.405337Z"
    },
    "papermill": {
     "duration": 0.137394,
     "end_time": "2020-11-14T18:33:01.406272",
     "exception": false,
     "start_time": "2020-11-14T18:33:01.268878",
     "status": "completed"
    },
    "tags": []
   },
   "outputs": [],
   "source": [
    "import pandas as pd\n",
    "from statistics import mean \n",
    "df=pd.read_csv('/kaggle/input/corona-virus-report/covid_19_clean_complete.csv')"
   ]
  },
  {
   "cell_type": "code",
   "execution_count": null,
   "metadata": {
    "papermill": {
     "duration": 0.016289,
     "end_time": "2020-11-14T18:33:01.439420",
     "exception": false,
     "start_time": "2020-11-14T18:33:01.423131",
     "status": "completed"
    },
    "tags": []
   },
   "outputs": [],
   "source": []
  },
  {
   "cell_type": "markdown",
   "metadata": {
    "papermill": {
     "duration": 0.016227,
     "end_time": "2020-11-14T18:33:01.472359",
     "exception": false,
     "start_time": "2020-11-14T18:33:01.456132",
     "status": "completed"
    },
    "tags": []
   },
   "source": [
    "# Definindo uma função para ler os Dados de X e Y"
   ]
  },
  {
   "cell_type": "code",
   "execution_count": 4,
   "metadata": {
    "execution": {
     "iopub.execute_input": "2020-11-14T18:33:01.520676Z",
     "iopub.status.busy": "2020-11-14T18:33:01.519766Z",
     "iopub.status.idle": "2020-11-14T18:33:02.439898Z",
     "shell.execute_reply": "2020-11-14T18:33:02.439116Z"
    },
    "papermill": {
     "duration": 0.951017,
     "end_time": "2020-11-14T18:33:02.440019",
     "exception": false,
     "start_time": "2020-11-14T18:33:01.489002",
     "status": "completed"
    },
    "tags": []
   },
   "outputs": [],
   "source": [
    "from sklearn.model_selection import TimeSeriesSplit\n",
    "from numpy import array\n",
    "\n",
    "\n",
    "def country_data(country):\n",
    "\n",
    "    tscv = TimeSeriesSplit()\n",
    "\n",
    "    df_country=df[df['Country/Region']==country]\n",
    "    df_country_grouped=df_country.groupby(['Date']).sum()\n",
    "\n",
    "\n",
    "    scores=pd.DataFrame(columns=['Model','R2'])\n",
    "\n",
    "    X_train_list=[]\n",
    "    X_test_list=[]\n",
    "    y_train_list=[]\n",
    "    y_test_list=[]\n",
    "\n",
    "\n",
    "    series=df_country_grouped['Active']\n",
    "    # split a univariate sequence into samples\n",
    "    def split_sequence(sequence, n_steps):\n",
    "        X, y = list(), list()\n",
    "        for i in range(len(sequence)):\n",
    "            # find the end of this pattern\n",
    "            end_ix = i + n_steps\n",
    "            # check if we are beyond the sequence\n",
    "            if end_ix > len(sequence)-1:\n",
    "                break\n",
    "            # gather input and output parts of the pattern\n",
    "            seq_x, seq_y = sequence[i:end_ix], sequence[end_ix]\n",
    "            X.append(seq_x)\n",
    "            y.append(seq_y)\n",
    "        return array(X), array(y)\n",
    "\n",
    "    # choose a number of time steps\n",
    "    n_steps = 25\n",
    "    # split into samples\n",
    "    X, y = split_sequence(series, n_steps)\n",
    "\n",
    "    from sklearn.preprocessing import MinMaxScaler\n",
    "\n",
    "    X=MinMaxScaler().fit_transform(X,y)\n",
    "    \n",
    "    return X,y\n",
    "\n",
    "\n",
    "    "
   ]
  },
  {
   "cell_type": "markdown",
   "metadata": {
    "papermill": {
     "duration": 0.017844,
     "end_time": "2020-11-14T18:33:02.474995",
     "exception": false,
     "start_time": "2020-11-14T18:33:02.457151",
     "status": "completed"
    },
    "tags": []
   },
   "source": [
    "# Separando os dados de X e Y"
   ]
  },
  {
   "cell_type": "code",
   "execution_count": 5,
   "metadata": {
    "execution": {
     "iopub.execute_input": "2020-11-14T18:33:02.525752Z",
     "iopub.status.busy": "2020-11-14T18:33:02.524989Z",
     "iopub.status.idle": "2020-11-14T18:33:02.558011Z",
     "shell.execute_reply": "2020-11-14T18:33:02.557388Z"
    },
    "papermill": {
     "duration": 0.066272,
     "end_time": "2020-11-14T18:33:02.558152",
     "exception": false,
     "start_time": "2020-11-14T18:33:02.491880",
     "status": "completed"
    },
    "tags": []
   },
   "outputs": [],
   "source": [
    "X,y=country_data('Italy')"
   ]
  },
  {
   "cell_type": "markdown",
   "metadata": {
    "papermill": {
     "duration": 0.016744,
     "end_time": "2020-11-14T18:33:02.592050",
     "exception": false,
     "start_time": "2020-11-14T18:33:02.575306",
     "status": "completed"
    },
    "tags": []
   },
   "source": [
    "# Instalando as ferramentas necessárias"
   ]
  },
  {
   "cell_type": "code",
   "execution_count": 6,
   "metadata": {
    "execution": {
     "iopub.execute_input": "2020-11-14T18:33:02.637143Z",
     "iopub.status.busy": "2020-11-14T18:33:02.636333Z",
     "iopub.status.idle": "2020-11-14T18:34:54.865191Z",
     "shell.execute_reply": "2020-11-14T18:34:54.864501Z"
    },
    "papermill": {
     "duration": 112.255975,
     "end_time": "2020-11-14T18:34:54.865329",
     "exception": false,
     "start_time": "2020-11-14T18:33:02.609354",
     "status": "completed"
    },
    "tags": []
   },
   "outputs": [
    {
     "name": "stdout",
     "output_type": "stream",
     "text": [
      "Requirement already satisfied: requests in /opt/conda/lib/python3.7/site-packages (2.23.0)\r\n",
      "Requirement already satisfied: certifi>=2017.4.17 in /opt/conda/lib/python3.7/site-packages (from requests) (2020.6.20)\r\n",
      "Requirement already satisfied: urllib3!=1.25.0,!=1.25.1,<1.26,>=1.21.1 in /opt/conda/lib/python3.7/site-packages (from requests) (1.24.3)\r\n",
      "Requirement already satisfied: idna<3,>=2.5 in /opt/conda/lib/python3.7/site-packages (from requests) (2.9)\r\n",
      "Requirement already satisfied: chardet<4,>=3.0.2 in /opt/conda/lib/python3.7/site-packages (from requests) (3.0.4)\r\n",
      "Requirement already satisfied: tabulate in /opt/conda/lib/python3.7/site-packages (0.8.7)\r\n",
      "Requirement already satisfied: colorama>=0.3.8 in /opt/conda/lib/python3.7/site-packages (0.4.3)\r\n",
      "Requirement already satisfied: future in /opt/conda/lib/python3.7/site-packages (0.18.2)\r\n"
     ]
    }
   ],
   "source": [
    "!pip install requests\n",
    "!pip install tabulate\n",
    "!pip install \"colorama>=0.3.8\"\n",
    "!pip install future"
   ]
  },
  {
   "cell_type": "code",
   "execution_count": 7,
   "metadata": {
    "execution": {
     "iopub.execute_input": "2020-11-14T18:34:54.913672Z",
     "iopub.status.busy": "2020-11-14T18:34:54.912929Z",
     "iopub.status.idle": "2020-11-14T18:35:23.555148Z",
     "shell.execute_reply": "2020-11-14T18:35:23.554495Z"
    },
    "papermill": {
     "duration": 28.669254,
     "end_time": "2020-11-14T18:35:23.555273",
     "exception": false,
     "start_time": "2020-11-14T18:34:54.886019",
     "status": "completed"
    },
    "tags": []
   },
   "outputs": [
    {
     "name": "stdout",
     "output_type": "stream",
     "text": [
      "Looking in links: http://h2o-release.s3.amazonaws.com/h2o/latest_stable_Py.html\r\n",
      "Requirement already satisfied: h2o in /opt/conda/lib/python3.7/site-packages (3.30.0.7)\r\n",
      "Requirement already satisfied: requests in /opt/conda/lib/python3.7/site-packages (from h2o) (2.23.0)\r\n",
      "Requirement already satisfied: colorama>=0.3.8 in /opt/conda/lib/python3.7/site-packages (from h2o) (0.4.3)\r\n",
      "Requirement already satisfied: future in /opt/conda/lib/python3.7/site-packages (from h2o) (0.18.2)\r\n",
      "Requirement already satisfied: tabulate in /opt/conda/lib/python3.7/site-packages (from h2o) (0.8.7)\r\n",
      "Requirement already satisfied: idna<3,>=2.5 in /opt/conda/lib/python3.7/site-packages (from requests->h2o) (2.9)\r\n",
      "Requirement already satisfied: urllib3!=1.25.0,!=1.25.1,<1.26,>=1.21.1 in /opt/conda/lib/python3.7/site-packages (from requests->h2o) (1.24.3)\r\n",
      "Requirement already satisfied: certifi>=2017.4.17 in /opt/conda/lib/python3.7/site-packages (from requests->h2o) (2020.6.20)\r\n",
      "Requirement already satisfied: chardet<4,>=3.0.2 in /opt/conda/lib/python3.7/site-packages (from requests->h2o) (3.0.4)\r\n",
      "\u001b[33mWARNING: The repository located at h2o-release.s3.amazonaws.com is not a trusted or secure host and is being ignored. If this repository is available via HTTPS we recommend you use HTTPS instead, otherwise you may silence this warning and allow it anyway with '--trusted-host h2o-release.s3.amazonaws.com'.\u001b[0m\r\n"
     ]
    }
   ],
   "source": [
    "!pip install -f http://h2o-release.s3.amazonaws.com/h2o/latest_stable_Py.html h2o"
   ]
  },
  {
   "cell_type": "markdown",
   "metadata": {
    "papermill": {
     "duration": 0.025351,
     "end_time": "2020-11-14T18:35:23.606350",
     "exception": false,
     "start_time": "2020-11-14T18:35:23.580999",
     "status": "completed"
    },
    "tags": []
   },
   "source": [
    "## Iniciando Servidor de H2O"
   ]
  },
  {
   "cell_type": "code",
   "execution_count": 8,
   "metadata": {
    "execution": {
     "iopub.execute_input": "2020-11-14T18:35:23.663121Z",
     "iopub.status.busy": "2020-11-14T18:35:23.662347Z",
     "iopub.status.idle": "2020-11-14T18:35:29.317873Z",
     "shell.execute_reply": "2020-11-14T18:35:29.317210Z"
    },
    "papermill": {
     "duration": 5.686207,
     "end_time": "2020-11-14T18:35:29.318000",
     "exception": false,
     "start_time": "2020-11-14T18:35:23.631793",
     "status": "completed"
    },
    "tags": []
   },
   "outputs": [
    {
     "name": "stdout",
     "output_type": "stream",
     "text": [
      "Checking whether there is an H2O instance running at http://localhost:54321 ..... not found.\n",
      "Attempting to start a local H2O server...\n",
      "  Java Version: openjdk version \"11.0.8\" 2020-07-14; OpenJDK Runtime Environment (build 11.0.8+10-post-Ubuntu-0ubuntu118.04.1); OpenJDK 64-Bit Server VM (build 11.0.8+10-post-Ubuntu-0ubuntu118.04.1, mixed mode, sharing)\n",
      "  Starting server from /opt/conda/lib/python3.7/site-packages/h2o/backend/bin/h2o.jar\n",
      "  Ice root: /tmp/tmpjs0qtkyk\n",
      "  JVM stdout: /tmp/tmpjs0qtkyk/h2o_unknownUser_started_from_python.out\n",
      "  JVM stderr: /tmp/tmpjs0qtkyk/h2o_unknownUser_started_from_python.err\n",
      "  Server is running at http://127.0.0.1:54321\n",
      "Connecting to H2O server at http://127.0.0.1:54321 ... successful.\n",
      "Warning: Your H2O cluster version is too old (3 months and 24 days)! Please download and install the latest version from http://h2o.ai/download/\n"
     ]
    },
    {
     "data": {
      "text/html": [
       "<div style=\"overflow:auto\"><table style=\"width:50%\"><tr><td>H2O_cluster_uptime:</td>\n",
       "<td>02 secs</td></tr>\n",
       "<tr><td>H2O_cluster_timezone:</td>\n",
       "<td>Etc/UTC</td></tr>\n",
       "<tr><td>H2O_data_parsing_timezone:</td>\n",
       "<td>UTC</td></tr>\n",
       "<tr><td>H2O_cluster_version:</td>\n",
       "<td>3.30.0.7</td></tr>\n",
       "<tr><td>H2O_cluster_version_age:</td>\n",
       "<td>3 months and 24 days !!!</td></tr>\n",
       "<tr><td>H2O_cluster_name:</td>\n",
       "<td>H2O_from_python_unknownUser_f93xg4</td></tr>\n",
       "<tr><td>H2O_cluster_total_nodes:</td>\n",
       "<td>1</td></tr>\n",
       "<tr><td>H2O_cluster_free_memory:</td>\n",
       "<td>4 Gb</td></tr>\n",
       "<tr><td>H2O_cluster_total_cores:</td>\n",
       "<td>4</td></tr>\n",
       "<tr><td>H2O_cluster_allowed_cores:</td>\n",
       "<td>4</td></tr>\n",
       "<tr><td>H2O_cluster_status:</td>\n",
       "<td>accepting new members, healthy</td></tr>\n",
       "<tr><td>H2O_connection_url:</td>\n",
       "<td>http://127.0.0.1:54321</td></tr>\n",
       "<tr><td>H2O_connection_proxy:</td>\n",
       "<td>{\"http\": null, \"https\": null}</td></tr>\n",
       "<tr><td>H2O_internal_security:</td>\n",
       "<td>False</td></tr>\n",
       "<tr><td>H2O_API_Extensions:</td>\n",
       "<td>Amazon S3, XGBoost, Algos, AutoML, Core V3, TargetEncoder, Core V4</td></tr>\n",
       "<tr><td>Python_version:</td>\n",
       "<td>3.7.6 final</td></tr></table></div>"
      ],
      "text/plain": [
       "--------------------------  ------------------------------------------------------------------\n",
       "H2O_cluster_uptime:         02 secs\n",
       "H2O_cluster_timezone:       Etc/UTC\n",
       "H2O_data_parsing_timezone:  UTC\n",
       "H2O_cluster_version:        3.30.0.7\n",
       "H2O_cluster_version_age:    3 months and 24 days !!!\n",
       "H2O_cluster_name:           H2O_from_python_unknownUser_f93xg4\n",
       "H2O_cluster_total_nodes:    1\n",
       "H2O_cluster_free_memory:    4 Gb\n",
       "H2O_cluster_total_cores:    4\n",
       "H2O_cluster_allowed_cores:  4\n",
       "H2O_cluster_status:         accepting new members, healthy\n",
       "H2O_connection_url:         http://127.0.0.1:54321\n",
       "H2O_connection_proxy:       {\"http\": null, \"https\": null}\n",
       "H2O_internal_security:      False\n",
       "H2O_API_Extensions:         Amazon S3, XGBoost, Algos, AutoML, Core V3, TargetEncoder, Core V4\n",
       "Python_version:             3.7.6 final\n",
       "--------------------------  ------------------------------------------------------------------"
      ]
     },
     "metadata": {},
     "output_type": "display_data"
    }
   ],
   "source": [
    "import h2o\n",
    "h2o.init()"
   ]
  },
  {
   "cell_type": "markdown",
   "metadata": {
    "papermill": {
     "duration": 0.038281,
     "end_time": "2020-11-14T18:35:29.394618",
     "exception": false,
     "start_time": "2020-11-14T18:35:29.356337",
     "status": "completed"
    },
    "tags": []
   },
   "source": [
    "## Treinando e escolhendo melhores Modelos"
   ]
  },
  {
   "cell_type": "code",
   "execution_count": 9,
   "metadata": {
    "execution": {
     "iopub.execute_input": "2020-11-14T18:35:29.484751Z",
     "iopub.status.busy": "2020-11-14T18:35:29.483745Z",
     "iopub.status.idle": "2020-11-14T18:35:49.508668Z",
     "shell.execute_reply": "2020-11-14T18:35:49.507652Z"
    },
    "papermill": {
     "duration": 20.076584,
     "end_time": "2020-11-14T18:35:49.508811",
     "exception": false,
     "start_time": "2020-11-14T18:35:29.432227",
     "status": "completed"
    },
    "tags": []
   },
   "outputs": [
    {
     "name": "stdout",
     "output_type": "stream",
     "text": [
      "Parse progress: |█████████████████████████████████████████████████████████| 100%\n",
      "AutoML progress: |████████████████████████████████████████████████████████| 100%\n"
     ]
    }
   ],
   "source": [
    "X=pd.DataFrame(X)\n",
    "X['target']=y\n",
    "data = h2o.H2OFrame(X)\n",
    "\n",
    "splits = data.split_frame(ratios=[0.7, 0.15], seed=1)  \n",
    "\n",
    "train = splits[0]\n",
    "valid = splits[1]\n",
    "test = splits[2]\n",
    "\n",
    "y_ = 'target'\n",
    "x = list(data.columns)\n",
    "\n",
    "x.remove(y_)  \n",
    "from h2o.automl import H2OAutoML\n",
    "\n",
    "aml = H2OAutoML(max_models=5, seed=1)\n",
    "aml.train(x=x, y=y_, training_frame=train)\n"
   ]
  },
  {
   "cell_type": "markdown",
   "metadata": {
    "papermill": {
     "duration": 0.042667,
     "end_time": "2020-11-14T18:35:49.594672",
     "exception": false,
     "start_time": "2020-11-14T18:35:49.552005",
     "status": "completed"
    },
    "tags": []
   },
   "source": [
    "# Listando melhores modelos"
   ]
  },
  {
   "cell_type": "code",
   "execution_count": 10,
   "metadata": {
    "execution": {
     "iopub.execute_input": "2020-11-14T18:35:49.690857Z",
     "iopub.status.busy": "2020-11-14T18:35:49.689824Z",
     "iopub.status.idle": "2020-11-14T18:35:49.726881Z",
     "shell.execute_reply": "2020-11-14T18:35:49.726151Z"
    },
    "papermill": {
     "duration": 0.089183,
     "end_time": "2020-11-14T18:35:49.727001",
     "exception": false,
     "start_time": "2020-11-14T18:35:49.637818",
     "status": "completed"
    },
    "tags": []
   },
   "outputs": [
    {
     "data": {
      "text/html": [
       "<table>\n",
       "<thead>\n",
       "<tr><th>model_id                                           </th><th style=\"text-align: right;\">  mean_residual_deviance</th><th style=\"text-align: right;\">    rmse</th><th style=\"text-align: right;\">        mse</th><th style=\"text-align: right;\">     mae</th><th style=\"text-align: right;\">     rmsle</th></tr>\n",
       "</thead>\n",
       "<tbody>\n",
       "<tr><td>StackedEnsemble_AllModels_AutoML_20201114_183530   </td><td style=\"text-align: right;\">             5.05245e+06</td><td style=\"text-align: right;\"> 2247.77</td><td style=\"text-align: right;\">5.05245e+06</td><td style=\"text-align: right;\"> 1600.27</td><td style=\"text-align: right;\">  0.899751</td></tr>\n",
       "<tr><td>StackedEnsemble_BestOfFamily_AutoML_20201114_183530</td><td style=\"text-align: right;\">             5.31242e+06</td><td style=\"text-align: right;\"> 2304.87</td><td style=\"text-align: right;\">5.31242e+06</td><td style=\"text-align: right;\"> 1652.71</td><td style=\"text-align: right;\">  0.843406</td></tr>\n",
       "<tr><td>XGBoost_3_AutoML_20201114_183530                   </td><td style=\"text-align: right;\">             5.65635e+06</td><td style=\"text-align: right;\"> 2378.31</td><td style=\"text-align: right;\">5.65635e+06</td><td style=\"text-align: right;\"> 1643.15</td><td style=\"text-align: right;\">nan       </td></tr>\n",
       "<tr><td>DRF_1_AutoML_20201114_183530                       </td><td style=\"text-align: right;\">             5.72225e+06</td><td style=\"text-align: right;\"> 2392.12</td><td style=\"text-align: right;\">5.72225e+06</td><td style=\"text-align: right;\"> 1538.22</td><td style=\"text-align: right;\">  0.547414</td></tr>\n",
       "<tr><td>XGBoost_2_AutoML_20201114_183530                   </td><td style=\"text-align: right;\">             7.22478e+06</td><td style=\"text-align: right;\"> 2687.9 </td><td style=\"text-align: right;\">7.22478e+06</td><td style=\"text-align: right;\"> 1911.31</td><td style=\"text-align: right;\">  1.08521 </td></tr>\n",
       "<tr><td>XGBoost_1_AutoML_20201114_183530                   </td><td style=\"text-align: right;\">             8.44021e+06</td><td style=\"text-align: right;\"> 2905.2 </td><td style=\"text-align: right;\">8.44021e+06</td><td style=\"text-align: right;\"> 1925.18</td><td style=\"text-align: right;\">  0.66    </td></tr>\n",
       "<tr><td>GLM_1_AutoML_20201114_183530                       </td><td style=\"text-align: right;\">             1.25457e+09</td><td style=\"text-align: right;\">35419.9 </td><td style=\"text-align: right;\">1.25457e+09</td><td style=\"text-align: right;\">31304   </td><td style=\"text-align: right;\">  2.10595 </td></tr>\n",
       "</tbody>\n",
       "</table>"
      ]
     },
     "metadata": {},
     "output_type": "display_data"
    },
    {
     "data": {
      "text/plain": []
     },
     "execution_count": 10,
     "metadata": {},
     "output_type": "execute_result"
    }
   ],
   "source": [
    "lb = aml.leaderboard\n",
    "lb.head(rows=lb.nrows)  # Print all rows instead of default (10 rows)\n"
   ]
  },
  {
   "cell_type": "markdown",
   "metadata": {
    "papermill": {
     "duration": 0.043821,
     "end_time": "2020-11-14T18:35:49.816059",
     "exception": false,
     "start_time": "2020-11-14T18:35:49.772238",
     "status": "completed"
    },
    "tags": []
   },
   "source": [
    "# Apresentando o score e o resultado alcançado"
   ]
  },
  {
   "cell_type": "code",
   "execution_count": 11,
   "metadata": {
    "execution": {
     "iopub.execute_input": "2020-11-14T18:35:49.918718Z",
     "iopub.status.busy": "2020-11-14T18:35:49.913692Z",
     "iopub.status.idle": "2020-11-14T18:35:56.173073Z",
     "shell.execute_reply": "2020-11-14T18:35:56.172444Z"
    },
    "papermill": {
     "duration": 6.31302,
     "end_time": "2020-11-14T18:35:56.173234",
     "exception": false,
     "start_time": "2020-11-14T18:35:49.860214",
     "status": "completed"
    },
    "tags": []
   },
   "outputs": [
    {
     "name": "stdout",
     "output_type": "stream",
     "text": [
      "stackedensemble prediction progress: |████████████████████████████████████| 100%\n",
      "[922.8345463526517, 4499.633340380151, 57107.19394183403, 94293.70944891256, 98372.63127682092, 107693.54817772463, 107676.76090711322, 105577.56497274482, 102946.55257182283, 82693.21615749659, 82333.1184272549, 62583.648382354084, 39213.77598401099, 35337.41378213163, 33934.789953028485, 27433.18466309041, 19263.41086388834, 19142.7444638245, 15964.281459555501, 12811.046940242031, 12829.747228941662]\n",
      "[311, 5061, 62013, 94067, 100269, 108257, 108237, 105205, 104657, 81266, 78457, 60960, 39297, 35262, 31710, 26274, 18303, 17638, 15255, 12301, 12565]\n"
     ]
    },
    {
     "data": {
      "image/png": "[encoded data removed]",
      "text/plain": [
       "<Figure size 432x288 with 1 Axes>"
      ]
     },
     "metadata": {
      "needs_background": "light"
     },
     "output_type": "display_data"
    },
    {
     "name": "stdout",
     "output_type": "stream",
     "text": [
      "R2 Score: 0.9979911320630347\n",
      "MSE Score: 2958250.0270406255\n",
      "MAE Score: 1229.8864328624475\n"
     ]
    }
   ],
   "source": [
    "import numpy as np\n",
    "import matplotlib.pyplot as plt\n",
    "from sklearn.metrics import r2_score\n",
    "from sklearn.metrics import mean_squared_error\n",
    "from sklearn.metrics import mean_absolute_error\n",
    "from tensorflow.keras.models import Sequential\n",
    "from tensorflow.keras.layers import LSTM,Input\n",
    "from tensorflow.keras.layers import Dense\n",
    "from tensorflow.keras.models import Model\n",
    "from keras.layers import RepeatVector\n",
    "from keras.layers import TimeDistributed\n",
    "from tensorflow.keras.callbacks import ReduceLROnPlateau\n",
    "from sklearn.model_selection import train_test_split\n",
    "#X_test = np.array(X_test).reshape((X_test.shape[0], X_test.shape[1],1))\n",
    "#     # fit model\n",
    "\n",
    "predictions=aml.predict(test)\n",
    "count=1\n",
    "\n",
    "\n",
    "\n",
    "ypred=list(predictions.as_data_frame()['predict'])\n",
    "print(ypred)\n",
    "y_test=list(test.as_data_frame()['target'])\n",
    "print(y_test)\n",
    "error = mean_squared_error(y_test, ypred)\n",
    "\n",
    "title='H2O Italy :'+str(1)\n",
    "count+=1\n",
    "fig = plt.figure()\n",
    "fig.suptitle(title, fontsize=12)\n",
    "plt.plot(y_test)\n",
    "plt.plot(ypred, color='red')\n",
    "plt.show()\n",
    "r2_score_ = r2_score(y_test, ypred)\n",
    "mse_score=mean_squared_error(y_test, ypred)\n",
    "mae_score=mean_absolute_error(y_test, ypred)\n",
    "\n",
    "\n",
    "print('R2 Score:',r2_score_)\n",
    "print('MSE Score:',mse_score)\n",
    "print('MAE Score:',mae_score)\n",
    "\n",
    "\n",
    "\n"
   ]
  },
  {
   "cell_type": "code",
   "execution_count": null,
   "metadata": {
    "papermill": {
     "duration": 0.052034,
     "end_time": "2020-11-14T18:35:56.278225",
     "exception": false,
     "start_time": "2020-11-14T18:35:56.226191",
     "status": "completed"
    },
    "tags": []
   },
   "outputs": [],
   "source": []
  }
 ],
 "metadata": {
  "kernelspec": {
   "display_name": "Python 3",
   "language": "python",
   "name": "python3"
  },
  "language_info": {
   "codemirror_mode": {
    "name": "ipython",
    "version": 3
   },
   "file_extension": ".py",
   "mimetype": "text/x-python",
   "name": "python",
   "nbconvert_exporter": "python",
   "pygments_lexer": "ipython3",
   "version": "3.7.6"
  },
  "papermill": {
   "duration": 180.88657,
   "end_time": "2020-11-14T18:35:57.395715",
   "environment_variables": {},
   "exception": null,
   "input_path": "__notebook__.ipynb",
   "output_path": "__notebook__.ipynb",
   "parameters": {},
   "start_time": "2020-11-14T18:32:56.509145",
   "version": "2.1.0"
  }
 },
 "nbformat": 4,
 "nbformat_minor": 4
}
