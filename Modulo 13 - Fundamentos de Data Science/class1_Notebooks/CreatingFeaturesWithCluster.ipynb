{
  "nbformat": 4,
  "nbformat_minor": 0,
  "metadata": {
    "colab": {
      "name": "CreatingFeaturesWithCluster.ipynb",
      "provenance": []
    },
    "kernelspec": {
      "name": "python3",
      "display_name": "Python 3"
    }
  },
  "cells": [
    {
      "cell_type": "code",
      "metadata": {
        "id": "UVYA_6OPAv2l"
      },
      "source": [
        "from sklearn.datasets import load_breast_cancer\n",
        "from sklearn.datasets import make_blobs\n",
        "from sklearn.cluster import KMeans\n",
        "import pandas as pd"
      ],
      "execution_count": 1,
      "outputs": []
    },
    {
      "cell_type": "code",
      "metadata": {
        "id": "2MdPmXe1A4JQ"
      },
      "source": [
        "# Make simulated feature matrix\n",
        "X, _ = make_blobs(n_samples = 50,\n",
        "                  n_features = 2,\n",
        "                  centers = 3,\n",
        "                  random_state = 1)"
      ],
      "execution_count": 2,
      "outputs": []
    },
    {
      "cell_type": "code",
      "metadata": {
        "id": "0j0fq9lPBUOg",
        "outputId": "8c3458c2-444f-4c8b-f37c-fa69cf6263dd",
        "colab": {
          "base_uri": "https://localhost:8080/",
          "height": 204
        }
      },
      "source": [
        "df = pd.DataFrame(X, columns=['feature_1','feature_2'])\n",
        "df.head()"
      ],
      "execution_count": 3,
      "outputs": [
        {
          "output_type": "execute_result",
          "data": {
            "text/html": [
              "<div>\n",
              "<style scoped>\n",
              "    .dataframe tbody tr th:only-of-type {\n",
              "        vertical-align: middle;\n",
              "    }\n",
              "\n",
              "    .dataframe tbody tr th {\n",
              "        vertical-align: top;\n",
              "    }\n",
              "\n",
              "    .dataframe thead th {\n",
              "        text-align: right;\n",
              "    }\n",
              "</style>\n",
              "<table border=\"1\" class=\"dataframe\">\n",
              "  <thead>\n",
              "    <tr style=\"text-align: right;\">\n",
              "      <th></th>\n",
              "      <th>feature_1</th>\n",
              "      <th>feature_2</th>\n",
              "    </tr>\n",
              "  </thead>\n",
              "  <tbody>\n",
              "    <tr>\n",
              "      <th>0</th>\n",
              "      <td>-9.877554</td>\n",
              "      <td>-3.336145</td>\n",
              "    </tr>\n",
              "    <tr>\n",
              "      <th>1</th>\n",
              "      <td>-7.287210</td>\n",
              "      <td>-8.353986</td>\n",
              "    </tr>\n",
              "    <tr>\n",
              "      <th>2</th>\n",
              "      <td>-6.943061</td>\n",
              "      <td>-7.023744</td>\n",
              "    </tr>\n",
              "    <tr>\n",
              "      <th>3</th>\n",
              "      <td>-7.440167</td>\n",
              "      <td>-8.791959</td>\n",
              "    </tr>\n",
              "    <tr>\n",
              "      <th>4</th>\n",
              "      <td>-6.641388</td>\n",
              "      <td>-8.075888</td>\n",
              "    </tr>\n",
              "  </tbody>\n",
              "</table>\n",
              "</div>"
            ],
            "text/plain": [
              "   feature_1  feature_2\n",
              "0  -9.877554  -3.336145\n",
              "1  -7.287210  -8.353986\n",
              "2  -6.943061  -7.023744\n",
              "3  -7.440167  -8.791959\n",
              "4  -6.641388  -8.075888"
            ]
          },
          "metadata": {
            "tags": []
          },
          "execution_count": 3
        }
      ]
    },
    {
      "cell_type": "code",
      "metadata": {
        "id": "zVVeP3BCBZBl",
        "outputId": "202ccfeb-4569-43ec-bfa3-dcb4f8f0cde2",
        "colab": {
          "base_uri": "https://localhost:8080/"
        }
      },
      "source": [
        "clusterer = KMeans(3, random_state=1)\n",
        "\n",
        "# Fit clusterer\n",
        "clusterer"
      ],
      "execution_count": 4,
      "outputs": [
        {
          "output_type": "execute_result",
          "data": {
            "text/plain": [
              "KMeans(algorithm='auto', copy_x=True, init='k-means++', max_iter=300,\n",
              "       n_clusters=3, n_init=10, n_jobs=None, precompute_distances='auto',\n",
              "       random_state=1, tol=0.0001, verbose=0)"
            ]
          },
          "metadata": {
            "tags": []
          },
          "execution_count": 4
        }
      ]
    },
    {
      "cell_type": "code",
      "metadata": {
        "id": "UEovTEjBB45K",
        "outputId": "11509985-9453-4a4b-bfb8-93675bfda3e6",
        "colab": {
          "base_uri": "https://localhost:8080/"
        }
      },
      "source": [
        "clusterer.fit(X)"
      ],
      "execution_count": 5,
      "outputs": [
        {
          "output_type": "execute_result",
          "data": {
            "text/plain": [
              "KMeans(algorithm='auto', copy_x=True, init='k-means++', max_iter=300,\n",
              "       n_clusters=3, n_init=10, n_jobs=None, precompute_distances='auto',\n",
              "       random_state=1, tol=0.0001, verbose=0)"
            ]
          },
          "metadata": {
            "tags": []
          },
          "execution_count": 5
        }
      ]
    },
    {
      "cell_type": "code",
      "metadata": {
        "id": "w18HX5opB-Qr"
      },
      "source": [
        "df['labels']=clusterer.labels_"
      ],
      "execution_count": 6,
      "outputs": []
    },
    {
      "cell_type": "code",
      "metadata": {
        "id": "oxtVozV3CN5N",
        "outputId": "4ade221d-91a9-485d-bd34-3f9fccb55ea6",
        "colab": {
          "base_uri": "https://localhost:8080/",
          "height": 204
        }
      },
      "source": [
        "df.head()"
      ],
      "execution_count": 7,
      "outputs": [
        {
          "output_type": "execute_result",
          "data": {
            "text/html": [
              "<div>\n",
              "<style scoped>\n",
              "    .dataframe tbody tr th:only-of-type {\n",
              "        vertical-align: middle;\n",
              "    }\n",
              "\n",
              "    .dataframe tbody tr th {\n",
              "        vertical-align: top;\n",
              "    }\n",
              "\n",
              "    .dataframe thead th {\n",
              "        text-align: right;\n",
              "    }\n",
              "</style>\n",
              "<table border=\"1\" class=\"dataframe\">\n",
              "  <thead>\n",
              "    <tr style=\"text-align: right;\">\n",
              "      <th></th>\n",
              "      <th>feature_1</th>\n",
              "      <th>feature_2</th>\n",
              "      <th>labels</th>\n",
              "    </tr>\n",
              "  </thead>\n",
              "  <tbody>\n",
              "    <tr>\n",
              "      <th>0</th>\n",
              "      <td>-9.877554</td>\n",
              "      <td>-3.336145</td>\n",
              "      <td>2</td>\n",
              "    </tr>\n",
              "    <tr>\n",
              "      <th>1</th>\n",
              "      <td>-7.287210</td>\n",
              "      <td>-8.353986</td>\n",
              "      <td>0</td>\n",
              "    </tr>\n",
              "    <tr>\n",
              "      <th>2</th>\n",
              "      <td>-6.943061</td>\n",
              "      <td>-7.023744</td>\n",
              "      <td>0</td>\n",
              "    </tr>\n",
              "    <tr>\n",
              "      <th>3</th>\n",
              "      <td>-7.440167</td>\n",
              "      <td>-8.791959</td>\n",
              "      <td>0</td>\n",
              "    </tr>\n",
              "    <tr>\n",
              "      <th>4</th>\n",
              "      <td>-6.641388</td>\n",
              "      <td>-8.075888</td>\n",
              "      <td>0</td>\n",
              "    </tr>\n",
              "  </tbody>\n",
              "</table>\n",
              "</div>"
            ],
            "text/plain": [
              "   feature_1  feature_2  labels\n",
              "0  -9.877554  -3.336145       2\n",
              "1  -7.287210  -8.353986       0\n",
              "2  -6.943061  -7.023744       0\n",
              "3  -7.440167  -8.791959       0\n",
              "4  -6.641388  -8.075888       0"
            ]
          },
          "metadata": {
            "tags": []
          },
          "execution_count": 7
        }
      ]
    },
    {
      "cell_type": "code",
      "metadata": {
        "id": "nL-bRlIMCRDk",
        "outputId": "c4b31aa7-0601-4803-967b-471738adc9c9",
        "colab": {
          "base_uri": "https://localhost:8080/",
          "height": 368
        }
      },
      "source": [
        "import altair as alt\n",
        "alt.Chart(df).mark_point().encode(\n",
        "x='feature_1',\n",
        "y='feature_2',\n",
        "color='labels')"
      ],
      "execution_count": 8,
      "outputs": [
        {
          "output_type": "execute_result",
          "data": {
            "text/plain": [
              "alt.Chart(...)"
            ],
            "text/html": [
              "\n",
              "<div id=\"altair-viz-cd0f9a50ea9c402eb5c41b8b41c0ce62\"></div>\n",
              "<script type=\"text/javascript\">\n",
              "  (function(spec, embedOpt){\n",
              "    let outputDiv = document.currentScript.previousElementSibling;\n",
              "    if (outputDiv.id !== \"altair-viz-cd0f9a50ea9c402eb5c41b8b41c0ce62\") {\n",
              "      outputDiv = document.getElementById(\"altair-viz-cd0f9a50ea9c402eb5c41b8b41c0ce62\");\n",
              "    }\n",
              "    const paths = {\n",
              "      \"vega\": \"https://cdn.jsdelivr.net/npm//vega@5?noext\",\n",
              "      \"vega-lib\": \"https://cdn.jsdelivr.net/npm//vega-lib?noext\",\n",
              "      \"vega-lite\": \"https://cdn.jsdelivr.net/npm//vega-lite@4.8.1?noext\",\n",
              "      \"vega-embed\": \"https://cdn.jsdelivr.net/npm//vega-embed@6?noext\",\n",
              "    };\n",
              "\n",
              "    function loadScript(lib) {\n",
              "      return new Promise(function(resolve, reject) {\n",
              "        var s = document.createElement('script');\n",
              "        s.src = paths[lib];\n",
              "        s.async = true;\n",
              "        s.onload = () => resolve(paths[lib]);\n",
              "        s.onerror = () => reject(`Error loading script: ${paths[lib]}`);\n",
              "        document.getElementsByTagName(\"head\")[0].appendChild(s);\n",
              "      });\n",
              "    }\n",
              "\n",
              "    function showError(err) {\n",
              "      outputDiv.innerHTML = `<div class=\"error\" style=\"color:red;\">${err}</div>`;\n",
              "      throw err;\n",
              "    }\n",
              "\n",
              "    function displayChart(vegaEmbed) {\n",
              "      vegaEmbed(outputDiv, spec, embedOpt)\n",
              "        .catch(err => showError(`Javascript Error: ${err.message}<br>This usually means there's a typo in your chart specification. See the javascript console for the full traceback.`));\n",
              "    }\n",
              "\n",
              "    if(typeof define === \"function\" && define.amd) {\n",
              "      requirejs.config({paths});\n",
              "      require([\"vega-embed\"], displayChart, err => showError(`Error loading script: ${err.message}`));\n",
              "    } else if (typeof vegaEmbed === \"function\") {\n",
              "      displayChart(vegaEmbed);\n",
              "    } else {\n",
              "      loadScript(\"vega\")\n",
              "        .then(() => loadScript(\"vega-lite\"))\n",
              "        .then(() => loadScript(\"vega-embed\"))\n",
              "        .catch(showError)\n",
              "        .then(() => displayChart(vegaEmbed));\n",
              "    }\n",
              "  })({\"config\": {\"view\": {\"continuousWidth\": 400, \"continuousHeight\": 300}}, \"data\": {\"name\": \"data-a4f7e04206a7178e7031b9db876caf66\"}, \"mark\": \"point\", \"encoding\": {\"color\": {\"type\": \"quantitative\", \"field\": \"labels\"}, \"x\": {\"type\": \"quantitative\", \"field\": \"feature_1\"}, \"y\": {\"type\": \"quantitative\", \"field\": \"feature_2\"}}, \"$schema\": \"https://vega.github.io/schema/vega-lite/v4.8.1.json\", \"datasets\": {\"data-a4f7e04206a7178e7031b9db876caf66\": [{\"feature_1\": -9.877553551171472, \"feature_2\": -3.3361454376557855, \"labels\": 2}, {\"feature_1\": -7.287210326268098, \"feature_2\": -8.353986173554043, \"labels\": 0}, {\"feature_1\": -6.943060912666302, \"feature_2\": -7.0237441967121255, \"labels\": 0}, {\"feature_1\": -7.4401671337478525, \"feature_2\": -8.791958512078267, \"labels\": 0}, {\"feature_1\": -6.641387829593626, \"feature_2\": -8.075888036275485, \"labels\": 0}, {\"feature_1\": -0.794152276623841, \"feature_2\": 2.104951171962879, \"labels\": 1}, {\"feature_1\": -2.760179083161441, \"feature_2\": 5.551213578682775, \"labels\": 1}, {\"feature_1\": -9.946904748877072, \"feature_2\": -4.590344193932558, \"labels\": 2}, {\"feature_1\": -0.5257904636130821, \"feature_2\": 3.3065986015291307, \"labels\": 1}, {\"feature_1\": -1.9819771099620271, \"feature_2\": 4.022435514174746, \"labels\": 1}, {\"feature_1\": -5.865964303756232, \"feature_2\": -7.968071687140101, \"labels\": 0}, {\"feature_1\": -6.834787448293355, \"feature_2\": -7.39121692431202, \"labels\": 0}, {\"feature_1\": -6.749247236416133, \"feature_2\": -10.175429320448048, \"labels\": 0}, {\"feature_1\": -10.752110444649754, \"feature_2\": -2.7004803921299168, \"labels\": 2}, {\"feature_1\": -8.508995989087328, \"feature_2\": -8.657693967570497, \"labels\": 0}, {\"feature_1\": -2.3308060367853387, \"feature_2\": 4.39382526992426, \"labels\": 1}, {\"feature_1\": -0.19745196890354544, \"feature_2\": 2.3463491593455075, \"labels\": 1}, {\"feature_1\": 0.08525185826796045, \"feature_2\": 3.6452829679480585, \"labels\": 1}, {\"feature_1\": -10.20660673702788, \"feature_2\": -3.366725356181007, \"labels\": 2}, {\"feature_1\": -9.158729089778596, \"feature_2\": -3.0222464660596473, \"labels\": 2}, {\"feature_1\": -1.340520809891421, \"feature_2\": 4.157119493365752, \"labels\": 1}, {\"feature_1\": -1.8319881134989553, \"feature_2\": 3.5286314509217895, \"labels\": 1}, {\"feature_1\": -9.806797018985636, \"feature_2\": -1.8530934108843624, \"labels\": 2}, {\"feature_1\": -0.7587039566841077, \"feature_2\": 3.7227620096688283, \"labels\": 1}, {\"feature_1\": -11.140230701675241, \"feature_2\": -4.302691269776082, \"labels\": 2}, {\"feature_1\": -7.81213709711994, \"feature_2\": -5.349844882851342, \"labels\": 0}, {\"feature_1\": -2.351220657673829, \"feature_2\": 4.0097363419871845, \"labels\": 1}, {\"feature_1\": -6.878320792669454, \"feature_2\": -7.743176457415789, \"labels\": 0}, {\"feature_1\": -1.7824501314671677, \"feature_2\": 3.4707204345840927, \"labels\": 1}, {\"feature_1\": -7.371086196286111, \"feature_2\": -7.325253462016799, \"labels\": 0}, {\"feature_1\": -7.7355444699467695, \"feature_2\": -7.775664318303125, \"labels\": 0}, {\"feature_1\": -11.11502285228838, \"feature_2\": -3.7189328495461123, \"labels\": 2}, {\"feature_1\": -9.697542183697275, \"feature_2\": -4.305598393856723, \"labels\": 2}, {\"feature_1\": -10.189548056014717, \"feature_2\": -4.840977511448041, \"labels\": 2}, {\"feature_1\": -2.187731658211975, \"feature_2\": 3.333521246686991, \"labels\": 1}, {\"feature_1\": -2.346732606068119, \"feature_2\": 3.561284227344442, \"labels\": 1}, {\"feature_1\": -1.9274479855745354, \"feature_2\": 4.9368453355813475, \"labels\": 1}, {\"feature_1\": -10.744870797403939, \"feature_2\": -2.2608939463354583, \"labels\": 2}, {\"feature_1\": -6.866582463530969, \"feature_2\": -8.034219458816587, \"labels\": 0}, {\"feature_1\": -7.512010748443737, \"feature_2\": -6.9287203998185465, \"labels\": 0}, {\"feature_1\": -6.904845114209908, \"feature_2\": -7.27705918350782, \"labels\": 0}, {\"feature_1\": -1.6173461592329268, \"feature_2\": 4.9893050825589835, \"labels\": 1}, {\"feature_1\": -0.757969185355724, \"feature_2\": 4.908984207745029, \"labels\": 1}, {\"feature_1\": -9.484782683235093, \"feature_2\": -4.25144138246592, \"labels\": 2}, {\"feature_1\": -7.408735859228814, \"feature_2\": -8.109631247789798, \"labels\": 0}, {\"feature_1\": -9.509194357115604, \"feature_2\": -4.02892026038426, \"labels\": 2}, {\"feature_1\": -8.33791032654323, \"feature_2\": -3.2113043867858693, \"labels\": 2}, {\"feature_1\": -9.712125178398843, \"feature_2\": -3.0682073830924765, \"labels\": 2}, {\"feature_1\": -8.866083116201674, \"feature_2\": -2.433531730941006, \"labels\": 2}, {\"feature_1\": -7.684883027605868, \"feature_2\": -7.455196070551826, \"labels\": 0}]}}, {\"mode\": \"vega-lite\"});\n",
              "</script>"
            ]
          },
          "metadata": {
            "tags": []
          },
          "execution_count": 8
        }
      ]
    },
    {
      "cell_type": "code",
      "metadata": {
        "id": "I2moEiuOCab5"
      },
      "source": [
        ""
      ],
      "execution_count": null,
      "outputs": []
    }
  ]
}