{
  "nbformat": 4,
  "nbformat_minor": 0,
  "metadata": {
    "colab": {
      "name": "AccuracyBryCrossFold.ipynb",
      "provenance": []
    },
    "kernelspec": {
      "name": "python3",
      "display_name": "Python 3"
    }
  },
  "cells": [
    {
      "cell_type": "code",
      "metadata": {
        "id": "2WKr5nEuJiXs",
        "outputId": "89dd31bc-89bd-49e2-e305-4cbd1d7bca43",
        "colab": {
          "base_uri": "https://localhost:8080/"
        }
      },
      "source": [
        "from sklearn.model_selection import cross_val_score\n",
        "from sklearn.linear_model import LogisticRegression\n",
        "from sklearn.datasets import make_classification\n",
        "\n",
        "# Generate features matrix and target vector\n",
        "X, y = make_classification(n_samples = 10000,\n",
        "                           n_features = 3,\n",
        "                           n_informative = 3,\n",
        "                           n_redundant = 0,\n",
        "                           n_classes = 2,\n",
        "                           random_state = 1)\n",
        "\n",
        "# Create logistic regression\n",
        "logit = LogisticRegression()\n",
        "\n",
        "# Cross-validate model using accuracy\n",
        "cross_val_score(logit, X, y, scoring=\"accuracy\")"
      ],
      "execution_count": 1,
      "outputs": [
        {
          "output_type": "execute_result",
          "data": {
            "text/plain": [
              "array([0.9555, 0.95  , 0.9585, 0.9555, 0.956 ])"
            ]
          },
          "metadata": {
            "tags": []
          },
          "execution_count": 1
        }
      ]
    }
  ]
}