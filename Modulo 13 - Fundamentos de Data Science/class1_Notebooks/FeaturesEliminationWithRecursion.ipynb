{
  "nbformat": 4,
  "nbformat_minor": 0,
  "metadata": {
    "colab": {
      "name": "FeaturesEliminationWithRecursion.ipynb",
      "provenance": []
    },
    "kernelspec": {
      "name": "python3",
      "display_name": "Python 3"
    }
  },
  "cells": [
    {
      "cell_type": "code",
      "metadata": {
        "id": "SsODjN4-ITaB",
        "outputId": "e7befb9b-dc14-45ae-b5d0-7dd1a7df9f81",
        "colab": {
          "base_uri": "https://localhost:8080/"
        }
      },
      "source": [
        "from sklearn.datasets import make_regression\n",
        "from sklearn.feature_selection import RFECV\n",
        "from sklearn import datasets, linear_model\n",
        "import warnings\n",
        "\n",
        "# Suppress an annoying but harmless warning\n",
        "warnings.filterwarnings(action=\"ignore\", module=\"scipy\", message=\"^internal gelsd\")\n",
        "# Generate features matrix, target vector, and the true coefficients\n",
        "X, y = make_regression(n_samples = 10000,\n",
        "                       n_features = 100,\n",
        "                       n_informative = 2,\n",
        "                       random_state = 1)\n",
        "y"
      ],
      "execution_count": 2,
      "outputs": [
        {
          "output_type": "execute_result",
          "data": {
            "text/plain": [
              "array([  27.46715058,   23.8681199 ,   27.34686337, ..., -116.75887199,\n",
              "        -24.22656921,   -6.46891152])"
            ]
          },
          "metadata": {
            "tags": []
          },
          "execution_count": 2
        }
      ]
    },
    {
      "cell_type": "code",
      "metadata": {
        "id": "8d3Lo8hqIckO"
      },
      "source": [
        "# Create a linear regression\n",
        "ols = linear_model.LinearRegression()"
      ],
      "execution_count": 4,
      "outputs": []
    },
    {
      "cell_type": "code",
      "metadata": {
        "id": "BBO-zLmuI0K5",
        "outputId": "9738350e-5bcc-444e-84fd-1cfa56da6b5a",
        "colab": {
          "base_uri": "https://localhost:8080/"
        }
      },
      "source": [
        "# Create recursive feature eliminator that scores features by mean squared errors\n",
        "rfecv = RFECV(estimator=ols, step=1, scoring='neg_mean_squared_error')\n",
        "\n",
        "# Fit recursive feature eliminator \n",
        "rfecv.fit(X, y)\n",
        "\n",
        "# Recursive feature elimination\n",
        "rfecv.transform(X)\n"
      ],
      "execution_count": 5,
      "outputs": [
        {
          "output_type": "execute_result",
          "data": {
            "text/plain": [
              "array([[ 0.00850799,  0.7031277 ],\n",
              "       [-1.07500204,  2.56148527],\n",
              "       [ 1.37940721, -1.77039484],\n",
              "       ...,\n",
              "       [-0.80331656, -1.60648007],\n",
              "       [ 0.39508844, -1.34564911],\n",
              "       [-0.55383035,  0.82880112]])"
            ]
          },
          "metadata": {
            "tags": []
          },
          "execution_count": 5
        }
      ]
    },
    {
      "cell_type": "code",
      "metadata": {
        "id": "W-s1IxJwI5i_",
        "outputId": "7268c2da-5ad8-4bec-a18e-c26cf40fcf58",
        "colab": {
          "base_uri": "https://localhost:8080/"
        }
      },
      "source": [
        "rfecv.n_features_"
      ],
      "execution_count": 6,
      "outputs": [
        {
          "output_type": "execute_result",
          "data": {
            "text/plain": [
              "2"
            ]
          },
          "metadata": {
            "tags": []
          },
          "execution_count": 6
        }
      ]
    }
  ]
}