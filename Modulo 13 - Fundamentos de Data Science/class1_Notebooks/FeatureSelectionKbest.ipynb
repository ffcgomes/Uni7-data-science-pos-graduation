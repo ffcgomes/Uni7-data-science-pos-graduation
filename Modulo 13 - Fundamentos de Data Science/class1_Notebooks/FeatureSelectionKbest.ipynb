{
  "nbformat": 4,
  "nbformat_minor": 0,
  "metadata": {
    "colab": {
      "name": "FeatureSelectionKbest.ipynb",
      "provenance": []
    },
    "kernelspec": {
      "name": "python3",
      "display_name": "Python 3"
    }
  },
  "cells": [
    {
      "cell_type": "code",
      "metadata": {
        "id": "LQDBdz67HDK7"
      },
      "source": [
        "from sklearn.datasets import load_iris\n",
        "from sklearn.feature_selection import SelectKBest\n",
        "from sklearn.feature_selection import f_classif\n",
        "# Load iris data\n",
        "iris = load_iris()\n",
        "\n",
        "# Create features and target\n",
        "X = iris.data\n",
        "y = iris.target\n",
        "# Create an SelectKBest object to select features with two best ANOVA F-Values\n",
        "fvalue_selector = SelectKBest(f_classif, k=2)\n",
        "\n",
        "# Apply the SelectKBest object to the features and target\n",
        "X_kbest = fvalue_selector.fit_transform(X, y)\n",
        "X_kbest"
      ],
      "execution_count": null,
      "outputs": []
    },
    {
      "cell_type": "code",
      "metadata": {
        "id": "8gYbdSvWHJ2t"
      },
      "source": [
        ""
      ],
      "execution_count": null,
      "outputs": []
    }
  ]
}