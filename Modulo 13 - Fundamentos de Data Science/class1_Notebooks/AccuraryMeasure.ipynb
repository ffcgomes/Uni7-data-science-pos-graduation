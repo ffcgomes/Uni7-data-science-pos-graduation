{
  "nbformat": 4,
  "nbformat_minor": 0,
  "metadata": {
    "colab": {
      "name": "AccuraryMeasure.ipynb",
      "provenance": []
    },
    "kernelspec": {
      "name": "python3",
      "display_name": "Python 3"
    }
  },
  "cells": [
    {
      "cell_type": "code",
      "metadata": {
        "id": "ccyptBFMJ1el",
        "outputId": "05c7f2b8-2389-4e8d-e808-3f05c3d29c04",
        "colab": {
          "base_uri": "https://localhost:8080/"
        }
      },
      "source": [
        "# Load libraries\n",
        "from sklearn.datasets import load_iris\n",
        "from sklearn.dummy import DummyClassifier\n",
        "from sklearn.model_selection import train_test_split\n",
        "# Load data\n",
        "iris = load_iris()\n",
        "\n",
        "# Create target vector and feature matrix\n",
        "X, y = iris.data, iris.target\n",
        "\n",
        "# Split into training and test set\n",
        "X_train, X_test, y_train, y_test = train_test_split(X, y, random_state=0)\n",
        "\n",
        "# Create dummy classifer\n",
        "dummy = DummyClassifier(strategy='uniform', random_state=1)\n",
        "\n",
        "# \"Train\" model\n",
        "dummy.fit(X_train, y_train)\n",
        "DummyClassifier(random_state=1, strategy='uniform')\n",
        "# Get accuracy score\n",
        "dummy.score(X_test, y_test) "
      ],
      "execution_count": 1,
      "outputs": [
        {
          "output_type": "execute_result",
          "data": {
            "text/plain": [
              "0.42105263157894735"
            ]
          },
          "metadata": {
            "tags": []
          },
          "execution_count": 1
        }
      ]
    },
    {
      "cell_type": "code",
      "metadata": {
        "id": "0E70OcXwJ-dz",
        "outputId": "2ed9ccce-5cf0-4ec3-d2e2-1403771b238a",
        "colab": {
          "base_uri": "https://localhost:8080/"
        }
      },
      "source": [
        "y_pred=dummy.predict(X_test)\n",
        "\n",
        "from sklearn.metrics import accuracy_score\n",
        "accuracy_score(y_test,y_pred)"
      ],
      "execution_count": 2,
      "outputs": [
        {
          "output_type": "execute_result",
          "data": {
            "text/plain": [
              "0.42105263157894735"
            ]
          },
          "metadata": {
            "tags": []
          },
          "execution_count": 2
        }
      ]
    },
    {
      "cell_type": "code",
      "metadata": {
        "id": "0ZGANozwKEs4",
        "outputId": "5df18704-4616-4105-c81d-262ac0d7f1dd",
        "colab": {
          "base_uri": "https://localhost:8080/"
        }
      },
      "source": [
        "from sklearn.neural_network import MLPClassifier\n",
        "\n",
        "clf=MLPClassifier()\n",
        "clf.fit(X_train,y_train)"
      ],
      "execution_count": 3,
      "outputs": [
        {
          "output_type": "stream",
          "text": [
            "/usr/local/lib/python3.6/dist-packages/sklearn/neural_network/_multilayer_perceptron.py:571: ConvergenceWarning: Stochastic Optimizer: Maximum iterations (200) reached and the optimization hasn't converged yet.\n",
            "  % self.max_iter, ConvergenceWarning)\n"
          ],
          "name": "stderr"
        },
        {
          "output_type": "execute_result",
          "data": {
            "text/plain": [
              "MLPClassifier(activation='relu', alpha=0.0001, batch_size='auto', beta_1=0.9,\n",
              "              beta_2=0.999, early_stopping=False, epsilon=1e-08,\n",
              "              hidden_layer_sizes=(100,), learning_rate='constant',\n",
              "              learning_rate_init=0.001, max_fun=15000, max_iter=200,\n",
              "              momentum=0.9, n_iter_no_change=10, nesterovs_momentum=True,\n",
              "              power_t=0.5, random_state=None, shuffle=True, solver='adam',\n",
              "              tol=0.0001, validation_fraction=0.1, verbose=False,\n",
              "              warm_start=False)"
            ]
          },
          "metadata": {
            "tags": []
          },
          "execution_count": 3
        }
      ]
    },
    {
      "cell_type": "code",
      "metadata": {
        "id": "yjcI5Z5RKK6B",
        "outputId": "28f74dcd-596b-45c9-a67a-31384fde731d",
        "colab": {
          "base_uri": "https://localhost:8080/"
        }
      },
      "source": [
        "y_pred=clf.predict(X_test)\n",
        "\n",
        "accuracy_score(y_test,y_pred)"
      ],
      "execution_count": 4,
      "outputs": [
        {
          "output_type": "execute_result",
          "data": {
            "text/plain": [
              "0.9210526315789473"
            ]
          },
          "metadata": {
            "tags": []
          },
          "execution_count": 4
        }
      ]
    },
    {
      "cell_type": "code",
      "metadata": {
        "id": "4LDQzWNZKOyT",
        "outputId": "5f23f7b1-74a2-409c-e4ef-85228dea42e2",
        "colab": {
          "base_uri": "https://localhost:8080/",
          "height": 365
        }
      },
      "source": [
        "import pandas as pd\n",
        "\n",
        "df=pd.DataFrame(iris.data,columns=['col1','col2','col3','col4'])\n",
        "\n",
        "prediction=clf.predict(df)\n",
        "\n",
        "df['prediction']=prediction\n",
        "\n",
        "df['real']=y\n",
        "import altair as alt\n",
        "\n",
        "grafico1=alt.Chart(df).mark_point().encode(\n",
        "    x='col3',\n",
        "    y='col4',\n",
        "    color='prediction'\n",
        "\n",
        ")\n",
        "\n",
        "\n",
        "grafico2=alt.Chart(df).mark_point().encode(\n",
        "    x='col3',\n",
        "    y='col4',\n",
        "    color='real'\n",
        "\n",
        ")\n",
        "\n",
        "alt.hconcat(grafico1,grafico2)"
      ],
      "execution_count": 5,
      "outputs": [
        {
          "output_type": "execute_result",
          "data": {
            "text/plain": [
              "alt.HConcatChart(...)"
            ],
            "text/html": [
              "\n",
              "<div id=\"altair-viz-9c934fcf71c84cdda9708771de9dd9c6\"></div>\n",
              "<script type=\"text/javascript\">\n",
              "  (function(spec, embedOpt){\n",
              "    let outputDiv = document.currentScript.previousElementSibling;\n",
              "    if (outputDiv.id !== \"altair-viz-9c934fcf71c84cdda9708771de9dd9c6\") {\n",
              "      outputDiv = document.getElementById(\"altair-viz-9c934fcf71c84cdda9708771de9dd9c6\");\n",
              "    }\n",
              "    const paths = {\n",
              "      \"vega\": \"https://cdn.jsdelivr.net/npm//vega@5?noext\",\n",
              "      \"vega-lib\": \"https://cdn.jsdelivr.net/npm//vega-lib?noext\",\n",
              "      \"vega-lite\": \"https://cdn.jsdelivr.net/npm//vega-lite@4.8.1?noext\",\n",
              "      \"vega-embed\": \"https://cdn.jsdelivr.net/npm//vega-embed@6?noext\",\n",
              "    };\n",
              "\n",
              "    function loadScript(lib) {\n",
              "      return new Promise(function(resolve, reject) {\n",
              "        var s = document.createElement('script');\n",
              "        s.src = paths[lib];\n",
              "        s.async = true;\n",
              "        s.onload = () => resolve(paths[lib]);\n",
              "        s.onerror = () => reject(`Error loading script: ${paths[lib]}`);\n",
              "        document.getElementsByTagName(\"head\")[0].appendChild(s);\n",
              "      });\n",
              "    }\n",
              "\n",
              "    function showError(err) {\n",
              "      outputDiv.innerHTML = `<div class=\"error\" style=\"color:red;\">${err}</div>`;\n",
              "      throw err;\n",
              "    }\n",
              "\n",
              "    function displayChart(vegaEmbed) {\n",
              "      vegaEmbed(outputDiv, spec, embedOpt)\n",
              "        .catch(err => showError(`Javascript Error: ${err.message}<br>This usually means there's a typo in your chart specification. See the javascript console for the full traceback.`));\n",
              "    }\n",
              "\n",
              "    if(typeof define === \"function\" && define.amd) {\n",
              "      requirejs.config({paths});\n",
              "      require([\"vega-embed\"], displayChart, err => showError(`Error loading script: ${err.message}`));\n",
              "    } else if (typeof vegaEmbed === \"function\") {\n",
              "      displayChart(vegaEmbed);\n",
              "    } else {\n",
              "      loadScript(\"vega\")\n",
              "        .then(() => loadScript(\"vega-lite\"))\n",
              "        .then(() => loadScript(\"vega-embed\"))\n",
              "        .catch(showError)\n",
              "        .then(() => displayChart(vegaEmbed));\n",
              "    }\n",
              "  })({\"config\": {\"view\": {\"continuousWidth\": 400, \"continuousHeight\": 300}}, \"hconcat\": [{\"mark\": \"point\", \"encoding\": {\"color\": {\"type\": \"quantitative\", \"field\": \"prediction\"}, \"x\": {\"type\": \"quantitative\", \"field\": \"col3\"}, \"y\": {\"type\": \"quantitative\", \"field\": \"col4\"}}}, {\"mark\": \"point\", \"encoding\": {\"color\": {\"type\": \"quantitative\", \"field\": \"real\"}, \"x\": {\"type\": \"quantitative\", \"field\": \"col3\"}, \"y\": {\"type\": \"quantitative\", \"field\": \"col4\"}}}], \"data\": {\"name\": \"data-3fae0fcb9650d5e56b984ce1dfc696c6\"}, \"$schema\": \"https://vega.github.io/schema/vega-lite/v4.8.1.json\", \"datasets\": {\"data-3fae0fcb9650d5e56b984ce1dfc696c6\": [{\"col1\": 5.1, \"col2\": 3.5, \"col3\": 1.4, \"col4\": 0.2, \"prediction\": 0, \"real\": 0}, {\"col1\": 4.9, \"col2\": 3.0, \"col3\": 1.4, \"col4\": 0.2, \"prediction\": 0, \"real\": 0}, {\"col1\": 4.7, \"col2\": 3.2, \"col3\": 1.3, \"col4\": 0.2, \"prediction\": 0, \"real\": 0}, {\"col1\": 4.6, \"col2\": 3.1, \"col3\": 1.5, \"col4\": 0.2, \"prediction\": 0, \"real\": 0}, {\"col1\": 5.0, \"col2\": 3.6, \"col3\": 1.4, \"col4\": 0.2, \"prediction\": 0, \"real\": 0}, {\"col1\": 5.4, \"col2\": 3.9, \"col3\": 1.7, \"col4\": 0.4, \"prediction\": 0, \"real\": 0}, {\"col1\": 4.6, \"col2\": 3.4, \"col3\": 1.4, \"col4\": 0.3, \"prediction\": 0, \"real\": 0}, {\"col1\": 5.0, \"col2\": 3.4, \"col3\": 1.5, \"col4\": 0.2, \"prediction\": 0, \"real\": 0}, {\"col1\": 4.4, \"col2\": 2.9, \"col3\": 1.4, \"col4\": 0.2, \"prediction\": 0, \"real\": 0}, {\"col1\": 4.9, \"col2\": 3.1, \"col3\": 1.5, \"col4\": 0.1, \"prediction\": 0, \"real\": 0}, {\"col1\": 5.4, \"col2\": 3.7, \"col3\": 1.5, \"col4\": 0.2, \"prediction\": 0, \"real\": 0}, {\"col1\": 4.8, \"col2\": 3.4, \"col3\": 1.6, \"col4\": 0.2, \"prediction\": 0, \"real\": 0}, {\"col1\": 4.8, \"col2\": 3.0, \"col3\": 1.4, \"col4\": 0.1, \"prediction\": 0, \"real\": 0}, {\"col1\": 4.3, \"col2\": 3.0, \"col3\": 1.1, \"col4\": 0.1, \"prediction\": 0, \"real\": 0}, {\"col1\": 5.8, \"col2\": 4.0, \"col3\": 1.2, \"col4\": 0.2, \"prediction\": 0, \"real\": 0}, {\"col1\": 5.7, \"col2\": 4.4, \"col3\": 1.5, \"col4\": 0.4, \"prediction\": 0, \"real\": 0}, {\"col1\": 5.4, \"col2\": 3.9, \"col3\": 1.3, \"col4\": 0.4, \"prediction\": 0, \"real\": 0}, {\"col1\": 5.1, \"col2\": 3.5, \"col3\": 1.4, \"col4\": 0.3, \"prediction\": 0, \"real\": 0}, {\"col1\": 5.7, \"col2\": 3.8, \"col3\": 1.7, \"col4\": 0.3, \"prediction\": 0, \"real\": 0}, {\"col1\": 5.1, \"col2\": 3.8, \"col3\": 1.5, \"col4\": 0.3, \"prediction\": 0, \"real\": 0}, {\"col1\": 5.4, \"col2\": 3.4, \"col3\": 1.7, \"col4\": 0.2, \"prediction\": 0, \"real\": 0}, {\"col1\": 5.1, \"col2\": 3.7, \"col3\": 1.5, \"col4\": 0.4, \"prediction\": 0, \"real\": 0}, {\"col1\": 4.6, \"col2\": 3.6, \"col3\": 1.0, \"col4\": 0.2, \"prediction\": 0, \"real\": 0}, {\"col1\": 5.1, \"col2\": 3.3, \"col3\": 1.7, \"col4\": 0.5, \"prediction\": 0, \"real\": 0}, {\"col1\": 4.8, \"col2\": 3.4, \"col3\": 1.9, \"col4\": 0.2, \"prediction\": 0, \"real\": 0}, {\"col1\": 5.0, \"col2\": 3.0, \"col3\": 1.6, \"col4\": 0.2, \"prediction\": 0, \"real\": 0}, {\"col1\": 5.0, \"col2\": 3.4, \"col3\": 1.6, \"col4\": 0.4, \"prediction\": 0, \"real\": 0}, {\"col1\": 5.2, \"col2\": 3.5, \"col3\": 1.5, \"col4\": 0.2, \"prediction\": 0, \"real\": 0}, {\"col1\": 5.2, \"col2\": 3.4, \"col3\": 1.4, \"col4\": 0.2, \"prediction\": 0, \"real\": 0}, {\"col1\": 4.7, \"col2\": 3.2, \"col3\": 1.6, \"col4\": 0.2, \"prediction\": 0, \"real\": 0}, {\"col1\": 4.8, \"col2\": 3.1, \"col3\": 1.6, \"col4\": 0.2, \"prediction\": 0, \"real\": 0}, {\"col1\": 5.4, \"col2\": 3.4, \"col3\": 1.5, \"col4\": 0.4, \"prediction\": 0, \"real\": 0}, {\"col1\": 5.2, \"col2\": 4.1, \"col3\": 1.5, \"col4\": 0.1, \"prediction\": 0, \"real\": 0}, {\"col1\": 5.5, \"col2\": 4.2, \"col3\": 1.4, \"col4\": 0.2, \"prediction\": 0, \"real\": 0}, {\"col1\": 4.9, \"col2\": 3.1, \"col3\": 1.5, \"col4\": 0.2, \"prediction\": 0, \"real\": 0}, {\"col1\": 5.0, \"col2\": 3.2, \"col3\": 1.2, \"col4\": 0.2, \"prediction\": 0, \"real\": 0}, {\"col1\": 5.5, \"col2\": 3.5, \"col3\": 1.3, \"col4\": 0.2, \"prediction\": 0, \"real\": 0}, {\"col1\": 4.9, \"col2\": 3.6, \"col3\": 1.4, \"col4\": 0.1, \"prediction\": 0, \"real\": 0}, {\"col1\": 4.4, \"col2\": 3.0, \"col3\": 1.3, \"col4\": 0.2, \"prediction\": 0, \"real\": 0}, {\"col1\": 5.1, \"col2\": 3.4, \"col3\": 1.5, \"col4\": 0.2, \"prediction\": 0, \"real\": 0}, {\"col1\": 5.0, \"col2\": 3.5, \"col3\": 1.3, \"col4\": 0.3, \"prediction\": 0, \"real\": 0}, {\"col1\": 4.5, \"col2\": 2.3, \"col3\": 1.3, \"col4\": 0.3, \"prediction\": 0, \"real\": 0}, {\"col1\": 4.4, \"col2\": 3.2, \"col3\": 1.3, \"col4\": 0.2, \"prediction\": 0, \"real\": 0}, {\"col1\": 5.0, \"col2\": 3.5, \"col3\": 1.6, \"col4\": 0.6, \"prediction\": 0, \"real\": 0}, {\"col1\": 5.1, \"col2\": 3.8, \"col3\": 1.9, \"col4\": 0.4, \"prediction\": 0, \"real\": 0}, {\"col1\": 4.8, \"col2\": 3.0, \"col3\": 1.4, \"col4\": 0.3, \"prediction\": 0, \"real\": 0}, {\"col1\": 5.1, \"col2\": 3.8, \"col3\": 1.6, \"col4\": 0.2, \"prediction\": 0, \"real\": 0}, {\"col1\": 4.6, \"col2\": 3.2, \"col3\": 1.4, \"col4\": 0.2, \"prediction\": 0, \"real\": 0}, {\"col1\": 5.3, \"col2\": 3.7, \"col3\": 1.5, \"col4\": 0.2, \"prediction\": 0, \"real\": 0}, {\"col1\": 5.0, \"col2\": 3.3, \"col3\": 1.4, \"col4\": 0.2, \"prediction\": 0, \"real\": 0}, {\"col1\": 7.0, \"col2\": 3.2, \"col3\": 4.7, \"col4\": 1.4, \"prediction\": 1, \"real\": 1}, {\"col1\": 6.4, \"col2\": 3.2, \"col3\": 4.5, \"col4\": 1.5, \"prediction\": 1, \"real\": 1}, {\"col1\": 6.9, \"col2\": 3.1, \"col3\": 4.9, \"col4\": 1.5, \"prediction\": 1, \"real\": 1}, {\"col1\": 5.5, \"col2\": 2.3, \"col3\": 4.0, \"col4\": 1.3, \"prediction\": 1, \"real\": 1}, {\"col1\": 6.5, \"col2\": 2.8, \"col3\": 4.6, \"col4\": 1.5, \"prediction\": 1, \"real\": 1}, {\"col1\": 5.7, \"col2\": 2.8, \"col3\": 4.5, \"col4\": 1.3, \"prediction\": 1, \"real\": 1}, {\"col1\": 6.3, \"col2\": 3.3, \"col3\": 4.7, \"col4\": 1.6, \"prediction\": 1, \"real\": 1}, {\"col1\": 4.9, \"col2\": 2.4, \"col3\": 3.3, \"col4\": 1.0, \"prediction\": 1, \"real\": 1}, {\"col1\": 6.6, \"col2\": 2.9, \"col3\": 4.6, \"col4\": 1.3, \"prediction\": 1, \"real\": 1}, {\"col1\": 5.2, \"col2\": 2.7, \"col3\": 3.9, \"col4\": 1.4, \"prediction\": 1, \"real\": 1}, {\"col1\": 5.0, \"col2\": 2.0, \"col3\": 3.5, \"col4\": 1.0, \"prediction\": 1, \"real\": 1}, {\"col1\": 5.9, \"col2\": 3.0, \"col3\": 4.2, \"col4\": 1.5, \"prediction\": 1, \"real\": 1}, {\"col1\": 6.0, \"col2\": 2.2, \"col3\": 4.0, \"col4\": 1.0, \"prediction\": 1, \"real\": 1}, {\"col1\": 6.1, \"col2\": 2.9, \"col3\": 4.7, \"col4\": 1.4, \"prediction\": 1, \"real\": 1}, {\"col1\": 5.6, \"col2\": 2.9, \"col3\": 3.6, \"col4\": 1.3, \"prediction\": 1, \"real\": 1}, {\"col1\": 6.7, \"col2\": 3.1, \"col3\": 4.4, \"col4\": 1.4, \"prediction\": 1, \"real\": 1}, {\"col1\": 5.6, \"col2\": 3.0, \"col3\": 4.5, \"col4\": 1.5, \"prediction\": 2, \"real\": 1}, {\"col1\": 5.8, \"col2\": 2.7, \"col3\": 4.1, \"col4\": 1.0, \"prediction\": 1, \"real\": 1}, {\"col1\": 6.2, \"col2\": 2.2, \"col3\": 4.5, \"col4\": 1.5, \"prediction\": 1, \"real\": 1}, {\"col1\": 5.6, \"col2\": 2.5, \"col3\": 3.9, \"col4\": 1.1, \"prediction\": 1, \"real\": 1}, {\"col1\": 5.9, \"col2\": 3.2, \"col3\": 4.8, \"col4\": 1.8, \"prediction\": 2, \"real\": 1}, {\"col1\": 6.1, \"col2\": 2.8, \"col3\": 4.0, \"col4\": 1.3, \"prediction\": 1, \"real\": 1}, {\"col1\": 6.3, \"col2\": 2.5, \"col3\": 4.9, \"col4\": 1.5, \"prediction\": 2, \"real\": 1}, {\"col1\": 6.1, \"col2\": 2.8, \"col3\": 4.7, \"col4\": 1.2, \"prediction\": 1, \"real\": 1}, {\"col1\": 6.4, \"col2\": 2.9, \"col3\": 4.3, \"col4\": 1.3, \"prediction\": 1, \"real\": 1}, {\"col1\": 6.6, \"col2\": 3.0, \"col3\": 4.4, \"col4\": 1.4, \"prediction\": 1, \"real\": 1}, {\"col1\": 6.8, \"col2\": 2.8, \"col3\": 4.8, \"col4\": 1.4, \"prediction\": 1, \"real\": 1}, {\"col1\": 6.7, \"col2\": 3.0, \"col3\": 5.0, \"col4\": 1.7, \"prediction\": 1, \"real\": 1}, {\"col1\": 6.0, \"col2\": 2.9, \"col3\": 4.5, \"col4\": 1.5, \"prediction\": 1, \"real\": 1}, {\"col1\": 5.7, \"col2\": 2.6, \"col3\": 3.5, \"col4\": 1.0, \"prediction\": 1, \"real\": 1}, {\"col1\": 5.5, \"col2\": 2.4, \"col3\": 3.8, \"col4\": 1.1, \"prediction\": 1, \"real\": 1}, {\"col1\": 5.5, \"col2\": 2.4, \"col3\": 3.7, \"col4\": 1.0, \"prediction\": 1, \"real\": 1}, {\"col1\": 5.8, \"col2\": 2.7, \"col3\": 3.9, \"col4\": 1.2, \"prediction\": 1, \"real\": 1}, {\"col1\": 6.0, \"col2\": 2.7, \"col3\": 5.1, \"col4\": 1.6, \"prediction\": 2, \"real\": 1}, {\"col1\": 5.4, \"col2\": 3.0, \"col3\": 4.5, \"col4\": 1.5, \"prediction\": 2, \"real\": 1}, {\"col1\": 6.0, \"col2\": 3.4, \"col3\": 4.5, \"col4\": 1.6, \"prediction\": 1, \"real\": 1}, {\"col1\": 6.7, \"col2\": 3.1, \"col3\": 4.7, \"col4\": 1.5, \"prediction\": 1, \"real\": 1}, {\"col1\": 6.3, \"col2\": 2.3, \"col3\": 4.4, \"col4\": 1.3, \"prediction\": 1, \"real\": 1}, {\"col1\": 5.6, \"col2\": 3.0, \"col3\": 4.1, \"col4\": 1.3, \"prediction\": 1, \"real\": 1}, {\"col1\": 5.5, \"col2\": 2.5, \"col3\": 4.0, \"col4\": 1.3, \"prediction\": 1, \"real\": 1}, {\"col1\": 5.5, \"col2\": 2.6, \"col3\": 4.4, \"col4\": 1.2, \"prediction\": 1, \"real\": 1}, {\"col1\": 6.1, \"col2\": 3.0, \"col3\": 4.6, \"col4\": 1.4, \"prediction\": 1, \"real\": 1}, {\"col1\": 5.8, \"col2\": 2.6, \"col3\": 4.0, \"col4\": 1.2, \"prediction\": 1, \"real\": 1}, {\"col1\": 5.0, \"col2\": 2.3, \"col3\": 3.3, \"col4\": 1.0, \"prediction\": 1, \"real\": 1}, {\"col1\": 5.6, \"col2\": 2.7, \"col3\": 4.2, \"col4\": 1.3, \"prediction\": 1, \"real\": 1}, {\"col1\": 5.7, \"col2\": 3.0, \"col3\": 4.2, \"col4\": 1.2, \"prediction\": 1, \"real\": 1}, {\"col1\": 5.7, \"col2\": 2.9, \"col3\": 4.2, \"col4\": 1.3, \"prediction\": 1, \"real\": 1}, {\"col1\": 6.2, \"col2\": 2.9, \"col3\": 4.3, \"col4\": 1.3, \"prediction\": 1, \"real\": 1}, {\"col1\": 5.1, \"col2\": 2.5, \"col3\": 3.0, \"col4\": 1.1, \"prediction\": 1, \"real\": 1}, {\"col1\": 5.7, \"col2\": 2.8, \"col3\": 4.1, \"col4\": 1.3, \"prediction\": 1, \"real\": 1}, {\"col1\": 6.3, \"col2\": 3.3, \"col3\": 6.0, \"col4\": 2.5, \"prediction\": 2, \"real\": 2}, {\"col1\": 5.8, \"col2\": 2.7, \"col3\": 5.1, \"col4\": 1.9, \"prediction\": 2, \"real\": 2}, {\"col1\": 7.1, \"col2\": 3.0, \"col3\": 5.9, \"col4\": 2.1, \"prediction\": 2, \"real\": 2}, {\"col1\": 6.3, \"col2\": 2.9, \"col3\": 5.6, \"col4\": 1.8, \"prediction\": 2, \"real\": 2}, {\"col1\": 6.5, \"col2\": 3.0, \"col3\": 5.8, \"col4\": 2.2, \"prediction\": 2, \"real\": 2}, {\"col1\": 7.6, \"col2\": 3.0, \"col3\": 6.6, \"col4\": 2.1, \"prediction\": 2, \"real\": 2}, {\"col1\": 4.9, \"col2\": 2.5, \"col3\": 4.5, \"col4\": 1.7, \"prediction\": 2, \"real\": 2}, {\"col1\": 7.3, \"col2\": 2.9, \"col3\": 6.3, \"col4\": 1.8, \"prediction\": 2, \"real\": 2}, {\"col1\": 6.7, \"col2\": 2.5, \"col3\": 5.8, \"col4\": 1.8, \"prediction\": 2, \"real\": 2}, {\"col1\": 7.2, \"col2\": 3.6, \"col3\": 6.1, \"col4\": 2.5, \"prediction\": 2, \"real\": 2}, {\"col1\": 6.5, \"col2\": 3.2, \"col3\": 5.1, \"col4\": 2.0, \"prediction\": 2, \"real\": 2}, {\"col1\": 6.4, \"col2\": 2.7, \"col3\": 5.3, \"col4\": 1.9, \"prediction\": 2, \"real\": 2}, {\"col1\": 6.8, \"col2\": 3.0, \"col3\": 5.5, \"col4\": 2.1, \"prediction\": 2, \"real\": 2}, {\"col1\": 5.7, \"col2\": 2.5, \"col3\": 5.0, \"col4\": 2.0, \"prediction\": 2, \"real\": 2}, {\"col1\": 5.8, \"col2\": 2.8, \"col3\": 5.1, \"col4\": 2.4, \"prediction\": 2, \"real\": 2}, {\"col1\": 6.4, \"col2\": 3.2, \"col3\": 5.3, \"col4\": 2.3, \"prediction\": 2, \"real\": 2}, {\"col1\": 6.5, \"col2\": 3.0, \"col3\": 5.5, \"col4\": 1.8, \"prediction\": 2, \"real\": 2}, {\"col1\": 7.7, \"col2\": 3.8, \"col3\": 6.7, \"col4\": 2.2, \"prediction\": 2, \"real\": 2}, {\"col1\": 7.7, \"col2\": 2.6, \"col3\": 6.9, \"col4\": 2.3, \"prediction\": 2, \"real\": 2}, {\"col1\": 6.0, \"col2\": 2.2, \"col3\": 5.0, \"col4\": 1.5, \"prediction\": 2, \"real\": 2}, {\"col1\": 6.9, \"col2\": 3.2, \"col3\": 5.7, \"col4\": 2.3, \"prediction\": 2, \"real\": 2}, {\"col1\": 5.6, \"col2\": 2.8, \"col3\": 4.9, \"col4\": 2.0, \"prediction\": 2, \"real\": 2}, {\"col1\": 7.7, \"col2\": 2.8, \"col3\": 6.7, \"col4\": 2.0, \"prediction\": 2, \"real\": 2}, {\"col1\": 6.3, \"col2\": 2.7, \"col3\": 4.9, \"col4\": 1.8, \"prediction\": 2, \"real\": 2}, {\"col1\": 6.7, \"col2\": 3.3, \"col3\": 5.7, \"col4\": 2.1, \"prediction\": 2, \"real\": 2}, {\"col1\": 7.2, \"col2\": 3.2, \"col3\": 6.0, \"col4\": 1.8, \"prediction\": 2, \"real\": 2}, {\"col1\": 6.2, \"col2\": 2.8, \"col3\": 4.8, \"col4\": 1.8, \"prediction\": 2, \"real\": 2}, {\"col1\": 6.1, \"col2\": 3.0, \"col3\": 4.9, \"col4\": 1.8, \"prediction\": 2, \"real\": 2}, {\"col1\": 6.4, \"col2\": 2.8, \"col3\": 5.6, \"col4\": 2.1, \"prediction\": 2, \"real\": 2}, {\"col1\": 7.2, \"col2\": 3.0, \"col3\": 5.8, \"col4\": 1.6, \"prediction\": 2, \"real\": 2}, {\"col1\": 7.4, \"col2\": 2.8, \"col3\": 6.1, \"col4\": 1.9, \"prediction\": 2, \"real\": 2}, {\"col1\": 7.9, \"col2\": 3.8, \"col3\": 6.4, \"col4\": 2.0, \"prediction\": 2, \"real\": 2}, {\"col1\": 6.4, \"col2\": 2.8, \"col3\": 5.6, \"col4\": 2.2, \"prediction\": 2, \"real\": 2}, {\"col1\": 6.3, \"col2\": 2.8, \"col3\": 5.1, \"col4\": 1.5, \"prediction\": 2, \"real\": 2}, {\"col1\": 6.1, \"col2\": 2.6, \"col3\": 5.6, \"col4\": 1.4, \"prediction\": 2, \"real\": 2}, {\"col1\": 7.7, \"col2\": 3.0, \"col3\": 6.1, \"col4\": 2.3, \"prediction\": 2, \"real\": 2}, {\"col1\": 6.3, \"col2\": 3.4, \"col3\": 5.6, \"col4\": 2.4, \"prediction\": 2, \"real\": 2}, {\"col1\": 6.4, \"col2\": 3.1, \"col3\": 5.5, \"col4\": 1.8, \"prediction\": 2, \"real\": 2}, {\"col1\": 6.0, \"col2\": 3.0, \"col3\": 4.8, \"col4\": 1.8, \"prediction\": 2, \"real\": 2}, {\"col1\": 6.9, \"col2\": 3.1, \"col3\": 5.4, \"col4\": 2.1, \"prediction\": 2, \"real\": 2}, {\"col1\": 6.7, \"col2\": 3.1, \"col3\": 5.6, \"col4\": 2.4, \"prediction\": 2, \"real\": 2}, {\"col1\": 6.9, \"col2\": 3.1, \"col3\": 5.1, \"col4\": 2.3, \"prediction\": 2, \"real\": 2}, {\"col1\": 5.8, \"col2\": 2.7, \"col3\": 5.1, \"col4\": 1.9, \"prediction\": 2, \"real\": 2}, {\"col1\": 6.8, \"col2\": 3.2, \"col3\": 5.9, \"col4\": 2.3, \"prediction\": 2, \"real\": 2}, {\"col1\": 6.7, \"col2\": 3.3, \"col3\": 5.7, \"col4\": 2.5, \"prediction\": 2, \"real\": 2}, {\"col1\": 6.7, \"col2\": 3.0, \"col3\": 5.2, \"col4\": 2.3, \"prediction\": 2, \"real\": 2}, {\"col1\": 6.3, \"col2\": 2.5, \"col3\": 5.0, \"col4\": 1.9, \"prediction\": 2, \"real\": 2}, {\"col1\": 6.5, \"col2\": 3.0, \"col3\": 5.2, \"col4\": 2.0, \"prediction\": 2, \"real\": 2}, {\"col1\": 6.2, \"col2\": 3.4, \"col3\": 5.4, \"col4\": 2.3, \"prediction\": 2, \"real\": 2}, {\"col1\": 5.9, \"col2\": 3.0, \"col3\": 5.1, \"col4\": 1.8, \"prediction\": 2, \"real\": 2}]}}, {\"mode\": \"vega-lite\"});\n",
              "</script>"
            ]
          },
          "metadata": {
            "tags": []
          },
          "execution_count": 5
        }
      ]
    }
  ]
}